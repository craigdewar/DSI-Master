{
 "cells": [
  {
   "cell_type": "markdown",
   "metadata": {},
   "source": [
    "# DBSCAN"
   ]
  },
  {
   "cell_type": "code",
   "execution_count": 158,
   "metadata": {
    "collapsed": false
   },
   "outputs": [],
   "source": [
    "import pandas as pd\n",
    "import numpy as np\n",
    "from sklearn.cluster import DBSCAN, KMeans\n",
    "from sklearn.preprocessing import StandardScaler\n",
    "from sklearn import datasets, linear_model, metrics\n",
    "import matplotlib.pyplot as plt\n",
    "%matplotlib inline "
   ]
  },
  {
   "cell_type": "markdown",
   "metadata": {},
   "source": [
    "## 1. Load and format the data"
   ]
  },
  {
   "cell_type": "markdown",
   "metadata": {},
   "source": [
    "We're going to load the iris data from the scikit \"datasets\" package"
   ]
  },
  {
   "cell_type": "code",
   "execution_count": 159,
   "metadata": {
    "collapsed": true
   },
   "outputs": [],
   "source": [
    "iris = datasets.load_iris()"
   ]
  },
  {
   "cell_type": "markdown",
   "metadata": {},
   "source": [
    "#### 1.1 Define the variables"
   ]
  },
  {
   "cell_type": "markdown",
   "metadata": {},
   "source": [
    "Define your \"X\" and \"y\" variables for the analysis"
   ]
  },
  {
   "cell_type": "code",
   "execution_count": 160,
   "metadata": {
    "collapsed": false
   },
   "outputs": [],
   "source": [
    "X, y = iris.data, iris.target"
   ]
  },
  {
   "cell_type": "markdown",
   "metadata": {},
   "source": [
    "#### 1.2 Standardize X "
   ]
  },
  {
   "cell_type": "code",
   "execution_count": 161,
   "metadata": {
    "collapsed": true
   },
   "outputs": [],
   "source": [
    "X = StandardScaler().fit_transform(X)"
   ]
  },
  {
   "cell_type": "markdown",
   "metadata": {},
   "source": [
    "## Visualize the Data"
   ]
  },
  {
   "cell_type": "code",
   "execution_count": 162,
   "metadata": {
    "collapsed": false
   },
   "outputs": [],
   "source": [
    "#plt.scatter(X[:,0], X[:,1])"
   ]
  },
  {
   "cell_type": "code",
   "execution_count": 163,
   "metadata": {
    "collapsed": false
   },
   "outputs": [],
   "source": [
    "#plt.scatter(X[:,1], X[:,2])"
   ]
  },
  {
   "cell_type": "code",
   "execution_count": 164,
   "metadata": {
    "collapsed": false
   },
   "outputs": [],
   "source": [
    "#plt.scatter(X[:,2], X[:,3])"
   ]
  },
  {
   "cell_type": "markdown",
   "metadata": {},
   "source": [
    "We can begin to see that there are two definitive clusters "
   ]
  },
  {
   "cell_type": "markdown",
   "metadata": {},
   "source": [
    "## 3. DBSCAN"
   ]
  },
  {
   "cell_type": "markdown",
   "metadata": {},
   "source": [
    "#### 3.1 Setup the DBSCAN from scikit"
   ]
  },
  {
   "cell_type": "markdown",
   "metadata": {},
   "source": [
    "Let's set up the DBSCAN from scikit using an epsilon of .5 and a minimum sample number of 5"
   ]
  },
  {
   "cell_type": "code",
   "execution_count": 165,
   "metadata": {
    "collapsed": true
   },
   "outputs": [],
   "source": [
    "dbscn = DBSCAN(eps = .5, min_samples = 5).fit(X)  "
   ]
  },
  {
   "cell_type": "code",
   "execution_count": 166,
   "metadata": {
    "collapsed": false
   },
   "outputs": [
    {
     "data": {
      "text/plain": [
       "array([  0,   1,   2,   3,   4,   5,   6,   7,   9,  10,  11,  12,  17,\n",
       "        19,  20,  21,  23,  24,  25,  26,  27,  28,  29,  30,  31,  34,\n",
       "        35,  36,  37,  38,  39,  40,  42,  43,  44,  45,  46,  47,  48,\n",
       "        49,  52,  54,  55,  58,  61,  63,  64,  65,  66,  67,  69,  71,\n",
       "        73,  74,  75,  77,  78,  79,  80,  81,  82,  83,  86,  88,  89,\n",
       "        90,  91,  92,  94,  95,  96,  97,  99, 101, 103, 104, 110, 111,\n",
       "       112, 116, 120, 123, 126, 133, 137, 138, 139, 140, 141, 142, 143,\n",
       "       145, 147])"
      ]
     },
     "execution_count": 166,
     "metadata": {},
     "output_type": "execute_result"
    }
   ],
   "source": [
    "dbscn.core_sample_indices_"
   ]
  },
  {
   "cell_type": "markdown",
   "metadata": {},
   "source": [
    "#### 3.2 Labels"
   ]
  },
  {
   "cell_type": "markdown",
   "metadata": {},
   "source": [
    "Next, we'll find the labels calculated by DBSCAN"
   ]
  },
  {
   "cell_type": "code",
   "execution_count": 167,
   "metadata": {
    "collapsed": false
   },
   "outputs": [],
   "source": [
    "labels = dbscn.labels_"
   ]
  },
  {
   "cell_type": "code",
   "execution_count": 168,
   "metadata": {
    "collapsed": false
   },
   "outputs": [
    {
     "data": {
      "text/plain": [
       "array([ 0,  0,  0,  0,  0,  0,  0,  0,  0,  0,  0,  0,  0,  0, -1, -1,  0,\n",
       "        0,  0,  0,  0,  0, -1,  0,  0,  0,  0,  0,  0,  0,  0,  0, -1, -1,\n",
       "        0,  0,  0,  0,  0,  0,  0, -1,  0,  0,  0,  0,  0,  0,  0,  0,  1,\n",
       "        1,  1,  1,  1,  1, -1, -1,  1, -1, -1,  1, -1,  1,  1,  1,  1,  1,\n",
       "       -1,  1,  1,  1, -1,  1,  1,  1,  1,  1,  1,  1,  1,  1,  1,  1,  1,\n",
       "       -1,  1, -1,  1,  1,  1,  1,  1, -1,  1,  1,  1,  1, -1,  1, -1,  1,\n",
       "        1,  1,  1, -1, -1, -1, -1, -1,  1,  1,  1,  1, -1,  1,  1, -1, -1,\n",
       "       -1,  1,  1, -1,  1,  1, -1,  1,  1,  1, -1, -1, -1,  1,  1,  1, -1,\n",
       "       -1,  1,  1,  1,  1,  1,  1,  1,  1,  1,  1,  1, -1,  1])"
      ]
     },
     "execution_count": 168,
     "metadata": {},
     "output_type": "execute_result"
    }
   ],
   "source": [
    "labels"
   ]
  },
  {
   "cell_type": "markdown",
   "metadata": {},
   "source": [
    "**What information can we derive from the lables?**: The negative one labels are assigned to noisy samples "
   ]
  },
  {
   "cell_type": "code",
   "execution_count": 169,
   "metadata": {
    "collapsed": false
   },
   "outputs": [],
   "source": [
    "core_samples = np.zeros_like(labels, dtype = bool)\n",
    "core_samples[dbscn.core_sample_indices_] = True "
   ]
  },
  {
   "cell_type": "code",
   "execution_count": 170,
   "metadata": {
    "collapsed": false
   },
   "outputs": [
    {
     "name": "stdout",
     "output_type": "stream",
     "text": [
      "[ True  True  True  True  True  True  True  True False  True  True  True\n",
      "  True False False False False  True False  True  True  True False  True\n",
      "  True  True  True  True  True  True  True  True False False  True  True\n",
      "  True  True  True  True  True False  True  True  True  True  True  True\n",
      "  True  True False False  True False  True  True False False  True False\n",
      " False  True False  True  True  True  True  True False  True False  True\n",
      " False  True  True  True False  True  True  True  True  True  True  True\n",
      " False False  True False  True  True  True  True  True False  True  True\n",
      "  True  True False  True False  True False  True  True False False False\n",
      " False False  True  True  True False False False  True False False False\n",
      "  True False False  True False False  True False False False False False\n",
      " False  True False False False  True  True  True  True  True  True  True\n",
      " False  True False  True False False]\n"
     ]
    }
   ],
   "source": [
    "print(core_samples)"
   ]
  },
  {
   "cell_type": "code",
   "execution_count": 171,
   "metadata": {
    "collapsed": false
   },
   "outputs": [
    {
     "data": {
      "text/html": [
       "<div>\n",
       "<table border=\"1\" class=\"dataframe\">\n",
       "  <thead>\n",
       "    <tr style=\"text-align: right;\">\n",
       "      <th></th>\n",
       "      <th>Core?</th>\n",
       "      <th>label</th>\n",
       "    </tr>\n",
       "  </thead>\n",
       "  <tbody>\n",
       "    <tr>\n",
       "      <th>0</th>\n",
       "      <td>True</td>\n",
       "      <td>0</td>\n",
       "    </tr>\n",
       "    <tr>\n",
       "      <th>1</th>\n",
       "      <td>True</td>\n",
       "      <td>0</td>\n",
       "    </tr>\n",
       "    <tr>\n",
       "      <th>2</th>\n",
       "      <td>True</td>\n",
       "      <td>0</td>\n",
       "    </tr>\n",
       "    <tr>\n",
       "      <th>3</th>\n",
       "      <td>True</td>\n",
       "      <td>0</td>\n",
       "    </tr>\n",
       "    <tr>\n",
       "      <th>4</th>\n",
       "      <td>True</td>\n",
       "      <td>0</td>\n",
       "    </tr>\n",
       "  </tbody>\n",
       "</table>\n",
       "</div>"
      ],
      "text/plain": [
       "  Core?  label\n",
       "0  True      0\n",
       "1  True      0\n",
       "2  True      0\n",
       "3  True      0\n",
       "4  True      0"
      ]
     },
     "execution_count": 171,
     "metadata": {},
     "output_type": "execute_result"
    }
   ],
   "source": [
    "df = pd.DataFrame(core_samples, columns=['Core?'])\n",
    "df['label'] = labels\n",
    "df.head()"
   ]
  },
  {
   "cell_type": "code",
   "execution_count": 172,
   "metadata": {
    "collapsed": false
   },
   "outputs": [],
   "source": [
    "n_clusters_ = len(set(labels)) - (1 if -1 in labels else 0)"
   ]
  },
  {
   "cell_type": "code",
   "execution_count": 173,
   "metadata": {
    "collapsed": false
   },
   "outputs": [
    {
     "data": {
      "text/plain": [
       "{-1, 0, 1}"
      ]
     },
     "execution_count": 173,
     "metadata": {},
     "output_type": "execute_result"
    }
   ],
   "source": [
    "set(labels)"
   ]
  },
  {
   "cell_type": "markdown",
   "metadata": {},
   "source": [
    "Now, we can use a handy chunk of code from the Scitkit documentation to measure the performance of our model "
   ]
  },
  {
   "cell_type": "code",
   "execution_count": 174,
   "metadata": {
    "collapsed": false
   },
   "outputs": [
    {
     "name": "stdout",
     "output_type": "stream",
     "text": [
      "Estimated number of clusters: 2\n",
      "Homogeneity: 0.489\n",
      "Completeness: 0.510\n",
      "V-measure: 0.500\n",
      "Adjusted Rand Index: 0.428\n",
      "Adjusted Mutual Information: 0.483\n",
      "Silhouette Score: 0.349\n"
     ]
    }
   ],
   "source": [
    "print('Estimated number of clusters: %d' % n_clusters_)\n",
    "print(\"Homogeneity: %0.3f\" % metrics.homogeneity_score(y, labels))\n",
    "print(\"Completeness: %0.3f\" % metrics.completeness_score(y, labels))\n",
    "print(\"V-measure: %0.3f\" % metrics.v_measure_score(y, labels))\n",
    "print(\"Adjusted Rand Index: %0.3f\"\n",
    "      % metrics.adjusted_rand_score(y, labels))\n",
    "print(\"Adjusted Mutual Information: %0.3f\"\n",
    "      % metrics.adjusted_mutual_info_score(y, labels))\n",
    "print(\"Silhouette Score: %0.3f\"\n",
    "      % metrics.silhouette_score(X, labels))"
   ]
  },
  {
   "cell_type": "markdown",
   "metadata": {},
   "source": [
    "**What do these metrics tell us?**"
   ]
  },
  {
   "cell_type": "markdown",
   "metadata": {},
   "source": [
    "#### 3.3 Plot the resulting clusters"
   ]
  },
  {
   "cell_type": "code",
   "execution_count": 175,
   "metadata": {
    "collapsed": false
   },
   "outputs": [
    {
     "data": {
      "text/plain": [
       "array([[ 0.61960787,  0.00392157,  0.25882354,  1.        ],\n",
       "       [ 0.99807766,  0.99923107,  0.74602078,  1.        ],\n",
       "       [ 0.36862746,  0.30980393,  0.63529414,  1.        ]])"
      ]
     },
     "execution_count": 175,
     "metadata": {},
     "output_type": "execute_result"
    }
   ],
   "source": [
    "unique_labels = np.unique(labels)\n",
    "colors = plt.cm.Spectral(np.linspace(0,1, len(unique_labels)))\n",
    "colors"
   ]
  },
  {
   "cell_type": "code",
   "execution_count": 176,
   "metadata": {
    "collapsed": false
   },
   "outputs": [
    {
     "data": {
      "text/plain": [
       "array([False, False, False, False, False, False, False, False, False,\n",
       "       False, False, False, False, False, False, False, False, False,\n",
       "       False, False, False, False, False, False, False, False, False,\n",
       "       False, False, False, False, False, False, False, False, False,\n",
       "       False, False, False, False, False, False, False, False, False,\n",
       "       False, False, False, False, False,  True,  True,  True,  True,\n",
       "        True,  True, False, False,  True, False, False,  True, False,\n",
       "        True,  True,  True,  True,  True, False,  True,  True,  True,\n",
       "       False,  True,  True,  True,  True,  True,  True,  True,  True,\n",
       "        True,  True,  True,  True, False,  True, False,  True,  True,\n",
       "        True,  True,  True, False,  True,  True,  True,  True, False,\n",
       "        True, False,  True,  True,  True,  True, False, False, False,\n",
       "       False, False,  True,  True,  True,  True, False,  True,  True,\n",
       "       False, False, False,  True,  True, False,  True,  True, False,\n",
       "        True,  True,  True, False, False, False,  True,  True,  True,\n",
       "       False, False,  True,  True,  True,  True,  True,  True,  True,\n",
       "        True,  True,  True,  True, False,  True], dtype=bool)"
      ]
     },
     "execution_count": 176,
     "metadata": {},
     "output_type": "execute_result"
    }
   ],
   "source": [
    "class_member_mask = (labels == label)\n",
    "class_member_mask"
   ]
  },
  {
   "cell_type": "code",
   "execution_count": 177,
   "metadata": {
    "collapsed": false
   },
   "outputs": [
    {
     "data": {
      "image/png": "[encoded data removed]",
      "text/plain": [
       "<matplotlib.figure.Figure at 0x11c025250>"
      ]
     },
     "metadata": {},
     "output_type": "display_data"
    }
   ],
   "source": [
    "plt.figure(figsize=(25,15))\n",
    "for (label, color) in zip(unique_labels, colors):\n",
    "    class_member_mask = (labels == label)\n",
    "    \n",
    "    n = X[class_member_mask & core_samples]\n",
    "    plt.plot(n[:,0],n[:,1], 'o', markerfacecolor = color, markersize = 30)\n",
    "    \n",
    "    n = X[class_member_mask & ~core_samples]\n",
    "    plt.plot(n[:,0],n[:,1], 'o', markerfacecolor = color, markersize = 15)"
   ]
  },
  {
   "cell_type": "markdown",
   "metadata": {
    "collapsed": true
   },
   "source": [
    "## Find epsilon using k-distance"
   ]
  },
  {
   "cell_type": "code",
   "execution_count": 178,
   "metadata": {
    "collapsed": false
   },
   "outputs": [],
   "source": [
    "from sklearn.neighbors import NearestNeighbors\n",
    "\n",
    "nn = NearestNeighbors(n_neighbors=len(X)).fit(X)\n",
    "distances, indices = nn.kneighbors(X)"
   ]
  },
  {
   "cell_type": "code",
   "execution_count": 179,
   "metadata": {
    "collapsed": false
   },
   "outputs": [
    {
     "data": {
      "text/html": [
       "<div>\n",
       "<table border=\"1\" class=\"dataframe\">\n",
       "  <thead>\n",
       "    <tr style=\"text-align: right;\">\n",
       "      <th></th>\n",
       "      <th>0</th>\n",
       "      <th>1</th>\n",
       "      <th>2</th>\n",
       "      <th>3</th>\n",
       "      <th>4</th>\n",
       "      <th>5</th>\n",
       "      <th>6</th>\n",
       "      <th>7</th>\n",
       "      <th>8</th>\n",
       "      <th>9</th>\n",
       "      <th>...</th>\n",
       "      <th>140</th>\n",
       "      <th>141</th>\n",
       "      <th>142</th>\n",
       "      <th>143</th>\n",
       "      <th>144</th>\n",
       "      <th>145</th>\n",
       "      <th>146</th>\n",
       "      <th>147</th>\n",
       "      <th>148</th>\n",
       "      <th>149</th>\n",
       "    </tr>\n",
       "  </thead>\n",
       "  <tbody>\n",
       "    <tr>\n",
       "      <th>0</th>\n",
       "      <td>0</td>\n",
       "      <td>17</td>\n",
       "      <td>27</td>\n",
       "      <td>40</td>\n",
       "      <td>39</td>\n",
       "      <td>4</td>\n",
       "      <td>28</td>\n",
       "      <td>7</td>\n",
       "      <td>26</td>\n",
       "      <td>11</td>\n",
       "      <td>...</td>\n",
       "      <td>102</td>\n",
       "      <td>107</td>\n",
       "      <td>130</td>\n",
       "      <td>109</td>\n",
       "      <td>105</td>\n",
       "      <td>131</td>\n",
       "      <td>135</td>\n",
       "      <td>117</td>\n",
       "      <td>122</td>\n",
       "      <td>118</td>\n",
       "    </tr>\n",
       "    <tr>\n",
       "      <th>1</th>\n",
       "      <td>1</td>\n",
       "      <td>25</td>\n",
       "      <td>45</td>\n",
       "      <td>12</td>\n",
       "      <td>37</td>\n",
       "      <td>9</td>\n",
       "      <td>34</td>\n",
       "      <td>30</td>\n",
       "      <td>3</td>\n",
       "      <td>35</td>\n",
       "      <td>...</td>\n",
       "      <td>144</td>\n",
       "      <td>107</td>\n",
       "      <td>130</td>\n",
       "      <td>105</td>\n",
       "      <td>109</td>\n",
       "      <td>135</td>\n",
       "      <td>122</td>\n",
       "      <td>118</td>\n",
       "      <td>131</td>\n",
       "      <td>117</td>\n",
       "    </tr>\n",
       "    <tr>\n",
       "      <th>2</th>\n",
       "      <td>2</td>\n",
       "      <td>47</td>\n",
       "      <td>29</td>\n",
       "      <td>3</td>\n",
       "      <td>30</td>\n",
       "      <td>42</td>\n",
       "      <td>35</td>\n",
       "      <td>34</td>\n",
       "      <td>37</td>\n",
       "      <td>9</td>\n",
       "      <td>...</td>\n",
       "      <td>102</td>\n",
       "      <td>107</td>\n",
       "      <td>130</td>\n",
       "      <td>109</td>\n",
       "      <td>105</td>\n",
       "      <td>135</td>\n",
       "      <td>122</td>\n",
       "      <td>131</td>\n",
       "      <td>117</td>\n",
       "      <td>118</td>\n",
       "    </tr>\n",
       "    <tr>\n",
       "      <th>3</th>\n",
       "      <td>3</td>\n",
       "      <td>47</td>\n",
       "      <td>30</td>\n",
       "      <td>29</td>\n",
       "      <td>2</td>\n",
       "      <td>38</td>\n",
       "      <td>42</td>\n",
       "      <td>45</td>\n",
       "      <td>12</td>\n",
       "      <td>9</td>\n",
       "      <td>...</td>\n",
       "      <td>102</td>\n",
       "      <td>107</td>\n",
       "      <td>130</td>\n",
       "      <td>109</td>\n",
       "      <td>105</td>\n",
       "      <td>135</td>\n",
       "      <td>122</td>\n",
       "      <td>131</td>\n",
       "      <td>117</td>\n",
       "      <td>118</td>\n",
       "    </tr>\n",
       "    <tr>\n",
       "      <th>4</th>\n",
       "      <td>4</td>\n",
       "      <td>0</td>\n",
       "      <td>40</td>\n",
       "      <td>17</td>\n",
       "      <td>27</td>\n",
       "      <td>21</td>\n",
       "      <td>48</td>\n",
       "      <td>7</td>\n",
       "      <td>39</td>\n",
       "      <td>46</td>\n",
       "      <td>...</td>\n",
       "      <td>108</td>\n",
       "      <td>107</td>\n",
       "      <td>109</td>\n",
       "      <td>130</td>\n",
       "      <td>131</td>\n",
       "      <td>105</td>\n",
       "      <td>117</td>\n",
       "      <td>135</td>\n",
       "      <td>122</td>\n",
       "      <td>118</td>\n",
       "    </tr>\n",
       "  </tbody>\n",
       "</table>\n",
       "<p>5 rows × 150 columns</p>\n",
       "</div>"
      ],
      "text/plain": [
       "   0    1    2    3    4    5    6    7    8    9   ...   140  141  142  143  \\\n",
       "0    0   17   27   40   39    4   28    7   26   11 ...   102  107  130  109   \n",
       "1    1   25   45   12   37    9   34   30    3   35 ...   144  107  130  105   \n",
       "2    2   47   29    3   30   42   35   34   37    9 ...   102  107  130  109   \n",
       "3    3   47   30   29    2   38   42   45   12    9 ...   102  107  130  109   \n",
       "4    4    0   40   17   27   21   48    7   39   46 ...   108  107  109  130   \n",
       "\n",
       "   144  145  146  147  148  149  \n",
       "0  105  131  135  117  122  118  \n",
       "1  109  135  122  118  131  117  \n",
       "2  105  135  122  131  117  118  \n",
       "3  105  135  122  131  117  118  \n",
       "4  131  105  117  135  122  118  \n",
       "\n",
       "[5 rows x 150 columns]"
      ]
     },
     "execution_count": 179,
     "metadata": {},
     "output_type": "execute_result"
    }
   ],
   "source": [
    "pd.DataFrame(indices).head()"
   ]
  },
  {
   "cell_type": "code",
   "execution_count": 180,
   "metadata": {
    "collapsed": false
   },
   "outputs": [
    {
     "data": {
      "text/html": [
       "<div>\n",
       "<table border=\"1\" class=\"dataframe\">\n",
       "  <thead>\n",
       "    <tr style=\"text-align: right;\">\n",
       "      <th></th>\n",
       "      <th>0</th>\n",
       "      <th>1</th>\n",
       "      <th>2</th>\n",
       "      <th>3</th>\n",
       "    </tr>\n",
       "  </thead>\n",
       "  <tbody>\n",
       "    <tr>\n",
       "      <th>34</th>\n",
       "      <td>-1.143017</td>\n",
       "      <td>0.106445</td>\n",
       "      <td>-1.284407</td>\n",
       "      <td>-1.444450</td>\n",
       "    </tr>\n",
       "    <tr>\n",
       "      <th>35</th>\n",
       "      <td>-1.021849</td>\n",
       "      <td>0.337848</td>\n",
       "      <td>-1.455004</td>\n",
       "      <td>-1.312977</td>\n",
       "    </tr>\n",
       "    <tr>\n",
       "      <th>36</th>\n",
       "      <td>-0.416010</td>\n",
       "      <td>1.032057</td>\n",
       "      <td>-1.398138</td>\n",
       "      <td>-1.312977</td>\n",
       "    </tr>\n",
       "    <tr>\n",
       "      <th>37</th>\n",
       "      <td>-1.143017</td>\n",
       "      <td>0.106445</td>\n",
       "      <td>-1.284407</td>\n",
       "      <td>-1.444450</td>\n",
       "    </tr>\n",
       "  </tbody>\n",
       "</table>\n",
       "</div>"
      ],
      "text/plain": [
       "           0         1         2         3\n",
       "34 -1.143017  0.106445 -1.284407 -1.444450\n",
       "35 -1.021849  0.337848 -1.455004 -1.312977\n",
       "36 -0.416010  1.032057 -1.398138 -1.312977\n",
       "37 -1.143017  0.106445 -1.284407 -1.444450"
      ]
     },
     "execution_count": 180,
     "metadata": {},
     "output_type": "execute_result"
    }
   ],
   "source": [
    "pd.DataFrame(X).iloc[34:38]"
   ]
  },
  {
   "cell_type": "code",
   "execution_count": 181,
   "metadata": {
    "collapsed": false
   },
   "outputs": [
    {
     "data": {
      "text/html": [
       "<div>\n",
       "<table border=\"1\" class=\"dataframe\">\n",
       "  <thead>\n",
       "    <tr style=\"text-align: right;\">\n",
       "      <th></th>\n",
       "      <th>0</th>\n",
       "      <th>1</th>\n",
       "      <th>2</th>\n",
       "      <th>3</th>\n",
       "      <th>4</th>\n",
       "      <th>5</th>\n",
       "      <th>6</th>\n",
       "      <th>7</th>\n",
       "      <th>8</th>\n",
       "      <th>9</th>\n",
       "      <th>...</th>\n",
       "      <th>140</th>\n",
       "      <th>141</th>\n",
       "      <th>142</th>\n",
       "      <th>143</th>\n",
       "      <th>144</th>\n",
       "      <th>145</th>\n",
       "      <th>146</th>\n",
       "      <th>147</th>\n",
       "      <th>148</th>\n",
       "      <th>149</th>\n",
       "    </tr>\n",
       "  </thead>\n",
       "  <tbody>\n",
       "    <tr>\n",
       "      <th>0</th>\n",
       "      <td>0.0</td>\n",
       "      <td>0.131473</td>\n",
       "      <td>0.133848</td>\n",
       "      <td>0.187618</td>\n",
       "      <td>0.238288</td>\n",
       "      <td>0.261207</td>\n",
       "      <td>0.261207</td>\n",
       "      <td>0.267325</td>\n",
       "      <td>0.387691</td>\n",
       "      <td>0.445665</td>\n",
       "      <td>...</td>\n",
       "      <td>4.472085</td>\n",
       "      <td>4.606816</td>\n",
       "      <td>4.746481</td>\n",
       "      <td>4.776532</td>\n",
       "      <td>5.049614</td>\n",
       "      <td>5.067248</td>\n",
       "      <td>5.101910</td>\n",
       "      <td>5.138508</td>\n",
       "      <td>5.218476</td>\n",
       "      <td>5.627330</td>\n",
       "    </tr>\n",
       "    <tr>\n",
       "      <th>1</th>\n",
       "      <td>0.0</td>\n",
       "      <td>0.166182</td>\n",
       "      <td>0.178793</td>\n",
       "      <td>0.178793</td>\n",
       "      <td>0.272151</td>\n",
       "      <td>0.272151</td>\n",
       "      <td>0.272151</td>\n",
       "      <td>0.284893</td>\n",
       "      <td>0.434645</td>\n",
       "      <td>0.491738</td>\n",
       "      <td>...</td>\n",
       "      <td>4.512399</td>\n",
       "      <td>4.549649</td>\n",
       "      <td>4.639923</td>\n",
       "      <td>5.068215</td>\n",
       "      <td>5.097195</td>\n",
       "      <td>5.126054</td>\n",
       "      <td>5.138918</td>\n",
       "      <td>5.456362</td>\n",
       "      <td>5.506830</td>\n",
       "      <td>5.561923</td>\n",
       "    </tr>\n",
       "    <tr>\n",
       "      <th>2</th>\n",
       "      <td>0.0</td>\n",
       "      <td>0.133848</td>\n",
       "      <td>0.170597</td>\n",
       "      <td>0.284893</td>\n",
       "      <td>0.311981</td>\n",
       "      <td>0.363504</td>\n",
       "      <td>0.367925</td>\n",
       "      <td>0.377484</td>\n",
       "      <td>0.377484</td>\n",
       "      <td>0.377484</td>\n",
       "      <td>...</td>\n",
       "      <td>4.664042</td>\n",
       "      <td>4.787065</td>\n",
       "      <td>4.899546</td>\n",
       "      <td>5.160145</td>\n",
       "      <td>5.280614</td>\n",
       "      <td>5.338622</td>\n",
       "      <td>5.394453</td>\n",
       "      <td>5.565337</td>\n",
       "      <td>5.611127</td>\n",
       "      <td>5.736275</td>\n",
       "    </tr>\n",
       "    <tr>\n",
       "      <th>3</th>\n",
       "      <td>0.0</td>\n",
       "      <td>0.238288</td>\n",
       "      <td>0.248918</td>\n",
       "      <td>0.267325</td>\n",
       "      <td>0.284893</td>\n",
       "      <td>0.353849</td>\n",
       "      <td>0.353849</td>\n",
       "      <td>0.364407</td>\n",
       "      <td>0.364407</td>\n",
       "      <td>0.386549</td>\n",
       "      <td>...</td>\n",
       "      <td>4.661542</td>\n",
       "      <td>4.774157</td>\n",
       "      <td>4.881626</td>\n",
       "      <td>5.220139</td>\n",
       "      <td>5.283734</td>\n",
       "      <td>5.350504</td>\n",
       "      <td>5.379157</td>\n",
       "      <td>5.654791</td>\n",
       "      <td>5.691300</td>\n",
       "      <td>5.700876</td>\n",
       "    </tr>\n",
       "    <tr>\n",
       "      <th>4</th>\n",
       "      <td>0.0</td>\n",
       "      <td>0.261207</td>\n",
       "      <td>0.272151</td>\n",
       "      <td>0.292428</td>\n",
       "      <td>0.339864</td>\n",
       "      <td>0.374971</td>\n",
       "      <td>0.434645</td>\n",
       "      <td>0.466286</td>\n",
       "      <td>0.481772</td>\n",
       "      <td>0.491738</td>\n",
       "      <td>...</td>\n",
       "      <td>4.626843</td>\n",
       "      <td>4.751794</td>\n",
       "      <td>4.836633</td>\n",
       "      <td>4.901258</td>\n",
       "      <td>5.123096</td>\n",
       "      <td>5.180385</td>\n",
       "      <td>5.187934</td>\n",
       "      <td>5.234180</td>\n",
       "      <td>5.367851</td>\n",
       "      <td>5.784667</td>\n",
       "    </tr>\n",
       "  </tbody>\n",
       "</table>\n",
       "<p>5 rows × 150 columns</p>\n",
       "</div>"
      ],
      "text/plain": [
       "   0         1         2         3         4         5         6         7    \\\n",
       "0  0.0  0.131473  0.133848  0.187618  0.238288  0.261207  0.261207  0.267325   \n",
       "1  0.0  0.166182  0.178793  0.178793  0.272151  0.272151  0.272151  0.284893   \n",
       "2  0.0  0.133848  0.170597  0.284893  0.311981  0.363504  0.367925  0.377484   \n",
       "3  0.0  0.238288  0.248918  0.267325  0.284893  0.353849  0.353849  0.364407   \n",
       "4  0.0  0.261207  0.272151  0.292428  0.339864  0.374971  0.434645  0.466286   \n",
       "\n",
       "        8         9      ...          140       141       142       143  \\\n",
       "0  0.387691  0.445665    ...     4.472085  4.606816  4.746481  4.776532   \n",
       "1  0.434645  0.491738    ...     4.512399  4.549649  4.639923  5.068215   \n",
       "2  0.377484  0.377484    ...     4.664042  4.787065  4.899546  5.160145   \n",
       "3  0.364407  0.386549    ...     4.661542  4.774157  4.881626  5.220139   \n",
       "4  0.481772  0.491738    ...     4.626843  4.751794  4.836633  4.901258   \n",
       "\n",
       "        144       145       146       147       148       149  \n",
       "0  5.049614  5.067248  5.101910  5.138508  5.218476  5.627330  \n",
       "1  5.097195  5.126054  5.138918  5.456362  5.506830  5.561923  \n",
       "2  5.280614  5.338622  5.394453  5.565337  5.611127  5.736275  \n",
       "3  5.283734  5.350504  5.379157  5.654791  5.691300  5.700876  \n",
       "4  5.123096  5.180385  5.187934  5.234180  5.367851  5.784667  \n",
       "\n",
       "[5 rows x 150 columns]"
      ]
     },
     "execution_count": 181,
     "metadata": {},
     "output_type": "execute_result"
    }
   ],
   "source": [
    "pd.DataFrame(distances).head()"
   ]
  },
  {
   "cell_type": "code",
   "execution_count": 182,
   "metadata": {
    "collapsed": false,
    "scrolled": false
   },
   "outputs": [
    {
     "data": {
      "text/plain": [
       "<matplotlib.text.Text at 0x103dbb250>"
      ]
     },
     "execution_count": 182,
     "metadata": {},
     "output_type": "execute_result"
    },
    {
     "data": {
      "image/png": "[encoded data removed]",
      "text/plain": [
       "<matplotlib.figure.Figure at 0x11c0b2e90>"
      ]
     },
     "metadata": {},
     "output_type": "display_data"
    }
   ],
   "source": [
    "plt.scatter(range(150),pd.DataFrame(distances).mean())\n",
    "plt.xlabel('Record')\n",
    "plt.ylabel('Average Distance')"
   ]
  },
  {
   "cell_type": "code",
   "execution_count": null,
   "metadata": {
    "collapsed": true
   },
   "outputs": [],
   "source": []
  }
 ],
 "metadata": {
  "kernelspec": {
   "display_name": "Python 2",
   "language": "python",
   "name": "python2"
  },
  "language_info": {
   "codemirror_mode": {
    "name": "ipython",
    "version": 2
   },
   "file_extension": ".py",
   "mimetype": "text/x-python",
   "name": "python",
   "nbconvert_exporter": "python",
   "pygments_lexer": "ipython2",
   "version": "2.7.12"
  }
 },
 "nbformat": 4,
 "nbformat_minor": 0
}
