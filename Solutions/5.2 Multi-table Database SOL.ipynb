{
 "cells": [
  {
   "cell_type": "markdown",
   "metadata": {},
   "source": [
    "# Multi-table Datasets - ENRON Archive"
   ]
  },
  {
   "cell_type": "markdown",
   "metadata": {},
   "source": [
    "## 1. Data import\n",
    "\n",
    "Connect to the file 'assets/datasets/enron.db' using one of these methods:\n",
    "\n",
    "- sqlite3 python package\n",
    "- pandas.read_sql\n",
    "- SQLite Manager Firefox extension\n",
    "\n",
    "Take a look at the database and query the master table. How many Tables are there in the db?"
   ]
  },
  {
   "cell_type": "code",
   "execution_count": 58,
   "metadata": {
    "collapsed": false
   },
   "outputs": [
    {
     "data": {
      "text/plain": [
       "[(u'MessageBase',), (u'RecipientBase',), (u'EmployeeBase',)]"
      ]
     },
     "execution_count": 58,
     "metadata": {},
     "output_type": "execute_result"
    }
   ],
   "source": [
    "import sqlite3\n",
    "import pandas as pd\n",
    "conn = sqlite3.connect('data/enron.db') \n",
    "c = conn.cursor()\n",
    "\n",
    "c.execute(\"SELECT name FROM sqlite_master WHERE type='table';\").fetchall()\n",
    "# three tables"
   ]
  },
  {
   "cell_type": "markdown",
   "metadata": {},
   "source": [
    "Query the `sqlite_master` table to retrieve the schema of the `EmployeeBase` table.\n",
    "\n",
    "1. What fields are there?\n",
    "1. What's the type of each of them?"
   ]
  },
  {
   "cell_type": "code",
   "execution_count": 59,
   "metadata": {
    "collapsed": false
   },
   "outputs": [
    {
     "name": "stdout",
     "output_type": "stream",
     "text": [
      "(u'view', u'Employee', u'Employee', 0, u\"CREATE VIEW Employee AS\\nSELECT\\n    eid,\\n    name,\\n    longdepartment,\\n    title,\\n\\n    gender,\\n    CASE gender\\n        WHEN 'Female' THEN 1\\n        ELSE 0\\n    END AS genF,\\n\\n    seniority,\\n    CASE seniority\\n        WHEN 'Junior' THEN 1\\n        ELSE 0\\n    END AS senJ,\\n\\n    department,\\n    CASE department\\n        WHEN 'Legal' THEN 1\\n        ELSE 0\\n    END AS depL,\\n    CASE department\\n        WHEN 'Trading' THEN 1\\n        ELSE 0\\n    END AS depT\\nFROM\\n    EmployeeBase\")\n",
      "\n",
      "(u'view', u'EmployeeWithVars', u'EmployeeWithVars', 0, u'CREATE VIEW EmployeeWithVars AS\\nSELECT\\n    eid,\\n    1 AS intercept,\\n    genF,\\n    senJ,\\n    depL,\\n    depT,\\n    genF * senJ AS genF_senJ,\\n    genF * depL AS genF_depL,\\n    genF * depT AS genF_depT,\\n    senJ * depL AS senJ_depL,\\n    senJ * depT AS senJ_depT,\\n    genF * senJ * depL AS genF_senJ_depL,\\n    genF * senJ * depT AS genF_senJ_depT\\nFROM\\n    Employee')\n",
      "\n",
      "(u'table', u'MessageBase', u'MessageBase', 3, u'CREATE TABLE MessageBase (\\n    mid INTEGER,\\n    filename TEXT,\\n    unix_time INTEGER,\\n    subject TEXT,\\n    from_eid INTEGER,\\n    \\n    PRIMARY KEY(mid ASC),\\n    FOREIGN KEY(from_eid) REFERENCES Employee(eid)\\n)')\n",
      "\n",
      "(u'index', u'IX_MessageBase_unix_time', u'MessageBase', 4, u'CREATE INDEX IX_MessageBase_unix_time ON MessageBase(unix_time ASC)')\n",
      "\n",
      "(u'view', u'Message', u'Message', 0, u\"CREATE VIEW Message AS\\nSELECT\\n    mid,\\n    filename,\\n    datetime(unix_time, 'unixepoch') AS time,\\n    unix_time,\\n    subject,\\n    from_eid\\nFROM\\n    MessageBase\")\n",
      "\n",
      "(u'table', u'RecipientBase', u'RecipientBase', 5, u'CREATE TABLE RecipientBase (\\n    mid INTEGER,\\n    rno INTEGER,\\n    to_eid INTEGER,\\n    \\n    PRIMARY KEY(mid ASC, rno ASC)\\n    FOREIGN KEY(mid) REFERENCES Message(mid)\\n    FOREIGN KEY(to_eid) REFERENCES Employee(eid)\\n)')\n",
      "\n",
      "(u'index', u'sqlite_autoindex_RecipientBase_1', u'RecipientBase', 6, None)\n",
      "\n",
      "(u'view', u'Recipient', u'Recipient', 0, u'CREATE VIEW Recipient AS\\nSELECT\\n    mid,\\n    rno,\\n    to_eid\\nFROM\\n    RecipientBase')\n",
      "\n",
      "(u'table', u'EmployeeBase', u'EmployeeBase', 2, u'CREATE TABLE EmployeeBase (\\n                  [eid] INTEGER,\\n  [name] TEXT,\\n  [department] TEXT,\\n  [longdepartment] TEXT,\\n  [title] TEXT,\\n  [gender] TEXT,\\n  [seniority] TEXT\\n                  \\n                  )')\n",
      "\n"
     ]
    }
   ],
   "source": [
    "fetch = c.execute(\"SELECT * from sqlite_master;\").fetchall()\n",
    "for row in fetch:\n",
    "    print row\n",
    "    print"
   ]
  },
  {
   "cell_type": "code",
   "execution_count": 60,
   "metadata": {
    "collapsed": false
   },
   "outputs": [
    {
     "name": "stdout",
     "output_type": "stream",
     "text": [
      "CREATE TABLE EmployeeBase (\n",
      "                  [eid] INTEGER,\n",
      "  [name] TEXT,\n",
      "  [department] TEXT,\n",
      "  [longdepartment] TEXT,\n",
      "  [title] TEXT,\n",
      "  [gender] TEXT,\n",
      "  [seniority] TEXT\n",
      "                  \n",
      "                  )\n",
      "\n",
      "CREATE TABLE MessageBase (\n",
      "    mid INTEGER,\n",
      "    filename TEXT,\n",
      "    unix_time INTEGER,\n",
      "    subject TEXT,\n",
      "    from_eid INTEGER,\n",
      "    \n",
      "    PRIMARY KEY(mid ASC),\n",
      "    FOREIGN KEY(from_eid) REFERENCES Employee(eid)\n",
      ")\n",
      "\n",
      "CREATE TABLE RecipientBase (\n",
      "    mid INTEGER,\n",
      "    rno INTEGER,\n",
      "    to_eid INTEGER,\n",
      "    \n",
      "    PRIMARY KEY(mid ASC, rno ASC)\n",
      "    FOREIGN KEY(mid) REFERENCES Message(mid)\n",
      "    FOREIGN KEY(to_eid) REFERENCES Employee(eid)\n",
      ")\n"
     ]
    }
   ],
   "source": [
    "fields = c.execute(\"SELECT sql from sqlite_master WHERE type='table' and name='EmployeeBase';\").fetchall()\n",
    "print ''.join(fields[0])\n",
    "print\n",
    "fields = c.execute(\"SELECT sql from sqlite_master WHERE type='table' and name='MessageBase';\").fetchall()\n",
    "print ''.join(fields[0])\n",
    "print\n",
    "fields = c.execute(\"SELECT sql from sqlite_master WHERE type='table' and name='RecipientBase';\").fetchall()\n",
    "print ''.join(fields[0])"
   ]
  },
  {
   "cell_type": "markdown",
   "metadata": {},
   "source": [
    "1. Print the first 5 rows of EmployeeBase table\n",
    "1. Print the first 5 rows of MessageBase table\n",
    "1. Print the first 5 rows of RecipientBase table"
   ]
  },
  {
   "cell_type": "code",
   "execution_count": 61,
   "metadata": {
    "collapsed": false
   },
   "outputs": [
    {
     "name": "stdout",
     "output_type": "stream",
     "text": [
      "(1, u'John Arnold', u'Forestry', u'ENA Gas Financial', u'VP Trading', u'Male', u'Senior')\n",
      "(2, u'Harry Arora', u'Forestry', u'ENA East Power', u'VP Trading', u'Male', u'Senior')\n",
      "(3, u'Robert Badeer', u'Forestry', u'ENA West Power', u'Mgr Trading', u'Male', u'Junior')\n",
      "(4, u'Susan Bailey', u'Legal', u'ENA Legal', u'Specialist Legal', u'Female', u'Junior')\n",
      "(5, u'Eric Bass', u'Forestry', u'ENA Gas Texas', u'Trader', u'Male', u'Junior')\n"
     ]
    }
   ],
   "source": [
    "results = c.execute(\"SELECT * FROM EmployeeBase LIMIT 5;\").fetchall()\n",
    "for row in results:\n",
    "    print row"
   ]
  },
  {
   "cell_type": "code",
   "execution_count": 62,
   "metadata": {
    "collapsed": false
   },
   "outputs": [
    {
     "data": {
      "text/html": [
       "<div>\n",
       "<table border=\"1\" class=\"dataframe\">\n",
       "  <thead>\n",
       "    <tr style=\"text-align: right;\">\n",
       "      <th></th>\n",
       "      <th>eid</th>\n",
       "      <th>name</th>\n",
       "      <th>department</th>\n",
       "      <th>longdepartment</th>\n",
       "      <th>title</th>\n",
       "      <th>gender</th>\n",
       "      <th>seniority</th>\n",
       "    </tr>\n",
       "  </thead>\n",
       "  <tbody>\n",
       "    <tr>\n",
       "      <th>0</th>\n",
       "      <td>1</td>\n",
       "      <td>John Arnold</td>\n",
       "      <td>Forestry</td>\n",
       "      <td>ENA Gas Financial</td>\n",
       "      <td>VP Trading</td>\n",
       "      <td>Male</td>\n",
       "      <td>Senior</td>\n",
       "    </tr>\n",
       "    <tr>\n",
       "      <th>1</th>\n",
       "      <td>2</td>\n",
       "      <td>Harry Arora</td>\n",
       "      <td>Forestry</td>\n",
       "      <td>ENA East Power</td>\n",
       "      <td>VP Trading</td>\n",
       "      <td>Male</td>\n",
       "      <td>Senior</td>\n",
       "    </tr>\n",
       "    <tr>\n",
       "      <th>2</th>\n",
       "      <td>3</td>\n",
       "      <td>Robert Badeer</td>\n",
       "      <td>Forestry</td>\n",
       "      <td>ENA West Power</td>\n",
       "      <td>Mgr Trading</td>\n",
       "      <td>Male</td>\n",
       "      <td>Junior</td>\n",
       "    </tr>\n",
       "    <tr>\n",
       "      <th>3</th>\n",
       "      <td>4</td>\n",
       "      <td>Susan Bailey</td>\n",
       "      <td>Legal</td>\n",
       "      <td>ENA Legal</td>\n",
       "      <td>Specialist Legal</td>\n",
       "      <td>Female</td>\n",
       "      <td>Junior</td>\n",
       "    </tr>\n",
       "    <tr>\n",
       "      <th>4</th>\n",
       "      <td>5</td>\n",
       "      <td>Eric Bass</td>\n",
       "      <td>Forestry</td>\n",
       "      <td>ENA Gas Texas</td>\n",
       "      <td>Trader</td>\n",
       "      <td>Male</td>\n",
       "      <td>Junior</td>\n",
       "    </tr>\n",
       "  </tbody>\n",
       "</table>\n",
       "</div>"
      ],
      "text/plain": [
       "   eid           name department     longdepartment             title  gender  \\\n",
       "0    1    John Arnold   Forestry  ENA Gas Financial        VP Trading    Male   \n",
       "1    2    Harry Arora   Forestry     ENA East Power        VP Trading    Male   \n",
       "2    3  Robert Badeer   Forestry     ENA West Power       Mgr Trading    Male   \n",
       "3    4   Susan Bailey      Legal          ENA Legal  Specialist Legal  Female   \n",
       "4    5      Eric Bass   Forestry      ENA Gas Texas            Trader    Male   \n",
       "\n",
       "  seniority  \n",
       "0    Senior  \n",
       "1    Senior  \n",
       "2    Junior  \n",
       "3    Junior  \n",
       "4    Junior  "
      ]
     },
     "execution_count": 62,
     "metadata": {},
     "output_type": "execute_result"
    }
   ],
   "source": [
    "# alternate: from pandas.io import sql\n",
    "pd.read_sql('SELECT * FROM EmployeeBase LIMIT 5', conn)"
   ]
  },
  {
   "cell_type": "code",
   "execution_count": 63,
   "metadata": {
    "collapsed": false
   },
   "outputs": [
    {
     "name": "stdout",
     "output_type": "stream",
     "text": [
      "(1, u'taylor-m/sent/11', 910930020, u'Cd$ CME letter', 138)\n",
      "(2, u'taylor-m/sent/17', 911459940, u'Indemnification', 138)\n",
      "(3, u'taylor-m/sent/18', 911463840, u'Re: Indemnification', 138)\n",
      "(4, u'taylor-m/sent/23', 911874180, u'Re: Coral Energy, L.P.', 138)\n",
      "(5, u'taylor-m/sent/27', 912396120, u'Bankruptcy Code revisions', 138)\n"
     ]
    }
   ],
   "source": [
    "results = c.execute(\"SELECT * FROM MessageBase LIMIT 5;\").fetchall()\n",
    "for row in results:\n",
    "    print row"
   ]
  },
  {
   "cell_type": "code",
   "execution_count": 64,
   "metadata": {
    "collapsed": false,
    "scrolled": true
   },
   "outputs": [
    {
     "name": "stdout",
     "output_type": "stream",
     "text": [
      "(1, 1, 59)\n",
      "(2, 1, 15)\n",
      "(3, 1, 15)\n",
      "(4, 1, 109)\n",
      "(4, 2, 49)\n",
      "(4, 3, 120)\n",
      "(4, 4, 59)\n",
      "(5, 1, 45)\n",
      "(5, 2, 53)\n",
      "(6, 1, 113)\n"
     ]
    }
   ],
   "source": [
    "results = c.execute(\"SELECT * FROM RecipientBase LIMIT 10;\").fetchall()\n",
    "for row in results:\n",
    "    print row\n",
    "    \n",
    "# The first field is message id, the second is recipient number, and the third is the id of the recipient.\n",
    "# mid, rno, to_eid"
   ]
  },
  {
   "cell_type": "markdown",
   "metadata": {},
   "source": [
    "Import each of the 3 tables to a Pandas Dataframes"
   ]
  },
  {
   "cell_type": "code",
   "execution_count": 65,
   "metadata": {
    "collapsed": true
   },
   "outputs": [],
   "source": [
    "employees = pd.read_sql(\"SELECT * FROM EmployeeBase;\", conn)\n",
    "recipients = pd.read_sql(\"SELECT * FROM RecipientBase;\", conn)\n",
    "messages = pd.read_sql(\"SELECT * FROM MessageBase;\", conn)"
   ]
  },
  {
   "cell_type": "code",
   "execution_count": 66,
   "metadata": {
    "collapsed": false
   },
   "outputs": [
    {
     "data": {
      "text/html": [
       "<div>\n",
       "<table border=\"1\" class=\"dataframe\">\n",
       "  <thead>\n",
       "    <tr style=\"text-align: right;\">\n",
       "      <th></th>\n",
       "      <th>mid</th>\n",
       "      <th>rno</th>\n",
       "      <th>to_eid</th>\n",
       "    </tr>\n",
       "  </thead>\n",
       "  <tbody>\n",
       "    <tr>\n",
       "      <th>0</th>\n",
       "      <td>1</td>\n",
       "      <td>1</td>\n",
       "      <td>59</td>\n",
       "    </tr>\n",
       "    <tr>\n",
       "      <th>1</th>\n",
       "      <td>2</td>\n",
       "      <td>1</td>\n",
       "      <td>15</td>\n",
       "    </tr>\n",
       "    <tr>\n",
       "      <th>2</th>\n",
       "      <td>3</td>\n",
       "      <td>1</td>\n",
       "      <td>15</td>\n",
       "    </tr>\n",
       "    <tr>\n",
       "      <th>3</th>\n",
       "      <td>4</td>\n",
       "      <td>1</td>\n",
       "      <td>109</td>\n",
       "    </tr>\n",
       "    <tr>\n",
       "      <th>4</th>\n",
       "      <td>4</td>\n",
       "      <td>2</td>\n",
       "      <td>49</td>\n",
       "    </tr>\n",
       "    <tr>\n",
       "      <th>5</th>\n",
       "      <td>4</td>\n",
       "      <td>3</td>\n",
       "      <td>120</td>\n",
       "    </tr>\n",
       "    <tr>\n",
       "      <th>6</th>\n",
       "      <td>4</td>\n",
       "      <td>4</td>\n",
       "      <td>59</td>\n",
       "    </tr>\n",
       "    <tr>\n",
       "      <th>7</th>\n",
       "      <td>5</td>\n",
       "      <td>1</td>\n",
       "      <td>45</td>\n",
       "    </tr>\n",
       "    <tr>\n",
       "      <th>8</th>\n",
       "      <td>5</td>\n",
       "      <td>2</td>\n",
       "      <td>53</td>\n",
       "    </tr>\n",
       "    <tr>\n",
       "      <th>9</th>\n",
       "      <td>6</td>\n",
       "      <td>1</td>\n",
       "      <td>113</td>\n",
       "    </tr>\n",
       "  </tbody>\n",
       "</table>\n",
       "</div>"
      ],
      "text/plain": [
       "   mid  rno  to_eid\n",
       "0    1    1      59\n",
       "1    2    1      15\n",
       "2    3    1      15\n",
       "3    4    1     109\n",
       "4    4    2      49\n",
       "5    4    3     120\n",
       "6    4    4      59\n",
       "7    5    1      45\n",
       "8    5    2      53\n",
       "9    6    1     113"
      ]
     },
     "execution_count": 66,
     "metadata": {},
     "output_type": "execute_result"
    }
   ],
   "source": [
    "recipients.head(10)"
   ]
  },
  {
   "cell_type": "code",
   "execution_count": 67,
   "metadata": {
    "collapsed": false
   },
   "outputs": [
    {
     "data": {
      "text/plain": [
       "12116    57\n",
       "12151    57\n",
       "12140    55\n",
       "14404    52\n",
       "16035    49\n",
       "16431    24\n",
       "8116     22\n",
       "15577    21\n",
       "15148    21\n",
       "21103    20\n",
       "21047    19\n",
       "19671    18\n",
       "10087    17\n",
       "6495     17\n",
       "19028    16\n",
       "21628    16\n",
       "12584    16\n",
       "14194    16\n",
       "18305    16\n",
       "11492    16\n",
       "14547    16\n",
       "11516    16\n",
       "14457    16\n",
       "15584    15\n",
       "13770    15\n",
       "15121    15\n",
       "15219    15\n",
       "8970     15\n",
       "15116    15\n",
       "1355     15\n",
       "         ..\n",
       "2930      1\n",
       "17243     1\n",
       "21337     1\n",
       "9047      1\n",
       "11094     1\n",
       "13141     1\n",
       "15188     1\n",
       "2898      1\n",
       "4945      1\n",
       "6992      1\n",
       "17211     1\n",
       "19258     1\n",
       "21305     1\n",
       "11062     1\n",
       "17147     1\n",
       "13109     1\n",
       "15156     1\n",
       "2866      1\n",
       "4913      1\n",
       "17179     1\n",
       "19226     1\n",
       "21273     1\n",
       "11030     1\n",
       "13077     1\n",
       "15124     1\n",
       "787       1\n",
       "2834      1\n",
       "4881      1\n",
       "6928      1\n",
       "2049      1\n",
       "Name: mid, dtype: int64"
      ]
     },
     "execution_count": 67,
     "metadata": {},
     "output_type": "execute_result"
    }
   ],
   "source": [
    "recipients.mid.value_counts()"
   ]
  },
  {
   "cell_type": "markdown",
   "metadata": {},
   "source": [
    "## 2. Data Exploration\n",
    "\n",
    "Use the 3 dataframes to answer the following questions:\n",
    "\n",
    "1. How many employees are there in the company?\n",
    "- How many messages are there in the database?\n",
    "- Convert the timestamp column in the messages. When was the oldest message sent? And the newest?\n",
    "- Some messages are sent to more than one recipient. Group the messages by message_id and count the number of recepients. Then look at the distribution of recepient numbers.\n",
    "    - How many messages have only one recepient?\n",
    "    - How many messages have >= 5 recepients?\n",
    "    - What's the highest number of recepients?\n",
    "    - Who sent the message with the highest number of recepients?\n",
    "- Plot the distribution of recepient numbers using Bokeh."
   ]
  },
  {
   "cell_type": "code",
   "execution_count": 68,
   "metadata": {
    "collapsed": false
   },
   "outputs": [
    {
     "data": {
      "text/plain": [
       "156"
      ]
     },
     "execution_count": 68,
     "metadata": {},
     "output_type": "execute_result"
    }
   ],
   "source": [
    "len(employees)"
   ]
  },
  {
   "cell_type": "code",
   "execution_count": 69,
   "metadata": {
    "collapsed": false
   },
   "outputs": [
    {
     "data": {
      "text/plain": [
       "21635"
      ]
     },
     "execution_count": 69,
     "metadata": {},
     "output_type": "execute_result"
    }
   ],
   "source": [
    "len(messages)"
   ]
  },
  {
   "cell_type": "code",
   "execution_count": 70,
   "metadata": {
    "collapsed": false
   },
   "outputs": [
    {
     "name": "stdout",
     "output_type": "stream",
     "text": [
      "first msg was sent on: 1998-11-12 23:07:00\n",
      "last msg was sent on: 2002-06-21 09:37:34\n"
     ]
    }
   ],
   "source": [
    "datetimes = messages['unix_time'].apply(pd.datetime.fromtimestamp)\n",
    "print \"first msg was sent on:\", min(datetimes)\n",
    "print \"last msg was sent on:\", max(datetimes)"
   ]
  },
  {
   "cell_type": "code",
   "execution_count": 71,
   "metadata": {
    "collapsed": true
   },
   "outputs": [],
   "source": [
    "from collections import Counter"
   ]
  },
  {
   "cell_type": "code",
   "execution_count": 72,
   "metadata": {
    "collapsed": false
   },
   "outputs": [
    {
     "data": {
      "text/plain": [
       "Counter({1: 14985,\n",
       "         2: 2962,\n",
       "         3: 1435,\n",
       "         4: 873,\n",
       "         5: 711,\n",
       "         6: 180,\n",
       "         7: 176,\n",
       "         8: 61,\n",
       "         9: 24,\n",
       "         10: 29,\n",
       "         11: 47,\n",
       "         12: 33,\n",
       "         13: 57,\n",
       "         14: 11,\n",
       "         15: 28,\n",
       "         16: 9,\n",
       "         17: 2,\n",
       "         18: 1,\n",
       "         19: 1,\n",
       "         20: 1,\n",
       "         21: 2,\n",
       "         22: 1,\n",
       "         24: 1,\n",
       "         49: 1,\n",
       "         52: 1,\n",
       "         55: 1,\n",
       "         57: 2})"
      ]
     },
     "execution_count": 72,
     "metadata": {},
     "output_type": "execute_result"
    }
   ],
   "source": [
    "#counts = recipients.groupby('mid')['to_eid'].count().value_counts()\n",
    "counts = Counter(recipients.groupby('mid')['to_eid'].count())\n",
    "counts"
   ]
  },
  {
   "cell_type": "code",
   "execution_count": 73,
   "metadata": {
    "collapsed": false
   },
   "outputs": [
    {
     "data": {
      "text/html": [
       "\n",
       "    <div class=\"bk-banner\">\n",
       "        <a href=\"http://bokeh.pydata.org\" target=\"_blank\" class=\"bk-logo bk-logo-small bk-logo-notebook\"></a>\n",
       "        <span id=\"35290002-a50e-4a9e-9b6e-c58f9b787d1a\">Loading BokehJS ...</span>\n",
       "    </div>"
      ]
     },
     "metadata": {},
     "output_type": "display_data"
    },
    {
     "data": {
      "application/javascript": [
       "\n",
       "(function(global) {\n",
       "  function now() {\n",
       "    return new Date();\n",
       "  }\n",
       "\n",
       "  if (typeof (window._bokeh_onload_callbacks) === \"undefined\") {\n",
       "    window._bokeh_onload_callbacks = [];\n",
       "  }\n",
       "\n",
       "  function run_callbacks() {\n",
       "    window._bokeh_onload_callbacks.forEach(function(callback) { callback() });\n",
       "    delete window._bokeh_onload_callbacks\n",
       "    console.info(\"Bokeh: all callbacks have finished\");\n",
       "  }\n",
       "\n",
       "  function load_libs(js_urls, callback) {\n",
       "    window._bokeh_onload_callbacks.push(callback);\n",
       "    if (window._bokeh_is_loading > 0) {\n",
       "      console.log(\"Bokeh: BokehJS is being loaded, scheduling callback at\", now());\n",
       "      return null;\n",
       "    }\n",
       "    if (js_urls == null || js_urls.length === 0) {\n",
       "      run_callbacks();\n",
       "      return null;\n",
       "    }\n",
       "    console.log(\"Bokeh: BokehJS not loaded, scheduling load and callback at\", now());\n",
       "    window._bokeh_is_loading = js_urls.length;\n",
       "    for (var i = 0; i < js_urls.length; i++) {\n",
       "      var url = js_urls[i];\n",
       "      var s = document.createElement('script');\n",
       "      s.src = url;\n",
       "      s.async = false;\n",
       "      s.onreadystatechange = s.onload = function() {\n",
       "        window._bokeh_is_loading--;\n",
       "        if (window._bokeh_is_loading === 0) {\n",
       "          console.log(\"Bokeh: all BokehJS libraries loaded\");\n",
       "          run_callbacks()\n",
       "        }\n",
       "      };\n",
       "      s.onerror = function() {\n",
       "        console.warn(\"failed to load library \" + url);\n",
       "      };\n",
       "      console.log(\"Bokeh: injecting script tag for BokehJS library: \", url);\n",
       "      document.getElementsByTagName(\"head\")[0].appendChild(s);\n",
       "    }\n",
       "  };\n",
       "\n",
       "  var js_urls = ['https://cdn.pydata.org/bokeh/release/bokeh-0.11.1.min.js', 'https://cdn.pydata.org/bokeh/release/bokeh-widgets-0.11.1.min.js', 'https://cdn.pydata.org/bokeh/release/bokeh-compiler-0.11.1.min.js'];\n",
       "\n",
       "  var inline_js = [\n",
       "    function(Bokeh) {\n",
       "      Bokeh.set_log_level(\"info\");\n",
       "    },\n",
       "    \n",
       "    function(Bokeh) {\n",
       "      Bokeh.$(\"#35290002-a50e-4a9e-9b6e-c58f9b787d1a\").text(\"BokehJS successfully loaded\");\n",
       "    },\n",
       "    function(Bokeh) {\n",
       "      console.log(\"Bokeh: injecting CSS: https://cdn.pydata.org/bokeh/release/bokeh-0.11.1.min.css\");\n",
       "      Bokeh.embed.inject_css(\"https://cdn.pydata.org/bokeh/release/bokeh-0.11.1.min.css\");\n",
       "      console.log(\"Bokeh: injecting CSS: https://cdn.pydata.org/bokeh/release/bokeh-widgets-0.11.1.min.css\");\n",
       "      Bokeh.embed.inject_css(\"https://cdn.pydata.org/bokeh/release/bokeh-widgets-0.11.1.min.css\");\n",
       "    }\n",
       "  ];\n",
       "\n",
       "  function run_inline_js() {\n",
       "    for (var i = 0; i < inline_js.length; i++) {\n",
       "      inline_js[i](window.Bokeh);\n",
       "    }\n",
       "  }\n",
       "\n",
       "  if (window._bokeh_is_loading === 0) {\n",
       "    console.log(\"Bokeh: BokehJS loaded, going straight to plotting\");\n",
       "    run_inline_js();\n",
       "  } else {\n",
       "    load_libs(js_urls, function() {\n",
       "      console.log(\"Bokeh: BokehJS plotting callback run at\", now());\n",
       "      run_inline_js();\n",
       "    });\n",
       "  }\n",
       "}(this));"
      ]
     },
     "metadata": {},
     "output_type": "display_data"
    }
   ],
   "source": [
    "from bokeh.plotting import figure,show,output_notebook\n",
    "output_notebook()"
   ]
  },
  {
   "cell_type": "code",
   "execution_count": 74,
   "metadata": {
    "collapsed": false
   },
   "outputs": [
    {
     "data": {
      "text/html": [
       "\n",
       "\n",
       "    <div class=\"plotdiv\" id=\"99da01f8-c979-447a-9843-e65ddb5e9674\"></div>\n",
       "<script type=\"text/javascript\">\n",
       "  \n",
       "  (function(global) {\n",
       "    function now() {\n",
       "      return new Date();\n",
       "    }\n",
       "  \n",
       "    if (typeof (window._bokeh_onload_callbacks) === \"undefined\") {\n",
       "      window._bokeh_onload_callbacks = [];\n",
       "    }\n",
       "  \n",
       "    function run_callbacks() {\n",
       "      window._bokeh_onload_callbacks.forEach(function(callback) { callback() });\n",
       "      delete window._bokeh_onload_callbacks\n",
       "      console.info(\"Bokeh: all callbacks have finished\");\n",
       "    }\n",
       "  \n",
       "    function load_libs(js_urls, callback) {\n",
       "      window._bokeh_onload_callbacks.push(callback);\n",
       "      if (window._bokeh_is_loading > 0) {\n",
       "        console.log(\"Bokeh: BokehJS is being loaded, scheduling callback at\", now());\n",
       "        return null;\n",
       "      }\n",
       "      if (js_urls == null || js_urls.length === 0) {\n",
       "        run_callbacks();\n",
       "        return null;\n",
       "      }\n",
       "      console.log(\"Bokeh: BokehJS not loaded, scheduling load and callback at\", now());\n",
       "      window._bokeh_is_loading = js_urls.length;\n",
       "      for (var i = 0; i < js_urls.length; i++) {\n",
       "        var url = js_urls[i];\n",
       "        var s = document.createElement('script');\n",
       "        s.src = url;\n",
       "        s.async = false;\n",
       "        s.onreadystatechange = s.onload = function() {\n",
       "          window._bokeh_is_loading--;\n",
       "          if (window._bokeh_is_loading === 0) {\n",
       "            console.log(\"Bokeh: all BokehJS libraries loaded\");\n",
       "            run_callbacks()\n",
       "          }\n",
       "        };\n",
       "        s.onerror = function() {\n",
       "          console.warn(\"failed to load library \" + url);\n",
       "        };\n",
       "        console.log(\"Bokeh: injecting script tag for BokehJS library: \", url);\n",
       "        document.getElementsByTagName(\"head\")[0].appendChild(s);\n",
       "      }\n",
       "    };var element = document.getElementById(\"99da01f8-c979-447a-9843-e65ddb5e9674\");\n",
       "    if (element == null) {\n",
       "      console.log(\"Bokeh: ERROR: autoload.js configured with elementid '99da01f8-c979-447a-9843-e65ddb5e9674' but no matching script tag was found. \")\n",
       "      return false;\n",
       "    }\n",
       "  \n",
       "    var js_urls = [];\n",
       "  \n",
       "    var inline_js = [\n",
       "      function(Bokeh) {\n",
       "        Bokeh.$(function() {\n",
       "            var docs_json = {\"abde39d1-c885-4c15-8145-4e568e9a021d\":{\"roots\":{\"references\":[{\"attributes\":{\"callback\":null},\"id\":\"0f2ed15c-5999-49c8-826e-c4f5e3d9d42d\",\"type\":\"DataRange1d\"},{\"attributes\":{},\"id\":\"9f3951ef-8dca-498a-a042-4b07880d9fa5\",\"type\":\"ToolEvents\"},{\"attributes\":{},\"id\":\"78d43871-15ef-42d8-bd82-23aa7d6427a7\",\"type\":\"BasicTickFormatter\"},{\"attributes\":{\"plot\":{\"id\":\"5fbfc2d6-80a1-4652-bdbd-6e86837ed03e\",\"subtype\":\"Figure\",\"type\":\"Plot\"},\"ticker\":{\"id\":\"721e4e81-e2fd-4a20-82e7-84d6da192314\",\"type\":\"BasicTicker\"}},\"id\":\"17ccf5c2-f9e6-4ef6-a77e-62e67f7398de\",\"type\":\"Grid\"},{\"attributes\":{\"axis_label\":\"Counts\",\"formatter\":{\"id\":\"1d4e197b-71ee-4fbc-987a-b8bbacf3707e\",\"type\":\"BasicTickFormatter\"},\"plot\":{\"id\":\"e3f202fe-3355-4f57-973c-6680143912c7\",\"subtype\":\"Figure\",\"type\":\"Plot\"},\"ticker\":{\"id\":\"b5a7eb21-41d1-4f14-a8f1-ca7cd78fdc27\",\"type\":\"BasicTicker\"}},\"id\":\"6d0be291-8a8a-4c9a-bfab-2f4fd3549bd9\",\"type\":\"LinearAxis\"},{\"attributes\":{\"callback\":null,\"column_names\":[\"top\",\"right\",\"left\"],\"data\":{\"left\":[0.5,1.5,2.5,3.5,4.5,5.5,6.5,7.5,12.5,10.5,11.5,9.5,14.5,8.5,13.5,15.5,16.5,20.5,56.5,17.5,18.5,19.5,21.5,23.5,48.5,51.5,54.5],\"right\":[1.5,2.5,3.5,4.5,5.5,6.5,7.5,8.5,13.5,11.5,12.5,10.5,15.5,9.5,14.5,16.5,17.5,21.5,57.5,18.5,19.5,20.5,22.5,24.5,49.5,52.5,55.5],\"top\":[14985,2962,1435,873,711,180,176,61,57,47,33,29,28,24,11,9,2,2,2,1,1,1,1,1,1,1,1]}},\"id\":\"a4976d9c-bae3-40ff-b356-57e9d69c891c\",\"type\":\"ColumnDataSource\"},{\"attributes\":{\"data_source\":{\"id\":\"a4976d9c-bae3-40ff-b356-57e9d69c891c\",\"type\":\"ColumnDataSource\"},\"glyph\":{\"id\":\"0ecfa4fb-4026-4739-a8cc-265a85999237\",\"type\":\"Quad\"},\"hover_glyph\":null,\"nonselection_glyph\":{\"id\":\"e4da6a89-3e21-4736-bc3d-6cb76268417e\",\"type\":\"Quad\"},\"selection_glyph\":null},\"id\":\"63944d8b-7ed0-44b6-bdbe-f28f2efb9663\",\"type\":\"GlyphRenderer\"},{\"attributes\":{\"dimension\":1,\"plot\":{\"id\":\"26e51883-57f0-4ac1-9d3e-1087559605ad\",\"subtype\":\"Figure\",\"type\":\"Plot\"},\"ticker\":{\"id\":\"2011b19c-4efa-459e-852a-37ede29a29d8\",\"type\":\"BasicTicker\"}},\"id\":\"c7d92413-34d9-4738-9786-d4db91d1f59c\",\"type\":\"Grid\"},{\"attributes\":{\"axis_label\":\"Counts\",\"formatter\":{\"id\":\"c80fab84-1847-4df2-bcae-78373cc44824\",\"type\":\"BasicTickFormatter\"},\"plot\":{\"id\":\"5fbfc2d6-80a1-4652-bdbd-6e86837ed03e\",\"subtype\":\"Figure\",\"type\":\"Plot\"},\"ticker\":{\"id\":\"dbbefa1c-b707-4d05-bb22-fed43a677791\",\"type\":\"BasicTicker\"}},\"id\":\"e8c617ec-421b-403b-bb71-8331a7f3ff90\",\"type\":\"LinearAxis\"},{\"attributes\":{},\"id\":\"2011b19c-4efa-459e-852a-37ede29a29d8\",\"type\":\"BasicTicker\"},{\"attributes\":{\"bottom\":{\"value\":0},\"fill_color\":{\"value\":\"#1f77b4\"},\"left\":{\"field\":\"left\"},\"right\":{\"field\":\"right\"},\"top\":{\"field\":\"top\"}},\"id\":\"0ecfa4fb-4026-4739-a8cc-265a85999237\",\"type\":\"Quad\"},{\"attributes\":{},\"id\":\"1d4e197b-71ee-4fbc-987a-b8bbacf3707e\",\"type\":\"BasicTickFormatter\"},{\"attributes\":{},\"id\":\"c80fab84-1847-4df2-bcae-78373cc44824\",\"type\":\"BasicTickFormatter\"},{\"attributes\":{\"bottom\":{\"value\":0},\"fill_alpha\":{\"value\":0.1},\"fill_color\":{\"value\":\"#1f77b4\"},\"left\":{\"field\":\"left\"},\"line_alpha\":{\"value\":0.1},\"line_color\":{\"value\":\"#1f77b4\"},\"right\":{\"field\":\"right\"},\"top\":{\"field\":\"top\"}},\"id\":\"e4da6a89-3e21-4736-bc3d-6cb76268417e\",\"type\":\"Quad\"},{\"attributes\":{\"bottom\":{\"value\":0},\"fill_alpha\":{\"value\":0.1},\"fill_color\":{\"value\":\"#1f77b4\"},\"left\":{\"field\":\"left\"},\"line_alpha\":{\"value\":0.1},\"line_color\":{\"value\":\"#1f77b4\"},\"right\":{\"field\":\"right\"},\"top\":{\"field\":\"top\"}},\"id\":\"c3ce0ebc-955f-4df7-abd5-6e956ff059af\",\"type\":\"Quad\"},{\"attributes\":{},\"id\":\"25e32816-7199-402a-afb3-2ba1526dd38b\",\"type\":\"ToolEvents\"},{\"attributes\":{},\"id\":\"23dd8054-258f-47cd-a994-23843e07cb71\",\"type\":\"BasicTickFormatter\"},{\"attributes\":{},\"id\":\"dbbefa1c-b707-4d05-bb22-fed43a677791\",\"type\":\"BasicTicker\"},{\"attributes\":{\"callback\":null},\"id\":\"14a2a345-07d1-4e59-ac2c-80daa251d4ae\",\"type\":\"DataRange1d\"},{\"attributes\":{\"bottom\":{\"value\":0},\"fill_color\":{\"value\":\"#1f77b4\"},\"left\":{\"field\":\"left\"},\"right\":{\"field\":\"right\"},\"top\":{\"field\":\"top\"}},\"id\":\"521b3242-79cd-4e9e-9393-1e89ce061cbd\",\"type\":\"Quad\"},{\"attributes\":{\"callback\":null},\"id\":\"b5cda41f-9466-418d-a7bc-f54ffb349bb6\",\"type\":\"DataRange1d\"},{\"attributes\":{\"callback\":null},\"id\":\"32ce9ea7-4161-4f4b-8941-cee8a8a752c3\",\"type\":\"DataRange1d\"},{\"attributes\":{\"callback\":null,\"column_names\":[\"top\",\"right\",\"left\"],\"data\":{\"left\":[0.5,1.5,2.5,3.5,4.5,5.5,6.5,7.5,12.5,10.5,11.5,9.5,14.5,8.5,13.5,15.5,16.5,20.5,56.5,17.5,18.5,19.5,21.5,23.5,48.5,51.5,54.5],\"right\":[1.5,2.5,3.5,4.5,5.5,6.5,7.5,8.5,13.5,11.5,12.5,10.5,15.5,9.5,14.5,16.5,17.5,21.5,57.5,18.5,19.5,20.5,22.5,24.5,49.5,52.5,55.5],\"top\":[14985,2962,1435,873,711,180,176,61,57,47,33,29,28,24,11,9,2,2,2,1,1,1,1,1,1,1,1]}},\"id\":\"ad3cc8e6-85a4-415f-85f8-d72bcded8d8f\",\"type\":\"ColumnDataSource\"},{\"attributes\":{},\"id\":\"79c4f499-b5a1-4f2f-a3da-2d93312c1590\",\"type\":\"BasicTickFormatter\"},{\"attributes\":{\"plot\":{\"id\":\"26e51883-57f0-4ac1-9d3e-1087559605ad\",\"subtype\":\"Figure\",\"type\":\"Plot\"},\"ticker\":{\"id\":\"4b1f58a4-18be-4cd9-9aeb-fea1fabaf169\",\"type\":\"BasicTicker\"}},\"id\":\"9fef1819-7b2b-4736-80c5-3d1aa8035cab\",\"type\":\"Grid\"},{\"attributes\":{},\"id\":\"4b1f58a4-18be-4cd9-9aeb-fea1fabaf169\",\"type\":\"BasicTicker\"},{\"attributes\":{\"data_source\":{\"id\":\"102f003c-40e6-458f-a6e2-5608ffe75dcd\",\"type\":\"ColumnDataSource\"},\"glyph\":{\"id\":\"521b3242-79cd-4e9e-9393-1e89ce061cbd\",\"type\":\"Quad\"},\"hover_glyph\":null,\"nonselection_glyph\":{\"id\":\"c3ce0ebc-955f-4df7-abd5-6e956ff059af\",\"type\":\"Quad\"},\"selection_glyph\":null},\"id\":\"43923367-2778-4de9-a2ea-e83c7a31c040\",\"type\":\"GlyphRenderer\"},{\"attributes\":{\"below\":[{\"id\":\"3a25819a-602a-428e-941f-c813eca44d1f\",\"type\":\"LinearAxis\"}],\"left\":[{\"id\":\"6d0be291-8a8a-4c9a-bfab-2f4fd3549bd9\",\"type\":\"LinearAxis\"}],\"renderers\":[{\"id\":\"3a25819a-602a-428e-941f-c813eca44d1f\",\"type\":\"LinearAxis\"},{\"id\":\"c3c01ec1-b9a0-465a-a839-7ad8aa9e8ac8\",\"type\":\"Grid\"},{\"id\":\"6d0be291-8a8a-4c9a-bfab-2f4fd3549bd9\",\"type\":\"LinearAxis\"},{\"id\":\"058a06f6-f61b-4514-ae31-f94957ed16a8\",\"type\":\"Grid\"},{\"id\":\"f41bf77d-620c-42e3-be56-fabb4c467663\",\"type\":\"GlyphRenderer\"}],\"title\":\"Message Recipients\",\"tool_events\":{\"id\":\"9f3951ef-8dca-498a-a042-4b07880d9fa5\",\"type\":\"ToolEvents\"},\"x_range\":{\"id\":\"c5b7c974-2a22-4823-8f05-b407b01337d1\",\"type\":\"DataRange1d\"},\"y_range\":{\"id\":\"987ccb9d-b977-4b56-9dd4-62829adec702\",\"type\":\"DataRange1d\"}},\"id\":\"e3f202fe-3355-4f57-973c-6680143912c7\",\"subtype\":\"Figure\",\"type\":\"Plot\"},{\"attributes\":{},\"id\":\"7fc1ef41-49e5-4ef6-8b81-a0cd04921fd6\",\"type\":\"ToolEvents\"},{\"attributes\":{\"below\":[{\"id\":\"00e233c0-4f17-455a-9bee-8a7bb889b0fb\",\"type\":\"LinearAxis\"}],\"left\":[{\"id\":\"e8c617ec-421b-403b-bb71-8331a7f3ff90\",\"type\":\"LinearAxis\"}],\"renderers\":[{\"id\":\"00e233c0-4f17-455a-9bee-8a7bb889b0fb\",\"type\":\"LinearAxis\"},{\"id\":\"17ccf5c2-f9e6-4ef6-a77e-62e67f7398de\",\"type\":\"Grid\"},{\"id\":\"e8c617ec-421b-403b-bb71-8331a7f3ff90\",\"type\":\"LinearAxis\"},{\"id\":\"ea56e16a-36a3-4f3a-bb64-b24b12007614\",\"type\":\"Grid\"},{\"id\":\"43923367-2778-4de9-a2ea-e83c7a31c040\",\"type\":\"GlyphRenderer\"}],\"title\":\"Message Recipients\",\"tool_events\":{\"id\":\"7fc1ef41-49e5-4ef6-8b81-a0cd04921fd6\",\"type\":\"ToolEvents\"},\"x_range\":{\"id\":\"0f2ed15c-5999-49c8-826e-c4f5e3d9d42d\",\"type\":\"DataRange1d\"},\"y_range\":{\"id\":\"32ce9ea7-4161-4f4b-8941-cee8a8a752c3\",\"type\":\"DataRange1d\"}},\"id\":\"5fbfc2d6-80a1-4652-bdbd-6e86837ed03e\",\"subtype\":\"Figure\",\"type\":\"Plot\"},{\"attributes\":{\"dimension\":1,\"plot\":{\"id\":\"5fbfc2d6-80a1-4652-bdbd-6e86837ed03e\",\"subtype\":\"Figure\",\"type\":\"Plot\"},\"ticker\":{\"id\":\"dbbefa1c-b707-4d05-bb22-fed43a677791\",\"type\":\"BasicTicker\"}},\"id\":\"ea56e16a-36a3-4f3a-bb64-b24b12007614\",\"type\":\"Grid\"},{\"attributes\":{\"callback\":null},\"id\":\"987ccb9d-b977-4b56-9dd4-62829adec702\",\"type\":\"DataRange1d\"},{\"attributes\":{\"data_source\":{\"id\":\"ad3cc8e6-85a4-415f-85f8-d72bcded8d8f\",\"type\":\"ColumnDataSource\"},\"glyph\":{\"id\":\"d0316630-9486-404c-b4c2-74eb6a7b690d\",\"type\":\"Quad\"},\"hover_glyph\":null,\"nonselection_glyph\":{\"id\":\"e9910077-e97f-43e3-83c8-8c31bddcfdd9\",\"type\":\"Quad\"},\"selection_glyph\":null},\"id\":\"f41bf77d-620c-42e3-be56-fabb4c467663\",\"type\":\"GlyphRenderer\"},{\"attributes\":{\"dimension\":1,\"plot\":{\"id\":\"e3f202fe-3355-4f57-973c-6680143912c7\",\"subtype\":\"Figure\",\"type\":\"Plot\"},\"ticker\":{\"id\":\"b5a7eb21-41d1-4f14-a8f1-ca7cd78fdc27\",\"type\":\"BasicTicker\"}},\"id\":\"058a06f6-f61b-4514-ae31-f94957ed16a8\",\"type\":\"Grid\"},{\"attributes\":{\"below\":[{\"id\":\"d3ed3724-2867-4dcf-abd9-b4132b4c1d75\",\"type\":\"LinearAxis\"}],\"left\":[{\"id\":\"c87d7e87-43ae-4afa-a073-357868c1f224\",\"type\":\"LinearAxis\"}],\"renderers\":[{\"id\":\"d3ed3724-2867-4dcf-abd9-b4132b4c1d75\",\"type\":\"LinearAxis\"},{\"id\":\"9fef1819-7b2b-4736-80c5-3d1aa8035cab\",\"type\":\"Grid\"},{\"id\":\"c87d7e87-43ae-4afa-a073-357868c1f224\",\"type\":\"LinearAxis\"},{\"id\":\"c7d92413-34d9-4738-9786-d4db91d1f59c\",\"type\":\"Grid\"},{\"id\":\"63944d8b-7ed0-44b6-bdbe-f28f2efb9663\",\"type\":\"GlyphRenderer\"}],\"title\":\"Message Recipients\",\"tool_events\":{\"id\":\"25e32816-7199-402a-afb3-2ba1526dd38b\",\"type\":\"ToolEvents\"},\"x_range\":{\"id\":\"b5cda41f-9466-418d-a7bc-f54ffb349bb6\",\"type\":\"DataRange1d\"},\"y_range\":{\"id\":\"14a2a345-07d1-4e59-ac2c-80daa251d4ae\",\"type\":\"DataRange1d\"}},\"id\":\"26e51883-57f0-4ac1-9d3e-1087559605ad\",\"subtype\":\"Figure\",\"type\":\"Plot\"},{\"attributes\":{\"callback\":null},\"id\":\"c5b7c974-2a22-4823-8f05-b407b01337d1\",\"type\":\"DataRange1d\"},{\"attributes\":{\"axis_label\":\"# of recipients\",\"formatter\":{\"id\":\"23dd8054-258f-47cd-a994-23843e07cb71\",\"type\":\"BasicTickFormatter\"},\"plot\":{\"id\":\"e3f202fe-3355-4f57-973c-6680143912c7\",\"subtype\":\"Figure\",\"type\":\"Plot\"},\"ticker\":{\"id\":\"78514647-d5a2-4d9e-9557-e66ffef8c2b5\",\"type\":\"BasicTicker\"}},\"id\":\"3a25819a-602a-428e-941f-c813eca44d1f\",\"type\":\"LinearAxis\"},{\"attributes\":{\"axis_label\":\"Counts\",\"formatter\":{\"id\":\"a7af1762-8087-43fd-b99a-2203a05b8f52\",\"type\":\"BasicTickFormatter\"},\"plot\":{\"id\":\"26e51883-57f0-4ac1-9d3e-1087559605ad\",\"subtype\":\"Figure\",\"type\":\"Plot\"},\"ticker\":{\"id\":\"2011b19c-4efa-459e-852a-37ede29a29d8\",\"type\":\"BasicTicker\"}},\"id\":\"c87d7e87-43ae-4afa-a073-357868c1f224\",\"type\":\"LinearAxis\"},{\"attributes\":{\"plot\":{\"id\":\"e3f202fe-3355-4f57-973c-6680143912c7\",\"subtype\":\"Figure\",\"type\":\"Plot\"},\"ticker\":{\"id\":\"78514647-d5a2-4d9e-9557-e66ffef8c2b5\",\"type\":\"BasicTicker\"}},\"id\":\"c3c01ec1-b9a0-465a-a839-7ad8aa9e8ac8\",\"type\":\"Grid\"},{\"attributes\":{},\"id\":\"b5a7eb21-41d1-4f14-a8f1-ca7cd78fdc27\",\"type\":\"BasicTicker\"},{\"attributes\":{\"bottom\":{\"value\":0},\"fill_color\":{\"value\":\"#1f77b4\"},\"left\":{\"field\":\"left\"},\"right\":{\"field\":\"right\"},\"top\":{\"field\":\"top\"}},\"id\":\"d0316630-9486-404c-b4c2-74eb6a7b690d\",\"type\":\"Quad\"},{\"attributes\":{},\"id\":\"a7af1762-8087-43fd-b99a-2203a05b8f52\",\"type\":\"BasicTickFormatter\"},{\"attributes\":{},\"id\":\"721e4e81-e2fd-4a20-82e7-84d6da192314\",\"type\":\"BasicTicker\"},{\"attributes\":{\"callback\":null,\"column_names\":[\"top\",\"right\",\"left\"],\"data\":{\"left\":[5.5,6.5,7.5,12.5,10.5,11.5,9.5,14.5,8.5,13.5,15.5,16.5,20.5,56.5,17.5,18.5,19.5,21.5,23.5,48.5,51.5,54.5],\"right\":[6.5,7.5,8.5,13.5,11.5,12.5,10.5,15.5,9.5,14.5,16.5,17.5,21.5,57.5,18.5,19.5,20.5,22.5,24.5,49.5,52.5,55.5],\"top\":[180,176,61,57,47,33,29,28,24,11,9,2,2,2,1,1,1,1,1,1,1,1]}},\"id\":\"102f003c-40e6-458f-a6e2-5608ffe75dcd\",\"type\":\"ColumnDataSource\"},{\"attributes\":{\"axis_label\":\"# of recipients\",\"formatter\":{\"id\":\"78d43871-15ef-42d8-bd82-23aa7d6427a7\",\"type\":\"BasicTickFormatter\"},\"plot\":{\"id\":\"5fbfc2d6-80a1-4652-bdbd-6e86837ed03e\",\"subtype\":\"Figure\",\"type\":\"Plot\"},\"ticker\":{\"id\":\"721e4e81-e2fd-4a20-82e7-84d6da192314\",\"type\":\"BasicTicker\"}},\"id\":\"00e233c0-4f17-455a-9bee-8a7bb889b0fb\",\"type\":\"LinearAxis\"},{\"attributes\":{\"bottom\":{\"value\":0},\"fill_alpha\":{\"value\":0.1},\"fill_color\":{\"value\":\"#1f77b4\"},\"left\":{\"field\":\"left\"},\"line_alpha\":{\"value\":0.1},\"line_color\":{\"value\":\"#1f77b4\"},\"right\":{\"field\":\"right\"},\"top\":{\"field\":\"top\"}},\"id\":\"e9910077-e97f-43e3-83c8-8c31bddcfdd9\",\"type\":\"Quad\"},{\"attributes\":{\"axis_label\":\"# of recipients\",\"formatter\":{\"id\":\"79c4f499-b5a1-4f2f-a3da-2d93312c1590\",\"type\":\"BasicTickFormatter\"},\"plot\":{\"id\":\"26e51883-57f0-4ac1-9d3e-1087559605ad\",\"subtype\":\"Figure\",\"type\":\"Plot\"},\"ticker\":{\"id\":\"4b1f58a4-18be-4cd9-9aeb-fea1fabaf169\",\"type\":\"BasicTicker\"}},\"id\":\"d3ed3724-2867-4dcf-abd9-b4132b4c1d75\",\"type\":\"LinearAxis\"},{\"attributes\":{},\"id\":\"78514647-d5a2-4d9e-9557-e66ffef8c2b5\",\"type\":\"BasicTicker\"}],\"root_ids\":[\"e3f202fe-3355-4f57-973c-6680143912c7\",\"5fbfc2d6-80a1-4652-bdbd-6e86837ed03e\",\"26e51883-57f0-4ac1-9d3e-1087559605ad\"]},\"title\":\"Bokeh Application\",\"version\":\"0.11.1\"}};\n",
       "            var render_items = [{\"docid\":\"abde39d1-c885-4c15-8145-4e568e9a021d\",\"elementid\":\"99da01f8-c979-447a-9843-e65ddb5e9674\",\"modelid\":\"26e51883-57f0-4ac1-9d3e-1087559605ad\",\"notebook_comms_target\":\"02b646c2-7732-4b33-81a5-acca5f5394d1\"}];\n",
       "            \n",
       "            Bokeh.embed.embed_items(docs_json, render_items);\n",
       "        });\n",
       "      },\n",
       "      function(Bokeh) {\n",
       "      }\n",
       "    ];\n",
       "  \n",
       "    function run_inline_js() {\n",
       "      for (var i = 0; i < inline_js.length; i++) {\n",
       "        inline_js[i](window.Bokeh);\n",
       "      }\n",
       "    }\n",
       "  \n",
       "    if (window._bokeh_is_loading === 0) {\n",
       "      console.log(\"Bokeh: BokehJS loaded, going straight to plotting\");\n",
       "      run_inline_js();\n",
       "    } else {\n",
       "      load_libs(js_urls, function() {\n",
       "        console.log(\"Bokeh: BokehJS plotting callback run at\", now());\n",
       "        run_inline_js();\n",
       "      });\n",
       "    }\n",
       "  }(this));\n",
       "</script>"
      ]
     },
     "metadata": {},
     "output_type": "display_data"
    },
    {
     "data": {
      "text/html": [
       "<p><code>&lt;Bokeh Notebook handle for <strong>In[74]</strong>&gt;</code></p>"
      ],
      "text/plain": [
       "<bokeh.io._CommsHandle at 0x1131cb950>"
      ]
     },
     "execution_count": 74,
     "metadata": {},
     "output_type": "execute_result"
    }
   ],
   "source": [
    "x = [i[0] for i in counts.most_common()]\n",
    "y = [i[1] for i in counts.most_common()]\n",
    "left_border = [val-0.5 for val in x]\n",
    "right_border = [val+0.5 for val in x]\n",
    "\n",
    "\n",
    "p= figure(title=\"Message Recipients\",tools='',x_axis_label='# of recipients',y_axis_label='Counts')\n",
    "p.quad(top=y,left=left_border,right=right_border,bottom=0,line_color='black')\n",
    "show(p)"
   ]
  },
  {
   "cell_type": "markdown",
   "metadata": {},
   "source": [
    "Rescale to investigate the tail of the curve"
   ]
  },
  {
   "cell_type": "code",
   "execution_count": 75,
   "metadata": {
    "collapsed": false
   },
   "outputs": [
    {
     "data": {
      "text/html": [
       "\n",
       "\n",
       "    <div class=\"plotdiv\" id=\"9909d066-96c2-4af7-a1b0-ee6f94de1120\"></div>\n",
       "<script type=\"text/javascript\">\n",
       "  \n",
       "  (function(global) {\n",
       "    function now() {\n",
       "      return new Date();\n",
       "    }\n",
       "  \n",
       "    if (typeof (window._bokeh_onload_callbacks) === \"undefined\") {\n",
       "      window._bokeh_onload_callbacks = [];\n",
       "    }\n",
       "  \n",
       "    function run_callbacks() {\n",
       "      window._bokeh_onload_callbacks.forEach(function(callback) { callback() });\n",
       "      delete window._bokeh_onload_callbacks\n",
       "      console.info(\"Bokeh: all callbacks have finished\");\n",
       "    }\n",
       "  \n",
       "    function load_libs(js_urls, callback) {\n",
       "      window._bokeh_onload_callbacks.push(callback);\n",
       "      if (window._bokeh_is_loading > 0) {\n",
       "        console.log(\"Bokeh: BokehJS is being loaded, scheduling callback at\", now());\n",
       "        return null;\n",
       "      }\n",
       "      if (js_urls == null || js_urls.length === 0) {\n",
       "        run_callbacks();\n",
       "        return null;\n",
       "      }\n",
       "      console.log(\"Bokeh: BokehJS not loaded, scheduling load and callback at\", now());\n",
       "      window._bokeh_is_loading = js_urls.length;\n",
       "      for (var i = 0; i < js_urls.length; i++) {\n",
       "        var url = js_urls[i];\n",
       "        var s = document.createElement('script');\n",
       "        s.src = url;\n",
       "        s.async = false;\n",
       "        s.onreadystatechange = s.onload = function() {\n",
       "          window._bokeh_is_loading--;\n",
       "          if (window._bokeh_is_loading === 0) {\n",
       "            console.log(\"Bokeh: all BokehJS libraries loaded\");\n",
       "            run_callbacks()\n",
       "          }\n",
       "        };\n",
       "        s.onerror = function() {\n",
       "          console.warn(\"failed to load library \" + url);\n",
       "        };\n",
       "        console.log(\"Bokeh: injecting script tag for BokehJS library: \", url);\n",
       "        document.getElementsByTagName(\"head\")[0].appendChild(s);\n",
       "      }\n",
       "    };var element = document.getElementById(\"9909d066-96c2-4af7-a1b0-ee6f94de1120\");\n",
       "    if (element == null) {\n",
       "      console.log(\"Bokeh: ERROR: autoload.js configured with elementid '9909d066-96c2-4af7-a1b0-ee6f94de1120' but no matching script tag was found. \")\n",
       "      return false;\n",
       "    }\n",
       "  \n",
       "    var js_urls = [];\n",
       "  \n",
       "    var inline_js = [\n",
       "      function(Bokeh) {\n",
       "        Bokeh.$(function() {\n",
       "            var docs_json = {\"8bc00597-b94e-4de4-b5a9-0c8a575d4417\":{\"roots\":{\"references\":[{\"attributes\":{\"plot\":{\"id\":\"26e51883-57f0-4ac1-9d3e-1087559605ad\",\"subtype\":\"Figure\",\"type\":\"Plot\"},\"ticker\":{\"id\":\"4b1f58a4-18be-4cd9-9aeb-fea1fabaf169\",\"type\":\"BasicTicker\"}},\"id\":\"9fef1819-7b2b-4736-80c5-3d1aa8035cab\",\"type\":\"Grid\"},{\"attributes\":{\"callback\":null},\"id\":\"0f2ed15c-5999-49c8-826e-c4f5e3d9d42d\",\"type\":\"DataRange1d\"},{\"attributes\":{},\"id\":\"9f3951ef-8dca-498a-a042-4b07880d9fa5\",\"type\":\"ToolEvents\"},{\"attributes\":{},\"id\":\"78d43871-15ef-42d8-bd82-23aa7d6427a7\",\"type\":\"BasicTickFormatter\"},{\"attributes\":{\"plot\":{\"id\":\"5fbfc2d6-80a1-4652-bdbd-6e86837ed03e\",\"subtype\":\"Figure\",\"type\":\"Plot\"},\"ticker\":{\"id\":\"721e4e81-e2fd-4a20-82e7-84d6da192314\",\"type\":\"BasicTicker\"}},\"id\":\"17ccf5c2-f9e6-4ef6-a77e-62e67f7398de\",\"type\":\"Grid\"},{\"attributes\":{\"dimension\":1,\"plot\":{\"id\":\"26e51883-57f0-4ac1-9d3e-1087559605ad\",\"subtype\":\"Figure\",\"type\":\"Plot\"},\"ticker\":{\"id\":\"2011b19c-4efa-459e-852a-37ede29a29d8\",\"type\":\"BasicTicker\"}},\"id\":\"c7d92413-34d9-4738-9786-d4db91d1f59c\",\"type\":\"Grid\"},{\"attributes\":{\"below\":[{\"id\":\"3a25819a-602a-428e-941f-c813eca44d1f\",\"type\":\"LinearAxis\"}],\"left\":[{\"id\":\"6d0be291-8a8a-4c9a-bfab-2f4fd3549bd9\",\"type\":\"LinearAxis\"}],\"renderers\":[{\"id\":\"3a25819a-602a-428e-941f-c813eca44d1f\",\"type\":\"LinearAxis\"},{\"id\":\"c3c01ec1-b9a0-465a-a839-7ad8aa9e8ac8\",\"type\":\"Grid\"},{\"id\":\"6d0be291-8a8a-4c9a-bfab-2f4fd3549bd9\",\"type\":\"LinearAxis\"},{\"id\":\"058a06f6-f61b-4514-ae31-f94957ed16a8\",\"type\":\"Grid\"},{\"id\":\"f41bf77d-620c-42e3-be56-fabb4c467663\",\"type\":\"GlyphRenderer\"}],\"title\":\"Message Recipients\",\"tool_events\":{\"id\":\"9f3951ef-8dca-498a-a042-4b07880d9fa5\",\"type\":\"ToolEvents\"},\"x_range\":{\"id\":\"c5b7c974-2a22-4823-8f05-b407b01337d1\",\"type\":\"DataRange1d\"},\"y_range\":{\"id\":\"987ccb9d-b977-4b56-9dd4-62829adec702\",\"type\":\"DataRange1d\"}},\"id\":\"e3f202fe-3355-4f57-973c-6680143912c7\",\"subtype\":\"Figure\",\"type\":\"Plot\"},{\"attributes\":{\"data_source\":{\"id\":\"a4976d9c-bae3-40ff-b356-57e9d69c891c\",\"type\":\"ColumnDataSource\"},\"glyph\":{\"id\":\"0ecfa4fb-4026-4739-a8cc-265a85999237\",\"type\":\"Quad\"},\"hover_glyph\":null,\"nonselection_glyph\":{\"id\":\"e4da6a89-3e21-4736-bc3d-6cb76268417e\",\"type\":\"Quad\"},\"selection_glyph\":null},\"id\":\"63944d8b-7ed0-44b6-bdbe-f28f2efb9663\",\"type\":\"GlyphRenderer\"},{\"attributes\":{\"callback\":null,\"column_names\":[\"top\",\"right\",\"left\"],\"data\":{\"left\":[5.5,6.5,7.5,12.5,10.5,11.5,9.5,14.5,8.5,13.5,15.5,16.5,20.5,56.5,17.5,18.5,19.5,21.5,23.5,48.5,51.5,54.5],\"right\":[6.5,7.5,8.5,13.5,11.5,12.5,10.5,15.5,9.5,14.5,16.5,17.5,21.5,57.5,18.5,19.5,20.5,22.5,24.5,49.5,52.5,55.5],\"top\":[180,176,61,57,47,33,29,28,24,11,9,2,2,2,1,1,1,1,1,1,1,1]}},\"id\":\"86c89eb3-87b3-46c7-800b-44b58504a490\",\"type\":\"ColumnDataSource\"},{\"attributes\":{\"axis_label\":\"Counts\",\"formatter\":{\"id\":\"1d4e197b-71ee-4fbc-987a-b8bbacf3707e\",\"type\":\"BasicTickFormatter\"},\"plot\":{\"id\":\"e3f202fe-3355-4f57-973c-6680143912c7\",\"subtype\":\"Figure\",\"type\":\"Plot\"},\"ticker\":{\"id\":\"b5a7eb21-41d1-4f14-a8f1-ca7cd78fdc27\",\"type\":\"BasicTicker\"}},\"id\":\"6d0be291-8a8a-4c9a-bfab-2f4fd3549bd9\",\"type\":\"LinearAxis\"},{\"attributes\":{\"bottom\":{\"value\":0},\"fill_alpha\":{\"value\":0.1},\"fill_color\":{\"value\":\"#1f77b4\"},\"left\":{\"field\":\"left\"},\"line_alpha\":{\"value\":0.1},\"line_color\":{\"value\":\"#1f77b4\"},\"right\":{\"field\":\"right\"},\"top\":{\"field\":\"top\"}},\"id\":\"b5a8f7d3-61ff-4de3-a611-71e00f666cbe\",\"type\":\"Quad\"},{\"attributes\":{\"axis_label\":\"Counts\",\"formatter\":{\"id\":\"c80fab84-1847-4df2-bcae-78373cc44824\",\"type\":\"BasicTickFormatter\"},\"plot\":{\"id\":\"5fbfc2d6-80a1-4652-bdbd-6e86837ed03e\",\"subtype\":\"Figure\",\"type\":\"Plot\"},\"ticker\":{\"id\":\"dbbefa1c-b707-4d05-bb22-fed43a677791\",\"type\":\"BasicTicker\"}},\"id\":\"e8c617ec-421b-403b-bb71-8331a7f3ff90\",\"type\":\"LinearAxis\"},{\"attributes\":{\"dimension\":1,\"plot\":{\"id\":\"e3f202fe-3355-4f57-973c-6680143912c7\",\"subtype\":\"Figure\",\"type\":\"Plot\"},\"ticker\":{\"id\":\"b5a7eb21-41d1-4f14-a8f1-ca7cd78fdc27\",\"type\":\"BasicTicker\"}},\"id\":\"058a06f6-f61b-4514-ae31-f94957ed16a8\",\"type\":\"Grid\"},{\"attributes\":{},\"id\":\"2011b19c-4efa-459e-852a-37ede29a29d8\",\"type\":\"BasicTicker\"},{\"attributes\":{\"bottom\":{\"value\":0},\"fill_color\":{\"value\":\"#1f77b4\"},\"left\":{\"field\":\"left\"},\"right\":{\"field\":\"right\"},\"top\":{\"field\":\"top\"}},\"id\":\"0ecfa4fb-4026-4739-a8cc-265a85999237\",\"type\":\"Quad\"},{\"attributes\":{},\"id\":\"c80fab84-1847-4df2-bcae-78373cc44824\",\"type\":\"BasicTickFormatter\"},{\"attributes\":{\"bottom\":{\"value\":0},\"fill_alpha\":{\"value\":0.1},\"fill_color\":{\"value\":\"#1f77b4\"},\"left\":{\"field\":\"left\"},\"line_alpha\":{\"value\":0.1},\"line_color\":{\"value\":\"#1f77b4\"},\"right\":{\"field\":\"right\"},\"top\":{\"field\":\"top\"}},\"id\":\"e4da6a89-3e21-4736-bc3d-6cb76268417e\",\"type\":\"Quad\"},{\"attributes\":{\"bottom\":{\"value\":0},\"fill_alpha\":{\"value\":0.1},\"fill_color\":{\"value\":\"#1f77b4\"},\"left\":{\"field\":\"left\"},\"line_alpha\":{\"value\":0.1},\"line_color\":{\"value\":\"#1f77b4\"},\"right\":{\"field\":\"right\"},\"top\":{\"field\":\"top\"}},\"id\":\"c3ce0ebc-955f-4df7-abd5-6e956ff059af\",\"type\":\"Quad\"},{\"attributes\":{},\"id\":\"25e32816-7199-402a-afb3-2ba1526dd38b\",\"type\":\"ToolEvents\"},{\"attributes\":{},\"id\":\"23dd8054-258f-47cd-a994-23843e07cb71\",\"type\":\"BasicTickFormatter\"},{\"attributes\":{\"axis_label\":\"Counts\",\"formatter\":{\"id\":\"2cc6e168-dc57-4bac-8858-fb17d764be76\",\"type\":\"BasicTickFormatter\"},\"plot\":{\"id\":\"d7617622-f8e2-4be7-86cc-04ad1b1b12ba\",\"subtype\":\"Figure\",\"type\":\"Plot\"},\"ticker\":{\"id\":\"98a1d008-985c-4c55-9ecb-6f70c5e9b993\",\"type\":\"BasicTicker\"}},\"id\":\"c58adb85-c060-4d89-91e2-98ef4fd7af03\",\"type\":\"LinearAxis\"},{\"attributes\":{},\"id\":\"dbbefa1c-b707-4d05-bb22-fed43a677791\",\"type\":\"BasicTicker\"},{\"attributes\":{},\"id\":\"b4c8a650-ba1c-4cdc-81db-e59238e462e7\",\"type\":\"BasicTickFormatter\"},{\"attributes\":{\"callback\":null},\"id\":\"14a2a345-07d1-4e59-ac2c-80daa251d4ae\",\"type\":\"DataRange1d\"},{\"attributes\":{\"bottom\":{\"value\":0},\"fill_color\":{\"value\":\"#1f77b4\"},\"left\":{\"field\":\"left\"},\"right\":{\"field\":\"right\"},\"top\":{\"field\":\"top\"}},\"id\":\"521b3242-79cd-4e9e-9393-1e89ce061cbd\",\"type\":\"Quad\"},{\"attributes\":{\"callback\":null},\"id\":\"b5cda41f-9466-418d-a7bc-f54ffb349bb6\",\"type\":\"DataRange1d\"},{\"attributes\":{\"callback\":null},\"id\":\"32ce9ea7-4161-4f4b-8941-cee8a8a752c3\",\"type\":\"DataRange1d\"},{\"attributes\":{\"bottom\":{\"value\":0},\"fill_color\":{\"value\":\"#1f77b4\"},\"left\":{\"field\":\"left\"},\"right\":{\"field\":\"right\"},\"top\":{\"field\":\"top\"}},\"id\":\"d0316630-9486-404c-b4c2-74eb6a7b690d\",\"type\":\"Quad\"},{\"attributes\":{},\"id\":\"79c4f499-b5a1-4f2f-a3da-2d93312c1590\",\"type\":\"BasicTickFormatter\"},{\"attributes\":{\"axis_label\":\"# of recipients\",\"formatter\":{\"id\":\"b4c8a650-ba1c-4cdc-81db-e59238e462e7\",\"type\":\"BasicTickFormatter\"},\"plot\":{\"id\":\"d7617622-f8e2-4be7-86cc-04ad1b1b12ba\",\"subtype\":\"Figure\",\"type\":\"Plot\"},\"ticker\":{\"id\":\"c72a6bf5-6919-499a-a0ed-d2a544468694\",\"type\":\"BasicTicker\"}},\"id\":\"7615a6cc-78b4-4341-8f65-d7b5777e2d8d\",\"type\":\"LinearAxis\"},{\"attributes\":{\"callback\":null},\"id\":\"c5b7c974-2a22-4823-8f05-b407b01337d1\",\"type\":\"DataRange1d\"},{\"attributes\":{},\"id\":\"c72a6bf5-6919-499a-a0ed-d2a544468694\",\"type\":\"BasicTicker\"},{\"attributes\":{\"plot\":{\"id\":\"d7617622-f8e2-4be7-86cc-04ad1b1b12ba\",\"subtype\":\"Figure\",\"type\":\"Plot\"},\"ticker\":{\"id\":\"c72a6bf5-6919-499a-a0ed-d2a544468694\",\"type\":\"BasicTicker\"}},\"id\":\"bf94ac59-e076-4a6b-bc9d-acaa0c1a364a\",\"type\":\"Grid\"},{\"attributes\":{},\"id\":\"1d4e197b-71ee-4fbc-987a-b8bbacf3707e\",\"type\":\"BasicTickFormatter\"},{\"attributes\":{\"data_source\":{\"id\":\"102f003c-40e6-458f-a6e2-5608ffe75dcd\",\"type\":\"ColumnDataSource\"},\"glyph\":{\"id\":\"521b3242-79cd-4e9e-9393-1e89ce061cbd\",\"type\":\"Quad\"},\"hover_glyph\":null,\"nonselection_glyph\":{\"id\":\"c3ce0ebc-955f-4df7-abd5-6e956ff059af\",\"type\":\"Quad\"},\"selection_glyph\":null},\"id\":\"43923367-2778-4de9-a2ea-e83c7a31c040\",\"type\":\"GlyphRenderer\"},{\"attributes\":{\"callback\":null,\"column_names\":[\"top\",\"right\",\"left\"],\"data\":{\"left\":[0.5,1.5,2.5,3.5,4.5,5.5,6.5,7.5,12.5,10.5,11.5,9.5,14.5,8.5,13.5,15.5,16.5,20.5,56.5,17.5,18.5,19.5,21.5,23.5,48.5,51.5,54.5],\"right\":[1.5,2.5,3.5,4.5,5.5,6.5,7.5,8.5,13.5,11.5,12.5,10.5,15.5,9.5,14.5,16.5,17.5,21.5,57.5,18.5,19.5,20.5,22.5,24.5,49.5,52.5,55.5],\"top\":[14985,2962,1435,873,711,180,176,61,57,47,33,29,28,24,11,9,2,2,2,1,1,1,1,1,1,1,1]}},\"id\":\"a4976d9c-bae3-40ff-b356-57e9d69c891c\",\"type\":\"ColumnDataSource\"},{\"attributes\":{},\"id\":\"7fc1ef41-49e5-4ef6-8b81-a0cd04921fd6\",\"type\":\"ToolEvents\"},{\"attributes\":{\"data_source\":{\"id\":\"86c89eb3-87b3-46c7-800b-44b58504a490\",\"type\":\"ColumnDataSource\"},\"glyph\":{\"id\":\"34c13168-d3a4-4dcd-b608-ec1178c8bc3c\",\"type\":\"Quad\"},\"hover_glyph\":null,\"nonselection_glyph\":{\"id\":\"b5a8f7d3-61ff-4de3-a611-71e00f666cbe\",\"type\":\"Quad\"},\"selection_glyph\":null},\"id\":\"8518b92f-10a4-4ca1-958d-b32955dc6d04\",\"type\":\"GlyphRenderer\"},{\"attributes\":{\"dimension\":1,\"plot\":{\"id\":\"5fbfc2d6-80a1-4652-bdbd-6e86837ed03e\",\"subtype\":\"Figure\",\"type\":\"Plot\"},\"ticker\":{\"id\":\"dbbefa1c-b707-4d05-bb22-fed43a677791\",\"type\":\"BasicTicker\"}},\"id\":\"ea56e16a-36a3-4f3a-bb64-b24b12007614\",\"type\":\"Grid\"},{\"attributes\":{\"dimension\":1,\"plot\":{\"id\":\"d7617622-f8e2-4be7-86cc-04ad1b1b12ba\",\"subtype\":\"Figure\",\"type\":\"Plot\"},\"ticker\":{\"id\":\"98a1d008-985c-4c55-9ecb-6f70c5e9b993\",\"type\":\"BasicTicker\"}},\"id\":\"f40a1258-2d72-4dc8-a252-a22f3745e92d\",\"type\":\"Grid\"},{\"attributes\":{\"data_source\":{\"id\":\"ad3cc8e6-85a4-415f-85f8-d72bcded8d8f\",\"type\":\"ColumnDataSource\"},\"glyph\":{\"id\":\"d0316630-9486-404c-b4c2-74eb6a7b690d\",\"type\":\"Quad\"},\"hover_glyph\":null,\"nonselection_glyph\":{\"id\":\"e9910077-e97f-43e3-83c8-8c31bddcfdd9\",\"type\":\"Quad\"},\"selection_glyph\":null},\"id\":\"f41bf77d-620c-42e3-be56-fabb4c467663\",\"type\":\"GlyphRenderer\"},{\"attributes\":{\"axis_label\":\"# of recipients\",\"formatter\":{\"id\":\"78d43871-15ef-42d8-bd82-23aa7d6427a7\",\"type\":\"BasicTickFormatter\"},\"plot\":{\"id\":\"5fbfc2d6-80a1-4652-bdbd-6e86837ed03e\",\"subtype\":\"Figure\",\"type\":\"Plot\"},\"ticker\":{\"id\":\"721e4e81-e2fd-4a20-82e7-84d6da192314\",\"type\":\"BasicTicker\"}},\"id\":\"00e233c0-4f17-455a-9bee-8a7bb889b0fb\",\"type\":\"LinearAxis\"},{\"attributes\":{},\"id\":\"98a1d008-985c-4c55-9ecb-6f70c5e9b993\",\"type\":\"BasicTicker\"},{\"attributes\":{\"callback\":null},\"id\":\"2238cc2b-8624-429a-9e12-b0107365eab1\",\"type\":\"DataRange1d\"},{\"attributes\":{\"below\":[{\"id\":\"d3ed3724-2867-4dcf-abd9-b4132b4c1d75\",\"type\":\"LinearAxis\"}],\"left\":[{\"id\":\"c87d7e87-43ae-4afa-a073-357868c1f224\",\"type\":\"LinearAxis\"}],\"renderers\":[{\"id\":\"d3ed3724-2867-4dcf-abd9-b4132b4c1d75\",\"type\":\"LinearAxis\"},{\"id\":\"9fef1819-7b2b-4736-80c5-3d1aa8035cab\",\"type\":\"Grid\"},{\"id\":\"c87d7e87-43ae-4afa-a073-357868c1f224\",\"type\":\"LinearAxis\"},{\"id\":\"c7d92413-34d9-4738-9786-d4db91d1f59c\",\"type\":\"Grid\"},{\"id\":\"63944d8b-7ed0-44b6-bdbe-f28f2efb9663\",\"type\":\"GlyphRenderer\"}],\"title\":\"Message Recipients\",\"tool_events\":{\"id\":\"25e32816-7199-402a-afb3-2ba1526dd38b\",\"type\":\"ToolEvents\"},\"x_range\":{\"id\":\"b5cda41f-9466-418d-a7bc-f54ffb349bb6\",\"type\":\"DataRange1d\"},\"y_range\":{\"id\":\"14a2a345-07d1-4e59-ac2c-80daa251d4ae\",\"type\":\"DataRange1d\"}},\"id\":\"26e51883-57f0-4ac1-9d3e-1087559605ad\",\"subtype\":\"Figure\",\"type\":\"Plot\"},{\"attributes\":{\"below\":[{\"id\":\"7615a6cc-78b4-4341-8f65-d7b5777e2d8d\",\"type\":\"LinearAxis\"}],\"left\":[{\"id\":\"c58adb85-c060-4d89-91e2-98ef4fd7af03\",\"type\":\"LinearAxis\"}],\"renderers\":[{\"id\":\"7615a6cc-78b4-4341-8f65-d7b5777e2d8d\",\"type\":\"LinearAxis\"},{\"id\":\"bf94ac59-e076-4a6b-bc9d-acaa0c1a364a\",\"type\":\"Grid\"},{\"id\":\"c58adb85-c060-4d89-91e2-98ef4fd7af03\",\"type\":\"LinearAxis\"},{\"id\":\"f40a1258-2d72-4dc8-a252-a22f3745e92d\",\"type\":\"Grid\"},{\"id\":\"8518b92f-10a4-4ca1-958d-b32955dc6d04\",\"type\":\"GlyphRenderer\"}],\"title\":\"Message Recipients\",\"tool_events\":{\"id\":\"b37cda27-3247-43ad-9427-5df616899c75\",\"type\":\"ToolEvents\"},\"x_range\":{\"id\":\"2238cc2b-8624-429a-9e12-b0107365eab1\",\"type\":\"DataRange1d\"},\"y_range\":{\"id\":\"45e38803-3963-4386-b315-9311728340c1\",\"type\":\"DataRange1d\"}},\"id\":\"d7617622-f8e2-4be7-86cc-04ad1b1b12ba\",\"subtype\":\"Figure\",\"type\":\"Plot\"},{\"attributes\":{},\"id\":\"4b1f58a4-18be-4cd9-9aeb-fea1fabaf169\",\"type\":\"BasicTicker\"},{\"attributes\":{\"bottom\":{\"value\":0},\"fill_color\":{\"value\":\"#1f77b4\"},\"left\":{\"field\":\"left\"},\"right\":{\"field\":\"right\"},\"top\":{\"field\":\"top\"}},\"id\":\"34c13168-d3a4-4dcd-b608-ec1178c8bc3c\",\"type\":\"Quad\"},{\"attributes\":{\"axis_label\":\"Counts\",\"formatter\":{\"id\":\"a7af1762-8087-43fd-b99a-2203a05b8f52\",\"type\":\"BasicTickFormatter\"},\"plot\":{\"id\":\"26e51883-57f0-4ac1-9d3e-1087559605ad\",\"subtype\":\"Figure\",\"type\":\"Plot\"},\"ticker\":{\"id\":\"2011b19c-4efa-459e-852a-37ede29a29d8\",\"type\":\"BasicTicker\"}},\"id\":\"c87d7e87-43ae-4afa-a073-357868c1f224\",\"type\":\"LinearAxis\"},{\"attributes\":{},\"id\":\"2cc6e168-dc57-4bac-8858-fb17d764be76\",\"type\":\"BasicTickFormatter\"},{\"attributes\":{},\"id\":\"b37cda27-3247-43ad-9427-5df616899c75\",\"type\":\"ToolEvents\"},{\"attributes\":{\"callback\":null},\"id\":\"45e38803-3963-4386-b315-9311728340c1\",\"type\":\"DataRange1d\"},{\"attributes\":{\"plot\":{\"id\":\"e3f202fe-3355-4f57-973c-6680143912c7\",\"subtype\":\"Figure\",\"type\":\"Plot\"},\"ticker\":{\"id\":\"78514647-d5a2-4d9e-9557-e66ffef8c2b5\",\"type\":\"BasicTicker\"}},\"id\":\"c3c01ec1-b9a0-465a-a839-7ad8aa9e8ac8\",\"type\":\"Grid\"},{\"attributes\":{},\"id\":\"b5a7eb21-41d1-4f14-a8f1-ca7cd78fdc27\",\"type\":\"BasicTicker\"},{\"attributes\":{\"callback\":null,\"column_names\":[\"top\",\"right\",\"left\"],\"data\":{\"left\":[0.5,1.5,2.5,3.5,4.5,5.5,6.5,7.5,12.5,10.5,11.5,9.5,14.5,8.5,13.5,15.5,16.5,20.5,56.5,17.5,18.5,19.5,21.5,23.5,48.5,51.5,54.5],\"right\":[1.5,2.5,3.5,4.5,5.5,6.5,7.5,8.5,13.5,11.5,12.5,10.5,15.5,9.5,14.5,16.5,17.5,21.5,57.5,18.5,19.5,20.5,22.5,24.5,49.5,52.5,55.5],\"top\":[14985,2962,1435,873,711,180,176,61,57,47,33,29,28,24,11,9,2,2,2,1,1,1,1,1,1,1,1]}},\"id\":\"ad3cc8e6-85a4-415f-85f8-d72bcded8d8f\",\"type\":\"ColumnDataSource\"},{\"attributes\":{},\"id\":\"a7af1762-8087-43fd-b99a-2203a05b8f52\",\"type\":\"BasicTickFormatter\"},{\"attributes\":{},\"id\":\"721e4e81-e2fd-4a20-82e7-84d6da192314\",\"type\":\"BasicTicker\"},{\"attributes\":{\"below\":[{\"id\":\"00e233c0-4f17-455a-9bee-8a7bb889b0fb\",\"type\":\"LinearAxis\"}],\"left\":[{\"id\":\"e8c617ec-421b-403b-bb71-8331a7f3ff90\",\"type\":\"LinearAxis\"}],\"renderers\":[{\"id\":\"00e233c0-4f17-455a-9bee-8a7bb889b0fb\",\"type\":\"LinearAxis\"},{\"id\":\"17ccf5c2-f9e6-4ef6-a77e-62e67f7398de\",\"type\":\"Grid\"},{\"id\":\"e8c617ec-421b-403b-bb71-8331a7f3ff90\",\"type\":\"LinearAxis\"},{\"id\":\"ea56e16a-36a3-4f3a-bb64-b24b12007614\",\"type\":\"Grid\"},{\"id\":\"43923367-2778-4de9-a2ea-e83c7a31c040\",\"type\":\"GlyphRenderer\"}],\"title\":\"Message Recipients\",\"tool_events\":{\"id\":\"7fc1ef41-49e5-4ef6-8b81-a0cd04921fd6\",\"type\":\"ToolEvents\"},\"x_range\":{\"id\":\"0f2ed15c-5999-49c8-826e-c4f5e3d9d42d\",\"type\":\"DataRange1d\"},\"y_range\":{\"id\":\"32ce9ea7-4161-4f4b-8941-cee8a8a752c3\",\"type\":\"DataRange1d\"}},\"id\":\"5fbfc2d6-80a1-4652-bdbd-6e86837ed03e\",\"subtype\":\"Figure\",\"type\":\"Plot\"},{\"attributes\":{\"callback\":null,\"column_names\":[\"top\",\"right\",\"left\"],\"data\":{\"left\":[5.5,6.5,7.5,12.5,10.5,11.5,9.5,14.5,8.5,13.5,15.5,16.5,20.5,56.5,17.5,18.5,19.5,21.5,23.5,48.5,51.5,54.5],\"right\":[6.5,7.5,8.5,13.5,11.5,12.5,10.5,15.5,9.5,14.5,16.5,17.5,21.5,57.5,18.5,19.5,20.5,22.5,24.5,49.5,52.5,55.5],\"top\":[180,176,61,57,47,33,29,28,24,11,9,2,2,2,1,1,1,1,1,1,1,1]}},\"id\":\"102f003c-40e6-458f-a6e2-5608ffe75dcd\",\"type\":\"ColumnDataSource\"},{\"attributes\":{\"axis_label\":\"# of recipients\",\"formatter\":{\"id\":\"23dd8054-258f-47cd-a994-23843e07cb71\",\"type\":\"BasicTickFormatter\"},\"plot\":{\"id\":\"e3f202fe-3355-4f57-973c-6680143912c7\",\"subtype\":\"Figure\",\"type\":\"Plot\"},\"ticker\":{\"id\":\"78514647-d5a2-4d9e-9557-e66ffef8c2b5\",\"type\":\"BasicTicker\"}},\"id\":\"3a25819a-602a-428e-941f-c813eca44d1f\",\"type\":\"LinearAxis\"},{\"attributes\":{\"bottom\":{\"value\":0},\"fill_alpha\":{\"value\":0.1},\"fill_color\":{\"value\":\"#1f77b4\"},\"left\":{\"field\":\"left\"},\"line_alpha\":{\"value\":0.1},\"line_color\":{\"value\":\"#1f77b4\"},\"right\":{\"field\":\"right\"},\"top\":{\"field\":\"top\"}},\"id\":\"e9910077-e97f-43e3-83c8-8c31bddcfdd9\",\"type\":\"Quad\"},{\"attributes\":{\"axis_label\":\"# of recipients\",\"formatter\":{\"id\":\"79c4f499-b5a1-4f2f-a3da-2d93312c1590\",\"type\":\"BasicTickFormatter\"},\"plot\":{\"id\":\"26e51883-57f0-4ac1-9d3e-1087559605ad\",\"subtype\":\"Figure\",\"type\":\"Plot\"},\"ticker\":{\"id\":\"4b1f58a4-18be-4cd9-9aeb-fea1fabaf169\",\"type\":\"BasicTicker\"}},\"id\":\"d3ed3724-2867-4dcf-abd9-b4132b4c1d75\",\"type\":\"LinearAxis\"},{\"attributes\":{},\"id\":\"78514647-d5a2-4d9e-9557-e66ffef8c2b5\",\"type\":\"BasicTicker\"},{\"attributes\":{\"callback\":null},\"id\":\"987ccb9d-b977-4b56-9dd4-62829adec702\",\"type\":\"DataRange1d\"}],\"root_ids\":[\"e3f202fe-3355-4f57-973c-6680143912c7\",\"5fbfc2d6-80a1-4652-bdbd-6e86837ed03e\",\"26e51883-57f0-4ac1-9d3e-1087559605ad\",\"d7617622-f8e2-4be7-86cc-04ad1b1b12ba\"]},\"title\":\"Bokeh Application\",\"version\":\"0.11.1\"}};\n",
       "            var render_items = [{\"docid\":\"8bc00597-b94e-4de4-b5a9-0c8a575d4417\",\"elementid\":\"9909d066-96c2-4af7-a1b0-ee6f94de1120\",\"modelid\":\"d7617622-f8e2-4be7-86cc-04ad1b1b12ba\",\"notebook_comms_target\":\"e1cf226e-41de-40b9-8e0a-22a7b24bd4fa\"}];\n",
       "            \n",
       "            Bokeh.embed.embed_items(docs_json, render_items);\n",
       "        });\n",
       "      },\n",
       "      function(Bokeh) {\n",
       "      }\n",
       "    ];\n",
       "  \n",
       "    function run_inline_js() {\n",
       "      for (var i = 0; i < inline_js.length; i++) {\n",
       "        inline_js[i](window.Bokeh);\n",
       "      }\n",
       "    }\n",
       "  \n",
       "    if (window._bokeh_is_loading === 0) {\n",
       "      console.log(\"Bokeh: BokehJS loaded, going straight to plotting\");\n",
       "      run_inline_js();\n",
       "    } else {\n",
       "      load_libs(js_urls, function() {\n",
       "        console.log(\"Bokeh: BokehJS plotting callback run at\", now());\n",
       "        run_inline_js();\n",
       "      });\n",
       "    }\n",
       "  }(this));\n",
       "</script>"
      ]
     },
     "metadata": {},
     "output_type": "display_data"
    },
    {
     "data": {
      "text/html": [
       "<p><code>&lt;Bokeh Notebook handle for <strong>In[75]</strong>&gt;</code></p>"
      ],
      "text/plain": [
       "<bokeh.io._CommsHandle at 0x112eb7f50>"
      ]
     },
     "execution_count": 75,
     "metadata": {},
     "output_type": "execute_result"
    }
   ],
   "source": [
    "x = [i[0] for i in counts.most_common()[5:]]  # chop off the first 5\n",
    "y = [i[1] for i in counts.most_common()[5:]]  # chop off the first 5\n",
    "left_border = [val-0.5 for val in x]\n",
    "right_border = [val+0.5 for val in x]\n",
    "\n",
    "p= figure(title=\"Message Recipients\",tools='',x_axis_label='# of recipients',y_axis_label='Counts')\n",
    "p.quad(top=y,left=left_border,right=right_border,bottom=0,line_color='black')\n",
    "show(p)"
   ]
  },
  {
   "cell_type": "code",
   "execution_count": 76,
   "metadata": {
    "collapsed": false
   },
   "outputs": [
    {
     "data": {
      "text/plain": [
       "[6.5,\n",
       " 7.5,\n",
       " 8.5,\n",
       " 13.5,\n",
       " 11.5,\n",
       " 12.5,\n",
       " 10.5,\n",
       " 15.5,\n",
       " 9.5,\n",
       " 14.5,\n",
       " 16.5,\n",
       " 17.5,\n",
       " 21.5,\n",
       " 57.5,\n",
       " 18.5,\n",
       " 19.5,\n",
       " 20.5,\n",
       " 22.5,\n",
       " 24.5,\n",
       " 49.5,\n",
       " 52.5,\n",
       " 55.5]"
      ]
     },
     "execution_count": 76,
     "metadata": {},
     "output_type": "execute_result"
    }
   ],
   "source": [
    "right_border"
   ]
  },
  {
   "cell_type": "markdown",
   "metadata": {},
   "source": [
    "## 3. Data Merging\n",
    "\n",
    "Use the pandas merge function to combine the information in the 3 dataframes to answer the following questions:\n",
    "\n",
    "1. Are there more Men or Women employees?\n",
    "- How is gender distributed across departments?\n",
    "- Who is sending more emails? Men or Women?\n",
    "- What's the average number of emails sent by each gender?\n",
    "- Are there more Juniors or Seniors?\n",
    "- Who is sending more emails? Juniors or Seniors?\n",
    "- Which department is sending more emails? How does that relate with the number of employees in the department?\n",
    "- Who are the top 3 senders of emails? (people who sent out the most emails)"
   ]
  },
  {
   "cell_type": "code",
   "execution_count": 77,
   "metadata": {
    "collapsed": false
   },
   "outputs": [
    {
     "data": {
      "text/plain": [
       "Male      113\n",
       "Female     43\n",
       "Name: gender, dtype: int64"
      ]
     },
     "execution_count": 77,
     "metadata": {},
     "output_type": "execute_result"
    }
   ],
   "source": [
    "employees.gender.value_counts()"
   ]
  },
  {
   "cell_type": "code",
   "execution_count": 78,
   "metadata": {
    "collapsed": false
   },
   "outputs": [
    {
     "data": {
      "text/html": [
       "<div>\n",
       "<table border=\"1\" class=\"dataframe\">\n",
       "  <thead>\n",
       "    <tr style=\"text-align: right;\">\n",
       "      <th></th>\n",
       "      <th>gender</th>\n",
       "      <th>count(eid)</th>\n",
       "    </tr>\n",
       "  </thead>\n",
       "  <tbody>\n",
       "    <tr>\n",
       "      <th>0</th>\n",
       "      <td>Female</td>\n",
       "      <td>43</td>\n",
       "    </tr>\n",
       "    <tr>\n",
       "      <th>1</th>\n",
       "      <td>Male</td>\n",
       "      <td>113</td>\n",
       "    </tr>\n",
       "  </tbody>\n",
       "</table>\n",
       "</div>"
      ],
      "text/plain": [
       "   gender  count(eid)\n",
       "0  Female          43\n",
       "1    Male         113"
      ]
     },
     "execution_count": 78,
     "metadata": {},
     "output_type": "execute_result"
    }
   ],
   "source": [
    "pd.read_sql('select gender, count(eid) from EmployeeBase group by gender', conn)"
   ]
  },
  {
   "cell_type": "markdown",
   "metadata": {},
   "source": [
    "More men"
   ]
  },
  {
   "cell_type": "code",
   "execution_count": 79,
   "metadata": {
    "collapsed": false
   },
   "outputs": [
    {
     "data": {
      "text/plain": [
       "Male      0.724359\n",
       "Female    0.275641\n",
       "Name: gender, dtype: float64"
      ]
     },
     "execution_count": 79,
     "metadata": {},
     "output_type": "execute_result"
    }
   ],
   "source": [
    "employees.gender.value_counts() / employees.gender.count()"
   ]
  },
  {
   "cell_type": "code",
   "execution_count": 80,
   "metadata": {
    "collapsed": false
   },
   "outputs": [
    {
     "data": {
      "text/plain": [
       "department  gender\n",
       "Forestry    Male      0.833333\n",
       "            Female    0.166667\n",
       "Legal       Female    0.520000\n",
       "            Male      0.480000\n",
       "Other       Male      0.718310\n",
       "            Female    0.281690\n",
       "dtype: float64"
      ]
     },
     "execution_count": 80,
     "metadata": {},
     "output_type": "execute_result"
    }
   ],
   "source": [
    "# How is gender distributed across departments?\n",
    "employees.groupby('department')['gender'].value_counts() / employees.groupby('department')['gender'].count()"
   ]
  },
  {
   "cell_type": "markdown",
   "metadata": {},
   "source": [
    "    Forestry 83% Male\n",
    "    Legal    48% Male\n",
    "    Other    72% Male\n",
    "    Company  72% Male"
   ]
  },
  {
   "cell_type": "code",
   "execution_count": 81,
   "metadata": {
    "collapsed": false
   },
   "outputs": [
    {
     "data": {
      "text/plain": [
       "Male      0.593529\n",
       "Female    0.406471\n",
       "Name: gender, dtype: float64"
      ]
     },
     "execution_count": 81,
     "metadata": {},
     "output_type": "execute_result"
    }
   ],
   "source": [
    "# Who is sending more emails? Men or Women?\n",
    "df = pd.merge(employees, messages, left_on='eid', right_on='from_eid')\n",
    "df.gender.value_counts() / df.gender.count()"
   ]
  },
  {
   "cell_type": "code",
   "execution_count": 82,
   "metadata": {
    "collapsed": false
   },
   "outputs": [
    {
     "data": {
      "text/html": [
       "<div>\n",
       "<table border=\"1\" class=\"dataframe\">\n",
       "  <thead>\n",
       "    <tr style=\"text-align: right;\">\n",
       "      <th></th>\n",
       "      <th>Gender_Count</th>\n",
       "    </tr>\n",
       "  </thead>\n",
       "  <tbody>\n",
       "    <tr>\n",
       "      <th>0</th>\n",
       "      <td>8794</td>\n",
       "    </tr>\n",
       "    <tr>\n",
       "      <th>1</th>\n",
       "      <td>12841</td>\n",
       "    </tr>\n",
       "  </tbody>\n",
       "</table>\n",
       "</div>"
      ],
      "text/plain": [
       "   Gender_Count\n",
       "0          8794\n",
       "1         12841"
      ]
     },
     "execution_count": 82,
     "metadata": {},
     "output_type": "execute_result"
    }
   ],
   "source": [
    "# test\n",
    "pd.read_sql('''SELECT count(e.gender) Gender_Count \n",
    "            FROM EmployeeBase AS e\n",
    "            JOIN MessageBase m\n",
    "            ON e.eid = m.from_eid \n",
    "            group by gender ''', conn)"
   ]
  },
  {
   "cell_type": "code",
   "execution_count": 83,
   "metadata": {
    "collapsed": false
   },
   "outputs": [
    {
     "data": {
      "text/plain": [
       "Male      113.637168\n",
       "Female    204.511628\n",
       "Name: gender, dtype: float64"
      ]
     },
     "execution_count": 83,
     "metadata": {},
     "output_type": "execute_result"
    }
   ],
   "source": [
    "# What's the average number of emails sent by each gender?\n",
    "df.gender.value_counts() / employees.gender.value_counts()"
   ]
  },
  {
   "cell_type": "markdown",
   "metadata": {},
   "source": [
    "Women sent almost twice as many messages on average"
   ]
  },
  {
   "cell_type": "code",
   "execution_count": 84,
   "metadata": {
    "collapsed": false
   },
   "outputs": [
    {
     "data": {
      "text/plain": [
       "Junior    82\n",
       "Senior    74\n",
       "Name: seniority, dtype: int64"
      ]
     },
     "execution_count": 84,
     "metadata": {},
     "output_type": "execute_result"
    }
   ],
   "source": [
    "employees.seniority.value_counts()"
   ]
  },
  {
   "cell_type": "code",
   "execution_count": 85,
   "metadata": {
    "collapsed": false
   },
   "outputs": [
    {
     "data": {
      "text/plain": [
       "Senior    12439\n",
       "Junior     9196\n",
       "Name: seniority, dtype: int64"
      ]
     },
     "execution_count": 85,
     "metadata": {},
     "output_type": "execute_result"
    }
   ],
   "source": [
    "df.seniority.value_counts()"
   ]
  },
  {
   "cell_type": "code",
   "execution_count": 86,
   "metadata": {
    "collapsed": false
   },
   "outputs": [
    {
     "data": {
      "text/plain": [
       "Junior    112.146341\n",
       "Senior    168.094595\n",
       "Name: seniority, dtype: float64"
      ]
     },
     "execution_count": 86,
     "metadata": {},
     "output_type": "execute_result"
    }
   ],
   "source": [
    "df.seniority.value_counts() / employees.seniority.value_counts()"
   ]
  },
  {
   "cell_type": "code",
   "execution_count": 87,
   "metadata": {
    "collapsed": false
   },
   "outputs": [
    {
     "data": {
      "text/html": [
       "<div>\n",
       "<table border=\"1\" class=\"dataframe\">\n",
       "  <thead>\n",
       "    <tr style=\"text-align: right;\">\n",
       "      <th></th>\n",
       "      <th>Gender_Count</th>\n",
       "    </tr>\n",
       "  </thead>\n",
       "  <tbody>\n",
       "    <tr>\n",
       "      <th>0</th>\n",
       "      <td>8794</td>\n",
       "    </tr>\n",
       "    <tr>\n",
       "      <th>1</th>\n",
       "      <td>12841</td>\n",
       "    </tr>\n",
       "  </tbody>\n",
       "</table>\n",
       "</div>"
      ],
      "text/plain": [
       "   Gender_Count\n",
       "0          8794\n",
       "1         12841"
      ]
     },
     "execution_count": 87,
     "metadata": {},
     "output_type": "execute_result"
    }
   ],
   "source": [
    "pd.read_sql('''SELECT count(e.gender) Gender_Count \n",
    "            FROM EmployeeBase AS e\n",
    "            JOIN MessageBase m\n",
    "            ON e.eid = m.from_eid \n",
    "            group by gender ''', conn)"
   ]
  },
  {
   "cell_type": "markdown",
   "metadata": {},
   "source": [
    "Senior employees send more messages in absolute value and also on average"
   ]
  },
  {
   "cell_type": "code",
   "execution_count": 88,
   "metadata": {
    "collapsed": false
   },
   "outputs": [
    {
     "data": {
      "text/plain": [
       "Legal       10396\n",
       "Other        6852\n",
       "Forestry     4387\n",
       "Name: department, dtype: int64"
      ]
     },
     "execution_count": 88,
     "metadata": {},
     "output_type": "execute_result"
    }
   ],
   "source": [
    "# Which department is sending more emails? How does that relate with the number of employees in the department?\n",
    "df.department.value_counts()"
   ]
  },
  {
   "cell_type": "code",
   "execution_count": 89,
   "metadata": {
    "collapsed": false
   },
   "outputs": [
    {
     "data": {
      "text/plain": [
       "Forestry     73.116667\n",
       "Legal       415.840000\n",
       "Other        96.507042\n",
       "Name: department, dtype: float64"
      ]
     },
     "execution_count": 89,
     "metadata": {},
     "output_type": "execute_result"
    }
   ],
   "source": [
    "df.department.value_counts() / employees.department.value_counts()"
   ]
  },
  {
   "cell_type": "markdown",
   "metadata": {},
   "source": [
    "Legal is sending many more messages than the other departments"
   ]
  },
  {
   "cell_type": "code",
   "execution_count": 90,
   "metadata": {
    "collapsed": false
   },
   "outputs": [
    {
     "data": {
      "text/html": [
       "<div>\n",
       "<table border=\"1\" class=\"dataframe\">\n",
       "  <thead>\n",
       "    <tr style=\"text-align: right;\">\n",
       "      <th></th>\n",
       "      <th>eid</th>\n",
       "      <th>msgs_sent</th>\n",
       "    </tr>\n",
       "  </thead>\n",
       "  <tbody>\n",
       "    <tr>\n",
       "      <th>0</th>\n",
       "      <td>20</td>\n",
       "      <td>1597</td>\n",
       "    </tr>\n",
       "    <tr>\n",
       "      <th>1</th>\n",
       "      <td>59</td>\n",
       "      <td>1379</td>\n",
       "    </tr>\n",
       "    <tr>\n",
       "      <th>2</th>\n",
       "      <td>120</td>\n",
       "      <td>1142</td>\n",
       "    </tr>\n",
       "    <tr>\n",
       "      <th>3</th>\n",
       "      <td>131</td>\n",
       "      <td>859</td>\n",
       "    </tr>\n",
       "    <tr>\n",
       "      <th>4</th>\n",
       "      <td>138</td>\n",
       "      <td>658</td>\n",
       "    </tr>\n",
       "  </tbody>\n",
       "</table>\n",
       "</div>"
      ],
      "text/plain": [
       "   eid  msgs_sent\n",
       "0   20       1597\n",
       "1   59       1379\n",
       "2  120       1142\n",
       "3  131        859\n",
       "4  138        658"
      ]
     },
     "execution_count": 90,
     "metadata": {},
     "output_type": "execute_result"
    }
   ],
   "source": [
    "# Who are the top 5 senders of emails? (people who sent out the most emails)\n",
    "top5senders = df.eid.value_counts().head().reset_index()\n",
    "top5senders.columns = ['eid', 'msgs_sent']\n",
    "top5senders"
   ]
  },
  {
   "cell_type": "code",
   "execution_count": 91,
   "metadata": {
    "collapsed": false
   },
   "outputs": [
    {
     "data": {
      "text/html": [
       "<div>\n",
       "<table border=\"1\" class=\"dataframe\">\n",
       "  <thead>\n",
       "    <tr style=\"text-align: right;\">\n",
       "      <th></th>\n",
       "      <th>eid</th>\n",
       "      <th>name</th>\n",
       "      <th>department</th>\n",
       "      <th>longdepartment</th>\n",
       "      <th>title</th>\n",
       "      <th>gender</th>\n",
       "      <th>seniority</th>\n",
       "      <th>msgs_sent</th>\n",
       "    </tr>\n",
       "  </thead>\n",
       "  <tbody>\n",
       "    <tr>\n",
       "      <th>0</th>\n",
       "      <td>20</td>\n",
       "      <td>Jeff Dasovich</td>\n",
       "      <td>Legal</td>\n",
       "      <td>Regulatory and Government Affairs</td>\n",
       "      <td>Director</td>\n",
       "      <td>Male</td>\n",
       "      <td>Senior</td>\n",
       "      <td>1597</td>\n",
       "    </tr>\n",
       "    <tr>\n",
       "      <th>1</th>\n",
       "      <td>59</td>\n",
       "      <td>Tana Jones</td>\n",
       "      <td>Legal</td>\n",
       "      <td>ENA Legal</td>\n",
       "      <td>Specialist Legal</td>\n",
       "      <td>Female</td>\n",
       "      <td>Junior</td>\n",
       "      <td>1379</td>\n",
       "    </tr>\n",
       "    <tr>\n",
       "      <th>2</th>\n",
       "      <td>120</td>\n",
       "      <td>Sara Shackleton</td>\n",
       "      <td>Legal</td>\n",
       "      <td>ENA Legal</td>\n",
       "      <td>Gen Cnsl Asst</td>\n",
       "      <td>Female</td>\n",
       "      <td>Junior</td>\n",
       "      <td>1142</td>\n",
       "    </tr>\n",
       "    <tr>\n",
       "      <th>3</th>\n",
       "      <td>131</td>\n",
       "      <td>James D. Steffes</td>\n",
       "      <td>Legal</td>\n",
       "      <td>Regulatory and Government Affairs</td>\n",
       "      <td>VP of Government Affairs</td>\n",
       "      <td>Male</td>\n",
       "      <td>Senior</td>\n",
       "      <td>859</td>\n",
       "    </tr>\n",
       "    <tr>\n",
       "      <th>4</th>\n",
       "      <td>138</td>\n",
       "      <td>Mark E. Taylor</td>\n",
       "      <td>Legal</td>\n",
       "      <td>ENA Legal</td>\n",
       "      <td>VP &amp; Gen Cnsl</td>\n",
       "      <td>Male</td>\n",
       "      <td>Senior</td>\n",
       "      <td>658</td>\n",
       "    </tr>\n",
       "  </tbody>\n",
       "</table>\n",
       "</div>"
      ],
      "text/plain": [
       "   eid              name department                     longdepartment  \\\n",
       "0   20     Jeff Dasovich      Legal  Regulatory and Government Affairs   \n",
       "1   59        Tana Jones      Legal                          ENA Legal   \n",
       "2  120   Sara Shackleton      Legal                          ENA Legal   \n",
       "3  131  James D. Steffes      Legal  Regulatory and Government Affairs   \n",
       "4  138    Mark E. Taylor      Legal                          ENA Legal   \n",
       "\n",
       "                      title  gender seniority  msgs_sent  \n",
       "0                  Director    Male    Senior       1597  \n",
       "1          Specialist Legal  Female    Junior       1379  \n",
       "2             Gen Cnsl Asst  Female    Junior       1142  \n",
       "3  VP of Government Affairs    Male    Senior        859  \n",
       "4             VP & Gen Cnsl    Male    Senior        658  "
      ]
     },
     "execution_count": 91,
     "metadata": {},
     "output_type": "execute_result"
    }
   ],
   "source": [
    "pd.merge(employees, top5senders, on='eid')"
   ]
  },
  {
   "cell_type": "markdown",
   "metadata": {},
   "source": [
    "# 3.b (Optional) More merging\n",
    "\n",
    "Answer the following questions regarding received messages:\n",
    "\n",
    "- Who is receiving more emails? Men or Women?\n",
    "- Who is receiving more emails? Juniors or Seniors?\n",
    "- Which department is receiving more emails? How does that relate with the number of employees in the department?\n",
    "- Who are the top 5 receivers of emails? (people who received the most emails)"
   ]
  },
  {
   "cell_type": "code",
   "execution_count": 92,
   "metadata": {
    "collapsed": true
   },
   "outputs": [],
   "source": [
    "# Who is receiving more emails? Men or Women?"
   ]
  },
  {
   "cell_type": "code",
   "execution_count": 93,
   "metadata": {
    "collapsed": false
   },
   "outputs": [
    {
     "data": {
      "text/html": [
       "<div>\n",
       "<table border=\"1\" class=\"dataframe\">\n",
       "  <thead>\n",
       "    <tr style=\"text-align: right;\">\n",
       "      <th></th>\n",
       "      <th>eid_x</th>\n",
       "      <th>name_x</th>\n",
       "      <th>department_x</th>\n",
       "      <th>longdepartment_x</th>\n",
       "      <th>title_x</th>\n",
       "      <th>gender_x</th>\n",
       "      <th>seniority_x</th>\n",
       "      <th>mid</th>\n",
       "      <th>filename</th>\n",
       "      <th>unix_time</th>\n",
       "      <th>...</th>\n",
       "      <th>from_eid</th>\n",
       "      <th>rno</th>\n",
       "      <th>to_eid</th>\n",
       "      <th>eid_y</th>\n",
       "      <th>name_y</th>\n",
       "      <th>department_y</th>\n",
       "      <th>longdepartment_y</th>\n",
       "      <th>title_y</th>\n",
       "      <th>gender_y</th>\n",
       "      <th>seniority_y</th>\n",
       "    </tr>\n",
       "  </thead>\n",
       "  <tbody>\n",
       "    <tr>\n",
       "      <th>0</th>\n",
       "      <td>1</td>\n",
       "      <td>John Arnold</td>\n",
       "      <td>Forestry</td>\n",
       "      <td>ENA Gas Financial</td>\n",
       "      <td>VP Trading</td>\n",
       "      <td>Male</td>\n",
       "      <td>Senior</td>\n",
       "      <td>1611</td>\n",
       "      <td>arnold-j/sent/379</td>\n",
       "      <td>954317280</td>\n",
       "      <td>...</td>\n",
       "      <td>1</td>\n",
       "      <td>1</td>\n",
       "      <td>42</td>\n",
       "      <td>42</td>\n",
       "      <td>John Griffith</td>\n",
       "      <td>Forestry</td>\n",
       "      <td>ENA Gas Financial</td>\n",
       "      <td>Mgr Trading</td>\n",
       "      <td>Male</td>\n",
       "      <td>Junior</td>\n",
       "    </tr>\n",
       "    <tr>\n",
       "      <th>1</th>\n",
       "      <td>1</td>\n",
       "      <td>John Arnold</td>\n",
       "      <td>Forestry</td>\n",
       "      <td>ENA Gas Financial</td>\n",
       "      <td>VP Trading</td>\n",
       "      <td>Male</td>\n",
       "      <td>Senior</td>\n",
       "      <td>4828</td>\n",
       "      <td>arnold-j/sent/151</td>\n",
       "      <td>970463160</td>\n",
       "      <td>...</td>\n",
       "      <td>1</td>\n",
       "      <td>3</td>\n",
       "      <td>42</td>\n",
       "      <td>42</td>\n",
       "      <td>John Griffith</td>\n",
       "      <td>Forestry</td>\n",
       "      <td>ENA Gas Financial</td>\n",
       "      <td>Mgr Trading</td>\n",
       "      <td>Male</td>\n",
       "      <td>Junior</td>\n",
       "    </tr>\n",
       "    <tr>\n",
       "      <th>2</th>\n",
       "      <td>1</td>\n",
       "      <td>John Arnold</td>\n",
       "      <td>Forestry</td>\n",
       "      <td>ENA Gas Financial</td>\n",
       "      <td>VP Trading</td>\n",
       "      <td>Male</td>\n",
       "      <td>Senior</td>\n",
       "      <td>5026</td>\n",
       "      <td>arnold-j/sent/132</td>\n",
       "      <td>971078940</td>\n",
       "      <td>...</td>\n",
       "      <td>1</td>\n",
       "      <td>1</td>\n",
       "      <td>42</td>\n",
       "      <td>42</td>\n",
       "      <td>John Griffith</td>\n",
       "      <td>Forestry</td>\n",
       "      <td>ENA Gas Financial</td>\n",
       "      <td>Mgr Trading</td>\n",
       "      <td>Male</td>\n",
       "      <td>Junior</td>\n",
       "    </tr>\n",
       "    <tr>\n",
       "      <th>3</th>\n",
       "      <td>1</td>\n",
       "      <td>John Arnold</td>\n",
       "      <td>Forestry</td>\n",
       "      <td>ENA Gas Financial</td>\n",
       "      <td>VP Trading</td>\n",
       "      <td>Male</td>\n",
       "      <td>Senior</td>\n",
       "      <td>7579</td>\n",
       "      <td>arnold-j/sent/774</td>\n",
       "      <td>978509400</td>\n",
       "      <td>...</td>\n",
       "      <td>1</td>\n",
       "      <td>1</td>\n",
       "      <td>42</td>\n",
       "      <td>42</td>\n",
       "      <td>John Griffith</td>\n",
       "      <td>Forestry</td>\n",
       "      <td>ENA Gas Financial</td>\n",
       "      <td>Mgr Trading</td>\n",
       "      <td>Male</td>\n",
       "      <td>Junior</td>\n",
       "    </tr>\n",
       "    <tr>\n",
       "      <th>4</th>\n",
       "      <td>1</td>\n",
       "      <td>John Arnold</td>\n",
       "      <td>Forestry</td>\n",
       "      <td>ENA Gas Financial</td>\n",
       "      <td>VP Trading</td>\n",
       "      <td>Male</td>\n",
       "      <td>Senior</td>\n",
       "      <td>10581</td>\n",
       "      <td>arnold-j/sent/526</td>\n",
       "      <td>986536620</td>\n",
       "      <td>...</td>\n",
       "      <td>1</td>\n",
       "      <td>1</td>\n",
       "      <td>42</td>\n",
       "      <td>42</td>\n",
       "      <td>John Griffith</td>\n",
       "      <td>Forestry</td>\n",
       "      <td>ENA Gas Financial</td>\n",
       "      <td>Mgr Trading</td>\n",
       "      <td>Male</td>\n",
       "      <td>Junior</td>\n",
       "    </tr>\n",
       "  </tbody>\n",
       "</table>\n",
       "<p>5 rows × 21 columns</p>\n",
       "</div>"
      ],
      "text/plain": [
       "   eid_x       name_x department_x   longdepartment_x     title_x gender_x  \\\n",
       "0      1  John Arnold     Forestry  ENA Gas Financial  VP Trading     Male   \n",
       "1      1  John Arnold     Forestry  ENA Gas Financial  VP Trading     Male   \n",
       "2      1  John Arnold     Forestry  ENA Gas Financial  VP Trading     Male   \n",
       "3      1  John Arnold     Forestry  ENA Gas Financial  VP Trading     Male   \n",
       "4      1  John Arnold     Forestry  ENA Gas Financial  VP Trading     Male   \n",
       "\n",
       "  seniority_x    mid           filename  unix_time     ...     from_eid  rno  \\\n",
       "0      Senior   1611  arnold-j/sent/379  954317280     ...            1    1   \n",
       "1      Senior   4828  arnold-j/sent/151  970463160     ...            1    3   \n",
       "2      Senior   5026  arnold-j/sent/132  971078940     ...            1    1   \n",
       "3      Senior   7579  arnold-j/sent/774  978509400     ...            1    1   \n",
       "4      Senior  10581  arnold-j/sent/526  986536620     ...            1    1   \n",
       "\n",
       "   to_eid  eid_y         name_y department_y   longdepartment_y      title_y  \\\n",
       "0      42     42  John Griffith     Forestry  ENA Gas Financial  Mgr Trading   \n",
       "1      42     42  John Griffith     Forestry  ENA Gas Financial  Mgr Trading   \n",
       "2      42     42  John Griffith     Forestry  ENA Gas Financial  Mgr Trading   \n",
       "3      42     42  John Griffith     Forestry  ENA Gas Financial  Mgr Trading   \n",
       "4      42     42  John Griffith     Forestry  ENA Gas Financial  Mgr Trading   \n",
       "\n",
       "  gender_y seniority_y  \n",
       "0     Male      Junior  \n",
       "1     Male      Junior  \n",
       "2     Male      Junior  \n",
       "3     Male      Junior  \n",
       "4     Male      Junior  \n",
       "\n",
       "[5 rows x 21 columns]"
      ]
     },
     "execution_count": 93,
     "metadata": {},
     "output_type": "execute_result"
    }
   ],
   "source": [
    "df1 = pd.merge(df, recipients, on='mid')\n",
    "df2 = pd.merge(df1, employees, left_on='to_eid', right_on='eid')\n",
    "df2.head()"
   ]
  },
  {
   "cell_type": "code",
   "execution_count": 94,
   "metadata": {
    "collapsed": false
   },
   "outputs": [
    {
     "data": {
      "text/plain": [
       "Male      0.665547\n",
       "Female    0.334453\n",
       "Name: gender_y, dtype: float64"
      ]
     },
     "execution_count": 94,
     "metadata": {},
     "output_type": "execute_result"
    }
   ],
   "source": [
    "df2.gender_y.value_counts() / df2.gender_y.count()"
   ]
  },
  {
   "cell_type": "code",
   "execution_count": 95,
   "metadata": {
    "collapsed": false
   },
   "outputs": [
    {
     "data": {
      "text/plain": [
       "Male      226.097345\n",
       "Female    298.581395\n",
       "dtype: float64"
      ]
     },
     "execution_count": 95,
     "metadata": {},
     "output_type": "execute_result"
    }
   ],
   "source": [
    "df2.gender_y.value_counts() / employees.gender.value_counts()"
   ]
  },
  {
   "cell_type": "code",
   "execution_count": 96,
   "metadata": {
    "collapsed": false
   },
   "outputs": [
    {
     "data": {
      "text/plain": [
       "Senior    0.623476\n",
       "Junior    0.376524\n",
       "Name: seniority_y, dtype: float64"
      ]
     },
     "execution_count": 96,
     "metadata": {},
     "output_type": "execute_result"
    }
   ],
   "source": [
    "# Who is receiving more emails? Juniors or Seniors?\n",
    "df2.seniority_y.value_counts() / df2.seniority_y.count()"
   ]
  },
  {
   "cell_type": "code",
   "execution_count": 97,
   "metadata": {
    "collapsed": false
   },
   "outputs": [
    {
     "data": {
      "text/plain": [
       "Junior    176.268293\n",
       "Senior    323.432432\n",
       "dtype: float64"
      ]
     },
     "execution_count": 97,
     "metadata": {},
     "output_type": "execute_result"
    }
   ],
   "source": [
    "df2.seniority_y.value_counts() / employees.seniority.value_counts()"
   ]
  },
  {
   "cell_type": "code",
   "execution_count": 98,
   "metadata": {
    "collapsed": false
   },
   "outputs": [
    {
     "data": {
      "text/plain": [
       "Legal       16311\n",
       "Other       13653\n",
       "Forestry     8424\n",
       "Name: department_y, dtype: int64"
      ]
     },
     "execution_count": 98,
     "metadata": {},
     "output_type": "execute_result"
    }
   ],
   "source": [
    "# Which department is receiving more emails? How does that relate with the number of employees in the department?\n",
    "df2.department_y.value_counts()"
   ]
  },
  {
   "cell_type": "code",
   "execution_count": 99,
   "metadata": {
    "collapsed": false
   },
   "outputs": [
    {
     "data": {
      "text/plain": [
       "Forestry    140.400000\n",
       "Legal       652.440000\n",
       "Other       192.295775\n",
       "dtype: float64"
      ]
     },
     "execution_count": 99,
     "metadata": {},
     "output_type": "execute_result"
    }
   ],
   "source": [
    "df2.department_y.value_counts() / employees.department.value_counts()"
   ]
  },
  {
   "cell_type": "code",
   "execution_count": 100,
   "metadata": {
    "collapsed": false
   },
   "outputs": [
    {
     "data": {
      "text/html": [
       "<div>\n",
       "<table border=\"1\" class=\"dataframe\">\n",
       "  <thead>\n",
       "    <tr style=\"text-align: right;\">\n",
       "      <th></th>\n",
       "      <th>eid</th>\n",
       "      <th>msgs_received</th>\n",
       "    </tr>\n",
       "  </thead>\n",
       "  <tbody>\n",
       "    <tr>\n",
       "      <th>0</th>\n",
       "      <td>131</td>\n",
       "      <td>1797</td>\n",
       "    </tr>\n",
       "    <tr>\n",
       "      <th>1</th>\n",
       "      <td>122</td>\n",
       "      <td>1730</td>\n",
       "    </tr>\n",
       "    <tr>\n",
       "      <th>2</th>\n",
       "      <td>138</td>\n",
       "      <td>1477</td>\n",
       "    </tr>\n",
       "    <tr>\n",
       "      <th>3</th>\n",
       "      <td>61</td>\n",
       "      <td>1290</td>\n",
       "    </tr>\n",
       "    <tr>\n",
       "      <th>4</th>\n",
       "      <td>120</td>\n",
       "      <td>1173</td>\n",
       "    </tr>\n",
       "  </tbody>\n",
       "</table>\n",
       "</div>"
      ],
      "text/plain": [
       "   eid  msgs_received\n",
       "0  131           1797\n",
       "1  122           1730\n",
       "2  138           1477\n",
       "3   61           1290\n",
       "4  120           1173"
      ]
     },
     "execution_count": 100,
     "metadata": {},
     "output_type": "execute_result"
    }
   ],
   "source": [
    "# Who are the top 5 receivers of emails? (people who received the most emails)\n",
    "top5receivers = df2.to_eid.value_counts().head().reset_index()\n",
    "top5receivers.columns = ['eid', 'msgs_received']\n",
    "top5receivers"
   ]
  },
  {
   "cell_type": "code",
   "execution_count": 101,
   "metadata": {
    "collapsed": false
   },
   "outputs": [
    {
     "data": {
      "text/html": [
       "<div>\n",
       "<table border=\"1\" class=\"dataframe\">\n",
       "  <thead>\n",
       "    <tr style=\"text-align: right;\">\n",
       "      <th></th>\n",
       "      <th>eid</th>\n",
       "      <th>name</th>\n",
       "      <th>department</th>\n",
       "      <th>longdepartment</th>\n",
       "      <th>title</th>\n",
       "      <th>gender</th>\n",
       "      <th>seniority</th>\n",
       "      <th>msgs_received</th>\n",
       "    </tr>\n",
       "  </thead>\n",
       "  <tbody>\n",
       "    <tr>\n",
       "      <th>3</th>\n",
       "      <td>131</td>\n",
       "      <td>James D. Steffes</td>\n",
       "      <td>Legal</td>\n",
       "      <td>Regulatory and Government Affairs</td>\n",
       "      <td>VP of Government Affairs</td>\n",
       "      <td>Male</td>\n",
       "      <td>Senior</td>\n",
       "      <td>1797</td>\n",
       "    </tr>\n",
       "    <tr>\n",
       "      <th>2</th>\n",
       "      <td>122</td>\n",
       "      <td>Richard Shapiro</td>\n",
       "      <td>Legal</td>\n",
       "      <td>Regulatory and Government Affairs</td>\n",
       "      <td>VP of Regulatory Affairs</td>\n",
       "      <td>Male</td>\n",
       "      <td>Senior</td>\n",
       "      <td>1730</td>\n",
       "    </tr>\n",
       "    <tr>\n",
       "      <th>4</th>\n",
       "      <td>138</td>\n",
       "      <td>Mark E. Taylor</td>\n",
       "      <td>Legal</td>\n",
       "      <td>ENA Legal</td>\n",
       "      <td>VP &amp; Gen Cnsl</td>\n",
       "      <td>Male</td>\n",
       "      <td>Senior</td>\n",
       "      <td>1477</td>\n",
       "    </tr>\n",
       "    <tr>\n",
       "      <th>0</th>\n",
       "      <td>61</td>\n",
       "      <td>Steven J. Kean</td>\n",
       "      <td>Other</td>\n",
       "      <td>Enron</td>\n",
       "      <td>VP &amp; Chief of Staff</td>\n",
       "      <td>Male</td>\n",
       "      <td>Senior</td>\n",
       "      <td>1290</td>\n",
       "    </tr>\n",
       "    <tr>\n",
       "      <th>1</th>\n",
       "      <td>120</td>\n",
       "      <td>Sara Shackleton</td>\n",
       "      <td>Legal</td>\n",
       "      <td>ENA Legal</td>\n",
       "      <td>Gen Cnsl Asst</td>\n",
       "      <td>Female</td>\n",
       "      <td>Junior</td>\n",
       "      <td>1173</td>\n",
       "    </tr>\n",
       "  </tbody>\n",
       "</table>\n",
       "</div>"
      ],
      "text/plain": [
       "   eid              name department                     longdepartment  \\\n",
       "3  131  James D. Steffes      Legal  Regulatory and Government Affairs   \n",
       "2  122   Richard Shapiro      Legal  Regulatory and Government Affairs   \n",
       "4  138    Mark E. Taylor      Legal                          ENA Legal   \n",
       "0   61    Steven J. Kean      Other                              Enron   \n",
       "1  120   Sara Shackleton      Legal                          ENA Legal   \n",
       "\n",
       "                      title  gender seniority  msgs_received  \n",
       "3  VP of Government Affairs    Male    Senior           1797  \n",
       "2  VP of Regulatory Affairs    Male    Senior           1730  \n",
       "4             VP & Gen Cnsl    Male    Senior           1477  \n",
       "0       VP & Chief of Staff    Male    Senior           1290  \n",
       "1             Gen Cnsl Asst  Female    Junior           1173  "
      ]
     },
     "execution_count": 101,
     "metadata": {},
     "output_type": "execute_result"
    }
   ],
   "source": [
    "pd.merge(employees, top5receivers, on='eid').sort_values('msgs_received', ascending=False)"
   ]
  },
  {
   "cell_type": "markdown",
   "metadata": {},
   "source": [
    "Which employees sent the most 'mass' emails?"
   ]
  },
  {
   "cell_type": "code",
   "execution_count": 102,
   "metadata": {
    "collapsed": false
   },
   "outputs": [
    {
     "data": {
      "text/html": [
       "<div>\n",
       "<table border=\"1\" class=\"dataframe\">\n",
       "  <thead>\n",
       "    <tr style=\"text-align: right;\">\n",
       "      <th></th>\n",
       "      <th>mid</th>\n",
       "      <th>rno</th>\n",
       "      <th>filename</th>\n",
       "      <th>unix_time</th>\n",
       "      <th>subject</th>\n",
       "      <th>from_eid</th>\n",
       "    </tr>\n",
       "  </thead>\n",
       "  <tbody>\n",
       "    <tr>\n",
       "      <th>0</th>\n",
       "      <td>12151</td>\n",
       "      <td>57</td>\n",
       "      <td>baughman-d/ect_admin/22</td>\n",
       "      <td>990546780</td>\n",
       "      <td></td>\n",
       "      <td>67</td>\n",
       "    </tr>\n",
       "    <tr>\n",
       "      <th>1</th>\n",
       "      <td>12116</td>\n",
       "      <td>57</td>\n",
       "      <td>baughman-d/all_documents/398</td>\n",
       "      <td>990510780</td>\n",
       "      <td></td>\n",
       "      <td>67</td>\n",
       "    </tr>\n",
       "    <tr>\n",
       "      <th>2</th>\n",
       "      <td>12140</td>\n",
       "      <td>55</td>\n",
       "      <td>lavorato-j/sent_items/18</td>\n",
       "      <td>990528836</td>\n",
       "      <td></td>\n",
       "      <td>67</td>\n",
       "    </tr>\n",
       "    <tr>\n",
       "      <th>3</th>\n",
       "      <td>14404</td>\n",
       "      <td>52</td>\n",
       "      <td>lay-k/sent_items/10</td>\n",
       "      <td>998565865</td>\n",
       "      <td>Associate/Analyst Program</td>\n",
       "      <td>68</td>\n",
       "    </tr>\n",
       "    <tr>\n",
       "      <th>4</th>\n",
       "      <td>16035</td>\n",
       "      <td>49</td>\n",
       "      <td>beck-s/sent_items/368</td>\n",
       "      <td>1002290637</td>\n",
       "      <td>Enron Center South (ECS) Move Back-up Plan</td>\n",
       "      <td>7</td>\n",
       "    </tr>\n",
       "    <tr>\n",
       "      <th>5</th>\n",
       "      <td>16431</td>\n",
       "      <td>24</td>\n",
       "      <td>sanchez-m/sent_items/99</td>\n",
       "      <td>1002893728</td>\n",
       "      <td>Park City Bound</td>\n",
       "      <td>112</td>\n",
       "    </tr>\n",
       "    <tr>\n",
       "      <th>6</th>\n",
       "      <td>8116</td>\n",
       "      <td>22</td>\n",
       "      <td>wolfe-j/all_documents/32</td>\n",
       "      <td>980396100</td>\n",
       "      <td>7th Annual Party</td>\n",
       "      <td>112</td>\n",
       "    </tr>\n",
       "    <tr>\n",
       "      <th>7</th>\n",
       "      <td>15148</td>\n",
       "      <td>21</td>\n",
       "      <td>baughman-d/enron_power/miso/19</td>\n",
       "      <td>1000822727</td>\n",
       "      <td>RTO/regulatory update</td>\n",
       "      <td>117</td>\n",
       "    </tr>\n",
       "    <tr>\n",
       "      <th>8</th>\n",
       "      <td>15577</td>\n",
       "      <td>21</td>\n",
       "      <td>kitchen-l/sent_items/990</td>\n",
       "      <td>1001571865</td>\n",
       "      <td>FW: Fantastic Friday/Super Saturday Interviewers</td>\n",
       "      <td>65</td>\n",
       "    </tr>\n",
       "    <tr>\n",
       "      <th>9</th>\n",
       "      <td>21103</td>\n",
       "      <td>20</td>\n",
       "      <td>mckay-j/ubswenergy_com/3</td>\n",
       "      <td>1013408919</td>\n",
       "      <td>book names</td>\n",
       "      <td>63</td>\n",
       "    </tr>\n",
       "  </tbody>\n",
       "</table>\n",
       "</div>"
      ],
      "text/plain": [
       "     mid  rno                        filename   unix_time  \\\n",
       "0  12151   57         baughman-d/ect_admin/22   990546780   \n",
       "1  12116   57    baughman-d/all_documents/398   990510780   \n",
       "2  12140   55        lavorato-j/sent_items/18   990528836   \n",
       "3  14404   52             lay-k/sent_items/10   998565865   \n",
       "4  16035   49           beck-s/sent_items/368  1002290637   \n",
       "5  16431   24         sanchez-m/sent_items/99  1002893728   \n",
       "6   8116   22        wolfe-j/all_documents/32   980396100   \n",
       "7  15148   21  baughman-d/enron_power/miso/19  1000822727   \n",
       "8  15577   21        kitchen-l/sent_items/990  1001571865   \n",
       "9  21103   20        mckay-j/ubswenergy_com/3  1013408919   \n",
       "\n",
       "                                            subject  from_eid  \n",
       "0                                                          67  \n",
       "1                                                          67  \n",
       "2                                                          67  \n",
       "3                         Associate/Analyst Program        68  \n",
       "4        Enron Center South (ECS) Move Back-up Plan         7  \n",
       "5                                   Park City Bound       112  \n",
       "6                                  7th Annual Party       112  \n",
       "7                             RTO/regulatory update       117  \n",
       "8  FW: Fantastic Friday/Super Saturday Interviewers        65  \n",
       "9                                        book names        63  "
      ]
     },
     "execution_count": 102,
     "metadata": {},
     "output_type": "execute_result"
    }
   ],
   "source": [
    "top10massmails = df2.groupby('mid')['rno'].max().sort_values(ascending=False).head(10).reset_index()\n",
    "massmails = pd.merge(top10massmails, messages)\n",
    "massmails"
   ]
  },
  {
   "cell_type": "code",
   "execution_count": 103,
   "metadata": {
    "collapsed": false
   },
   "outputs": [
    {
     "data": {
      "text/html": [
       "<div>\n",
       "<table border=\"1\" class=\"dataframe\">\n",
       "  <thead>\n",
       "    <tr style=\"text-align: right;\">\n",
       "      <th></th>\n",
       "      <th>name</th>\n",
       "      <th>title</th>\n",
       "      <th>mid</th>\n",
       "      <th>subject</th>\n",
       "      <th>rno</th>\n",
       "    </tr>\n",
       "  </thead>\n",
       "  <tbody>\n",
       "    <tr>\n",
       "      <th>0</th>\n",
       "      <td>John J. Lavorato</td>\n",
       "      <td>ENA President &amp; CEO</td>\n",
       "      <td>12151</td>\n",
       "      <td></td>\n",
       "      <td>57</td>\n",
       "    </tr>\n",
       "    <tr>\n",
       "      <th>1</th>\n",
       "      <td>John J. Lavorato</td>\n",
       "      <td>ENA President &amp; CEO</td>\n",
       "      <td>12116</td>\n",
       "      <td></td>\n",
       "      <td>57</td>\n",
       "    </tr>\n",
       "    <tr>\n",
       "      <th>2</th>\n",
       "      <td>John J. Lavorato</td>\n",
       "      <td>ENA President &amp; CEO</td>\n",
       "      <td>12140</td>\n",
       "      <td></td>\n",
       "      <td>55</td>\n",
       "    </tr>\n",
       "    <tr>\n",
       "      <th>3</th>\n",
       "      <td>Kenneth Lay</td>\n",
       "      <td>President &amp; CEO</td>\n",
       "      <td>14404</td>\n",
       "      <td>Associate/Analyst Program</td>\n",
       "      <td>52</td>\n",
       "    </tr>\n",
       "    <tr>\n",
       "      <th>4</th>\n",
       "      <td>Sally Beck</td>\n",
       "      <td>VP</td>\n",
       "      <td>16035</td>\n",
       "      <td>Enron Center South (ECS) Move Back-up Plan</td>\n",
       "      <td>49</td>\n",
       "    </tr>\n",
       "    <tr>\n",
       "      <th>5</th>\n",
       "      <td>Monique Sanchez</td>\n",
       "      <td>Associate</td>\n",
       "      <td>16431</td>\n",
       "      <td>Park City Bound</td>\n",
       "      <td>24</td>\n",
       "    </tr>\n",
       "    <tr>\n",
       "      <th>6</th>\n",
       "      <td>Monique Sanchez</td>\n",
       "      <td>Associate</td>\n",
       "      <td>8116</td>\n",
       "      <td>7th Annual Party</td>\n",
       "      <td>22</td>\n",
       "    </tr>\n",
       "    <tr>\n",
       "      <th>7</th>\n",
       "      <td>Susan Scott</td>\n",
       "      <td>Cnsl</td>\n",
       "      <td>15148</td>\n",
       "      <td>RTO/regulatory update</td>\n",
       "      <td>21</td>\n",
       "    </tr>\n",
       "    <tr>\n",
       "      <th>8</th>\n",
       "      <td>Louise Kitchen</td>\n",
       "      <td>COO</td>\n",
       "      <td>15577</td>\n",
       "      <td>FW: Fantastic Friday/Super Saturday Interviewers</td>\n",
       "      <td>21</td>\n",
       "    </tr>\n",
       "    <tr>\n",
       "      <th>9</th>\n",
       "      <td>Kam Keiser</td>\n",
       "      <td>Mgr Trading</td>\n",
       "      <td>21103</td>\n",
       "      <td>book names</td>\n",
       "      <td>20</td>\n",
       "    </tr>\n",
       "  </tbody>\n",
       "</table>\n",
       "</div>"
      ],
      "text/plain": [
       "               name                title    mid  \\\n",
       "0  John J. Lavorato  ENA President & CEO  12151   \n",
       "1  John J. Lavorato  ENA President & CEO  12116   \n",
       "2  John J. Lavorato  ENA President & CEO  12140   \n",
       "3       Kenneth Lay      President & CEO  14404   \n",
       "4        Sally Beck                   VP  16035   \n",
       "5  Monique Sanchez             Associate  16431   \n",
       "6  Monique Sanchez             Associate   8116   \n",
       "7       Susan Scott                 Cnsl  15148   \n",
       "8    Louise Kitchen                  COO  15577   \n",
       "9        Kam Keiser          Mgr Trading  21103   \n",
       "\n",
       "                                            subject  rno  \n",
       "0                                                     57  \n",
       "1                                                     57  \n",
       "2                                                     55  \n",
       "3                         Associate/Analyst Program   52  \n",
       "4        Enron Center South (ECS) Move Back-up Plan   49  \n",
       "5                                   Park City Bound   24  \n",
       "6                                  7th Annual Party   22  \n",
       "7                             RTO/regulatory update   21  \n",
       "8  FW: Fantastic Friday/Super Saturday Interviewers   21  \n",
       "9                                        book names   20  "
      ]
     },
     "execution_count": 103,
     "metadata": {},
     "output_type": "execute_result"
    }
   ],
   "source": [
    "pd.merge(massmails, employees, left_on='from_eid', right_on='eid')[['name', 'title', 'mid', 'subject', 'rno']]"
   ]
  },
  {
   "cell_type": "markdown",
   "metadata": {},
   "source": [
    "Keep exploring the dataset, which other questions would you ask?\n",
    "\n",
    "Work in pairs. Give each other a challenge and try to solve it."
   ]
  }
 ],
 "metadata": {
  "kernelspec": {
   "display_name": "Python 2",
   "language": "python",
   "name": "python2"
  },
  "language_info": {
   "codemirror_mode": {
    "name": "ipython",
    "version": 2
   },
   "file_extension": ".py",
   "mimetype": "text/x-python",
   "name": "python",
   "nbconvert_exporter": "python",
   "pygments_lexer": "ipython2",
   "version": "2.7.12"
  }
 },
 "nbformat": 4,
 "nbformat_minor": 0
}
