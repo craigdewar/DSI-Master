{
 "cells": [
  {
   "cell_type": "code",
   "execution_count": 57,
   "metadata": {
    "collapsed": false
   },
   "outputs": [
    {
     "name": "stdout",
     "output_type": "stream",
     "text": [
      "Populating the interactive namespace from numpy and matplotlib\n"
     ]
    }
   ],
   "source": [
    "import pandas as pd\n",
    "from datetime import timedelta\n",
    "%pylab inline\n",
    "\n",
    "df_goog = pd.read_csv('../../assets/datasets/goog.csv')"
   ]
  },
  {
   "cell_type": "markdown",
   "metadata": {},
   "source": [
    "Take a high-level look at the data. Describe it. What are we looking at? Hint: We can use our `plot` function to provide a good visual."
   ]
  },
  {
   "cell_type": "code",
   "execution_count": 58,
   "metadata": {
    "collapsed": false
   },
   "outputs": [
    {
     "data": {
      "text/html": [
       "<div>\n",
       "<table border=\"1\" class=\"dataframe\">\n",
       "  <thead>\n",
       "    <tr style=\"text-align: right;\">\n",
       "      <th></th>\n",
       "      <th>Date</th>\n",
       "      <th>Open</th>\n",
       "      <th>High</th>\n",
       "      <th>Low</th>\n",
       "      <th>Close</th>\n",
       "      <th>Volume</th>\n",
       "      <th>Adj Close</th>\n",
       "    </tr>\n",
       "  </thead>\n",
       "  <tbody>\n",
       "    <tr>\n",
       "      <th>0</th>\n",
       "      <td>2015-12-01</td>\n",
       "      <td>747.109985</td>\n",
       "      <td>775.955017</td>\n",
       "      <td>745.630005</td>\n",
       "      <td>762.369995</td>\n",
       "      <td>2519600</td>\n",
       "      <td>762.369995</td>\n",
       "    </tr>\n",
       "    <tr>\n",
       "      <th>1</th>\n",
       "      <td>2015-11-02</td>\n",
       "      <td>711.059998</td>\n",
       "      <td>762.708008</td>\n",
       "      <td>705.849976</td>\n",
       "      <td>742.599976</td>\n",
       "      <td>1795300</td>\n",
       "      <td>742.599976</td>\n",
       "    </tr>\n",
       "    <tr>\n",
       "      <th>2</th>\n",
       "      <td>2015-10-01</td>\n",
       "      <td>608.369995</td>\n",
       "      <td>730.000000</td>\n",
       "      <td>599.849976</td>\n",
       "      <td>710.809998</td>\n",
       "      <td>2337100</td>\n",
       "      <td>710.809998</td>\n",
       "    </tr>\n",
       "    <tr>\n",
       "      <th>3</th>\n",
       "      <td>2015-09-01</td>\n",
       "      <td>602.359985</td>\n",
       "      <td>650.900024</td>\n",
       "      <td>589.380005</td>\n",
       "      <td>608.419983</td>\n",
       "      <td>2398400</td>\n",
       "      <td>608.419983</td>\n",
       "    </tr>\n",
       "    <tr>\n",
       "      <th>4</th>\n",
       "      <td>2015-08-03</td>\n",
       "      <td>625.340027</td>\n",
       "      <td>674.900024</td>\n",
       "      <td>565.049988</td>\n",
       "      <td>618.250000</td>\n",
       "      <td>2661600</td>\n",
       "      <td>618.250000</td>\n",
       "    </tr>\n",
       "  </tbody>\n",
       "</table>\n",
       "</div>"
      ],
      "text/plain": [
       "         Date        Open        High         Low       Close   Volume  \\\n",
       "0  2015-12-01  747.109985  775.955017  745.630005  762.369995  2519600   \n",
       "1  2015-11-02  711.059998  762.708008  705.849976  742.599976  1795300   \n",
       "2  2015-10-01  608.369995  730.000000  599.849976  710.809998  2337100   \n",
       "3  2015-09-01  602.359985  650.900024  589.380005  608.419983  2398400   \n",
       "4  2015-08-03  625.340027  674.900024  565.049988  618.250000  2661600   \n",
       "\n",
       "    Adj Close  \n",
       "0  762.369995  \n",
       "1  742.599976  \n",
       "2  710.809998  \n",
       "3  608.419983  \n",
       "4  618.250000  "
      ]
     },
     "execution_count": 58,
     "metadata": {},
     "output_type": "execute_result"
    }
   ],
   "source": [
    "df_goog.head()"
   ]
  },
  {
   "cell_type": "code",
   "execution_count": 59,
   "metadata": {
    "collapsed": false
   },
   "outputs": [
    {
     "data": {
      "text/plain": [
       "<matplotlib.axes._subplots.AxesSubplot at 0x1163ca950>"
      ]
     },
     "execution_count": 59,
     "metadata": {},
     "output_type": "execute_result"
    },
    {
     "data": {
      "image/png": "[encoded data removed]",
      "text/plain": [
       "<matplotlib.figure.Figure at 0x1163de8d0>"
      ]
     },
     "metadata": {},
     "output_type": "display_data"
    }
   ],
   "source": [
    "df_goog.describe()\n",
    "df_goog.dtypes\n",
    "# df_goog.plot() # this considers volume, which blows up graph and isn't proper unit\n",
    "\n",
    "df_goog[['Open','Close','High','Low','Adj Close']].plot()"
   ]
  },
  {
   "cell_type": "markdown",
   "metadata": {},
   "source": [
    "Looking a little deeper, let's gauge the integrity of our data. Is there any cleaning we can do? "
   ]
  },
  {
   "cell_type": "code",
   "execution_count": 60,
   "metadata": {
    "collapsed": false
   },
   "outputs": [
    {
     "data": {
      "text/plain": [
       "array(['2015-12-01', '2015-11-02', '2015-10-01', '2015-09-01',\n",
       "       '2015-08-03', '2015-07-01', '2015-06-01', '2015-05-01',\n",
       "       '2015-04-01', '2015-03-02', '2015-02-02', '2015-01-02',\n",
       "       '2014-12-01', '2014-11-03', '2014-10-01', '2014-09-02',\n",
       "       '2014-08-01', '2014-07-01', '2014-06-02', '2014-05-01',\n",
       "       '2014-04-01', '2014-03-27'], dtype=object)"
      ]
     },
     "execution_count": 60,
     "metadata": {},
     "output_type": "execute_result"
    }
   ],
   "source": [
    "df_goog['Open'].unique()\n",
    "df_goog['High'].unique()\n",
    "df_goog['Low'].unique()\n",
    "df_goog['Close'].unique()\n",
    "df_goog['Volume'].unique()\n",
    "df_goog['Adj Close'].unique()\n",
    "df_goog['Date'].unique()"
   ]
  },
  {
   "cell_type": "markdown",
   "metadata": {},
   "source": [
    "Let's examine the Date column. We should probably make it the index for our DataFrame, as we need to order the data by time. Doing this will result in 6 Series objects indexed by DateTime- literal Time Series!"
   ]
  },
  {
   "cell_type": "code",
   "execution_count": 61,
   "metadata": {
    "collapsed": false
   },
   "outputs": [
    {
     "data": {
      "text/plain": [
       "str"
      ]
     },
     "execution_count": 61,
     "metadata": {},
     "output_type": "execute_result"
    }
   ],
   "source": [
    "df_goog.Date\n",
    "type(df_goog.Date.loc[0])"
   ]
  },
  {
   "cell_type": "markdown",
   "metadata": {},
   "source": [
    "We need to convert the string to a DateTime object. Pandas has a built in function for this! Easy peasy. We should also ensure that the dates are sorted."
   ]
  },
  {
   "cell_type": "code",
   "execution_count": 62,
   "metadata": {
    "collapsed": true
   },
   "outputs": [],
   "source": [
    "df_goog.sort_values('Date', inplace=True)\n",
    "df_goog.set_index('Date', inplace=True)\n",
    "df_goog.index = df_goog.index.to_datetime()"
   ]
  },
  {
   "cell_type": "markdown",
   "metadata": {},
   "source": [
    "Let's add some more columns with useful data extracted from the DateTime index."
   ]
  },
  {
   "cell_type": "code",
   "execution_count": 63,
   "metadata": {
    "collapsed": true
   },
   "outputs": [],
   "source": [
    "df_goog['Year'] = df_goog.index.year\n",
    "df_goog['Month'] = df_goog.index.month\n",
    "df_goog['Day'] = df_goog.index.day"
   ]
  },
  {
   "cell_type": "markdown",
   "metadata": {},
   "source": [
    "Let's walk through adding a dummy variable to flag days where the Close price was higher than the Open price"
   ]
  },
  {
   "cell_type": "code",
   "execution_count": 64,
   "metadata": {
    "collapsed": false
   },
   "outputs": [],
   "source": [
    "#Insructor Note: Walk the students through creating the dummy variable. \n",
    "# Two possible solutions:\n",
    "df_goog['Closed_Higher'] = df_goog.Open > df_goog.Close\n",
    "#OR\n",
    "# df_goog['Closed_Higher'] = pd.get_dummies(df_goog.Open > df_goog.Close).values"
   ]
  },
  {
   "cell_type": "markdown",
   "metadata": {},
   "source": [
    "We can use the DateTime object to access various different cuts of data using date attributes. For example, if we wanted to get all of the cuts from 2015, we would do as such:"
   ]
  },
  {
   "cell_type": "code",
   "execution_count": 65,
   "metadata": {
    "collapsed": false
   },
   "outputs": [
    {
     "data": {
      "text/html": [
       "<div>\n",
       "<table border=\"1\" class=\"dataframe\">\n",
       "  <thead>\n",
       "    <tr style=\"text-align: right;\">\n",
       "      <th></th>\n",
       "      <th>Open</th>\n",
       "      <th>High</th>\n",
       "      <th>Low</th>\n",
       "      <th>Close</th>\n",
       "      <th>Volume</th>\n",
       "      <th>Adj Close</th>\n",
       "      <th>Year</th>\n",
       "      <th>Month</th>\n",
       "      <th>Day</th>\n",
       "      <th>Closed_Higher</th>\n",
       "    </tr>\n",
       "  </thead>\n",
       "  <tbody>\n",
       "    <tr>\n",
       "      <th>2015-01-02</th>\n",
       "      <td>529.012390</td>\n",
       "      <td>542.172424</td>\n",
       "      <td>487.562195</td>\n",
       "      <td>534.522461</td>\n",
       "      <td>2791200</td>\n",
       "      <td>534.522461</td>\n",
       "      <td>2015</td>\n",
       "      <td>1</td>\n",
       "      <td>2</td>\n",
       "      <td>False</td>\n",
       "    </tr>\n",
       "    <tr>\n",
       "      <th>2015-02-02</th>\n",
       "      <td>531.732361</td>\n",
       "      <td>564.712585</td>\n",
       "      <td>518.552307</td>\n",
       "      <td>558.402588</td>\n",
       "      <td>1841600</td>\n",
       "      <td>558.402588</td>\n",
       "      <td>2015</td>\n",
       "      <td>2</td>\n",
       "      <td>2</td>\n",
       "      <td>False</td>\n",
       "    </tr>\n",
       "    <tr>\n",
       "      <th>2015-03-02</th>\n",
       "      <td>560.532532</td>\n",
       "      <td>577.912598</td>\n",
       "      <td>544.222473</td>\n",
       "      <td>548.002441</td>\n",
       "      <td>1828900</td>\n",
       "      <td>548.002441</td>\n",
       "      <td>2015</td>\n",
       "      <td>3</td>\n",
       "      <td>2</td>\n",
       "      <td>True</td>\n",
       "    </tr>\n",
       "    <tr>\n",
       "      <th>2015-04-01</th>\n",
       "      <td>548.602417</td>\n",
       "      <td>571.142578</td>\n",
       "      <td>521.012390</td>\n",
       "      <td>537.340027</td>\n",
       "      <td>2116700</td>\n",
       "      <td>537.340027</td>\n",
       "      <td>2015</td>\n",
       "      <td>4</td>\n",
       "      <td>1</td>\n",
       "      <td>True</td>\n",
       "    </tr>\n",
       "    <tr>\n",
       "      <th>2015-05-01</th>\n",
       "      <td>538.429993</td>\n",
       "      <td>544.190002</td>\n",
       "      <td>521.085022</td>\n",
       "      <td>532.109985</td>\n",
       "      <td>1723100</td>\n",
       "      <td>532.109985</td>\n",
       "      <td>2015</td>\n",
       "      <td>5</td>\n",
       "      <td>1</td>\n",
       "      <td>True</td>\n",
       "    </tr>\n",
       "    <tr>\n",
       "      <th>2015-06-01</th>\n",
       "      <td>536.789978</td>\n",
       "      <td>543.739990</td>\n",
       "      <td>520.500000</td>\n",
       "      <td>520.510010</td>\n",
       "      <td>1662400</td>\n",
       "      <td>520.510010</td>\n",
       "      <td>2015</td>\n",
       "      <td>6</td>\n",
       "      <td>1</td>\n",
       "      <td>True</td>\n",
       "    </tr>\n",
       "    <tr>\n",
       "      <th>2015-07-01</th>\n",
       "      <td>524.729980</td>\n",
       "      <td>678.640015</td>\n",
       "      <td>515.179993</td>\n",
       "      <td>625.609985</td>\n",
       "      <td>2955600</td>\n",
       "      <td>625.609985</td>\n",
       "      <td>2015</td>\n",
       "      <td>7</td>\n",
       "      <td>1</td>\n",
       "      <td>False</td>\n",
       "    </tr>\n",
       "    <tr>\n",
       "      <th>2015-08-03</th>\n",
       "      <td>625.340027</td>\n",
       "      <td>674.900024</td>\n",
       "      <td>565.049988</td>\n",
       "      <td>618.250000</td>\n",
       "      <td>2661600</td>\n",
       "      <td>618.250000</td>\n",
       "      <td>2015</td>\n",
       "      <td>8</td>\n",
       "      <td>3</td>\n",
       "      <td>True</td>\n",
       "    </tr>\n",
       "    <tr>\n",
       "      <th>2015-09-01</th>\n",
       "      <td>602.359985</td>\n",
       "      <td>650.900024</td>\n",
       "      <td>589.380005</td>\n",
       "      <td>608.419983</td>\n",
       "      <td>2398400</td>\n",
       "      <td>608.419983</td>\n",
       "      <td>2015</td>\n",
       "      <td>9</td>\n",
       "      <td>1</td>\n",
       "      <td>False</td>\n",
       "    </tr>\n",
       "    <tr>\n",
       "      <th>2015-10-01</th>\n",
       "      <td>608.369995</td>\n",
       "      <td>730.000000</td>\n",
       "      <td>599.849976</td>\n",
       "      <td>710.809998</td>\n",
       "      <td>2337100</td>\n",
       "      <td>710.809998</td>\n",
       "      <td>2015</td>\n",
       "      <td>10</td>\n",
       "      <td>1</td>\n",
       "      <td>False</td>\n",
       "    </tr>\n",
       "    <tr>\n",
       "      <th>2015-11-02</th>\n",
       "      <td>711.059998</td>\n",
       "      <td>762.708008</td>\n",
       "      <td>705.849976</td>\n",
       "      <td>742.599976</td>\n",
       "      <td>1795300</td>\n",
       "      <td>742.599976</td>\n",
       "      <td>2015</td>\n",
       "      <td>11</td>\n",
       "      <td>2</td>\n",
       "      <td>False</td>\n",
       "    </tr>\n",
       "    <tr>\n",
       "      <th>2015-12-01</th>\n",
       "      <td>747.109985</td>\n",
       "      <td>775.955017</td>\n",
       "      <td>745.630005</td>\n",
       "      <td>762.369995</td>\n",
       "      <td>2519600</td>\n",
       "      <td>762.369995</td>\n",
       "      <td>2015</td>\n",
       "      <td>12</td>\n",
       "      <td>1</td>\n",
       "      <td>False</td>\n",
       "    </tr>\n",
       "  </tbody>\n",
       "</table>\n",
       "</div>"
      ],
      "text/plain": [
       "                  Open        High         Low       Close   Volume  \\\n",
       "2015-01-02  529.012390  542.172424  487.562195  534.522461  2791200   \n",
       "2015-02-02  531.732361  564.712585  518.552307  558.402588  1841600   \n",
       "2015-03-02  560.532532  577.912598  544.222473  548.002441  1828900   \n",
       "2015-04-01  548.602417  571.142578  521.012390  537.340027  2116700   \n",
       "2015-05-01  538.429993  544.190002  521.085022  532.109985  1723100   \n",
       "2015-06-01  536.789978  543.739990  520.500000  520.510010  1662400   \n",
       "2015-07-01  524.729980  678.640015  515.179993  625.609985  2955600   \n",
       "2015-08-03  625.340027  674.900024  565.049988  618.250000  2661600   \n",
       "2015-09-01  602.359985  650.900024  589.380005  608.419983  2398400   \n",
       "2015-10-01  608.369995  730.000000  599.849976  710.809998  2337100   \n",
       "2015-11-02  711.059998  762.708008  705.849976  742.599976  1795300   \n",
       "2015-12-01  747.109985  775.955017  745.630005  762.369995  2519600   \n",
       "\n",
       "             Adj Close  Year  Month  Day Closed_Higher  \n",
       "2015-01-02  534.522461  2015      1    2         False  \n",
       "2015-02-02  558.402588  2015      2    2         False  \n",
       "2015-03-02  548.002441  2015      3    2          True  \n",
       "2015-04-01  537.340027  2015      4    1          True  \n",
       "2015-05-01  532.109985  2015      5    1          True  \n",
       "2015-06-01  520.510010  2015      6    1          True  \n",
       "2015-07-01  625.609985  2015      7    1         False  \n",
       "2015-08-03  618.250000  2015      8    3          True  \n",
       "2015-09-01  608.419983  2015      9    1         False  \n",
       "2015-10-01  710.809998  2015     10    1         False  \n",
       "2015-11-02  742.599976  2015     11    2         False  \n",
       "2015-12-01  762.369995  2015     12    1         False  "
      ]
     },
     "execution_count": 65,
     "metadata": {},
     "output_type": "execute_result"
    }
   ],
   "source": [
    "df_goog['2015']"
   ]
  },
  {
   "cell_type": "markdown",
   "metadata": {},
   "source": [
    "Let's recall the TimeDelta object. We can use this to shift our entire index by a given offset."
   ]
  },
  {
   "cell_type": "code",
   "execution_count": 66,
   "metadata": {
    "collapsed": false
   },
   "outputs": [
    {
     "data": {
      "text/plain": [
       "DatetimeIndex(['2014-03-28', '2014-04-02', '2014-05-02', '2014-06-03',\n",
       "               '2014-07-02', '2014-08-02', '2014-09-03', '2014-10-02',\n",
       "               '2014-11-04', '2014-12-02', '2015-01-03', '2015-02-03',\n",
       "               '2015-03-03', '2015-04-02', '2015-05-02', '2015-06-02',\n",
       "               '2015-07-02', '2015-08-04', '2015-09-02', '2015-10-02',\n",
       "               '2015-11-03', '2015-12-02'],\n",
       "              dtype='datetime64[ns]', freq=None)"
      ]
     },
     "execution_count": 66,
     "metadata": {},
     "output_type": "execute_result"
    }
   ],
   "source": [
    "df_goog.index + timedelta(days=1)"
   ]
  },
  {
   "cell_type": "markdown",
   "metadata": {},
   "source": [
    "On your own, try to shift the entire time series **both** forwards and backwards by the following intervals:\n",
    "- 1 hour\n",
    "- 3 days\n",
    "- 12 years, 1 hour, and 43 seconds"
   ]
  },
  {
   "cell_type": "code",
   "execution_count": 67,
   "metadata": {
    "collapsed": false
   },
   "outputs": [
    {
     "data": {
      "text/plain": [
       "DatetimeIndex(['2002-03-29 22:59:17', '2002-04-03 22:59:17',\n",
       "               '2002-05-03 22:59:17', '2002-06-04 22:59:17',\n",
       "               '2002-07-03 22:59:17', '2002-08-03 22:59:17',\n",
       "               '2002-09-04 22:59:17', '2002-10-03 22:59:17',\n",
       "               '2002-11-05 22:59:17', '2002-12-03 22:59:17',\n",
       "               '2003-01-04 22:59:17', '2003-02-04 22:59:17',\n",
       "               '2003-03-04 22:59:17', '2003-04-03 22:59:17',\n",
       "               '2003-05-03 22:59:17', '2003-06-03 22:59:17',\n",
       "               '2003-07-03 22:59:17', '2003-08-05 22:59:17',\n",
       "               '2003-09-03 22:59:17', '2003-10-03 22:59:17',\n",
       "               '2003-11-04 22:59:17', '2003-12-03 22:59:17'],\n",
       "              dtype='datetime64[ns]', freq=None)"
      ]
     },
     "execution_count": 67,
     "metadata": {},
     "output_type": "execute_result"
    }
   ],
   "source": [
    "df_goog.index + timedelta(hours=1)\n",
    "df_goog.index - timedelta(hours=1)\n",
    "\n",
    "df_goog.index + timedelta(days=3)\n",
    "df_goog.index - timedelta(days=3)\n",
    "\n",
    "df_goog.index + timedelta(days=4380, hours=1, seconds=43)\n",
    "df_goog.index - timedelta(days=4380, hours=1, seconds=43)"
   ]
  },
  {
   "cell_type": "markdown",
   "metadata": {
    "collapsed": true
   },
   "source": [
    "## Discussion: Date ranges and Frequencies"
   ]
  },
  {
   "cell_type": "code",
   "execution_count": 76,
   "metadata": {
    "collapsed": false
   },
   "outputs": [
    {
     "name": "stderr",
     "output_type": "stream",
     "text": [
      "/Users/jb3/anaconda/lib/python2.7/site-packages/ipykernel/__main__.py:1: FutureWarning: .resample() is now a deferred operation\n",
      "use .resample(...).mean() instead of .resample(...)\n",
      "  if __name__ == '__main__':\n"
     ]
    },
    {
     "data": {
      "text/plain": [
       "<matplotlib.axes._subplots.AxesSubplot at 0x116c2fbd0>"
      ]
     },
     "execution_count": 76,
     "metadata": {},
     "output_type": "execute_result"
    },
    {
     "data": {
      "image/png": "[encoded data removed]",
      "text/plain": [
       "<matplotlib.figure.Figure at 0x116b2d150>"
      ]
     },
     "metadata": {},
     "output_type": "display_data"
    }
   ],
   "source": [
    "df_goog.Open.resample('M').plot()\n"
   ]
  },
  {
   "cell_type": "code",
   "execution_count": 81,
   "metadata": {
    "collapsed": false
   },
   "outputs": [
    {
     "data": {
      "text/plain": [
       "2014-03-27    556.972473\n",
       "2014-04-01    526.662415\n",
       "2014-05-01    559.892578\n",
       "2014-06-02    575.282593\n",
       "2014-07-01    571.602539\n",
       "2014-08-01    571.602539\n",
       "2014-09-02    577.362610\n",
       "2014-10-01    559.082520\n",
       "2014-11-03    541.832458\n",
       "2014-12-01    526.402405\n",
       "2015-01-02    534.522461\n",
       "2015-02-02    558.402588\n",
       "2015-03-02    548.002441\n",
       "2015-04-01    537.340027\n",
       "2015-05-01    532.109985\n",
       "2015-06-01    520.510010\n",
       "2015-07-01    625.609985\n",
       "2015-08-03    618.250000\n",
       "2015-09-01    608.419983\n",
       "2015-10-01    710.809998\n",
       "2015-11-02    742.599976\n",
       "2015-12-01    762.369995\n",
       "Name: Close, dtype: float64"
      ]
     },
     "execution_count": 81,
     "metadata": {},
     "output_type": "execute_result"
    }
   ],
   "source": [
    "df_goog.Close"
   ]
  },
  {
   "cell_type": "code",
   "execution_count": 83,
   "metadata": {
    "collapsed": false
   },
   "outputs": [
    {
     "data": {
      "text/plain": [
       "Open             float64\n",
       "High             float64\n",
       "Low              float64\n",
       "Close            float64\n",
       "Volume             int64\n",
       "Adj Close        float64\n",
       "Year               int32\n",
       "Month              int32\n",
       "Day                int32\n",
       "Closed_Higher       bool\n",
       "dtype: object"
      ]
     },
     "execution_count": 83,
     "metadata": {},
     "output_type": "execute_result"
    }
   ],
   "source": [
    "df_goog.dtypes"
   ]
  },
  {
   "cell_type": "code",
   "execution_count": 80,
   "metadata": {
    "collapsed": false
   },
   "outputs": [
    {
     "data": {
      "text/plain": [
       "2014-03-27    556.972473\n",
       "2014-03-28    526.662415\n",
       "2014-03-29    526.662415\n",
       "2014-03-30    526.662415\n",
       "2014-03-31    526.662415\n",
       "2014-04-01    526.662415\n",
       "2014-04-02    559.892578\n",
       "2014-04-03    559.892578\n",
       "2014-04-04    559.892578\n",
       "2014-04-05    559.892578\n",
       "2014-04-06    559.892578\n",
       "2014-04-07    559.892578\n",
       "2014-04-08    559.892578\n",
       "2014-04-09    559.892578\n",
       "2014-04-10    559.892578\n",
       "2014-04-11    559.892578\n",
       "2014-04-12    559.892578\n",
       "2014-04-13    559.892578\n",
       "2014-04-14    559.892578\n",
       "2014-04-15    559.892578\n",
       "2014-04-16    559.892578\n",
       "2014-04-17    559.892578\n",
       "2014-04-18    559.892578\n",
       "2014-04-19    559.892578\n",
       "2014-04-20    559.892578\n",
       "2014-04-21    559.892578\n",
       "2014-04-22    559.892578\n",
       "2014-04-23    559.892578\n",
       "2014-04-24    559.892578\n",
       "2014-04-25    559.892578\n",
       "                 ...    \n",
       "2015-11-02    742.599976\n",
       "2015-11-03    762.369995\n",
       "2015-11-04    762.369995\n",
       "2015-11-05    762.369995\n",
       "2015-11-06    762.369995\n",
       "2015-11-07    762.369995\n",
       "2015-11-08    762.369995\n",
       "2015-11-09    762.369995\n",
       "2015-11-10    762.369995\n",
       "2015-11-11    762.369995\n",
       "2015-11-12    762.369995\n",
       "2015-11-13    762.369995\n",
       "2015-11-14    762.369995\n",
       "2015-11-15    762.369995\n",
       "2015-11-16    762.369995\n",
       "2015-11-17    762.369995\n",
       "2015-11-18    762.369995\n",
       "2015-11-19    762.369995\n",
       "2015-11-20    762.369995\n",
       "2015-11-21    762.369995\n",
       "2015-11-22    762.369995\n",
       "2015-11-23    762.369995\n",
       "2015-11-24    762.369995\n",
       "2015-11-25    762.369995\n",
       "2015-11-26    762.369995\n",
       "2015-11-27    762.369995\n",
       "2015-11-28    762.369995\n",
       "2015-11-29    762.369995\n",
       "2015-11-30    762.369995\n",
       "2015-12-01    762.369995\n",
       "Freq: D, Name: Close, dtype: float64"
      ]
     },
     "execution_count": 80,
     "metadata": {},
     "output_type": "execute_result"
    }
   ],
   "source": [
    "df_goog.Close.asfreq('D', method='backfill')"
   ]
  },
  {
   "cell_type": "markdown",
   "metadata": {},
   "source": [
    "Note that `asfreq` gives us a `method` keyword argument. Backfill, or bfill, will propogate the last valid observation forward. In other words, it will use the value preceding a range of unknown indices to fill in the unknowns. Inversely, pad, or ffill, will use the first value succeeding a range of unknown indices to fill in the unknowns."
   ]
  },
  {
   "cell_type": "markdown",
   "metadata": {},
   "source": [
    "Now, let's discuss the following points:\n",
    "- What does `asfreq` do?\n",
    "- What does `resample` do?\n",
    "- What is the difference?\n",
    "- When would we want to use each?"
   ]
  },
  {
   "cell_type": "markdown",
   "metadata": {},
   "source": [
    "We can also create our own date ranges using a built in function, `date_range`. The `periods` and `freq` keyword arguments grant the user finegrained control over the resulting values. To reset the time data, use the `normalize=True` directive."
   ]
  },
  {
   "cell_type": "markdown",
   "metadata": {},
   "source": [
    "**NOTE:** See Reference B in the lesson notes for all of the available offset aliases"
   ]
  },
  {
   "cell_type": "code",
   "execution_count": 84,
   "metadata": {
    "collapsed": false
   },
   "outputs": [
    {
     "data": {
      "text/plain": [
       "DatetimeIndex(['2012-03-07 12:56:31', '2012-03-08 12:56:31',\n",
       "               '2012-03-09 12:56:31', '2012-03-10 12:56:31',\n",
       "               '2012-03-11 12:56:31', '2012-03-12 12:56:31'],\n",
       "              dtype='datetime64[ns]', freq='D')"
      ]
     },
     "execution_count": 84,
     "metadata": {},
     "output_type": "execute_result"
    }
   ],
   "source": [
    "index = pd.date_range('3/1/2016', '6/1/2016')\n",
    "\n",
    "pd.date_range(start='3/1/2016', periods=20)\n",
    "pd.date_range(end='6/1/2016', periods=20)\n",
    "pd.date_range('1/1/2016', '12/1/2016', freq='BM')\n",
    "\n",
    "pd.date_range('3/7/2016 12:56:31', periods=6)\n",
    "pd.date_range('3/7/2012 12:56:31', periods=6, normalize=False)"
   ]
  },
  {
   "cell_type": "markdown",
   "metadata": {},
   "source": [
    "We are also given a Period object, which can be used to represent a time interval. The Period object consists of a start time and an end time, and can be created by providing a start time and a given frequency."
   ]
  },
  {
   "cell_type": "code",
   "execution_count": 70,
   "metadata": {
    "collapsed": false
   },
   "outputs": [
    {
     "data": {
      "text/plain": [
       "Timestamp('2016-03-31 23:59:59.999999999')"
      ]
     },
     "execution_count": 70,
     "metadata": {},
     "output_type": "execute_result"
    }
   ],
   "source": [
    "march_2016 = pd.Period('2016-03', freq='M')\n",
    "\n",
    "march_2016.start_time\n",
    "march_2016.end_time"
   ]
  },
  {
   "cell_type": "markdown",
   "metadata": {},
   "source": [
    "Each of these objects can be used to alter and access data from our DataFrames. We'll try those out in our Independent Practice in a moment."
   ]
  }
 ],
 "metadata": {
  "kernelspec": {
   "display_name": "Python 2",
   "language": "python",
   "name": "python2"
  },
  "language_info": {
   "codemirror_mode": {
    "name": "ipython",
    "version": 2
   },
   "file_extension": ".py",
   "mimetype": "text/x-python",
   "name": "python",
   "nbconvert_exporter": "python",
   "pygments_lexer": "ipython2",
   "version": "2.7.12"
  }
 },
 "nbformat": 4,
 "nbformat_minor": 0
}
