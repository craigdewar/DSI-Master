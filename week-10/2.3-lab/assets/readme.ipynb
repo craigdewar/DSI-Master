{
 "cells": [
  {
   "cell_type": "markdown",
   "metadata": {},
   "source": [
    "---\n",
    "title: Hive Queries Lab\n",
    "type: lab\n",
    "duration: \"1:25\"\n",
    "creator:\n",
    "    name: Francesco Mosconi\n",
    "    city: SF\n",
    "---"
   ]
  },
  {
   "cell_type": "markdown",
   "metadata": {},
   "source": [
    "# ![](https://ga-dash.s3.amazonaws.com/production/assets/logo-9f88ae6c9c3871690e33280fcf557f33.png) Hive Queries Lab"
   ]
  },
  {
   "cell_type": "markdown",
   "metadata": {},
   "source": [
    "## Introduction\n",
    "\n",
    "For this lab we will use data from the [Bay Area Bike Share Open Data Website](http://www.bayareabikeshare.com/open-data)\n",
    "\n",
    "We've downloaded a part of it which is available in your assets folder. Each trip is anonymized and includes:\n",
    "\n",
    "- Bike number\n",
    "- Trip start day and time\n",
    "- Trip end day and time\n",
    "- Trip start station\n",
    "- Trip end station\n",
    "- Rider type – Annual or Casual (24-hour or 3-day member)\n",
    "\n",
    "If an annual member trip, it will also include the member’s home zip code\n",
    "\n",
    "The data set also includes:\n",
    "\n",
    "- Weather information per day per service area\n",
    "- Bike and dock availability per minute per station\n"
   ]
  },
  {
   "cell_type": "markdown",
   "metadata": {},
   "source": [
    "## Exercise\n",
    "\n",
    "#### Requirements\n",
    "\n",
    "- Spin up EMR cluster\n",
    "- Log into HUE\n",
    "- Import Data and create tables\n",
    "- Top start station\n",
    "- Chart of top start station\n",
    "- Top destinations + Map\n",
    "\n",
    "**Bonus:**\n",
    "- Analyze trips hourly\n",
    "\n",
    "#### Starter code\n",
    "\n",
    "[Starter Code](./assets/code/starter-code/starter-code.ipynb)\n",
    "> [Solution Code](./assets/code/solution-code/solution-code.ipynb)\n",
    "\n",
    "## IMPORTANT:\n",
    "Make sure to terminate your cluster and remove logs from S3 once you're done to avoid unnecessary costs.\n",
    "\n",
    "- Open your AWS console\n",
    "- Make sure you're in the correct geographic region (top right)\n",
    "- Go to the EMR window\n",
    "- Stop all clusters and make sure they stop\n",
    "- Go to the S3 window\n",
    "- Check that there are no buckets you didn't want\n",
    "- Go to the EC2 window\n",
    "- Check that there are no running instances\n"
   ]
  },
  {
   "cell_type": "markdown",
   "metadata": {
    "collapsed": true
   },
   "source": [
    "### Additional resources\n",
    "\n",
    "- [Bay Area Bike Share Open Data Website](http://www.bayareabikeshare.com/open-data)\n",
    "- [AWS EMR](https://us-west-2.console.aws.amazon.com/elasticmapreduce/home?region=us-west-2)"
   ]
  }
 ],
 "metadata": {
  "kernelspec": {
   "display_name": "Python 2",
   "language": "python",
   "name": "python2"
  },
  "language_info": {
   "codemirror_mode": {
    "name": "ipython",
    "version": 2
   },
   "file_extension": ".py",
   "mimetype": "text/x-python",
   "name": "python",
   "nbconvert_exporter": "python",
   "pygments_lexer": "ipython2",
   "version": "2.7.11"
  }
 },
 "nbformat": 4,
 "nbformat_minor": 0
}
