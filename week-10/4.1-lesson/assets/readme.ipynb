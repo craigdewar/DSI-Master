{
 "cells": [
  {
   "cell_type": "markdown",
   "metadata": {},
   "source": [
    "---\n",
    "title: Database Design Case Study\n",
    "duration: \"1:25\"\n",
    "creator:\n",
    "    name: Francesco Mosconi\n",
    "    city: SF\n",
    "---"
   ]
  },
  {
   "cell_type": "markdown",
   "metadata": {},
   "source": [
    "# ![](https://ga-dash.s3.amazonaws.com/production/assets/logo-9f88ae6c9c3871690e33280fcf557f33.png) Database Design Case Study\n",
    "Week 10 | Lesson 4.1"
   ]
  },
  {
   "cell_type": "markdown",
   "metadata": {},
   "source": [
    "### LEARNING OBJECTIVES\n",
    "*After this lesson, you will be able to:*\n",
    "- critically assess the needs of a client\n",
    "- discuss the pros/cons of different database designs\n",
    "- submit a proposal of a database design"
   ]
  },
  {
   "cell_type": "markdown",
   "metadata": {},
   "source": [
    "### STUDENT PRE-WORK\n",
    "*Before this lesson, you should already be able to:*\n",
    "- perform queries in SQL\n",
    "- perform queries in Hadoop & Hive\n",
    "- perform queries in Spark"
   ]
  },
  {
   "cell_type": "markdown",
   "metadata": {},
   "source": [
    "### INSTRUCTOR PREP\n",
    "*Before this lesson, instructors will need to:*\n",
    "- Read in / Review any dataset(s) & starter/solution code\n",
    "- Generate a brief slide deck\n",
    "- Prepare any specific materials\n",
    "- Provide students with additional resources"
   ]
  },
  {
   "cell_type": "markdown",
   "metadata": {},
   "source": [
    "### LESSON GUIDE\n",
    "| TIMING  | TYPE  | TOPIC  |\n",
    "|:-:|---|---|\n",
    "| 5 min | [Opening](#opening) | Opening |\n",
    "| 20 min | [Guided-practice](#guided-practice_1) | Phase 1: Research |\n",
    "| 20 min | [Guided-practice](#guided-practice_2) | Phase 2: Database design 1 |\n",
    "| 20 min | [Guided-practice](#guided-practice_3) | Phase 3: Database design 2 |\n",
    "| 20 min | [Guided-practice](#guided-practice_4) | Phase 3: Presentation |"
   ]
  },
  {
   "cell_type": "markdown",
   "metadata": {},
   "source": [
    "<a name=\"opening\"></a>\n",
    "## Opening (5 min)\n",
    "In this lecture we will also work in 3 groups. Each group will get a different problem to solve.\n",
    "\n",
    "- Group 1: Your client is a major bank, concerned with Credit card fraud. They would like you to take a look at their data on transactions in order to detect fraud.\n",
    "- Group 2: Your client is a traditional hedge fund which is currently underperforming. They engaged your consulting services to help them with stock prediction as well as with their general infrastructure.\n",
    "- Group 3: Your client is an ecommerce platform that allows people to buy and sell furniture. They have 100,000 100MB Images of desks, chairs, and other pieces of furniture and they would like your help to classify them into their respective categories."
   ]
  },
  {
   "cell_type": "markdown",
   "metadata": {},
   "source": [
    "<a name=\"guided-practice_1\"></a>\n",
    "## Phase 1: Research (20 min)\n",
    "\n",
    "Your first task is to find out as much as possible about the problem at hand. Given the short time, it's best if you divide and conquer and have different team members in the group research different aspects of the problem.\n",
    "\n",
    "In particular you should figure out:\n",
    "\n",
    "- what is the problem exactly\n",
    "- what is the size of data your client is typically dealing with (Volume)\n",
    "- what is the speed required to manage the data (Velocity)\n",
    "- what may be othe requirements in terms of compliance to regulations (if any)\n",
    "- what is the expected outcome from your services"
   ]
  },
  {
   "cell_type": "markdown",
   "metadata": {},
   "source": [
    "<a name=\"guided-practice_2\"></a>\n",
    "## Phase 2: Database design 1 (20 min)\n",
    "\n",
    "In this phase you'll have to work collaboratively within your group to propose a platform to solve the client's needs. You are free to choose from any of the tools you've learned about so far. In particular you have to answer the following questions:\n",
    "\n",
    "- what database will you use to meet your client's demand? (SQL, NoSQL, Big Data...)\n",
    "- is it going to be hosted on the client's premises or in the cloud?\n",
    "- what will be the major technical challenge?\n",
    "- where will most of the development time be allocated?\n",
    "- will the project focus more on ETL and data integration or on Machine Learning?\n",
    "- if you have a supervised problem, how will you source the labels? does the client have them?\n",
    "- what limitations will your proposed solution have?"
   ]
  },
  {
   "cell_type": "markdown",
   "metadata": {},
   "source": [
    "<a name=\"guided-practice_3\"></a>\n",
    "## Phase 3: Database design 2 (20 min)\n",
    "\n",
    "In this phase you will draft a presentation both of your case and of the proposed solution. Make sure to touch on the points you explored in phases 1 and 2. In particular, you should go into the details of:\n",
    "\n",
    "- how you will model the clients data\n",
    "- which technology you will use\n",
    "- which tables or data structures you will use\n",
    "- why you will make those choices"
   ]
  },
  {
   "cell_type": "markdown",
   "metadata": {},
   "source": [
    "<a name=\"guided-practice_4\"></a>\n",
    "## Phase 3: Presentation (20 min)\n",
    "\n",
    "Each group will get 5 minutes to present their findings to the class.\n",
    "\n",
    "> **Instructor note:** Here are a few points to lead the discussion:\n",
    "- Did the team correctly identify the problem?\n",
    "- Did the team correctly scope the solution?\n",
    "- Did the team focus on the correct aspects of the implementation?\n",
    "- Did the team design a database that is appropriate for the problem?"
   ]
  },
  {
   "cell_type": "markdown",
   "metadata": {},
   "source": [
    "### ADDITIONAL RESOURCES\n",
    "\n",
    "- [Database design](https://en.wikipedia.org/wiki/Database_design)\n",
    "- [11 rules for database design](http://www.codeproject.com/Articles/359654/important-database-designing-rules-which-I-fo)"
   ]
  }
 ],
 "metadata": {
  "kernelspec": {
   "display_name": "Python 2",
   "language": "python",
   "name": "python2"
  },
  "language_info": {
   "codemirror_mode": {
    "name": "ipython",
    "version": 2
   },
   "file_extension": ".py",
   "mimetype": "text/x-python",
   "name": "python",
   "nbconvert_exporter": "python",
   "pygments_lexer": "ipython2",
   "version": "2.7.11"
  }
 },
 "nbformat": 4,
 "nbformat_minor": 0
}
