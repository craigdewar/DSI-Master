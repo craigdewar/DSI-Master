{
 "cells": [
  {
   "cell_type": "markdown",
   "metadata": {},
   "source": [
    "---\n",
    "title: Big Data Case Studies\n",
    "duration: \"1:25\"\n",
    "creator:\n",
    "    name: Francesco Mosconi\n",
    "    city: SF\n",
    "---"
   ]
  },
  {
   "cell_type": "markdown",
   "metadata": {},
   "source": [
    "# ![](https://ga-dash.s3.amazonaws.com/production/assets/logo-9f88ae6c9c3871690e33280fcf557f33.png) Big Data Case Studies\n",
    "Week 10| Lesson 2.4"
   ]
  },
  {
   "cell_type": "markdown",
   "metadata": {},
   "source": [
    "### LEARNING OBJECTIVES\n",
    "*After this lesson, you will be able to:*\n",
    "- describe some success stories of big data\n",
    "- identify problems that require a big data approach\n",
    "- connect the technologies you have studied to real world problems"
   ]
  },
  {
   "cell_type": "markdown",
   "metadata": {},
   "source": [
    "### STUDENT PRE-WORK\n",
    "*Before this lesson, you should already be able to:*\n",
    "- perform queries in SQL\n",
    "- perform queries in Hive over a Hadoop cluster\n",
    "- explain how Map-Reduce works\n",
    "- perform calculations on big data using Map reduce"
   ]
  },
  {
   "cell_type": "markdown",
   "metadata": {},
   "source": [
    "### INSTRUCTOR PREP\n",
    "*Before this lesson, instructors will need to:*\n",
    "- Read in / Review any dataset(s) & starter/solution code\n",
    "- Generate a brief slide deck\n",
    "- Prepare any specific materials\n",
    "- Provide students with additional resources\n",
    "- Read the two articles mentioned in the Opening section"
   ]
  },
  {
   "cell_type": "markdown",
   "metadata": {},
   "source": [
    "### LESSON GUIDE\n",
    "| TIMING  | TYPE  | TOPIC  |\n",
    "|:-:|---|---|\n",
    "| 5 min | [Opening](#opening) | Opening |\n",
    "| 10 min | [Introduction](#introduction) | Case 1: TV Show |\n",
    "| 10 min | [Guided](#guided_practice1) | Case 1: Project goals |\n",
    "| 10 min | [Guided](#guided_practice2) | Case 1: Implementation |\n",
    "| 5 min | [Guided](#guided_practice3) | Case 2: Fraud detection |\n",
    "| 15 min | [Guided](#guided_practice4) | Case 2: Investigation Phase |\n",
    "| 10 min | [Guided](#guided_practice5) | Case 2: Discussion Phase |\n",
    "| 15 min | [Guided](#guided_practice6) | Case 2: Solution Brainstorm |\n",
    "| 5 min | [Conclusion](#conclusion) | Case 2: Conclusion |"
   ]
  },
  {
   "cell_type": "markdown",
   "metadata": {},
   "source": [
    "<a name=\"opening\"></a>\n",
    "## Opening (5 min)\n",
    "\n",
    "In this class we will work in groups and review 2 case studies of use of Big Data technologies like Hadoop. We will do this by performing 2 activities:\n",
    "- investigation + presentation for the first\n",
    "- debate + role playing for the second\n",
    "\n",
    "> Instructor note: for this class your role is to facilitate the discussion and make sure that the key points from each article emerge."
   ]
  },
  {
   "cell_type": "markdown",
   "metadata": {},
   "source": [
    "<a name=\"introduction\"></a>\n",
    "## Case 1: TV Show (10 min)\n",
    "\n",
    "Today's lecture is going to be highly interactive. Let's form 4 groups. These groups will be called:\n",
    "- Blue Team\n",
    "- Red Team\n",
    "- Yellow Team\n",
    "- White Team\n",
    "\n",
    "Each group will use the next 10 minutes to read this article: [TV show uses data to change the world](https://gigaom.com/2012/08/11/how-indias-favorite-tv-show-uses-data-to-change-the-world/).\n",
    "\n",
    "You may also visit the site of [Persistent](https://www.persistent.com/), the company mentioned in the article, to get a sense of what products and services they offer.\n",
    "\n",
    "At the end of the activity we will share some of the key findings from each group."
   ]
  },
  {
   "cell_type": "markdown",
   "metadata": {},
   "source": [
    "<a name=\"guided-practice_1\"></a>\n",
    "## Case 1: Project goals (10 min)\n",
    "\n",
    "For the first 5 minutes discuss the following questions within your group:\n",
    "\n",
    "- what was the goal of the show\n",
    "> to tak about issues relevant to people\n",
    "\n",
    "- how did they leverage big data to achieve it\n",
    "> to do real time sentiment analysis on twitter and other channels\n",
    "\n",
    "- what aspects of their solution would not have been possible with traditional Dbs\n",
    "> the volume of transactions searched is enormous, this wouldn't have been possible without a big data approach\n",
    "\n",
    "At the end of 5 minutes one person from each group will summarize their conclusions to the class.\n",
    "\n",
    "<a name=\"guided-practice_2\"></a>\n",
    "## Case 1: Implementation (10 min)\n",
    "\n",
    "Back in groups, let's look at how might they have implemented the solution. In particular, choose one or two of the questions below and spend the next 5 minutes trying to find an answer. At the end each group will share with the class.\n",
    "\n",
    "- which aspects of the project make it technologically challenging?\n",
    "\n",
    "> The volume of data, especially when it comes in bursts\n",
    "\n",
    "- which technology components can you identify? Think of the various aspects of how data is handled and served, what ingredients are needed?\n",
    "\n",
    "> Instructor notes to lead the discussion:\n",
    ">\n",
    "- a stream processor (kafka? kinesis? rabbitMQ?)\n",
    "- a sentiment analysis algo (where is it running?)\n",
    "- a SQL-like interface to query the data (Hive? Postgres?)\n",
    "- a dashboarding/visulizationtool (Hue? D3?)\n",
    "\n",
    "- if you were to build a prototype of this system that processes tweets and a much smaller rate, how would you build it? Think of the technologies you have learned:\n",
    "\n",
    "- how would you get the tweets?\n",
    "> twitter api, python requests\n",
    "\n",
    "- how would you store the tweets?\n",
    "> database, probably noSQL, but SQL would work too\n",
    "\n",
    "- how would you do sentiment analysis?\n",
    "> extract features from text with NLTK and scikit-learn\n",
    "\n",
    "- what would you use to visualize the data?\n",
    "> matplotlib, bokeh, pandas\n",
    "\n",
    "At the end of the 5 minutes each group will share their key insights"
   ]
  },
  {
   "cell_type": "markdown",
   "metadata": {},
   "source": [
    "<a name=\"guided-practice_3\"></a>\n",
    "## Case 2: Fraud detection (5 min)\n",
    "\n",
    "For this case we will join the teams to form 2 larger groups:\n",
    "- **Team Pink** (formed by the union of Red and White teams)\n",
    "- **Team Green** (formed by the union of Blue and Yellow teams)\n",
    "- **Team Pink** will represent the client: a global telecom company called **GAGlobal**.\n",
    "- **Team Green** will represent the consulting company: a big data consulting called **DSISolutions**.\n",
    "\n",
    "### Team Pink\n",
    "As mentioned you represent a telecom company. You have currently been experiencing fraud problems of many different kinds including:\n",
    "\n",
    "- Subscription fraud\n",
    "- Technical/network fraud\n",
    "- Insider fraud\n",
    "- Handset abuse\n",
    "- Social engineering\n",
    "\n",
    "### Team Green\n",
    "You represent the consultant. Your experience ranges from **machine learning** to **big data** and you're being engaged to solve the problems mentioned above.\n",
    "\n",
    "In particular you will have to propose a system to detect the potential sources of problems in near-real time.\n",
    "\n",
    "> Instructor note: each group should be sitting on one side of the class, near one another."
   ]
  },
  {
   "cell_type": "markdown",
   "metadata": {},
   "source": [
    "<a name=\"guided-practice_4\"></a>\n",
    "## Case 2: Investigation Phase (15 min)\n",
    "\n",
    "The starting point for both teams will be [this article](https://blog.cloudera.com/blog/2010/08/hadoop-for-fraud-detection-and-prevention/) that details a case study for fraud detection. However, each team should read the article with a different set of questions in mind. Read below for detailed explanation.\n",
    "\n",
    "### Team Pink (Client) goals\n",
    "Your goal for this phase is to learn as much as possible about the different types of fraud mentioned above. Feel free to use other resources, to discuss within the group, to split the research. Here are some of the points you should investigate:\n",
    "- which of the above mentioned types of fraud is a priority for you to tackle?\n",
    "> no correct answer, it's important to see how they reason about this. In particular:\n",
    ">\n",
    "> - do they consider multiple perspectives (money risk, image risk, infrastructure risk)\n",
    "> - do they try to assess the relative size of each type of problem? How?\n",
    "- which of the above mentioned types of fraud seems to be easier to tackle with a big-data approach?\n",
    "- which of the above mentioned types of fraud doesn't seem to be related to big-data?\n",
    "\n",
    "At the end of this phase you should **select the problem** that you would like to **tackle first**.\n",
    "\n",
    "### Team Green (Consultant) goals\n",
    "Your goal for this phase is to learn as much as possible about the challenges of fraud detection. In particular, you should learn: \n",
    "- what makes fraud detection so difficult from a statistical point of view.\n",
    "> rare events, active deception\n",
    "\n",
    "- what technologies could you suggest to the client in order to tackle the problem?\n",
    "> with a big data approach one can analyze all the data without sampling"
   ]
  },
  {
   "cell_type": "markdown",
   "metadata": {},
   "source": [
    "<a name=\"guided-practice_5\"></a>\n",
    "## Case 2: Discussion Phase (10 min)\n",
    "\n",
    "In this phase each group will present to the other group their findings.\n",
    "\n",
    "**Team Pink** will present first, and they will describe what main sources of fraud they have identified and the impact they estimate to have on the company. At the end they will indicate which problem they have decided to tackle first.\n",
    "\n",
    "**Team Green** will present second, and they will describe the advantages of using a Big Data approach to tackle a problem like fraud detection that involves rare events."
   ]
  },
  {
   "cell_type": "markdown",
   "metadata": {},
   "source": [
    "<a name=\"guided-practice_6\"></a>\n",
    "## Case 2: Solution Brainstorm (15 min)\n",
    "\n",
    "The client and the consultant agreed to form two joint task forces to tackle the problem.\n",
    "\n",
    "You will split back to the original 4 groups and combine them in the other way to form:\n",
    "\n",
    "- **Team Orange**: Team Red (Client) + Team Yellow (Consultant)\n",
    "- **Team Teal**:   Team White (Client) + Team Blue (Consultant)\n",
    "\n",
    "Each of these 2 task forces will spend the next 15 minutes to brainstorm a solution to the main problem of the client.\n",
    "\n",
    "In particular, the client component of the task force should focus on explaining the problem, while the consultant component should focus on identifying how the solution may solve the challenges of the client.\n",
    "\n",
    "> Instructor note: make sure that they clearly identify:\n",
    ">\n",
    "- what problem they are solving\n",
    "- how they are going to look for a solution\n",
    "- what technology they are going to use"
   ]
  },
  {
   "cell_type": "markdown",
   "metadata": {},
   "source": [
    "<a name=\"conclusion\"></a>\n",
    "## Case 2: Conclusion (5 min)\n",
    "\n",
    "Each task force will present the solution idea. Here are some questions to guid the discussion:\n",
    "\n",
    "- How well did the client describe the problem?\n",
    "- How well did the consultant describe the solution?\n",
    "- How applicable are the solutions to the problem?\n",
    "- How are the two proposed solutions similar?\n",
    "- In what do they differ?\n",
    "- Was the client satisfied with the proposed solution?\n"
   ]
  },
  {
   "cell_type": "markdown",
   "metadata": {},
   "source": [
    "### ADDITIONAL RESOURCES\n",
    "\n",
    "THe original articles on the 2 cases:\n",
    "- [TV show uses data to change the world](https://gigaom.com/2012/08/11/how-indias-favorite-tv-show-uses-data-to-change-the-world/)\n",
    "\n",
    "- [South Bend’s sewage problem](https://gigaom.com/2012/08/30/managing-sewage-like-traffic-thanks-to-data/)\n"
   ]
  }
 ],
 "metadata": {
  "kernelspec": {
   "display_name": "Python 2",
   "language": "python",
   "name": "python2"
  },
  "language_info": {
   "codemirror_mode": {
    "name": "ipython",
    "version": 2
   },
   "file_extension": ".py",
   "mimetype": "text/x-python",
   "name": "python",
   "nbconvert_exporter": "python",
   "pygments_lexer": "ipython2",
   "version": "2.7.11"
  }
 },
 "nbformat": 4,
 "nbformat_minor": 0
}
