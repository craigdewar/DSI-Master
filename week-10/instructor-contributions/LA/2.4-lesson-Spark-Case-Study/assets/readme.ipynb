{
 "cells": [
  {
   "cell_type": "markdown",
   "metadata": {},
   "source": [
    "---\n",
    "title: Spark case studies\n",
    "duration: \"1:25\"\n",
    "creator:\n",
    "    name: Francesco Mosconi\n",
    "    city: SF\n",
    "---"
   ]
  },
  {
   "cell_type": "markdown",
   "metadata": {},
   "source": [
    "# ![](https://ga-dash.s3.amazonaws.com/production/assets/logo-9f88ae6c9c3871690e33280fcf557f33.png) Spark case studies\n",
    "Week 10 | Lesson 3.4"
   ]
  },
  {
   "cell_type": "markdown",
   "metadata": {},
   "source": [
    "### LEARNING OBJECTIVES\n",
    "*After this lesson, you will be able to:*\n",
    "- describe a real world application of Spark streaming\n",
    "- describe a real world application of Spark MLLib"
   ]
  },
  {
   "cell_type": "markdown",
   "metadata": {},
   "source": [
    "### STUDENT PRE-WORK\n",
    "*Before this lesson, you should already be able to:*\n",
    "- Build simple pipelines in Spark\n",
    "- Build machine learning models in Spark\n",
    "- Explain what's a transformation in Spark\n",
    "- Explain the difference between Spark local and Spark cluster modes"
   ]
  },
  {
   "cell_type": "markdown",
   "metadata": {},
   "source": [
    "### INSTRUCTOR PREP\n",
    "*Before this lesson, instructors will need to:*\n",
    "- Read in / Review any dataset(s) & starter/solution code\n",
    "- Generate a brief slide deck\n",
    "- Prepare any specific materials\n",
    "- Provide students with additional resources"
   ]
  },
  {
   "cell_type": "markdown",
   "metadata": {},
   "source": [
    "### LESSON GUIDE\n",
    "| TIMING  | TYPE  | TOPIC  |\n",
    "|:-:|---|---|\n",
    "| 5 min | [Opening](#opening) | Opening |\n",
    "| 20 min | [Guided-practice](#guided-practice) | Phase 1: Research |\n",
    "| 20 min | [Guided-practice](#guided-practice_2) | Phase 2: Discussion |\n",
    "| 20 min | [Guided-practice](#guided-practice_3) | Phase 3: Prepare to present |\n",
    "| 20 min | [Guided-practice](#guided-practice_4) | Phase 4: Presentation |"
   ]
  },
  {
   "cell_type": "markdown",
   "metadata": {},
   "source": [
    "<a name=\"opening\"></a>\n",
    "## Opening (5 min)\n",
    "This is going to be a highly interactive class. We'll work in 3 groups and we will do research on case studies."
   ]
  },
  {
   "cell_type": "markdown",
   "metadata": {},
   "source": [
    "<a name=\"guided-practice\"></a>\n",
    "## Phase 1: Research (20 min)\n",
    "\n",
    "Here are 3 articles detailing case studies for Spark application:\n",
    "\n",
    "- [Article 1](https://www.qubole.com/blog/big-data/apache-spark-use-cases/)\n",
    "- [Article 2](http://www.datanami.com/2014/03/06/apache_spark_3_real-world_use_cases/)\n",
    "- [Article 3](https://www.lightbend.com/resources/case-studies-and-stories/unicredit-powers-fast-data-customer-insight-platform-with-apache-spark-scala-akka-and-play)\n",
    "\n",
    "There is one article for each group. In this first phase each of you will work independently.\n",
    "\n",
    "Use the first 10 minutes to read the article assigned to your group, and the next 10 minutes to compile a list of questions and points you have found interesting.\n",
    "\n",
    "In particular, try to understand the following:\n",
    "1. what is the problem the business is trying to solve?\n",
    "- what is the proposed solution?\n",
    "- what are the advantages obtained by using Spark?\n",
    "- what may be some of the drawbacks/limitations?\n",
    "\n",
    "Highlight any things you don't understand.\n",
    "\n",
    "\n",
    "> **Instructor note**: there are a few key points in this activity.\n",
    "\n",
    "> On the technical side, students should understand that\n",
    ">\n",
    "- Spark is a great replacement for Map Reduce\n",
    "- Spark allows both ETL and ML under the same umbrella\n",
    "\n",
    "> On the business side, it's important that they start to:\n",
    ">\n",
    "- Critically dissect a data solution to understand how it's built\n",
    "- Learn to reason about pros/cons of a data solution\n"
   ]
  },
  {
   "cell_type": "markdown",
   "metadata": {},
   "source": [
    "<a name=\"guided-practice_2\"></a>\n",
    "## Phase 2: Discussion (20 min)\n",
    "\n",
    "Now that you have formed a personal opinion and highlighted some of the issues, it's time to use the collective wisdom to fill the gaps.\n",
    "\n",
    "In your group, discuss the points you've highlighted in the first part. Proceed as follows:\n",
    "\n",
    "- In turns, each person will select the top issue they would like to discuss and propose it to the group.\n",
    "- Then the group has a maximum of 5 minutes to discuss the issue\n",
    "- Then the next person will propose the next issue"
   ]
  },
  {
   "cell_type": "markdown",
   "metadata": {},
   "source": [
    "<a name=\"guided-practice_3\"></a>\n",
    "## Phase 3: Prepare to present (20 min)\n",
    "\n",
    "Now that you have a thorough understanding of the case study, prepare a few slides to explain it to the rest of the class.\n",
    "\n",
    "Use the same questions of Phase 1 as guide:\n",
    "\n",
    "1. what is the problem the business is trying to solve?\n",
    "- what is the proposed solution?\n",
    "- what are the advantages obtained by using Spark?\n",
    "- what may be some of the drawbacks/limitations?\n",
    "\n",
    "Aim to present for no more than 5 minutes. Elect a spokesperson for the group.\n",
    "> Instructor note: allocate 20 minutes total for this, in case there are questions."
   ]
  },
  {
   "cell_type": "markdown",
   "metadata": {},
   "source": [
    "<a name=\"guided-practice_4\"></a>\n",
    "## Phase 4: Presentation (20 min)\n",
    "\n",
    "It's time to present your findings to the rest of the class. Each groups gets a 5 minutes slot to explain their case to the class."
   ]
  },
  {
   "cell_type": "markdown",
   "metadata": {},
   "source": [
    "### ADDITIONAL RESOURCES\n",
    "\n",
    "- [Spark course](http://bigdatauniversity.com/courses/spark-fundamentals/)\n",
    "- [More case studies](https://databricks.com/resources/case-studies)\n"
   ]
  },
  {
   "cell_type": "code",
   "execution_count": null,
   "metadata": {
    "collapsed": true
   },
   "outputs": [],
   "source": []
  }
 ],
 "metadata": {
  "kernelspec": {
   "display_name": "Python 2",
   "language": "python",
   "name": "python2"
  },
  "language_info": {
   "codemirror_mode": {
    "name": "ipython",
    "version": 2
   },
   "file_extension": ".py",
   "mimetype": "text/x-python",
   "name": "python",
   "nbconvert_exporter": "python",
   "pygments_lexer": "ipython2",
   "version": "2.7.11"
  }
 },
 "nbformat": 4,
 "nbformat_minor": 0
}
