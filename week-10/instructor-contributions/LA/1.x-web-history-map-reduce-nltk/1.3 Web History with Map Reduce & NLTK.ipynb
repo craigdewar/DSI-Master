{
 "cells": [
  {
   "cell_type": "raw",
   "metadata": {},
   "source": [
    "---\n",
    "title: Personal Web History with Map Reduce and NLTK\n",
    "duration: \"1:25\"\n",
    "creator:\n",
    "    name: Pauline Chow & John Marin\n",
    "    city: LA\n",
    "---"
   ]
  },
  {
   "cell_type": "markdown",
   "metadata": {},
   "source": [
    "# ![](https://ga-dash.s3.amazonaws.com/production/assets/logo-9f88ae6c9c3871690e33280fcf557f33.png) \n",
    "# Personal Web History with Map Reduce and NLTK\n",
    "Week 10 | Lab 1.3 "
   ]
  },
  {
   "cell_type": "markdown",
   "metadata": {},
   "source": [
    "## 1) Download web browsing history with Google Chrome Extension\n",
    "\n",
    "### a) Sign into your Google account. \n",
    "If you do not have a Google account, you can also download browsing history from Yahoo! or Bing. We are only covering how to download history from Google Chrome. \n",
    "\n",
    "### b) Install extension to download browsing history in your Google extension. \n",
    "\n",
    "Previously, you were able to download your history readily from Google but that feature is now deprecated. There are many extensions out there to download your browsing history, in this lab we used \"Export History/Bookmarks to JSON/XLS\", see screenshot below. Also, make sure this extension is activated for your account. \n",
    "\n",
    "![](./images/download_google_chrome_ext_export_history.png)\n",
    "\n",
    "### c) Go to \"History\" in Google Chrome settings, in the upper right hand corner of your brower window. You must be signed into your account. \n",
    "\n",
    "After the an extension is installed and activated. Click the icon for the extension in the upper right hand corner of your browser then download & save your web history in json format. \n",
    "\n",
    "![](./images/google_web_browsing_history.png)\n",
    "\n",
    "### d) Now you are ready to apply your programming, analysis, and map reduce skills to analyze personal web browsing history. \n",
    "\n",
    "## ** Reminder: If you're uploading your web history json file to github synced directory. ADD it to your gitignore.**"
   ]
  },
  {
   "cell_type": "code",
   "execution_count": 75,
   "metadata": {
    "collapsed": false
   },
   "outputs": [
    {
     "name": "stdout",
     "output_type": "stream",
     "text": [
      "<type 'list'>\n",
      "[u'typedCount', u'title', u'url', u'lastVisitTime', u'visitCount', u'id']\n",
      "{u'typedCount': 0, u'title': u'', u'url': u'https://chrome.google.com/webstore/detail/export-historybookmarks-t/dcoegfodcnjofhjfbhegcgjgapeichlf/related?hl=en', u'lastVisitTime': u'2016-08-07T00:06:38.007Z', u'visitCount': 1, u'id': u'107320'}\n"
     ]
    }
   ],
   "source": [
    "import json\n",
    "\n",
    "with open('chrome_history.json', 'rw+') as data_file:\n",
    "    data = json.load(data_file)\n",
    "\n",
    "#check out the structure of the file\n",
    "print type(data)\n",
    "print data[0].keys()\n",
    "print data[0]"
   ]
  },
  {
   "cell_type": "code",
   "execution_count": 76,
   "metadata": {
    "collapsed": false
   },
   "outputs": [],
   "source": [
    "#create file compatible with map reduce\n",
    "with open('web_history.tsv', 'w_') as data_out:\n",
    "    for d in data: \n",
    "        #data_out.write(str(d['url'] + '\\t' + str(d['visitCount']) + '\\n'))\n",
    "        data_out.write(str(d['url'] + '\\n'))"
   ]
  },
  {
   "cell_type": "markdown",
   "metadata": {},
   "source": [
    "There is a lot of information in this file that we want to parse. Let's get an assist from a mapper and reducer. \n",
    "\n",
    "*Open terminal and go to today's lab folder*\n",
    "\n",
    "**Question 1:** How to run a mapper and reducer on one node? Note: use absolute or relative paths for your files references. \n",
    "\n",
    "Answer:\n",
    "```\n",
    "cat <inputfile> | python mapper.py | sort -k1,1 | python reducer.py \n",
    "```\n",
    "\n",
    "**Question 2:** Whare the top 15 sites you have visited in your web history? Note: use absolute or relative paths for your files references. \n",
    "```\n",
    "cat <inputfile> | python mapper.py | sort -k1 | python reducer.py | sort -nk 2 -r | head -n 15\n",
    "```"
   ]
  },
  {
   "cell_type": "code",
   "execution_count": 58,
   "metadata": {
    "collapsed": false
   },
   "outputs": [],
   "source": [
    "#TODO JOHN - use reduced file for analysis and NLTK"
   ]
  }
 ],
 "metadata": {
  "kernelspec": {
   "display_name": "Python 2",
   "language": "python",
   "name": "python2"
  },
  "language_info": {
   "codemirror_mode": {
    "name": "ipython",
    "version": 2
   },
   "file_extension": ".py",
   "mimetype": "text/x-python",
   "name": "python",
   "nbconvert_exporter": "python",
   "pygments_lexer": "ipython2",
   "version": "2.7.12"
  }
 },
 "nbformat": 4,
 "nbformat_minor": 0
}
