{
 "cells": [
  {
   "cell_type": "markdown",
   "metadata": {},
   "source": [
    "## Web Traffic Analytics Lab "
   ]
  },
  {
   "cell_type": "markdown",
   "metadata": {},
   "source": [
    "### Retrieve Your Downloaded Chrome Browsing History Data"
   ]
  },
  {
   "cell_type": "code",
   "execution_count": null,
   "metadata": {
    "collapsed": false
   },
   "outputs": [],
   "source": [
    "# This step assumes you have already downloaded the browsing history via Chrome plug-in\n",
    "\n",
    "import json\n",
    "import urlparse\n",
    "import os\n",
    "\n",
    "data_path = os.path.expanduser('~') + \"/Downloads/chrome_history.json\"\n",
    "\n",
    "with open(data_path, 'rw+') as data_file:\n",
    "    data = json.load(data_file)"
   ]
  },
  {
   "cell_type": "markdown",
   "metadata": {},
   "source": [
    "### Check out the Structure of the Data"
   ]
  },
  {
   "cell_type": "code",
   "execution_count": null,
   "metadata": {
    "collapsed": false
   },
   "outputs": [],
   "source": [
    "#check out the structure of the file\n",
    "print type(data)\n",
    "print ' '\n",
    "print data[0].keys()\n",
    "print ' '\n",
    "print data[0]['url']\n",
    "\n",
    "parsed = urlparse.urlparse(data[0]['url'])\n",
    "print parsed[1].encode(\"ascii\")"
   ]
  },
  {
   "cell_type": "markdown",
   "metadata": {},
   "source": [
    "### Create a Web Browsing History Based on the Visited Site's Domain"
   ]
  },
  {
   "cell_type": "code",
   "execution_count": null,
   "metadata": {
    "collapsed": true
   },
   "outputs": [],
   "source": [
    "n = len(data)\n",
    "link_list = [urlparse.urlparse(data[k]['url'])[1].encode('ascii') for k in range(n)]"
   ]
  },
  {
   "cell_type": "code",
   "execution_count": null,
   "metadata": {
    "collapsed": false
   },
   "outputs": [],
   "source": [
    "link_list[:10]"
   ]
  },
  {
   "cell_type": "markdown",
   "metadata": {},
   "source": [
    "### Create a Visit Frequency Dictionary for Each of Your Domains"
   ]
  },
  {
   "cell_type": "code",
   "execution_count": null,
   "metadata": {
    "collapsed": false
   },
   "outputs": [],
   "source": [
    "count = dict()\n",
    "for k in link_list:\n",
    "    if k:\n",
    "        count[k] = count.get(k,0) + 1  \n",
    "        \n",
    "# sorted(count, key=lambda x: x[1])\n",
    "# count"
   ]
  },
  {
   "cell_type": "code",
   "execution_count": null,
   "metadata": {
    "collapsed": false
   },
   "outputs": [],
   "source": [
    "import operator\n",
    "li_sort = sorted(count.items(), key=operator.itemgetter(1), reverse = True)[:50]\n",
    "li_sort[:50]"
   ]
  },
  {
   "cell_type": "code",
   "execution_count": null,
   "metadata": {
    "collapsed": false
   },
   "outputs": [],
   "source": [
    "# from operator import itemgetter, attrgetter, methodcaller\n",
    "\n",
    "# print sorted(count, key=itemgetter(1)) == sorted(count, key=lambda x: x[1])"
   ]
  },
  {
   "cell_type": "code",
   "execution_count": null,
   "metadata": {
    "collapsed": false
   },
   "outputs": [],
   "source": [
    "import pandas as pd\n",
    "%matplotlib inline\n",
    "\n",
    "urls = pd.DataFrame(li_sort, columns=['url', 'count'])\n",
    "\n",
    "urls.index = urls['url']\n",
    "\n",
    "urls.sort('count').plot(kind=\"barh\")"
   ]
  },
  {
   "cell_type": "markdown",
   "metadata": {},
   "source": [
    "### What Additional Information Can I Obtain from My Browsing History?"
   ]
  },
  {
   "cell_type": "code",
   "execution_count": null,
   "metadata": {
    "collapsed": false
   },
   "outputs": [],
   "source": [
    "import re\n",
    "re.sub(r'[^\\w]', ' ', urlparse.urlparse(data[560]['url'])[2].encode('ascii'))"
   ]
  },
  {
   "cell_type": "code",
   "execution_count": null,
   "metadata": {
    "collapsed": false
   },
   "outputs": [],
   "source": [
    "import re\n",
    "def paras_extract(data):\n",
    "    w = list()\n",
    "    for i in range(len(data)): \n",
    "        ll = urlparse.urlparse(data[i]['url'])[2].encode('ascii')\n",
    "        w.append(re.sub(r'[^\\w]', ' ', ll))\n",
    "    return w"
   ]
  },
  {
   "cell_type": "code",
   "execution_count": null,
   "metadata": {
    "collapsed": false
   },
   "outputs": [],
   "source": [
    "ptext = ''.join(paras_extract(data))\n",
    "# ptext.split()\n",
    "\n",
    "# Google Search Terms\n",
    "# s1 = set(re.findall(r'20\\w+', ptext)) "
   ]
  },
  {
   "cell_type": "code",
   "execution_count": null,
   "metadata": {
    "collapsed": false
   },
   "outputs": [],
   "source": [
    "ptext[:250]"
   ]
  },
  {
   "cell_type": "markdown",
   "metadata": {},
   "source": [
    "### Installation of Additional Packages May be Necessary"
   ]
  },
  {
   "cell_type": "code",
   "execution_count": null,
   "metadata": {
    "collapsed": true
   },
   "outputs": [],
   "source": [
    "# pip install git+git://github.com/amueller/word_cloud.git   \n",
    "# conda install pil "
   ]
  },
  {
   "cell_type": "code",
   "execution_count": null,
   "metadata": {
    "collapsed": true
   },
   "outputs": [],
   "source": [
    "import matplotlib.pyplot as plt\n",
    "from wordcloud import WordCloud, STOPWORDS\n",
    "\n",
    "# remove URLs, RTs, and twitter handles\n",
    "no_urls_no_tags = \" \".join([word for word in ptext.split()\n",
    "                            if 'http' not in word\n",
    "                                and not word.startswith('@')\n",
    "                                and word != 'RT'\n",
    "                            ])"
   ]
  },
  {
   "cell_type": "code",
   "execution_count": null,
   "metadata": {
    "collapsed": false
   },
   "outputs": [],
   "source": [
    "wordcloud = WordCloud(\n",
    "                      stopwords=STOPWORDS,\n",
    "                      background_color='black',\n",
    "                      width=2400,\n",
    "                      height=1800\n",
    "                     ).generate(no_urls_no_tags)"
   ]
  },
  {
   "cell_type": "code",
   "execution_count": null,
   "metadata": {
    "collapsed": false
   },
   "outputs": [],
   "source": [
    "plt.imshow(wordcloud)\n",
    "plt.axis('off')\n",
    "plt.savefig('./my_wordcloud_1.png', dpi=300)\n",
    "plt.show()"
   ]
  },
  {
   "cell_type": "markdown",
   "metadata": {},
   "source": [
    "### Preparation for Map Reduce"
   ]
  },
  {
   "cell_type": "code",
   "execution_count": null,
   "metadata": {
    "collapsed": false
   },
   "outputs": [],
   "source": [
    "#create file compatible with map reduce\n",
    "\n",
    "with open('web_history.tsv', 'w_') as data_out:\n",
    "    for d in data: \n",
    "        #data_out.write(str(d['url'] + '\\t' + str(d['visitCount']) + '\\n'))\n",
    "        data_out.write(str(d['url'] + '\\n'))"
   ]
  },
  {
   "cell_type": "markdown",
   "metadata": {},
   "source": [
    "### Map Reduce Execution"
   ]
  },
  {
   "cell_type": "code",
   "execution_count": null,
   "metadata": {
    "collapsed": false
   },
   "outputs": [],
   "source": [
    "!cat web_history.tsv | python ./code/mapper.py | sort -k1 | python ./code/reducer.py | sort -nk 2 -r | head -n 15"
   ]
  }
 ],
 "metadata": {
  "kernelspec": {
   "display_name": "Python 2",
   "language": "python",
   "name": "python2"
  },
  "language_info": {
   "codemirror_mode": {
    "name": "ipython",
    "version": 2
   },
   "file_extension": ".py",
   "mimetype": "text/x-python",
   "name": "python",
   "nbconvert_exporter": "python",
   "pygments_lexer": "ipython2",
   "version": "2.7.11"
  },
  "widgets": {
   "state": {},
   "version": "1.1.2"
  }
 },
 "nbformat": 4,
 "nbformat_minor": 0
}
