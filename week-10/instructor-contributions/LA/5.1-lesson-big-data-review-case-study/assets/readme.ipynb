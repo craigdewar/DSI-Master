{
 "cells": [
  {
   "cell_type": "markdown",
   "metadata": {},
   "source": [
    "---\n",
    "title: Big Data Review: case study\n",
    "duration: \"1:25\"\n",
    "creator:\n",
    "    name: Francesco Mosconi\n",
    "    city: SF\n",
    "---"
   ]
  },
  {
   "cell_type": "markdown",
   "metadata": {},
   "source": [
    "# ![](https://ga-dash.s3.amazonaws.com/production/assets/logo-9f88ae6c9c3871690e33280fcf557f33.png) Big Data Review: case study\n",
    "Week 10 | Lesson 5.1"
   ]
  },
  {
   "cell_type": "markdown",
   "metadata": {},
   "source": [
    "### LEARNING OBJECTIVES\n",
    "*After this lesson, you will be able to:*\n",
    "- explain how different big data tools are used to aggregate large quantities of weather data\n",
    "- explain the advantages of big data tools to a non-technical audience"
   ]
  },
  {
   "cell_type": "markdown",
   "metadata": {},
   "source": [
    "### STUDENT PRE-WORK\n",
    "*Before this lesson, you should already be able to:*\n",
    "- perform queries in Hadoop / Hive\n",
    "- perform queries in SQL\n",
    "- build pipelines in Spark"
   ]
  },
  {
   "cell_type": "markdown",
   "metadata": {},
   "source": [
    "### INSTRUCTOR PREP\n",
    "*Before this lesson, instructors will need to:*\n",
    "- Read in / Review any dataset(s) & starter/solution code\n",
    "- Generate a brief slide deck\n",
    "- Prepare any specific materials\n",
    "- Provide students with additional resources"
   ]
  },
  {
   "cell_type": "markdown",
   "metadata": {},
   "source": [
    "### LESSON GUIDE\n",
    "| TIMING  | TYPE  | TOPIC  |\n",
    "|:-:|---|---|\n",
    "| 5 min | [Opening](#opening) | Opening |\n",
    "| 20 min | [Guided-practice](#guided-practice_1) | Phase 1: Research |\n",
    "| 20 min | [Guided](#guided_practice_2) | Phase 2: Discussion |\n",
    "| 20 min | [Demo](#demo) | Phase 3:  Mashup |\n",
    "| 20 min | [Demo](#demo) | Phase 4:  Presentation |"
   ]
  },
  {
   "cell_type": "markdown",
   "metadata": {},
   "source": [
    "<a name=\"opening\"></a>\n",
    "## Opening (5 min)\n",
    "\n",
    "In this class we will analyze a case study of analysis of Real-Time and Archived NEXRAD Weather Data on AWS.\n",
    "\n",
    "Our starting point is this article:\n",
    "\n",
    "https://aws.amazon.com/blogs/publicsector/nexrad/\n",
    "\n",
    "We will work in 3 groups once more, and each will focus on a particular technical aspect of the project.\n",
    "\n",
    "- Group 1 will focus on database backend\n",
    "- Group 2 will focus on real-time\n",
    "- Group 3 will focus on visualization"
   ]
  },
  {
   "cell_type": "markdown",
   "metadata": {},
   "source": [
    "<a name=\"guided-practice_1\"></a>\n",
    "## Phase 1: Research (20 min)\n",
    "\n",
    "In this phase each group should read the article and then look for more information in particular concerning its specific focus.\n",
    "\n",
    "- Group 1 should look into the data storage tools proposed in the article and understand deeply the data format, size and types.\n",
    "\n",
    "- Group 2 should look into the tools for real-time analysis that are mentioned in the article and clearly understand what each one does. Also you should investigate what requirements there are.\n",
    "\n",
    "- Group 3 should look into the requirements for visualization. What is necessary? how big is the data to be visualized? What's the frequency? If we are assuming a nontechnical audience, how should you present the key findings?\n",
    "\n",
    "Each group can choose how to perform this phase, either each on their own or in smaller subgroups."
   ]
  },
  {
   "cell_type": "markdown",
   "metadata": {},
   "source": [
    "<a name=\"guided_practice_2\"></a>\n",
    "## Phase 2: Discussion (20 min)\n",
    "\n",
    "Within your group you should discuss the results of the research phase and draft a document that details:\n",
    "- issues involved\n",
    "- solution proposed\n",
    "- intended audience\n",
    "- risks\n",
    "- limitations\n",
    "- benefits (in relation to audience)"
   ]
  },
  {
   "cell_type": "markdown",
   "metadata": {},
   "source": [
    "<a name=\"demo\"></a>\n",
    "## Phase 3:  Mashup (20 min)\n",
    "\n",
    "Now each group splits in two subgroups: A and B.\n",
    "\n",
    "- All the subgroups A unite to form a new group\n",
    "- All the subgroups B unite to form a new group\n",
    "\n",
    "The two newly formed groups will contain experts from each of the 3 original groups. In this phase you have to share your findings and discuss how to implement the system.\n",
    "\n",
    "In particular you should come up with a roadmap to implement the system including:\n",
    "- data you will access\n",
    "- databaset contraints, pros/cons\n",
    "- key visualizations\n",
    "\n",
    "Is the system proposed in the article the best possible solution? can you suggest improvements?\n",
    "\n",
    "Note that the system proposed in the article is [implemented here](https://github.com/stephenlienharrell/WeatherPipe) using [Java](https://en.wikipedia.org/wiki/Java_(programming_language)). Can you propose an alternative technology to achieve the same result?\n"
   ]
  },
  {
   "cell_type": "markdown",
   "metadata": {},
   "source": [
    "<a name=\"demo\"></a>\n",
    "## Phase 4:  Presentation (20 min)\n",
    "\n",
    "Each of the 2 groups A and B gets 5 minutes to present their solution and their findings to the class.\n",
    "\n",
    "The group playing the audience role should look for similarities and differences with their own implementation and ask clarifying questions when a difference is found."
   ]
  },
  {
   "cell_type": "markdown",
   "metadata": {},
   "source": [
    "### ADDITIONAL RESOURCES\n",
    "\n",
    "- [NEXRAD](https://en.wikipedia.org/wiki/NEXRAD)\n",
    "- [Weatherpipe](https://github.com/stephenlienharrell/WeatherPipe)\n"
   ]
  }
 ],
 "metadata": {
  "kernelspec": {
   "display_name": "Python 2",
   "language": "python",
   "name": "python2"
  },
  "language_info": {
   "codemirror_mode": {
    "name": "ipython",
    "version": 2
   },
   "file_extension": ".py",
   "mimetype": "text/x-python",
   "name": "python",
   "nbconvert_exporter": "python",
   "pygments_lexer": "ipython2",
   "version": "2.7.11"
  }
 },
 "nbformat": 4,
 "nbformat_minor": 0
}
