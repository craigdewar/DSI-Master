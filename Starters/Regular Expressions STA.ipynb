{
 "cells": [
  {
   "cell_type": "code",
   "execution_count": 1,
   "metadata": {
    "collapsed": true
   },
   "outputs": [],
   "source": [
    "import pandas as pd"
   ]
  },
  {
   "cell_type": "markdown",
   "metadata": {},
   "source": [
    "## Regular Expressions\n",
    "Regular expressions are useful when you want to search for, pull out, remove, and/or edit parts of text whose characters share some *pattern*. For instance, what do all of these strings have in common?\n",
    "- abc123xyz\n",
    "- define \"123\"\n",
    "- var g = 123;"
   ]
  },
  {
   "cell_type": "markdown",
   "metadata": {},
   "source": []
  },
  {
   "cell_type": "markdown",
   "metadata": {},
   "source": [
    "Let's look at what we can do with Regular Expressions (using the python package **re**):"
   ]
  },
  {
   "cell_type": "code",
   "execution_count": 62,
   "metadata": {
    "collapsed": false
   },
   "outputs": [
    {
     "data": {
      "text/html": [
       "<div>\n",
       "<table border=\"1\" class=\"dataframe\">\n",
       "  <thead>\n",
       "    <tr style=\"text-align: right;\">\n",
       "      <th></th>\n",
       "      <th>text</th>\n",
       "    </tr>\n",
       "  </thead>\n",
       "  <tbody>\n",
       "    <tr>\n",
       "      <th>0</th>\n",
       "      <td>abc123xyz</td>\n",
       "    </tr>\n",
       "    <tr>\n",
       "      <th>1</th>\n",
       "      <td>define \"123\"</td>\n",
       "    </tr>\n",
       "    <tr>\n",
       "      <th>2</th>\n",
       "      <td>var g = 123</td>\n",
       "    </tr>\n",
       "  </tbody>\n",
       "</table>\n",
       "</div>"
      ],
      "text/plain": [
       "           text\n",
       "0     abc123xyz\n",
       "1  define \"123\"\n",
       "2   var g = 123"
      ]
     },
     "execution_count": 62,
     "metadata": {},
     "output_type": "execute_result"
    }
   ],
   "source": [
    "# Creating a data frame so we can put this in a context we're familiar with\n",
    "df = pd.DataFrame([['abc123xyz'], ['define \"123\"'], ['var g = 123']], columns=['text'])\n",
    "df"
   ]
  },
  {
   "cell_type": "code",
   "execution_count": null,
   "metadata": {
    "collapsed": true
   },
   "outputs": [],
   "source": [
    "import re"
   ]
  },
  {
   "cell_type": "code",
   "execution_count": 21,
   "metadata": {
    "collapsed": false
   },
   "outputs": [
    {
     "data": {
      "text/plain": [
       "0    [123]\n",
       "1    [123]\n",
       "2    [123]\n",
       "Name: text, dtype: object"
      ]
     },
     "execution_count": 21,
     "metadata": {},
     "output_type": "execute_result"
    }
   ],
   "source": [
    "# to pull out the common characteristic, we can use \"findall\":\n",
    "function = lambda x: re.findall('123', x)\n",
    "\n",
    "df.text.apply(function)"
   ]
  },
  {
   "cell_type": "markdown",
   "metadata": {},
   "source": [
    "Notice the output is in the form of a list because it's looking for *all* (non-overlapping) matches - if you wanted *just the string*, you'd need to slice (in this case it's all just 1 item long, so we'll take a slice of index 0):"
   ]
  },
  {
   "cell_type": "code",
   "execution_count": 22,
   "metadata": {
    "collapsed": false
   },
   "outputs": [
    {
     "data": {
      "text/plain": [
       "0    123\n",
       "1    123\n",
       "2    123\n",
       "Name: text, dtype: object"
      ]
     },
     "execution_count": 22,
     "metadata": {},
     "output_type": "execute_result"
    }
   ],
   "source": [
    "function = lambda x: re.findall('123', x)[0]\n",
    "\n",
    "df.text.apply(function)"
   ]
  },
  {
   "cell_type": "markdown",
   "metadata": {},
   "source": [
    "But what if we don't want just the \"123\", we want the whole string? This is why Regular Expressions are so powerful, there are special characters that allow flexibility (**vocabulary** regular characters are called \"literals\" and special characters are called \"metacharacters\" in the Regex world). We'll start with two of the most important ones:\n",
    "- a period (\" . \") represents *any character*\n",
    "- an asterisk (\" \\* \") represents *zero or more* repetitions of the same literal or metacharacter\n",
    "- a plus (\" + \") represents *one or more* repititions of the same literal or metacharacter\n",
    "\n",
    "In combination, \" . \\* \" means a repitition of zero or more or characters - *any* characters. So in the example above, we can put that before and after the \"123\" to tell \"re.findall\" that you want it to find and return the *entire* string (including everthing before and after the \"123\"). Like this: "
   ]
  },
  {
   "cell_type": "code",
   "execution_count": 38,
   "metadata": {
    "collapsed": false
   },
   "outputs": [
    {
     "data": {
      "text/plain": [
       "0       [abc123xyz]\n",
       "1    [define \"123\"]\n",
       "2     [var g = 123]\n",
       "Name: text, dtype: object"
      ]
     },
     "execution_count": 38,
     "metadata": {},
     "output_type": "execute_result"
    }
   ],
   "source": [
    "# Find the entire string that contains \"123\" somewhere in it.\n",
    "function = lambda x: re.findall('.*123.*', x)\n",
    "\n",
    "df.text.apply(function)"
   ]
  },
  {
   "cell_type": "markdown",
   "metadata": {},
   "source": [
    "Notice we used the \" \\* \" Instead of the \"+\". See for yourself what would have happened if you'd used the plus. Why did that happen?"
   ]
  },
  {
   "cell_type": "code",
   "execution_count": 32,
   "metadata": {
    "collapsed": false
   },
   "outputs": [],
   "source": [
    "# Try with a '+' instead of a '*'\n"
   ]
  },
  {
   "cell_type": "markdown",
   "metadata": {},
   "source": [
    "But wait, what if I want to search for a \" . \" or a \" \\* \" or a \" + \", and not have RE think that it's a special character? Use a *backslash*:"
   ]
  },
  {
   "cell_type": "code",
   "execution_count": 36,
   "metadata": {
    "collapsed": false
   },
   "outputs": [
    {
     "data": {
      "text/plain": [
       "['.', '.']"
      ]
     },
     "execution_count": 36,
     "metadata": {},
     "output_type": "execute_result"
    }
   ],
   "source": [
    "re.findall('\\.', '.why are there dots?.')"
   ]
  },
  {
   "cell_type": "markdown",
   "metadata": {},
   "source": [
    "Another important set of characters are:\n",
    "- square brackets (\" [ ] \"), which are used to indicate a *set* of characters (\"[abc]\" will search for all as, bs, an cs. Some common things to put in here are\n",
    "    - \"[a-z]\" which returns any lowercase letter\n",
    "    - \"[A-Z]\" which returns any capital letter\n",
    "    - \"[0-9]\" which will return any digit\n",
    "- carets (\" ^ \"), which have two different meanings:\n",
    "    - When outside of square brackets, it means \"At the beginning\" (\"^abc\" searches for \"abc\" at the beginning of a string)\n",
    "    - When inside square brackets it means *NOT* whatever sels is inside the brackets(\"[^abc]\" searches for anything that is not an \"a\", \"b\", or \"c\")\n",
    "- Dollar Signs (\" \\$ \"), which mean \"At the end\" (\"abc$\" searches for \"abc\" at the end of a string)"
   ]
  },
  {
   "cell_type": "code",
   "execution_count": 44,
   "metadata": {
    "collapsed": false
   },
   "outputs": [
    {
     "data": {
      "text/plain": [
       "0    [c123]\n",
       "1        []\n",
       "2        []\n",
       "Name: text, dtype: object"
      ]
     },
     "execution_count": 44,
     "metadata": {},
     "output_type": "execute_result"
    }
   ],
   "source": [
    "# find the strings \"123\" that are preceded by a letter. Return that letter and \"123\"\n",
    "function = lambda x: re.findall('[A-Za-z]123', x)\n",
    "\n",
    "df.text.apply(function)"
   ]
  },
  {
   "cell_type": "code",
   "execution_count": 45,
   "metadata": {
    "collapsed": false
   },
   "outputs": [
    {
     "data": {
      "text/plain": [
       "0        []\n",
       "1    [\"123]\n",
       "2    [ 123]\n",
       "Name: text, dtype: object"
      ]
     },
     "execution_count": 45,
     "metadata": {},
     "output_type": "execute_result"
    }
   ],
   "source": [
    "# find the strings \"123\" that are preceded by something that is NOT a letter, and return that:\n",
    "function = lambda x: re.findall('[^A-Za-z]123', x)\n",
    "\n",
    "df.text.apply(function)"
   ]
  },
  {
   "cell_type": "code",
   "execution_count": 58,
   "metadata": {
    "collapsed": false
   },
   "outputs": [
    {
     "data": {
      "text/plain": [
       "0          []\n",
       "1     [ \"123]\n",
       "2    [ = 123]\n",
       "Name: text, dtype: object"
      ]
     },
     "execution_count": 58,
     "metadata": {},
     "output_type": "execute_result"
    }
   ],
   "source": [
    "# find the strings \"123\" and ALL of the non-letters leading up to it:\n",
    "function = lambda x: re.findall('[^A-Za-z]+123', x)\n",
    "\n",
    "df.text.apply(function)"
   ]
  },
  {
   "cell_type": "code",
   "execution_count": 60,
   "metadata": {
    "collapsed": false
   },
   "outputs": [
    {
     "data": {
      "text/plain": [
       "0         [abc123]\n",
       "1    [define \"123]\n",
       "2               []\n",
       "Name: text, dtype: object"
      ]
     },
     "execution_count": 60,
     "metadata": {},
     "output_type": "execute_result"
    }
   ],
   "source": [
    "# find the strings that start with \"a\" or \"d\"  and return everything through the \"123\":\n",
    "function = lambda x: re.findall('^[ad].*123', x)\n",
    "\n",
    "df.text.apply(function)"
   ]
  },
  {
   "cell_type": "code",
   "execution_count": 61,
   "metadata": {
    "collapsed": false
   },
   "outputs": [
    {
     "data": {
      "text/plain": [
       "0       []\n",
       "1       []\n",
       "2    [123]\n",
       "Name: text, dtype: object"
      ]
     },
     "execution_count": 61,
     "metadata": {},
     "output_type": "execute_result"
    }
   ],
   "source": [
    "# find the strings \"123\" that are at the end of a string\n",
    "function = lambda x: re.findall('123$', x)\n",
    "\n",
    "df.text.apply(function)"
   ]
  },
  {
   "cell_type": "markdown",
   "metadata": {},
   "source": [
    "Another important metacharacter is the parentheses \" ( ) \", which you can use to specify that you want a segment of text that has some specific pattern *before or after* that text. What you want to return goes inside the parens:"
   ]
  },
  {
   "cell_type": "code",
   "execution_count": 102,
   "metadata": {
    "collapsed": false
   },
   "outputs": [
    {
     "data": {
      "text/plain": [
       "0         [abc]\n",
       "1    [define \"]\n",
       "2            []\n",
       "Name: text, dtype: object"
      ]
     },
     "execution_count": 102,
     "metadata": {},
     "output_type": "execute_result"
    }
   ],
   "source": [
    "# find the strings that start with \"a\" or \"d\" and return ONLY the stuff before the \"123\":\n",
    "function = lambda x: re.findall('(^[ad].*)123', x)\n",
    "\n",
    "df.text.apply(function)"
   ]
  },
  {
   "cell_type": "markdown",
   "metadata": {},
   "source": [
    "We're almost done!\n",
    "- Questionmark (\" ? \") indicates that the preceding literal or metacharacter is optional (note, ? means something different if in front of a set of characters, but we won't cover that today)\n",
    "- Special backslash characters:\n",
    "    - \" \\ d \" means *any digit*\n",
    "    - \" \\ D \" means *any NON-digit*\n",
    "    - \" \\ w \" means *any alphanumeric character*\n",
    "    - \" \\ W \" means *any NON-alphanumeric character*\n",
    "    - \" \\ s \" means *any whitespace character* (e.g. space, tab, newline, return, etc.)\n",
    "        - \" \\ t \" is for horizontal (normal) tab\n",
    "        - \" \\ n \" is for newline\n",
    "        - \" \\ r \" is for return\n",
    "        - \" \\ f \" is for \"form feed\" (like a page break)\n",
    "        - \" \\ v \" is for vertical tab"
   ]
  },
  {
   "cell_type": "code",
   "execution_count": 63,
   "metadata": {
    "collapsed": false
   },
   "outputs": [
    {
     "data": {
      "text/plain": [
       "0                []\n",
       "1    [define \"123\"]\n",
       "2     [var g = 123]\n",
       "Name: text, dtype: object"
      ]
     },
     "execution_count": 63,
     "metadata": {},
     "output_type": "execute_result"
    }
   ],
   "source": [
    "# find the strings that contain white space:\n",
    "function = lambda x: re.findall('.*\\s.*', x)\n",
    "\n",
    "df.text.apply(function)"
   ]
  },
  {
   "cell_type": "code",
   "execution_count": 66,
   "metadata": {
    "collapsed": false
   },
   "outputs": [
    {
     "data": {
      "text/plain": [
       "0              []\n",
       "1       [ , \", \"]\n",
       "2    [ ,  , =,  ]\n",
       "Name: text, dtype: object"
      ]
     },
     "execution_count": 66,
     "metadata": {},
     "output_type": "execute_result"
    }
   ],
   "source": [
    "# Return the Non-alphanumeric characters:\n",
    "function = lambda x: re.findall('\\W', x)\n",
    "\n",
    "df.text.apply(function)"
   ]
  },
  {
   "cell_type": "code",
   "execution_count": 67,
   "metadata": {
    "collapsed": false
   },
   "outputs": [
    {
     "data": {
      "text/plain": [
       "0        []\n",
       "1    [123\"]\n",
       "2     [123]\n",
       "Name: text, dtype: object"
      ]
     },
     "execution_count": 67,
     "metadata": {},
     "output_type": "execute_result"
    }
   ],
   "source": [
    "# Return the strings that end in 123 or ending in 123 followed by a special character:\n",
    "function = lambda x: re.findall('123\\W?$', x)\n",
    "\n",
    "df.text.apply(function)"
   ]
  },
  {
   "cell_type": "markdown",
   "metadata": {},
   "source": [
    "Now go to https://regexone.com/lesson/introduction_abcs and practice. Complete Exercises 1-11, and keep going if you feel like it! (Just do the exercises at the bottom, don't read the text unless you really want to - we covered it all here)"
   ]
  },
  {
   "cell_type": "markdown",
   "metadata": {},
   "source": [
    "## More things you can do with \"re\""
   ]
  },
  {
   "cell_type": "code",
   "execution_count": 70,
   "metadata": {
    "collapsed": false
   },
   "outputs": [
    {
     "data": {
      "text/plain": [
       "'sweet as vinegar'"
      ]
     },
     "execution_count": 70,
     "metadata": {},
     "output_type": "execute_result"
    }
   ],
   "source": [
    "#Find and replace with re.sub():\n",
    "re.sub(\"h[a-z]+\", \"vinegar\", \"sweet as honey\")"
   ]
  },
  {
   "cell_type": "code",
   "execution_count": 75,
   "metadata": {
    "collapsed": false
   },
   "outputs": [
    {
     "data": {
      "text/plain": [
       "['Fee', 'Fi', 'Fo', 'Fum', '']"
      ]
     },
     "execution_count": 75,
     "metadata": {},
     "output_type": "execute_result"
    }
   ],
   "source": [
    "#Split \n",
    "re.split('\\W+', 'Fee, Fi, Fo, Fum.')"
   ]
  },
  {
   "cell_type": "markdown",
   "metadata": {},
   "source": [
    "## Practice"
   ]
  },
  {
   "cell_type": "markdown",
   "metadata": {},
   "source": [
    "Play around with https://regex101.com/ to try some things out."
   ]
  },
  {
   "cell_type": "code",
   "execution_count": 143,
   "metadata": {
    "collapsed": false
   },
   "outputs": [],
   "source": [
    "# The following is a list of salaries (given in yearly or monthly), but all as one string\n",
    "# Step 1: Use RE to split the string into a list of salaries (i.e. ['$199,000 a year', '75,000 per year', etc.])\n",
    "# call this list salary_list\n",
    "string = \"$199,000 a year, 75,000 per year, $45,000 per year, 50000 a year, $150,000 a year, 230,000 per year, 2000 per month, 6,183 a month, $150,000 a year, 100,000 a year, $160,000 a year\""
   ]
  },
  {
   "cell_type": "code",
   "execution_count": 144,
   "metadata": {
    "collapsed": false
   },
   "outputs": [],
   "source": [
    "salary_list = "
   ]
  },
  {
   "cell_type": "code",
   "execution_count": 146,
   "metadata": {
    "collapsed": true
   },
   "outputs": [],
   "source": [
    "# Step 2: Use RE to get rid of the salaries that aren't yearly, by subbing them with an empty string, ''\n",
    "# call this yearly_list. Hint: consider using a list comprehension or for-loop."
   ]
  },
  {
   "cell_type": "code",
   "execution_count": 147,
   "metadata": {
    "collapsed": false
   },
   "outputs": [],
   "source": [
    "yearly_list = "
   ]
  },
  {
   "cell_type": "code",
   "execution_count": 148,
   "metadata": {
    "collapsed": true
   },
   "outputs": [],
   "source": [
    "# Step 3: Use RE to ehttp://localhost:8888/notebooks/dsi2016/dsi-chrispleasants/Regular%20Expressions%20Lab.ipynb#xtract the salary if it is given in a yearly amount \n",
    "# (e.g. '$199,000 a year' turns into $199,000)\n",
    "# call this better_list"
   ]
  },
  {
   "cell_type": "code",
   "execution_count": 151,
   "metadata": {
    "collapsed": false
   },
   "outputs": [],
   "source": [
    "better_list = "
   ]
  },
  {
   "cell_type": "code",
   "execution_count": null,
   "metadata": {
    "collapsed": true
   },
   "outputs": [],
   "source": [
    "# Step 4: Use RE to extract the salary in a numerical format, (e.g. $199,000 becomes 199000.0 as a float)\n",
    "# call this best_list"
   ]
  },
  {
   "cell_type": "code",
   "execution_count": 167,
   "metadata": {
    "collapsed": false
   },
   "outputs": [],
   "source": [
    "best_list = "
   ]
  }
 ],
 "metadata": {
  "anaconda-cloud": {},
  "kernelspec": {
   "display_name": "Python 2",
   "language": "python",
   "name": "python2"
  },
  "language_info": {
   "codemirror_mode": {
    "name": "ipython",
    "version": 2
   },
   "file_extension": ".py",
   "mimetype": "text/x-python",
   "name": "python",
   "nbconvert_exporter": "python",
   "pygments_lexer": "ipython2",
   "version": "2.7.12"
  }
 },
 "nbformat": 4,
 "nbformat_minor": 1
}
