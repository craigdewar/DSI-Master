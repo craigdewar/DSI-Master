{
 "cells": [
  {
   "cell_type": "code",
   "execution_count": 61,
   "metadata": {
    "collapsed": true
   },
   "outputs": [],
   "source": [
    "import pandas as pd\n",
    "import numpy as np\n",
    "import os\n",
    "from matplotlib import pyplot as plt\n",
    "import numpy as np\n",
    "import math\n",
    "from sklearn.preprocessing import StandardScaler\n",
    "from sklearn.decomposition import PCA \n",
    "\n",
    "%matplotlib inline\n",
    "\n",
    "votes_file = '../assets/datasets/votes.csv'\n",
    "airport_file = '../assets/datasets/Airport_operations.csv'"
   ]
  },
  {
   "cell_type": "markdown",
   "metadata": {},
   "source": [
    "# Case #1: Congressional Voting Data"
   ]
  },
  {
   "cell_type": "markdown",
   "metadata": {},
   "source": [
    "After you've downloaded the data from the repository, go ahead and load it with Pandas"
   ]
  },
  {
   "cell_type": "code",
   "execution_count": 2,
   "metadata": {
    "collapsed": false
   },
   "outputs": [],
   "source": [
    "votes = pd.read_csv(votes_file)"
   ]
  },
  {
   "cell_type": "code",
   "execution_count": 3,
   "metadata": {
    "collapsed": false
   },
   "outputs": [
    {
     "data": {
      "text/plain": [
       "Index([u'Unnamed: 0', u'Class', u'V1', u'V2', u'V3', u'V4', u'V5', u'V6',\n",
       "       u'V7', u'V8', u'V9', u'V10', u'V11', u'V12', u'V13', u'V14', u'V15',\n",
       "       u'V16'],\n",
       "      dtype='object')"
      ]
     },
     "execution_count": 3,
     "metadata": {},
     "output_type": "execute_result"
    }
   ],
   "source": [
    "votes.columns"
   ]
  },
  {
   "cell_type": "code",
   "execution_count": 4,
   "metadata": {
    "collapsed": false
   },
   "outputs": [
    {
     "data": {
      "text/plain": [
       "(435, 18)"
      ]
     },
     "execution_count": 4,
     "metadata": {},
     "output_type": "execute_result"
    }
   ],
   "source": [
    "votes.shape"
   ]
  },
  {
   "cell_type": "code",
   "execution_count": 5,
   "metadata": {
    "collapsed": false
   },
   "outputs": [
    {
     "data": {
      "text/html": [
       "<div>\n",
       "<table border=\"1\" class=\"dataframe\">\n",
       "  <thead>\n",
       "    <tr style=\"text-align: right;\">\n",
       "      <th></th>\n",
       "      <th>Unnamed: 0</th>\n",
       "      <th>Class</th>\n",
       "      <th>V1</th>\n",
       "      <th>V2</th>\n",
       "      <th>V3</th>\n",
       "      <th>V4</th>\n",
       "      <th>V5</th>\n",
       "      <th>V6</th>\n",
       "      <th>V7</th>\n",
       "      <th>V8</th>\n",
       "      <th>V9</th>\n",
       "      <th>V10</th>\n",
       "      <th>V11</th>\n",
       "      <th>V12</th>\n",
       "      <th>V13</th>\n",
       "      <th>V14</th>\n",
       "      <th>V15</th>\n",
       "      <th>V16</th>\n",
       "    </tr>\n",
       "  </thead>\n",
       "  <tbody>\n",
       "    <tr>\n",
       "      <th>0</th>\n",
       "      <td>1</td>\n",
       "      <td>republican</td>\n",
       "      <td>n</td>\n",
       "      <td>y</td>\n",
       "      <td>n</td>\n",
       "      <td>y</td>\n",
       "      <td>y</td>\n",
       "      <td>y</td>\n",
       "      <td>n</td>\n",
       "      <td>n</td>\n",
       "      <td>n</td>\n",
       "      <td>y</td>\n",
       "      <td>NaN</td>\n",
       "      <td>y</td>\n",
       "      <td>y</td>\n",
       "      <td>y</td>\n",
       "      <td>n</td>\n",
       "      <td>y</td>\n",
       "    </tr>\n",
       "    <tr>\n",
       "      <th>1</th>\n",
       "      <td>2</td>\n",
       "      <td>republican</td>\n",
       "      <td>n</td>\n",
       "      <td>y</td>\n",
       "      <td>n</td>\n",
       "      <td>y</td>\n",
       "      <td>y</td>\n",
       "      <td>y</td>\n",
       "      <td>n</td>\n",
       "      <td>n</td>\n",
       "      <td>n</td>\n",
       "      <td>n</td>\n",
       "      <td>n</td>\n",
       "      <td>y</td>\n",
       "      <td>y</td>\n",
       "      <td>y</td>\n",
       "      <td>n</td>\n",
       "      <td>NaN</td>\n",
       "    </tr>\n",
       "    <tr>\n",
       "      <th>2</th>\n",
       "      <td>3</td>\n",
       "      <td>democrat</td>\n",
       "      <td>NaN</td>\n",
       "      <td>y</td>\n",
       "      <td>y</td>\n",
       "      <td>NaN</td>\n",
       "      <td>y</td>\n",
       "      <td>y</td>\n",
       "      <td>n</td>\n",
       "      <td>n</td>\n",
       "      <td>n</td>\n",
       "      <td>n</td>\n",
       "      <td>y</td>\n",
       "      <td>n</td>\n",
       "      <td>y</td>\n",
       "      <td>y</td>\n",
       "      <td>n</td>\n",
       "      <td>n</td>\n",
       "    </tr>\n",
       "    <tr>\n",
       "      <th>3</th>\n",
       "      <td>4</td>\n",
       "      <td>democrat</td>\n",
       "      <td>n</td>\n",
       "      <td>y</td>\n",
       "      <td>y</td>\n",
       "      <td>n</td>\n",
       "      <td>NaN</td>\n",
       "      <td>y</td>\n",
       "      <td>n</td>\n",
       "      <td>n</td>\n",
       "      <td>n</td>\n",
       "      <td>n</td>\n",
       "      <td>y</td>\n",
       "      <td>n</td>\n",
       "      <td>y</td>\n",
       "      <td>n</td>\n",
       "      <td>n</td>\n",
       "      <td>y</td>\n",
       "    </tr>\n",
       "    <tr>\n",
       "      <th>4</th>\n",
       "      <td>5</td>\n",
       "      <td>democrat</td>\n",
       "      <td>y</td>\n",
       "      <td>y</td>\n",
       "      <td>y</td>\n",
       "      <td>n</td>\n",
       "      <td>y</td>\n",
       "      <td>y</td>\n",
       "      <td>n</td>\n",
       "      <td>n</td>\n",
       "      <td>n</td>\n",
       "      <td>n</td>\n",
       "      <td>y</td>\n",
       "      <td>NaN</td>\n",
       "      <td>y</td>\n",
       "      <td>y</td>\n",
       "      <td>y</td>\n",
       "      <td>y</td>\n",
       "    </tr>\n",
       "  </tbody>\n",
       "</table>\n",
       "</div>"
      ],
      "text/plain": [
       "   Unnamed: 0       Class   V1 V2 V3   V4   V5 V6 V7 V8 V9 V10  V11  V12 V13  \\\n",
       "0           1  republican    n  y  n    y    y  y  n  n  n   y  NaN    y   y   \n",
       "1           2  republican    n  y  n    y    y  y  n  n  n   n    n    y   y   \n",
       "2           3    democrat  NaN  y  y  NaN    y  y  n  n  n   n    y    n   y   \n",
       "3           4    democrat    n  y  y    n  NaN  y  n  n  n   n    y    n   y   \n",
       "4           5    democrat    y  y  y    n    y  y  n  n  n   n    y  NaN   y   \n",
       "\n",
       "  V14 V15  V16  \n",
       "0   y   n    y  \n",
       "1   y   n  NaN  \n",
       "2   y   n    n  \n",
       "3   n   n    y  \n",
       "4   y   y    y  "
      ]
     },
     "execution_count": 5,
     "metadata": {},
     "output_type": "execute_result"
    }
   ],
   "source": [
    "votes.head()"
   ]
  },
  {
   "cell_type": "code",
   "execution_count": 6,
   "metadata": {
    "collapsed": false,
    "scrolled": true
   },
   "outputs": [],
   "source": [
    "#votes = votes.iloc[:, 1:]\n",
    "#votes.head(2)"
   ]
  },
  {
   "cell_type": "code",
   "execution_count": 7,
   "metadata": {
    "collapsed": false
   },
   "outputs": [
    {
     "name": "stdout",
     "output_type": "stream",
     "text": [
      "[0, 0, 1, 1, 1, 1, 1, 0, 0, 1]\n"
     ]
    }
   ],
   "source": [
    "Y = [1 if x == 'democrat' else 0 for x in votes.Class.values]\n",
    "print Y[0:10]"
   ]
  },
  {
   "cell_type": "code",
   "execution_count": 8,
   "metadata": {
    "collapsed": false
   },
   "outputs": [
    {
     "data": {
      "text/html": [
       "<div>\n",
       "<table border=\"1\" class=\"dataframe\">\n",
       "  <thead>\n",
       "    <tr style=\"text-align: right;\">\n",
       "      <th></th>\n",
       "      <th>Class</th>\n",
       "      <th>V1</th>\n",
       "      <th>V2</th>\n",
       "      <th>V3</th>\n",
       "      <th>V4</th>\n",
       "      <th>V5</th>\n",
       "      <th>V6</th>\n",
       "      <th>V7</th>\n",
       "      <th>V8</th>\n",
       "      <th>V9</th>\n",
       "      <th>V10</th>\n",
       "      <th>V11</th>\n",
       "      <th>V12</th>\n",
       "      <th>V13</th>\n",
       "      <th>V14</th>\n",
       "      <th>V15</th>\n",
       "      <th>V16</th>\n",
       "    </tr>\n",
       "  </thead>\n",
       "  <tbody>\n",
       "    <tr>\n",
       "      <th>0</th>\n",
       "      <td>republican</td>\n",
       "      <td>n</td>\n",
       "      <td>y</td>\n",
       "      <td>n</td>\n",
       "      <td>y</td>\n",
       "      <td>y</td>\n",
       "      <td>y</td>\n",
       "      <td>n</td>\n",
       "      <td>n</td>\n",
       "      <td>n</td>\n",
       "      <td>y</td>\n",
       "      <td>NaN</td>\n",
       "      <td>y</td>\n",
       "      <td>y</td>\n",
       "      <td>y</td>\n",
       "      <td>n</td>\n",
       "      <td>y</td>\n",
       "    </tr>\n",
       "    <tr>\n",
       "      <th>1</th>\n",
       "      <td>republican</td>\n",
       "      <td>n</td>\n",
       "      <td>y</td>\n",
       "      <td>n</td>\n",
       "      <td>y</td>\n",
       "      <td>y</td>\n",
       "      <td>y</td>\n",
       "      <td>n</td>\n",
       "      <td>n</td>\n",
       "      <td>n</td>\n",
       "      <td>n</td>\n",
       "      <td>n</td>\n",
       "      <td>y</td>\n",
       "      <td>y</td>\n",
       "      <td>y</td>\n",
       "      <td>n</td>\n",
       "      <td>NaN</td>\n",
       "    </tr>\n",
       "    <tr>\n",
       "      <th>2</th>\n",
       "      <td>democrat</td>\n",
       "      <td>NaN</td>\n",
       "      <td>y</td>\n",
       "      <td>y</td>\n",
       "      <td>NaN</td>\n",
       "      <td>y</td>\n",
       "      <td>y</td>\n",
       "      <td>n</td>\n",
       "      <td>n</td>\n",
       "      <td>n</td>\n",
       "      <td>n</td>\n",
       "      <td>y</td>\n",
       "      <td>n</td>\n",
       "      <td>y</td>\n",
       "      <td>y</td>\n",
       "      <td>n</td>\n",
       "      <td>n</td>\n",
       "    </tr>\n",
       "    <tr>\n",
       "      <th>3</th>\n",
       "      <td>democrat</td>\n",
       "      <td>n</td>\n",
       "      <td>y</td>\n",
       "      <td>y</td>\n",
       "      <td>n</td>\n",
       "      <td>NaN</td>\n",
       "      <td>y</td>\n",
       "      <td>n</td>\n",
       "      <td>n</td>\n",
       "      <td>n</td>\n",
       "      <td>n</td>\n",
       "      <td>y</td>\n",
       "      <td>n</td>\n",
       "      <td>y</td>\n",
       "      <td>n</td>\n",
       "      <td>n</td>\n",
       "      <td>y</td>\n",
       "    </tr>\n",
       "    <tr>\n",
       "      <th>4</th>\n",
       "      <td>democrat</td>\n",
       "      <td>y</td>\n",
       "      <td>y</td>\n",
       "      <td>y</td>\n",
       "      <td>n</td>\n",
       "      <td>y</td>\n",
       "      <td>y</td>\n",
       "      <td>n</td>\n",
       "      <td>n</td>\n",
       "      <td>n</td>\n",
       "      <td>n</td>\n",
       "      <td>y</td>\n",
       "      <td>NaN</td>\n",
       "      <td>y</td>\n",
       "      <td>y</td>\n",
       "      <td>y</td>\n",
       "      <td>y</td>\n",
       "    </tr>\n",
       "  </tbody>\n",
       "</table>\n",
       "</div>"
      ],
      "text/plain": [
       "        Class   V1 V2 V3   V4   V5 V6 V7 V8 V9 V10  V11  V12 V13 V14 V15  V16\n",
       "0  republican    n  y  n    y    y  y  n  n  n   y  NaN    y   y   y   n    y\n",
       "1  republican    n  y  n    y    y  y  n  n  n   n    n    y   y   y   n  NaN\n",
       "2    democrat  NaN  y  y  NaN    y  y  n  n  n   n    y    n   y   y   n    n\n",
       "3    democrat    n  y  y    n  NaN  y  n  n  n   n    y    n   y   n   n    y\n",
       "4    democrat    y  y  y    n    y  y  n  n  n   n    y  NaN   y   y   y    y"
      ]
     },
     "execution_count": 8,
     "metadata": {},
     "output_type": "execute_result"
    }
   ],
   "source": [
    "Xvote = votes.iloc[:, 1:]\n",
    "Xvote.head(5)"
   ]
  },
  {
   "cell_type": "code",
   "execution_count": 9,
   "metadata": {
    "collapsed": false
   },
   "outputs": [
    {
     "data": {
      "text/plain": [
       "Class      0\n",
       "V1        12\n",
       "V2        48\n",
       "V3        11\n",
       "V4        11\n",
       "V5        15\n",
       "V6        11\n",
       "V7        14\n",
       "V8        15\n",
       "V9        22\n",
       "V10        7\n",
       "V11       21\n",
       "V12       31\n",
       "V13       25\n",
       "V14       17\n",
       "V15       28\n",
       "V16      104\n",
       "dtype: int64"
      ]
     },
     "execution_count": 9,
     "metadata": {},
     "output_type": "execute_result"
    }
   ],
   "source": [
    "Xvote.isnull().sum()"
   ]
  },
  {
   "cell_type": "code",
   "execution_count": 10,
   "metadata": {
    "collapsed": false
   },
   "outputs": [
    {
     "name": "stdout",
     "output_type": "stream",
     "text": [
      "Rows lost: 203\n",
      "Data points removing rows: 3451\n",
      "Orignal valid data points: 7003\n",
      "INvalid to fill in: 392\n"
     ]
    }
   ],
   "source": [
    "print 'Rows lost:', Xvote.shape[0] - Xvote.dropna().shape[0]\n",
    "print 'Data points removing rows:', (Xvote.shape[0] - Xvote.dropna().shape[0])*Xvote.shape[1]\n",
    "print 'Orignal valid data points:', Xvote.shape[0]*Xvote.shape[1] - Xvote.isnull().sum().sum()\n",
    "print 'INvalid to fill in:', Xvote.isnull().sum().sum()"
   ]
  },
  {
   "cell_type": "code",
   "execution_count": 11,
   "metadata": {
    "collapsed": false
   },
   "outputs": [
    {
     "data": {
      "text/plain": [
       "Class    0\n",
       "V1       0\n",
       "V2       0\n",
       "V3       0\n",
       "V4       0\n",
       "V5       0\n",
       "V6       0\n",
       "V7       0\n",
       "V8       0\n",
       "V9       0\n",
       "V10      0\n",
       "V11      0\n",
       "V12      0\n",
       "V13      0\n",
       "V14      0\n",
       "V15      0\n",
       "V16      0\n",
       "dtype: int64"
      ]
     },
     "execution_count": 11,
     "metadata": {},
     "output_type": "execute_result"
    }
   ],
   "source": [
    "def change_yn_to_binary(x):\n",
    "    if x == 'y':\n",
    "        return 1\n",
    "    elif x == 'n':\n",
    "        return 0\n",
    "    else:\n",
    "        return x\n",
    "\n",
    "# fill in the missing values with random 1 or 0:\n",
    "\n",
    "# iterate through the columns\n",
    "for c in Xvote.columns:\n",
    "    \n",
    "    Xvote.loc[:, c] = Xvote[c].map(change_yn_to_binary)\n",
    "    \n",
    "    # make a mask of rows for this column where the value is null/nan\n",
    "    mask = Xvote[c].isnull()\n",
    "    # for those rows at this column, put in random 1s or 0s the size of the number\n",
    "    # of missing values\n",
    "    Xvote.loc[mask, c] = np.random.choice(2, size=np.sum(mask))\n",
    "    \n",
    "Xvote.isnull().sum()    "
   ]
  },
  {
   "cell_type": "markdown",
   "metadata": {},
   "source": [
    "Next, create the covariance matrix from the standardized x-values and decompose these values to find the eigenvalues and eigenvectors"
   ]
  },
  {
   "cell_type": "code",
   "execution_count": 12,
   "metadata": {
    "collapsed": false
   },
   "outputs": [
    {
     "data": {
      "text/html": [
       "<div>\n",
       "<table border=\"1\" class=\"dataframe\">\n",
       "  <thead>\n",
       "    <tr style=\"text-align: right;\">\n",
       "      <th></th>\n",
       "      <th>V1</th>\n",
       "      <th>V2</th>\n",
       "      <th>V3</th>\n",
       "      <th>V4</th>\n",
       "      <th>V5</th>\n",
       "      <th>V6</th>\n",
       "      <th>V7</th>\n",
       "      <th>V8</th>\n",
       "      <th>V9</th>\n",
       "      <th>V10</th>\n",
       "      <th>V11</th>\n",
       "      <th>V12</th>\n",
       "      <th>V13</th>\n",
       "      <th>V14</th>\n",
       "      <th>V15</th>\n",
       "      <th>V16</th>\n",
       "    </tr>\n",
       "  </thead>\n",
       "  <tbody>\n",
       "    <tr>\n",
       "      <th>V1</th>\n",
       "      <td>1.000000</td>\n",
       "      <td>0.002024</td>\n",
       "      <td>0.402958</td>\n",
       "      <td>-0.412454</td>\n",
       "      <td>-0.369964</td>\n",
       "      <td>-0.385386</td>\n",
       "      <td>0.344077</td>\n",
       "      <td>0.384682</td>\n",
       "      <td>0.302714</td>\n",
       "      <td>-0.069799</td>\n",
       "      <td>0.108718</td>\n",
       "      <td>-0.388102</td>\n",
       "      <td>-0.332369</td>\n",
       "      <td>-0.337973</td>\n",
       "      <td>0.183795</td>\n",
       "      <td>0.099453</td>\n",
       "    </tr>\n",
       "    <tr>\n",
       "      <th>V2</th>\n",
       "      <td>0.002024</td>\n",
       "      <td>1.000000</td>\n",
       "      <td>-0.076721</td>\n",
       "      <td>0.099749</td>\n",
       "      <td>0.154007</td>\n",
       "      <td>0.170346</td>\n",
       "      <td>-0.196488</td>\n",
       "      <td>-0.131942</td>\n",
       "      <td>-0.172434</td>\n",
       "      <td>-0.103425</td>\n",
       "      <td>0.144092</td>\n",
       "      <td>-0.025951</td>\n",
       "      <td>0.223157</td>\n",
       "      <td>-0.015932</td>\n",
       "      <td>-0.104372</td>\n",
       "      <td>-0.042766</td>\n",
       "    </tr>\n",
       "    <tr>\n",
       "      <th>V3</th>\n",
       "      <td>0.402958</td>\n",
       "      <td>-0.076721</td>\n",
       "      <td>1.000000</td>\n",
       "      <td>-0.692479</td>\n",
       "      <td>-0.636118</td>\n",
       "      <td>-0.404939</td>\n",
       "      <td>0.569041</td>\n",
       "      <td>0.680217</td>\n",
       "      <td>0.574030</td>\n",
       "      <td>0.022746</td>\n",
       "      <td>0.222930</td>\n",
       "      <td>-0.631314</td>\n",
       "      <td>-0.508357</td>\n",
       "      <td>-0.550765</td>\n",
       "      <td>0.432659</td>\n",
       "      <td>0.259897</td>\n",
       "    </tr>\n",
       "    <tr>\n",
       "      <th>V4</th>\n",
       "      <td>-0.412454</td>\n",
       "      <td>0.099749</td>\n",
       "      <td>-0.692479</td>\n",
       "      <td>1.000000</td>\n",
       "      <td>0.750253</td>\n",
       "      <td>0.449944</td>\n",
       "      <td>-0.564814</td>\n",
       "      <td>-0.675970</td>\n",
       "      <td>-0.613473</td>\n",
       "      <td>0.037515</td>\n",
       "      <td>-0.268973</td>\n",
       "      <td>0.637118</td>\n",
       "      <td>0.575499</td>\n",
       "      <td>0.624889</td>\n",
       "      <td>-0.489204</td>\n",
       "      <td>-0.234174</td>\n",
       "    </tr>\n",
       "    <tr>\n",
       "      <th>V5</th>\n",
       "      <td>-0.369964</td>\n",
       "      <td>0.154007</td>\n",
       "      <td>-0.636118</td>\n",
       "      <td>0.750253</td>\n",
       "      <td>1.000000</td>\n",
       "      <td>0.603204</td>\n",
       "      <td>-0.667669</td>\n",
       "      <td>-0.817543</td>\n",
       "      <td>-0.770263</td>\n",
       "      <td>0.007083</td>\n",
       "      <td>-0.133370</td>\n",
       "      <td>0.596187</td>\n",
       "      <td>0.628252</td>\n",
       "      <td>0.666598</td>\n",
       "      <td>-0.531147</td>\n",
       "      <td>-0.224187</td>\n",
       "    </tr>\n",
       "    <tr>\n",
       "      <th>V6</th>\n",
       "      <td>-0.385386</td>\n",
       "      <td>0.170346</td>\n",
       "      <td>-0.404939</td>\n",
       "      <td>0.449944</td>\n",
       "      <td>0.603204</td>\n",
       "      <td>1.000000</td>\n",
       "      <td>-0.507680</td>\n",
       "      <td>-0.543108</td>\n",
       "      <td>-0.550146</td>\n",
       "      <td>0.079084</td>\n",
       "      <td>0.015464</td>\n",
       "      <td>0.472478</td>\n",
       "      <td>0.510363</td>\n",
       "      <td>0.545563</td>\n",
       "      <td>-0.412743</td>\n",
       "      <td>-0.116754</td>\n",
       "    </tr>\n",
       "    <tr>\n",
       "      <th>V7</th>\n",
       "      <td>0.344077</td>\n",
       "      <td>-0.196488</td>\n",
       "      <td>0.569041</td>\n",
       "      <td>-0.564814</td>\n",
       "      <td>-0.667669</td>\n",
       "      <td>-0.507680</td>\n",
       "      <td>1.000000</td>\n",
       "      <td>0.701115</td>\n",
       "      <td>0.632774</td>\n",
       "      <td>0.032827</td>\n",
       "      <td>0.051453</td>\n",
       "      <td>-0.485293</td>\n",
       "      <td>-0.529227</td>\n",
       "      <td>-0.506156</td>\n",
       "      <td>0.467664</td>\n",
       "      <td>0.269869</td>\n",
       "    </tr>\n",
       "    <tr>\n",
       "      <th>V8</th>\n",
       "      <td>0.384682</td>\n",
       "      <td>-0.131942</td>\n",
       "      <td>0.680217</td>\n",
       "      <td>-0.675970</td>\n",
       "      <td>-0.817543</td>\n",
       "      <td>-0.543108</td>\n",
       "      <td>0.701115</td>\n",
       "      <td>1.000000</td>\n",
       "      <td>0.727213</td>\n",
       "      <td>0.041888</td>\n",
       "      <td>0.123313</td>\n",
       "      <td>-0.586873</td>\n",
       "      <td>-0.577461</td>\n",
       "      <td>-0.604661</td>\n",
       "      <td>0.517577</td>\n",
       "      <td>0.260958</td>\n",
       "    </tr>\n",
       "    <tr>\n",
       "      <th>V9</th>\n",
       "      <td>0.302714</td>\n",
       "      <td>-0.172434</td>\n",
       "      <td>0.574030</td>\n",
       "      <td>-0.613473</td>\n",
       "      <td>-0.770263</td>\n",
       "      <td>-0.550146</td>\n",
       "      <td>0.632774</td>\n",
       "      <td>0.727213</td>\n",
       "      <td>1.000000</td>\n",
       "      <td>0.030001</td>\n",
       "      <td>0.014852</td>\n",
       "      <td>-0.543189</td>\n",
       "      <td>-0.498879</td>\n",
       "      <td>-0.542177</td>\n",
       "      <td>0.445749</td>\n",
       "      <td>0.243980</td>\n",
       "    </tr>\n",
       "    <tr>\n",
       "      <th>V10</th>\n",
       "      <td>-0.069799</td>\n",
       "      <td>-0.103425</td>\n",
       "      <td>0.022746</td>\n",
       "      <td>0.037515</td>\n",
       "      <td>0.007083</td>\n",
       "      <td>0.079084</td>\n",
       "      <td>0.032827</td>\n",
       "      <td>0.041888</td>\n",
       "      <td>0.030001</td>\n",
       "      <td>1.000000</td>\n",
       "      <td>-0.022008</td>\n",
       "      <td>0.042066</td>\n",
       "      <td>0.047823</td>\n",
       "      <td>0.092881</td>\n",
       "      <td>-0.074533</td>\n",
       "      <td>0.082215</td>\n",
       "    </tr>\n",
       "    <tr>\n",
       "      <th>V11</th>\n",
       "      <td>0.108718</td>\n",
       "      <td>0.144092</td>\n",
       "      <td>0.222930</td>\n",
       "      <td>-0.268973</td>\n",
       "      <td>-0.133370</td>\n",
       "      <td>0.015464</td>\n",
       "      <td>0.051453</td>\n",
       "      <td>0.123313</td>\n",
       "      <td>0.014852</td>\n",
       "      <td>-0.022008</td>\n",
       "      <td>1.000000</td>\n",
       "      <td>-0.205184</td>\n",
       "      <td>-0.070714</td>\n",
       "      <td>-0.122803</td>\n",
       "      <td>0.126380</td>\n",
       "      <td>0.047874</td>\n",
       "    </tr>\n",
       "    <tr>\n",
       "      <th>V12</th>\n",
       "      <td>-0.388102</td>\n",
       "      <td>-0.025951</td>\n",
       "      <td>-0.631314</td>\n",
       "      <td>0.637118</td>\n",
       "      <td>0.596187</td>\n",
       "      <td>0.472478</td>\n",
       "      <td>-0.485293</td>\n",
       "      <td>-0.586873</td>\n",
       "      <td>-0.543189</td>\n",
       "      <td>0.042066</td>\n",
       "      <td>-0.205184</td>\n",
       "      <td>1.000000</td>\n",
       "      <td>0.495795</td>\n",
       "      <td>0.552835</td>\n",
       "      <td>-0.455535</td>\n",
       "      <td>-0.189299</td>\n",
       "    </tr>\n",
       "    <tr>\n",
       "      <th>V13</th>\n",
       "      <td>-0.332369</td>\n",
       "      <td>0.223157</td>\n",
       "      <td>-0.508357</td>\n",
       "      <td>0.575499</td>\n",
       "      <td>0.628252</td>\n",
       "      <td>0.510363</td>\n",
       "      <td>-0.529227</td>\n",
       "      <td>-0.577461</td>\n",
       "      <td>-0.498879</td>\n",
       "      <td>0.047823</td>\n",
       "      <td>-0.070714</td>\n",
       "      <td>0.495795</td>\n",
       "      <td>1.000000</td>\n",
       "      <td>0.533825</td>\n",
       "      <td>-0.457218</td>\n",
       "      <td>-0.199015</td>\n",
       "    </tr>\n",
       "    <tr>\n",
       "      <th>V14</th>\n",
       "      <td>-0.337973</td>\n",
       "      <td>-0.015932</td>\n",
       "      <td>-0.550765</td>\n",
       "      <td>0.624889</td>\n",
       "      <td>0.666598</td>\n",
       "      <td>0.545563</td>\n",
       "      <td>-0.506156</td>\n",
       "      <td>-0.604661</td>\n",
       "      <td>-0.542177</td>\n",
       "      <td>0.092881</td>\n",
       "      <td>-0.122803</td>\n",
       "      <td>0.552835</td>\n",
       "      <td>0.533825</td>\n",
       "      <td>1.000000</td>\n",
       "      <td>-0.504051</td>\n",
       "      <td>-0.137403</td>\n",
       "    </tr>\n",
       "    <tr>\n",
       "      <th>V15</th>\n",
       "      <td>0.183795</td>\n",
       "      <td>-0.104372</td>\n",
       "      <td>0.432659</td>\n",
       "      <td>-0.489204</td>\n",
       "      <td>-0.531147</td>\n",
       "      <td>-0.412743</td>\n",
       "      <td>0.467664</td>\n",
       "      <td>0.517577</td>\n",
       "      <td>0.445749</td>\n",
       "      <td>-0.074533</td>\n",
       "      <td>0.126380</td>\n",
       "      <td>-0.455535</td>\n",
       "      <td>-0.457218</td>\n",
       "      <td>-0.504051</td>\n",
       "      <td>1.000000</td>\n",
       "      <td>0.159792</td>\n",
       "    </tr>\n",
       "    <tr>\n",
       "      <th>V16</th>\n",
       "      <td>0.099453</td>\n",
       "      <td>-0.042766</td>\n",
       "      <td>0.259897</td>\n",
       "      <td>-0.234174</td>\n",
       "      <td>-0.224187</td>\n",
       "      <td>-0.116754</td>\n",
       "      <td>0.269869</td>\n",
       "      <td>0.260958</td>\n",
       "      <td>0.243980</td>\n",
       "      <td>0.082215</td>\n",
       "      <td>0.047874</td>\n",
       "      <td>-0.189299</td>\n",
       "      <td>-0.199015</td>\n",
       "      <td>-0.137403</td>\n",
       "      <td>0.159792</td>\n",
       "      <td>1.000000</td>\n",
       "    </tr>\n",
       "  </tbody>\n",
       "</table>\n",
       "</div>"
      ],
      "text/plain": [
       "           V1        V2        V3        V4        V5        V6        V7  \\\n",
       "V1   1.000000  0.002024  0.402958 -0.412454 -0.369964 -0.385386  0.344077   \n",
       "V2   0.002024  1.000000 -0.076721  0.099749  0.154007  0.170346 -0.196488   \n",
       "V3   0.402958 -0.076721  1.000000 -0.692479 -0.636118 -0.404939  0.569041   \n",
       "V4  -0.412454  0.099749 -0.692479  1.000000  0.750253  0.449944 -0.564814   \n",
       "V5  -0.369964  0.154007 -0.636118  0.750253  1.000000  0.603204 -0.667669   \n",
       "V6  -0.385386  0.170346 -0.404939  0.449944  0.603204  1.000000 -0.507680   \n",
       "V7   0.344077 -0.196488  0.569041 -0.564814 -0.667669 -0.507680  1.000000   \n",
       "V8   0.384682 -0.131942  0.680217 -0.675970 -0.817543 -0.543108  0.701115   \n",
       "V9   0.302714 -0.172434  0.574030 -0.613473 -0.770263 -0.550146  0.632774   \n",
       "V10 -0.069799 -0.103425  0.022746  0.037515  0.007083  0.079084  0.032827   \n",
       "V11  0.108718  0.144092  0.222930 -0.268973 -0.133370  0.015464  0.051453   \n",
       "V12 -0.388102 -0.025951 -0.631314  0.637118  0.596187  0.472478 -0.485293   \n",
       "V13 -0.332369  0.223157 -0.508357  0.575499  0.628252  0.510363 -0.529227   \n",
       "V14 -0.337973 -0.015932 -0.550765  0.624889  0.666598  0.545563 -0.506156   \n",
       "V15  0.183795 -0.104372  0.432659 -0.489204 -0.531147 -0.412743  0.467664   \n",
       "V16  0.099453 -0.042766  0.259897 -0.234174 -0.224187 -0.116754  0.269869   \n",
       "\n",
       "           V8        V9       V10       V11       V12       V13       V14  \\\n",
       "V1   0.384682  0.302714 -0.069799  0.108718 -0.388102 -0.332369 -0.337973   \n",
       "V2  -0.131942 -0.172434 -0.103425  0.144092 -0.025951  0.223157 -0.015932   \n",
       "V3   0.680217  0.574030  0.022746  0.222930 -0.631314 -0.508357 -0.550765   \n",
       "V4  -0.675970 -0.613473  0.037515 -0.268973  0.637118  0.575499  0.624889   \n",
       "V5  -0.817543 -0.770263  0.007083 -0.133370  0.596187  0.628252  0.666598   \n",
       "V6  -0.543108 -0.550146  0.079084  0.015464  0.472478  0.510363  0.545563   \n",
       "V7   0.701115  0.632774  0.032827  0.051453 -0.485293 -0.529227 -0.506156   \n",
       "V8   1.000000  0.727213  0.041888  0.123313 -0.586873 -0.577461 -0.604661   \n",
       "V9   0.727213  1.000000  0.030001  0.014852 -0.543189 -0.498879 -0.542177   \n",
       "V10  0.041888  0.030001  1.000000 -0.022008  0.042066  0.047823  0.092881   \n",
       "V11  0.123313  0.014852 -0.022008  1.000000 -0.205184 -0.070714 -0.122803   \n",
       "V12 -0.586873 -0.543189  0.042066 -0.205184  1.000000  0.495795  0.552835   \n",
       "V13 -0.577461 -0.498879  0.047823 -0.070714  0.495795  1.000000  0.533825   \n",
       "V14 -0.604661 -0.542177  0.092881 -0.122803  0.552835  0.533825  1.000000   \n",
       "V15  0.517577  0.445749 -0.074533  0.126380 -0.455535 -0.457218 -0.504051   \n",
       "V16  0.260958  0.243980  0.082215  0.047874 -0.189299 -0.199015 -0.137403   \n",
       "\n",
       "          V15       V16  \n",
       "V1   0.183795  0.099453  \n",
       "V2  -0.104372 -0.042766  \n",
       "V3   0.432659  0.259897  \n",
       "V4  -0.489204 -0.234174  \n",
       "V5  -0.531147 -0.224187  \n",
       "V6  -0.412743 -0.116754  \n",
       "V7   0.467664  0.269869  \n",
       "V8   0.517577  0.260958  \n",
       "V9   0.445749  0.243980  \n",
       "V10 -0.074533  0.082215  \n",
       "V11  0.126380  0.047874  \n",
       "V12 -0.455535 -0.189299  \n",
       "V13 -0.457218 -0.199015  \n",
       "V14 -0.504051 -0.137403  \n",
       "V15  1.000000  0.159792  \n",
       "V16  0.159792  1.000000  "
      ]
     },
     "execution_count": 12,
     "metadata": {},
     "output_type": "execute_result"
    }
   ],
   "source": [
    "Xvote = Xvote.iloc[:, 1:]\n",
    "Xn = (Xvote - Xvote.mean()) / Xvote.std()\n",
    "Xn_corr = Xn.cov()\n",
    "Xn_corr"
   ]
  },
  {
   "cell_type": "code",
   "execution_count": 13,
   "metadata": {
    "collapsed": true
   },
   "outputs": [],
   "source": [
    "eigenvalues, eigenvectors = np.linalg.eig(Xn_corr.values)"
   ]
  },
  {
   "cell_type": "markdown",
   "metadata": {},
   "source": [
    "Now, let's check the eigenvalues: "
   ]
  },
  {
   "cell_type": "code",
   "execution_count": 14,
   "metadata": {
    "collapsed": false
   },
   "outputs": [
    {
     "data": {
      "text/plain": [
       "array([ 7.09342689,  1.3646113 ,  1.1385338 ,  0.87817327,  0.86181908,\n",
       "        0.81030635,  0.14278176,  0.23798864,  0.26703149,  0.31186315,\n",
       "        0.59585054,  0.36885767,  0.41357897,  0.46110462,  0.51308683,\n",
       "        0.54098565])"
      ]
     },
     "execution_count": 14,
     "metadata": {},
     "output_type": "execute_result"
    }
   ],
   "source": [
    "eigenvalues"
   ]
  },
  {
   "cell_type": "markdown",
   "metadata": {},
   "source": [
    "And the eigenvectors: "
   ]
  },
  {
   "cell_type": "code",
   "execution_count": 15,
   "metadata": {
    "collapsed": false
   },
   "outputs": [
    {
     "name": "stdout",
     "output_type": "stream",
     "text": [
      "[[ -1.88827092e-01  -1.77455304e-01  -1.16754187e-01  -5.84985075e-02\n",
      "    6.44533253e-01   5.12883146e-01   3.35292142e-02   3.33485577e-02\n",
      "   -1.13188390e-01   7.82457260e-02  -2.20740459e-01   1.57291598e-01\n",
      "   -1.48252113e-01   1.07205770e-01   3.26742324e-01  -4.95827027e-02]\n",
      " [  6.07806362e-02  -6.12866228e-01   5.07606860e-02  -3.67861082e-01\n",
      "    2.53354696e-01  -5.30104561e-01  -5.70423633e-04   6.34551327e-02\n",
      "    1.13790818e-01  -1.13720634e-01  -4.98878390e-02   9.35899772e-02\n",
      "    1.93904778e-01   2.26604386e-01  -4.89051658e-03   8.64569792e-02]]\n",
      "16\n"
     ]
    }
   ],
   "source": [
    "print eigenvectors[0:2]\n",
    "print len(eigenvectors[0])"
   ]
  },
  {
   "cell_type": "markdown",
   "metadata": {},
   "source": [
    "To find the principal components, find the eigenpairs, and sort them from highest to lowest. "
   ]
  },
  {
   "cell_type": "code",
   "execution_count": 16,
   "metadata": {
    "collapsed": true
   },
   "outputs": [],
   "source": [
    "eigen_pairs = [[e_value, e_vector] for e_value, e_vector in zip(eigenvalues, eigenvectors)]\n",
    "eigen_pairs = sorted(eigen_pairs, reverse=True)"
   ]
  },
  {
   "cell_type": "code",
   "execution_count": 17,
   "metadata": {
    "collapsed": false
   },
   "outputs": [
    {
     "data": {
      "text/plain": [
       "[7.0934268923387087,\n",
       " 1.3646112987914782,\n",
       " 1.1385337988211506,\n",
       " 0.87817326686309316,\n",
       " 0.86181907963511395,\n",
       " 0.810306347247718,\n",
       " 0.59585054382613989,\n",
       " 0.54098564656094572,\n",
       " 0.51308682767959279,\n",
       " 0.46110461728179264,\n",
       " 0.41357896968254326,\n",
       " 0.36885767189900853,\n",
       " 0.31186314871249599,\n",
       " 0.26703148726088782,\n",
       " 0.23798864187263732,\n",
       " 0.14278176152665961]"
      ]
     },
     "execution_count": 17,
     "metadata": {},
     "output_type": "execute_result"
    }
   ],
   "source": [
    "[e[0] for e in eigen_pairs]"
   ]
  },
  {
   "cell_type": "markdown",
   "metadata": {
    "collapsed": true
   },
   "source": [
    "Now, calculate the explained variance. Recall the methods we learned in lesson 2.2!"
   ]
  },
  {
   "cell_type": "code",
   "execution_count": 18,
   "metadata": {
    "collapsed": false
   },
   "outputs": [
    {
     "data": {
      "text/plain": [
       "[44.333918077117026,\n",
       " 8.5288206174467582,\n",
       " 7.1158362426322066,\n",
       " 5.4885829178943446,\n",
       " 5.3863692477194736,\n",
       " 5.0644146702982482,\n",
       " 3.7240658989133828,\n",
       " 3.3811602910059184,\n",
       " 3.2067926729974618,\n",
       " 2.8819038580112104,\n",
       " 2.5848685605159014,\n",
       " 2.3053604493688087,\n",
       " 1.949144679453104,\n",
       " 1.6689467953805528,\n",
       " 1.4874290117039866,\n",
       " 0.8923860095416245]"
      ]
     },
     "execution_count": 18,
     "metadata": {},
     "output_type": "execute_result"
    }
   ],
   "source": [
    "total_variance = np.sum(eigenvalues)\n",
    "explained_variance = [(e[0]/total_variance)*100 for e in eigen_pairs]\n",
    "explained_variance"
   ]
  },
  {
   "cell_type": "code",
   "execution_count": 19,
   "metadata": {
    "collapsed": false
   },
   "outputs": [
    {
     "name": "stdout",
     "output_type": "stream",
     "text": [
      "(435, 16)\n"
     ]
    }
   ],
   "source": [
    "print Xvote.shape"
   ]
  },
  {
   "cell_type": "code",
   "execution_count": 20,
   "metadata": {
    "collapsed": false
   },
   "outputs": [
    {
     "data": {
      "text/html": [
       "<div>\n",
       "<table border=\"1\" class=\"dataframe\">\n",
       "  <thead>\n",
       "    <tr style=\"text-align: right;\">\n",
       "      <th></th>\n",
       "      <th>PC1_pre_sum</th>\n",
       "      <th>eigenvector</th>\n",
       "      <th>vote</th>\n",
       "    </tr>\n",
       "  </thead>\n",
       "  <tbody>\n",
       "    <tr>\n",
       "      <th>0</th>\n",
       "      <td>-0.000000</td>\n",
       "      <td>-0.188827</td>\n",
       "      <td>0.0</td>\n",
       "    </tr>\n",
       "    <tr>\n",
       "      <th>1</th>\n",
       "      <td>-0.177455</td>\n",
       "      <td>-0.177455</td>\n",
       "      <td>1.0</td>\n",
       "    </tr>\n",
       "    <tr>\n",
       "      <th>2</th>\n",
       "      <td>-0.000000</td>\n",
       "      <td>-0.116754</td>\n",
       "      <td>0.0</td>\n",
       "    </tr>\n",
       "    <tr>\n",
       "      <th>3</th>\n",
       "      <td>-0.058499</td>\n",
       "      <td>-0.058499</td>\n",
       "      <td>1.0</td>\n",
       "    </tr>\n",
       "    <tr>\n",
       "      <th>4</th>\n",
       "      <td>0.644533</td>\n",
       "      <td>0.644533</td>\n",
       "      <td>1.0</td>\n",
       "    </tr>\n",
       "    <tr>\n",
       "      <th>5</th>\n",
       "      <td>0.512883</td>\n",
       "      <td>0.512883</td>\n",
       "      <td>1.0</td>\n",
       "    </tr>\n",
       "    <tr>\n",
       "      <th>6</th>\n",
       "      <td>0.000000</td>\n",
       "      <td>0.033529</td>\n",
       "      <td>0.0</td>\n",
       "    </tr>\n",
       "    <tr>\n",
       "      <th>7</th>\n",
       "      <td>0.000000</td>\n",
       "      <td>0.033349</td>\n",
       "      <td>0.0</td>\n",
       "    </tr>\n",
       "    <tr>\n",
       "      <th>8</th>\n",
       "      <td>-0.000000</td>\n",
       "      <td>-0.113188</td>\n",
       "      <td>0.0</td>\n",
       "    </tr>\n",
       "    <tr>\n",
       "      <th>9</th>\n",
       "      <td>0.078246</td>\n",
       "      <td>0.078246</td>\n",
       "      <td>1.0</td>\n",
       "    </tr>\n",
       "    <tr>\n",
       "      <th>10</th>\n",
       "      <td>-0.000000</td>\n",
       "      <td>-0.220740</td>\n",
       "      <td>0.0</td>\n",
       "    </tr>\n",
       "    <tr>\n",
       "      <th>11</th>\n",
       "      <td>0.157292</td>\n",
       "      <td>0.157292</td>\n",
       "      <td>1.0</td>\n",
       "    </tr>\n",
       "    <tr>\n",
       "      <th>12</th>\n",
       "      <td>-0.148252</td>\n",
       "      <td>-0.148252</td>\n",
       "      <td>1.0</td>\n",
       "    </tr>\n",
       "    <tr>\n",
       "      <th>13</th>\n",
       "      <td>0.107206</td>\n",
       "      <td>0.107206</td>\n",
       "      <td>1.0</td>\n",
       "    </tr>\n",
       "    <tr>\n",
       "      <th>14</th>\n",
       "      <td>0.000000</td>\n",
       "      <td>0.326742</td>\n",
       "      <td>0.0</td>\n",
       "    </tr>\n",
       "    <tr>\n",
       "      <th>15</th>\n",
       "      <td>-0.049583</td>\n",
       "      <td>-0.049583</td>\n",
       "      <td>1.0</td>\n",
       "    </tr>\n",
       "  </tbody>\n",
       "</table>\n",
       "</div>"
      ],
      "text/plain": [
       "    PC1_pre_sum  eigenvector  vote\n",
       "0     -0.000000    -0.188827   0.0\n",
       "1     -0.177455    -0.177455   1.0\n",
       "2     -0.000000    -0.116754   0.0\n",
       "3     -0.058499    -0.058499   1.0\n",
       "4      0.644533     0.644533   1.0\n",
       "5      0.512883     0.512883   1.0\n",
       "6      0.000000     0.033529   0.0\n",
       "7      0.000000     0.033349   0.0\n",
       "8     -0.000000    -0.113188   0.0\n",
       "9      0.078246     0.078246   1.0\n",
       "10    -0.000000    -0.220740   0.0\n",
       "11     0.157292     0.157292   1.0\n",
       "12    -0.148252    -0.148252   1.0\n",
       "13     0.107206     0.107206   1.0\n",
       "14     0.000000     0.326742   0.0\n",
       "15    -0.049583    -0.049583   1.0"
      ]
     },
     "execution_count": 20,
     "metadata": {},
     "output_type": "execute_result"
    }
   ],
   "source": [
    "tmp = pd.DataFrame({'vote':Xvote.iloc[0,:].values,\n",
    "                    'eigenvector':eigenvectors[0],\n",
    "                    'PC1_pre_sum':Xvote.iloc[0,:].values*eigenvectors[0]})\n",
    "tmp"
   ]
  },
  {
   "cell_type": "code",
   "execution_count": 21,
   "metadata": {
    "collapsed": false
   },
   "outputs": [
    {
     "data": {
      "text/plain": [
       "1.06637086491139"
      ]
     },
     "execution_count": 21,
     "metadata": {},
     "output_type": "execute_result"
    }
   ],
   "source": [
    "tmp.PC1_pre_sum.sum()"
   ]
  },
  {
   "cell_type": "markdown",
   "metadata": {},
   "source": [
    "To find the principal componants, find the eigenpairs, and sort them from highest to lowest. "
   ]
  },
  {
   "cell_type": "code",
   "execution_count": 29,
   "metadata": {
    "collapsed": false
   },
   "outputs": [
    {
     "name": "stdout",
     "output_type": "stream",
     "text": [
      "7.09342689234\n",
      "1.36461129879\n",
      "1.13853379882\n",
      "0.878173266863\n",
      "0.861819079635\n",
      "0.810306347248\n",
      "0.595850543826\n",
      "0.540985646561\n",
      "0.51308682768\n",
      "0.461104617282\n",
      "0.413578969683\n",
      "0.368857671899\n",
      "0.311863148712\n",
      "0.267031487261\n",
      "0.237988641873\n",
      "0.142781761527\n"
     ]
    }
   ],
   "source": [
    "eigenPairs = [(np.abs(eigenvalues[i]), eigenvectors[:,i]) for i in range(len(eigenvalues))]\n",
    "eigenPairs.sort()\n",
    "eigenPairs.reverse()\n",
    "for i in eigenPairs:\n",
    "    print(i[0])"
   ]
  },
  {
   "cell_type": "markdown",
   "metadata": {},
   "source": [
    "Now, calculate the explained variance and the Cumulative explained variance"
   ]
  },
  {
   "cell_type": "code",
   "execution_count": 32,
   "metadata": {
    "collapsed": false
   },
   "outputs": [
    {
     "name": "stdout",
     "output_type": "stream",
     "text": [
      "[44.333918077117033, 8.5288206174467582, 7.1158362426322075, 5.4885829178943446, 5.3863692477194745, 5.0644146702982491, 3.7240658989133832, 3.3811602910059184, 3.2067926729974627, 2.8819038580112104, 2.5848685605159014, 2.3053604493688087, 1.9491446794531044, 1.6689467953805528, 1.4874290117039868, 0.89238600954162461]\n"
     ]
    }
   ],
   "source": [
    "totalEigen = sum(eigenvalues)\n",
    "varExpl = [(i / totalEigen)*100 for i in sorted(eigenvalues, reverse=True)]\n",
    "print varExpl"
   ]
  },
  {
   "cell_type": "code",
   "execution_count": 33,
   "metadata": {
    "collapsed": true
   },
   "outputs": [],
   "source": [
    "cvarex = np.cumsum(varExpl)"
   ]
  },
  {
   "cell_type": "code",
   "execution_count": 34,
   "metadata": {
    "collapsed": false
   },
   "outputs": [
    {
     "name": "stdout",
     "output_type": "stream",
     "text": [
      "[ 44.33391808  52.86273869  59.97857494  65.46715786  70.8535271\n",
      "  75.91794177  79.64200767  83.02316796  86.22996064  89.11186449\n",
      "  91.69673305  94.0020935   95.95123818  97.62018498  99.10761399 100.        ]\n"
     ]
    }
   ],
   "source": [
    "print(cvarex)"
   ]
  },
  {
   "cell_type": "markdown",
   "metadata": {},
   "source": [
    "Now, conduct a PCA using scikit learn\n",
    "\n",
    "http://scikit-learn.org/stable/modules/generated/sklearn.decomposition.PCA.html"
   ]
  },
  {
   "cell_type": "code",
   "execution_count": 38,
   "metadata": {
    "collapsed": false
   },
   "outputs": [],
   "source": [
    "PCA_set = PCA(n_components=5)\n",
    "Y = PCA_set.fit_transform(Xvote)"
   ]
  },
  {
   "cell_type": "code",
   "execution_count": 39,
   "metadata": {
    "collapsed": false
   },
   "outputs": [
    {
     "data": {
      "text/plain": [
       "array([[-1.75895252, -0.13111369,  0.36899512,  0.2878014 ,  0.54891794],\n",
       "       [-1.84912901,  0.30186745, -0.66914018,  0.04615   ,  0.28753463],\n",
       "       [-1.20826243,  1.11045333, -0.02651253, -0.28106764, -0.20717812],\n",
       "       ..., \n",
       "       [-1.62055221,  0.08074477, -0.07374703, -0.68234447, -0.56222349],\n",
       "       [-1.36932668, -0.83676473,  0.36728204,  0.00492666,  0.05556549],\n",
       "       [-1.85992955, -0.05494582,  0.0830168 ,  0.29396959,  0.37146949]])"
      ]
     },
     "execution_count": 39,
     "metadata": {},
     "output_type": "execute_result"
    }
   ],
   "source": [
    "Y"
   ]
  },
  {
   "cell_type": "code",
   "execution_count": 60,
   "metadata": {
    "collapsed": false
   },
   "outputs": [
    {
     "name": "stdout",
     "output_type": "stream",
     "text": [
      "5\n",
      "[ 1.73422486  0.33326491  0.26995172  0.21115516  0.20172898]\n"
     ]
    }
   ],
   "source": [
    "print PCA_set.n_components\n",
    "print PCA_set.explained_variance_\n",
    "x_vals = np.arange(1, PCA_set.n_components)"
   ]
  },
  {
   "cell_type": "code",
   "execution_count": 62,
   "metadata": {
    "collapsed": false
   },
   "outputs": [
    {
     "data": {
      "text/plain": [
       "<matplotlib.text.Text at 0x7fa6400726d0>"
      ]
     },
     "execution_count": 62,
     "metadata": {},
     "output_type": "execute_result"
    },
    {
     "data": {
      "image/png": "[encoded data removed]",
      "text/plain": [
       "<matplotlib.figure.Figure at 0x7fa63fff3110>"
      ]
     },
     "metadata": {},
     "output_type": "display_data"
    }
   ],
   "source": [
    "plt.figure(1, figsize=(4, 3))\n",
    "plt.clf()\n",
    "plt.axes([.2, .2, .7, .7])\n",
    "plt.plot(PCA_set.explained_variance_, linewidth=2)\n",
    "plt.axis('tight')\n",
    "plt.xlabel('n_components')\n",
    "plt.ylabel('explained_variance_')"
   ]
  },
  {
   "cell_type": "markdown",
   "metadata": {},
   "source": [
    "# Case #2: Airport Delays"
   ]
  },
  {
   "cell_type": "code",
   "execution_count": 1,
   "metadata": {
    "collapsed": false
   },
   "outputs": [
    {
     "ename": "NameError",
     "evalue": "name 'pd' is not defined",
     "output_type": "error",
     "traceback": [
      "\u001b[1;31m---------------------------------------------------------------------------\u001b[0m",
      "\u001b[1;31mNameError\u001b[0m                                 Traceback (most recent call last)",
      "\u001b[1;32m<ipython-input-1-f837dc1da4ad>\u001b[0m in \u001b[0;36m<module>\u001b[1;34m()\u001b[0m\n\u001b[1;32m----> 1\u001b[1;33m \u001b[0mair\u001b[0m \u001b[1;33m=\u001b[0m \u001b[0mpd\u001b[0m\u001b[1;33m.\u001b[0m\u001b[0mread_csv\u001b[0m\u001b[1;33m(\u001b[0m\u001b[1;34m'../assets/datasets/Airport_operations.csv'\u001b[0m\u001b[1;33m)\u001b[0m\u001b[1;33m\u001b[0m\u001b[0m\n\u001b[0m",
      "\u001b[1;31mNameError\u001b[0m: name 'pd' is not defined"
     ]
    }
   ],
   "source": [
    "air = pd.read_csv('../assets/datasets/Airport_operations.csv')"
   ]
  },
  {
   "cell_type": "code",
   "execution_count": 8,
   "metadata": {
    "collapsed": false
   },
   "outputs": [
    {
     "data": {
      "text/plain": [
       "(841, 15)"
      ]
     },
     "execution_count": 8,
     "metadata": {},
     "output_type": "execute_result"
    }
   ],
   "source": [
    "air.head()\n",
    "air.shape"
   ]
  },
  {
   "cell_type": "markdown",
   "metadata": {},
   "source": [
    "First, let's define the x and y variables: Airport is going to be our \"x\" variable"
   ]
  },
  {
   "cell_type": "code",
   "execution_count": 36,
   "metadata": {
    "collapsed": true
   },
   "outputs": [],
   "source": []
  },
  {
   "cell_type": "markdown",
   "metadata": {},
   "source": [
    "Then, standardize the x variable for analysis"
   ]
  },
  {
   "cell_type": "code",
   "execution_count": 37,
   "metadata": {
    "collapsed": false
   },
   "outputs": [],
   "source": []
  },
  {
   "cell_type": "markdown",
   "metadata": {},
   "source": [
    "Next, create the covariance matrix from the standardized x-values and decompose these values to find the eigenvalues and eigenvectors"
   ]
  },
  {
   "cell_type": "code",
   "execution_count": 38,
   "metadata": {
    "collapsed": false
   },
   "outputs": [],
   "source": []
  },
  {
   "cell_type": "markdown",
   "metadata": {},
   "source": [
    "Then, check your eigenvalues and eigenvectors:"
   ]
  },
  {
   "cell_type": "code",
   "execution_count": null,
   "metadata": {
    "collapsed": true
   },
   "outputs": [],
   "source": []
  },
  {
   "cell_type": "markdown",
   "metadata": {},
   "source": [
    "To find the principal componants, find the eigenpairs, and sort them from highest to lowest. "
   ]
  },
  {
   "cell_type": "code",
   "execution_count": null,
   "metadata": {
    "collapsed": true
   },
   "outputs": [],
   "source": []
  },
  {
   "cell_type": "markdown",
   "metadata": {},
   "source": [
    "Next, Calculate the explained variance"
   ]
  },
  {
   "cell_type": "code",
   "execution_count": 41,
   "metadata": {
    "collapsed": false
   },
   "outputs": [],
   "source": []
  },
  {
   "cell_type": "markdown",
   "metadata": {},
   "source": [
    "Finally, conduct the PCA - use the results about to guide your selection of \"n\" componants"
   ]
  },
  {
   "cell_type": "code",
   "execution_count": 49,
   "metadata": {
    "collapsed": false
   },
   "outputs": [],
   "source": []
  }
 ],
 "metadata": {
  "kernelspec": {
   "display_name": "Python 2",
   "language": "python",
   "name": "python2"
  },
  "language_info": {
   "codemirror_mode": {
    "name": "ipython",
    "version": 2
   },
   "file_extension": ".py",
   "mimetype": "text/x-python",
   "name": "python",
   "nbconvert_exporter": "python",
   "pygments_lexer": "ipython2",
   "version": "2.7.11"
  }
 },
 "nbformat": 4,
 "nbformat_minor": 0
}
