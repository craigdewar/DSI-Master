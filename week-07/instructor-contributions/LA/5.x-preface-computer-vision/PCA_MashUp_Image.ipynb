{
 "cells": [
  {
   "cell_type": "code",
   "execution_count": null,
   "metadata": {
    "collapsed": false
   },
   "outputs": [],
   "source": [
    "from PIL import Image\n",
    "from numpy import *\n",
    "\n",
    "def pca(X):\n",
    "  # Principal Component Analysis\n",
    "  # input: X, matrix with training data as flattened arrays in rows\n",
    "  # return: projection matrix (with important dimensions first),\n",
    "  # variance and mean\n",
    "\n",
    "  #get dimensions\n",
    "  num_data,dim = X.shape\n",
    "\n",
    "  #center data\n",
    "  mean_X = X.mean(axis=0)\n",
    "  for i in range(num_data):\n",
    "      X[i] -= mean_X\n",
    "\n",
    "  if dim>100:\n",
    "      print 'PCA - compact trick used'\n",
    "      M = dot(X,X.T) #covariance matrix\n",
    "      e,EV = linalg.eigh(M) #eigenvalues and eigenvectors\n",
    "      tmp = dot(X.T,EV).T #this is the compact trick\n",
    "      V = tmp[::-1] #reverse since last eigenvectors are the ones we want\n",
    "      S = sqrt(e)[::-1] #reverse since eigenvalues are in increasing order\n",
    "  else:\n",
    "      print 'PCA - SVD used'\n",
    "      U,S,V = linalg.svd(X)\n",
    "      V = V[:num_data] #only makes sense to return the first num_data\n",
    "\n",
    "  #return the projection matrix, the variance and the mean\n",
    "  return V,S,mean_X"
   ]
  },
  {
   "cell_type": "code",
   "execution_count": null,
   "metadata": {
    "collapsed": false
   },
   "outputs": [],
   "source": [
    "import os\n",
    "imlist = os.listdir(\"gwb_cropped\")\n",
    "imlist = ['gwb_cropped/' + i for i in imlist][1:]"
   ]
  },
  {
   "cell_type": "code",
   "execution_count": null,
   "metadata": {
    "collapsed": false
   },
   "outputs": [],
   "source": [
    "from PIL import Image\n",
    "import numpy\n",
    "import pylab\n",
    "%matplotlib inline\n",
    "\n",
    "im = numpy.array(Image.open(imlist[0])) #open one image to get the size\n",
    "m,n = im.shape[0:2] #get the size of the images\n",
    "imnbr = len(imlist) #get the number of images\n",
    "\n",
    "#create matrix to store all flattened images\n",
    "immatrix = numpy.array([numpy.array(Image.open(imlist[i])).flatten() for i in range(imnbr)],'f')\n",
    "\n",
    "#perform PCA\n",
    "V,S,immean = pca(immatrix)\n",
    "\n",
    "#mean image and first mode of variation\n",
    "immean = immean.reshape(m,n)\n",
    "mode = V[0].reshape(m,n)\n",
    "\n",
    "#show the images\n",
    "pylab.figure()\n",
    "pylab.gray()\n",
    "pylab.imshow(immean)\n",
    "\n",
    "pylab.figure()\n",
    "pylab.gray()\n",
    "pylab.imshow(mode)\n",
    "\n",
    "pylab.show()"
   ]
  },
  {
   "cell_type": "markdown",
   "metadata": {},
   "source": [
    "#### The first image represents the mean image ('mash up') of the 20 sample images whereas the second image is PC1 (the direction with the most variation).  "
   ]
  },
  {
   "cell_type": "markdown",
   "metadata": {},
   "source": [
    "Reproduced for educational purposes from http://vis-www.cs.umass.edu/lfw/index.html"
   ]
  }
 ],
 "metadata": {
  "kernelspec": {
   "display_name": "Python 2",
   "language": "python",
   "name": "python2"
  },
  "language_info": {
   "codemirror_mode": {
    "name": "ipython",
    "version": 2
   },
   "file_extension": ".py",
   "mimetype": "text/x-python",
   "name": "python",
   "nbconvert_exporter": "python",
   "pygments_lexer": "ipython2",
   "version": "2.7.11"
  },
  "widgets": {
   "state": {},
   "version": "1.1.2"
  }
 },
 "nbformat": 4,
 "nbformat_minor": 0
}
