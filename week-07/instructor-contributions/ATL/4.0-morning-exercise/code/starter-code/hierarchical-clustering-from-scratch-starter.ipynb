{
 "cells": [
  {
   "cell_type": "markdown",
   "metadata": {},
   "source": [
    "# hierarchical clustering from scratch!\n",
    "Writing your own hierarchical clustering algorithm will reinforce your understanding of how it works, improve your Python skills, and it's not as hard as you think.\n",
    "## Refresher on how (agglomerative) hierarchical clustering works\n",
    "Start off by treating each point as its own cluster.  The two closest points get joined into a cluster.  Repeat, but now a \"point\" can be a point or a cluster.\n",
    "## Initialize the clusters\n",
    "We will start out with two big clusters, as in the k-means-from-scratch exercise."
   ]
  },
  {
   "cell_type": "code",
   "execution_count": 1,
   "metadata": {
    "collapsed": true
   },
   "outputs": [],
   "source": [
    "import random\n",
    "import numpy as np\n",
    "from matplotlib import pyplot as plt\n",
    "import pandas as pd\n",
    "from scipy.spatial import distance\n",
    "%matplotlib inline"
   ]
  },
  {
   "cell_type": "code",
   "execution_count": 2,
   "metadata": {
    "collapsed": false
   },
   "outputs": [
    {
     "data": {
      "image/png": "[encoded data removed]",
      "text/plain": [
       "<matplotlib.figure.Figure at 0x1153e6310>"
      ]
     },
     "metadata": {},
     "output_type": "display_data"
    }
   ],
   "source": [
    "# Create points\n",
    "sizeOfClusters = 5\n",
    "\n",
    "cluster1 = pd.DataFrame(columns=[\"x\",\"y\",\"cluster\",\"color\",\"centroid\"])\n",
    "for i in range(sizeOfClusters):\n",
    "    # This will make a cluster of points centered around (0,0), with sd = 1\n",
    "    x = random.gauss(0,1) # gauss(mean, sd) (guassian distribution <=> normal distribution)\n",
    "    y = random.gauss(0,1)\n",
    "    cluster1.loc[i] = [x,y,1,'bo',np.array([x,y])]\n",
    "    \n",
    "cluster2 = pd.DataFrame(columns=[\"x\",\"y\",\"cluster\",\"color\",\"centroid\"])\n",
    "for i in range(sizeOfClusters):\n",
    "    # This will make a cluster of points centered around (5,5), with sd = 1\n",
    "    x = random.gauss(5,1)\n",
    "    y = random.gauss(5,1)\n",
    "    cluster2.loc[i] = [x,y,2,'r+',np.array([x,y])]\n",
    "\n",
    "plt.plot(cluster1.x,cluster1.y,'bo')\n",
    "plt.plot(cluster2.x,cluster2.y,'r+')\n",
    "plt.show()"
   ]
  },
  {
   "cell_type": "code",
   "execution_count": 3,
   "metadata": {
    "collapsed": false
   },
   "outputs": [
    {
     "data": {
      "image/png": "[encoded data removed]",
      "text/plain": [
       "<matplotlib.figure.Figure at 0x1153d74d0>"
      ]
     },
     "metadata": {},
     "output_type": "display_data"
    }
   ],
   "source": [
    "# Now we combine the datasets, and you have to hierarchically cluster them.\n",
    "clusterF = pd.concat([cluster1,cluster2]).reset_index(drop=True)\n",
    "clusterF.cluster = range(len(clusterF)) # Each starts out as its own cluster.\n",
    "# We give them all distinct colors so we can distinguish between the clusters.\n",
    "colors = ['bo', 'go', 'ro', 'co', 'mo', 'b+', 'g+', 'r+', 'c+', 'm+']\n",
    "clusterF[\"color\"] = colors\n",
    "for i in range(len(clusterF)):\n",
    "    plt.plot(clusterF.loc[i,\"x\"],clusterF.loc[i,\"y\"],clusterF.loc[i,\"color\"])\n",
    "plt.show()"
   ]
  },
  {
   "cell_type": "code",
   "execution_count": 4,
   "metadata": {
    "collapsed": false
   },
   "outputs": [
    {
     "data": {
      "text/html": [
       "<div>\n",
       "<table border=\"1\" class=\"dataframe\">\n",
       "  <thead>\n",
       "    <tr style=\"text-align: right;\">\n",
       "      <th></th>\n",
       "      <th>x</th>\n",
       "      <th>y</th>\n",
       "      <th>cluster</th>\n",
       "      <th>color</th>\n",
       "      <th>centroid</th>\n",
       "    </tr>\n",
       "  </thead>\n",
       "  <tbody>\n",
       "    <tr>\n",
       "      <th>0</th>\n",
       "      <td>0.645143</td>\n",
       "      <td>-0.305575</td>\n",
       "      <td>0</td>\n",
       "      <td>bo</td>\n",
       "      <td>[0.645142618538, -0.305575092849]</td>\n",
       "    </tr>\n",
       "    <tr>\n",
       "      <th>1</th>\n",
       "      <td>-1.217978</td>\n",
       "      <td>-0.486738</td>\n",
       "      <td>1</td>\n",
       "      <td>go</td>\n",
       "      <td>[-1.21797838346, -0.48673769146]</td>\n",
       "    </tr>\n",
       "    <tr>\n",
       "      <th>2</th>\n",
       "      <td>1.952255</td>\n",
       "      <td>1.414473</td>\n",
       "      <td>2</td>\n",
       "      <td>ro</td>\n",
       "      <td>[1.95225482481, 1.41447288326]</td>\n",
       "    </tr>\n",
       "    <tr>\n",
       "      <th>3</th>\n",
       "      <td>-2.815739</td>\n",
       "      <td>-0.483346</td>\n",
       "      <td>3</td>\n",
       "      <td>co</td>\n",
       "      <td>[-2.81573893494, -0.483345898722]</td>\n",
       "    </tr>\n",
       "    <tr>\n",
       "      <th>4</th>\n",
       "      <td>-0.116224</td>\n",
       "      <td>0.207314</td>\n",
       "      <td>4</td>\n",
       "      <td>mo</td>\n",
       "      <td>[-0.116223641662, 0.207313582911]</td>\n",
       "    </tr>\n",
       "    <tr>\n",
       "      <th>5</th>\n",
       "      <td>6.328945</td>\n",
       "      <td>3.985905</td>\n",
       "      <td>5</td>\n",
       "      <td>b+</td>\n",
       "      <td>[6.32894546876, 3.98590482217]</td>\n",
       "    </tr>\n",
       "    <tr>\n",
       "      <th>6</th>\n",
       "      <td>4.867611</td>\n",
       "      <td>5.649025</td>\n",
       "      <td>6</td>\n",
       "      <td>g+</td>\n",
       "      <td>[4.86761062456, 5.64902494603]</td>\n",
       "    </tr>\n",
       "    <tr>\n",
       "      <th>7</th>\n",
       "      <td>3.682681</td>\n",
       "      <td>3.948349</td>\n",
       "      <td>7</td>\n",
       "      <td>r+</td>\n",
       "      <td>[3.68268055002, 3.94834895795]</td>\n",
       "    </tr>\n",
       "    <tr>\n",
       "      <th>8</th>\n",
       "      <td>5.707797</td>\n",
       "      <td>6.011013</td>\n",
       "      <td>8</td>\n",
       "      <td>c+</td>\n",
       "      <td>[5.70779654192, 6.01101286541]</td>\n",
       "    </tr>\n",
       "    <tr>\n",
       "      <th>9</th>\n",
       "      <td>7.445545</td>\n",
       "      <td>4.896226</td>\n",
       "      <td>9</td>\n",
       "      <td>m+</td>\n",
       "      <td>[7.44554481969, 4.89622648894]</td>\n",
       "    </tr>\n",
       "  </tbody>\n",
       "</table>\n",
       "</div>"
      ],
      "text/plain": [
       "          x         y  cluster color                           centroid\n",
       "0  0.645143 -0.305575        0    bo  [0.645142618538, -0.305575092849]\n",
       "1 -1.217978 -0.486738        1    go   [-1.21797838346, -0.48673769146]\n",
       "2  1.952255  1.414473        2    ro     [1.95225482481, 1.41447288326]\n",
       "3 -2.815739 -0.483346        3    co  [-2.81573893494, -0.483345898722]\n",
       "4 -0.116224  0.207314        4    mo  [-0.116223641662, 0.207313582911]\n",
       "5  6.328945  3.985905        5    b+     [6.32894546876, 3.98590482217]\n",
       "6  4.867611  5.649025        6    g+     [4.86761062456, 5.64902494603]\n",
       "7  3.682681  3.948349        7    r+     [3.68268055002, 3.94834895795]\n",
       "8  5.707797  6.011013        8    c+     [5.70779654192, 6.01101286541]\n",
       "9  7.445545  4.896226        9    m+     [7.44554481969, 4.89622648894]"
      ]
     },
     "execution_count": 4,
     "metadata": {},
     "output_type": "execute_result"
    }
   ],
   "source": [
    "clusterF"
   ]
  },
  {
   "cell_type": "markdown",
   "metadata": {},
   "source": [
    "## Let's write some pseudo-code\n",
    "#### For an extra challenge to yourself, don't read the pseudo-code; just go off of your understanding of agglomerative hierarchical clustering.\n",
    "1. Begin with each point being its own cluster.\n",
    "2. Calculate the distances between all clusters (remember, a cluster can be one or more points, but initially, will be only one).\n",
    "3. Merge the two closest clusters. (Update the cluster column and the centroids for the newly merged clusters; also, update the color column, for the sake of the plot.)\n",
    "4. Repeat steps 2 and 3 until you have one big cluster.\n",
    "\n",
    "Note: we will use centroid linkage clustering.  That is to say, the distance between cluster `a` and cluster `b` will be defined as the distance between the centroids of the points in `a` and the points in `b` (the centroid of a set of points is just the average of the points).\n",
    "\n",
    "## Now, let's write some real code!"
   ]
  },
  {
   "cell_type": "code",
   "execution_count": 48,
   "metadata": {
    "collapsed": true
   },
   "outputs": [],
   "source": [
    "def notOneCluster(clusterF):\n",
    "    clusterRow0 = clusterF.loc[0,\"cluster\"]\n",
    "    for i in range(len(clusterF)):\n",
    "        if (clusterF.loc[i,\"cluster\"] != clusterRow0):\n",
    "            return True\n",
    "    return False"
   ]
  },
  {
   "cell_type": "code",
   "execution_count": 49,
   "metadata": {
    "collapsed": false,
    "scrolled": false
   },
   "outputs": [
    {
     "name": "stdout",
     "output_type": "stream",
     "text": [
      "          x         y  cluster color                            centroid\n",
      "0  1.491942  0.443847        0    bo     [1.49194211624, 0.443847214001]\n",
      "1 -0.343540  1.090861        1    go    [-0.343540187221, 1.09086070335]\n",
      "2  1.746589  1.902462        2    ro      [1.74658921902, 1.90246153659]\n",
      "3 -0.256571 -1.448341        3    co   [-0.256570819968, -1.44834052861]\n",
      "4 -0.337433 -0.199124        4    mo  [-0.337433343757, -0.199123669887]\n",
      "5  6.807015  4.386760        5    b+      [6.80701455592, 4.38676042773]\n",
      "6  5.059090  4.846242        6    g+      [5.05909029553, 4.84624170358]\n",
      "7  6.193499  5.082259        7    r+      [6.19349914043, 5.08225902563]\n",
      "8  5.066642  5.053443        8    c+      [5.06664196096, 5.05344347676]\n",
      "9  5.380333  3.494010        9    m+      [5.38033320228, 3.49401043255]\n"
     ]
    },
    {
     "data": {
      "image/png": "[encoded data removed]",
      "text/plain": [
       "<matplotlib.figure.Figure at 0x118fbdc10>"
      ]
     },
     "metadata": {},
     "output_type": "display_data"
    },
    {
     "name": "stdout",
     "output_type": "stream",
     "text": [
      "currentCentroid [ 5.0590903  4.8462417] newCentroid [ 5.06286613  4.94984259]\n",
      "currentCentroid [ 5.06664196  5.05344348] newCentroid [ 5.06286613  4.94984259]\n",
      "          x         y  cluster color                            centroid\n",
      "0  1.491942  0.443847        0    bo     [1.49194211624, 0.443847214001]\n",
      "1 -0.343540  1.090861        1    go    [-0.343540187221, 1.09086070335]\n",
      "2  1.746589  1.902462        2    ro      [1.74658921902, 1.90246153659]\n",
      "3 -0.256571 -1.448341        3    co   [-0.256570819968, -1.44834052861]\n",
      "4 -0.337433 -0.199124        4    mo  [-0.337433343757, -0.199123669887]\n",
      "5  6.807015  4.386760        5    b+      [6.80701455592, 4.38676042773]\n",
      "6  5.059090  4.846242        6    g+      [5.06286612824, 4.94984259017]\n",
      "7  6.193499  5.082259        7    r+      [6.19349914043, 5.08225902563]\n",
      "8  5.066642  5.053443        6    g+      [5.06286612824, 4.94984259017]\n",
      "9  5.380333  3.494010        9    m+      [5.38033320228, 3.49401043255]\n"
     ]
    },
    {
     "data": {
      "image/png": "[encoded data removed]",
      "text/plain": [
       "<matplotlib.figure.Figure at 0x11818b490>"
      ]
     },
     "metadata": {},
     "output_type": "display_data"
    },
    {
     "name": "stdout",
     "output_type": "stream",
     "text": [
      "currentCentroid [ 6.80701456  4.38676043] newCentroid [ 6.50025685  4.73450973]\n",
      "currentCentroid [ 6.19349914  5.08225903] newCentroid [ 6.50025685  4.73450973]\n",
      "          x         y  cluster color                            centroid\n",
      "0  1.491942  0.443847        0    bo     [1.49194211624, 0.443847214001]\n",
      "1 -0.343540  1.090861        1    go    [-0.343540187221, 1.09086070335]\n",
      "2  1.746589  1.902462        2    ro      [1.74658921902, 1.90246153659]\n",
      "3 -0.256571 -1.448341        3    co   [-0.256570819968, -1.44834052861]\n",
      "4 -0.337433 -0.199124        4    mo  [-0.337433343757, -0.199123669887]\n",
      "5  6.807015  4.386760        5    b+      [6.50025684817, 4.73450972668]\n",
      "6  5.059090  4.846242        6    g+      [5.06286612824, 4.94984259017]\n",
      "7  6.193499  5.082259        5    b+      [6.50025684817, 4.73450972668]\n",
      "8  5.066642  5.053443        6    g+      [5.06286612824, 4.94984259017]\n",
      "9  5.380333  3.494010        9    m+      [5.38033320228, 3.49401043255]\n"
     ]
    },
    {
     "data": {
      "image/png": "[encoded data removed]",
      "text/plain": [
       "<matplotlib.figure.Figure at 0x1183100d0>"
      ]
     },
     "metadata": {},
     "output_type": "display_data"
    },
    {
     "name": "stdout",
     "output_type": "stream",
     "text": [
      "currentCentroid [-0.25657082 -1.44834053] newCentroid [-0.29700208 -0.8237321 ]\n",
      "currentCentroid [-0.33743334 -0.19912367] newCentroid [-0.29700208 -0.8237321 ]\n",
      "          x         y  cluster color                            centroid\n",
      "0  1.491942  0.443847        0    bo     [1.49194211624, 0.443847214001]\n",
      "1 -0.343540  1.090861        1    go    [-0.343540187221, 1.09086070335]\n",
      "2  1.746589  1.902462        2    ro      [1.74658921902, 1.90246153659]\n",
      "3 -0.256571 -1.448341        3    co  [-0.297002081862, -0.823732099249]\n",
      "4 -0.337433 -0.199124        3    co  [-0.297002081862, -0.823732099249]\n",
      "5  6.807015  4.386760        5    b+      [6.50025684817, 4.73450972668]\n",
      "6  5.059090  4.846242        6    g+      [5.06286612824, 4.94984259017]\n",
      "7  6.193499  5.082259        5    b+      [6.50025684817, 4.73450972668]\n",
      "8  5.066642  5.053443        6    g+      [5.06286612824, 4.94984259017]\n",
      "9  5.380333  3.494010        9    m+      [5.38033320228, 3.49401043255]\n"
     ]
    },
    {
     "data": {
      "image/png": "[encoded data removed]",
      "text/plain": [
       "<matplotlib.figure.Figure at 0x119014c10>"
      ]
     },
     "metadata": {},
     "output_type": "display_data"
    },
    {
     "name": "stdout",
     "output_type": "stream",
     "text": [
      "currentCentroid [ 6.50025685  4.73450973] newCentroid [ 5.78156149  4.84217616]\n",
      "currentCentroid [ 5.06286613  4.94984259] newCentroid [ 5.78156149  4.84217616]\n",
      "currentCentroid [ 6.50025685  4.73450973] newCentroid [ 5.78156149  4.84217616]\n",
      "currentCentroid [ 5.06286613  4.94984259] newCentroid [ 5.78156149  4.84217616]\n",
      "          x         y  cluster color                            centroid\n",
      "0  1.491942  0.443847        0    bo     [1.49194211624, 0.443847214001]\n",
      "1 -0.343540  1.090861        1    go    [-0.343540187221, 1.09086070335]\n",
      "2  1.746589  1.902462        2    ro      [1.74658921902, 1.90246153659]\n",
      "3 -0.256571 -1.448341        3    co  [-0.297002081862, -0.823732099249]\n",
      "4 -0.337433 -0.199124        3    co  [-0.297002081862, -0.823732099249]\n",
      "5  6.807015  4.386760        5    b+      [5.78156148821, 4.84217615843]\n",
      "6  5.059090  4.846242        5    b+      [5.78156148821, 4.84217615843]\n",
      "7  6.193499  5.082259        5    b+      [5.78156148821, 4.84217615843]\n",
      "8  5.066642  5.053443        5    b+      [5.78156148821, 4.84217615843]\n",
      "9  5.380333  3.494010        9    m+      [5.38033320228, 3.49401043255]\n"
     ]
    },
    {
     "data": {
      "image/png": "[encoded data removed]",
      "text/plain": [
       "<matplotlib.figure.Figure at 0x118c36e10>"
      ]
     },
     "metadata": {},
     "output_type": "display_data"
    },
    {
     "name": "stdout",
     "output_type": "stream",
     "text": [
      "currentCentroid [ 5.78156149  4.84217616] newCentroid [ 5.70131583  4.57254301]\n",
      "currentCentroid [ 5.78156149  4.84217616] newCentroid [ 5.70131583  4.57254301]\n",
      "currentCentroid [ 5.78156149  4.84217616] newCentroid [ 5.70131583  4.57254301]\n",
      "currentCentroid [ 5.78156149  4.84217616] newCentroid [ 5.70131583  4.57254301]\n",
      "currentCentroid [ 5.3803332   3.49401043] newCentroid [ 5.70131583  4.57254301]\n",
      "          x         y  cluster color                            centroid\n",
      "0  1.491942  0.443847        0    bo     [1.49194211624, 0.443847214001]\n",
      "1 -0.343540  1.090861        1    go    [-0.343540187221, 1.09086070335]\n",
      "2  1.746589  1.902462        2    ro      [1.74658921902, 1.90246153659]\n",
      "3 -0.256571 -1.448341        3    co  [-0.297002081862, -0.823732099249]\n",
      "4 -0.337433 -0.199124        3    co  [-0.297002081862, -0.823732099249]\n",
      "5  6.807015  4.386760        5    b+      [5.70131583102, 4.57254301325]\n",
      "6  5.059090  4.846242        5    b+      [5.70131583102, 4.57254301325]\n",
      "7  6.193499  5.082259        5    b+      [5.70131583102, 4.57254301325]\n",
      "8  5.066642  5.053443        5    b+      [5.70131583102, 4.57254301325]\n",
      "9  5.380333  3.494010        5    b+      [5.70131583102, 4.57254301325]\n"
     ]
    },
    {
     "data": {
      "image/png": "[encoded data removed]",
      "text/plain": [
       "<matplotlib.figure.Figure at 0x118e5d190>"
      ]
     },
     "metadata": {},
     "output_type": "display_data"
    },
    {
     "name": "stdout",
     "output_type": "stream",
     "text": [
      "currentCentroid [ 1.49194212  0.44384721] newCentroid [ 1.61926567  1.17315438]\n",
      "currentCentroid [ 1.74658922  1.90246154] newCentroid [ 1.61926567  1.17315438]\n",
      "          x         y  cluster color                            centroid\n",
      "0  1.491942  0.443847        0    bo      [1.61926566763, 1.17315437529]\n",
      "1 -0.343540  1.090861        1    go    [-0.343540187221, 1.09086070335]\n",
      "2  1.746589  1.902462        0    bo      [1.61926566763, 1.17315437529]\n",
      "3 -0.256571 -1.448341        3    co  [-0.297002081862, -0.823732099249]\n",
      "4 -0.337433 -0.199124        3    co  [-0.297002081862, -0.823732099249]\n",
      "5  6.807015  4.386760        5    b+      [5.70131583102, 4.57254301325]\n",
      "6  5.059090  4.846242        5    b+      [5.70131583102, 4.57254301325]\n",
      "7  6.193499  5.082259        5    b+      [5.70131583102, 4.57254301325]\n",
      "8  5.066642  5.053443        5    b+      [5.70131583102, 4.57254301325]\n",
      "9  5.380333  3.494010        5    b+      [5.70131583102, 4.57254301325]\n"
     ]
    },
    {
     "data": {
      "image/png": "[encoded data removed]",
      "text/plain": [
       "<matplotlib.figure.Figure at 0x118ef1d50>"
      ]
     },
     "metadata": {},
     "output_type": "display_data"
    },
    {
     "name": "stdout",
     "output_type": "stream",
     "text": [
      "currentCentroid [-0.34354019  1.0908607 ] newCentroid [-0.31251478 -0.1855345 ]\n",
      "currentCentroid [-0.29700208 -0.8237321 ] newCentroid [-0.31251478 -0.1855345 ]\n",
      "currentCentroid [-0.29700208 -0.8237321 ] newCentroid [-0.31251478 -0.1855345 ]\n",
      "          x         y  cluster color                            centroid\n",
      "0  1.491942  0.443847        0    bo      [1.61926566763, 1.17315437529]\n",
      "1 -0.343540  1.090861        1    go  [-0.312514783649, -0.185534498381]\n",
      "2  1.746589  1.902462        0    bo      [1.61926566763, 1.17315437529]\n",
      "3 -0.256571 -1.448341        1    go  [-0.312514783649, -0.185534498381]\n",
      "4 -0.337433 -0.199124        1    go  [-0.312514783649, -0.185534498381]\n",
      "5  6.807015  4.386760        5    b+      [5.70131583102, 4.57254301325]\n",
      "6  5.059090  4.846242        5    b+      [5.70131583102, 4.57254301325]\n",
      "7  6.193499  5.082259        5    b+      [5.70131583102, 4.57254301325]\n",
      "8  5.066642  5.053443        5    b+      [5.70131583102, 4.57254301325]\n",
      "9  5.380333  3.494010        5    b+      [5.70131583102, 4.57254301325]\n"
     ]
    },
    {
     "data": {
      "image/png": "[encoded data removed]",
      "text/plain": [
       "<matplotlib.figure.Figure at 0x11886f910>"
      ]
     },
     "metadata": {},
     "output_type": "display_data"
    },
    {
     "name": "stdout",
     "output_type": "stream",
     "text": [
      "currentCentroid [ 1.61926567  1.17315438] newCentroid [ 0.4601974   0.35794105]\n",
      "currentCentroid [-0.31251478 -0.1855345 ] newCentroid [ 0.4601974   0.35794105]\n",
      "currentCentroid [ 1.61926567  1.17315438] newCentroid [ 0.4601974   0.35794105]\n",
      "currentCentroid [-0.31251478 -0.1855345 ] newCentroid [ 0.4601974   0.35794105]\n",
      "currentCentroid [-0.31251478 -0.1855345 ] newCentroid [ 0.4601974   0.35794105]\n",
      "          x         y  cluster color                          centroid\n",
      "0  1.491942  0.443847        0    bo  [0.460197396864, 0.357941051089]\n",
      "1 -0.343540  1.090861        0    bo  [0.460197396864, 0.357941051089]\n",
      "2  1.746589  1.902462        0    bo  [0.460197396864, 0.357941051089]\n",
      "3 -0.256571 -1.448341        0    bo  [0.460197396864, 0.357941051089]\n",
      "4 -0.337433 -0.199124        0    bo  [0.460197396864, 0.357941051089]\n",
      "5  6.807015  4.386760        5    b+    [5.70131583102, 4.57254301325]\n",
      "6  5.059090  4.846242        5    b+    [5.70131583102, 4.57254301325]\n",
      "7  6.193499  5.082259        5    b+    [5.70131583102, 4.57254301325]\n",
      "8  5.066642  5.053443        5    b+    [5.70131583102, 4.57254301325]\n",
      "9  5.380333  3.494010        5    b+    [5.70131583102, 4.57254301325]\n"
     ]
    },
    {
     "data": {
      "image/png": "[encoded data removed]",
      "text/plain": [
       "<matplotlib.figure.Figure at 0x118195990>"
      ]
     },
     "metadata": {},
     "output_type": "display_data"
    },
    {
     "name": "stdout",
     "output_type": "stream",
     "text": [
      "currentCentroid [ 0.4601974   0.35794105] newCentroid [ 3.08075661  2.46524203]\n",
      "currentCentroid [ 0.4601974   0.35794105] newCentroid [ 3.08075661  2.46524203]\n",
      "currentCentroid [ 0.4601974   0.35794105] newCentroid [ 3.08075661  2.46524203]\n",
      "currentCentroid [ 0.4601974   0.35794105] newCentroid [ 3.08075661  2.46524203]\n",
      "currentCentroid [ 0.4601974   0.35794105] newCentroid [ 3.08075661  2.46524203]\n",
      "currentCentroid [ 5.70131583  4.57254301] newCentroid [ 3.08075661  2.46524203]\n",
      "currentCentroid [ 5.70131583  4.57254301] newCentroid [ 3.08075661  2.46524203]\n",
      "currentCentroid [ 5.70131583  4.57254301] newCentroid [ 3.08075661  2.46524203]\n",
      "currentCentroid [ 5.70131583  4.57254301] newCentroid [ 3.08075661  2.46524203]\n",
      "currentCentroid [ 5.70131583  4.57254301] newCentroid [ 3.08075661  2.46524203]\n"
     ]
    }
   ],
   "source": [
    "while (notOneCluster(clusterF)):\n",
    "    # Plot within the loop so you can see the progress\n",
    "    print(clusterF)\n",
    "    for i in range(len(clusterF)):\n",
    "        plt.plot(clusterF.loc[i,\"x\"],clusterF.loc[i,\"y\"],clusterF.loc[i,\"color\"])\n",
    "    plt.show()\n",
    "    # Find the minimum distance clusters\n",
    "\n",
    "    # Merge the minimum distance clusters: jCluster's become iCluster's.\n",
    "\n",
    "    # Recalculate the centroids for the newly merged clusters\n"
   ]
  }
 ],
 "metadata": {
  "kernelspec": {
   "display_name": "Python 2",
   "language": "python",
   "name": "python2"
  },
  "language_info": {
   "codemirror_mode": {
    "name": "ipython",
    "version": 2
   },
   "file_extension": ".py",
   "mimetype": "text/x-python",
   "name": "python",
   "nbconvert_exporter": "python",
   "pygments_lexer": "ipython2",
   "version": "2.7.12"
  }
 },
 "nbformat": 4,
 "nbformat_minor": 0
}
