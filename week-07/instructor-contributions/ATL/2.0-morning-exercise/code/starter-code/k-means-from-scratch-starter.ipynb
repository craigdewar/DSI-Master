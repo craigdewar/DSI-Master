{
 "cells": [
  {
   "cell_type": "markdown",
   "metadata": {},
   "source": [
    "# k-means from scratch!\n",
    "Writing your own k-means algorithm will reinforce your understanding of how it works, improve your Python skills, and it's not as hard as you think.\n",
    "## Refresher on how the k-means works\n",
    "The goal of the k-means algorithm is to put each data point into one of k clusters, minimizing the within-cluster-sum-of-squares, where sum-of-squares is referring to the sum of the squared errors between a data point and the centroid of the cluster.\n",
    "## Initialize the clusters"
   ]
  },
  {
   "cell_type": "code",
   "execution_count": null,
   "metadata": {
    "collapsed": true
   },
   "outputs": [],
   "source": [
    "import random\n",
    "import numpy as np\n",
    "from matplotlib import pyplot as plt\n",
    "import pandas as pd\n",
    "from scipy.spatial import distance\n",
    "%matplotlib inline"
   ]
  },
  {
   "cell_type": "code",
   "execution_count": null,
   "metadata": {
    "collapsed": false
   },
   "outputs": [],
   "source": [
    "# Create points\n",
    "sizeOfClusters = 10\n",
    "\n",
    "cluster1 = pd.DataFrame(columns=[\"x\",\"y\",\"cluster\"])\n",
    "for i in range(sizeOfClusters):\n",
    "    # This will make a cluster of points centered around (0,0), with sd = 1\n",
    "    x = random.gauss(0,1) # gauss(mean, sd) (guassian distribution <=> normal distribution)\n",
    "    y = random.gauss(0,1)\n",
    "    cluster1.loc[i] = [x,y,1]\n",
    "    \n",
    "cluster2 = pd.DataFrame(columns=[\"x\",\"y\",\"cluster\"])\n",
    "for i in range(sizeOfClusters):\n",
    "    # This will make a cluster of points centered around (5,5), with sd = 1\n",
    "    x = random.gauss(5,1)\n",
    "    y = random.gauss(5,1)\n",
    "    cluster2.loc[i] = [x,y,2]\n",
    "\n",
    "plt.plot(cluster1.x,cluster1.y,'bo')\n",
    "plt.plot(cluster2.x,cluster2.y,'r+')\n",
    "plt.show()"
   ]
  },
  {
   "cell_type": "code",
   "execution_count": null,
   "metadata": {
    "collapsed": false
   },
   "outputs": [],
   "source": [
    "# Now we combine the datasets, and you have to disentangle them with k-means\n",
    "clusterF = pd.concat([cluster1,cluster2]).reset_index(drop=True)\n",
    "clusterF.apply(np.random.shuffle,axis=1)\n",
    "clusterFPrevious = clusterF.copy(deep=True)\n",
    "clusterF.cluster = np.nan\n",
    "plt.plot(clusterF.x,clusterF.y,'bo')"
   ]
  },
  {
   "cell_type": "code",
   "execution_count": null,
   "metadata": {
    "collapsed": false
   },
   "outputs": [],
   "source": [
    "clusterF.head()"
   ]
  },
  {
   "cell_type": "code",
   "execution_count": null,
   "metadata": {
    "collapsed": false
   },
   "outputs": [],
   "source": [
    "clusterFPrevious.head()"
   ]
  },
  {
   "cell_type": "markdown",
   "metadata": {},
   "source": [
    "## Let's write some pseudo-code\n",
    "#### For an extra challenge to yourself, don't read the pseudo-code; just go off of your understanding of k-means.\n",
    "1. Take `k` as given.\n",
    "2. Choose `k` points randomly from your dataset; set your initial centroids to these points.\n",
    "3. Calculate the distances from each data point in the whole set to each centroid.\n",
    "4. Put each data point in the cluster whose centroid it is closest to.\n",
    "5. Update the centroids by taking the mean of the positions of all the current member points.\n",
    "6. Repeat steps 3 through 5 until stability is reached (i.e., no data point has changed membership to another cluster).\n",
    "\n",
    "## Now, let's write some real code!\n",
    "Just assume k=2.  You don't have to write the code to be able to generalize to any k.  (Though \"more power to you\" if you do.)"
   ]
  },
  {
   "cell_type": "code",
   "execution_count": null,
   "metadata": {
    "collapsed": false
   },
   "outputs": [],
   "source": []
  },
  {
   "cell_type": "markdown",
   "metadata": {},
   "source": [
    "## Now confirm that you have clustered the data properly by plotting it, using a different color for each cluster\n",
    "Hint: refer to where I plotted the data in blue and red in the code cell near the top of this notebook."
   ]
  },
  {
   "cell_type": "code",
   "execution_count": null,
   "metadata": {
    "collapsed": false
   },
   "outputs": [],
   "source": []
  },
  {
   "cell_type": "markdown",
   "metadata": {},
   "source": [
    "## What do you think will happen if we change the means to be closer together, or increase the standard deviations?"
   ]
  }
 ],
 "metadata": {
  "kernelspec": {
   "display_name": "Python 2",
   "language": "python",
   "name": "python2"
  },
  "language_info": {
   "codemirror_mode": {
    "name": "ipython",
    "version": 2
   },
   "file_extension": ".py",
   "mimetype": "text/x-python",
   "name": "python",
   "nbconvert_exporter": "python",
   "pygments_lexer": "ipython2",
   "version": "2.7.12"
  }
 },
 "nbformat": 4,
 "nbformat_minor": 0
}
