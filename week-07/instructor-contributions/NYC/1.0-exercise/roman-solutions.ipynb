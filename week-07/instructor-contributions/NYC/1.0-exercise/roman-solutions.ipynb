{
 "cells": [
  {
   "cell_type": "code",
   "execution_count": 1,
   "metadata": {
    "collapsed": true
   },
   "outputs": [],
   "source": [
    "def to_roman(n):\n",
    "    '''Takes a number and converts it to its roman numeral value\n",
    "    \n",
    "    to_roman(5)\n",
    "    >> 'V'\n",
    "    \n",
    "    to_roman(652)\n",
    "    >> 'DCLII\n",
    "    '''\n",
    "    \n",
    "    try:\n",
    "        n = int(n)\n",
    "    except:\n",
    "        raise ValueError(\"Please enter a number\")\n",
    "        \n",
    "    if n >= 1000 or n < 0:\n",
    "        raise ValueError(\"Number must be between 1 - 1000\")\n",
    "        \n",
    "    \n",
    "    c3 = ['','C','CC','CCC','CD','D', 'DC', 'DCC', 'DCCC', 'CM']\n",
    "    c2 = ['','X','XX','XXX','XL','L','LX','LXX','LXXX','XC']\n",
    "    c1 = ['','I','II','III','IV','V','VI','VII','VIII','IX']\n",
    "    \n",
    "    return c3[n//100] + c2[(n%100)//10] + c1[(n%10)]"
   ]
  },
  {
   "cell_type": "code",
   "execution_count": 2,
   "metadata": {
    "collapsed": false
   },
   "outputs": [
    {
     "data": {
      "text/plain": [
       "'DCCXXXI'"
      ]
     },
     "execution_count": 2,
     "metadata": {},
     "output_type": "execute_result"
    }
   ],
   "source": [
    "n = 731\n",
    "to_roman(n)"
   ]
  },
  {
   "cell_type": "code",
   "execution_count": 3,
   "metadata": {
    "collapsed": false
   },
   "outputs": [
    {
     "data": {
      "text/plain": [
       "7"
      ]
     },
     "execution_count": 3,
     "metadata": {},
     "output_type": "execute_result"
    }
   ],
   "source": [
    "n // 100"
   ]
  },
  {
   "cell_type": "code",
   "execution_count": 15,
   "metadata": {
    "collapsed": false
   },
   "outputs": [
    {
     "data": {
      "text/plain": [
       "3"
      ]
     },
     "execution_count": 15,
     "metadata": {},
     "output_type": "execute_result"
    }
   ],
   "source": [
    "n % 100 // 10"
   ]
  },
  {
   "cell_type": "code",
   "execution_count": 5,
   "metadata": {
    "collapsed": false
   },
   "outputs": [
    {
     "data": {
      "text/plain": [
       "1"
      ]
     },
     "execution_count": 5,
     "metadata": {},
     "output_type": "execute_result"
    }
   ],
   "source": [
    "n % 10"
   ]
  },
  {
   "cell_type": "code",
   "execution_count": null,
   "metadata": {
    "collapsed": true
   },
   "outputs": [],
   "source": []
  },
  {
   "cell_type": "code",
   "execution_count": 6,
   "metadata": {
    "collapsed": true
   },
   "outputs": [],
   "source": [
    "def to_roman_peter_tim(i):\n",
    "    num = \"\"\n",
    "    while i > 0:\n",
    "        if i >= 1000:\n",
    "            num += \"M\"\n",
    "            i -= 1000\n",
    "        elif i >= 900:\n",
    "            num += \"CM\"\n",
    "            i -= 900\n",
    "        elif i >= 500:\n",
    "            num += \"D\"\n",
    "            i -= 500\n",
    "        elif i >= 100:\n",
    "            num += \"C\"\n",
    "            i -= 100\n",
    "        elif i >= 90:\n",
    "            num += \"XC\"\n",
    "            i -= 90\n",
    "        elif i >= 50:\n",
    "            num += \"L\"\n",
    "            i -= 50\n",
    "        elif i >= 40:\n",
    "            num += \"XL\"\n",
    "            i -= 40\n",
    "        elif i >= 10:\n",
    "            num += \"X\"\n",
    "            i -= 10\n",
    "        elif i >= 9:\n",
    "            num += \"IX\"\n",
    "            i -= 9\n",
    "        elif i >= 5:\n",
    "            num += \"V\"\n",
    "            i -= 5\n",
    "        elif i >= 1:\n",
    "            num += \"I\"\n",
    "            i -= 1\n",
    "    return num"
   ]
  },
  {
   "cell_type": "code",
   "execution_count": 12,
   "metadata": {
    "collapsed": false
   },
   "outputs": [
    {
     "name": "stdout",
     "output_type": "stream",
     "text": [
      "Enter an integer (1 to 4999): 501\n",
      "DI\n"
     ]
    }
   ],
   "source": [
    "def to_roman_tamara(number):\n",
    "    numerals = { 1 : \"I\", 4 : \"IV\", 5 : \"V\", 9 : \"IX\", 10 : \"X\", 40 : \"XL\", \n",
    "       50 : \"L\", 90 : \"XC\", 100 : \"C\", 400 : \"CD\", 500 : \"D\", 900 : \"CM\", 1000 : \"M\" }\n",
    "    result = \"\"\n",
    "    for value, numeral in sorted(numerals.items(), reverse=True):\n",
    "        while number >= value:\n",
    "            result += numeral\n",
    "            number -= value\n",
    "    return result\n",
    "\n",
    "\n",
    "print to_roman(input(\"Enter an integer (1 to 4999): \"))"
   ]
  },
  {
   "cell_type": "code",
   "execution_count": 13,
   "metadata": {
    "collapsed": false
   },
   "outputs": [
    {
     "data": {
      "text/plain": [
       "1901"
      ]
     },
     "execution_count": 13,
     "metadata": {},
     "output_type": "execute_result"
    }
   ],
   "source": [
    "def from_romans_peter_tim(i):\n",
    "    romans = \"MDCLXVI\"\n",
    "    string = 0\n",
    "    while i != \"\":\n",
    "        if i[0] == \"M\" or i[0]== \"m\":\n",
    "            string += 1000\n",
    "            i = i[1:len(i)]\n",
    "        elif i[0:2] == \"CM\" or i[0:1]== \"cm\":\n",
    "            string += 900\n",
    "            i = i[2:len(i)]\n",
    "        elif i[0] == \"D\" or i[0]== \"d\":\n",
    "            string += 500\n",
    "            i = i[1:len(i)]\n",
    "        elif i[0] == \"C\" or i[0]== \"c\":\n",
    "            string += 100\n",
    "            i = i[1:len(i)]\n",
    "        elif i[0:2] == \"XC\" or i[0:1]== \"xc\":\n",
    "            string += 90\n",
    "            i = i[2:len(i)]\n",
    "        elif i[0] == \"L\" or i[0]== \"l\":\n",
    "            string += 50\n",
    "            i = i[1:len(i)]\n",
    "        elif i[0:2] == \"XL\" or i[0:1]== \"xl\":\n",
    "            string += 40\n",
    "            i = i[2:len(i)]\n",
    "        elif i[0] == \"X\" or i[0]== \"x\":\n",
    "            string += 10\n",
    "            i = i[1:len(i)]\n",
    "        elif i[0:1] == \"IX\" or i[0:1]== \"ix\":\n",
    "            string += 9\n",
    "            i = i[2:len(i)]\n",
    "        elif i[0] == \"V\" or i[0]== \"v\":\n",
    "            string += 5\n",
    "            i = i[1:len(i)]\n",
    "        elif i[0:2] ==\"IV\" or i[0:1]== \"iv\":\n",
    "            string += 4\n",
    "            i = i[2:len(i)]\n",
    "        elif i[0] == \"I\" or i[0]== \"i\":\n",
    "            string += 1\n",
    "            i = i[1:len(i)]\n",
    "    return string\n",
    "from_romans('MCMI')"
   ]
  },
  {
   "cell_type": "code",
   "execution_count": 7,
   "metadata": {
    "collapsed": true
   },
   "outputs": [],
   "source": [
    "def from_roman(r):\n",
    "    n = 0\n",
    "    \n",
    "    d = {'I':1,'V':5,'X':10,'L':50,'C':100,'D':500,'M':1000}\n",
    "    \n",
    "    for i in range(len(r)-1):\n",
    "        \n",
    "        if d[r[i]] >= d[r[i+1]]:\n",
    "            n += d[r[i]]\n",
    "            \n",
    "        else:\n",
    "            n -= d[r[i]] \n",
    "            \n",
    "        print n\n",
    "                \n",
    "    n += d[r[-1]]\n",
    "    \n",
    "    return n\n",
    "    "
   ]
  },
  {
   "cell_type": "code",
   "execution_count": 8,
   "metadata": {
    "collapsed": false
   },
   "outputs": [
    {
     "name": "stdout",
     "output_type": "stream",
     "text": [
      "-100\n",
      "400\n",
      "390\n",
      "490\n",
      "489\n"
     ]
    },
    {
     "data": {
      "text/plain": [
       "494"
      ]
     },
     "execution_count": 8,
     "metadata": {},
     "output_type": "execute_result"
    }
   ],
   "source": [
    "from_roman('CDXCIV')"
   ]
  },
  {
   "cell_type": "code",
   "execution_count": 9,
   "metadata": {
    "collapsed": false
   },
   "outputs": [
    {
     "name": "stdout",
     "output_type": "stream",
     "text": [
      "500\n",
      "600\n",
      "700\n",
      "800\n",
      "790\n",
      "890\n",
      "889\n"
     ]
    },
    {
     "data": {
      "text/plain": [
       "894"
      ]
     },
     "execution_count": 9,
     "metadata": {},
     "output_type": "execute_result"
    }
   ],
   "source": [
    "from_roman('DCCCXCIV')"
   ]
  }
 ],
 "metadata": {
  "kernelspec": {
   "display_name": "Python 2",
   "language": "python",
   "name": "python2"
  },
  "language_info": {
   "codemirror_mode": {
    "name": "ipython",
    "version": 2
   },
   "file_extension": ".py",
   "mimetype": "text/x-python",
   "name": "python",
   "nbconvert_exporter": "python",
   "pygments_lexer": "ipython2",
   "version": "2.7.12"
  }
 },
 "nbformat": 4,
 "nbformat_minor": 0
}
