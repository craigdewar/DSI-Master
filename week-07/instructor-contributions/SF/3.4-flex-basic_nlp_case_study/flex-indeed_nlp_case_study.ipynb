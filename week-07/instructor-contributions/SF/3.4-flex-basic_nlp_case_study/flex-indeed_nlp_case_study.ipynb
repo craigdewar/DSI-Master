{
 "cells": [
  {
   "cell_type": "markdown",
   "metadata": {},
   "source": [
    "## NLP Case Study 1:  Indeed.com\n",
    "\n",
    "Using our Indeed scraper, we collected job titles, summaries, and locations using the terms \"data analyst\" and \"data engineer\".  We will eventually add on to this idea in future flex talks.  Primarily, we will explore some of the basics including:\n",
    "\n",
    "- Count vectorizer\n",
    "- Tfidf Vectorizer\n",
    "- Ngrams\n",
    "- Stopword removal\n",
    "- Classification techniques\n",
    "\n",
    "The CSV provided should have a sample of jobs scraped.  Once we have established a process to clean our data properly, we will grab more data and use it for training purposes."
   ]
  },
  {
   "cell_type": "code",
   "execution_count": 11,
   "metadata": {
    "collapsed": false
   },
   "outputs": [],
   "source": [
    "%matplotlib inline\n",
    "\n",
    "import pandas as pd, matplotlib, seaborn as sns, collections\n",
    "from sklearn.feature_extraction.text import TfidfVectorizer, CountVectorizer\n",
    "from collections import Counter\n",
    "\n",
    "from nltk.util import ngrams"
   ]
  },
  {
   "cell_type": "code",
   "execution_count": 12,
   "metadata": {
    "collapsed": false
   },
   "outputs": [],
   "source": [
    "df = pd.read_csv(\"indeed.csv\")"
   ]
  },
  {
   "cell_type": "code",
   "execution_count": 13,
   "metadata": {
    "collapsed": false
   },
   "outputs": [
    {
     "data": {
      "text/plain": [
       "Data Engineer    1496\n",
       "Data Analyst     1486\n",
       "search_term         1\n",
       "dtype: int64"
      ]
     },
     "execution_count": 13,
     "metadata": {},
     "output_type": "execute_result"
    }
   ],
   "source": [
    "df['search_term'].value_counts()"
   ]
  },
  {
   "cell_type": "code",
   "execution_count": 14,
   "metadata": {
    "collapsed": false
   },
   "outputs": [
    {
     "data": {
      "text/html": [
       "<div style=\"max-height:1000px;max-width:1500px;overflow:auto;\">\n",
       "<table border=\"1\" class=\"dataframe\">\n",
       "  <thead>\n",
       "    <tr style=\"text-align: right;\">\n",
       "      <th></th>\n",
       "      <th>reviews</th>\n",
       "      <th>search_term</th>\n",
       "      <th>title</th>\n",
       "      <th>location</th>\n",
       "      <th>summary</th>\n",
       "    </tr>\n",
       "  </thead>\n",
       "  <tbody>\n",
       "    <tr>\n",
       "      <th>0</th>\n",
       "      <td>         NaN</td>\n",
       "      <td> Data Engineer</td>\n",
       "      <td>                            Data Engineer</td>\n",
       "      <td>          San Francisco, CA</td>\n",
       "      <td> and grow your career. Autonomy, flexibility an...</td>\n",
       "    </tr>\n",
       "    <tr>\n",
       "      <th>1</th>\n",
       "      <td>   6 reviews</td>\n",
       "      <td> Data Engineer</td>\n",
       "      <td>                        Database Engineer</td>\n",
       "      <td>              San Mateo, CA</td>\n",
       "      <td> Data Warehousing exposure. Experience optimizi...</td>\n",
       "    </tr>\n",
       "    <tr>\n",
       "      <th>2</th>\n",
       "      <td>   2 reviews</td>\n",
       "      <td> Data Engineer</td>\n",
       "      <td> Big Data Software Engineer - Hedge Funds</td>\n",
       "      <td> San Francisco Bay Area, CA</td>\n",
       "      <td> Big Data Software Engineer - Hedge Funds - tra...</td>\n",
       "    </tr>\n",
       "    <tr>\n",
       "      <th>3</th>\n",
       "      <td>         NaN</td>\n",
       "      <td> Data Engineer</td>\n",
       "      <td>                            Data Engineer</td>\n",
       "      <td>                        NaN</td>\n",
       "      <td> \\nWe are looking for a Data Engineer with the ...</td>\n",
       "    </tr>\n",
       "    <tr>\n",
       "      <th>4</th>\n",
       "      <td>   2 reviews</td>\n",
       "      <td> Data Engineer</td>\n",
       "      <td>                     Senior Data Engineer</td>\n",
       "      <td>                        NaN</td>\n",
       "      <td> \\nAs a Senior Data Engineer, you’ll work on ex...</td>\n",
       "    </tr>\n",
       "    <tr>\n",
       "      <th>5</th>\n",
       "      <td>         NaN</td>\n",
       "      <td> Data Engineer</td>\n",
       "      <td>                            Data Engineer</td>\n",
       "      <td>                        NaN</td>\n",
       "      <td> \\nAs a Data Engineer, you will help tackle the...</td>\n",
       "    </tr>\n",
       "    <tr>\n",
       "      <th>6</th>\n",
       "      <td>         NaN</td>\n",
       "      <td> Data Engineer</td>\n",
       "      <td>                            Data Engineer</td>\n",
       "      <td>                        NaN</td>\n",
       "      <td> \\nand grow your career. Autonomy, flexibility ...</td>\n",
       "    </tr>\n",
       "    <tr>\n",
       "      <th>7</th>\n",
       "      <td> 264 reviews</td>\n",
       "      <td> Data Engineer</td>\n",
       "      <td>         Full Stack Software Engineer Job</td>\n",
       "      <td>                        NaN</td>\n",
       "      <td> \\nData access optimization:. Full Stack Softwa...</td>\n",
       "    </tr>\n",
       "    <tr>\n",
       "      <th>8</th>\n",
       "      <td>         NaN</td>\n",
       "      <td> Data Engineer</td>\n",
       "      <td>                            Data Engineer</td>\n",
       "      <td>                        NaN</td>\n",
       "      <td> \\nAs a data engineer, you'll be working to imp...</td>\n",
       "    </tr>\n",
       "    <tr>\n",
       "      <th>9</th>\n",
       "      <td>         NaN</td>\n",
       "      <td> Data Engineer</td>\n",
       "      <td>                            Data Engineer</td>\n",
       "      <td>                        NaN</td>\n",
       "      <td> \\nAs our first data engineer in SF, you’ll wor...</td>\n",
       "    </tr>\n",
       "  </tbody>\n",
       "</table>\n",
       "</div>"
      ],
      "text/plain": [
       "       reviews    search_term                                     title  \\\n",
       "0          NaN  Data Engineer                             Data Engineer   \n",
       "1    6 reviews  Data Engineer                         Database Engineer   \n",
       "2    2 reviews  Data Engineer  Big Data Software Engineer - Hedge Funds   \n",
       "3          NaN  Data Engineer                             Data Engineer   \n",
       "4    2 reviews  Data Engineer                      Senior Data Engineer   \n",
       "5          NaN  Data Engineer                             Data Engineer   \n",
       "6          NaN  Data Engineer                             Data Engineer   \n",
       "7  264 reviews  Data Engineer          Full Stack Software Engineer Job   \n",
       "8          NaN  Data Engineer                             Data Engineer   \n",
       "9          NaN  Data Engineer                             Data Engineer   \n",
       "\n",
       "                     location  \\\n",
       "0           San Francisco, CA   \n",
       "1               San Mateo, CA   \n",
       "2  San Francisco Bay Area, CA   \n",
       "3                         NaN   \n",
       "4                         NaN   \n",
       "5                         NaN   \n",
       "6                         NaN   \n",
       "7                         NaN   \n",
       "8                         NaN   \n",
       "9                         NaN   \n",
       "\n",
       "                                             summary  \n",
       "0  and grow your career. Autonomy, flexibility an...  \n",
       "1  Data Warehousing exposure. Experience optimizi...  \n",
       "2  Big Data Software Engineer - Hedge Funds - tra...  \n",
       "3  \\nWe are looking for a Data Engineer with the ...  \n",
       "4  \\nAs a Senior Data Engineer, you’ll work on ex...  \n",
       "5  \\nAs a Data Engineer, you will help tackle the...  \n",
       "6  \\nand grow your career. Autonomy, flexibility ...  \n",
       "7  \\nData access optimization:. Full Stack Softwa...  \n",
       "8  \\nAs a data engineer, you'll be working to imp...  \n",
       "9  \\nAs our first data engineer in SF, you’ll wor...  "
      ]
     },
     "execution_count": 14,
     "metadata": {},
     "output_type": "execute_result"
    }
   ],
   "source": [
    "df.head(10)"
   ]
  },
  {
   "cell_type": "code",
   "execution_count": 15,
   "metadata": {
    "collapsed": false,
    "scrolled": false
   },
   "outputs": [
    {
     "data": {
      "text/plain": [
       "<matplotlib.axes._subplots.AxesSubplot at 0x10bf94690>"
      ]
     },
     "execution_count": 15,
     "metadata": {},
     "output_type": "execute_result"
    },
    {
     "data": {
      "image/png": "[encoded data removed]",
      "text/plain": [
       "<matplotlib.figure.Figure at 0x104b07990>"
      ]
     },
     "metadata": {},
     "output_type": "display_data"
    }
   ],
   "source": [
    "df[['title', 'summary']].groupby('title').count().sort('summary').tail(20).plot(kind='barh', figsize=(7,9))"
   ]
  },
  {
   "cell_type": "code",
   "execution_count": 16,
   "metadata": {
    "collapsed": false
   },
   "outputs": [
    {
     "data": {
      "text/plain": [
       "(444667,\n",
       " 'and grow your career. Autonomy, flexibility and a flat corporate structure. Plum is leading the transformation of commercial real estate lending throughData Warehousing exposure. Experience optimizing data models and database schemas, and SQL for distributed applications....Big Data Software Engineer - Hedge Funds - trading, portfolio management and analytics platform. We are seeking talented senior level software engineers to join...\\nWe are looking for a Data Engineer with the Software Engineer')"
      ]
     },
     "execution_count": 16,
     "metadata": {},
     "output_type": "execute_result"
    }
   ],
   "source": [
    "summaries = \"\"\n",
    "for summary in df.summary:\n",
    "    summaries += summary\n",
    "    \n",
    "len(summaries), summaries[0:500]"
   ]
  },
  {
   "cell_type": "code",
   "execution_count": 17,
   "metadata": {
    "collapsed": false
   },
   "outputs": [],
   "source": [
    "words = summaries.split()\n",
    "ngrams = ngrams(words, 3)"
   ]
  },
  {
   "cell_type": "code",
   "execution_count": 18,
   "metadata": {
    "collapsed": false
   },
   "outputs": [
    {
     "data": {
      "text/plain": [
       "[('and', 3440),\n",
       " ('data', 3198),\n",
       " ('to', 1699),\n",
       " ('of', 1406),\n",
       " ('a', 1242),\n",
       " ('the', 1190),\n",
       " ('Data', 1015),\n",
       " ('with', 978),\n",
       " ('for', 958),\n",
       " ('in', 879),\n",
       " ('is', 613),\n",
       " ('will', 459),\n",
       " ('our', 393),\n",
       " ('Analyst', 386),\n",
       " ('Engineer', 365),\n",
       " ('are', 338),\n",
       " ('team', 335),\n",
       " ('looking', 324),\n",
       " ('on', 312),\n",
       " ('an', 294),\n",
       " ('The', 288),\n",
       " ('experience', 270),\n",
       " ('engineers', 261),\n",
       " ('as', 260),\n",
       " ('or', 257),\n",
       " ('be', 247),\n",
       " ('Experience', 238),\n",
       " ('We', 236),\n",
       " ('Software', 222),\n",
       " ('from', 219),\n",
       " ('that', 214),\n",
       " ('analysis', 200),\n",
       " ('you', 194),\n",
       " ('work', 191),\n",
       " ('-', 177),\n",
       " ('business', 170),\n",
       " ('data.', 170),\n",
       " ('who', 170),\n",
       " ('years', 166),\n",
       " ('software', 163)]"
      ]
     },
     "execution_count": 18,
     "metadata": {},
     "output_type": "execute_result"
    }
   ],
   "source": [
    "counts = collections.Counter(words)\n",
    "counts.most_common(40)"
   ]
  },
  {
   "cell_type": "code",
   "execution_count": null,
   "metadata": {
    "collapsed": true
   },
   "outputs": [],
   "source": []
  }
 ],
 "metadata": {
  "kernelspec": {
   "display_name": "Python 2",
   "language": "python",
   "name": "python2"
  },
  "language_info": {
   "codemirror_mode": {
    "name": "ipython",
    "version": 2
   },
   "file_extension": ".py",
   "mimetype": "text/x-python",
   "name": "python",
   "nbconvert_exporter": "python",
   "pygments_lexer": "ipython2",
   "version": "2.7.9"
  },
  "widgets": {
   "state": {},
   "version": "1.1.0"
  }
 },
 "nbformat": 4,
 "nbformat_minor": 0
}
