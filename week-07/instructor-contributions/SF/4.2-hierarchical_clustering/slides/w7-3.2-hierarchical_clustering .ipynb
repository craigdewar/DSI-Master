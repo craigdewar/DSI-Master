{
 "cells": [
  {
   "cell_type": "markdown",
   "metadata": {
    "slideshow": {
     "slide_type": "slide"
    }
   },
   "source": [
    "<img src=\"https://ga-dash.s3.amazonaws.com/production/assets/logo-9f88ae6c9c3871690e33280fcf557f33.png\" style=\"float: left; margin: 10px;\">\n",
    "\n",
    "# Intro to Hierarchical Clustering\n",
    "Week 7 | Lesson 3.2\n",
    "\n",
    "![](https://snag.gy/J8iyBj.jpg)"
   ]
  },
  {
   "cell_type": "markdown",
   "metadata": {
    "slideshow": {
     "slide_type": "slide"
    }
   },
   "source": [
    "### LEARNING OBJECTIVES\n",
    "*After this lesson, you will be able to:*\n",
    "- Perform a Hierarchical Clustering\n",
    "- Plot, Analyze, and Understand the Dendrogram\n",
    "- Evaluate clusters for fit "
   ]
  },
  {
   "cell_type": "markdown",
   "metadata": {
    "slideshow": {
     "slide_type": "slide"
    }
   },
   "source": [
    "### STUDENT PRE-WORK\n",
    "*Before this lesson, you should already be able to:*\n",
    "- Perform clustering analyses in python\n",
    "- Have a working knowledge of Pandas and SciPy"
   ]
  },
  {
   "cell_type": "markdown",
   "metadata": {
    "slideshow": {
     "slide_type": "slide"
    }
   },
   "source": [
    "### LESSON GUIDE\n",
    "| TIMING  | TYPE  | TOPIC  |\n",
    "|:-:|---|---|\n",
    "| 5 min  | [Opening](#opening)  | Opening |\n",
    "| 10 min  | [Introduction](#introduction)   | What is Hierarchical Clustering?  |\n",
    "| 15 min  | [Demo](#demo)  | Example of Hierarchical Clustering  |\n",
    "| 25 min  | [Guided Practice](#guided-practice<a name=\"opening\"></a>)  | Hierarchical Clustering in Python |\n",
    "| 25 min  | [Independent Practice](#ind-practice)  | Implement hierarchical clustering\n",
    "| 5 min  | [Conclusion](#conclusion)  | Conclusion  |\n",
    "\n",
    "---"
   ]
  },
  {
   "cell_type": "markdown",
   "metadata": {
    "slideshow": {
     "slide_type": "slide"
    }
   },
   "source": [
    "## How have we successfully used K-Means?\n",
    "\n",
    "Will you use it in your capstone at all?"
   ]
  },
  {
   "cell_type": "markdown",
   "metadata": {
    "slideshow": {
     "slide_type": "slide"
    }
   },
   "source": [
    "# Opening\n",
    "\n",
    "- Hierarchical clustering works well for non-spherical clusters\n",
    "- It also works well on smaller datasets - _this algorithm has a longer computational time and doesn't work well for larger datasets_\n",
    "\n",
    "$$O(n^2 * n\\ features)$$\n",
    "\n",
    "### Hierarchical clustering works well for instances where we are working with observed records. \n",
    "\n",
    "For instance - I've tallied the amount of times a certain skill exists in a collection of resumes.  **Since k-means computes *means*, this wouldn't give us very good clusters!**"
   ]
  },
  {
   "cell_type": "markdown",
   "metadata": {
    "slideshow": {
     "slide_type": "slide"
    }
   },
   "source": [
    "<a name=\"introduction\"></a>\n",
    "## Introduction: Intro to Hierarchical Clustering (10 mins)\n",
    "\n",
    "#### What is Hierarchical Clustering? \n",
    "\n",
    "Hierarchical clustering, like k-means clustering, is another common form of clustering analysis. With this type of clustering - we seek to do exactly what the name suggests: \n",
    "\n",
    "- Build hierarchies of links\n",
    "- Form clusters\n",
    "\n",
    "Once these links are determined, they are displayed in what is called a **dendrogram** - a graph that displays all of these links in a hierarchical manner.\n",
    "\n",
    "![denex](../assets/images/denex.png)\n",
    "\n",
    "To find clusters in a dendrogram, we can cut the graph to find the clusters - we'll go over this later in the lesson. \n"
   ]
  },
  {
   "cell_type": "markdown",
   "metadata": {
    "slideshow": {
     "slide_type": "slide"
    }
   },
   "source": [
    "#### How is Hierarchical Clustering Different from K-Means Clustering?\n",
    "\n",
    "![](https://snag.gy/tfzWw6.jpg)\n",
    "\n",
    "Much like we learned about k-means clustering, hierarchical clustering is another method for classifying our data. If you recall, in k-means clustering, the algorithm groups data into a pre-defined set of clusters based on assigning the closest points to centroids, calculating the geometric mean of classified points, then moving the centroid until no points change class."
   ]
  },
  {
   "cell_type": "markdown",
   "metadata": {
    "slideshow": {
     "slide_type": "slide"
    }
   },
   "source": [
    "**However in the case of hierarchical clustering, the algorithm builds classifications trees of the data that merges groups of similar data points.**\n",
    "\n",
    "With k-means, the boundaries between the various clusters are distinct and independent (see graph), whereas in hierarchical clustering, there are shared similarities between those groups that are represented by the classification tree.  Going further - unlike with k-means, hierarchical clustering does not require you to define \"k\" as an input.\n",
    "\n",
    "![kmeans](../assets/images/kmeans.png)\n",
    "\n",
    "All of these attributes can lend themselves to certain clustering situations - for instance, hierarchical clustering is more beneficial for smaller datasets - think about the complexity of a dendrogram from a 1000 point dataset! Likewise, this form of clustering works better when we have binary data or dummy variables: as k-means computes *means* in forming clusters, performing k-means on a dataset with a significant amount of variables would skew the resulting clusters and distributions. \n",
    "\n"
   ]
  },
  {
   "cell_type": "markdown",
   "metadata": {
    "slideshow": {
     "slide_type": "slide"
    }
   },
   "source": [
    "### What is the difference?\n",
    "\n",
    "**Generally, K-Means looks to achieve seperation**\n",
    "- Partitions are independent of each other\n",
    "\n",
    "**Hierachical Clustering**\n",
    "- Partitions can be visualized using a tree structure (a dendrogram)\n",
    "- Does not need the number of clusters as input (no random initialization)\n",
    "- Possible to view partitions at different levels of granularities (i.e., can refine/coarsen clusters) using different K\n",
    "- Will converge at the same solution\n"
   ]
  },
  {
   "cell_type": "markdown",
   "metadata": {
    "slideshow": {
     "slide_type": "slide"
    }
   },
   "source": [
    "## How is clustering different from classification? When might we use one over the other? "
   ]
  },
  {
   "cell_type": "markdown",
   "metadata": {
    "slideshow": {
     "slide_type": "slide"
    }
   },
   "source": [
    "<a name=\"demo\"></a>\n",
    "## How Does Hierarchical Clustering Work? - Demo (10 mins)\n",
    "\n",
    "In hierarchical clustering, instead of clustering in one step, the clusters are determined in the a varying number of partitions. At each step, it makes the best choice based on the surrounding datapoints, with the ultimate goal that these best choices will lead to the best choice of clusters overall. Given the algorithm's method of calculating linkages based on immediate datapoints, it's known as a **greedy algorithm**.\n",
    "\n",
    "There are two forms of hierarchical clustering; **agglomerative hierarchical clustering** and **divisive hierarchical clustering**.\n",
    "\n",
    "![](../assets/images/hier.png)\n",
    "\n",
    "Today, we're going to look at one of the most fundamental methods for agglomerative hierarchical cluster, known as **linkage clustering**. Linkage clustering iterates through datapoints and computes the distance between groups by computing the distance between two neighboring datapoints, using the **nearest neighbor** technique similar to KNN.\n",
    "\n",
    "### Divisive\n",
    "- Start at the trunk of the tree and build the leaves\n",
    "\n",
    "### Agglomerative\n",
    "- Start with the leaves of the tree and build the trunk\n",
    "\n",
    "_A **greedy algorithm** is an algorithm that follows the problem solving heuristic of making the locally optimal choice at each stage with the hope of finding a global optimum._"
   ]
  },
  {
   "cell_type": "markdown",
   "metadata": {
    "slideshow": {
     "slide_type": "slide"
    }
   },
   "source": [
    "## \"Single Linkage\" Step by Step\n",
    "(Aggomerative)\n",
    "\n",
    "\n",
    "Also known as \"single linkage\", minimum distance clustering or nearest neighbor clustering.\n",
    "\n",
    "\n",
    "<table>\n",
    "    <tr>\n",
    "        <td>![](https://snag.gy/SDZyGz.jpg)</td>\n",
    "        <td>Distance between two clusters is defined by the minimum distance between objects of the two clusters. \n",
    "</td>\n",
    "    </tr>\n",
    "        \n",
    "</table>\n"
   ]
  },
  {
   "cell_type": "markdown",
   "metadata": {
    "slideshow": {
     "slide_type": "subslide"
    }
   },
   "source": [
    "\n",
    "### First let's consider a single series of distances between X/Y points in 2D space, represented as a matrix.\n",
    "<table>\n",
    "    <tr>\n",
    "        <td>![](https://snag.gy/EcRNns.jpg)</td>\n",
    "        <td>\n",
    "        <ul><li>_Each feature, A-F, would be considered a \"cluster\".  All points are clusters._</li>\n",
    "        <li>In each step of the iteration, we find the closest pair clusters.</li>\n",
    "        <li>Our end goal is to ultimately cluster all of these to one single cluster.</li>\n",
    "        <li>**In this case, the closest cluster is between cluster F and D with shortest distance of 0.5.**</li>\n",
    "        </ul>\n",
    "        <br>\n",
    "        **Thus, we group cluster D and F into cluster (D, F)**\n",
    "        </td>\n",
    "    </tr>\n",
    "        \n",
    "</table>\n",
    "\n",
    "\n",
    "\n",
    "\n",
    "\n",
    "\n"
   ]
  },
  {
   "cell_type": "markdown",
   "metadata": {
    "slideshow": {
     "slide_type": "subslide"
    }
   },
   "source": [
    "<table>\n",
    "    <tr>\n",
    "        <td width=\"350\">![](https://snag.gy/siCURp.jpg)</td>\n",
    "        <td>\n",
    "        <li>D and F turn into a cluster</li>\n",
    "        <li>Distance matrix is updated (distance between ungrouped clusters do not change)</li>\n",
    "        <br>\n",
    "        **Now the problem is how to calculate distance between newly grouped clusters (D, F) and other clusters?**\n",
    "        </td>\n",
    "    </tr>\n",
    "        \n",
    "</table>"
   ]
  },
  {
   "cell_type": "markdown",
   "metadata": {
    "slideshow": {
     "slide_type": "subslide"
    }
   },
   "source": [
    "<table>\n",
    "    <tr>\n",
    "        <td width=\"350\">![](https://snag.gy/lXQDf2.jpg)</td>\n",
    "        <td>This is where our linkage function starts to do some work.\n",
    "        <br>\n",
    "        <ul>\n",
    "            <li>Using single linkage, we specify minimum distance between original objects of the two clusters.</li>\n",
    "            <li>Using single linkage, we find the minimum point from cluster $_{df}$ to all other \"clusters\"</li>\n",
    "            <ol>$d(d,f)\\rightarrow a = min(d_{DA}, d_{FA}) = min(3.61, 3.20) = 3.20$</ol>\n",
    "            <ol>$d(d,f)\\rightarrow b = min(d_{DB}, d_{FB}) = min(2.92, 2.50) = 2.50$</ol>\n",
    "            <ol>$d(d,f)\\rightarrow c = min(d_{DC}, d_{FC}) = min(2.24, 2.50) = 2.24$</ol>\n",
    "            <ol>$d(d,f)\\rightarrow e = min(d_{DE}, d_{FE}) = min(1.00, 1.12) = 1.00$</ol>\n",
    "        </ul>\n",
    "        </td>\n",
    "    </tr>\n",
    "\n",
    "</table>"
   ]
  },
  {
   "cell_type": "markdown",
   "metadata": {
    "slideshow": {
     "slide_type": "subslide"
    }
   },
   "source": [
    "\n",
    "\n",
    "\n",
    "\n",
    "<table>\n",
    "    <tr>\n",
    "        <td width=\"350\">![](https://snag.gy/syM7BH.jpg)</td>\n",
    "        <td>**Cluster B and cluster A is now 0.71, wich creats cluster name \"(A, B)\"**\n",
    "        <br>\n",
    "        <ul>\n",
    "            <li>Now we update the distance matrix. </li>\n",
    "            <li>Using the **original** input distance matrix (size 6 by 6), distance between cluster C and cluster (D, F) is computed as </li>\n",
    "            <ol>$d_{(c)\\rightarrow (a,b)} = min(d_{CA}, d_{CB}) = min(5.66, 4.95) = 4.95$<br><br></ol>\n",
    "            <li>Distance between cluster (D, F) and cluster (A, B) is the minimum distance between all objects involves in the two clusters </li>\n",
    "            <ol>$d_{(d,f)\\rightarrow (a,b)} = min(d_{DA}, d_{DB}, d_{FA}, d_{FB}) = min(2.61, 2.92, 3.20, 2.50) = 2.50$<br><br></ol>\n",
    "            <li>Now we compute $e$ and $(a,b)$</li>\n",
    "            <ol>$d(e)\\rightarrow (a,b) = min(d_{E}, d_{AB}) = min(4.24, 3.54) = 3.54$</ol>\n",
    "        </ul>\n",
    "        </td>\n",
    "    </tr>\n",
    "\n",
    "</table>"
   ]
  },
  {
   "cell_type": "markdown",
   "metadata": {
    "slideshow": {
     "slide_type": "subslide"
    }
   },
   "source": [
    "<table>\n",
    "    <tr>\n",
    "        <td width=\"350\">![](https://snag.gy/Tg4V6J.jpg)</td>\n",
    "        <td>**Here's our updated distance matrix**\n",
    "        <ol>$d_{((D,F),E)\\rightarrow(AB)} = MIN(d_{DA},d_{DB},d_{FA},d_{FB},d_{EB}) = MIN(3.61, 2.92, 3.20, 2.50, 4.24, 3.54) = 2.50$</ol>\n",
    "        <ol>$d_{(D,F), E)\\rightarrow C} = MIN(d_{DF}, d_{FC}, d_{EC}) = MIN(2.24,2.50,1.41) = 1.41$</ol>\n",
    "        </td>\n",
    "    </tr>\n",
    "</table>"
   ]
  },
  {
   "cell_type": "markdown",
   "metadata": {
    "slideshow": {
     "slide_type": "subslide"
    }
   },
   "source": [
    "![](https://snag.gy/lrdR8b.jpg)\n",
    "<ol>$d_{(((D,F), E),C)\\rightarrow(A, B)} = MIN(d_{DA},d_{DB},d_{FA}, d_{FB}, d_{EA}, d_{EB}, d_{CA}, d_{CB})$</ol>\n",
    "<ol>$d_{(((D,F), E),C)\\rightarrow(A, B)} = MIN(3.61,2.92,3.20,2.50,4.24,3.54, 5.66, 4.95) = 2.50$</ol>\n",
    "\n",
    "<ol>\n",
    "\n",
    "          <li>In the beginning we have 6 clusters: A, B, C, D, E and F </li>\n",
    "\n",
    "          <li>We merge cluster D and F into cluster (D, F) at distance<strong> 0.50</strong> </li>\n",
    "\n",
    "          <li>We merge cluster A and cluster B into (A, B) at distance <strong>0.71</strong> </li>\n",
    "\n",
    "          <li>We merge cluster E and (D, F) into ((D, F), E) at distance <strong>1.00</strong> </li>\n",
    "\n",
    "          <li>We merge cluster ((D, F), E) and C into (((D, F), E), C) at distance <strong>1.41</strong> </li>\n",
    "\n",
    "          <li>We merge cluster (((D, F), E), C) and (A, B) into ((((D, F), E), C), (A, B)) at distance <strong>2.50</strong> </li>\n",
    "\n",
    "          <li>The last cluster contain all the objects, thus conclude the computation </li>\n",
    "\n",
    "</ol>\n",
    "\n",
    "<br>\n",
    "<center>**Our final result, can be represented in terms of a dendogram such as:**</center>\n",
    "\n",
    "![](https://snag.gy/NJ2lxe.jpg)"
   ]
  },
  {
   "cell_type": "markdown",
   "metadata": {
    "slideshow": {
     "slide_type": "slide"
    }
   },
   "source": [
    "#### Hierarchical Clustering in Python\n",
    "\n",
    "Implementing hierarchical clustering in python is as simple as calling a function from the SciPy toolbox:\n",
    "\n",
    "```python\n",
    "Z = linkage(X, 'ward')\n",
    "```\n",
    "\n",
    "Here, \"X\" represents the matrix of data that we are clustering, and \"ward\" tells our algorithm which method to use to calculate distance between our newly formed clusters - in this case **Ward's Method** which seeks to minimize the variance when forming clusters. When calculating distance, the default is **Euclidean distance**.\n",
    "\n",
    "After we cluster, we can calculate the dendrogram using a simple ```dendrogram()``` function from SciPy, which we can then draw using our handy  ```plt``` from matplotlib. \n",
    "\n",
    "To check how well our algorithm has measured distance, we can calculate the **cophenetic correlation coefficient**. This metric, which measures the height of the dendrogram at the point where two branches merge, can tell us how well the dendrogram has measured the distance between data points in the original dataset and is a helpful measure to see how well our clustering test has run. \n",
    "\n",
    "```python\n",
    "c, coph_dists = cophenet(Z, pdist(X))\n",
    "```\n",
    "\n",
    "Here, we call the cophenetic function using ```cophenet``` from SciPy and apply it to our clustered set, Z, and the distance of our original set, X. "
   ]
  },
  {
   "cell_type": "markdown",
   "metadata": {
    "slideshow": {
     "slide_type": "slide"
    }
   },
   "source": [
    "## Briefly:  Cophenetic Coefficient Intuition\n",
    "\n",
    "$$\n",
    "c = \\frac {\\sum_{i<j} (x(i,j) - \\bar{x})(t(i,j) - \\bar{t})}{\\sqrt{[\\sum_{i<j}(x(i,j)-\\bar{x})^2] [\\sum_{i<j}(t(i,j)-\\bar{t})^2]}}.\n",
    "$$[Detailed Cophenetic Coefficient Calculation](https://en.wikipedia.org/wiki/Cophenetic_correlation#Calculating_the_cophenetic_correlation_coefficient)\n",
    "\n",
    "- Based on interpoint distance within clusters\n",
    "- Considers $MIN(C_i)$ when looking at distance between clusters (product moment correlation)\n",
    "- Values closer to $1$ are considered good in terms of \"fusion\" (how well clusters sit with each other)"
   ]
  },
  {
   "cell_type": "markdown",
   "metadata": {
    "slideshow": {
     "slide_type": "slide"
    }
   },
   "source": [
    "## What other metrics have we used?\n",
    "\n",
    "_Follow up:  Generally, what is good or bad about clusters?_"
   ]
  },
  {
   "cell_type": "markdown",
   "metadata": {},
   "source": [
    "<a name=\"guided-practice\"></a>\n",
    "## Guided Practice: Preparing Your Analysis & Handling Data (15 mins)\n",
    "\n",
    "Let's say that you're asked to perform hierarchical clustering analysis on a new dataset - how would we go about it?\n",
    "We're going to be using a dataset that details language skills from different European countries. We will perform a hierarchical clustering analysis on this dataset.\n",
    "\n",
    "**Check**: Can you think of some other examples for how this type of data could be used?"
   ]
  },
  {
   "cell_type": "code",
   "execution_count": 2,
   "metadata": {
    "collapsed": false
   },
   "outputs": [],
   "source": [
    "from matplotlib import pyplot as plt\n",
    "import seaborn as sns\n",
    "from scipy.cluster.hierarchy import dendrogram, linkage, cophenet, fcluster\n",
    "from scipy.spatial.distance import pdist\n",
    "import numpy as np\n",
    "import pandas as pd\n",
    "import os\n",
    "\n",
    "%matplotlib inline"
   ]
  },
  {
   "cell_type": "markdown",
   "metadata": {},
   "source": [
    "We're going to be using **scipy** for our analysis. Let's load in the dataset using Pandas ```read.csv()``` and check the head to see it's structure"
   ]
  },
  {
   "cell_type": "code",
   "execution_count": 3,
   "metadata": {
    "collapsed": false,
    "scrolled": true
   },
   "outputs": [
    {
     "data": {
      "text/html": [
       "<div style=\"max-height:1000px;max-width:1500px;overflow:auto;\">\n",
       "<table border=\"1\" class=\"dataframe\">\n",
       "  <thead>\n",
       "    <tr style=\"text-align: right;\">\n",
       "      <th></th>\n",
       "      <th>country</th>\n",
       "      <th>finnish</th>\n",
       "      <th>swedish</th>\n",
       "      <th>danish</th>\n",
       "      <th>norwegian</th>\n",
       "      <th>english</th>\n",
       "      <th>german</th>\n",
       "      <th>dutch</th>\n",
       "      <th>flemish</th>\n",
       "      <th>french</th>\n",
       "      <th>italian</th>\n",
       "      <th>spanish</th>\n",
       "      <th>portuguese</th>\n",
       "    </tr>\n",
       "  </thead>\n",
       "  <tbody>\n",
       "    <tr>\n",
       "      <th>0</th>\n",
       "      <td> 1</td>\n",
       "      <td> 0</td>\n",
       "      <td> 0</td>\n",
       "      <td> 0</td>\n",
       "      <td> 0</td>\n",
       "      <td> 21</td>\n",
       "      <td> 100</td>\n",
       "      <td>   2</td>\n",
       "      <td>   1</td>\n",
       "      <td>  10</td>\n",
       "      <td>   2</td>\n",
       "      <td> 1</td>\n",
       "      <td> 0</td>\n",
       "    </tr>\n",
       "    <tr>\n",
       "      <th>1</th>\n",
       "      <td> 2</td>\n",
       "      <td> 0</td>\n",
       "      <td> 0</td>\n",
       "      <td> 0</td>\n",
       "      <td> 0</td>\n",
       "      <td>  5</td>\n",
       "      <td>   3</td>\n",
       "      <td>   0</td>\n",
       "      <td>   0</td>\n",
       "      <td>  11</td>\n",
       "      <td> 100</td>\n",
       "      <td> 1</td>\n",
       "      <td> 0</td>\n",
       "    </tr>\n",
       "    <tr>\n",
       "      <th>2</th>\n",
       "      <td> 3</td>\n",
       "      <td> 0</td>\n",
       "      <td> 2</td>\n",
       "      <td> 3</td>\n",
       "      <td> 0</td>\n",
       "      <td> 10</td>\n",
       "      <td>   7</td>\n",
       "      <td>   1</td>\n",
       "      <td>   1</td>\n",
       "      <td> 100</td>\n",
       "      <td>  12</td>\n",
       "      <td> 7</td>\n",
       "      <td> 1</td>\n",
       "    </tr>\n",
       "    <tr>\n",
       "      <th>3</th>\n",
       "      <td> 4</td>\n",
       "      <td> 0</td>\n",
       "      <td> 0</td>\n",
       "      <td> 0</td>\n",
       "      <td> 0</td>\n",
       "      <td> 41</td>\n",
       "      <td>  47</td>\n",
       "      <td> 100</td>\n",
       "      <td> 100</td>\n",
       "      <td>  16</td>\n",
       "      <td>   2</td>\n",
       "      <td> 2</td>\n",
       "      <td> 0</td>\n",
       "    </tr>\n",
       "    <tr>\n",
       "      <th>4</th>\n",
       "      <td> 5</td>\n",
       "      <td> 0</td>\n",
       "      <td> 0</td>\n",
       "      <td> 0</td>\n",
       "      <td> 0</td>\n",
       "      <td> 14</td>\n",
       "      <td>  15</td>\n",
       "      <td>   0</td>\n",
       "      <td>  59</td>\n",
       "      <td>  44</td>\n",
       "      <td>   2</td>\n",
       "      <td> 1</td>\n",
       "      <td> 0</td>\n",
       "    </tr>\n",
       "  </tbody>\n",
       "</table>\n",
       "</div>"
      ],
      "text/plain": [
       "   country  finnish  swedish  danish  norwegian  english  german  dutch  \\\n",
       "0        1        0        0       0          0       21     100      2   \n",
       "1        2        0        0       0          0        5       3      0   \n",
       "2        3        0        2       3          0       10       7      1   \n",
       "3        4        0        0       0          0       41      47    100   \n",
       "4        5        0        0       0          0       14      15      0   \n",
       "\n",
       "   flemish  french  italian  spanish  portuguese  \n",
       "0        1      10        2        1           0  \n",
       "1        0      11      100        1           0  \n",
       "2        1     100       12        7           1  \n",
       "3      100      16        2        2           0  \n",
       "4       59      44        2        1           0  "
      ]
     },
     "execution_count": 3,
     "metadata": {},
     "output_type": "execute_result"
    }
   ],
   "source": [
    "lang = pd.read_csv(\"../assets/datasets/lang.csv\")\n",
    "lang.head()"
   ]
  },
  {
   "cell_type": "code",
   "execution_count": null,
   "metadata": {
    "collapsed": true
   },
   "outputs": [],
   "source": []
  },
  {
   "cell_type": "code",
   "execution_count": 79,
   "metadata": {
    "collapsed": false
   },
   "outputs": [
    {
     "data": {
      "text/plain": [
       "<matplotlib.axes._subplots.AxesSubplot at 0x10b0eff10>"
      ]
     },
     "execution_count": 79,
     "metadata": {},
     "output_type": "execute_result"
    },
    {
     "data": {
      "image/png": "[encoded data removed]",
      "text/plain": [
       "<matplotlib.figure.Figure at 0x10c25f7d0>"
      ]
     },
     "metadata": {},
     "output_type": "display_data"
    }
   ],
   "source": [
    "# lang[['country', 'english']].plot(kind=\"scatter\", x=\"country\", y=\"english\")\n",
    "lang[['country', 'english']].plot(kind=\"barh\")"
   ]
  },
  {
   "cell_type": "code",
   "execution_count": 4,
   "metadata": {
    "collapsed": false
   },
   "outputs": [
    {
     "data": {
      "image/png": "[encoded data removed]",
      "text/plain": [
       "<matplotlib.figure.Figure at 0x104b08190>"
      ]
     },
     "metadata": {},
     "output_type": "display_data"
    }
   ],
   "source": [
    "# How many clusters does it look like we have?\n",
    "plt.scatter(lang['country'], lang['english'])\n",
    "plt.show()"
   ]
  },
  {
   "cell_type": "markdown",
   "metadata": {},
   "source": [
    "Now, let's convert our data to a matrix (aka array) to pass to the clustering algorithm - the matrix makes it easier for our algorithm to compute distance:"
   ]
  },
  {
   "cell_type": "code",
   "execution_count": 6,
   "metadata": {
    "collapsed": false
   },
   "outputs": [],
   "source": [
    "X = lang.as_matrix(columns=None)"
   ]
  },
  {
   "cell_type": "markdown",
   "metadata": {},
   "source": [
    "Next, we'll implement the actual clustering algorithm using the **`ward`** method (described in detail earlier):"
   ]
  },
  {
   "cell_type": "code",
   "execution_count": 8,
   "metadata": {
    "collapsed": false
   },
   "outputs": [],
   "source": [
    "Z = linkage(X, 'ward')"
   ]
  },
  {
   "cell_type": "markdown",
   "metadata": {},
   "source": [
    "Now, we can calculate the cophenetic correlation coefficient to see how well our algorithm has measured the distances between the points:"
   ]
  },
  {
   "cell_type": "code",
   "execution_count": 9,
   "metadata": {
    "collapsed": true
   },
   "outputs": [],
   "source": [
    "c, coph_dists = cophenet(Z, pdist(X))"
   ]
  },
  {
   "cell_type": "markdown",
   "metadata": {},
   "source": [
    "To see the coefficient, just type in the variable: "
   ]
  },
  {
   "cell_type": "code",
   "execution_count": 10,
   "metadata": {
    "collapsed": false
   },
   "outputs": [
    {
     "data": {
      "text/plain": [
       "0.66645925603242939"
      ]
     },
     "execution_count": 10,
     "metadata": {},
     "output_type": "execute_result"
    }
   ],
   "source": [
    "c"
   ]
  },
  {
   "cell_type": "markdown",
   "metadata": {},
   "source": [
    "You should see a **C** around **0.667**, which means that the distances of the clusters are moderately related to the original distances of the data.\n",
    "\n",
    "Now, let's plot the dendrogram. To do this, we call dendrogram from  scipy.cluster.hierarchy and input our links, and rotate the labels so we can view the graph in a more organized matter. \n",
    "\n",
    "#### We can then plot the denrogram with pyplot from matplotlib."
   ]
  },
  {
   "cell_type": "code",
   "execution_count": 11,
   "metadata": {
    "collapsed": false
   },
   "outputs": [
    {
     "data": {
      "image/png": "[encoded data removed]",
      "text/plain": [
       "<matplotlib.figure.Figure at 0x109edfd10>"
      ]
     },
     "metadata": {},
     "output_type": "display_data"
    }
   ],
   "source": [
    "plt.title('Dendrogram')\n",
    "plt.xlabel('Index Numbers')\n",
    "plt.ylabel('Distance')\n",
    "dendrogram(\n",
    "    Z,\n",
    "    leaf_rotation=90.,  \n",
    "    leaf_font_size=8.,\n",
    ")\n",
    "plt.show()"
   ]
  },
  {
   "cell_type": "markdown",
   "metadata": {},
   "source": [
    "Now, we want to determine our clusters. While there are many ways to automate this process,  we're going to help estimate our clusters by visually examining the graph to better understand the structure of the dendrogram. \n",
    "\n",
    "Here, we can see that no links exist above a distance of 200 - so we will set maximum distance at 200 and use the ```fclusters``` function from ```scipy.cluster.hierarchy```, which will return our cluster ID's. "
   ]
  },
  {
   "cell_type": "code",
   "execution_count": 17,
   "metadata": {
    "collapsed": false
   },
   "outputs": [
    {
     "data": {
      "text/plain": [
       "array([1, 2, 2, 1, 2, 1, 2, 2, 1, 1, 2, 2, 2, 2, 2, 2], dtype=int32)"
      ]
     },
     "execution_count": 17,
     "metadata": {},
     "output_type": "execute_result"
    }
   ],
   "source": [
    "max_dist = 200 # pairwise distance\n",
    "clusters = fcluster(Z, max_dist, criterion='distance')\n",
    "clusters"
   ]
  },
  {
   "cell_type": "markdown",
   "metadata": {},
   "source": [
    "Lastly, let's plot our data and assign the class labels as the color:"
   ]
  },
  {
   "cell_type": "code",
   "execution_count": 68,
   "metadata": {
    "collapsed": true
   },
   "outputs": [],
   "source": [
    "def plot_dist_threash(max_dist=200):\n",
    "    #max_dist = 200 # pairwise distance\n",
    "    clusters = fcluster(Z, max_dist, criterion='distance')\n",
    "    plt.scatter(X[:,0], X[:,6], c=clusters, cmap='prism', s=40)\n",
    "    plt.figsize=(10,8)\n",
    "    plt.title(\"Max Dist: %d\" % max_dist)\n",
    "    plt.show()"
   ]
  },
  {
   "cell_type": "code",
   "execution_count": 69,
   "metadata": {
    "collapsed": false
   },
   "outputs": [
    {
     "data": {
      "image/png": "[encoded data removed]",
      "text/plain": [
       "<matplotlib.figure.Figure at 0x10aa5b690>"
      ]
     },
     "metadata": {},
     "output_type": "display_data"
    },
    {
     "data": {
      "image/png": "[encoded data removed]",
      "text/plain": [
       "<matplotlib.figure.Figure at 0x10b24e3d0>"
      ]
     },
     "metadata": {},
     "output_type": "display_data"
    },
    {
     "data": {
      "image/png": "[encoded data removed]",
      "text/plain": [
       "<matplotlib.figure.Figure at 0x10b24ed50>"
      ]
     },
     "metadata": {},
     "output_type": "display_data"
    },
    {
     "data": {
      "image/png": "[encoded data removed]",
      "text/plain": [
       "<matplotlib.figure.Figure at 0x10b5cafd0>"
      ]
     },
     "metadata": {},
     "output_type": "display_data"
    },
    {
     "data": {
      "image/png": "[encoded data removed]",
      "text/plain": [
       "<matplotlib.figure.Figure at 0x10c184950>"
      ]
     },
     "metadata": {},
     "output_type": "display_data"
    },
    {
     "data": {
      "image/png": "[encoded data removed]",
      "text/plain": [
       "<matplotlib.figure.Figure at 0x10c25ff10>"
      ]
     },
     "metadata": {},
     "output_type": "display_data"
    }
   ],
   "source": [
    "plot_dist_threash(400)\n",
    "plot_dist_threash(300)\n",
    "plot_dist_threash(250)\n",
    "plot_dist_threash(200)\n",
    "plot_dist_threash(150)\n",
    "plot_dist_threash(50)"
   ]
  },
  {
   "cell_type": "code",
   "execution_count": 70,
   "metadata": {
    "collapsed": false
   },
   "outputs": [
    {
     "data": {
      "image/png": "[encoded data removed]",
      "text/plain": [
       "<matplotlib.figure.Figure at 0x10b02c810>"
      ]
     },
     "metadata": {},
     "output_type": "display_data"
    }
   ],
   "source": [
    "plt.scatter(X[:,0], X[:,6], c=clusters, cmap='prism', s=50)\n",
    "plt.show()"
   ]
  },
  {
   "cell_type": "markdown",
   "metadata": {},
   "source": [
    "### Changing our max_dist threashold \n",
    "We can see the range of max_dist has on our predicted cluster points and # of clusters found."
   ]
  },
  {
   "cell_type": "code",
   "execution_count": 62,
   "metadata": {
    "collapsed": true
   },
   "outputs": [],
   "source": [
    "from __future__ import print_function\n",
    "from ipywidgets import interact, interactive, fixed\n",
    "import ipywidgets as widgets\n",
    "from ipywidgets import *"
   ]
  },
  {
   "cell_type": "code",
   "execution_count": 73,
   "metadata": {
    "collapsed": false
   },
   "outputs": [
    {
     "data": {
      "image/png": "[encoded data removed]",
      "text/plain": [
       "<matplotlib.figure.Figure at 0x10aec2fd0>"
      ]
     },
     "metadata": {},
     "output_type": "display_data"
    }
   ],
   "source": [
    "interact(plot_dist_threash, x=400, i=IntSlider(min=1, max=200, step=1))"
   ]
  },
  {
   "cell_type": "markdown",
   "metadata": {
    "slideshow": {
     "slide_type": "slide"
    }
   },
   "source": [
    "<a name=\"ind-practice\"></a>\n",
    "## Independent Practice: Perform a Hierarchical Clustering Analysis (15 minutes)\n",
    "\n",
    "> Pair or independent activity\n",
    "\n",
    "Now that we've walked through the process of clustering, it's time to try it on your own. We're going to be working with the iris data set, and your job is to cluster the data to understand their various attributes.\n",
    "\n",
    "Open the [data](../assets/datasets/iris.csv) and [starter code](../code/starter-code/starter-code.ipynb) and try to work through both exercises.\n"
   ]
  },
  {
   "cell_type": "markdown",
   "metadata": {
    "slideshow": {
     "slide_type": "slide"
    }
   },
   "source": [
    "<a name=\"conclusion\"></a>\n",
    "## Conclusion (5 mins)\n",
    "- Recall the definitions of linkage, cophenetic coefficient, and dendrogram\n",
    "- Recap and recall the process steps in hierachical clustering\n",
    "    - Linkage: First, we create the linkages in python that form the basis of our analysis\n",
    "    - Cophenetic Coefficient: We find the cophenetic coefficient to determine how well our analysis is running\n",
    "    - Dendrogram: We plot the dendrogram and visually inspect the clusters\n",
    "    - Lastly, we find our cluster ID's and plot\n",
    "\n",
    "***"
   ]
  },
  {
   "cell_type": "markdown",
   "metadata": {
    "slideshow": {
     "slide_type": "slide"
    }
   },
   "source": [
    "## Additional Resources \n",
    "\n",
    "- [SciPy Documentation for Linkage techniques](http://docs.scipy.org/doc/scipy-0.16.0/reference/generated/scipy.cluster.hierarchy.linkage.html)\n",
    "- [What even is this Hierarchical Clustering Thing, Anyway?](http://www.saedsayad.com/clustering_hierarchical.htm)"
   ]
  },
  {
   "cell_type": "markdown",
   "metadata": {
    "slideshow": {
     "slide_type": "slide"
    }
   },
   "source": [
    "### Extra Practice\n",
    "    \n",
    "Load up our FAA dataset or Dating Survey Dataset and try to apply heirarchical clustering."
   ]
  }
 ],
 "metadata": {
  "celltoolbar": "Slideshow",
  "kernelspec": {
   "display_name": "Python 2",
   "language": "python",
   "name": "python2"
  },
  "language_info": {
   "codemirror_mode": {
    "name": "ipython",
    "version": 2
   },
   "file_extension": ".py",
   "mimetype": "text/x-python",
   "name": "python",
   "nbconvert_exporter": "python",
   "pygments_lexer": "ipython2",
   "version": "2.7.11"
  },
  "widgets": {
   "state": {
    "074689c75e394fd7b9de22ab2419a6a7": {
     "views": []
    },
    "07c48315e0614c04befe71074751a3bb": {
     "views": []
    },
    "12e88f218c504d91b4ef8440669da037": {
     "views": []
    },
    "1383a4e7f202450993fe0efdcedc969c": {
     "views": []
    },
    "17f5ab343c0d4fabbbc8088b221dcbe8": {
     "views": []
    },
    "26818f6dd7e54e7283f4930d7ac870c5": {
     "views": []
    },
    "2a9016cc513d4b41976f3ade221092d6": {
     "views": []
    },
    "2bf5af94e5cb4059a8e9508b317ed9af": {
     "views": []
    },
    "319353508fb84c8781da1c7aa6b28a23": {
     "views": []
    },
    "34bb98bec18940da9df889c2c27e9009": {
     "views": []
    },
    "3a6a5815ef2440ae92329b0bf8cd0a0f": {
     "views": []
    },
    "404d982baf6a458091261998ade1bcaa": {
     "views": []
    },
    "412471b9c6ef43cba7bd494c9a1eb363": {
     "views": []
    },
    "43d5b91a05bf4fbf9720e6febe557eae": {
     "views": []
    },
    "44a7a27be5314e13944aaf72f56e9fb1": {
     "views": []
    },
    "4d62939b8760438db4b05ce325378f67": {
     "views": []
    },
    "4da307a8820e47639c4efdf409e427ec": {
     "views": []
    },
    "4f8282ad849e4ff9a91a0f8038036f3f": {
     "views": []
    },
    "51d8b781d0574d889300e65dbc95cb0e": {
     "views": []
    },
    "51e76876e17e4506b181fe0d3121e9ab": {
     "views": []
    },
    "5d8bca2548744e66821f4edf366d59f7": {
     "views": []
    },
    "5ec097d6eb654e57b3bf433cac316c60": {
     "views": []
    },
    "614597437cca474bab4a5d03ed93db84": {
     "views": []
    },
    "65dc5fcde4fa4abba595c33b58c4b7f0": {
     "views": []
    },
    "663c07886cf4490bba1cce09924f9417": {
     "views": []
    },
    "672ce47f4406406dbbef144a15d307fd": {
     "views": []
    },
    "71e2f82c2df2427490496d0d9e556f0f": {
     "views": []
    },
    "736b1def904a4ffab814633d1b59d022": {
     "views": []
    },
    "7e93aa0fa9d24488a730f5ce6000291c": {
     "views": []
    },
    "81b199820dd3432c80904a58dc403d19": {
     "views": []
    },
    "8a59af2b376941d486f1de4986ec9afe": {
     "views": []
    },
    "99fa960df8d047cea28a3c0f3790697b": {
     "views": []
    },
    "adb18dcffdb2425781f46565dfb09dc6": {
     "views": [
      {
       "cell": {
        "cell_type": "code",
        "execution_count": 73,
        "metadata": {
         "collapsed": false,
         "trusted": true
        },
        "outputs": [
         {
          "data": {
           "image/png": "iVBORw0KGgoAAAANSUhEUgAAAXoAAAEKCAYAAAAcgp5RAAAABHNCSVQICAgIfAhkiAAAAAlwSFlz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\nrkJggg==\n",
           "text/plain": "<matplotlib.figure.Figure at 0x10aec2fd0>"
          },
          "metadata": {},
          "output_type": "display_data"
         }
        ],
        "source": "interact(plot_dist_threash, x=400, i=IntSlider(min=1, max=200, step=1))"
       },
       "cell_index": 46,
       "root": true
      }
     ]
    },
    "b4accbbbb98744518f0f2098cb2952a9": {
     "views": []
    },
    "b4b6e7ad74bf47f68420f9e566213d15": {
     "views": []
    },
    "bacab8abfd634f6e9857396a6c1c5159": {
     "views": []
    },
    "c3c7cdca643948dc88d6c5ad88e54152": {
     "views": []
    },
    "d078b4d1196b4e9faa83b86258e8e772": {
     "views": []
    },
    "d0ab409833c847ffaa571206c139fb00": {
     "views": []
    },
    "d4e67ebc8a3447399e07bc3331d3facd": {
     "views": []
    },
    "d948609eeb654ea797fb49903ed1c8b4": {
     "views": []
    },
    "dad834db996e4981a84d572d35ad48f7": {
     "views": []
    },
    "dfffd12ed71f44f9a3d33d9353c08f8f": {
     "views": []
    },
    "e490777394b744f2ad5642b8c74a6c60": {
     "views": []
    },
    "eb1aa8f5b4ba49fb99c9bd4c28c3b595": {
     "views": []
    },
    "f0b7d15c845e4c099935857777354b40": {
     "views": []
    },
    "f3c6b6372a1d4b5e8e800fdf1a82523f": {
     "views": []
    },
    "f8489edb5ab24d21800596794c1e4f47": {
     "views": []
    },
    "fcc44b25b9514437bdd30c614f511274": {
     "views": []
    },
    "fcd2d378e39d4949a2c0db07838f367a": {
     "views": []
    }
   },
   "version": "1.1.0"
  }
 },
 "nbformat": 4,
 "nbformat_minor": 0
}
