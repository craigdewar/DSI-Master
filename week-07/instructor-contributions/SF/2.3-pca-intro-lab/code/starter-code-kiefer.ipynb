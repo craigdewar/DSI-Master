{
 "cells": [
  {
   "cell_type": "code",
   "execution_count": 29,
   "metadata": {
    "collapsed": true
   },
   "outputs": [],
   "source": [
    "import pandas as pd\n",
    "import numpy as np\n",
    "import os\n",
    "from matplotlib import pyplot as plt\n",
    "import numpy as np\n",
    "import math\n",
    "from sklearn.preprocessing import StandardScaler\n",
    "from sklearn.decomposition import PCA \n",
    "\n",
    "votes_file = '../assets/datasets/votes.csv'\n",
    "airport_file = '../assets/datasets/Airport_operations.csv'"
   ]
  },
  {
   "cell_type": "markdown",
   "metadata": {},
   "source": [
    "# Case #1: Congressional Voting Data"
   ]
  },
  {
   "cell_type": "markdown",
   "metadata": {},
   "source": [
    "After you've downloaded the data from the repository, go ahead and load it with Pandas"
   ]
  },
  {
   "cell_type": "code",
   "execution_count": 30,
   "metadata": {
    "collapsed": false
   },
   "outputs": [],
   "source": [
    "votes = pd.read_csv(votes_file)"
   ]
  },
  {
   "cell_type": "code",
   "execution_count": 31,
   "metadata": {
    "collapsed": false
   },
   "outputs": [
    {
     "data": {
      "text/plain": [
       "(435, 18)"
      ]
     },
     "execution_count": 31,
     "metadata": {},
     "output_type": "execute_result"
    }
   ],
   "source": [
    "votes.shape"
   ]
  },
  {
   "cell_type": "code",
   "execution_count": 32,
   "metadata": {
    "collapsed": false
   },
   "outputs": [
    {
     "data": {
      "text/html": [
       "<div>\n",
       "<table border=\"1\" class=\"dataframe\">\n",
       "  <thead>\n",
       "    <tr style=\"text-align: right;\">\n",
       "      <th></th>\n",
       "      <th>Unnamed: 0</th>\n",
       "      <th>Class</th>\n",
       "      <th>V1</th>\n",
       "      <th>V2</th>\n",
       "      <th>V3</th>\n",
       "      <th>V4</th>\n",
       "      <th>V5</th>\n",
       "      <th>V6</th>\n",
       "      <th>V7</th>\n",
       "      <th>V8</th>\n",
       "      <th>V9</th>\n",
       "      <th>V10</th>\n",
       "      <th>V11</th>\n",
       "      <th>V12</th>\n",
       "      <th>V13</th>\n",
       "      <th>V14</th>\n",
       "      <th>V15</th>\n",
       "      <th>V16</th>\n",
       "    </tr>\n",
       "  </thead>\n",
       "  <tbody>\n",
       "    <tr>\n",
       "      <th>0</th>\n",
       "      <td>1</td>\n",
       "      <td>republican</td>\n",
       "      <td>n</td>\n",
       "      <td>y</td>\n",
       "      <td>n</td>\n",
       "      <td>y</td>\n",
       "      <td>y</td>\n",
       "      <td>y</td>\n",
       "      <td>n</td>\n",
       "      <td>n</td>\n",
       "      <td>n</td>\n",
       "      <td>y</td>\n",
       "      <td>NaN</td>\n",
       "      <td>y</td>\n",
       "      <td>y</td>\n",
       "      <td>y</td>\n",
       "      <td>n</td>\n",
       "      <td>y</td>\n",
       "    </tr>\n",
       "    <tr>\n",
       "      <th>1</th>\n",
       "      <td>2</td>\n",
       "      <td>republican</td>\n",
       "      <td>n</td>\n",
       "      <td>y</td>\n",
       "      <td>n</td>\n",
       "      <td>y</td>\n",
       "      <td>y</td>\n",
       "      <td>y</td>\n",
       "      <td>n</td>\n",
       "      <td>n</td>\n",
       "      <td>n</td>\n",
       "      <td>n</td>\n",
       "      <td>n</td>\n",
       "      <td>y</td>\n",
       "      <td>y</td>\n",
       "      <td>y</td>\n",
       "      <td>n</td>\n",
       "      <td>NaN</td>\n",
       "    </tr>\n",
       "    <tr>\n",
       "      <th>2</th>\n",
       "      <td>3</td>\n",
       "      <td>democrat</td>\n",
       "      <td>NaN</td>\n",
       "      <td>y</td>\n",
       "      <td>y</td>\n",
       "      <td>NaN</td>\n",
       "      <td>y</td>\n",
       "      <td>y</td>\n",
       "      <td>n</td>\n",
       "      <td>n</td>\n",
       "      <td>n</td>\n",
       "      <td>n</td>\n",
       "      <td>y</td>\n",
       "      <td>n</td>\n",
       "      <td>y</td>\n",
       "      <td>y</td>\n",
       "      <td>n</td>\n",
       "      <td>n</td>\n",
       "    </tr>\n",
       "    <tr>\n",
       "      <th>3</th>\n",
       "      <td>4</td>\n",
       "      <td>democrat</td>\n",
       "      <td>n</td>\n",
       "      <td>y</td>\n",
       "      <td>y</td>\n",
       "      <td>n</td>\n",
       "      <td>NaN</td>\n",
       "      <td>y</td>\n",
       "      <td>n</td>\n",
       "      <td>n</td>\n",
       "      <td>n</td>\n",
       "      <td>n</td>\n",
       "      <td>y</td>\n",
       "      <td>n</td>\n",
       "      <td>y</td>\n",
       "      <td>n</td>\n",
       "      <td>n</td>\n",
       "      <td>y</td>\n",
       "    </tr>\n",
       "    <tr>\n",
       "      <th>4</th>\n",
       "      <td>5</td>\n",
       "      <td>democrat</td>\n",
       "      <td>y</td>\n",
       "      <td>y</td>\n",
       "      <td>y</td>\n",
       "      <td>n</td>\n",
       "      <td>y</td>\n",
       "      <td>y</td>\n",
       "      <td>n</td>\n",
       "      <td>n</td>\n",
       "      <td>n</td>\n",
       "      <td>n</td>\n",
       "      <td>y</td>\n",
       "      <td>NaN</td>\n",
       "      <td>y</td>\n",
       "      <td>y</td>\n",
       "      <td>y</td>\n",
       "      <td>y</td>\n",
       "    </tr>\n",
       "  </tbody>\n",
       "</table>\n",
       "</div>"
      ],
      "text/plain": [
       "   Unnamed: 0       Class   V1 V2 V3   V4   V5 V6 V7 V8 V9 V10  V11  V12 V13  \\\n",
       "0           1  republican    n  y  n    y    y  y  n  n  n   y  NaN    y   y   \n",
       "1           2  republican    n  y  n    y    y  y  n  n  n   n    n    y   y   \n",
       "2           3    democrat  NaN  y  y  NaN    y  y  n  n  n   n    y    n   y   \n",
       "3           4    democrat    n  y  y    n  NaN  y  n  n  n   n    y    n   y   \n",
       "4           5    democrat    y  y  y    n    y  y  n  n  n   n    y  NaN   y   \n",
       "\n",
       "  V14 V15  V16  \n",
       "0   y   n    y  \n",
       "1   y   n  NaN  \n",
       "2   y   n    n  \n",
       "3   n   n    y  \n",
       "4   y   y    y  "
      ]
     },
     "execution_count": 32,
     "metadata": {},
     "output_type": "execute_result"
    }
   ],
   "source": [
    "votes.head()"
   ]
  },
  {
   "cell_type": "code",
   "execution_count": 33,
   "metadata": {
    "collapsed": false,
    "scrolled": true
   },
   "outputs": [
    {
     "data": {
      "text/html": [
       "<div>\n",
       "<table border=\"1\" class=\"dataframe\">\n",
       "  <thead>\n",
       "    <tr style=\"text-align: right;\">\n",
       "      <th></th>\n",
       "      <th>Class</th>\n",
       "      <th>V1</th>\n",
       "      <th>V2</th>\n",
       "      <th>V3</th>\n",
       "      <th>V4</th>\n",
       "      <th>V5</th>\n",
       "      <th>V6</th>\n",
       "      <th>V7</th>\n",
       "      <th>V8</th>\n",
       "      <th>V9</th>\n",
       "      <th>V10</th>\n",
       "      <th>V11</th>\n",
       "      <th>V12</th>\n",
       "      <th>V13</th>\n",
       "      <th>V14</th>\n",
       "      <th>V15</th>\n",
       "      <th>V16</th>\n",
       "    </tr>\n",
       "  </thead>\n",
       "  <tbody>\n",
       "    <tr>\n",
       "      <th>0</th>\n",
       "      <td>republican</td>\n",
       "      <td>n</td>\n",
       "      <td>y</td>\n",
       "      <td>n</td>\n",
       "      <td>y</td>\n",
       "      <td>y</td>\n",
       "      <td>y</td>\n",
       "      <td>n</td>\n",
       "      <td>n</td>\n",
       "      <td>n</td>\n",
       "      <td>y</td>\n",
       "      <td>NaN</td>\n",
       "      <td>y</td>\n",
       "      <td>y</td>\n",
       "      <td>y</td>\n",
       "      <td>n</td>\n",
       "      <td>y</td>\n",
       "    </tr>\n",
       "    <tr>\n",
       "      <th>1</th>\n",
       "      <td>republican</td>\n",
       "      <td>n</td>\n",
       "      <td>y</td>\n",
       "      <td>n</td>\n",
       "      <td>y</td>\n",
       "      <td>y</td>\n",
       "      <td>y</td>\n",
       "      <td>n</td>\n",
       "      <td>n</td>\n",
       "      <td>n</td>\n",
       "      <td>n</td>\n",
       "      <td>n</td>\n",
       "      <td>y</td>\n",
       "      <td>y</td>\n",
       "      <td>y</td>\n",
       "      <td>n</td>\n",
       "      <td>NaN</td>\n",
       "    </tr>\n",
       "  </tbody>\n",
       "</table>\n",
       "</div>"
      ],
      "text/plain": [
       "        Class V1 V2 V3 V4 V5 V6 V7 V8 V9 V10  V11 V12 V13 V14 V15  V16\n",
       "0  republican  n  y  n  y  y  y  n  n  n   y  NaN   y   y   y   n    y\n",
       "1  republican  n  y  n  y  y  y  n  n  n   n    n   y   y   y   n  NaN"
      ]
     },
     "execution_count": 33,
     "metadata": {},
     "output_type": "execute_result"
    }
   ],
   "source": [
    "votes = votes.iloc[:, 1:]\n",
    "votes.head(2)"
   ]
  },
  {
   "cell_type": "code",
   "execution_count": 34,
   "metadata": {
    "collapsed": false
   },
   "outputs": [
    {
     "name": "stdout",
     "output_type": "stream",
     "text": [
      "[0, 0, 1, 1, 1, 1, 1, 0, 0, 1]\n"
     ]
    }
   ],
   "source": [
    "Y = [1 if x == 'democrat' else 0 for x in votes.Class.values]\n",
    "print Y[0:10]"
   ]
  },
  {
   "cell_type": "code",
   "execution_count": 35,
   "metadata": {
    "collapsed": false
   },
   "outputs": [
    {
     "data": {
      "text/html": [
       "<div>\n",
       "<table border=\"1\" class=\"dataframe\">\n",
       "  <thead>\n",
       "    <tr style=\"text-align: right;\">\n",
       "      <th></th>\n",
       "      <th>V1</th>\n",
       "      <th>V2</th>\n",
       "      <th>V3</th>\n",
       "      <th>V4</th>\n",
       "      <th>V5</th>\n",
       "      <th>V6</th>\n",
       "      <th>V7</th>\n",
       "      <th>V8</th>\n",
       "      <th>V9</th>\n",
       "      <th>V10</th>\n",
       "      <th>V11</th>\n",
       "      <th>V12</th>\n",
       "      <th>V13</th>\n",
       "      <th>V14</th>\n",
       "      <th>V15</th>\n",
       "      <th>V16</th>\n",
       "    </tr>\n",
       "  </thead>\n",
       "  <tbody>\n",
       "    <tr>\n",
       "      <th>0</th>\n",
       "      <td>n</td>\n",
       "      <td>y</td>\n",
       "      <td>n</td>\n",
       "      <td>y</td>\n",
       "      <td>y</td>\n",
       "      <td>y</td>\n",
       "      <td>n</td>\n",
       "      <td>n</td>\n",
       "      <td>n</td>\n",
       "      <td>y</td>\n",
       "      <td>NaN</td>\n",
       "      <td>y</td>\n",
       "      <td>y</td>\n",
       "      <td>y</td>\n",
       "      <td>n</td>\n",
       "      <td>y</td>\n",
       "    </tr>\n",
       "    <tr>\n",
       "      <th>1</th>\n",
       "      <td>n</td>\n",
       "      <td>y</td>\n",
       "      <td>n</td>\n",
       "      <td>y</td>\n",
       "      <td>y</td>\n",
       "      <td>y</td>\n",
       "      <td>n</td>\n",
       "      <td>n</td>\n",
       "      <td>n</td>\n",
       "      <td>n</td>\n",
       "      <td>n</td>\n",
       "      <td>y</td>\n",
       "      <td>y</td>\n",
       "      <td>y</td>\n",
       "      <td>n</td>\n",
       "      <td>NaN</td>\n",
       "    </tr>\n",
       "  </tbody>\n",
       "</table>\n",
       "</div>"
      ],
      "text/plain": [
       "  V1 V2 V3 V4 V5 V6 V7 V8 V9 V10  V11 V12 V13 V14 V15  V16\n",
       "0  n  y  n  y  y  y  n  n  n   y  NaN   y   y   y   n    y\n",
       "1  n  y  n  y  y  y  n  n  n   n    n   y   y   y   n  NaN"
      ]
     },
     "execution_count": 35,
     "metadata": {},
     "output_type": "execute_result"
    }
   ],
   "source": [
    "Xvote = votes.iloc[:, 1:]\n",
    "Xvote.head(2)"
   ]
  },
  {
   "cell_type": "code",
   "execution_count": 36,
   "metadata": {
    "collapsed": false
   },
   "outputs": [
    {
     "data": {
      "text/plain": [
       "V1      12\n",
       "V2      48\n",
       "V3      11\n",
       "V4      11\n",
       "V5      15\n",
       "V6      11\n",
       "V7      14\n",
       "V8      15\n",
       "V9      22\n",
       "V10      7\n",
       "V11     21\n",
       "V12     31\n",
       "V13     25\n",
       "V14     17\n",
       "V15     28\n",
       "V16    104\n",
       "dtype: int64"
      ]
     },
     "execution_count": 36,
     "metadata": {},
     "output_type": "execute_result"
    }
   ],
   "source": [
    "Xvote.isnull().sum()"
   ]
  },
  {
   "cell_type": "code",
   "execution_count": 37,
   "metadata": {
    "collapsed": false
   },
   "outputs": [
    {
     "name": "stdout",
     "output_type": "stream",
     "text": [
      "Rows lost: 203\n",
      "Data points removing rows: 3248\n",
      "Orignal valid data points: 6568\n",
      "INvalid to fill in: 392\n"
     ]
    }
   ],
   "source": [
    "print 'Rows lost:', Xvote.shape[0] - Xvote.dropna().shape[0]\n",
    "print 'Data points removing rows:', (Xvote.shape[0] - Xvote.dropna().shape[0])*Xvote.shape[1]\n",
    "print 'Orignal valid data points:', Xvote.shape[0]*Xvote.shape[1] - Xvote.isnull().sum().sum()\n",
    "print 'INvalid to fill in:', Xvote.isnull().sum().sum()"
   ]
  },
  {
   "cell_type": "code",
   "execution_count": 38,
   "metadata": {
    "collapsed": false
   },
   "outputs": [
    {
     "name": "stderr",
     "output_type": "stream",
     "text": [
      "//anaconda/lib/python2.7/site-packages/pandas/core/indexing.py:545: SettingWithCopyWarning: \n",
      "A value is trying to be set on a copy of a slice from a DataFrame.\n",
      "Try using .loc[row_indexer,col_indexer] = value instead\n",
      "\n",
      "See the caveats in the documentation: http://pandas.pydata.org/pandas-docs/stable/indexing.html#indexing-view-versus-copy\n",
      "  self.obj[item_labels[indexer[info_axis]]] = value\n",
      "//anaconda/lib/python2.7/site-packages/pandas/core/indexing.py:461: SettingWithCopyWarning: \n",
      "A value is trying to be set on a copy of a slice from a DataFrame.\n",
      "Try using .loc[row_indexer,col_indexer] = value instead\n",
      "\n",
      "See the caveats in the documentation: http://pandas.pydata.org/pandas-docs/stable/indexing.html#indexing-view-versus-copy\n",
      "  self.obj[item] = s\n",
      "/anaconda/lib/python2.7/site-packages/ipykernel/__main__.py:20: SettingWithCopyWarning: \n",
      "A value is trying to be set on a copy of a slice from a DataFrame\n",
      "\n",
      "See the caveats in the documentation: http://pandas.pydata.org/pandas-docs/stable/indexing.html#indexing-view-versus-copy\n"
     ]
    },
    {
     "data": {
      "text/plain": [
       "V1     0\n",
       "V2     0\n",
       "V3     0\n",
       "V4     0\n",
       "V5     0\n",
       "V6     0\n",
       "V7     0\n",
       "V8     0\n",
       "V9     0\n",
       "V10    0\n",
       "V11    0\n",
       "V12    0\n",
       "V13    0\n",
       "V14    0\n",
       "V15    0\n",
       "V16    0\n",
       "dtype: int64"
      ]
     },
     "execution_count": 38,
     "metadata": {},
     "output_type": "execute_result"
    }
   ],
   "source": [
    "def change_yn_to_binary(x):\n",
    "    if x == 'y':\n",
    "        return 1\n",
    "    elif x == 'n':\n",
    "        return 0\n",
    "    else:\n",
    "        return x\n",
    "\n",
    "# fill in the missing values with random 1 or 0:\n",
    "\n",
    "# iterate through the columns\n",
    "for c in Xvote.columns:\n",
    "    \n",
    "    Xvote.loc[:, c] = Xvote[c].map(change_yn_to_binary)\n",
    "    \n",
    "    # make a mask of rows for this column where the value is null/nan\n",
    "    mask = Xvote[c].isnull()\n",
    "    # for those rows at this column, put in random 1s or 0s the size of the number\n",
    "    # of missing values\n",
    "    Xvote.loc[mask, c] = np.random.choice(2, size=np.sum(mask))\n",
    "    \n",
    "Xvote.isnull().sum()    "
   ]
  },
  {
   "cell_type": "markdown",
   "metadata": {},
   "source": [
    "Next, create the covariance matrix from the standardized x-values and decompose these values to find the eigenvalues and eigenvectors"
   ]
  },
  {
   "cell_type": "code",
   "execution_count": 39,
   "metadata": {
    "collapsed": false
   },
   "outputs": [
    {
     "data": {
      "text/html": [
       "<div>\n",
       "<table border=\"1\" class=\"dataframe\">\n",
       "  <thead>\n",
       "    <tr style=\"text-align: right;\">\n",
       "      <th></th>\n",
       "      <th>V1</th>\n",
       "      <th>V2</th>\n",
       "      <th>V3</th>\n",
       "      <th>V4</th>\n",
       "      <th>V5</th>\n",
       "      <th>V6</th>\n",
       "      <th>V7</th>\n",
       "      <th>V8</th>\n",
       "      <th>V9</th>\n",
       "      <th>V10</th>\n",
       "      <th>V11</th>\n",
       "      <th>V12</th>\n",
       "      <th>V13</th>\n",
       "      <th>V14</th>\n",
       "      <th>V15</th>\n",
       "      <th>V16</th>\n",
       "    </tr>\n",
       "  </thead>\n",
       "  <tbody>\n",
       "    <tr>\n",
       "      <th>V1</th>\n",
       "      <td>1.000000</td>\n",
       "      <td>0.034459</td>\n",
       "      <td>0.385787</td>\n",
       "      <td>-0.410596</td>\n",
       "      <td>-0.361700</td>\n",
       "      <td>-0.386424</td>\n",
       "      <td>0.351097</td>\n",
       "      <td>0.380789</td>\n",
       "      <td>0.309473</td>\n",
       "      <td>-0.092997</td>\n",
       "      <td>0.089299</td>\n",
       "      <td>-0.354338</td>\n",
       "      <td>-0.348344</td>\n",
       "      <td>-0.347108</td>\n",
       "      <td>0.182816</td>\n",
       "      <td>0.064338</td>\n",
       "    </tr>\n",
       "    <tr>\n",
       "      <th>V2</th>\n",
       "      <td>0.034459</td>\n",
       "      <td>1.000000</td>\n",
       "      <td>-0.062831</td>\n",
       "      <td>0.057807</td>\n",
       "      <td>0.117294</td>\n",
       "      <td>0.146658</td>\n",
       "      <td>-0.196911</td>\n",
       "      <td>-0.085628</td>\n",
       "      <td>-0.172399</td>\n",
       "      <td>-0.140211</td>\n",
       "      <td>0.177925</td>\n",
       "      <td>-0.007338</td>\n",
       "      <td>0.204638</td>\n",
       "      <td>-0.011264</td>\n",
       "      <td>-0.090674</td>\n",
       "      <td>-0.092058</td>\n",
       "    </tr>\n",
       "    <tr>\n",
       "      <th>V3</th>\n",
       "      <td>0.385787</td>\n",
       "      <td>-0.062831</td>\n",
       "      <td>1.000000</td>\n",
       "      <td>-0.711485</td>\n",
       "      <td>-0.638523</td>\n",
       "      <td>-0.421310</td>\n",
       "      <td>0.561833</td>\n",
       "      <td>0.674433</td>\n",
       "      <td>0.576725</td>\n",
       "      <td>0.017892</td>\n",
       "      <td>0.211376</td>\n",
       "      <td>-0.607102</td>\n",
       "      <td>-0.492226</td>\n",
       "      <td>-0.568356</td>\n",
       "      <td>0.448372</td>\n",
       "      <td>0.238984</td>\n",
       "    </tr>\n",
       "    <tr>\n",
       "      <th>V4</th>\n",
       "      <td>-0.410596</td>\n",
       "      <td>0.057807</td>\n",
       "      <td>-0.711485</td>\n",
       "      <td>1.000000</td>\n",
       "      <td>0.749448</td>\n",
       "      <td>0.469028</td>\n",
       "      <td>-0.577480</td>\n",
       "      <td>-0.680253</td>\n",
       "      <td>-0.624108</td>\n",
       "      <td>0.051374</td>\n",
       "      <td>-0.270819</td>\n",
       "      <td>0.642084</td>\n",
       "      <td>0.576503</td>\n",
       "      <td>0.617912</td>\n",
       "      <td>-0.510065</td>\n",
       "      <td>-0.213288</td>\n",
       "    </tr>\n",
       "    <tr>\n",
       "      <th>V5</th>\n",
       "      <td>-0.361700</td>\n",
       "      <td>0.117294</td>\n",
       "      <td>-0.638523</td>\n",
       "      <td>0.749448</td>\n",
       "      <td>1.000000</td>\n",
       "      <td>0.610498</td>\n",
       "      <td>-0.682137</td>\n",
       "      <td>-0.813308</td>\n",
       "      <td>-0.742859</td>\n",
       "      <td>0.015837</td>\n",
       "      <td>-0.131381</td>\n",
       "      <td>0.581911</td>\n",
       "      <td>0.618327</td>\n",
       "      <td>0.658690</td>\n",
       "      <td>-0.542620</td>\n",
       "      <td>-0.220368</td>\n",
       "    </tr>\n",
       "    <tr>\n",
       "      <th>V6</th>\n",
       "      <td>-0.386424</td>\n",
       "      <td>0.146658</td>\n",
       "      <td>-0.421310</td>\n",
       "      <td>0.469028</td>\n",
       "      <td>0.610498</td>\n",
       "      <td>1.000000</td>\n",
       "      <td>-0.530016</td>\n",
       "      <td>-0.533405</td>\n",
       "      <td>-0.541858</td>\n",
       "      <td>0.083903</td>\n",
       "      <td>0.020898</td>\n",
       "      <td>0.488406</td>\n",
       "      <td>0.520839</td>\n",
       "      <td>0.562264</td>\n",
       "      <td>-0.448035</td>\n",
       "      <td>-0.140247</td>\n",
       "    </tr>\n",
       "    <tr>\n",
       "      <th>V7</th>\n",
       "      <td>0.351097</td>\n",
       "      <td>-0.196911</td>\n",
       "      <td>0.561833</td>\n",
       "      <td>-0.577480</td>\n",
       "      <td>-0.682137</td>\n",
       "      <td>-0.530016</td>\n",
       "      <td>1.000000</td>\n",
       "      <td>0.690502</td>\n",
       "      <td>0.641190</td>\n",
       "      <td>0.023323</td>\n",
       "      <td>0.063257</td>\n",
       "      <td>-0.492941</td>\n",
       "      <td>-0.556160</td>\n",
       "      <td>-0.490109</td>\n",
       "      <td>0.459532</td>\n",
       "      <td>0.299085</td>\n",
       "    </tr>\n",
       "    <tr>\n",
       "      <th>V8</th>\n",
       "      <td>0.380789</td>\n",
       "      <td>-0.085628</td>\n",
       "      <td>0.674433</td>\n",
       "      <td>-0.680253</td>\n",
       "      <td>-0.813308</td>\n",
       "      <td>-0.533405</td>\n",
       "      <td>0.690502</td>\n",
       "      <td>1.000000</td>\n",
       "      <td>0.706985</td>\n",
       "      <td>0.023204</td>\n",
       "      <td>0.133206</td>\n",
       "      <td>-0.557980</td>\n",
       "      <td>-0.575587</td>\n",
       "      <td>-0.596427</td>\n",
       "      <td>0.517533</td>\n",
       "      <td>0.283208</td>\n",
       "    </tr>\n",
       "    <tr>\n",
       "      <th>V9</th>\n",
       "      <td>0.309473</td>\n",
       "      <td>-0.172399</td>\n",
       "      <td>0.576725</td>\n",
       "      <td>-0.624108</td>\n",
       "      <td>-0.742859</td>\n",
       "      <td>-0.541858</td>\n",
       "      <td>0.641190</td>\n",
       "      <td>0.706985</td>\n",
       "      <td>1.000000</td>\n",
       "      <td>0.029706</td>\n",
       "      <td>0.034042</td>\n",
       "      <td>-0.540345</td>\n",
       "      <td>-0.499049</td>\n",
       "      <td>-0.504767</td>\n",
       "      <td>0.453398</td>\n",
       "      <td>0.214758</td>\n",
       "    </tr>\n",
       "    <tr>\n",
       "      <th>V10</th>\n",
       "      <td>-0.092997</td>\n",
       "      <td>-0.140211</td>\n",
       "      <td>0.017892</td>\n",
       "      <td>0.051374</td>\n",
       "      <td>0.015837</td>\n",
       "      <td>0.083903</td>\n",
       "      <td>0.023323</td>\n",
       "      <td>0.023204</td>\n",
       "      <td>0.029706</td>\n",
       "      <td>1.000000</td>\n",
       "      <td>-0.017099</td>\n",
       "      <td>0.051374</td>\n",
       "      <td>0.038903</td>\n",
       "      <td>0.125619</td>\n",
       "      <td>-0.060528</td>\n",
       "      <td>0.078594</td>\n",
       "    </tr>\n",
       "    <tr>\n",
       "      <th>V11</th>\n",
       "      <td>0.089299</td>\n",
       "      <td>0.177925</td>\n",
       "      <td>0.211376</td>\n",
       "      <td>-0.270819</td>\n",
       "      <td>-0.131381</td>\n",
       "      <td>0.020898</td>\n",
       "      <td>0.063257</td>\n",
       "      <td>0.133206</td>\n",
       "      <td>0.034042</td>\n",
       "      <td>-0.017099</td>\n",
       "      <td>1.000000</td>\n",
       "      <td>-0.184083</td>\n",
       "      <td>-0.089756</td>\n",
       "      <td>-0.136724</td>\n",
       "      <td>0.150500</td>\n",
       "      <td>0.028769</td>\n",
       "    </tr>\n",
       "    <tr>\n",
       "      <th>V12</th>\n",
       "      <td>-0.354338</td>\n",
       "      <td>-0.007338</td>\n",
       "      <td>-0.607102</td>\n",
       "      <td>0.642084</td>\n",
       "      <td>0.581911</td>\n",
       "      <td>0.488406</td>\n",
       "      <td>-0.492941</td>\n",
       "      <td>-0.557980</td>\n",
       "      <td>-0.540345</td>\n",
       "      <td>0.051374</td>\n",
       "      <td>-0.184083</td>\n",
       "      <td>1.000000</td>\n",
       "      <td>0.474126</td>\n",
       "      <td>0.542201</td>\n",
       "      <td>-0.453775</td>\n",
       "      <td>-0.170069</td>\n",
       "    </tr>\n",
       "    <tr>\n",
       "      <th>V13</th>\n",
       "      <td>-0.348344</td>\n",
       "      <td>0.204638</td>\n",
       "      <td>-0.492226</td>\n",
       "      <td>0.576503</td>\n",
       "      <td>0.618327</td>\n",
       "      <td>0.520839</td>\n",
       "      <td>-0.556160</td>\n",
       "      <td>-0.575587</td>\n",
       "      <td>-0.499049</td>\n",
       "      <td>0.038903</td>\n",
       "      <td>-0.089756</td>\n",
       "      <td>0.474126</td>\n",
       "      <td>1.000000</td>\n",
       "      <td>0.505197</td>\n",
       "      <td>-0.455102</td>\n",
       "      <td>-0.212303</td>\n",
       "    </tr>\n",
       "    <tr>\n",
       "      <th>V14</th>\n",
       "      <td>-0.347108</td>\n",
       "      <td>-0.011264</td>\n",
       "      <td>-0.568356</td>\n",
       "      <td>0.617912</td>\n",
       "      <td>0.658690</td>\n",
       "      <td>0.562264</td>\n",
       "      <td>-0.490109</td>\n",
       "      <td>-0.596427</td>\n",
       "      <td>-0.504767</td>\n",
       "      <td>0.125619</td>\n",
       "      <td>-0.136724</td>\n",
       "      <td>0.542201</td>\n",
       "      <td>0.505197</td>\n",
       "      <td>1.000000</td>\n",
       "      <td>-0.520844</td>\n",
       "      <td>-0.171356</td>\n",
       "    </tr>\n",
       "    <tr>\n",
       "      <th>V15</th>\n",
       "      <td>0.182816</td>\n",
       "      <td>-0.090674</td>\n",
       "      <td>0.448372</td>\n",
       "      <td>-0.510065</td>\n",
       "      <td>-0.542620</td>\n",
       "      <td>-0.448035</td>\n",
       "      <td>0.459532</td>\n",
       "      <td>0.517533</td>\n",
       "      <td>0.453398</td>\n",
       "      <td>-0.060528</td>\n",
       "      <td>0.150500</td>\n",
       "      <td>-0.453775</td>\n",
       "      <td>-0.455102</td>\n",
       "      <td>-0.520844</td>\n",
       "      <td>1.000000</td>\n",
       "      <td>0.126301</td>\n",
       "    </tr>\n",
       "    <tr>\n",
       "      <th>V16</th>\n",
       "      <td>0.064338</td>\n",
       "      <td>-0.092058</td>\n",
       "      <td>0.238984</td>\n",
       "      <td>-0.213288</td>\n",
       "      <td>-0.220368</td>\n",
       "      <td>-0.140247</td>\n",
       "      <td>0.299085</td>\n",
       "      <td>0.283208</td>\n",
       "      <td>0.214758</td>\n",
       "      <td>0.078594</td>\n",
       "      <td>0.028769</td>\n",
       "      <td>-0.170069</td>\n",
       "      <td>-0.212303</td>\n",
       "      <td>-0.171356</td>\n",
       "      <td>0.126301</td>\n",
       "      <td>1.000000</td>\n",
       "    </tr>\n",
       "  </tbody>\n",
       "</table>\n",
       "</div>"
      ],
      "text/plain": [
       "           V1        V2        V3        V4        V5        V6        V7  \\\n",
       "V1   1.000000  0.034459  0.385787 -0.410596 -0.361700 -0.386424  0.351097   \n",
       "V2   0.034459  1.000000 -0.062831  0.057807  0.117294  0.146658 -0.196911   \n",
       "V3   0.385787 -0.062831  1.000000 -0.711485 -0.638523 -0.421310  0.561833   \n",
       "V4  -0.410596  0.057807 -0.711485  1.000000  0.749448  0.469028 -0.577480   \n",
       "V5  -0.361700  0.117294 -0.638523  0.749448  1.000000  0.610498 -0.682137   \n",
       "V6  -0.386424  0.146658 -0.421310  0.469028  0.610498  1.000000 -0.530016   \n",
       "V7   0.351097 -0.196911  0.561833 -0.577480 -0.682137 -0.530016  1.000000   \n",
       "V8   0.380789 -0.085628  0.674433 -0.680253 -0.813308 -0.533405  0.690502   \n",
       "V9   0.309473 -0.172399  0.576725 -0.624108 -0.742859 -0.541858  0.641190   \n",
       "V10 -0.092997 -0.140211  0.017892  0.051374  0.015837  0.083903  0.023323   \n",
       "V11  0.089299  0.177925  0.211376 -0.270819 -0.131381  0.020898  0.063257   \n",
       "V12 -0.354338 -0.007338 -0.607102  0.642084  0.581911  0.488406 -0.492941   \n",
       "V13 -0.348344  0.204638 -0.492226  0.576503  0.618327  0.520839 -0.556160   \n",
       "V14 -0.347108 -0.011264 -0.568356  0.617912  0.658690  0.562264 -0.490109   \n",
       "V15  0.182816 -0.090674  0.448372 -0.510065 -0.542620 -0.448035  0.459532   \n",
       "V16  0.064338 -0.092058  0.238984 -0.213288 -0.220368 -0.140247  0.299085   \n",
       "\n",
       "           V8        V9       V10       V11       V12       V13       V14  \\\n",
       "V1   0.380789  0.309473 -0.092997  0.089299 -0.354338 -0.348344 -0.347108   \n",
       "V2  -0.085628 -0.172399 -0.140211  0.177925 -0.007338  0.204638 -0.011264   \n",
       "V3   0.674433  0.576725  0.017892  0.211376 -0.607102 -0.492226 -0.568356   \n",
       "V4  -0.680253 -0.624108  0.051374 -0.270819  0.642084  0.576503  0.617912   \n",
       "V5  -0.813308 -0.742859  0.015837 -0.131381  0.581911  0.618327  0.658690   \n",
       "V6  -0.533405 -0.541858  0.083903  0.020898  0.488406  0.520839  0.562264   \n",
       "V7   0.690502  0.641190  0.023323  0.063257 -0.492941 -0.556160 -0.490109   \n",
       "V8   1.000000  0.706985  0.023204  0.133206 -0.557980 -0.575587 -0.596427   \n",
       "V9   0.706985  1.000000  0.029706  0.034042 -0.540345 -0.499049 -0.504767   \n",
       "V10  0.023204  0.029706  1.000000 -0.017099  0.051374  0.038903  0.125619   \n",
       "V11  0.133206  0.034042 -0.017099  1.000000 -0.184083 -0.089756 -0.136724   \n",
       "V12 -0.557980 -0.540345  0.051374 -0.184083  1.000000  0.474126  0.542201   \n",
       "V13 -0.575587 -0.499049  0.038903 -0.089756  0.474126  1.000000  0.505197   \n",
       "V14 -0.596427 -0.504767  0.125619 -0.136724  0.542201  0.505197  1.000000   \n",
       "V15  0.517533  0.453398 -0.060528  0.150500 -0.453775 -0.455102 -0.520844   \n",
       "V16  0.283208  0.214758  0.078594  0.028769 -0.170069 -0.212303 -0.171356   \n",
       "\n",
       "          V15       V16  \n",
       "V1   0.182816  0.064338  \n",
       "V2  -0.090674 -0.092058  \n",
       "V3   0.448372  0.238984  \n",
       "V4  -0.510065 -0.213288  \n",
       "V5  -0.542620 -0.220368  \n",
       "V6  -0.448035 -0.140247  \n",
       "V7   0.459532  0.299085  \n",
       "V8   0.517533  0.283208  \n",
       "V9   0.453398  0.214758  \n",
       "V10 -0.060528  0.078594  \n",
       "V11  0.150500  0.028769  \n",
       "V12 -0.453775 -0.170069  \n",
       "V13 -0.455102 -0.212303  \n",
       "V14 -0.520844 -0.171356  \n",
       "V15  1.000000  0.126301  \n",
       "V16  0.126301  1.000000  "
      ]
     },
     "execution_count": 39,
     "metadata": {},
     "output_type": "execute_result"
    }
   ],
   "source": [
    "Xn = (Xvote - Xvote.mean()) / Xvote.std()\n",
    "Xn_corr = Xn.cov()\n",
    "Xn_corr"
   ]
  },
  {
   "cell_type": "code",
   "execution_count": 40,
   "metadata": {
    "collapsed": true
   },
   "outputs": [],
   "source": [
    "eigenvalues, eigenvectors = np.linalg.eig(Xn_corr.values)"
   ]
  },
  {
   "cell_type": "markdown",
   "metadata": {},
   "source": [
    "Now, let's check the eigenvalues: "
   ]
  },
  {
   "cell_type": "code",
   "execution_count": 41,
   "metadata": {
    "collapsed": false
   },
   "outputs": [
    {
     "data": {
      "text/plain": [
       "array([ 7.08062313,  1.41486572,  1.12169695,  0.88286664,  0.85120904,\n",
       "        0.76037045,  0.61119767,  0.14785371,  0.54403965,  0.48590147,\n",
       "        0.47440161,  0.35071999,  0.31378582,  0.26083424,  0.44349724,\n",
       "        0.25613668])"
      ]
     },
     "execution_count": 41,
     "metadata": {},
     "output_type": "execute_result"
    }
   ],
   "source": [
    "eigenvalues"
   ]
  },
  {
   "cell_type": "markdown",
   "metadata": {},
   "source": [
    "And the eigenvectors: "
   ]
  },
  {
   "cell_type": "code",
   "execution_count": 43,
   "metadata": {
    "collapsed": false
   },
   "outputs": [
    {
     "name": "stdout",
     "output_type": "stream",
     "text": [
      "[[  1.87047967e-01  -1.83367019e-01   1.99625399e-01  -1.20721708e-01\n",
      "   -6.98181391e-01  -4.08721382e-01  -1.95167728e-01  -6.18708839e-02\n",
      "    1.90639773e-03   3.20750680e-01   2.01011839e-01   1.37514999e-01\n",
      "    1.19583260e-01  -6.34582679e-02   2.95161316e-03   3.24249330e-04]\n",
      " [ -5.17736378e-02  -6.18597848e-01  -1.00152724e-01  -2.38833404e-01\n",
      "   -2.15891691e-01   5.93331701e-01  -1.10502683e-01  -8.78057332e-03\n",
      "   -2.20635414e-01   3.53860127e-02  -1.91439452e-01  -1.45237712e-02\n",
      "   -9.35286642e-02   4.28194293e-02   1.68598778e-01   1.04142865e-01]]\n",
      "16\n"
     ]
    }
   ],
   "source": [
    "print eigenvectors[0:2]\n",
    "print len(eigenvectors[0])"
   ]
  },
  {
   "cell_type": "markdown",
   "metadata": {},
   "source": [
    "To find the principal components, find the eigenpairs, and sort them from highest to lowest. "
   ]
  },
  {
   "cell_type": "code",
   "execution_count": 44,
   "metadata": {
    "collapsed": true
   },
   "outputs": [],
   "source": [
    "eigen_pairs = [[e_value, e_vector] for e_value, e_vector in zip(eigenvalues, eigenvectors)]\n",
    "eigen_pairs = sorted(eigen_pairs, reverse=True)"
   ]
  },
  {
   "cell_type": "code",
   "execution_count": 45,
   "metadata": {
    "collapsed": false
   },
   "outputs": [
    {
     "data": {
      "text/plain": [
       "[7.0806231252365661,\n",
       " 1.4148657166667977,\n",
       " 1.1216969472171952,\n",
       " 0.88286664256179992,\n",
       " 0.85120904046995005,\n",
       " 0.76037044940546183,\n",
       " 0.61119767179625462,\n",
       " 0.5440396526425858,\n",
       " 0.48590146887914804,\n",
       " 0.47440161282078341,\n",
       " 0.44349723709364225,\n",
       " 0.3507199893817205,\n",
       " 0.31378582270107197,\n",
       " 0.26083424268999594,\n",
       " 0.25613667537771739,\n",
       " 0.14785370505926787]"
      ]
     },
     "execution_count": 45,
     "metadata": {},
     "output_type": "execute_result"
    }
   ],
   "source": [
    "[e[0] for e in eigen_pairs]"
   ]
  },
  {
   "cell_type": "markdown",
   "metadata": {
    "collapsed": true
   },
   "source": [
    "Now, calculate the explained variance. Recall the methods we learned in lesson 2.2!"
   ]
  },
  {
   "cell_type": "code",
   "execution_count": 46,
   "metadata": {
    "collapsed": false
   },
   "outputs": [
    {
     "data": {
      "text/plain": [
       "[44.253894532728651,\n",
       " 8.8429107291675102,\n",
       " 7.010605920107488,\n",
       " 5.5179165160112644,\n",
       " 5.3200565029372013,\n",
       " 4.7523153087841488,\n",
       " 3.8199854487266016,\n",
       " 3.4002478290161702,\n",
       " 3.0368841804946833,\n",
       " 2.9650100801299044,\n",
       " 2.7718577318352713,\n",
       " 2.191999933635759,\n",
       " 1.961161391881705,\n",
       " 1.6302140168124792,\n",
       " 1.6008542211107379,\n",
       " 0.92408565662042663]"
      ]
     },
     "execution_count": 46,
     "metadata": {},
     "output_type": "execute_result"
    }
   ],
   "source": [
    "total_variance = np.sum(eigenvalues)\n",
    "explained_variance = [(e[0]/total_variance)*100 for e in eigen_pairs]\n",
    "explained_variance"
   ]
  },
  {
   "cell_type": "code",
   "execution_count": 55,
   "metadata": {
    "collapsed": false
   },
   "outputs": [
    {
     "data": {
      "text/html": [
       "<div>\n",
       "<table border=\"1\" class=\"dataframe\">\n",
       "  <thead>\n",
       "    <tr style=\"text-align: right;\">\n",
       "      <th></th>\n",
       "      <th>PC1_pre_sum</th>\n",
       "      <th>eigenvector</th>\n",
       "      <th>vote</th>\n",
       "    </tr>\n",
       "  </thead>\n",
       "  <tbody>\n",
       "    <tr>\n",
       "      <th>0</th>\n",
       "      <td>0.000000</td>\n",
       "      <td>0.187048</td>\n",
       "      <td>0.0</td>\n",
       "    </tr>\n",
       "    <tr>\n",
       "      <th>1</th>\n",
       "      <td>-0.183367</td>\n",
       "      <td>-0.183367</td>\n",
       "      <td>1.0</td>\n",
       "    </tr>\n",
       "    <tr>\n",
       "      <th>2</th>\n",
       "      <td>0.000000</td>\n",
       "      <td>0.199625</td>\n",
       "      <td>0.0</td>\n",
       "    </tr>\n",
       "    <tr>\n",
       "      <th>3</th>\n",
       "      <td>-0.120722</td>\n",
       "      <td>-0.120722</td>\n",
       "      <td>1.0</td>\n",
       "    </tr>\n",
       "    <tr>\n",
       "      <th>4</th>\n",
       "      <td>-0.698181</td>\n",
       "      <td>-0.698181</td>\n",
       "      <td>1.0</td>\n",
       "    </tr>\n",
       "    <tr>\n",
       "      <th>5</th>\n",
       "      <td>-0.408721</td>\n",
       "      <td>-0.408721</td>\n",
       "      <td>1.0</td>\n",
       "    </tr>\n",
       "    <tr>\n",
       "      <th>6</th>\n",
       "      <td>-0.000000</td>\n",
       "      <td>-0.195168</td>\n",
       "      <td>0.0</td>\n",
       "    </tr>\n",
       "    <tr>\n",
       "      <th>7</th>\n",
       "      <td>-0.000000</td>\n",
       "      <td>-0.061871</td>\n",
       "      <td>0.0</td>\n",
       "    </tr>\n",
       "    <tr>\n",
       "      <th>8</th>\n",
       "      <td>0.000000</td>\n",
       "      <td>0.001906</td>\n",
       "      <td>0.0</td>\n",
       "    </tr>\n",
       "    <tr>\n",
       "      <th>9</th>\n",
       "      <td>0.320751</td>\n",
       "      <td>0.320751</td>\n",
       "      <td>1.0</td>\n",
       "    </tr>\n",
       "    <tr>\n",
       "      <th>10</th>\n",
       "      <td>0.000000</td>\n",
       "      <td>0.201012</td>\n",
       "      <td>0.0</td>\n",
       "    </tr>\n",
       "    <tr>\n",
       "      <th>11</th>\n",
       "      <td>0.137515</td>\n",
       "      <td>0.137515</td>\n",
       "      <td>1.0</td>\n",
       "    </tr>\n",
       "    <tr>\n",
       "      <th>12</th>\n",
       "      <td>0.119583</td>\n",
       "      <td>0.119583</td>\n",
       "      <td>1.0</td>\n",
       "    </tr>\n",
       "    <tr>\n",
       "      <th>13</th>\n",
       "      <td>-0.063458</td>\n",
       "      <td>-0.063458</td>\n",
       "      <td>1.0</td>\n",
       "    </tr>\n",
       "    <tr>\n",
       "      <th>14</th>\n",
       "      <td>0.000000</td>\n",
       "      <td>0.002952</td>\n",
       "      <td>0.0</td>\n",
       "    </tr>\n",
       "    <tr>\n",
       "      <th>15</th>\n",
       "      <td>0.000324</td>\n",
       "      <td>0.000324</td>\n",
       "      <td>1.0</td>\n",
       "    </tr>\n",
       "  </tbody>\n",
       "</table>\n",
       "</div>"
      ],
      "text/plain": [
       "    PC1_pre_sum  eigenvector  vote\n",
       "0      0.000000     0.187048   0.0\n",
       "1     -0.183367    -0.183367   1.0\n",
       "2      0.000000     0.199625   0.0\n",
       "3     -0.120722    -0.120722   1.0\n",
       "4     -0.698181    -0.698181   1.0\n",
       "5     -0.408721    -0.408721   1.0\n",
       "6     -0.000000    -0.195168   0.0\n",
       "7     -0.000000    -0.061871   0.0\n",
       "8      0.000000     0.001906   0.0\n",
       "9      0.320751     0.320751   1.0\n",
       "10     0.000000     0.201012   0.0\n",
       "11     0.137515     0.137515   1.0\n",
       "12     0.119583     0.119583   1.0\n",
       "13    -0.063458    -0.063458   1.0\n",
       "14     0.000000     0.002952   0.0\n",
       "15     0.000324     0.000324   1.0"
      ]
     },
     "execution_count": 55,
     "metadata": {},
     "output_type": "execute_result"
    }
   ],
   "source": [
    "tmp = pd.DataFrame({'vote':Xvote.iloc[0,:].values,\n",
    "                    'eigenvector':eigenvectors[0],\n",
    "                    'PC1_pre_sum':Xvote.iloc[0,:].values*eigenvectors[0]})\n",
    "tmp"
   ]
  },
  {
   "cell_type": "code",
   "execution_count": 56,
   "metadata": {
    "collapsed": false
   },
   "outputs": [
    {
     "data": {
      "text/plain": [
       "-0.8962765792703072"
      ]
     },
     "execution_count": 56,
     "metadata": {},
     "output_type": "execute_result"
    }
   ],
   "source": [
    "tmp.PC1_pre_sum.sum()"
   ]
  },
  {
   "cell_type": "markdown",
   "metadata": {},
   "source": [
    "Now, calculate the explained variance and the Cumulative explained variance"
   ]
  },
  {
   "cell_type": "code",
   "execution_count": 43,
   "metadata": {
    "collapsed": true
   },
   "outputs": [],
   "source": []
  },
  {
   "cell_type": "markdown",
   "metadata": {},
   "source": [
    "Now, conduct a PCA using scikit learn\n",
    "\n",
    "http://scikit-learn.org/stable/modules/generated/sklearn.decomposition.PCA.html"
   ]
  },
  {
   "cell_type": "code",
   "execution_count": null,
   "metadata": {
    "collapsed": true
   },
   "outputs": [],
   "source": []
  },
  {
   "cell_type": "markdown",
   "metadata": {},
   "source": [
    "# Case #2: Airport Delays"
   ]
  },
  {
   "cell_type": "code",
   "execution_count": 6,
   "metadata": {
    "collapsed": true
   },
   "outputs": [],
   "source": [
    "air = pd.read_csv('../assets/datasets/Airport_operations.csv')"
   ]
  },
  {
   "cell_type": "code",
   "execution_count": 8,
   "metadata": {
    "collapsed": false
   },
   "outputs": [
    {
     "data": {
      "text/plain": [
       "(841, 15)"
      ]
     },
     "execution_count": 8,
     "metadata": {},
     "output_type": "execute_result"
    }
   ],
   "source": [
    "air.head()\n",
    "air.shape"
   ]
  },
  {
   "cell_type": "markdown",
   "metadata": {},
   "source": [
    "First, let's define the x and y variables: Airport is going to be our \"x\" variable"
   ]
  },
  {
   "cell_type": "code",
   "execution_count": 36,
   "metadata": {
    "collapsed": true
   },
   "outputs": [],
   "source": []
  },
  {
   "cell_type": "markdown",
   "metadata": {},
   "source": [
    "Then, standardize the x variable for analysis"
   ]
  },
  {
   "cell_type": "code",
   "execution_count": 37,
   "metadata": {
    "collapsed": false
   },
   "outputs": [],
   "source": []
  },
  {
   "cell_type": "markdown",
   "metadata": {},
   "source": [
    "Next, create the covariance matrix from the standardized x-values and decompose these values to find the eigenvalues and eigenvectors"
   ]
  },
  {
   "cell_type": "code",
   "execution_count": 38,
   "metadata": {
    "collapsed": false
   },
   "outputs": [],
   "source": []
  },
  {
   "cell_type": "markdown",
   "metadata": {},
   "source": [
    "Then, check your eigenvalues and eigenvectors:"
   ]
  },
  {
   "cell_type": "code",
   "execution_count": null,
   "metadata": {
    "collapsed": true
   },
   "outputs": [],
   "source": []
  },
  {
   "cell_type": "markdown",
   "metadata": {},
   "source": [
    "To find the principal componants, find the eigenpairs, and sort them from highest to lowest. "
   ]
  },
  {
   "cell_type": "code",
   "execution_count": null,
   "metadata": {
    "collapsed": true
   },
   "outputs": [],
   "source": []
  },
  {
   "cell_type": "markdown",
   "metadata": {},
   "source": [
    "Next, Calculate the explained variance"
   ]
  },
  {
   "cell_type": "code",
   "execution_count": 41,
   "metadata": {
    "collapsed": false
   },
   "outputs": [],
   "source": []
  },
  {
   "cell_type": "markdown",
   "metadata": {},
   "source": [
    "Finally, conduct the PCA - use the results about to guide your selection of \"n\" componants"
   ]
  },
  {
   "cell_type": "code",
   "execution_count": 49,
   "metadata": {
    "collapsed": false
   },
   "outputs": [],
   "source": []
  }
 ],
 "metadata": {
  "kernelspec": {
   "display_name": "Python 2",
   "language": "python",
   "name": "python2"
  },
  "language_info": {
   "codemirror_mode": {
    "name": "ipython",
    "version": 2
   },
   "file_extension": ".py",
   "mimetype": "text/x-python",
   "name": "python",
   "nbconvert_exporter": "python",
   "pygments_lexer": "ipython2",
   "version": "2.7.11"
  }
 },
 "nbformat": 4,
 "nbformat_minor": 0
}
