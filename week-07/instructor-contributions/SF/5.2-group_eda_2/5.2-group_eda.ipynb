{
 "cells": [
  {
   "cell_type": "markdown",
   "metadata": {},
   "source": [
    "\n",
    "\n",
    "<img src=\"https://i.imgflip.com/14vp9i.jpg\" width=\"400\" style=\"float: right; margin: 50px\">\n",
    "\n",
    "# GROUP EDA\n",
    "\n",
    "Today we will be splitting into 4 groups and presenting our findings the last hour of class.\n",
    "\n",
    "The goals for todays activity include:\n",
    "\n",
    "- Defining a problem statement as a group\n",
    "- Exloring datasets and practicing exploratory analysis \n",
    "- Good use of validation\n",
    "- Communicating results succinctly\n",
    "\n",
    "You might consider preparing a brief slide deck, but it's not necessary.  We created [these great guidelines](https://github.com/ga-students/DSI-SF-1/wiki/Presentation-Guidelines) to help.\n",
    "\n",
    "## Deliverables\n",
    "\n",
    "- 10 Minute presentation, 5 minutes question and answer\n",
    "- Validation of results\n",
    "\n",
    "### Optional Feedback\n",
    "\n",
    "After presentations, please give feedback to each other.\n",
    "\n",
    "- Peer feedback:  [Use this form](http://goo.gl/forms/ybRIcrwYrVVV4hhR2).  All responses are shared.  Be nice ;)\n",
    "\n",
    "### Suggestions\n",
    "- Appoint someone to present / organize\n",
    "- Look at summary statistics, explore data\n",
    "- Refine problem statement\n",
    "- Divide and conquer your workload\n",
    "- Don't fight - you will be held accountable for presenting _something_.\n",
    "- You will present\n"
   ]
  },
  {
   "cell_type": "markdown",
   "metadata": {},
   "source": [
    "## Group 1:  WOW\n",
    "\n",
    "<img src=\"https://snag.gy/tZXe0N.jpg\" width=\"500\">\n"
   ]
  },
  {
   "cell_type": "markdown",
   "metadata": {},
   "source": [
    "Using [this dataset](https://www.kaggle.com/mylesoneill/warcraft-avatar-history/downloads/warcraft-avatar-history.zip), we would like you to figure out if the following is possible:\n",
    " \n",
    "1. Predict when a user has \"churned\" or will churn.  We want to know about churn!  What is this about, you will have to research this idea if it is unfamilliar to you.  We want that \\$\\$\\$\\$ so help us deal with churn!<br><br>\n",
    "\n",
    "1. Also, we want to know more about zones and player classes.  We have a hunch something good is happening there.<br><br>\n",
    "\n",
    "1. Is there anything else we can do to optimize gameplay?<br><br>\n",
    "\n",
    "1. We're thinking about making yet another expansion.  Are there any themes we might consider based on player behavior *ie: which features are important to consider about current player preferences to ______*?\n",
    "\n",
    "** Projected Challenges **\n",
    "- Research\n",
    "- Problem statement expected to be much more defined\n",
    "- There are a lot of areas to explore and focus may be difficult without a plan"
   ]
  },
  {
   "cell_type": "code",
   "execution_count": null,
   "metadata": {
    "collapsed": true
   },
   "outputs": [],
   "source": []
  },
  {
   "cell_type": "markdown",
   "metadata": {},
   "source": [
    "## Group 2: GOT\n",
    "\n",
    "<img src=\"https://snag.gy/8uoD9y.jpg\" width=\"500\">\n",
    "\n",
    "Using [this dataset](./assets/datasets/character-predictions.csv), we would like to know which factors are most important predictors of mortality within our population.  From what we know, this dataset was scraped from [this website](http://awoiaf.westeros.org/index.php/Main_Page) and may provide pointers on the definition of the dataset.\n",
    "\n",
    "**Projected Challeneges**\n",
    "- Some munging\n",
    "- Regression and classification type problems possible\n",
    "- Data is not as cut and dry as it seems"
   ]
  },
  {
   "cell_type": "code",
   "execution_count": null,
   "metadata": {
    "collapsed": true
   },
   "outputs": [],
   "source": []
  },
  {
   "cell_type": "markdown",
   "metadata": {},
   "source": [
    "## Group 3:  Last Words\n",
    "\n",
    "<img src=\"https://snag.gy/MElcUY.jpg\" width=\"200\">\n",
    "\n",
    "Using [this dataset](https://docs.google.com/spreadsheet/ccc?key=0ArNsipRBvi69dEUxZHVuRTc4ZlctREdldExsOW5rMUE#gid=0), we would like you to approach this as a study that might inform policy in how law is applied.  The first step in this process, let's assume, is a high level report that illustrates any commonalities and patterns found in this dataset\n",
    ":\n",
    "\n",
    "- Common patterns found in last words of inmates\n",
    "- Commonality of words to other features in dataset\n",
    "- Of lessor importance, how hard would it be to classify religious inclinations\n",
    "- Sentiment as a feature or frequency (ie: Check out textblob - pip install textblob)\n",
    " - Can this be stratified to other features\n",
    " - Which words seem to be common in these cases\n",
    "\n",
    "** Bonus **\n",
    "Do any POS patterns look interesting?\n",
    "\n",
    "**Projected Challenges**\n",
    " - Problem statement may be challenging but you will need to come up with one\n",
    " - This project is a bit more defined but there are vague problems involved\n",
    " - There are a lot of vague asks\n",
    " - Heavily NLP based problem"
   ]
  },
  {
   "cell_type": "code",
   "execution_count": null,
   "metadata": {
    "collapsed": true
   },
   "outputs": [],
   "source": []
  },
  {
   "cell_type": "markdown",
   "metadata": {},
   "source": [
    "## Group 4: Indeed, you need a job\n",
    "\n",
    "<img src=\"https://lh5.googleusercontent.com/CJwGV91wfvsEsDqCBjsg2ahGKAoP2_Wwd3JXXBb8yWPlIT676LlBnsIfG2bFUtOxgLb0ba5WJKfzMiVdT9ncQhSmscdcxPZDnWfV6Qkb0LhR_6Natug72_MsYTLDJS34vg\" width=\"500\">\n",
    "\n",
    "You need a job.  There are lots of jobs with the title \"Data Scientist\".  There are other jobs as well that have the same skillset.  Recently we [scraped together a dataset](assets/datasets/indeed.csv), that is not super clean but will work.\n",
    "\n",
    "Which jobs aren't labeled like \"data science\" jobs, but have a lot of the same features found in \"data scientist\" jobs?\n",
    "\n",
    " - Who is hiring the most? (this may be difficult without updating our scraper and getting more data, but we'll say this is optional)\n",
    " - Which skills seem more important to big / medium / small companies or less well known?\n",
    " - Which keywords are commmon?\n",
    " - Which are rare?\n",
    "\n",
    "**Projected Challenges**\n",
    "- Labeled data is based on search terms and results may overlap quite a bit\n",
    " - Some cleaning\n",
    "- Great opportunity to practice NLP\n",
    "- DO NGRAM ANALYSIS OR ELSE!\n",
    "\n",
    "PLEASE share your notebooks with the rest of class.  This type of analysis will give you an edge in the job market and lead you to other areas to explore / mine / predict."
   ]
  },
  {
   "cell_type": "code",
   "execution_count": null,
   "metadata": {
    "collapsed": true
   },
   "outputs": [],
   "source": []
  }
 ],
 "metadata": {
  "kernelspec": {
   "display_name": "Python 2",
   "language": "python",
   "name": "python2"
  },
  "language_info": {
   "codemirror_mode": {
    "name": "ipython",
    "version": 2
   },
   "file_extension": ".py",
   "mimetype": "text/x-python",
   "name": "python",
   "nbconvert_exporter": "python",
   "pygments_lexer": "ipython2",
   "version": "2.7.9"
  },
  "widgets": {
   "state": {},
   "version": "1.1.0"
  }
 },
 "nbformat": 4,
 "nbformat_minor": 0
}
