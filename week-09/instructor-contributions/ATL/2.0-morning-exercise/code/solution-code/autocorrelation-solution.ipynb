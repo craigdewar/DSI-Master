{
 "cells": [
  {
   "cell_type": "markdown",
   "metadata": {},
   "source": [
    "# More on autocorrelation\n",
    "First, rewrite your Durbin-Watson statistic calculator function.  Use [the Wikipedia article](https://en.wikipedia.org/wiki/Durbin%E2%80%93Watson_statistic) as reference, but don't just copy and paste the code from yesterday.  As a data scientist, it's important that you be able to translate mathematical formulas into code.  The function should take as input the residuals (just a 1d array of numbers) and output the Durbin-Watson statistic, which is used to determine the presence or absense of first order serial correlation."
   ]
  },
  {
   "cell_type": "code",
   "execution_count": 2,
   "metadata": {
    "collapsed": true
   },
   "outputs": [],
   "source": [
    "import numpy as np\n",
    "from sklearn.linear_model import LinearRegression\n",
    "import matplotlib.pyplot as plt\n",
    "%matplotlib inline"
   ]
  },
  {
   "cell_type": "code",
   "execution_count": 27,
   "metadata": {
    "collapsed": true
   },
   "outputs": [],
   "source": [
    "def myDurbinWatson(residuals):\n",
    "    d = 0.0\n",
    "    for r in range(len(residuals)-1):\n",
    "        d += (residuals[r] - residuals[r-1])**2\n",
    "    mean = np.mean(residuals)\n",
    "    d /= sum([(r - mean)**2 for r in residuals])\n",
    "    return d"
   ]
  },
  {
   "cell_type": "markdown",
   "metadata": {},
   "source": [
    "## Linear model with noise\n",
    "Now, reproduce the linear model with noise that we created yesterday.  Again, don't copy and paste from yesterday.  Think about what we're trying to produce: simply a line of the form $y = mx + b + \\epsilon$, where $\\epsilon$ is a white noise error term (a sequence of random draws from a normal distribution is an example of a white noise error term)."
   ]
  },
  {
   "cell_type": "code",
   "execution_count": 28,
   "metadata": {
    "collapsed": false
   },
   "outputs": [
    {
     "data": {
      "text/plain": [
       "2.3039011313414033"
      ]
     },
     "execution_count": 28,
     "metadata": {},
     "output_type": "execute_result"
    }
   ],
   "source": [
    "xRow = np.linspace(0,10)\n",
    "y = xRow + np.random.normal(loc=0.0, scale=0.1, size=len(xRow))\n",
    "lr = LinearRegression()\n",
    "x = xRow.reshape(-1,1)\n",
    "lr.fit(x,y)\n",
    "yHat = lr.predict(x)\n",
    "residuals = yHat - y\n",
    "myDurbinWatson(residuals)"
   ]
  },
  {
   "cell_type": "markdown",
   "metadata": {},
   "source": [
    "Plot the residuals"
   ]
  },
  {
   "cell_type": "code",
   "execution_count": 29,
   "metadata": {
    "collapsed": false
   },
   "outputs": [
    {
     "data": {
      "text/plain": [
       "[<matplotlib.lines.Line2D at 0x11291fbd0>]"
      ]
     },
     "execution_count": 29,
     "metadata": {},
     "output_type": "execute_result"
    },
    {
     "data": {
      "image/png": "[encoded data removed]",
      "text/plain": [
       "<matplotlib.figure.Figure at 0x11201c690>"
      ]
     },
     "metadata": {},
     "output_type": "display_data"
    }
   ],
   "source": [
    "plt.plot(residuals)"
   ]
  },
  {
   "cell_type": "markdown",
   "metadata": {},
   "source": [
    "You should notice that the plot above doesn't show much of a pattern, if any.  In fact, the Durbin-Watson statistic calculated above, which is close to 2.0, indicates that there is no first-order serial correlation in the residuals.\n",
    "\n",
    "What happens if we calculate the Durbin-Watson statistic on y?"
   ]
  },
  {
   "cell_type": "code",
   "execution_count": 30,
   "metadata": {
    "collapsed": false
   },
   "outputs": [
    {
     "data": {
      "text/plain": [
       "0.24960467463723363"
      ]
     },
     "execution_count": 30,
     "metadata": {},
     "output_type": "execute_result"
    }
   ],
   "source": [
    "myDurbinWatson(y)"
   ]
  },
  {
   "cell_type": "markdown",
   "metadata": {},
   "source": [
    "It's pretty close to 0.  This is because the value of $y_i$ is very close to the value of $y_{i-1}$, for all $y$ in the series.\n",
    "\n",
    "How do you think the Durbin-Watson statistic for $y$ will compare to the Durbin-Watson statistic for $\\hat{y}$?"
   ]
  },
  {
   "cell_type": "code",
   "execution_count": 32,
   "metadata": {
    "collapsed": false
   },
   "outputs": [
    {
     "data": {
      "text/plain": [
       "0.23519807923169228"
      ]
     },
     "execution_count": 32,
     "metadata": {},
     "output_type": "execute_result"
    }
   ],
   "source": [
    "myDurbinWatson(yHat)"
   ]
  },
  {
   "cell_type": "markdown",
   "metadata": {},
   "source": [
    "It's a little smaller, because there is no noise in this variable.\n",
    "\n",
    "## Introduction to autoregression\n",
    "When we are trying to model time series data, we are working off of one fundamental assumption: the present is related to the past; hence the future is related to the present, and we can extrapolate our current data to PREDICT THE FUTURE!!!\n",
    "\n",
    "Autoregression is when we regress $y$ on past values of itself.  Here, we are going to generate artificial data to mimic this process that does occur with real data.\n",
    "\n",
    "Generate a series of 50 y values that follow the formula $y_t = 0.9y_{t-1}$, and initialize your $y_0$ to be 10.  Plot the resulting series."
   ]
  },
  {
   "cell_type": "code",
   "execution_count": 33,
   "metadata": {
    "collapsed": false
   },
   "outputs": [
    {
     "data": {
      "text/plain": [
       "[<matplotlib.lines.Line2D at 0x112aa2c90>]"
      ]
     },
     "execution_count": 33,
     "metadata": {},
     "output_type": "execute_result"
    },
    {
     "data": {
      "image/png": "[encoded data removed]",
      "text/plain": [
       "<matplotlib.figure.Figure at 0x1126f6b90>"
      ]
     },
     "metadata": {},
     "output_type": "display_data"
    }
   ],
   "source": [
    "y = [10.0]\n",
    "for i in range(50-1):\n",
    "    y.append(y[-1]*0.9)\n",
    "plt.plot(y)"
   ]
  },
  {
   "cell_type": "markdown",
   "metadata": {},
   "source": [
    "So you see a series of exponential decay.\n",
    "\n",
    "Now what happens if you add a white noise error term to your model, so that $y_t = 0.9y_{t-1} + \\epsilon$ ?\n",
    "\n",
    "Play around with different values for the scale parameter of `np.random.normal`.  For example, try 0.1, 1.0, and 10.0."
   ]
  },
  {
   "cell_type": "code",
   "execution_count": 38,
   "metadata": {
    "collapsed": false
   },
   "outputs": [
    {
     "data": {
      "text/plain": [
       "[<matplotlib.lines.Line2D at 0x113af9a50>]"
      ]
     },
     "execution_count": 38,
     "metadata": {},
     "output_type": "execute_result"
    },
    {
     "data": {
      "image/png": "[encoded data removed]",
      "text/plain": [
       "<matplotlib.figure.Figure at 0x11383ba50>"
      ]
     },
     "metadata": {},
     "output_type": "display_data"
    }
   ],
   "source": [
    "y = [10.0]\n",
    "for i in range(50-1):\n",
    "    y.append(y[-1]*0.9 + np.random.normal(loc=0.0,scale=5.0))\n",
    "plt.plot(y)"
   ]
  },
  {
   "cell_type": "markdown",
   "metadata": {},
   "source": [
    "You have just created an autoregressive model of order 1, or AR(1).  Congrats!  This is how econometricians model many time series, after taking into account seasonality."
   ]
  },
  {
   "cell_type": "markdown",
   "metadata": {},
   "source": [
    "## But what about negative serial correlation?\n",
    "We talked about how no serial correlation is associated with Durbin-Watson values around 2.0, positive serial correlation is associated with values close to 0.0, but what about the side that is above 2.0, close to 4.0?  This corresponds to negative serial correlation.  Negative serial correlation is when subsequent values tend to be the opposite of each other.\n",
    "\n",
    "Simulate this by re-initializing y as we first did, but add the noise in the following way: at t=0, make it positive noise; at t=1, make it negative noise; at t=2, make it positive noise; at t=3, make it negative noise; etc.  Then refit a line to this new data, and calculate the Durbin-Watson statistic."
   ]
  },
  {
   "cell_type": "code",
   "execution_count": 49,
   "metadata": {
    "collapsed": false
   },
   "outputs": [
    {
     "data": {
      "text/plain": [
       "3.1493928155788806"
      ]
     },
     "execution_count": 49,
     "metadata": {},
     "output_type": "execute_result"
    }
   ],
   "source": [
    "noise = np.random.normal(loc=0.0, scale=0.1, size=len(xRow))\n",
    "noise = [abs(n) if i % 2 == 0 else -abs(n) for i, n in enumerate(noise)]\n",
    "y = xRow + noise\n",
    "lr = LinearRegression()\n",
    "x = xRow.reshape(-1,1)\n",
    "lr.fit(x,y)\n",
    "yHat = lr.predict(x)\n",
    "residuals = yHat - y\n",
    "myDurbinWatson(residuals)"
   ]
  },
  {
   "cell_type": "markdown",
   "metadata": {},
   "source": [
    "Plot the residuals"
   ]
  },
  {
   "cell_type": "code",
   "execution_count": 43,
   "metadata": {
    "collapsed": false
   },
   "outputs": [
    {
     "data": {
      "text/plain": [
       "[<matplotlib.lines.Line2D at 0x113ea6f10>]"
      ]
     },
     "execution_count": 43,
     "metadata": {},
     "output_type": "execute_result"
    },
    {
     "data": {
      "image/png": "[encoded data removed]",
      "text/plain": [
       "<matplotlib.figure.Figure at 0x113b13a10>"
      ]
     },
     "metadata": {},
     "output_type": "display_data"
    }
   ],
   "source": [
    "plt.plot(residuals)"
   ]
  },
  {
   "cell_type": "markdown",
   "metadata": {},
   "source": [
    "Though it may be hard to tell, there is a more systematic pattern to the residuals plotted above: positive, negative, positive, negative, etc."
   ]
  },
  {
   "cell_type": "code",
   "execution_count": null,
   "metadata": {
    "collapsed": true
   },
   "outputs": [],
   "source": []
  }
 ],
 "metadata": {
  "kernelspec": {
   "display_name": "Python 2",
   "language": "python",
   "name": "python2"
  },
  "language_info": {
   "codemirror_mode": {
    "name": "ipython",
    "version": 2
   },
   "file_extension": ".py",
   "mimetype": "text/x-python",
   "name": "python",
   "nbconvert_exporter": "python",
   "pygments_lexer": "ipython2",
   "version": "2.7.12"
  }
 },
 "nbformat": 4,
 "nbformat_minor": 0
}
