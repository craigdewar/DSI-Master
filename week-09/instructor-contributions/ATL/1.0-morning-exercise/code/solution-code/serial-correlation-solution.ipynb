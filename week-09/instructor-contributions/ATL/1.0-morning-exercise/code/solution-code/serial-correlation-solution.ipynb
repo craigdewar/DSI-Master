{
 "cells": [
  {
   "cell_type": "markdown",
   "metadata": {},
   "source": [
    "# Serial Correlation\n",
    "First, read this [Wikipedia article](https://en.wikipedia.org/wiki/Durbin%E2%80%93Watson_statistic) about the Durbin-Watson statistic (just read the intro and the first section after the intro).\n",
    "## Now, let's take a look at this statistic in various contexts.\n",
    "### First, code up your own Durbin-Watson statistic."
   ]
  },
  {
   "cell_type": "code",
   "execution_count": 3,
   "metadata": {
    "collapsed": false
   },
   "outputs": [],
   "source": [
    "def myDurbinWatson(residuals):\n",
    "    d = 0.0\n",
    "    for i in range(len(residuals)-1):\n",
    "        d += (residuals[i] - residuals[i+1])**2\n",
    "    divisor = sum([x**2 for x in residuals])\n",
    "    d /= divisor\n",
    "    return d"
   ]
  },
  {
   "cell_type": "markdown",
   "metadata": {},
   "source": [
    "### Now, create data that represents a linear model with noise, then fit a line to it, and see what your Durbin-Watson statistic gives for this model.\n",
    "Also, plot the data and the line."
   ]
  },
  {
   "cell_type": "code",
   "execution_count": 21,
   "metadata": {
    "collapsed": false
   },
   "outputs": [],
   "source": [
    "import numpy as np\n",
    "import matplotlib.pyplot as plt\n",
    "from sklearn.linear_model import LinearRegression\n",
    "%matplotlib inline"
   ]
  },
  {
   "cell_type": "code",
   "execution_count": 57,
   "metadata": {
    "collapsed": false
   },
   "outputs": [],
   "source": [
    "xRow = np.linspace(0,10)\n",
    "y = 2.0*xRow + np.random.normal(loc=0.0, scale=0.1, size=len(xRow))"
   ]
  },
  {
   "cell_type": "code",
   "execution_count": 58,
   "metadata": {
    "collapsed": false
   },
   "outputs": [],
   "source": [
    "x = xRow.reshape(-1,1)"
   ]
  },
  {
   "cell_type": "code",
   "execution_count": 62,
   "metadata": {
    "collapsed": false
   },
   "outputs": [
    {
     "data": {
      "image/png": "[encoded data removed]",
      "text/plain": [
       "<matplotlib.figure.Figure at 0x11292a6d0>"
      ]
     },
     "metadata": {},
     "output_type": "display_data"
    }
   ],
   "source": [
    "lr = LinearRegression()\n",
    "lr.fit(x,y)\n",
    "yHat = lr.predict(x)\n",
    "plt.scatter(x,y)\n",
    "plt.plot(x,yHat,color='r')\n",
    "plt.show()"
   ]
  },
  {
   "cell_type": "code",
   "execution_count": 63,
   "metadata": {
    "collapsed": false
   },
   "outputs": [
    {
     "data": {
      "text/plain": [
       "2.1646370503919603"
      ]
     },
     "execution_count": 63,
     "metadata": {},
     "output_type": "execute_result"
    }
   ],
   "source": [
    "residuals = y - yHat\n",
    "dw = myDurbinWatson(residuals)\n",
    "dw"
   ]
  },
  {
   "cell_type": "markdown",
   "metadata": {},
   "source": [
    "### Now, create data that represents a quadratic model with noise, but still fit a *line* to it, and see what your Durbin-Watson statistic gives for this model.\n",
    "Also, plot the data and the line."
   ]
  },
  {
   "cell_type": "code",
   "execution_count": 69,
   "metadata": {
    "collapsed": true
   },
   "outputs": [],
   "source": [
    "y = xRow*xRow + np.random.normal(loc=0.0, scale=0.1, size=len(x))"
   ]
  },
  {
   "cell_type": "code",
   "execution_count": 74,
   "metadata": {
    "collapsed": false
   },
   "outputs": [
    {
     "data": {
      "image/png": "[encoded data removed]",
      "text/plain": [
       "<matplotlib.figure.Figure at 0x112c29e10>"
      ]
     },
     "metadata": {},
     "output_type": "display_data"
    }
   ],
   "source": [
    "lr.fit(x,y)\n",
    "yHat = lr.predict(x)\n",
    "plt.scatter(x,y)\n",
    "plt.plot(x,yHat,color='r')\n",
    "plt.show()"
   ]
  },
  {
   "cell_type": "code",
   "execution_count": 75,
   "metadata": {
    "collapsed": false
   },
   "outputs": [
    {
     "data": {
      "text/plain": [
       "0.022602569633518338"
      ]
     },
     "execution_count": 75,
     "metadata": {},
     "output_type": "execute_result"
    }
   ],
   "source": [
    "residuals = y - yHat\n",
    "dw = myDurbinWatson(residuals)\n",
    "dw"
   ]
  },
  {
   "cell_type": "markdown",
   "metadata": {},
   "source": [
    "### Reflect\n",
    "What does your Durbin-Watson statistic tell you about the serial correlation of the residuals in the above models?  Is this to your expectation?\n",
    "\n",
    "When you have a pattern amongst the residuals, what does that tell you about your model?"
   ]
  }
 ],
 "metadata": {
  "kernelspec": {
   "display_name": "Python 2",
   "language": "python",
   "name": "python2"
  },
  "language_info": {
   "codemirror_mode": {
    "name": "ipython",
    "version": 2
   },
   "file_extension": ".py",
   "mimetype": "text/x-python",
   "name": "python",
   "nbconvert_exporter": "python",
   "pygments_lexer": "ipython2",
   "version": "2.7.12"
  }
 },
 "nbformat": 4,
 "nbformat_minor": 0
}
