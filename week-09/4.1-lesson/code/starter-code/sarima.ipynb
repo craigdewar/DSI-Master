{
 "cells": [
  {
   "cell_type": "code",
   "execution_count": null,
   "metadata": {
    "collapsed": false
   },
   "outputs": [],
   "source": [
    "import pandas as pd\n",
    "import matplotlib.pyplot as plt\n",
    "import numpy as np\n",
    "%matplotlib inline\n",
    "\n",
    "df = pd.read_csv('../../assets/data/euretail.csv')\n",
    "df = df.set_index(['Year'])\n",
    "df.stack().plot(title='European Retail Trade')"
   ]
  },
  {
   "cell_type": "code",
   "execution_count": null,
   "metadata": {
    "collapsed": false
   },
   "outputs": [],
   "source": [
    "from statsmodels.graphics.tsaplots import plot_acf, plot_pacf\n",
    "\n",
    "diff0 = df.stack().diff(periods=4)[4:]\n",
    "diff0.plot(title='European Retail Trade Differenced')\n",
    "plot_acf(diff0, lags=30)\n",
    "plot_pacf(diff0, lags=30)"
   ]
  },
  {
   "cell_type": "code",
   "execution_count": null,
   "metadata": {
    "collapsed": false
   },
   "outputs": [],
   "source": [
    "diff1 = diff0.diff()[1:]\n",
    "diff1.plot(title='European Retail Trade Differenced Twice')\n",
    "plot_acf(diff1, lags=30)\n",
    "plot_pacf(diff1, lags=30)"
   ]
  },
  {
   "cell_type": "code",
   "execution_count": null,
   "metadata": {
    "collapsed": false
   },
   "outputs": [],
   "source": [
    "import statsmodels.api as sm\n",
    "data = df.stack().values\n",
    "model = sm.tsa.statespace.SARIMAX(data, order=(0,1,1), seasonal_order=(0,1,1,4))\n",
    "results = model.fit()\n",
    "results.summary()\n"
   ]
  },
  {
   "cell_type": "code",
   "execution_count": null,
   "metadata": {
    "collapsed": false
   },
   "outputs": [],
   "source": [
    "# Don't plot the first 5 values, to account for data loss when differencing (d=1 + D=5)\n",
    "residuals = results.resid[5:]\n",
    "plt.plot(residuals)\n",
    "\n",
    "plot_acf(residuals, lags=30)\n",
    "plot_pacf(residuals, lags=30)"
   ]
  },
  {
   "cell_type": "code",
   "execution_count": null,
   "metadata": {
    "collapsed": false
   },
   "outputs": [],
   "source": [
    "from statsmodels.stats.diagnostic import acorr_ljungbox\n",
    "\n",
    "lags = min(10, len(residuals)/5)\n",
    "\n",
    "acorr_ljungbox(residuals, lags=lags)\n"
   ]
  },
  {
   "cell_type": "code",
   "execution_count": null,
   "metadata": {
    "collapsed": false
   },
   "outputs": [],
   "source": [
    "model = sm.tsa.statespace.SARIMAX(data, order=(0,1,3), seasonal_order=(0,1,1,4), trend='c')\n",
    "res = model.fit()\n",
    "\n",
    "preds = res.forecast(12)\n",
    "fcast = np.concatenate((data, preds), axis=0)\n",
    "\n",
    "plt.figure();\n",
    "plt.plot(data, 'o' , fcast, 'r--');"
   ]
  },
  {
   "cell_type": "code",
   "execution_count": null,
   "metadata": {
    "collapsed": true
   },
   "outputs": [],
   "source": []
  }
 ],
 "metadata": {
  "kernelspec": {
   "display_name": "Python 2",
   "language": "python",
   "name": "python2"
  },
  "language_info": {
   "codemirror_mode": {
    "name": "ipython",
    "version": 2
   },
   "file_extension": ".py",
   "mimetype": "text/x-python",
   "name": "python",
   "nbconvert_exporter": "python",
   "pygments_lexer": "ipython2",
   "version": "2.7.11"
  }
 },
 "nbformat": 4,
 "nbformat_minor": 0
}
