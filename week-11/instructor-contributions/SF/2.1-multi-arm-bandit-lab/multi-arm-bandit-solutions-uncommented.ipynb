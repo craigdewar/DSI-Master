{
 "cells": [
  {
   "cell_type": "markdown",
   "metadata": {},
   "source": [
    "<img src=\"https://ga-dash.s3.amazonaws.com/production/assets/logo-9f88ae6c9c3871690e33280fcf557f33.png\" style=\"float: left; margin: 15px\">\n",
    "\n",
    "# Building A Multi-Arm Bandit Split Test\n",
    "\n",
    "Week 11 | Lab 2.1\n",
    "\n",
    "---\n",
    "\n",
    "In this lab you will be building a multi-arm bandit split test from scratch. Don't be intimidated though, it's not as difficult as it sounds. By the end you'll understand it's strengths and weaknesses as compared to a standard split test setup.\n",
    "\n",
    "---"
   ]
  },
  {
   "cell_type": "markdown",
   "metadata": {},
   "source": [
    "## Revisiting the standard split test\n",
    "\n",
    "The standard split test format follows these steps:\n",
    "\n",
    "1. Create versions of a piece of your product (or any simple hypothesis-testable thing) and assign these versions to \"arms\", typically denoted by capital letters.\n",
    "- Determine a metric that you will test on (user conversions is a popular one, clickthroughs, etc.)\n",
    "- Decide how new users will proportionally be divided randomly into the arms over the course of the split test.\n",
    "- Determine a threshold of significance below which an arm with the best performance will be \"winnered\"/chosen as the new version.\n",
    "- Decide upon a fixed amount of time that the test will run based on the number of subjects needed. This can be done with a [power analysis](https://signalvnoise.com/posts/3004-ab-testing-tech-note-determining-sample-size) which we haven't done but is discussed below.\n",
    "- Check the results and determine a winner. If no arm reaches the specified significance then keep the control, aka original arm.\n",
    "\n",
    "We will be running a standard split test as well as a multi-arm bandit to show the differences, so the process is important to know! Below you will set up your variables for the standard split test which will also apply to the bandit.\n",
    "\n",
    "---"
   ]
  },
  {
   "cell_type": "code",
   "execution_count": 13,
   "metadata": {
    "collapsed": true
   },
   "outputs": [],
   "source": [
    "import pandas as pd\n",
    "import numpy as np\n",
    "import scipy.stats as stats\n",
    "import matplotlib.pyplot as plt\n",
    "import seaborn as sns\n",
    "\n",
    "sns.set_style('whitegrid')\n",
    "\n",
    "%matplotlib inline\n",
    "%config InlineBackend.figure_format = 'retina'"
   ]
  },
  {
   "cell_type": "markdown",
   "metadata": {},
   "source": [
    "---\n",
    "\n",
    "### 1.1. Setup the tests with the information and parameters required\n",
    "\n",
    "We are going to be running a split test with 4 arms: A, B, C, and D. Arm A is your control/original arm. Below, set up the following information we know and parameters we would like to use for our split tests in code:\n",
    "\n",
    "1. We already know some conversion parameters for our control arm A. There have been **1050 converted users** and **12120 users lost** so far.\n",
    "- Users have been coming in at an average rate of **100 users per hour**.\n",
    "- For an arm to be \"winnered\", we are requiring an **alpha = 0.01**, which means the signficance (p-value) of an arm's rate being greater than the control arm needs to be less than 0.01. \n",
    "    - The alpha parameter corresponds to [our threshold for Type I errors](https://en.wikipedia.org/wiki/Type_I_and_type_II_errors), or the rejection of the null hypothesis when the null hypothesis is in fact true.\n",
    "- We also want to control the Type II error, or the rejection of the _alternative hypothesis when in fact the alternative hypothesis is true._ This is denoted as \"beta\" and is the Type II error sibling of the alpha Type I error parameter. We decide **beta = 0.05**. The **power** of the test is 1 - beta.\n",
    "    - People usually care less about false negatives than false positives, which is why we are keeping beta higher than alpha (this will let us estimate fewer required subjects for our test).\n",
    "- Decide on a desired **effect size** required to select a new arm, which is estimated by the _difference in proportions, or rates of our arms_. I have provided a function below to help you calculate the effect size for the difference between two rates from statsmodels. We want our **difference between conversion rates in arms to be at least 0.02**, or tow percent more conversions.\n",
    "- We have decided that 40% of our incoming users will be directed to the A control arm and the remaining arms will be divided evenly among incoming users (15%).\n",
    "\n",
    "---"
   ]
  },
  {
   "cell_type": "code",
   "execution_count": 50,
   "metadata": {
    "collapsed": false
   },
   "outputs": [
    {
     "name": "stdout",
     "output_type": "stream",
     "text": [
      "0.0797266514806\n",
      "0.0700846516149\n"
     ]
    }
   ],
   "source": [
    "import statsmodels.stats.api as sms\n",
    "\n",
    "# Calculate effect size from difference in proportions, which in this case is conversion rates.\n",
    "def calculate_effect_size(control_rate, desired_increase):\n",
    "    desired_rate = control_rate + desired_increase\n",
    "    # statsmodels function gives us the effect size in standard deviation differences from\n",
    "    # the normal distribution (how many standard deviations of conversion more do we want.)\n",
    "    effect_size = sms.proportion_effectsize(desired_rate, control_rate)\n",
    "    return effect_size\n",
    "\n",
    "A_c = 1050.\n",
    "A_l = 12120.\n",
    "A_r = A_c / (A_c + A_l)\n",
    "print A_r\n",
    "hr_r = 100\n",
    "day_r = hr_r*24\n",
    "alpha = 0.01\n",
    "beta = 0.05\n",
    "power = 1 - beta\n",
    "desired_increase = 0.02\n",
    "effect_size = calculate_effect_size(A_r, desired_increase)\n",
    "print effect_size\n",
    "A_user_prop = 0.6\n",
    "BCD_user_prop = 0.2"
   ]
  },
  {
   "cell_type": "code",
   "execution_count": 51,
   "metadata": {
    "collapsed": false
   },
   "outputs": [
    {
     "data": {
      "text/plain": [
       "1.250857142857143"
      ]
     },
     "execution_count": 51,
     "metadata": {},
     "output_type": "execute_result"
    }
   ],
   "source": [
    "(A_r + 0.02) / A_r"
   ]
  },
  {
   "cell_type": "markdown",
   "metadata": {},
   "source": [
    "---\n",
    "\n",
    "### 1.2. Setup the hidden true rates of conversion for the 4 arms. (Done for you).\n",
    "\n",
    "The functions below take a number of users and return whether they converted or not (1 or 0). This is determined by a binomial random variable with the true rates of conversion for each. We have the true values here, but in a split test you obviously don't have the true values and are estimating them with some degree of confidence. We already have an idea of what arm A's conversion rate is since we have been collecting conversion data for it. \n"
   ]
  },
  {
   "cell_type": "code",
   "execution_count": 157,
   "metadata": {
    "collapsed": true
   },
   "outputs": [],
   "source": [
    "A_true_r = 0.091\n",
    "B_true_r = 0.089\n",
    "C_true_r = 0.092\n",
    "D_true_r = 0.093\n",
    "\n",
    "def A_convert(users=1):\n",
    "    return np.random.binomial(1, A_true_r, size=users)\n",
    "\n",
    "def B_convert(users=1):\n",
    "    return np.random.binomial(1, B_true_r, size=users)\n",
    "\n",
    "def C_convert(users=1):\n",
    "    return np.random.binomial(1, C_true_r, size=users)\n",
    "\n",
    "def D_convert(users=1):\n",
    "    return np.random.binomial(1, D_true_r, size=users)"
   ]
  },
  {
   "cell_type": "markdown",
   "metadata": {},
   "source": [
    "---\n",
    "\n",
    "## Calculating the number of users (and days) required for the split test\n",
    "\n",
    "This is something I did not cover yesterday but is important, obviously. Using the significance (alpha) and the power (1 - beta) we can calculate the number of users we need. Following that, we can calculate the number of days given our rate of user visits to the page.\n",
    "\n",
    "For more information see these useful pages:\n",
    "\n",
    "https://signalvnoise.com/posts/3004-ab-testing-tech-note-determining-sample-size\n",
    "\n",
    "https://en.wikipedia.org/wiki/Type_I_and_type_II_errors\n",
    "\n",
    "https://www.andrews.edu/~calkins/math/edrm611/edrm11.htm#SAMS\n",
    "\n",
    "https://help.optimizely.com/Analyze_Results/How_long_to_run_a_test#minimum\n",
    "\n",
    "---\n",
    "\n",
    "### 2.1. Use the function below to calculate the number of users required for the test\n",
    "\n",
    "I am not requiring you to look up and figure out on your own how to do the power analysis, but am giving you the python function to do it below. Determine the estimated number of users and then the estimated number of days and hours required for our split test to run with our alpha and beta thresholds.\n",
    "\n",
    "**IMPORTANT:** The number of subjects you get out of the power analysis is **the number of users required for each arm!**. Because we are putting fewer users into the experimental arms, this means that you will have to figure out the number of users required in total given that the users calculated from this power analysis is only 15% of them."
   ]
  },
  {
   "cell_type": "code",
   "execution_count": 158,
   "metadata": {
    "collapsed": false
   },
   "outputs": [
    {
     "name": "stdout",
     "output_type": "stream",
     "text": [
      "58032.0\n",
      "25.0 581.0\n"
     ]
    }
   ],
   "source": [
    "# Function to calculate the number of users from alpha and beta parameters.\n",
    "def calculate_n_users(desired_effect_size, power, alpha):\n",
    "    \n",
    "    # Don't worry about the ratio - it has to do with the fact that our \n",
    "    # effect size is relative to the the normal distribution.\n",
    "    return np.ceil(sms.NormalIndPower().solve_power(desired_effect_size, \n",
    "                                                    power=power, \n",
    "                                                    alpha=alpha, \n",
    "                                                    ratio=1))\n",
    "    \n",
    "    \n",
    "est_req_users = np.ceil(calculate_n_users(effect_size, power, alpha) * (0.4 / 0.2))*4\n",
    "print est_req_users\n",
    "est_days_req = np.ceil(est_req_users/day_r)\n",
    "est_hrs_req = np.ceil(est_req_users/hr_r)\n",
    "print est_days_req, est_hrs_req"
   ]
  },
  {
   "cell_type": "markdown",
   "metadata": {},
   "source": [
    "---\n",
    "\n",
    "## Running the standard split test\n",
    "\n",
    "Now that you have the number of days required to run the test, you will emulate a standard split test using the user conversion generating functions above. \n",
    "\n",
    "\n",
    "### 3.1 Set up a DataFrame below for the standard split test, calculating the number of users converted and lost per arm, per day \n",
    "\n",
    "Calculate the rate as well."
   ]
  },
  {
   "cell_type": "code",
   "execution_count": 159,
   "metadata": {
    "collapsed": false
   },
   "outputs": [
    {
     "name": "stdout",
     "output_type": "stream",
     "text": [
      "(100, 5)\n"
     ]
    }
   ],
   "source": [
    "def calculate_standard_split_test(d):\n",
    "    arm = d.arm.values[0]\n",
    "    if arm == 'A':\n",
    "        users = A_convert(users=24*40)\n",
    "    elif arm == 'B':\n",
    "        users = B_convert(users=24*15)\n",
    "    elif arm == 'C':\n",
    "        users = C_convert(users=24*15)\n",
    "    elif arm == 'D':\n",
    "        users = D_convert(users=24*15)\n",
    "    converted = np.sum(users)\n",
    "    lost = len(users) - converted\n",
    "    d['conv'] = converted\n",
    "    d['lost'] = lost\n",
    "    d['rate'] = float(converted)/(converted+lost)\n",
    "    return d\n",
    "\n",
    "st = []\n",
    "for arm in ['A','B','C','D']:\n",
    "    st_arm = pd.DataFrame()\n",
    "    st_arm['day'] = np.arange(est_days_req)\n",
    "    st_arm['arm'] = arm\n",
    "    st.append(st_arm)\n",
    "    \n",
    "st = pd.concat(st, axis=0)\n",
    "st = st.groupby(['arm','day']).apply(calculate_standard_split_test).reset_index(drop=True)\n",
    "st.head()\n",
    "\n",
    "print st.shape\n",
    "\n"
   ]
  },
  {
   "cell_type": "markdown",
   "metadata": {},
   "source": [
    "---\n",
    "\n",
    "### 3.2. Calculate the significance of the different conversion rates for arms at the final day using a linear regression.\n",
    "\n",
    "We can actually use linear regression to see if there are significant differences in our experimental arm from our control arm. \n",
    "\n",
    "Using `smf.ols`, predict the rate per arm from categorical (dummy coded) variabes for the arms. [You can include the formula in the function, so no need for patsy. NOTE: do not include the -1 term for statsmodels.](http://statsmodels.sourceforge.net/devel/index.html) Include the total number of users per hour as an additional regressor to control for differences in user count per arm."
   ]
  },
  {
   "cell_type": "code",
   "execution_count": 160,
   "metadata": {
    "collapsed": false
   },
   "outputs": [
    {
     "name": "stdout",
     "output_type": "stream",
     "text": [
      "                            OLS Regression Results                            \n",
      "==============================================================================\n",
      "Dep. Variable:                   rate   R-squared:                       0.084\n",
      "Model:                            OLS   Adj. R-squared:                  0.055\n",
      "Method:                 Least Squares   F-statistic:                     2.928\n",
      "Date:                Tue, 21 Jun 2016   Prob (F-statistic):             0.0376\n",
      "Time:                        11:28:07   Log-Likelihood:                 295.39\n",
      "No. Observations:                 100   AIC:                            -582.8\n",
      "Df Residuals:                      96   BIC:                            -572.4\n",
      "Df Model:                           3                                         \n",
      "Covariance Type:            nonrobust                                         \n",
      "===============================================================================\n",
      "                  coef    std err          t      P>|t|      [95.0% Conf. Int.]\n",
      "-------------------------------------------------------------------------------\n",
      "Intercept       0.0892      0.003     34.644      0.000         0.084     0.094\n",
      "C(arm)[T.B]    -0.0010      0.004     -0.271      0.787        -0.008     0.006\n",
      "C(arm)[T.C]     0.0080      0.004      2.201      0.030         0.001     0.015\n",
      "C(arm)[T.D]     0.0059      0.004      1.621      0.108        -0.001     0.013\n",
      "==============================================================================\n",
      "Omnibus:                        4.537   Durbin-Watson:                   1.824\n",
      "Prob(Omnibus):                  0.103   Jarque-Bera (JB):                5.244\n",
      "Skew:                          -0.184   Prob(JB):                       0.0727\n",
      "Kurtosis:                       4.060   Cond. No.                         4.79\n",
      "==============================================================================\n",
      "\n",
      "Warnings:\n",
      "[1] Standard Errors assume that the covariance matrix of the errors is correctly specified.\n"
     ]
    }
   ],
   "source": [
    "import statsmodels.formula.api as smf\n",
    "\n",
    "st['user_total'] = st.conv + st.lost\n",
    "st_results = smf.ols('rate ~ C(arm)', data=st).fit()\n",
    "print st_results.summary()\n"
   ]
  },
  {
   "cell_type": "markdown",
   "metadata": {},
   "source": [
    "---\n",
    "\n",
    "### 3.3. Calculate the significance with an ANOVA\n",
    "\n",
    "You can do the same thing as above in a simpler way with the ANOVA f-test. This is just a generalization of the t-test for multiple group means (3 or more). If the p-value is below your significance threshold, it indicates that the null hypothesis that all the means are in fact equal can be rejected.\n",
    "\n",
    "Perform this with the `stats.f_oneway()` function from scipy.\n",
    "\n",
    "http://docs.scipy.org/doc/scipy/reference/generated/scipy.stats.f_oneway.html"
   ]
  },
  {
   "cell_type": "code",
   "execution_count": 161,
   "metadata": {
    "collapsed": false
   },
   "outputs": [
    {
     "name": "stdout",
     "output_type": "stream",
     "text": [
      "F_onewayResult(statistic=2.9277049358180616, pvalue=0.037613768110830136)\n"
     ]
    }
   ],
   "source": [
    "Ar = st[st.arm == 'A'].rate.values\n",
    "Br = st[st.arm == 'B'].rate.values\n",
    "Cr = st[st.arm == 'C'].rate.values\n",
    "Dr = st[st.arm == 'D'].rate.values\n",
    "\n",
    "anova_test = stats.f_oneway(Ar, Br, Cr, Dr)\n",
    "print anova_test"
   ]
  },
  {
   "cell_type": "markdown",
   "metadata": {},
   "source": [
    "--\n",
    "\n",
    "## 4. Constructing the multi-arm bandit split test. \n",
    "\n",
    "Now we will construct a split test using the multi arm bandit!\n",
    "\n",
    "The multi-arm bandit procedure is actually quite simple, except perhaps for understanding why the beta distribution is used. I will explain this, however. The procedure is as follows:\n",
    "\n",
    "1. Calculate your estimated rates for each arm. In our case, we can use the known rates for the A arm from previous conversions for the initial arm A distribution.\n",
    "- These rates, or rather the number of conversions and number of losses, are used to construct **beta distributions** that define the probability density function of each arm.\n",
    "    - What does this mean? Recall that these split test arms are just a **binomial or bernoulli process**, in which \"coin flips\" are performed with a bias/weighting, or probability. Our arms each have a \"true\" probability of conversion, which defines the bias.\n",
    "    - If you imagine a chart with an x-axis that goes from 0 to 1000, where x is user conversions, the y-axis in this case is the probability that you get that many conversions out of 1000. These are all different outcomes of 1000 \"coin flip\" instances with that true bias. The distribution over these probabilities is the beta distribution, and so is intrinsically related to the binomial process (which is conversions with probabilities per arm in our case).\n",
    "- When assigning a user to an arm, the process is no longer random according to pre-defined proportions. Instead, **we draw a random number from each arm's beta distribution. The user is assigned to the arm with the highest random value.**\n",
    "- At pre-specified intervals, the beta distributions are updated with the cumulative conversions and losses per arm. This means that as time passes, the split test is adjusting so that the better arms are getting more of the users! The multi-arm bandit \"automatically\" converges on the best arm for your metric.\n"
   ]
  },
  {
   "cell_type": "markdown",
   "metadata": {},
   "source": [
    "---\n",
    "\n",
    "### 4.1. Create a function that will draw a random number from a beta distribution with specified \"wins\" and \"losses\"\n",
    "\n",
    "In your case, the wins are conversions and the losses are user losses. The `np.random.beta()` function will take an `a` corresponding to wins and `b` corresponding to losses.\n",
    "\n",
    "Note that you actually need to add 1 to both a and b, essentially because a 0,0 beta distribution is undefined."
   ]
  },
  {
   "cell_type": "code",
   "execution_count": 162,
   "metadata": {
    "collapsed": true
   },
   "outputs": [],
   "source": [
    "def beta_rand(conversions, losses, users):\n",
    "    return np.random.beta(conversions+1, losses+1, size=users)"
   ]
  },
  {
   "cell_type": "markdown",
   "metadata": {},
   "source": [
    "---\n",
    "\n",
    "### 4.2. Create a function that will assign a user (or users) to an arm based on the process of drawing random numbers from each arm's beta distribution\n",
    "\n",
    "So, to reiterate:\n",
    "\n",
    "    for each user:\n",
    "        A_p = np.random.beta(A_converted+1, A_lost+1)\n",
    "        B_p = np.random.beta(B_converted+1, B_lost+1)\n",
    "        C_p = np.random.beta(C_converted+1, C_lost+1)\n",
    "        D_p = np.random.beta(D_converted+1, D_lost+1)\n",
    "        \n",
    "        user is assigned to arm with highest *_p value\n"
   ]
  },
  {
   "cell_type": "code",
   "execution_count": 163,
   "metadata": {
    "collapsed": true
   },
   "outputs": [],
   "source": [
    "def assign_user(arms):\n",
    "    max_p = 0.\n",
    "    max_arm = 'A'\n",
    "    \n",
    "    for arm in ['A','B','C','D']:\n",
    "        p = beta_rand(arms[arm]['wins'], arms[arm]['losses'], 1)\n",
    "        if p > max_p:\n",
    "            max_p = p\n",
    "            max_arm = arm\n",
    "            \n",
    "    return max_arm\n",
    "    "
   ]
  },
  {
   "cell_type": "markdown",
   "metadata": {},
   "source": [
    "---\n",
    "\n",
    "### 4.3. Construct and run the multi-arm bandit split test\n",
    "\n",
    "You will again keep track of the number of users converting and not converting per arm. **This time, track the number of conversions per hour rather than day.**\n",
    "\n",
    "Requirements/setup of the split test:\n",
    "\n",
    "1. Update the beta distributions **every 6 hours** with the new cumulative conversions and losses per arm.\n",
    "    - Arm A will start with its previously observed conversions and losses, arms B, C, and D will start with `np.random.beta(1,1)`\n",
    "2. For each user, perform the beta distribution weighted probability selection for the arms and assign the user to that arm.\n",
    "3. Once a user is assigned to an arm, you can calculate whether they converted or not using the \"true\" rate functions we used for the standard split test above.\n",
    "4. You will be calculating **cumulative conversions/losses from the beginning of the test** rather than just the numbers for that hour.\n",
    "    - This may be easiest to do at each 6-hour iteration when you need to update the number of cumulative conversions and losses for each arm that you will use for the next 6-hour block of arm assignments.\n",
    "5. Note that you may want to keep track of day (as a float) to make the next plotting segment easier."
   ]
  },
  {
   "cell_type": "code",
   "execution_count": 164,
   "metadata": {
    "collapsed": false
   },
   "outputs": [
    {
     "data": {
      "text/plain": [
       "[1, 2, 3, 4, 5]"
      ]
     },
     "execution_count": 164,
     "metadata": {},
     "output_type": "execute_result"
    }
   ],
   "source": [
    "[1,2,3,4,5,6][0:5]"
   ]
  },
  {
   "cell_type": "code",
   "execution_count": 168,
   "metadata": {
    "collapsed": false,
    "scrolled": false
   },
   "outputs": [
    {
     "name": "stdout",
     "output_type": "stream",
     "text": [
      "(58100, 5)\n",
      "{'A': {'wins': 1050.0, 'losses': 12120.0}, 'C': {'wins': 0.0, 'losses': 0.0}, 'B': {'wins': 0.0, 'losses': 0.0}, 'D': {'wins': 0.0, 'losses': 0.0}}\n",
      "Recalculating arm betas...\n",
      "{'A': {'wins': 0.0, 'losses': 0.0}, 'C': {'wins': 33, 'losses': 344}, 'B': {'wins': 40, 'losses': 331}, 'D': {'wins': 31, 'losses': 320}}\n",
      "Recalculating arm betas...\n",
      "{'A': {'wins': 102, 'losses': 966}, 'C': {'wins': 36, 'losses': 355}, 'B': {'wins': 52, 'losses': 418}, 'D': {'wins': 33, 'losses': 337}}\n",
      "Recalculating arm betas...\n",
      "{'A': {'wins': 112, 'losses': 1073}, 'C': {'wins': 61, 'losses': 492}, 'B': {'wins': 116, 'losses': 1138}, 'D': {'wins': 45, 'losses': 462}}\n",
      "Recalculating arm betas...\n",
      "{'A': {'wins': 127, 'losses': 1183}, 'C': {'wins': 136, 'losses': 1319}, 'B': {'wins': 124, 'losses': 1205}, 'D': {'wins': 61, 'losses': 544}}\n",
      "Recalculating arm betas...\n",
      "{'A': {'wins': 164, 'losses': 1446}, 'C': {'wins': 148, 'losses': 1445}, 'B': {'wins': 138, 'losses': 1351}, 'D': {'wins': 108, 'losses': 1099}}\n",
      "Recalculating arm betas...\n",
      "{'A': {'wins': 234, 'losses': 2132}, 'C': {'wins': 169, 'losses': 1612}, 'B': {'wins': 148, 'losses': 1503}, 'D': {'wins': 123, 'losses': 1178}}\n",
      "Recalculating arm betas...\n",
      "{'A': {'wins': 293, 'losses': 2597}, 'C': {'wins': 193, 'losses': 1873}, 'B': {'wins': 160, 'losses': 1583}, 'D': {'wins': 156, 'losses': 1444}}\n",
      "Recalculating arm betas...\n",
      "{'A': {'wins': 350, 'losses': 3197}, 'C': {'wins': 202, 'losses': 1978}, 'B': {'wins': 167, 'losses': 1657}, 'D': {'wins': 193, 'losses': 1755}}\n",
      "Recalculating arm betas...\n",
      "{'A': {'wins': 394, 'losses': 3590}, 'C': {'wins': 212, 'losses': 2095}, 'B': {'wins': 174, 'losses': 1761}, 'D': {'wins': 241, 'losses': 2232}}\n",
      "Recalculating arm betas...\n",
      "{'A': {'wins': 455, 'losses': 4096}, 'C': {'wins': 219, 'losses': 2195}, 'B': {'wins': 179, 'losses': 1838}, 'D': {'wins': 286, 'losses': 2631}}\n",
      "Recalculating arm betas...\n",
      "{'A': {'wins': 515, 'losses': 4681}, 'C': {'wins': 223, 'losses': 2257}, 'B': {'wins': 183, 'losses': 1893}, 'D': {'wins': 322, 'losses': 3025}}\n",
      "Recalculating arm betas...\n",
      "{'A': {'wins': 583, 'losses': 5351}, 'C': {'wins': 227, 'losses': 2320}, 'B': {'wins': 188, 'losses': 1929}, 'D': {'wins': 351, 'losses': 3350}}\n",
      "Recalculating arm betas...\n",
      "{'A': {'wins': 636, 'losses': 6033}, 'C': {'wins': 232, 'losses': 2386}, 'B': {'wins': 198, 'losses': 2014}, 'D': {'wins': 383, 'losses': 3617}}\n",
      "Recalculating arm betas...\n",
      "{'A': {'wins': 675, 'losses': 6469}, 'C': {'wins': 237, 'losses': 2476}, 'B': {'wins': 211, 'losses': 2150}, 'D': {'wins': 431, 'losses': 4050}}\n",
      "Recalculating arm betas...\n",
      "{'A': {'wins': 700, 'losses': 6788}, 'C': {'wins': 242, 'losses': 2522}, 'B': {'wins': 225, 'losses': 2278}, 'D': {'wins': 496, 'losses': 4648}}\n",
      "Recalculating arm betas...\n",
      "{'A': {'wins': 726, 'losses': 7043}, 'C': {'wins': 252, 'losses': 2588}, 'B': {'wins': 241, 'losses': 2422}, 'D': {'wins': 559, 'losses': 5268}}\n",
      "Recalculating arm betas...\n",
      "{'A': {'wins': 752, 'losses': 7289}, 'C': {'wins': 259, 'losses': 2681}, 'B': {'wins': 254, 'losses': 2586}, 'D': {'wins': 618, 'losses': 5860}}\n",
      "Recalculating arm betas...\n",
      "{'A': {'wins': 774, 'losses': 7579}, 'C': {'wins': 269, 'losses': 2754}, 'B': {'wins': 268, 'losses': 2740}, 'D': {'wins': 678, 'losses': 6437}}\n",
      "Recalculating arm betas...\n",
      "{'A': {'wins': 799, 'losses': 7809}, 'C': {'wins': 278, 'losses': 2868}, 'B': {'wins': 279, 'losses': 2853}, 'D': {'wins': 753, 'losses': 7060}}\n",
      "Recalculating arm betas...\n",
      "{'A': {'wins': 816, 'losses': 7998}, 'C': {'wins': 280, 'losses': 2942}, 'B': {'wins': 292, 'losses': 2939}, 'D': {'wins': 827, 'losses': 7805}}\n",
      "Recalculating arm betas...\n",
      "{'A': {'wins': 830, 'losses': 8195}, 'C': {'wins': 287, 'losses': 2978}, 'B': {'wins': 311, 'losses': 3093}, 'D': {'wins': 905, 'losses': 8500}}\n",
      "Recalculating arm betas...\n",
      "{'A': {'wins': 845, 'losses': 8331}, 'C': {'wins': 294, 'losses': 3038}, 'B': {'wins': 329, 'losses': 3273}, 'D': {'wins': 979, 'losses': 9210}}\n",
      "Recalculating arm betas...\n",
      "{'A': {'wins': 857, 'losses': 8476}, 'C': {'wins': 301, 'losses': 3105}, 'B': {'wins': 346, 'losses': 3464}, 'D': {'wins': 1046, 'losses': 9904}}\n",
      "Recalculating arm betas...\n",
      "{'A': {'wins': 871, 'losses': 8593}, 'C': {'wins': 308, 'losses': 3177}, 'B': {'wins': 366, 'losses': 3657}, 'D': {'wins': 1118, 'losses': 10609}}\n",
      "Recalculating arm betas...\n",
      "{'A': {'wins': 887, 'losses': 8756}, 'C': {'wins': 316, 'losses': 3252}, 'B': {'wins': 382, 'losses': 3844}, 'D': {'wins': 1184, 'losses': 11278}}\n",
      "Recalculating arm betas...\n",
      "{'A': {'wins': 905, 'losses': 8926}, 'C': {'wins': 327, 'losses': 3345}, 'B': {'wins': 394, 'losses': 3988}, 'D': {'wins': 1254, 'losses': 11960}}\n",
      "Recalculating arm betas...\n",
      "{'A': {'wins': 922, 'losses': 9121}, 'C': {'wins': 336, 'losses': 3450}, 'B': {'wins': 404, 'losses': 4136}, 'D': {'wins': 1309, 'losses': 12621}}\n",
      "Recalculating arm betas...\n",
      "{'A': {'wins': 950, 'losses': 9359}, 'C': {'wins': 352, 'losses': 3584}, 'B': {'wins': 422, 'losses': 4243}, 'D': {'wins': 1365, 'losses': 13224}}\n",
      "Recalculating arm betas...\n",
      "{'A': {'wins': 988, 'losses': 9601}, 'C': {'wins': 368, 'losses': 3738}, 'B': {'wins': 437, 'losses': 4429}, 'D': {'wins': 1422, 'losses': 13716}}\n",
      "Recalculating arm betas...\n",
      "{'A': {'wins': 1019, 'losses': 9974}, 'C': {'wins': 382, 'losses': 3878}, 'B': {'wins': 447, 'losses': 4562}, 'D': {'wins': 1475, 'losses': 14162}}\n",
      "Recalculating arm betas...\n",
      "{'A': {'wins': 1049, 'losses': 10275}, 'C': {'wins': 394, 'losses': 4028}, 'B': {'wins': 453, 'losses': 4664}, 'D': {'wins': 1518, 'losses': 14718}}\n",
      "Recalculating arm betas...\n",
      "{'A': {'wins': 1090, 'losses': 10658}, 'C': {'wins': 404, 'losses': 4142}, 'B': {'wins': 463, 'losses': 4757}, 'D': {'wins': 1574, 'losses': 15211}}\n",
      "Recalculating arm betas...\n",
      "{'A': {'wins': 1120, 'losses': 11027}, 'C': {'wins': 412, 'losses': 4258}, 'B': {'wins': 476, 'losses': 4854}, 'D': {'wins': 1629, 'losses': 15723}}\n",
      "Recalculating arm betas...\n",
      "{'A': {'wins': 1150, 'losses': 11288}, 'C': {'wins': 427, 'losses': 4336}, 'B': {'wins': 492, 'losses': 4980}, 'D': {'wins': 1697, 'losses': 16329}}\n",
      "Recalculating arm betas...\n",
      "{'A': {'wins': 1177, 'losses': 11555}, 'C': {'wins': 433, 'losses': 4473}, 'B': {'wins': 503, 'losses': 5099}, 'D': {'wins': 1764, 'losses': 16895}}\n",
      "Recalculating arm betas...\n",
      "{'A': {'wins': 1196, 'losses': 11775}, 'C': {'wins': 443, 'losses': 4537}, 'B': {'wins': 518, 'losses': 5209}, 'D': {'wins': 1840, 'losses': 17581}}\n",
      "Recalculating arm betas...\n",
      "{'A': {'wins': 1210, 'losses': 11957}, 'C': {'wins': 450, 'losses': 4618}, 'B': {'wins': 532, 'losses': 5346}, 'D': {'wins': 1908, 'losses': 18278}}\n",
      "Recalculating arm betas...\n",
      "{'A': {'wins': 1226, 'losses': 12127}, 'C': {'wins': 459, 'losses': 4695}, 'B': {'wins': 544, 'losses': 5513}, 'D': {'wins': 1973, 'losses': 18962}}\n",
      "Recalculating arm betas...\n",
      "{'A': {'wins': 1240, 'losses': 12318}, 'C': {'wins': 465, 'losses': 4798}, 'B': {'wins': 559, 'losses': 5649}, 'D': {'wins': 2036, 'losses': 19634}}\n",
      "Recalculating arm betas...\n",
      "{'A': {'wins': 1258, 'losses': 12487}, 'C': {'wins': 477, 'losses': 4872}, 'B': {'wins': 578, 'losses': 5804}, 'D': {'wins': 2114, 'losses': 20309}}\n",
      "Recalculating arm betas...\n",
      "{'A': {'wins': 1276, 'losses': 12637}, 'C': {'wins': 489, 'losses': 4976}, 'B': {'wins': 597, 'losses': 5955}, 'D': {'wins': 2174, 'losses': 20995}}\n",
      "Recalculating arm betas...\n",
      "{'A': {'wins': 1293, 'losses': 12822}, 'C': {'wins': 496, 'losses': 5110}, 'B': {'wins': 619, 'losses': 6177}, 'D': {'wins': 2229, 'losses': 21553}}\n",
      "Recalculating arm betas...\n",
      "{'A': {'wins': 1313, 'losses': 12999}, 'C': {'wins': 505, 'losses': 5184}, 'B': {'wins': 647, 'losses': 6377}, 'D': {'wins': 2294, 'losses': 22180}}\n",
      "Recalculating arm betas...\n",
      "{'A': {'wins': 1328, 'losses': 13185}, 'C': {'wins': 508, 'losses': 5255}, 'B': {'wins': 673, 'losses': 6674}, 'D': {'wins': 2336, 'losses': 22740}}\n",
      "Recalculating arm betas...\n",
      "{'A': {'wins': 1345, 'losses': 13398}, 'C': {'wins': 516, 'losses': 5320}, 'B': {'wins': 701, 'losses': 7007}, 'D': {'wins': 2378, 'losses': 23234}}\n",
      "Recalculating arm betas...\n",
      "{'A': {'wins': 1363, 'losses': 13615}, 'C': {'wins': 528, 'losses': 5422}, 'B': {'wins': 726, 'losses': 7296}, 'D': {'wins': 2427, 'losses': 23722}}\n",
      "Recalculating arm betas...\n",
      "{'A': {'wins': 1387, 'losses': 13818}, 'C': {'wins': 542, 'losses': 5550}, 'B': {'wins': 744, 'losses': 7501}, 'D': {'wins': 2486, 'losses': 24271}}\n",
      "Recalculating arm betas...\n",
      "{'A': {'wins': 1411, 'losses': 14044}, 'C': {'wins': 563, 'losses': 5686}, 'B': {'wins': 769, 'losses': 7677}, 'D': {'wins': 2541, 'losses': 24808}}\n"
     ]
    }
   ],
   "source": [
    "hours = np.tile(np.arange(1, est_hrs_req+1), 100)\n",
    "hours.sort()\n",
    "user_id = np.arange(1, len(hours)+1)\n",
    "\n",
    "mab = pd.DataFrame()\n",
    "mab['hour'] = hours\n",
    "mab['user_id'] = user_id\n",
    "mab['arm'] = 'A'\n",
    "mab['converted'] = 0\n",
    "mab['lost'] = 0\n",
    "print mab.shape\n",
    "\n",
    "arms_dict = {k:{'wins':0., 'losses':0.} for k in ['A','B','C','D']}\n",
    "arms_dict['A']['wins'] = A_c\n",
    "arms_dict['A']['losses'] = A_l\n",
    "\n",
    "print arms_dict\n",
    "\n",
    "next_hour = 12\n",
    "\n",
    "for i in range(0, mab.shape[0]):\n",
    "    \n",
    "    if (i+1 < mab.shape[0]) and (mab.hour.values[i+1] % next_hour == 0):\n",
    "        print 'Recalculating arm betas...'\n",
    "        arms = mab.arm.values[0:i]\n",
    "        conv = mab.converted.values[0:i]\n",
    "        lost = mab.lost.values[0:i]\n",
    "        for arm in ['A','B','C','D']:\n",
    "            cum_conv = np.sum([c for c, a in zip(conv, arms) if a == arm])\n",
    "            cum_loss = np.sum([l for l, a in zip(lost, arms) if a == arm])\n",
    "            arms_dict[arm]['wins'] = cum_conv\n",
    "            arms_dict[arm]['losses'] = cum_loss\n",
    "    \n",
    "        next_hour += 12\n",
    "        print arms_dict\n",
    "            \n",
    "    user_arm = assign_user(arms_dict)\n",
    "    \n",
    "    if user_arm == 'A':\n",
    "        converted = A_convert()\n",
    "    elif user_arm == 'B':\n",
    "        converted = B_convert()\n",
    "    elif user_arm == 'C':\n",
    "        converted = C_convert()\n",
    "    else:\n",
    "        converted = D_convert()\n",
    "        \n",
    "    mab.ix[i, 'arm'] = user_arm\n",
    "    mab.ix[i, 'converted'] = converted\n",
    "    if converted == 1:\n",
    "        mab.ix[i, 'lost'] = 0\n",
    "    else:\n",
    "        mab.ix[i, 'lost'] = 1\n",
    "    "
   ]
  },
  {
   "cell_type": "markdown",
   "metadata": {},
   "source": [
    "### 4.4. Plot the beta distributions at different days.\n",
    "\n",
    "Plotting out the beta distributions for the arms as they change will show you how the multi-arm bandit changes the probability of assignment to each arm.\n",
    "\n",
    "Plot the beta distributions for each arm on the same plot for:\n",
    "\n",
    "    day 1\n",
    "    day 3\n",
    "    day 5\n",
    "    day 10\n",
    "    day 21\n",
    "    \n",
    "To plot the distributions you can use this process:\n",
    "\n",
    "1. Generate a decent range of x-values for the x-axis between 0 and 1 with `np.linspace()`\n",
    "2. Use `stats.beta.pdf(x, a, b)` to get the y-axis values.\n",
    "    - The x argument is your x-axis values\n",
    "    - The a argument is your cumulative conversions at that time point + 1\n",
    "    - The b argument is your cumulative losses at that time point + 1"
   ]
  },
  {
   "cell_type": "code",
   "execution_count": 169,
   "metadata": {
    "collapsed": true
   },
   "outputs": [],
   "source": [
    "mab['day'] = mab.hour / 24."
   ]
  },
  {
   "cell_type": "code",
   "execution_count": 170,
   "metadata": {
    "collapsed": false
   },
   "outputs": [],
   "source": [
    "\n",
    "def cumsum_by_arm(mab_sub):\n",
    "    mab_sub['conv_cs'] = np.cumsum(mab_sub.converted)\n",
    "    mab_sub['lost_cs'] = np.cumsum(mab_sub.lost)\n",
    "    return mab_sub\n",
    "    \n",
    "mab_cs = mab.groupby('arm').apply(cumsum_by_arm).reset_index(drop=True)\n",
    "\n",
    "mab_cs05 = mab_cs[mab_cs.day < 0.6]\n",
    "mab_cs1 = mab_cs[mab_cs.day < 2]\n",
    "mab_cs3 = mab_cs[mab_cs.day < 4]\n",
    "mab_cs5 = mab_cs[mab_cs.day < 6]\n",
    "mab_cs10 = mab_cs[mab_cs.day < 11]\n",
    "\n",
    "def last_by_arm(sub):\n",
    "    return sub.iloc[-1,:]\n",
    "\n",
    "mab_cs05 = mab_cs05.groupby('arm').apply(last_by_arm).reset_index(drop=True)\n",
    "mab_cs1 = mab_cs1.groupby('arm').apply(last_by_arm).reset_index(drop=True)\n",
    "mab_cs3 = mab_cs3.groupby('arm').apply(last_by_arm).reset_index(drop=True)\n",
    "mab_cs5 = mab_cs5.groupby('arm').apply(last_by_arm).reset_index(drop=True)\n",
    "mab_cs10 = mab_cs10.groupby('arm').apply(last_by_arm).reset_index(drop=True)"
   ]
  },
  {
   "cell_type": "code",
   "execution_count": 171,
   "metadata": {
    "collapsed": false
   },
   "outputs": [
    {
     "data": {
      "text/html": [
       "<div>\n",
       "<table border=\"1\" class=\"dataframe\">\n",
       "  <thead>\n",
       "    <tr style=\"text-align: right;\">\n",
       "      <th></th>\n",
       "      <th>hour</th>\n",
       "      <th>user_id</th>\n",
       "      <th>arm</th>\n",
       "      <th>converted</th>\n",
       "      <th>lost</th>\n",
       "      <th>day</th>\n",
       "      <th>conv_cs</th>\n",
       "      <th>lost_cs</th>\n",
       "    </tr>\n",
       "  </thead>\n",
       "  <tbody>\n",
       "    <tr>\n",
       "      <th>0</th>\n",
       "      <td>47.0</td>\n",
       "      <td>4700</td>\n",
       "      <td>A</td>\n",
       "      <td>1</td>\n",
       "      <td>0</td>\n",
       "      <td>1.958333</td>\n",
       "      <td>128</td>\n",
       "      <td>1183</td>\n",
       "    </tr>\n",
       "    <tr>\n",
       "      <th>1</th>\n",
       "      <td>47.0</td>\n",
       "      <td>4657</td>\n",
       "      <td>B</td>\n",
       "      <td>0</td>\n",
       "      <td>1</td>\n",
       "      <td>1.958333</td>\n",
       "      <td>124</td>\n",
       "      <td>1205</td>\n",
       "    </tr>\n",
       "    <tr>\n",
       "      <th>2</th>\n",
       "      <td>47.0</td>\n",
       "      <td>4699</td>\n",
       "      <td>C</td>\n",
       "      <td>1</td>\n",
       "      <td>0</td>\n",
       "      <td>1.958333</td>\n",
       "      <td>136</td>\n",
       "      <td>1319</td>\n",
       "    </tr>\n",
       "    <tr>\n",
       "      <th>3</th>\n",
       "      <td>47.0</td>\n",
       "      <td>4690</td>\n",
       "      <td>D</td>\n",
       "      <td>0</td>\n",
       "      <td>1</td>\n",
       "      <td>1.958333</td>\n",
       "      <td>61</td>\n",
       "      <td>544</td>\n",
       "    </tr>\n",
       "  </tbody>\n",
       "</table>\n",
       "</div>"
      ],
      "text/plain": [
       "   hour  user_id arm  converted  lost       day  conv_cs  lost_cs\n",
       "0  47.0     4700   A          1     0  1.958333      128     1183\n",
       "1  47.0     4657   B          0     1  1.958333      124     1205\n",
       "2  47.0     4699   C          1     0  1.958333      136     1319\n",
       "3  47.0     4690   D          0     1  1.958333       61      544"
      ]
     },
     "execution_count": 171,
     "metadata": {},
     "output_type": "execute_result"
    }
   ],
   "source": [
    "mab_cs1"
   ]
  },
  {
   "cell_type": "code",
   "execution_count": 177,
   "metadata": {
    "collapsed": true
   },
   "outputs": [],
   "source": [
    "def mab_plotter(df):\n",
    "\n",
    "    fig = plt.figure(figsize=(14,7))\n",
    "    ax = fig.gca()\n",
    "    x = np.linspace(0,1,1000)\n",
    "    \n",
    "    apdf = stats.beta.pdf(x, df[df.arm == 'A'].conv_cs.values[0], \n",
    "                          df[df.arm == 'A'].lost_cs.values[0])\n",
    "    bpdf = stats.beta.pdf(x, df[df.arm == 'B'].conv_cs.values[0], \n",
    "                          df[df.arm == 'B'].lost_cs.values[0])\n",
    "    cpdf = stats.beta.pdf(x, df[df.arm == 'C'].conv_cs.values[0], \n",
    "                          df[df.arm == 'C'].lost_cs.values[0])\n",
    "    dpdf = stats.beta.pdf(x, df[df.arm == 'D'].conv_cs.values[0], \n",
    "                          df[df.arm == 'D'].lost_cs.values[0])\n",
    "    \n",
    "    ax.plot(x, apdf, lw=3, c='darkred', label='A')\n",
    "    ax.plot(x, bpdf, lw=3, c='steelblue', label='B')\n",
    "    ax.plot(x, cpdf, lw=3, c='teal', label='C')\n",
    "    ax.plot(x, dpdf, lw=3, c='gold', label='D')\n",
    "    \n",
    "    ax.set_xlim([0.05, 0.15])\n",
    "    plt.legend()\n",
    "    \n",
    "    plt.show()\n",
    "    \n",
    "    \n",
    "    "
   ]
  },
  {
   "cell_type": "code",
   "execution_count": 182,
   "metadata": {
    "collapsed": false
   },
   "outputs": [
    {
     "data": {
      "image/png": "[encoded data removed]",
      "text/plain": [
       "<matplotlib.figure.Figure at 0x11d195f50>"
      ]
     },
     "metadata": {
      "image/png": {
       "height": 426,
       "width": 819
      }
     },
     "output_type": "display_data"
    }
   ],
   "source": [
    "mab_plotter(mab_cs10)"
   ]
  },
  {
   "cell_type": "markdown",
   "metadata": {},
   "source": [
    "---\n",
    "\n",
    "## Pros and cons to multi-arm bandit\n",
    "\n",
    "The multi-arm bandit is cool, but like everything in statistics has pros and cons as compared to other methods.\n",
    "\n",
    "---\n",
    "\n",
    "### 5.1. Calculate the total number of conversions and losses (and rate) for the standard split test and multi-arm bandit split test at the final day\n",
    "\n",
    "Which split test version achieved a greater conversion rate over that period?"
   ]
  },
  {
   "cell_type": "code",
   "execution_count": null,
   "metadata": {
    "collapsed": true
   },
   "outputs": [],
   "source": []
  },
  {
   "cell_type": "markdown",
   "metadata": {},
   "source": [
    "---\n",
    "\n",
    "### 5.2. Winner the best arm from the standard split test and calculate the new cumulative conversions and losses out to day 50."
   ]
  },
  {
   "cell_type": "code",
   "execution_count": null,
   "metadata": {
    "collapsed": true
   },
   "outputs": [],
   "source": []
  },
  {
   "cell_type": "markdown",
   "metadata": {},
   "source": [
    "---\n",
    "\n",
    "### 5.3. Continue the multi-arm bandit process out to day 50 as well. Compare the standard split test to the multi-arm bandit at this time point."
   ]
  },
  {
   "cell_type": "code",
   "execution_count": null,
   "metadata": {
    "collapsed": true
   },
   "outputs": [],
   "source": []
  }
 ],
 "metadata": {
  "kernelspec": {
   "display_name": "Python 2",
   "language": "python",
   "name": "python2"
  },
  "language_info": {
   "codemirror_mode": {
    "name": "ipython",
    "version": 2
   },
   "file_extension": ".py",
   "mimetype": "text/x-python",
   "name": "python",
   "nbconvert_exporter": "python",
   "pygments_lexer": "ipython2",
   "version": "2.7.11"
  }
 },
 "nbformat": 4,
 "nbformat_minor": 0
}
