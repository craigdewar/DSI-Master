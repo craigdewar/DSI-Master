{
 "cells": [
  {
   "cell_type": "markdown",
   "metadata": {},
   "source": [
    "<img src=\"https://ga-dash.s3.amazonaws.com/production/assets/logo-9f88ae6c9c3871690e33280fcf557f33.png\" style=\"float: left; margin: 15px\">\n",
    "\n",
    "# Introduction to A/B Testing\n",
    "\n",
    "Week 11 | Lesson 1.1\n",
    "\n",
    "---\n",
    "\n",
    "A/B  (A/B/C/etc.) split testing is a popular and ubiquitous technique for improving products in industry (particular the tech industry).\n",
    "\n",
    "The main topics of this lecture are the design and the ways of \"winnering\" a split test.\n",
    "\n",
    "---"
   ]
  },
  {
   "cell_type": "code",
   "execution_count": 1,
   "metadata": {
    "collapsed": true
   },
   "outputs": [],
   "source": [
    "import pandas as pd\n",
    "import numpy as np\n",
    "import matplotlib.pyplot as plt\n",
    "import seaborn as sns\n",
    "import datetime as dt\n",
    "#import prettyplotlib as ppl\n",
    "\n",
    "sns.set_style('whitegrid')\n",
    "\n",
    "%matplotlib inline\n",
    "%config InlineBackend.figure_format = 'retina'\n",
    "\n",
    "from ipywidgets import interact\n",
    "import ipywidgets as widgets\n",
    "from IPython.display import Image\n"
   ]
  },
  {
   "cell_type": "markdown",
   "metadata": {},
   "source": [
    "---\n",
    "\n",
    "## A/B Test Design\n",
    "\n",
    "An example of an A/B test might be:\n",
    "\n",
    ">Google wants to test if changing the size of the information card on the right side of the search results page will result in more people clicking on links inside of it. They construct two versions of their search results page, one with the original, \"control\" page where the box is 300px wide, and a new \"experimental\" page where the box is 301px wide.\n",
    "        \n",
    ">For one day, they funnel 90% of searchers to the control page and 10% to the experimental page. At the end of the day, they check the click rates for each and determine a winner.\n",
    "\n",
    "\n",
    "Good A/B test design applies scientific standards borrowed from experimental design in science. As is described above, A/B tests are really just experiments and hypothesis testing with a different name and context.\n"
   ]
  },
  {
   "cell_type": "code",
   "execution_count": 2,
   "metadata": {
    "collapsed": false
   },
   "outputs": [
    {
     "data": {
      "image/png": "[encoded data removed]",
      "text/plain": [
       "<IPython.core.display.Image object>"
      ]
     },
     "execution_count": 2,
     "metadata": {
      "image/png": {
       "width": 900
      }
     },
     "output_type": "execute_result"
    }
   ],
   "source": [
    "Image(filename='./assets/images/ab_test1.png', width=900) "
   ]
  },
  {
   "cell_type": "markdown",
   "metadata": {},
   "source": [
    "---\n",
    "\n",
    "## A/B Testing Case Studies\n",
    "\n",
    "In groups read about A/B testing case studies, discuss, and then present to the class on what the findings and outcome of the case study was.\n",
    "\n",
    "\n",
    "#### Case study 1: How Obama raised 60 million dollars\n",
    "\n",
    "https://blog.optimizely.com/2010/11/29/how-obama-raised-60-million-by-running-a-simple-experiment/\n",
    "\n",
    "#### Case study 2: How AMD increased social sharing by 3600%\n",
    "\n",
    "https://vwo.com/blog/amd-3600-social-sharing-increase/\n",
    "\n",
    "#### Case study 3: Failed A/B tests increase conversion\n",
    "\n",
    "http://unbounce.com/a-b-testing/failed-ab-test-results/\n",
    "\n",
    "#### Case study 4: When good design is bad for business\n",
    "\n",
    "https://vwo.com/blog/good-design-bad-conversion-rate/\n",
    "\n"
   ]
  },
  {
   "cell_type": "markdown",
   "metadata": {},
   "source": [
    "---\n",
    "\n",
    "### Setup of a Split Test\n",
    "\n",
    "Companies running as split test, and particularly the data scientists responsible for the construction and analysis of the test, should consider in detail the value, purpose, and setup of the test before beginning any _technical_ work. Four essential considerations before beginning a test are:\n",
    "\n",
    "**1. WHAT ELEMENTS WILL BE CHANGED IN THE PRODUCT?**\n",
    "\n",
    "Data scientist typically work closely with Product or Project Managers (PMs). You will often have limited say in what elements are changed for a test, but this does not mean you should avoid \"weighing in\". In fact, it is essential as a data scientist to clearly communicate your opinion of the test since you are the most statistically savvy. At this stage in the process, ensuring the smallest/most limited changes are made will prevent false correlations in the data and have the most meaningful results.\n",
    "\n",
    "**2. WHO WILL BE PART OF THE TESTING GROUPS (ARMS) AND BY HOW MUCH?**\n",
    "\n",
    "Will the test split incoming traffic 50/50 between variants? Should you serve the variant under test to a smaller group? Will the test split change? A common and safe practice is to begin by only showing the new variant(s) to a very small proportion of users to ensure there is nothing very wrong with the change, then performing the actual split test on a larger proportion of users.\n",
    "\n",
    "**3. HOW LONG WILL THE TEST RUN?**\n",
    "\n",
    "This is a very important question to ask. If the test doesn't run long enough, your data won't be useful. If it runs too long, that can impact business needs. _In the standard split test procedure, you cannot check the results multiple times!_ We will examine and explain why in a later section.\n",
    "\n",
    "**4. IS THE THE TEST NECESSARY? WHY?**\n",
    "\n",
    "A/B testing is a gamble, and potentially an expensive one. If the business result of the test is less valuable than the possible negative effects on churn or conversion rate, then it is worth re-evaluating your variants and design."
   ]
  },
  {
   "cell_type": "markdown",
   "metadata": {},
   "source": [
    "---\n",
    "\n",
    "### Requirements of the Standard Split Test\n",
    "\n",
    "As with any scientific test, there are requirements for ensuring that the experimental design and results are valid. Below are described the requirements for constructing a _standard_ split test, though variations exist that attempt to get around one or more of these.\n",
    "\n",
    "---\n",
    "\n",
    "**SPLIT TEST REQUIREMENTS**\n",
    "\n",
    "1. **Randomized design:** users are randomly assigned to one of the arms of the test as they visit the site/app. \n",
    "- **Win criteria set in advance:** you must decide before running the test what the condition for accepting a change will be.\n",
    "- **One thing changed per test:** the control and experiemental conditions only vary on one change. Note that more than one change per arm is not statistically invalid, but makes results difficult or impossible to interperet.\n",
    "- **Split test is evaluated only once:** The test ends at a specific point – there is no \"peeking\" at the rates as the test runs.\n",
    "\n",
    "The final point is the most commonly violated and also the biggest pain point when working with other departments in your company. The most popular variations on the standard split test design try to address this issue. We will discuss this more in depth later.\n",
    "\n",
    "---\n",
    "\n",
    "**TWO COMMON SPLIT TEST MISCONCEPTIONS**\n",
    "\n",
    "1. **Split testing can only compare two versions.** This is not true, and multiple arm tests are often referred to as A/B/C, A/B/C/D, etc.\n",
    "2. **Split test arms must have equal fractions of users.** There is no statistical reason that your arms must have equal splits (other than requiring fewer data points).\n"
   ]
  },
  {
   "cell_type": "markdown",
   "metadata": {},
   "source": [
    "---\n",
    "\n",
    "## Analysis of Split Test Results\n",
    "\n",
    "The jargon for choosing the best version and applying it to all users is \"winnering\" an arm of the test. This process is the same as doing a hypothesis test such as a t-test to compare the two mean rates.\n",
    "\n",
    "We will load and analyze the results of a simple A/B test on click-through rates for a website in the dataset below:"
   ]
  },
  {
   "cell_type": "code",
   "execution_count": 3,
   "metadata": {
    "collapsed": false
   },
   "outputs": [],
   "source": [
    "abtest = pd.read_csv('./assets/datasets/CTR.csv')\n"
   ]
  },
  {
   "cell_type": "markdown",
   "metadata": {},
   "source": [
    "The data columns are:\n",
    "\n",
    "    clicks_converted: the number of clicks that ended up in a \"conversion\", which is the number of users who continued into the site beyond this landing page\n",
    "    clicks_left: the number of users who left the site after clicking into this landing page\n",
    "    test_variant: a 1/0 coded column indicating which of the two arms of the test this measurement was from.\n",
    "    \n",
    "Rows in this dataset are measurements taken at different times separately for each arm. There were 1000 total measurements made before the test was stopped, and the test is not evenly split as only 28.5% of users recieved variant 1 (the \"experimental\" arm).\n",
    "\n",
    "---\n",
    "\n",
    "### Aggregate and Plot Conversion Data\n",
    "\n",
    "Aggregate the number of clicks converted and clicks left by test variant, then plot the differences using a barplot."
   ]
  },
  {
   "cell_type": "code",
   "execution_count": 4,
   "metadata": {
    "collapsed": false
   },
   "outputs": [
    {
     "data": {
      "text/html": [
       "<div>\n",
       "<table border=\"1\" class=\"dataframe\">\n",
       "  <thead>\n",
       "    <tr style=\"text-align: right;\">\n",
       "      <th></th>\n",
       "      <th>clicks_converted</th>\n",
       "      <th>clicks_left</th>\n",
       "      <th>test_variant</th>\n",
       "    </tr>\n",
       "  </thead>\n",
       "  <tbody>\n",
       "    <tr>\n",
       "      <th>0</th>\n",
       "      <td>11</td>\n",
       "      <td>19</td>\n",
       "      <td>0</td>\n",
       "    </tr>\n",
       "    <tr>\n",
       "      <th>1</th>\n",
       "      <td>10</td>\n",
       "      <td>20</td>\n",
       "      <td>0</td>\n",
       "    </tr>\n",
       "  </tbody>\n",
       "</table>\n",
       "</div>"
      ],
      "text/plain": [
       "   clicks_converted  clicks_left  test_variant\n",
       "0                11           19             0\n",
       "1                10           20             0"
      ]
     },
     "execution_count": 4,
     "metadata": {},
     "output_type": "execute_result"
    }
   ],
   "source": [
    "abtest.head(2)"
   ]
  },
  {
   "cell_type": "code",
   "execution_count": 5,
   "metadata": {
    "collapsed": false
   },
   "outputs": [
    {
     "data": {
      "text/html": [
       "<div>\n",
       "<table border=\"1\" class=\"dataframe\">\n",
       "  <thead>\n",
       "    <tr style=\"text-align: right;\">\n",
       "      <th></th>\n",
       "      <th>test_variant</th>\n",
       "      <th>clicks_converted</th>\n",
       "      <th>clicks_left</th>\n",
       "    </tr>\n",
       "  </thead>\n",
       "  <tbody>\n",
       "    <tr>\n",
       "      <th>0</th>\n",
       "      <td>0</td>\n",
       "      <td>8615</td>\n",
       "      <td>14181</td>\n",
       "    </tr>\n",
       "    <tr>\n",
       "      <th>1</th>\n",
       "      <td>1</td>\n",
       "      <td>6197</td>\n",
       "      <td>5724</td>\n",
       "    </tr>\n",
       "  </tbody>\n",
       "</table>\n",
       "</div>"
      ],
      "text/plain": [
       "   test_variant  clicks_converted  clicks_left\n",
       "0             0              8615        14181\n",
       "1             1              6197         5724"
      ]
     },
     "execution_count": 5,
     "metadata": {},
     "output_type": "execute_result"
    }
   ],
   "source": [
    "ab_agg = abtest.groupby('test_variant').sum().reset_index()\n",
    "ab_agg"
   ]
  },
  {
   "cell_type": "code",
   "execution_count": 6,
   "metadata": {
    "collapsed": false
   },
   "outputs": [
    {
     "data": {
      "text/html": [
       "<div>\n",
       "<table border=\"1\" class=\"dataframe\">\n",
       "  <thead>\n",
       "    <tr style=\"text-align: right;\">\n",
       "      <th></th>\n",
       "      <th>test_variant</th>\n",
       "      <th>outcome</th>\n",
       "      <th>count</th>\n",
       "    </tr>\n",
       "  </thead>\n",
       "  <tbody>\n",
       "    <tr>\n",
       "      <th>0</th>\n",
       "      <td>0</td>\n",
       "      <td>clicks_converted</td>\n",
       "      <td>8615</td>\n",
       "    </tr>\n",
       "    <tr>\n",
       "      <th>1</th>\n",
       "      <td>1</td>\n",
       "      <td>clicks_converted</td>\n",
       "      <td>6197</td>\n",
       "    </tr>\n",
       "    <tr>\n",
       "      <th>2</th>\n",
       "      <td>0</td>\n",
       "      <td>clicks_left</td>\n",
       "      <td>14181</td>\n",
       "    </tr>\n",
       "    <tr>\n",
       "      <th>3</th>\n",
       "      <td>1</td>\n",
       "      <td>clicks_left</td>\n",
       "      <td>5724</td>\n",
       "    </tr>\n",
       "  </tbody>\n",
       "</table>\n",
       "</div>"
      ],
      "text/plain": [
       "   test_variant           outcome  count\n",
       "0             0  clicks_converted   8615\n",
       "1             1  clicks_converted   6197\n",
       "2             0       clicks_left  14181\n",
       "3             1       clicks_left   5724"
      ]
     },
     "execution_count": 6,
     "metadata": {},
     "output_type": "execute_result"
    }
   ],
   "source": [
    "ab_agg_long = pd.melt(ab_agg, id_vars=['test_variant'],\n",
    "                      var_name='outcome', value_name='count')\n",
    "ab_agg_long"
   ]
  },
  {
   "cell_type": "code",
   "execution_count": 7,
   "metadata": {
    "collapsed": false
   },
   "outputs": [
    {
     "data": {
      "text/plain": [
       "<matplotlib.axes._subplots.AxesSubplot at 0x11649de10>"
      ]
     },
     "execution_count": 7,
     "metadata": {},
     "output_type": "execute_result"
    },
    {
     "data": {
      "image/png": "[encoded data removed]",
      "text/plain": [
       "<matplotlib.figure.Figure at 0x104ed0450>"
      ]
     },
     "metadata": {
      "image/png": {
       "height": 273,
       "width": 399
      }
     },
     "output_type": "display_data"
    }
   ],
   "source": [
    "sns.barplot(x='outcome', y='count', data=ab_agg_long, hue='test_variant')"
   ]
  },
  {
   "cell_type": "markdown",
   "metadata": {},
   "source": [
    "---\n",
    "\n",
    "### Analyzing Results with the Chi-square Test\n",
    "\n",
    "It's pretty obvious from the above chart which of the two is achieving the higher click-through rate per user, but you always need to do a rigorous statistical test.\n",
    "\n",
    "A basic statistical method for evaluating this test is the **chi-square test of independence.** Essentially, the chi-square test is a procedure to determine if the observed distribution of categorical variables is independent or not. In the context here, it tells us the probability that our arms come from the same distribution. \n",
    "\n",
    "If the likelihood of dependence is low, then we can assume that the measured mean counts of arms (rates of conversion) are not the same, which is the null hypothesis.\n",
    "\n",
    "For more information see:\n",
    "\n",
    "http://www.ling.upenn.edu/~clight/chisquared.htm\n",
    "\n",
    "http://thestatsgeek.com/2013/07/22/ab-testing/\n",
    "\n",
    "\n",
    "#### Calculate the chi-square p-value below and describe what it means:\n",
    "\n",
    "You can use the `chi2_contingency()` function to calculate this on a contingency table matrix.\n",
    "\n",
    "http://docs.scipy.org/doc/scipy-0.16.0/reference/generated/scipy.stats.chi2_contingency.html\n"
   ]
  },
  {
   "cell_type": "code",
   "execution_count": 8,
   "metadata": {
    "collapsed": false
   },
   "outputs": [
    {
     "name": "stdout",
     "output_type": "stream",
     "text": [
      "[[ 8615 14181]\n",
      " [ 6197  5724]]\n"
     ]
    }
   ],
   "source": [
    "from scipy.stats import chi2_contingency\n",
    "\n",
    "contingency = ab_agg[['clicks_converted', 'clicks_left']].values\n",
    "print contingency"
   ]
  },
  {
   "cell_type": "code",
   "execution_count": 9,
   "metadata": {
    "collapsed": false
   },
   "outputs": [
    {
     "name": "stdout",
     "output_type": "stream",
     "text": [
      "643.938809137 4.64847157614e-142\n"
     ]
    }
   ],
   "source": [
    "chi_sq_stat, chi_sq_pvalue, _, _ = chi2_contingency(contingency)\n",
    "print chi_sq_stat, chi_sq_pvalue"
   ]
  },
  {
   "cell_type": "markdown",
   "metadata": {},
   "source": [
    "---\n",
    "\n",
    "### Analyzing Results with a T-test\n",
    "\n",
    "As you may recall, the **student's t-test** is a method for examining whether the mean of two distributions are different. Our null hypothesis is that the means are not different between arms, and likewise the alternative hypothesis is that they are.\n",
    "\n",
    "You can also use the similar z-test to calculate difference of means for split tests, and some do, but I prefer student's t-test as it can assume that the variances are not equal between distributions.\n",
    "\n",
    "#### Calculate the two-tailed t-test below\n",
    "\n",
    "You can use the `ttest_ind()` function from `scipy.stats` to do the calculation. \n",
    "\n",
    "http://docs.scipy.org/doc/scipy/reference/generated/scipy.stats.ttest_ind.html\n",
    "\n",
    "T-tests can be \"one-tailed\" or \"two-tailed\". If you've forgotten what these refer to look it up on Google! Explain why the two-tailed is more appropriate."
   ]
  },
  {
   "cell_type": "code",
   "execution_count": 10,
   "metadata": {
    "collapsed": false
   },
   "outputs": [
    {
     "data": {
      "text/html": [
       "<div>\n",
       "<table border=\"1\" class=\"dataframe\">\n",
       "  <thead>\n",
       "    <tr style=\"text-align: right;\">\n",
       "      <th></th>\n",
       "      <th>clicks_converted</th>\n",
       "      <th>clicks_left</th>\n",
       "      <th>test_variant</th>\n",
       "    </tr>\n",
       "  </thead>\n",
       "  <tbody>\n",
       "    <tr>\n",
       "      <th>0</th>\n",
       "      <td>11</td>\n",
       "      <td>19</td>\n",
       "      <td>0</td>\n",
       "    </tr>\n",
       "    <tr>\n",
       "      <th>1</th>\n",
       "      <td>10</td>\n",
       "      <td>20</td>\n",
       "      <td>0</td>\n",
       "    </tr>\n",
       "  </tbody>\n",
       "</table>\n",
       "</div>"
      ],
      "text/plain": [
       "   clicks_converted  clicks_left  test_variant\n",
       "0                11           19             0\n",
       "1                10           20             0"
      ]
     },
     "execution_count": 10,
     "metadata": {},
     "output_type": "execute_result"
    }
   ],
   "source": [
    "abtest.head(2)"
   ]
  },
  {
   "cell_type": "code",
   "execution_count": 11,
   "metadata": {
    "collapsed": true
   },
   "outputs": [],
   "source": [
    "abtest['convert_rate'] = abtest.clicks_converted / (abtest.clicks_converted + abtest.clicks_left)"
   ]
  },
  {
   "cell_type": "code",
   "execution_count": 12,
   "metadata": {
    "collapsed": false
   },
   "outputs": [
    {
     "data": {
      "text/html": [
       "<div>\n",
       "<table border=\"1\" class=\"dataframe\">\n",
       "  <thead>\n",
       "    <tr style=\"text-align: right;\">\n",
       "      <th></th>\n",
       "      <th>clicks_converted</th>\n",
       "      <th>clicks_left</th>\n",
       "      <th>test_variant</th>\n",
       "      <th>convert_rate</th>\n",
       "    </tr>\n",
       "  </thead>\n",
       "  <tbody>\n",
       "    <tr>\n",
       "      <th>0</th>\n",
       "      <td>11</td>\n",
       "      <td>19</td>\n",
       "      <td>0</td>\n",
       "      <td>0.366667</td>\n",
       "    </tr>\n",
       "    <tr>\n",
       "      <th>1</th>\n",
       "      <td>10</td>\n",
       "      <td>20</td>\n",
       "      <td>0</td>\n",
       "      <td>0.333333</td>\n",
       "    </tr>\n",
       "  </tbody>\n",
       "</table>\n",
       "</div>"
      ],
      "text/plain": [
       "   clicks_converted  clicks_left  test_variant  convert_rate\n",
       "0                11           19             0      0.366667\n",
       "1                10           20             0      0.333333"
      ]
     },
     "execution_count": 12,
     "metadata": {},
     "output_type": "execute_result"
    }
   ],
   "source": [
    "abtest.head(2)"
   ]
  },
  {
   "cell_type": "code",
   "execution_count": 13,
   "metadata": {
    "collapsed": true
   },
   "outputs": [],
   "source": [
    "arm_A_rates = abtest[abtest.test_variant == 0].convert_rate.values\n",
    "arm_B_rates = abtest[abtest.test_variant == 1].convert_rate.values"
   ]
  },
  {
   "cell_type": "code",
   "execution_count": 14,
   "metadata": {
    "collapsed": true
   },
   "outputs": [],
   "source": [
    "from scipy.stats import ttest_ind"
   ]
  },
  {
   "cell_type": "code",
   "execution_count": 15,
   "metadata": {
    "collapsed": false
   },
   "outputs": [
    {
     "name": "stdout",
     "output_type": "stream",
     "text": [
      "-26.6625466199 3.83422923362e-103\n"
     ]
    }
   ],
   "source": [
    "tval, t_pval = ttest_ind(arm_A_rates, arm_B_rates, equal_var=False)\n",
    "print tval, t_pval"
   ]
  },
  {
   "cell_type": "code",
   "execution_count": null,
   "metadata": {
    "collapsed": true
   },
   "outputs": [],
   "source": []
  },
  {
   "cell_type": "code",
   "execution_count": null,
   "metadata": {
    "collapsed": true
   },
   "outputs": [],
   "source": []
  },
  {
   "cell_type": "code",
   "execution_count": null,
   "metadata": {
    "collapsed": true
   },
   "outputs": [],
   "source": []
  },
  {
   "cell_type": "markdown",
   "metadata": {},
   "source": [
    "---\n",
    "\n",
    "## LAB: The danger of \"peeking\" – examining the results of your split test over time.\n",
    "\n",
    "Analyzing the results of a split test multiple times over time is one of the most common and dangerous mistakes that statistically uninformed analysts make. It is actually pretty shocking how much this is done, though people are much better about it now. As a data scientist it is essential that you enforce no \"peeking\" multiple times at the state of the split test results.\n",
    "\n",
    "To look at why this is the case, we will look at peeking vs not peeking on fake split tests below.\n",
    "\n",
    "---\n",
    "\n",
    "### Conversion function\n",
    "\n",
    "You are provided with a function `split_test_results(user_count, arm)` that will accept a number of \"users\" and an arm (\"A\" or \"B\"). The function returns the number of conversions and the number that left in a list."
   ]
  },
  {
   "cell_type": "code",
   "execution_count": 27,
   "metadata": {
    "collapsed": true
   },
   "outputs": [],
   "source": [
    "from numpy.random import binomial\n",
    "\n",
    "def split_test_results(user_count, arm='A'):\n",
    "    \n",
    "    if arm == 'A':\n",
    "        a = binomial(1, .08, size=user_count)\n",
    "        return [np.sum(a), user_count - np.sum(a)]\n",
    "    \n",
    "    if arm == 'B':\n",
    "        b = binomial(1, .11, size=user_count)\n",
    "        return [np.sum(b), user_count - np.sum(b)]\n",
    "    "
   ]
  },
  {
   "cell_type": "markdown",
   "metadata": {},
   "source": [
    "---\n",
    "\n",
    "### Create 50 split test results\n",
    "\n",
    "You will run 50 different split tests that each run for 75 \"days\" (don't worry about datetime stuff here - just use each row as a day. Datetime manipulation is not the point here.)\n",
    "\n",
    "The DataFrame for each test should look something like this:\n",
    "\n",
    "| arm_a_conversions | arm_a_left | arm_b_conversions | arm_b_left | day | split_test_num |\n",
    "| :---: | :---: | :---: | :---: | :---: | :---: |\n",
    "| 3 | 7 | 9 | 4 | 1 | 1 |\n",
    "| 1 | 8 | 10 | 3 | 2 | 1 |\n",
    "| 4 | 5 | 2 | 11 | 3 | 1 |\n",
    "\n",
    "Make **arm A take 28 users per day**, and **arm B take 16 users per day**. Again, there should be 75 days per split test and 50 split tests, so the shape of the dataframe will be (3750, 6).\n"
   ]
  },
  {
   "cell_type": "code",
   "execution_count": 28,
   "metadata": {
    "collapsed": false
   },
   "outputs": [
    {
     "name": "stdout",
     "output_type": "stream",
     "text": [
      "[[1, 27], [3, 25], [1, 27]]\n"
     ]
    }
   ],
   "source": [
    "a = [split_test_results(28, arm='A') for i in range(3)]\n",
    "print a"
   ]
  },
  {
   "cell_type": "code",
   "execution_count": 29,
   "metadata": {
    "collapsed": false
   },
   "outputs": [
    {
     "name": "stdout",
     "output_type": "stream",
     "text": [
      "(3750, 6)\n"
     ]
    },
    {
     "data": {
      "text/html": [
       "<div>\n",
       "<table border=\"1\" class=\"dataframe\">\n",
       "  <thead>\n",
       "    <tr style=\"text-align: right;\">\n",
       "      <th></th>\n",
       "      <th>arm_a_conversions</th>\n",
       "      <th>arm_a_left</th>\n",
       "      <th>arm_b_conversions</th>\n",
       "      <th>arm_b_left</th>\n",
       "      <th>day</th>\n",
       "      <th>split_test_num</th>\n",
       "    </tr>\n",
       "  </thead>\n",
       "  <tbody>\n",
       "    <tr>\n",
       "      <th>0</th>\n",
       "      <td>1</td>\n",
       "      <td>27</td>\n",
       "      <td>3</td>\n",
       "      <td>13</td>\n",
       "      <td>1</td>\n",
       "      <td>1</td>\n",
       "    </tr>\n",
       "    <tr>\n",
       "      <th>1</th>\n",
       "      <td>3</td>\n",
       "      <td>25</td>\n",
       "      <td>4</td>\n",
       "      <td>12</td>\n",
       "      <td>2</td>\n",
       "      <td>1</td>\n",
       "    </tr>\n",
       "    <tr>\n",
       "      <th>2</th>\n",
       "      <td>1</td>\n",
       "      <td>27</td>\n",
       "      <td>4</td>\n",
       "      <td>12</td>\n",
       "      <td>3</td>\n",
       "      <td>1</td>\n",
       "    </tr>\n",
       "    <tr>\n",
       "      <th>3</th>\n",
       "      <td>2</td>\n",
       "      <td>26</td>\n",
       "      <td>1</td>\n",
       "      <td>15</td>\n",
       "      <td>4</td>\n",
       "      <td>1</td>\n",
       "    </tr>\n",
       "    <tr>\n",
       "      <th>4</th>\n",
       "      <td>2</td>\n",
       "      <td>26</td>\n",
       "      <td>0</td>\n",
       "      <td>16</td>\n",
       "      <td>5</td>\n",
       "      <td>1</td>\n",
       "    </tr>\n",
       "  </tbody>\n",
       "</table>\n",
       "</div>"
      ],
      "text/plain": [
       "   arm_a_conversions  arm_a_left  arm_b_conversions  arm_b_left  day  \\\n",
       "0                  1          27                  3          13    1   \n",
       "1                  3          25                  4          12    2   \n",
       "2                  1          27                  4          12    3   \n",
       "3                  2          26                  1          15    4   \n",
       "4                  2          26                  0          16    5   \n",
       "\n",
       "   split_test_num  \n",
       "0               1  \n",
       "1               1  \n",
       "2               1  \n",
       "3               1  \n",
       "4               1  "
      ]
     },
     "execution_count": 29,
     "metadata": {},
     "output_type": "execute_result"
    }
   ],
   "source": [
    "split_tests = []\n",
    "\n",
    "for st in range(1, 51):\n",
    "    a_days = [split_test_results(28, arm='A') for i in range(75)]\n",
    "    b_days = [split_test_results(16, arm='B') for i in range(75)]\n",
    "    \n",
    "    current_st = pd.DataFrame({\n",
    "            'arm_a_conversions':[x[0] for x in a_days],\n",
    "            'arm_a_left':[x[1] for x in a_days],\n",
    "            'arm_b_conversions':[x[0] for x in b_days],\n",
    "            'arm_b_left':[x[1] for x in b_days],\n",
    "            'day':np.arange(1,76),\n",
    "            'split_test_num':[st for i in range(75)]\n",
    "        })\n",
    "    \n",
    "    split_tests.append(current_st)\n",
    "    \n",
    "split_tests = pd.concat(split_tests, axis=0)\n",
    "\n",
    "print split_tests.shape\n",
    "split_tests.head()\n",
    "\n"
   ]
  },
  {
   "cell_type": "markdown",
   "metadata": {},
   "source": [
    "---\n",
    "\n",
    "### Analyze each split test and declare winner on the 75th day\n",
    "\n",
    "For each of the 50 split tests, analyze the results and determine the winning arm.\n",
    "\n",
    "Your threshold criterion for choosing arm B over arm A should be **alpha = 0.05.** In other words, the mean rate for arm B, the \"experimental\" arm, would need to be larger with a significance of p < 0.05 to be accepted as the new version over arm A, the \"control\" arm.\n"
   ]
  },
  {
   "cell_type": "code",
   "execution_count": 30,
   "metadata": {
    "collapsed": false
   },
   "outputs": [],
   "source": [
    "def chi2_for_75d(st):\n",
    "    \n",
    "    contingency = []\n",
    "    \n",
    "    a_conv = float(st.arm_a_conversions.sum())\n",
    "    b_conv = float(st.arm_b_conversions.sum())\n",
    "    \n",
    "    a_left = float(st.arm_a_left.sum())\n",
    "    b_left = float(st.arm_b_left.sum())\n",
    "    \n",
    "    contingency.append([a_conv, a_left])\n",
    "    contingency.append([b_conv, b_left])\n",
    "    contingency = np.array(contingency)\n",
    "    \n",
    "    chi2, pval, _, _ = chi2_contingency(contingency)\n",
    "    \n",
    "    a_mean_rate = a_conv / (a_conv + a_left)\n",
    "    b_mean_rate = b_conv / (b_conv + b_left)\n",
    "    \n",
    "    if (pval < 0.05) and (b_mean_rate > a_mean_rate):\n",
    "        winner = 'B'\n",
    "    else:\n",
    "        winner = 'A'\n",
    "        \n",
    "    return pd.DataFrame({'winner':[winner], 'a_rate':[a_mean_rate],\n",
    "                         'b_rate':[b_mean_rate], 'pval':[pval]})\n",
    "    \n",
    "\n",
    "chi2_75d = split_tests.groupby('split_test_num').apply(chi2_for_75d).reset_index(drop=True)"
   ]
  },
  {
   "cell_type": "code",
   "execution_count": 31,
   "metadata": {
    "collapsed": false
   },
   "outputs": [
    {
     "data": {
      "text/html": [
       "<div>\n",
       "<table border=\"1\" class=\"dataframe\">\n",
       "  <thead>\n",
       "    <tr style=\"text-align: right;\">\n",
       "      <th></th>\n",
       "      <th>a_rate</th>\n",
       "      <th>b_rate</th>\n",
       "      <th>pval</th>\n",
       "      <th>winner</th>\n",
       "    </tr>\n",
       "  </thead>\n",
       "  <tbody>\n",
       "    <tr>\n",
       "      <th>0</th>\n",
       "      <td>0.081429</td>\n",
       "      <td>0.117500</td>\n",
       "      <td>0.000823</td>\n",
       "      <td>B</td>\n",
       "    </tr>\n",
       "    <tr>\n",
       "      <th>1</th>\n",
       "      <td>0.086190</td>\n",
       "      <td>0.110833</td>\n",
       "      <td>0.023875</td>\n",
       "      <td>B</td>\n",
       "    </tr>\n",
       "    <tr>\n",
       "      <th>2</th>\n",
       "      <td>0.079524</td>\n",
       "      <td>0.096667</td>\n",
       "      <td>0.103690</td>\n",
       "      <td>A</td>\n",
       "    </tr>\n",
       "    <tr>\n",
       "      <th>3</th>\n",
       "      <td>0.077143</td>\n",
       "      <td>0.125000</td>\n",
       "      <td>0.000008</td>\n",
       "      <td>B</td>\n",
       "    </tr>\n",
       "    <tr>\n",
       "      <th>4</th>\n",
       "      <td>0.084762</td>\n",
       "      <td>0.106667</td>\n",
       "      <td>0.042913</td>\n",
       "      <td>B</td>\n",
       "    </tr>\n",
       "  </tbody>\n",
       "</table>\n",
       "</div>"
      ],
      "text/plain": [
       "     a_rate    b_rate      pval winner\n",
       "0  0.081429  0.117500  0.000823      B\n",
       "1  0.086190  0.110833  0.023875      B\n",
       "2  0.079524  0.096667  0.103690      A\n",
       "3  0.077143  0.125000  0.000008      B\n",
       "4  0.084762  0.106667  0.042913      B"
      ]
     },
     "execution_count": 31,
     "metadata": {},
     "output_type": "execute_result"
    }
   ],
   "source": [
    "chi2_75d.head()"
   ]
  },
  {
   "cell_type": "code",
   "execution_count": 32,
   "metadata": {
    "collapsed": false
   },
   "outputs": [
    {
     "name": "stdout",
     "output_type": "stream",
     "text": [
      "14\n",
      "36\n"
     ]
    }
   ],
   "source": [
    "\n",
    "print chi2_75d[chi2_75d.winner == 'A'].shape[0]\n",
    "print chi2_75d[chi2_75d.winner == 'B'].shape[0]"
   ]
  },
  {
   "cell_type": "markdown",
   "metadata": {},
   "source": [
    "---\n",
    "\n",
    "### Select winner while \"peeking\" at the tests.\n",
    "\n",
    "\"Peeking\" at split tests is essentially watching the test as it runs, and whatever day it hits the winning condition you declare the winning arm.\n",
    "\n",
    "You will use the same split test data above, to compare the results of peeking vs. not. Again, your threshold is alpha = 0.05, and arm B is declared the winner if the p-value is less than alpha and the mean rate of B is greater than the mean rate of A. If the p-value goes below the alpha threshold and the mean rate of A is higher, A is winnered.\n",
    "\n",
    "Create a DataFrame in the following format:\n",
    "\n",
    "| winning_arm | a_mean_rate | b_mean_rate | day_won | split_test_num |\n",
    "| :---: | :---: | :---: | :---: | :---: |\n",
    "| A | 0.12 | 0.04 | 30 | 1 |\n",
    "| B | 0.03 | 0.11 | 45 | 1 |"
   ]
  },
  {
   "cell_type": "code",
   "execution_count": 35,
   "metadata": {
    "collapsed": true
   },
   "outputs": [],
   "source": [
    "# np.cumsum calculates rolling sum\n",
    "def calc_cumsum(st):\n",
    "    \n",
    "    c = pd.DataFrame({\n",
    "            'a_conv_cs':np.cumsum(st.arm_a_conversions),\n",
    "            'a_left_cs':np.cumsum(st.arm_a_left),\n",
    "            'b_conv_cs':np.cumsum(st.arm_b_conversions),\n",
    "            'b_left_cs':np.cumsum(st.arm_b_left),\n",
    "            'split_test_num':st.split_test_num,\n",
    "            'day':st.day\n",
    "        })\n",
    "    \n",
    "    return c\n",
    "\n",
    "\n",
    "cumulative = split_tests.groupby('split_test_num').apply(calc_cumsum).reset_index(drop=True)"
   ]
  },
  {
   "cell_type": "code",
   "execution_count": 36,
   "metadata": {
    "collapsed": false
   },
   "outputs": [
    {
     "data": {
      "text/html": [
       "<div>\n",
       "<table border=\"1\" class=\"dataframe\">\n",
       "  <thead>\n",
       "    <tr style=\"text-align: right;\">\n",
       "      <th></th>\n",
       "      <th>a_conv_cs</th>\n",
       "      <th>a_left_cs</th>\n",
       "      <th>b_conv_cs</th>\n",
       "      <th>b_left_cs</th>\n",
       "      <th>day</th>\n",
       "      <th>split_test_num</th>\n",
       "    </tr>\n",
       "  </thead>\n",
       "  <tbody>\n",
       "    <tr>\n",
       "      <th>0</th>\n",
       "      <td>1</td>\n",
       "      <td>27</td>\n",
       "      <td>3</td>\n",
       "      <td>13</td>\n",
       "      <td>1</td>\n",
       "      <td>1</td>\n",
       "    </tr>\n",
       "    <tr>\n",
       "      <th>1</th>\n",
       "      <td>4</td>\n",
       "      <td>52</td>\n",
       "      <td>7</td>\n",
       "      <td>25</td>\n",
       "      <td>2</td>\n",
       "      <td>1</td>\n",
       "    </tr>\n",
       "    <tr>\n",
       "      <th>2</th>\n",
       "      <td>5</td>\n",
       "      <td>79</td>\n",
       "      <td>11</td>\n",
       "      <td>37</td>\n",
       "      <td>3</td>\n",
       "      <td>1</td>\n",
       "    </tr>\n",
       "    <tr>\n",
       "      <th>3</th>\n",
       "      <td>7</td>\n",
       "      <td>105</td>\n",
       "      <td>12</td>\n",
       "      <td>52</td>\n",
       "      <td>4</td>\n",
       "      <td>1</td>\n",
       "    </tr>\n",
       "    <tr>\n",
       "      <th>4</th>\n",
       "      <td>9</td>\n",
       "      <td>131</td>\n",
       "      <td>12</td>\n",
       "      <td>68</td>\n",
       "      <td>5</td>\n",
       "      <td>1</td>\n",
       "    </tr>\n",
       "  </tbody>\n",
       "</table>\n",
       "</div>"
      ],
      "text/plain": [
       "   a_conv_cs  a_left_cs  b_conv_cs  b_left_cs  day  split_test_num\n",
       "0          1         27          3         13    1               1\n",
       "1          4         52          7         25    2               1\n",
       "2          5         79         11         37    3               1\n",
       "3          7        105         12         52    4               1\n",
       "4          9        131         12         68    5               1"
      ]
     },
     "execution_count": 36,
     "metadata": {},
     "output_type": "execute_result"
    }
   ],
   "source": [
    "cumulative.head()"
   ]
  },
  {
   "cell_type": "code",
   "execution_count": 45,
   "metadata": {
    "collapsed": false
   },
   "outputs": [],
   "source": [
    "\n",
    "def calc_daily_chi2(st):\n",
    "    \n",
    "    a_conv = st.a_conv_cs.values[0]\n",
    "    a_left = st.a_left_cs.values[0]\n",
    "    b_conv = st.b_conv_cs.values[0]\n",
    "    b_left = st.b_left_cs.values[0]\n",
    "    \n",
    "    contingency = np.array([[a_conv, a_left],\n",
    "                            [b_conv, b_left]])\n",
    "    \n",
    "    a_rate = a_conv / float(a_conv + a_left)\n",
    "    b_rate = b_conv / float(b_conv + b_left)\n",
    "    \n",
    "    if (a_rate > 0) and (b_rate > 0):\n",
    "        chi2, pval, _, _ = chi2_contingency(contingency)\n",
    "    else:\n",
    "        pval = 1.\n",
    "    \n",
    "    if (b_rate > a_rate) and (pval < 0.05):\n",
    "        winner = 'B'\n",
    "    else:\n",
    "        winner = 'A'\n",
    "        \n",
    "    return pd.DataFrame({\n",
    "            'winner':[winner],\n",
    "            'pval':[pval],\n",
    "            'day':[st.day.values[0]],\n",
    "            'split_test_num':[st.split_test_num.values[0]]\n",
    "        })\n",
    "    \n",
    "\n",
    "peeking = cumulative.groupby(['split_test_num','day']).apply(calc_daily_chi2).reset_index(drop=True)"
   ]
  },
  {
   "cell_type": "code",
   "execution_count": 46,
   "metadata": {
    "collapsed": false
   },
   "outputs": [
    {
     "data": {
      "text/html": [
       "<div>\n",
       "<table border=\"1\" class=\"dataframe\">\n",
       "  <thead>\n",
       "    <tr style=\"text-align: right;\">\n",
       "      <th></th>\n",
       "      <th>day</th>\n",
       "      <th>pval</th>\n",
       "      <th>split_test_num</th>\n",
       "      <th>winner</th>\n",
       "    </tr>\n",
       "  </thead>\n",
       "  <tbody>\n",
       "    <tr>\n",
       "      <th>0</th>\n",
       "      <td>1</td>\n",
       "      <td>0.254417</td>\n",
       "      <td>1</td>\n",
       "      <td>A</td>\n",
       "    </tr>\n",
       "    <tr>\n",
       "      <th>1</th>\n",
       "      <td>2</td>\n",
       "      <td>0.093905</td>\n",
       "      <td>1</td>\n",
       "      <td>A</td>\n",
       "    </tr>\n",
       "    <tr>\n",
       "      <th>2</th>\n",
       "      <td>3</td>\n",
       "      <td>0.009444</td>\n",
       "      <td>1</td>\n",
       "      <td>B</td>\n",
       "    </tr>\n",
       "    <tr>\n",
       "      <th>3</th>\n",
       "      <td>4</td>\n",
       "      <td>0.020441</td>\n",
       "      <td>1</td>\n",
       "      <td>B</td>\n",
       "    </tr>\n",
       "    <tr>\n",
       "      <th>4</th>\n",
       "      <td>5</td>\n",
       "      <td>0.065354</td>\n",
       "      <td>1</td>\n",
       "      <td>A</td>\n",
       "    </tr>\n",
       "  </tbody>\n",
       "</table>\n",
       "</div>"
      ],
      "text/plain": [
       "   day      pval  split_test_num winner\n",
       "0    1  0.254417               1      A\n",
       "1    2  0.093905               1      A\n",
       "2    3  0.009444               1      B\n",
       "3    4  0.020441               1      B\n",
       "4    5  0.065354               1      A"
      ]
     },
     "execution_count": 46,
     "metadata": {},
     "output_type": "execute_result"
    }
   ],
   "source": [
    "peeking.head()"
   ]
  },
  {
   "cell_type": "code",
   "execution_count": 47,
   "metadata": {
    "collapsed": false
   },
   "outputs": [],
   "source": [
    "significant = peeking[peeking.pval < 0.05]"
   ]
  },
  {
   "cell_type": "code",
   "execution_count": 48,
   "metadata": {
    "collapsed": false
   },
   "outputs": [
    {
     "name": "stderr",
     "output_type": "stream",
     "text": [
      "/anaconda/lib/python2.7/site-packages/ipykernel/__main__.py:1: SettingWithCopyWarning: \n",
      "A value is trying to be set on a copy of a slice from a DataFrame\n",
      "\n",
      "See the caveats in the documentation: http://pandas.pydata.org/pandas-docs/stable/indexing.html#indexing-view-versus-copy\n",
      "  if __name__ == '__main__':\n"
     ]
    }
   ],
   "source": [
    "significant.sort_values(['split_test_num','day'], inplace=True)"
   ]
  },
  {
   "cell_type": "code",
   "execution_count": 49,
   "metadata": {
    "collapsed": false
   },
   "outputs": [
    {
     "data": {
      "text/plain": [
       "45"
      ]
     },
     "execution_count": 49,
     "metadata": {},
     "output_type": "execute_result"
    }
   ],
   "source": [
    "len(significant.split_test_num.unique())"
   ]
  },
  {
   "cell_type": "code",
   "execution_count": 52,
   "metadata": {
    "collapsed": true
   },
   "outputs": [],
   "source": [
    "first_sig = significant.groupby('split_test_num').apply(lambda st: st.iloc[0,:]).reset_index(drop=True)"
   ]
  },
  {
   "cell_type": "code",
   "execution_count": 53,
   "metadata": {
    "collapsed": false
   },
   "outputs": [
    {
     "data": {
      "text/html": [
       "<div>\n",
       "<table border=\"1\" class=\"dataframe\">\n",
       "  <thead>\n",
       "    <tr style=\"text-align: right;\">\n",
       "      <th></th>\n",
       "      <th>day</th>\n",
       "      <th>pval</th>\n",
       "      <th>split_test_num</th>\n",
       "      <th>winner</th>\n",
       "    </tr>\n",
       "  </thead>\n",
       "  <tbody>\n",
       "    <tr>\n",
       "      <th>0</th>\n",
       "      <td>3</td>\n",
       "      <td>0.009444</td>\n",
       "      <td>1</td>\n",
       "      <td>B</td>\n",
       "    </tr>\n",
       "    <tr>\n",
       "      <th>1</th>\n",
       "      <td>36</td>\n",
       "      <td>0.046776</td>\n",
       "      <td>2</td>\n",
       "      <td>B</td>\n",
       "    </tr>\n",
       "    <tr>\n",
       "      <th>2</th>\n",
       "      <td>19</td>\n",
       "      <td>0.042780</td>\n",
       "      <td>3</td>\n",
       "      <td>B</td>\n",
       "    </tr>\n",
       "    <tr>\n",
       "      <th>3</th>\n",
       "      <td>16</td>\n",
       "      <td>0.037205</td>\n",
       "      <td>4</td>\n",
       "      <td>B</td>\n",
       "    </tr>\n",
       "    <tr>\n",
       "      <th>4</th>\n",
       "      <td>72</td>\n",
       "      <td>0.039170</td>\n",
       "      <td>5</td>\n",
       "      <td>B</td>\n",
       "    </tr>\n",
       "  </tbody>\n",
       "</table>\n",
       "</div>"
      ],
      "text/plain": [
       "   day      pval  split_test_num winner\n",
       "0    3  0.009444               1      B\n",
       "1   36  0.046776               2      B\n",
       "2   19  0.042780               3      B\n",
       "3   16  0.037205               4      B\n",
       "4   72  0.039170               5      B"
      ]
     },
     "execution_count": 53,
     "metadata": {},
     "output_type": "execute_result"
    }
   ],
   "source": [
    "first_sig.head()"
   ]
  },
  {
   "cell_type": "code",
   "execution_count": 55,
   "metadata": {
    "collapsed": false
   },
   "outputs": [
    {
     "name": "stdout",
     "output_type": "stream",
     "text": [
      "Day 75 results:\n",
      "14\n",
      "36\n",
      "\n",
      "Peeking results:\n",
      "5\n",
      "45\n"
     ]
    }
   ],
   "source": [
    "print 'Day 75 results:'\n",
    "print chi2_75d[chi2_75d.winner == 'A'].shape[0]\n",
    "print chi2_75d[chi2_75d.winner == 'B'].shape[0]\n",
    "\n",
    "print '\\nPeeking results:'\n",
    "print first_sig[first_sig.winner == 'A'].shape[0]+5\n",
    "print first_sig[first_sig.winner == 'B'].shape[0]\n",
    "\n"
   ]
  },
  {
   "cell_type": "code",
   "execution_count": null,
   "metadata": {
    "collapsed": true
   },
   "outputs": [],
   "source": []
  }
 ],
 "metadata": {
  "kernelspec": {
   "display_name": "Python 2",
   "language": "python",
   "name": "python2"
  },
  "language_info": {
   "codemirror_mode": {
    "name": "ipython",
    "version": 2
   },
   "file_extension": ".py",
   "mimetype": "text/x-python",
   "name": "python",
   "nbconvert_exporter": "python",
   "pygments_lexer": "ipython2",
   "version": "2.7.11"
  }
 },
 "nbformat": 4,
 "nbformat_minor": 0
}
