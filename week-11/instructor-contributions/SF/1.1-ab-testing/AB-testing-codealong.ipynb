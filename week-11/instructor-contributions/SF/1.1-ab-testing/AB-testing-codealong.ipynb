{
 "cells": [
  {
   "cell_type": "markdown",
   "metadata": {},
   "source": [
    "<img src=\"https://ga-dash.s3.amazonaws.com/production/assets/logo-9f88ae6c9c3871690e33280fcf557f33.png\" style=\"float: left; margin: 15px\">\n",
    "\n",
    "# Introduction to A/B Testing\n",
    "\n",
    "Week 11 | Lesson 1.1\n",
    "\n",
    "---\n",
    "\n",
    "A/B  (A/B/C/etc.) split testing is a popular and ubiquitous technique for improving products in industry (particular the tech industry).\n",
    "\n",
    "The main topics of this lecture are the design and the ways of \"winnering\" a split test.\n",
    "\n",
    "---"
   ]
  },
  {
   "cell_type": "code",
   "execution_count": 1,
   "metadata": {
    "collapsed": true
   },
   "outputs": [],
   "source": [
    "import pandas as pd\n",
    "import numpy as np\n",
    "import matplotlib.pyplot as plt\n",
    "import seaborn as sns\n",
    "import datetime as dt\n",
    "#import prettyplotlib as ppl\n",
    "\n",
    "sns.set_style('whitegrid')\n",
    "\n",
    "%matplotlib inline\n",
    "%config InlineBackend.figure_format = 'retina'\n",
    "\n",
    "from ipywidgets import interact\n",
    "import ipywidgets as widgets\n",
    "from IPython.display import Image\n"
   ]
  },
  {
   "cell_type": "markdown",
   "metadata": {},
   "source": [
    "---\n",
    "\n",
    "## A/B Test Design\n",
    "\n",
    "An example of an A/B test might be:\n",
    "\n",
    ">Google wants to test if changing the size of the information card on the right side of the search results page will result in more people clicking on links inside of it. They construct two versions of their search results page, one with the original, \"control\" page where the box is 300px wide, and a new \"experimental\" page where the box is 301px wide.\n",
    "        \n",
    ">For one day, they funnel 90% of searchers to the control page and 10% to the experimental page. At the end of the day, they check the click rates for each and determine a winner.\n",
    "\n",
    "\n",
    "Good A/B test design applies scientific standards borrowed from experimental design in science. As is described above, A/B tests are really just experiments and hypothesis testing with a different name and context.\n"
   ]
  },
  {
   "cell_type": "code",
   "execution_count": 2,
   "metadata": {
    "collapsed": false
   },
   "outputs": [
    {
     "data": {
      "image/png": "[encoded data removed]",
      "text/plain": [
       "<IPython.core.display.Image object>"
      ]
     },
     "execution_count": 2,
     "metadata": {
      "image/png": {
       "width": 900
      }
     },
     "output_type": "execute_result"
    }
   ],
   "source": [
    "Image(filename='./assets/images/ab_test1.png', width=900) "
   ]
  },
  {
   "cell_type": "markdown",
   "metadata": {},
   "source": [
    "---\n",
    "\n",
    "## A/B Testing Case Studies\n",
    "\n",
    "In groups read about A/B testing case studies, discuss, and then present to the class on what the findings and outcome of the case study was.\n",
    "\n",
    "\n",
    "#### Case study 1: How Obama raised 60 million dollars\n",
    "\n",
    "https://blog.optimizely.com/2010/11/29/how-obama-raised-60-million-by-running-a-simple-experiment/\n",
    "\n",
    "#### Case study 2: How AMD increased social sharing by 3600%\n",
    "\n",
    "https://vwo.com/blog/amd-3600-social-sharing-increase/\n",
    "\n",
    "#### Case study 3: Failed A/B tests increase conversion\n",
    "\n",
    "http://unbounce.com/a-b-testing/failed-ab-test-results/\n",
    "\n",
    "#### Case study 4: When good design is bad for business\n",
    "\n",
    "https://vwo.com/blog/good-design-bad-conversion-rate/\n",
    "\n"
   ]
  },
  {
   "cell_type": "markdown",
   "metadata": {},
   "source": [
    "---\n",
    "\n",
    "### Setup of a Split Test\n",
    "\n",
    "Companies running as split test, and particularly the data scientists responsible for the construction and analysis of the test, should consider in detail the value, purpose, and setup of the test before beginning any _technical_ work. Four essential considerations before beginning a test are:\n",
    "\n",
    "**1. WHAT ELEMENTS WILL BE CHANGED IN THE PRODUCT?**\n",
    "\n",
    "Data scientist typically work closely with Product or Project Managers (PMs). You will often have limited say in what elements are changed for a test, but this does not mean you should avoid \"weighing in\". In fact, it is essential as a data scientist to clearly communicate your opinion of the test since you are the most statistically savvy. At this stage in the process, ensuring the smallest/most limited changes are made will prevent false correlations in the data and have the most meaningful results.\n",
    "\n",
    "**2. WHO WILL BE PART OF THE TESTING GROUPS (ARMS) AND BY HOW MUCH?**\n",
    "\n",
    "Will the test split incoming traffic 50/50 between variants? Should you serve the variant under test to a smaller group? Will the test split change? A common and safe practice is to begin by only showing the new variant(s) to a very small proportion of users to ensure there is nothing very wrong with the change, then performing the actual split test on a larger proportion of users.\n",
    "\n",
    "**3. HOW LONG WILL THE TEST RUN?**\n",
    "\n",
    "This is a very important question to ask. If the test doesn't run long enough, your data won't be useful. If it runs too long, that can impact business needs. _In the standard split test procedure, you cannot check the results multiple times!_ We will examine and explain why in a later section.\n",
    "\n",
    "**4. IS THE THE TEST NECESSARY? WHY?**\n",
    "\n",
    "A/B testing is a gamble, and potentially an expensive one. If the business result of the test is less valuable than the possible negative effects on churn or conversion rate, then it is worth re-evaluating your variants and design."
   ]
  },
  {
   "cell_type": "markdown",
   "metadata": {},
   "source": [
    "---\n",
    "\n",
    "### Requirements of the Standard Split Test\n",
    "\n",
    "As with any scientific test, there are requirements for ensuring that the experimental design and results are valid. Below are described the requirements for constructing a _standard_ split test, though variations exist that attempt to get around one or more of these.\n",
    "\n",
    "---\n",
    "\n",
    "**SPLIT TEST REQUIREMENTS**\n",
    "\n",
    "1. **Randomized design:** users are randomly assigned to one of the arms of the test as they visit the site/app. \n",
    "- **Win criteria set in advance:** you must decide before running the test what the condition for accepting a change will be.\n",
    "- **One thing changed per test:** the control and experiemental conditions only vary on one change. Note that more than one change per arm is not statistically invalid, but makes results difficult or impossible to interperet.\n",
    "- **Split test is evaluated only once:** The test ends at a specific point – there is no \"peeking\" at the rates as the test runs.\n",
    "\n",
    "The final point is the most commonly violated and also the biggest pain point when working with other departments in your company. The most popular variations on the standard split test design try to address this issue. We will discuss this more in depth later.\n",
    "\n",
    "---\n",
    "\n",
    "**TWO COMMON SPLIT TEST MISCONCEPTIONS**\n",
    "\n",
    "1. **Split testing can only compare two versions.** This is not true, and multiple arm tests are often referred to as A/B/C, A/B/C/D, etc.\n",
    "2. **Split test arms must have equal fractions of users.** There is no statistical reason that your arms must have equal splits (other than requiring fewer data points).\n"
   ]
  },
  {
   "cell_type": "markdown",
   "metadata": {},
   "source": [
    "---\n",
    "\n",
    "## Analysis of Split Test Results\n",
    "\n",
    "The jargon for choosing the best version and applying it to all users is \"winnering\" an arm of the test. This process is the same as doing a hypothesis test such as a t-test to compare the two mean rates.\n",
    "\n",
    "We will load and analyze the results of a simple A/B test on click-through rates for a website in the dataset below:"
   ]
  },
  {
   "cell_type": "code",
   "execution_count": 3,
   "metadata": {
    "collapsed": false
   },
   "outputs": [],
   "source": [
    "abtest = pd.read_csv('./assets/datasets/CTR.csv')\n"
   ]
  },
  {
   "cell_type": "markdown",
   "metadata": {},
   "source": [
    "The data columns are:\n",
    "\n",
    "    clicks_converted: the number of clicks that ended up in a \"conversion\", which is the number of users who continued into the site beyond this landing page\n",
    "    clicks_left: the number of users who left the site after clicking into this landing page\n",
    "    test_variant: a 1/0 coded column indicating which of the two arms of the test this measurement was from.\n",
    "    \n",
    "Rows in this dataset are measurements taken at different times separately for each arm. There were 1000 total measurements made before the test was stopped, and the test is not evenly split as only 28.5% of users recieved variant 1 (the \"experimental\" arm).\n",
    "\n",
    "---\n",
    "\n",
    "### Aggregate and Plot Conversion Data\n",
    "\n",
    "Aggregate the number of clicks converted and clicks left by test variant, then plot the differences using a barplot."
   ]
  },
  {
   "cell_type": "code",
   "execution_count": null,
   "metadata": {
    "collapsed": false
   },
   "outputs": [],
   "source": []
  },
  {
   "cell_type": "code",
   "execution_count": null,
   "metadata": {
    "collapsed": false
   },
   "outputs": [],
   "source": []
  },
  {
   "cell_type": "code",
   "execution_count": null,
   "metadata": {
    "collapsed": false
   },
   "outputs": [],
   "source": []
  },
  {
   "cell_type": "markdown",
   "metadata": {},
   "source": [
    "---\n",
    "\n",
    "### Analyzing Results with the Chi-square Test\n",
    "\n",
    "It's pretty obvious from the above chart which of the two is achieving the higher click-through rate per user, but you always need to do a rigorous statistical test.\n",
    "\n",
    "A basic statistical method for evaluating this test is the **chi-square test of independence.** Essentially, the chi-square test is a procedure to determine if the observed distribution of categorical variables is independent or not. In the context here, it tells us the probability that our arms come from the same distribution. \n",
    "\n",
    "If the likelihood of dependence is low, then we can assume that the measured mean counts of arms (rates of conversion) are not the same, which is the null hypothesis.\n",
    "\n",
    "For more information see:\n",
    "\n",
    "http://www.ling.upenn.edu/~clight/chisquared.htm\n",
    "\n",
    "http://thestatsgeek.com/2013/07/22/ab-testing/\n",
    "\n",
    "\n",
    "#### Calculate the chi-square p-value below and describe what it means:\n",
    "\n",
    "You can use the `chi2_contingency()` function to calculate this on a contingency table matrix.\n",
    "\n",
    "http://docs.scipy.org/doc/scipy-0.16.0/reference/generated/scipy.stats.chi2_contingency.html\n"
   ]
  },
  {
   "cell_type": "code",
   "execution_count": null,
   "metadata": {
    "collapsed": false
   },
   "outputs": [],
   "source": []
  },
  {
   "cell_type": "markdown",
   "metadata": {},
   "source": [
    "---\n",
    "\n",
    "### Analyzing Results with a T-test\n",
    "\n",
    "As you may recall, the **student's t-test** is a method for examining whether the mean of two distributions are different. Our null hypothesis is that the means are not different between arms, and likewise the alternative hypothesis is that they are.\n",
    "\n",
    "You can also use the similar z-test to calculate difference of means for split tests, and some do, but I prefer student's t-test as it can assume that the variances are not equal between distributions.\n",
    "\n",
    "#### Calculate the two-tailed t-test below\n",
    "\n",
    "You can use the `ttest_ind()` function from `scipy.stats` to do the calculation. \n",
    "\n",
    "http://docs.scipy.org/doc/scipy/reference/generated/scipy.stats.ttest_ind.html\n",
    "\n",
    "T-tests can be \"one-tailed\" or \"two-tailed\". If you've forgotten what these refer to look it up on Google! Explain why the two-tailed is more appropriate."
   ]
  },
  {
   "cell_type": "code",
   "execution_count": null,
   "metadata": {
    "collapsed": false
   },
   "outputs": [],
   "source": []
  },
  {
   "cell_type": "markdown",
   "metadata": {},
   "source": [
    "---\n",
    "\n",
    "## LAB: The danger of \"peeking\" – examining the results of your split test over time.\n",
    "\n",
    "Analyzing the results of a split test multiple times over time is one of the most common and dangerous mistakes that statistically uninformed analysts make. It is actually pretty shocking how much this is done, though people are much better about it now. As a data scientist it is essential that you enforce no \"peeking\" multiple times at the state of the split test results.\n",
    "\n",
    "To look at why this is the case, we will look at peeking vs not peeking on fake split tests below.\n",
    "\n",
    "---\n",
    "\n",
    "### Conversion function\n",
    "\n",
    "You are provided with a function `split_test_results(user_count, arm)` that will accept a number of \"users\" and an arm (\"A\" or \"B\"). The function returns the number of conversions and the number that left in a list."
   ]
  },
  {
   "cell_type": "code",
   "execution_count": 4,
   "metadata": {
    "collapsed": true
   },
   "outputs": [],
   "source": [
    "from numpy.random import binomial\n",
    "\n",
    "def split_test_results(user_count, arm='A'):\n",
    "    \n",
    "    if arm == 'A':\n",
    "        a = binomial(1, .08, size=user_count)\n",
    "        return [np.sum(a), user_count - np.sum(a)]\n",
    "    \n",
    "    if arm == 'B':\n",
    "        b = binomial(1, .13, size=user_count)\n",
    "        return [np.sum(b), user_count - np.sum(b)]\n",
    "    "
   ]
  },
  {
   "cell_type": "markdown",
   "metadata": {},
   "source": [
    "---\n",
    "\n",
    "### Create 50 split test results\n",
    "\n",
    "You will run 50 different split tests that each run for 75 \"days\" (don't worry about datetime stuff here - just use each row as a day. Datetime manipulation is not the point here.)\n",
    "\n",
    "The DataFrame for each test should look something like this:\n",
    "\n",
    "| arm_a_conversions | arm_a_left | arm_b_conversions | arm_b_left | day | split_test_num |\n",
    "| :---: | :---: | :---: | :---: | :---: | :---: |\n",
    "| 3 | 7 | 9 | 4 | 1 | 1 |\n",
    "| 1 | 8 | 10 | 3 | 2 | 1 |\n",
    "| 4 | 5 | 2 | 11 | 3 | 1 |\n",
    "\n",
    "Make **arm A take 28 users per day**, and **arm B take 16 users per day**. Again, there should be 75 days per split test and 50 split tests, so the shape of the dataframe will be (3750, 6).\n"
   ]
  },
  {
   "cell_type": "code",
   "execution_count": null,
   "metadata": {
    "collapsed": false
   },
   "outputs": [],
   "source": []
  },
  {
   "cell_type": "markdown",
   "metadata": {},
   "source": [
    "---\n",
    "\n",
    "### Analyze each split test and declare winner on the 75th day\n",
    "\n",
    "For each of the 50 split tests, analyze the results and determine the winning arm.\n",
    "\n",
    "Your threshold criterion for choosing arm B over arm A should be **alpha = 0.05.** In other words, the mean rate for arm B, the \"experimental\" arm, would need to be larger with a significance of p < 0.05 to be accepted as the new version over arm A, the \"control\" arm.\n"
   ]
  },
  {
   "cell_type": "code",
   "execution_count": null,
   "metadata": {
    "collapsed": false
   },
   "outputs": [],
   "source": []
  },
  {
   "cell_type": "code",
   "execution_count": null,
   "metadata": {
    "collapsed": false
   },
   "outputs": [],
   "source": []
  },
  {
   "cell_type": "markdown",
   "metadata": {},
   "source": [
    "---\n",
    "\n",
    "### Select winner while \"peeking\" at the tests.\n",
    "\n",
    "\"Peeking\" at split tests is essentially watching the test as it runs, and whatever day it hits the winning condition you declare the winning arm.\n",
    "\n",
    "You will use the same split test data above, to compare the results of peeking vs. not. Again, your threshold is alpha = 0.05, and arm B is declared the winner if the p-value is less than alpha and the mean rate of B is greater than the mean rate of A. If the p-value goes below the alpha threshold and the mean rate of A is higher, A is winnered.\n",
    "\n",
    "Create a DataFrame in the following format:\n",
    "\n",
    "| winning_arm | a_mean_rate | b_mean_rate | day_won | split_test_num |\n",
    "| :---: | :---: | :---: | :---: | :---: |\n",
    "| A | 0.12 | 0.04 | 30 | 1 |\n",
    "| B | 0.03 | 0.11 | 45 | 1 |"
   ]
  },
  {
   "cell_type": "code",
   "execution_count": null,
   "metadata": {
    "collapsed": true
   },
   "outputs": [],
   "source": []
  },
  {
   "cell_type": "code",
   "execution_count": null,
   "metadata": {
    "collapsed": false
   },
   "outputs": [],
   "source": []
  },
  {
   "cell_type": "code",
   "execution_count": null,
   "metadata": {
    "collapsed": false
   },
   "outputs": [],
   "source": []
  },
  {
   "cell_type": "code",
   "execution_count": null,
   "metadata": {
    "collapsed": false
   },
   "outputs": [],
   "source": []
  },
  {
   "cell_type": "code",
   "execution_count": null,
   "metadata": {
    "collapsed": false
   },
   "outputs": [],
   "source": []
  },
  {
   "cell_type": "code",
   "execution_count": null,
   "metadata": {
    "collapsed": true
   },
   "outputs": [],
   "source": []
  }
 ],
 "metadata": {
  "kernelspec": {
   "display_name": "Python 2",
   "language": "python",
   "name": "python2"
  },
  "language_info": {
   "codemirror_mode": {
    "name": "ipython",
    "version": 2
   },
   "file_extension": ".py",
   "mimetype": "text/x-python",
   "name": "python",
   "nbconvert_exporter": "python",
   "pygments_lexer": "ipython2",
   "version": "2.7.11"
  }
 },
 "nbformat": 4,
 "nbformat_minor": 0
}
