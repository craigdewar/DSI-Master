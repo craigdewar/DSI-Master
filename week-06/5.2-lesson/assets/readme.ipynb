{
 "cells": [
  {
   "cell_type": "markdown",
   "metadata": {},
   "source": [
    "---\n",
    "title: Communicating results\n",
    "duration: \"1:25\"\n",
    "creator:\n",
    "    name: Francesco Mosconi\n",
    "    city: SF\n",
    "---"
   ]
  },
  {
   "cell_type": "markdown",
   "metadata": {},
   "source": [
    "# ![](https://ga-dash.s3.amazonaws.com/production/assets/logo-9f88ae6c9c3871690e33280fcf557f33.png) Communicating results\n",
    "Week 6| Lesson 5.2"
   ]
  },
  {
   "cell_type": "markdown",
   "metadata": {},
   "source": [
    "### LEARNING OBJECTIVES\n",
    "*After this lesson, you will be able to:*\n",
    "- analyze costs and benefits when presenting data\n",
    "- decide how to present it based on audience\n",
    "- find common mistakes in visualizations\n",
    "- correct such mistakes\n",
    "- visualize results in tableau"
   ]
  },
  {
   "cell_type": "markdown",
   "metadata": {},
   "source": [
    "### STUDENT PRE-WORK\n",
    "*Before this lesson, you should already be able to:*\n",
    "- Demonstrate ability to perform simple EDA using Tableau\n",
    "- Recall the defining criteria of a confusion matrix\n",
    "- Illustrate the principles of a strong classification report"
   ]
  },
  {
   "cell_type": "markdown",
   "metadata": {},
   "source": [
    "### INSTRUCTOR PREP\n",
    "*Before this lesson, instructors will need to:*\n",
    "- Read in / Review any dataset(s) & starter/solution code\n",
    "- Generate a brief slide deck\n",
    "- Prepare any specific materials\n",
    "- Provide students with additional resources"
   ]
  },
  {
   "cell_type": "markdown",
   "metadata": {},
   "source": [
    "### LESSON GUIDE\n",
    "| TIMING  | TYPE  | TOPIC  |\n",
    "|:-:|---|---|\n",
    "| 5 min | [Opening](#opening) | Opening: |\n",
    "| 15 min | [Review](#review) | Review: Model Quality |\n",
    "| 10 min | [Discussion](#discussion) | Discussion: Cost Benefit Analysis |\n",
    "| 5 min | [Introduction](#introduction_2) | Intro: The criteria for a good visualization |\n",
    "| 10 min | [Guided-practice](#guided-practice) | Guided practice: Find the error |\n",
    "| 10 min | [Guided-practice](#guided-practice_2) | Guided practice: Correct the error |\n",
    "| 25 min | [Ind-practice](#ind-practice) | Independent practice: Visualizing model results in Tableau |\n",
    "| 5 min | [Conclusion](#conclusion) | Conclusion |"
   ]
  },
  {
   "cell_type": "markdown",
   "metadata": {},
   "source": [
    "<a name=\"opening\"></a>\n",
    "## Opening:  (5 min)\n",
    "In week 4, lesson 5.1 we discussed how to present data to stakeholders that are less technical than we are. We will extend that topic now considering a few additional tools and in particular how to communicate results when using ensemble models.\n",
    "\n",
    "**Check:** do you expect huge differences in how to handle presentation of results for ensemble models?\n",
    "> Answer: not really, presentation of results should be almost model independent"
   ]
  },
  {
   "cell_type": "markdown",
   "metadata": {},
   "source": [
    "<a name=\"review\"></a>\n",
    "## Review: Model Quality (15 min)\n",
    "Let's review the methods we have learned so far to assess model quality.\n",
    "\n",
    "### Classification problems\n",
    "**Check:** Can you name few ways to judge the quality of a classification model?\n",
    "> Accuracy Score, Precision, Recall, F1-Score, Confusion Matrix\n",
    "\n",
    "**Check:** For each of these ways, can you give the definition?\n",
    "> Instructor note: help them give definition, then write definition on whiteboard. You can review definitions [here](http://scikit-learn.org/stable/modules/model_evaluation.html)\n",
    "\n",
    "**Check:** Can you think of situations you have encountered where you would choose one or the other?\n",
    "> Debate: Finesse VS communicability\n",
    "\n",
    "### Regression problems\n",
    "**Check:** Can you name few ways to judge the quality of a classification model?\n",
    "> RMSE, R2\n",
    "\n",
    "**Check:** For each of these ways, can you give the definition?\n",
    "> Instructor note: help them give definition, then write definition on whiteboard. You can review definitions [here](http://scikit-learn.org/stable/modules/model_evaluation.html)\n",
    "\n",
    "**Check:** Can you think of situations you have encountered where you would choose one or the other?\n",
    "> Debate: Finesse VS communicability\n",
    "\n",
    "**Check:** What graphical tools have we encountered to explain model quality?\n",
    "> [Learning curves, Validation curves](http://scikit-learn.org/stable/modules/learning_curve.html)"
   ]
  },
  {
   "cell_type": "markdown",
   "metadata": {},
   "source": [
    "<a name=\"discussion\"></a>\n",
    "## Discussion: Cost Benefit Analysis (10 min)\n",
    "\n",
    "One tool that complements the confusion matrix is cost-benefit analysis, where you attach a _value_ to correctly and incorrectly predicted data.\n",
    "\n",
    "Like the Precision-Recall trade off, there is a balancing point to the _probabilities_ of a given position in the confusion matrix, and the _cost_ or _benefit_ to that position. This approach allows you to not only add a weighting system to your confusion matrix, but also to speak the language of your business stakeholders (i.e. communicate your values in dollars!).\n",
    "\n",
    "Consider the following marketing problem:\n",
    "\n",
    "As a data scientist working on marketing spend, you've build a model that reduces user churn--the number of users who decide to stop paying for a product--through a marketing campaign. Your model generates a confusion matrix with the following probabilities (these probabilities are calculated as the value in that position over the sum of the sample):\n",
    "\n",
    "|||\n",
    "|---|---|\n",
    "| TP: 0.2 | FP: 0.2 |\n",
    "| FN: 0.1 | TN: 0.5 |\n",
    "\n",
    "In this case:\n",
    "- The _benefit_ of a true positive $B_{TP}$ is the retention of a user (\\$10 for the month)\n",
    "- The _cost_ of a false positive $C_{FP}$ is the spend of the campaign per user (-\\$0.05)\n",
    "- The _cost_ of a false negative $C_{FN}$ (someone who could have retained if sent the campaign) is, effectively, 0 (we didn't send it... but we certainly didn't benefit!)\n",
    "- The _benefit_ of a true negative $B_{TN}$ is 0: No spend on users who would have never retained.\n",
    "\n",
    "To calculate Cost-Benefit, we'll use this following function:\n",
    "$$\n",
    "p(TP)  B_{TP} + p(TN) B_{TN} + p(FP) C_{FP} + p(FN) C_{FN}\n",
    "$$\n",
    "which for our marketing problem, comes out to this:\n",
    "$$\n",
    "(0.2 \\times 10) + (0.5 \\times 0) - (0.2 \\times 0.05) - (0.1 \\times 0)\n",
    "$$\n",
    "or \\$1.99 per user targeted.\n",
    "\n",
    "\n",
    "### Follow up questions:\n",
    "> Instructor note: this could be done in small groups or pairs or with the whole class.\n",
    "\n",
    "Think about precision, recall, and cost benefit analysis from the above problem to answer the following questions:\n",
    "\n",
    "1. How would you rephrase the business problem if your model was optimizing toward _precision_? i.e., How might the model behave differently, and what effect would it have?\n",
    "- How would you rephrase the business problem if your model was optimizing toward _recall_?\n",
    "- What would the most ideal model look like in this case?\n",
    "- Can you think of business situations where different stakeholders would take different decisions on what metric to optimize? For example, stakeholders with competing interests may decide to weigh false positives or false negatives differently. Can you think of a concrete example?\n",
    "> Answer: e.g. model to predict cancer: Health insurance would like to minimize false positives, patient would like to minimize false negatives."
   ]
  },
  {
   "cell_type": "markdown",
   "metadata": {},
   "source": [
    "<a name=\"introduction_2\"></a>\n",
    "## Intro: The criteria for a good visualization (5 min)\n",
    "\n",
    "As we have learned in week 4, visualizations and presentations should be:\n",
    "\n",
    "- Simplified\n",
    "- Easy to interpret\n",
    "- Clearly Labeled\n",
    "\n",
    "**Check:** Can you give a few examples of good/poor visualizations?\n",
    "> Answer:\n",
    "> - **Simplified**: At most, you'll want to include figures that either explain a variable on its own (explaining the sample or population), or explain that variable's relationship with a target. If your model used a data transformation (like the natural log of a variable), just visualize the original data, as log functions involve an additional layer of explanation.\n",
    "> - **Easily interpretable**: Any stakeholder looking at the figure should be seeing the exact same thing you're seeing. A good test for this: share the visual with others less familiar with the data, and see if they came to same conclusion. How long did it take them?\n",
    "> - **Clearly Labeled**: Take the time to clearly label your axis, title the plot, and double check your scales - especially if the figures should be comparable. If you're showing two graphs side by side, they should follow the same Y axis.\n",
    "\n",
    "When building visuals for another audience, ask yourself these questions:\n",
    "\n",
    "* **Who**: Who is my target audience for this visual?\n",
    "* **What**: What do they already know about this project? What do they need to know?\n",
    "* **How**: How does my project affect this audience? How might they interpret (or misinterpret) the data?"
   ]
  },
  {
   "cell_type": "markdown",
   "metadata": {},
   "source": [
    "<a name=\"guided-practice\"></a>\n",
    "## Guided practice: Find the error (10 min)\n",
    "\n",
    "[WTFViz](http://viz.wtf/) is a hilarious collection of visualizations done wrong. For the next activity, form groups of 3-4 people and go to the WTFVIZ website. Use the first 5 minutes to find 3 visualizations that you find particularly intriguing. Look for:\n",
    "\n",
    "- hilarious: find at least one visualization that is so wrong you can't stop laughing\n",
    "- tricky: find at least one visualization that is almost right and where it's hard to spot why it's wrong\n",
    "- boring: find a visualization that is not particularly exciting\n",
    "\n",
    "In the following 5 minutes each group will present to the rest of the class its 3 visualizations together with their explanations for choosing them.\n",
    "\n",
    "> Instructor note: have each group name stand up and come out to present. Have your laptop ready on wtfviz website so they can browse it there."
   ]
  },
  {
   "cell_type": "markdown",
   "metadata": {},
   "source": [
    "<a name=\"guided-practice_2\"></a>\n",
    "## Guided practice: Correct the error (10 min)\n",
    "\n",
    "Back in your groups, discuss how to amend the error: work in your groups to either actually correct or break down the steps of what you would do to correct the problems identified in each of their 3 selections.\n",
    "How could you have presented the results in a more compelling, clearer way?\n",
    "\n",
    "Communicate a few suggestions to the rest of the class.\n",
    "\n",
    "> Instructor note: Give them a few minutes to discuss and then a few minutes fow presenting their corrections to the class."
   ]
  },
  {
   "cell_type": "markdown",
   "metadata": {},
   "source": [
    "<a name=\"ind-practice\"></a>\n",
    "## Independent practice: Visualizing model results in Tableau (25 min)\n",
    "\n",
    "Tableau is a very powerful and easy to use tool that allows us to create nice visualizations. In the assets folder are some of the results of the labs you've been conducting in the past week. See if you can reproduce the visualizations below.\n",
    "\n",
    "![scores](./assets/images/scores.png)\n",
    "![wordclouds](./assets/images/wordclouds.png)\n",
    "![hoods](./assets/images/hoods.png)\n",
    "\n",
    "In addition create at least one more visualization using the data you can find in the asset folder and share your attempts within your team of the previous activity."
   ]
  },
  {
   "cell_type": "markdown",
   "metadata": {},
   "source": [
    "<a name=\"conclusion\"></a>\n",
    "## Conclusion (5 min)\n",
    "\n",
    "In this class we learned how the stakeholders should always be central when considering which visulization to produce.\n",
    "\n",
    "**Check:** what did you learn? Repeat the things you discovered today.\n",
    "\n",
    "Telling a sound story is as important as building an effective model, and crafting a nice story requires time and attention to detail.\n",
    "\n",
    "**Check:** how would you allocate the time in a data science project between the following phases:\n",
    "1. data collection and cleaning\n",
    "- model building\n",
    "- visualization\n",
    "> Answer: it depends, but 1. and 3. should take more time than 2. (although it's hardly ever the case)."
   ]
  },
  {
   "cell_type": "markdown",
   "metadata": {},
   "source": [
    "### ADDITIONAL RESOURCES\n",
    "- [WTFViz](http://viz.wtf/)\n",
    "- [Visualization Principles](https://moz.com/blog/data-visualization-principles-lessons-from-tufte)\n",
    "- [Tufte visualization summary](http://www.ics.uci.edu/~redmiles/inf143-SQ08/week02/TuftePrinciplesAndAriadne.pdf)\n",
    "- [Polygon Map in Tableau](http://kb.tableau.com/articles/knowledgebase/polygon-shaded-maps)"
   ]
  }
 ],
 "metadata": {
  "kernelspec": {
   "display_name": "Python 2",
   "language": "python",
   "name": "python2"
  },
  "language_info": {
   "codemirror_mode": {
    "name": "ipython",
    "version": 2
   },
   "file_extension": ".py",
   "mimetype": "text/x-python",
   "name": "python",
   "nbconvert_exporter": "python",
   "pygments_lexer": "ipython2",
   "version": "2.7.11"
  }
 },
 "nbformat": 4,
 "nbformat_minor": 0
}
