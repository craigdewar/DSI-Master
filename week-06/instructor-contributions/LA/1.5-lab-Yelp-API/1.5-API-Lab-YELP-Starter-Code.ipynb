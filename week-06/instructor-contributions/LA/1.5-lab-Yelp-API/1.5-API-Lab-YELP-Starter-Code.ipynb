{
 "cells": [
  {
   "cell_type": "markdown",
   "metadata": {},
   "source": [
    "#1.5 API Lab with YELP's API\n",
    "\n",
    "- Sign up for an account and developer access to Yelp's API: https://www.yelp.com/developers/\n",
    "- Inspect YELP API documentation for the full scope of data provided through this API: https://www.yelp.com/developers/documentation/v2/overview\n",
    "- Sample Code is provided for the API by language. Let's implement their sample code: https://github.com/Yelp/yelp-python\n",
    "\n"
   ]
  },
  {
   "cell_type": "code",
   "execution_count": 2,
   "metadata": {
    "collapsed": false
   },
   "outputs": [],
   "source": [
    "#install yelp api python package\n",
    "#!pip install yelp"
   ]
  },
  {
   "cell_type": "markdown",
   "metadata": {},
   "source": [
    "Don't put your passwords and access tokens on the public web. Security best practice is to avoid putting information that will make your connections insecure, especially code that you will be pushing up to any code repository. Store these passwords and tokens in different files. \n",
    "\n",
    "- 1 Create and import \"secretokenfile.py\" or another filename\n",
    "- 2 Add this file to your .gitignore \n",
    "- 3 Add/Commit/Push to your repo and double check that it is not getting posted!"
   ]
  },
  {
   "cell_type": "code",
   "execution_count": 5,
   "metadata": {
    "collapsed": false
   },
   "outputs": [],
   "source": [
    "import secretokenfile as mypass"
   ]
  },
  {
   "cell_type": "code",
   "execution_count": 9,
   "metadata": {
    "collapsed": false
   },
   "outputs": [],
   "source": [
    "#!cat secretokenfile.py "
   ]
  },
  {
   "cell_type": "code",
   "execution_count": 6,
   "metadata": {
    "collapsed": false
   },
   "outputs": [],
   "source": [
    "from yelp.client import Client\n",
    "from yelp.oauth1_authenticator import Oauth1Authenticator\n",
    "\n",
    "auth2 = Oauth1Authenticator(\n",
    "    consumer_key=mypass.apikey,\n",
    "    consumer_secret=mypass.secret,\n",
    "    token=mypass.token,\n",
    "    token_secret=mypass.tokensecret\n",
    ")\n",
    "\n",
    "client = Client(auth2)"
   ]
  },
  {
   "cell_type": "markdown",
   "metadata": {},
   "source": [
    "Also, you can store these values as a json file (also add to your .gitignore) and read into your environment:"
   ]
  },
  {
   "cell_type": "code",
   "execution_count": 7,
   "metadata": {
    "collapsed": false
   },
   "outputs": [],
   "source": [
    "import json\n",
    "\n",
    "# read API keys\n",
    "with open('config_secret.json') as cred:\n",
    "    creds = json.load(cred)\n",
    "    #print creds\n",
    "    auth = Oauth1Authenticator(**creds)\n",
    "    client_json = Client(auth)"
   ]
  },
  {
   "cell_type": "markdown",
   "metadata": {},
   "source": [
    "Response Search API"
   ]
  },
  {
   "cell_type": "code",
   "execution_count": 11,
   "metadata": {
    "collapsed": false
   },
   "outputs": [
    {
     "name": "stdout",
     "output_type": "stream",
     "text": [
      "Philz Coffee\n"
     ]
    }
   ],
   "source": [
    "response = client.search('Santa Monica')\n",
    "print response.businesses[0].name\n"
   ]
  },
  {
   "cell_type": "code",
   "execution_count": 118,
   "metadata": {
    "collapsed": false
   },
   "outputs": [
    {
     "name": "stdout",
     "output_type": "stream",
     "text": [
      "Philz Coffee\n",
      "Tar & Roses\n",
      "Amelia's Espresso & Panini\n",
      "Fork-In Aussie Pie Kitchen\n",
      "Santa Monica Yacht Club\n",
      "Funnel Mill\n",
      "Palisades Park\n",
      "Satdha Plant-Based Thai Kitchen\n",
      "Mendocino Farms\n",
      "Tongva Park\n",
      "Bay Cities Italian Deli\n",
      "Stickhouse Gelato\n",
      "Sidecar Doughnuts\n",
      "Sunny Blue\n",
      "Lo/Cal Coffee and Market\n",
      "Shaka Shack Burgers\n",
      "sweetgreen\n",
      "REDS\n",
      "Benny's Tacos & Chicken Rotisserie\n",
      "Mélisse\n"
     ]
    }
   ],
   "source": [
    "#convert yelp object reponse to a dictionary\n",
    "\n",
    "biz_json = map(lambda x : x.__dict__, response.businesses)\n",
    "len(biz_json)\n",
    "\n",
    "for b in biz_json:\n",
    "    print b['name']"
   ]
  },
  {
   "cell_type": "markdown",
   "metadata": {},
   "source": [
    "Search API"
   ]
  },
  {
   "cell_type": "code",
   "execution_count": 119,
   "metadata": {
    "collapsed": false
   },
   "outputs": [
    {
     "data": {
      "text/plain": [
       "<yelp.obj.search_response.SearchResponse at 0x104a39ed0>"
      ]
     },
     "execution_count": 119,
     "metadata": {},
     "output_type": "execute_result"
    }
   ],
   "source": [
    "params = {\n",
    "    'term': 'food',\n",
    "    'lang': 'fr'\n",
    "}\n",
    "\n",
    "client_json.search('San Francisco', **params)"
   ]
  },
  {
   "cell_type": "markdown",
   "metadata": {},
   "source": [
    "Exercises: \n",
    "- 1) Try to get information out of the Search API or business API. \n",
    "- 2) Use requests to leverage Yelp's API, you will still need the oauth object with requests library"
   ]
  },
  {
   "cell_type": "code",
   "execution_count": 17,
   "metadata": {
    "collapsed": false
   },
   "outputs": [
    {
     "ename": "AttributeError",
     "evalue": "'Oauth1Authenticator' object has no attribute 'get'",
     "output_type": "error",
     "traceback": [
      "\u001b[0;31m---------------------------------------------------------------------------\u001b[0m",
      "\u001b[0;31mAttributeError\u001b[0m                            Traceback (most recent call last)",
      "\u001b[0;32m<ipython-input-17-9edc62cb5aa6>\u001b[0m in \u001b[0;36m<module>\u001b[0;34m()\u001b[0m\n\u001b[1;32m      1\u001b[0m \u001b[0;32mimport\u001b[0m \u001b[0mrequests\u001b[0m\u001b[0;34m\u001b[0m\u001b[0m\n\u001b[1;32m      2\u001b[0m \u001b[0;34m\u001b[0m\u001b[0m\n\u001b[0;32m----> 3\u001b[0;31m \u001b[0mrequest\u001b[0m \u001b[0;34m=\u001b[0m \u001b[0mauth2\u001b[0m\u001b[0;34m.\u001b[0m\u001b[0mget\u001b[0m\u001b[0;34m(\u001b[0m\u001b[0;34m\"http://api.yelp.com/v2/search\"\u001b[0m\u001b[0;34m,\u001b[0m\u001b[0mparams\u001b[0m\u001b[0;34m=\u001b[0m\u001b[0mparams\u001b[0m\u001b[0;34m)\u001b[0m\u001b[0;34m\u001b[0m\u001b[0m\n\u001b[0m\u001b[1;32m      4\u001b[0m \u001b[0;34m\u001b[0m\u001b[0m\n\u001b[1;32m      5\u001b[0m \u001b[0;31m#Transforms the JSON API response into a Python dictionary\u001b[0m\u001b[0;34m\u001b[0m\u001b[0;34m\u001b[0m\u001b[0m\n",
      "\u001b[0;31mAttributeError\u001b[0m: 'Oauth1Authenticator' object has no attribute 'get'"
     ]
    }
   ],
   "source": [
    "import requests\n",
    "\n",
    "request = auth2.get(\"http://api.yelp.com/v2/search\",params=params)\n",
    "   \n",
    "#Transforms the JSON API response into a Python dictionary\n",
    "data = request.json()\n",
    "   "
   ]
  },
  {
   "cell_type": "code",
   "execution_count": null,
   "metadata": {
    "collapsed": true
   },
   "outputs": [],
   "source": []
  }
 ],
 "metadata": {
  "kernelspec": {
   "display_name": "Python 2",
   "language": "python",
   "name": "python2"
  },
  "language_info": {
   "codemirror_mode": {
    "name": "ipython",
    "version": 2
   },
   "file_extension": ".py",
   "mimetype": "text/x-python",
   "name": "python",
   "nbconvert_exporter": "python",
   "pygments_lexer": "ipython2",
   "version": "2.7.5"
  }
 },
 "nbformat": 4,
 "nbformat_minor": 0
}
