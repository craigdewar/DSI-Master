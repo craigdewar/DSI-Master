{
 "cells": [
  {
   "cell_type": "markdown",
   "metadata": {},
   "source": [
    "# How bagging ensembles resample data"
   ]
  },
  {
   "cell_type": "code",
   "execution_count": 100,
   "metadata": {
    "collapsed": true
   },
   "outputs": [],
   "source": [
    "# load required packages\n",
    "import numpy as np\n",
    "import pandas as pd\n",
    "from sklearn.ensemble import BaggingClassifier\n",
    "from sklearn.tree import DecisionTreeClassifier\n",
    "\n",
    "np.random.seed(1)"
   ]
  },
  {
   "cell_type": "code",
   "execution_count": 101,
   "metadata": {
    "collapsed": true
   },
   "outputs": [],
   "source": [
    "# Bagging flow\n",
    "data = pd.DataFrame({\n",
    "        'animal_type':['dog','wolf','wolf','dog','dog','wolf','dog'],\n",
    "        'weight':[30, 40, 45, 50, 25, 15, 35],\n",
    "        'anger_level':[0, 10, 7, 8, 5, 3, 2],\n",
    "        'cuddly':['cuddly','not','not','not','cuddly','cuddly','cuddly']\n",
    "    })"
   ]
  },
  {
   "cell_type": "code",
   "execution_count": 102,
   "metadata": {
    "collapsed": false
   },
   "outputs": [],
   "source": [
    "data = pd.concat([data for x in range(2)], axis=0)\n",
    "data.reset_index(inplace=True)"
   ]
  },
  {
   "cell_type": "code",
   "execution_count": 103,
   "metadata": {
    "collapsed": true
   },
   "outputs": [],
   "source": [
    "Y = data.animal_type.map(lambda x: 1 if x == 'dog' else 0).values"
   ]
  },
  {
   "cell_type": "code",
   "execution_count": 104,
   "metadata": {
    "collapsed": false
   },
   "outputs": [
    {
     "data": {
      "text/plain": [
       "array([1, 0, 0, 1, 1, 0, 1, 1, 0, 0, 1, 1, 0, 1])"
      ]
     },
     "execution_count": 104,
     "metadata": {},
     "output_type": "execute_result"
    }
   ],
   "source": [
    "Y"
   ]
  },
  {
   "cell_type": "code",
   "execution_count": 105,
   "metadata": {
    "collapsed": false
   },
   "outputs": [],
   "source": [
    "import patsy\n",
    "\n",
    "X = patsy.dmatrix('~ cuddly + anger_level + weight', data=data,\n",
    "                  return_type='dataframe')"
   ]
  },
  {
   "cell_type": "code",
   "execution_count": 106,
   "metadata": {
    "collapsed": false
   },
   "outputs": [],
   "source": [
    "X.drop('Intercept', axis=1, inplace=True)"
   ]
  },
  {
   "cell_type": "code",
   "execution_count": 107,
   "metadata": {
    "collapsed": false
   },
   "outputs": [],
   "source": [
    "Xmat = X.values"
   ]
  },
  {
   "cell_type": "code",
   "execution_count": 108,
   "metadata": {
    "collapsed": false
   },
   "outputs": [],
   "source": [
    "from sklearn.externals.six import StringIO  \n",
    "from IPython.display import Image  \n",
    "from sklearn.tree import export_graphviz\n",
    "import pydot\n",
    "\n",
    "dot_data = StringIO()  \n",
    "\n",
    "#export_graphviz(dtc, out_file=dot_data,\n",
    "#                feature_names=X.columns,\n",
    "#                filled=True, rounded=True,\n",
    "#                special_characters=True)  \n",
    "\n",
    "#graph = pydot.graph_from_dot_data(dot_data.getvalue())  \n",
    "#Image(graph.create_png()) "
   ]
  },
  {
   "cell_type": "code",
   "execution_count": 109,
   "metadata": {
    "collapsed": false
   },
   "outputs": [],
   "source": [
    "#from sklearn.cross_validation import cross_val_score\n",
    "\n",
    "#scores = cross_val_score(dtc, Xmat, Y, cv=3)\n",
    "\n",
    "#print scores\n",
    "#print np.mean(scores)"
   ]
  },
  {
   "cell_type": "code",
   "execution_count": 110,
   "metadata": {
    "collapsed": false
   },
   "outputs": [
    {
     "name": "stdout",
     "output_type": "stream",
     "text": [
      "[ 0.8   1.    0.75]\n",
      "0.85\n"
     ]
    }
   ],
   "source": [
    "dtc_simple = DecisionTreeClassifier(max_depth=2)\n",
    "\n",
    "scores_simple = cross_val_score(dtc_simple, Xmat, Y, cv=3)\n",
    "\n",
    "print scores_simple\n",
    "print np.mean(scores_simple)"
   ]
  },
  {
   "cell_type": "code",
   "execution_count": 111,
   "metadata": {
    "collapsed": true
   },
   "outputs": [],
   "source": [
    "# first we create the \"base model\" estimator\n",
    "dtc = DecisionTreeClassifier(max_depth=None)\n",
    "\n",
    "# n_estimators is the number of \"base models\" (copies of the dtc classifier blueprint)\n",
    "# that we want to fit and then average\n",
    "n_estimators=11\n",
    "\n",
    "# max_samples tells us what fraction of the size of the original dataset the bootstrapped\n",
    "# datasets are going to be.\n",
    "max_samples=0.5\n",
    "\n",
    "max_features=0.66\n",
    "\n",
    "#bag = BaggingClassifier(dtc)"
   ]
  },
  {
   "cell_type": "code",
   "execution_count": 112,
   "metadata": {
    "collapsed": false
   },
   "outputs": [
    {
     "name": "stdout",
     "output_type": "stream",
     "text": [
      "original rows: [0, 1, 2, 3, 4, 5, 6, 7, 8, 9, 10, 11, 12, 13]\n",
      "original cols: [0, 1, 2]\n",
      "resampled rows: [ 8  9 11  5  0  0  1]\n",
      "resampled_cols [2 1]\n"
     ]
    }
   ],
   "source": [
    "rows = range(X.shape[0])\n",
    "cols = range(X.shape[1])\n",
    "print 'original rows:', rows\n",
    "print 'original cols:', cols\n",
    "\n",
    "number_of_resampled_rows = int(round(max_samples * X.shape[0]))\n",
    "number_of_columns = int(round(max_features * X.shape[1]))\n",
    "\n",
    "#print number_of_resampled_rows\n",
    "#print number_of_columns\n",
    "\n",
    "resampled_rows = np.random.choice(rows, size=number_of_resampled_rows, replace=True)\n",
    "resampled_cols = np.random.choice(cols, size=number_of_columns, replace=False)\n",
    "\n",
    "print 'resampled rows:', resampled_rows\n",
    "print 'resampled_cols', resampled_cols\n",
    "\n",
    "#print resampled_rows\n",
    "\n",
    "#X"
   ]
  },
  {
   "cell_type": "code",
   "execution_count": 113,
   "metadata": {
    "collapsed": false
   },
   "outputs": [
    {
     "data": {
      "text/html": [
       "<div>\n",
       "<table border=\"1\" class=\"dataframe\">\n",
       "  <thead>\n",
       "    <tr style=\"text-align: right;\">\n",
       "      <th></th>\n",
       "      <th>weight</th>\n",
       "      <th>anger_level</th>\n",
       "    </tr>\n",
       "  </thead>\n",
       "  <tbody>\n",
       "    <tr>\n",
       "      <th>8</th>\n",
       "      <td>40.0</td>\n",
       "      <td>10.0</td>\n",
       "    </tr>\n",
       "    <tr>\n",
       "      <th>9</th>\n",
       "      <td>45.0</td>\n",
       "      <td>7.0</td>\n",
       "    </tr>\n",
       "    <tr>\n",
       "      <th>11</th>\n",
       "      <td>25.0</td>\n",
       "      <td>5.0</td>\n",
       "    </tr>\n",
       "    <tr>\n",
       "      <th>5</th>\n",
       "      <td>15.0</td>\n",
       "      <td>3.0</td>\n",
       "    </tr>\n",
       "    <tr>\n",
       "      <th>0</th>\n",
       "      <td>30.0</td>\n",
       "      <td>0.0</td>\n",
       "    </tr>\n",
       "    <tr>\n",
       "      <th>0</th>\n",
       "      <td>30.0</td>\n",
       "      <td>0.0</td>\n",
       "    </tr>\n",
       "    <tr>\n",
       "      <th>1</th>\n",
       "      <td>40.0</td>\n",
       "      <td>10.0</td>\n",
       "    </tr>\n",
       "  </tbody>\n",
       "</table>\n",
       "</div>"
      ],
      "text/plain": [
       "    weight  anger_level\n",
       "8     40.0         10.0\n",
       "9     45.0          7.0\n",
       "11    25.0          5.0\n",
       "5     15.0          3.0\n",
       "0     30.0          0.0\n",
       "0     30.0          0.0\n",
       "1     40.0         10.0"
      ]
     },
     "execution_count": 113,
     "metadata": {},
     "output_type": "execute_result"
    }
   ],
   "source": [
    "X.iloc[resampled_rows, resampled_cols]"
   ]
  },
  {
   "cell_type": "code",
   "execution_count": 114,
   "metadata": {
    "collapsed": true
   },
   "outputs": [],
   "source": [
    "from sklearn.cross_validation import KFold\n",
    "from sklearn.metrics import accuracy_score\n",
    "\n",
    "Xcopy = X.copy()"
   ]
  },
  {
   "cell_type": "code",
   "execution_count": 120,
   "metadata": {
    "collapsed": false,
    "scrolled": true
   },
   "outputs": [
    {
     "name": "stdout",
     "output_type": "stream",
     "text": [
      "record: 0 true Y: 1 \tvotes: [1, 1, 1, 1, 1, 1, 1, 1, 1, 0, 1] pct vote dog: 0.909\n",
      "record: 1 true Y: 0 \tvotes: [1, 0, 1, 0, 0, 0, 1, 1, 1, 0, 0] pct vote dog: 0.455\n",
      "record: 2 true Y: 0 \tvotes: [1, 0, 1, 0, 0, 0, 1, 1, 0, 1, 0] pct vote dog: 0.455\n",
      "record: 3 true Y: 1 \tvotes: [1, 0, 1, 0, 0, 0, 1, 1, 1, 1, 0] pct vote dog: 0.545\n",
      "record: 4 true Y: 1 \tvotes: [0, 1, 1, 0, 0, 1, 1, 1, 1, 0, 0] pct vote dog: 0.545\n",
      "record: 5 true Y: 0 \tvotes: [1, 0, 1, 1, 1, 0, 1, 1, 0, 0, 1] pct vote dog: 0.636\n",
      "record: 6 true Y: 1 \tvotes: [1, 0, 1, 1, 1, 1, 1, 1, 0, 0, 1] pct vote dog: 0.727\n",
      "record: 7 true Y: 1 \tvotes: [1, 0, 1, 1, 1, 1, 1, 1, 0, 1, 1] pct vote dog: 0.818\n",
      "record: 8 true Y: 0 \tvotes: [0, 0, 0, 0, 0, 1, 0, 0, 0, 1, 1] pct vote dog: 0.273\n",
      "record: 9 true Y: 0 \tvotes: [0, 0, 0, 1, 1, 0, 0, 1, 0, 1, 1] pct vote dog: 0.455\n",
      "record: 10 true Y: 1 \tvotes: [0, 1, 0, 0, 1, 0, 1, 0, 0, 1, 0] pct vote dog: 0.364\n",
      "record: 11 true Y: 1 \tvotes: [1, 0, 1, 0, 1, 0, 1, 1, 1, 0, 0] pct vote dog: 0.545\n",
      "record: 12 true Y: 0 \tvotes: [1, 0, 1, 1, 1, 0, 1, 0, 0, 0, 1] pct vote dog: 0.545\n",
      "record: 13 true Y: 1 \tvotes: [1, 0, 1, 1, 1, 0, 1, 1, 1, 0, 1] pct vote dog: 0.727\n"
     ]
    }
   ],
   "source": [
    "folds = KFold(len(rows), n_folds=3)\n",
    "\n",
    "accuracy_for_each_fold = []\n",
    "\n",
    "# 1. Split our X and Y data into 3 folds:\n",
    "# (KFold gives us the indexes/rows of the training and testing portions\n",
    "# instead of the actual subsets.)\n",
    "for train_indices, test_indicies in folds:\n",
    "    \n",
    "    # Uset the training and testing indicies to make our training and testing\n",
    "    # subsets of the data:\n",
    "    #print range(X.shape[0])\n",
    "    #print train_indices, test_indicies\n",
    "    Xtrain, Xtest = X.iloc[train_indices, :], X.iloc[test_indicies, :]\n",
    "    Ytrain, Ytest = Y[train_indices], Y[test_indicies]\n",
    "    \n",
    "    # Make a list to keep track of the predictions from our classifiers\n",
    "    # inside the bagging procedure\n",
    "    estimator_predictions = []\n",
    "    \n",
    "    # 2. Now we will do the Bagging procedure:\n",
    "    for estimator_num in range(n_estimators):\n",
    "        #print 'estimator number:', estimator_num\n",
    "        \n",
    "        # get the number of rows and columns that are in Xtrain, Ytrain (same)\n",
    "        train_rows = range(Xtrain.shape[0])\n",
    "        train_cols = range(Xtrain.shape[1])\n",
    "        \n",
    "        # 3. We set max_samples to 0.5 earlier, so we will resample a dataset\n",
    "        # to have half the rows that are in Xtrain/Ytrain\n",
    "        #\n",
    "        # We set max_features to 0.66, so we'll resample the same dataset\n",
    "        # to have 2 columns instead of 3, at random\n",
    "        number_of_resampled_rows = int(round(max_samples * Xtrain.shape[0]))\n",
    "        number_of_columns = int(round(max_features * Xtrain.shape[1]))\n",
    "        \n",
    "        # 4. actually do the resampling:\n",
    "        # We need random row and column numbers from the number of rows and\n",
    "        # columns in Xtrain/Ytrain\n",
    "        # First, use np.random.choice to choose from elements in train_rows\n",
    "        # with replacement, and only choose how many is specified in\n",
    "        # number_of_resampled_rows\n",
    "        #\n",
    "        # Do the same for the columns, but NOT with replacement, since then\n",
    "        # we would have duplicated prediction data.\n",
    "        resampled_rows = np.random.choice(train_rows, size=number_of_resampled_rows, \n",
    "                                          replace=True)\n",
    "        resampled_cols = np.random.choice(train_cols, size=number_of_columns,\n",
    "                                          replace=False)\n",
    "        \n",
    "        # 5. Use the randomly selected rows and columns to make\n",
    "        # our resampled Xtrain and Ytrain\n",
    "        Xtrain_resamp = Xtrain.iloc[resampled_rows, resampled_cols].values\n",
    "        Ytrain_resamp = Ytrain[resampled_rows]\n",
    "        \n",
    "        # 6. Make the classifier for this iteration through n_estimators\n",
    "        dtc = DecisionTreeClassifier(max_depth=None)\n",
    "        dtc.fit(Xtrain_resamp, Ytrain_resamp)\n",
    "        \n",
    "        # 7. Predict the values of Ytest (the testing data for this fold)\n",
    "        Y_pred = dtc.predict(Xtest.iloc[:, resampled_cols].values)\n",
    "        \n",
    "        # 8. Append our predictions to the estimator_predictions list\n",
    "        estimator_predictions.append(Y_pred)\n",
    "        \n",
    "    # 9. The bagging for loop has completed\n",
    "    voted_on_y_pred = []\n",
    "    votes_list = []\n",
    "    # Go through the rows of Ytest:\n",
    "    # Y    row\n",
    "    # dog  0\n",
    "    # wolf 1\n",
    "    # dog  2\n",
    "    # \n",
    "    # current_y_row will be 0 then 1 then 2\n",
    "    for current_y_row in range(len(Ytest)):\n",
    "        # keep track of the estimators votes for that Y row\n",
    "        estimator_votes = []\n",
    "        \n",
    "        # Iterate through the estimators' votes for Y\n",
    "        # GET THE Y PREDICTION FOR THE CURRENT ROW\n",
    "        for prediction in estimator_predictions:\n",
    "            estimator_votes.append(prediction[current_y_row])\n",
    "        \n",
    "        # how many votes are for 1\n",
    "        how_many_in_class_1 = len([c for c in estimator_votes if c == 1])\n",
    "        \n",
    "        # how many votes are 0\n",
    "        how_many_in_class_0 = n_estimators - how_many_in_class_1\n",
    "        \n",
    "        votes_list.append(estimator_votes)\n",
    "        \n",
    "        if how_many_in_class_1 > how_many_in_class_0:\n",
    "            voted_on_y_pred.append(1)\n",
    "        else:\n",
    "            voted_on_y_pred.append(0)\n",
    "    \n",
    "    \n",
    "    #print 'FOLD:'\n",
    "    for i, y in enumerate(Ytest):\n",
    "        pct_voted_dog = np.mean(votes_list[i])\n",
    "        \n",
    "        print 'record:', test_indicies[i], 'true Y:', y, '\\tvotes:', votes_list[i], 'pct vote dog:', \"{0:.3f}\".format(pct_voted_dog)\n",
    "        Xcopy.ix[test_indicies[i], 'pct_voted_dog'] = np.mean(votes_list[i])\n",
    "        \n",
    "        animal = None\n",
    "        if y == 1:\n",
    "            animal = 'dog'\n",
    "        else:\n",
    "            animal = 'wolf'\n",
    "        \n",
    "        Xcopy.ix[test_indicies[i], 'animal_type'] = animal\n",
    "    \n",
    "    # the accuracy for the current fold\n",
    "    fold_accuracy = accuracy_score(Ytest, voted_on_y_pred)\n",
    "    \n",
    "    # keep track of this fold's accuracy\n",
    "    accuracy_for_each_fold.append(fold_accuracy)\n",
    "  "
   ]
  },
  {
   "cell_type": "code",
   "execution_count": 116,
   "metadata": {
    "collapsed": false
   },
   "outputs": [
    {
     "name": "stdout",
     "output_type": "stream",
     "text": [
      "0.916666666667\n"
     ]
    },
    {
     "data": {
      "text/html": [
       "<div>\n",
       "<table border=\"1\" class=\"dataframe\">\n",
       "  <thead>\n",
       "    <tr style=\"text-align: right;\">\n",
       "      <th></th>\n",
       "      <th>animal_type</th>\n",
       "      <th>pct_voted_dog</th>\n",
       "      <th>cuddly[T.not]</th>\n",
       "      <th>anger_level</th>\n",
       "      <th>weight</th>\n",
       "    </tr>\n",
       "  </thead>\n",
       "  <tbody>\n",
       "    <tr>\n",
       "      <th>0</th>\n",
       "      <td>dog</td>\n",
       "      <td>1.000000</td>\n",
       "      <td>0.0</td>\n",
       "      <td>0.0</td>\n",
       "      <td>30.0</td>\n",
       "    </tr>\n",
       "    <tr>\n",
       "      <th>1</th>\n",
       "      <td>wolf</td>\n",
       "      <td>0.363636</td>\n",
       "      <td>1.0</td>\n",
       "      <td>10.0</td>\n",
       "      <td>40.0</td>\n",
       "    </tr>\n",
       "    <tr>\n",
       "      <th>2</th>\n",
       "      <td>wolf</td>\n",
       "      <td>0.272727</td>\n",
       "      <td>1.0</td>\n",
       "      <td>7.0</td>\n",
       "      <td>45.0</td>\n",
       "    </tr>\n",
       "    <tr>\n",
       "      <th>3</th>\n",
       "      <td>dog</td>\n",
       "      <td>0.545455</td>\n",
       "      <td>1.0</td>\n",
       "      <td>8.0</td>\n",
       "      <td>50.0</td>\n",
       "    </tr>\n",
       "    <tr>\n",
       "      <th>4</th>\n",
       "      <td>dog</td>\n",
       "      <td>0.545455</td>\n",
       "      <td>0.0</td>\n",
       "      <td>5.0</td>\n",
       "      <td>25.0</td>\n",
       "    </tr>\n",
       "    <tr>\n",
       "      <th>5</th>\n",
       "      <td>wolf</td>\n",
       "      <td>0.454545</td>\n",
       "      <td>0.0</td>\n",
       "      <td>3.0</td>\n",
       "      <td>15.0</td>\n",
       "    </tr>\n",
       "    <tr>\n",
       "      <th>6</th>\n",
       "      <td>dog</td>\n",
       "      <td>0.909091</td>\n",
       "      <td>0.0</td>\n",
       "      <td>2.0</td>\n",
       "      <td>35.0</td>\n",
       "    </tr>\n",
       "    <tr>\n",
       "      <th>7</th>\n",
       "      <td>dog</td>\n",
       "      <td>1.000000</td>\n",
       "      <td>0.0</td>\n",
       "      <td>0.0</td>\n",
       "      <td>30.0</td>\n",
       "    </tr>\n",
       "    <tr>\n",
       "      <th>8</th>\n",
       "      <td>wolf</td>\n",
       "      <td>0.272727</td>\n",
       "      <td>1.0</td>\n",
       "      <td>10.0</td>\n",
       "      <td>40.0</td>\n",
       "    </tr>\n",
       "    <tr>\n",
       "      <th>9</th>\n",
       "      <td>wolf</td>\n",
       "      <td>0.272727</td>\n",
       "      <td>1.0</td>\n",
       "      <td>7.0</td>\n",
       "      <td>45.0</td>\n",
       "    </tr>\n",
       "    <tr>\n",
       "      <th>10</th>\n",
       "      <td>dog</td>\n",
       "      <td>0.545455</td>\n",
       "      <td>1.0</td>\n",
       "      <td>8.0</td>\n",
       "      <td>50.0</td>\n",
       "    </tr>\n",
       "    <tr>\n",
       "      <th>11</th>\n",
       "      <td>dog</td>\n",
       "      <td>0.636364</td>\n",
       "      <td>0.0</td>\n",
       "      <td>5.0</td>\n",
       "      <td>25.0</td>\n",
       "    </tr>\n",
       "    <tr>\n",
       "      <th>12</th>\n",
       "      <td>wolf</td>\n",
       "      <td>0.818182</td>\n",
       "      <td>0.0</td>\n",
       "      <td>3.0</td>\n",
       "      <td>15.0</td>\n",
       "    </tr>\n",
       "    <tr>\n",
       "      <th>13</th>\n",
       "      <td>dog</td>\n",
       "      <td>0.818182</td>\n",
       "      <td>0.0</td>\n",
       "      <td>2.0</td>\n",
       "      <td>35.0</td>\n",
       "    </tr>\n",
       "  </tbody>\n",
       "</table>\n",
       "</div>"
      ],
      "text/plain": [
       "   animal_type  pct_voted_dog  cuddly[T.not]  anger_level  weight\n",
       "0          dog       1.000000            0.0          0.0    30.0\n",
       "1         wolf       0.363636            1.0         10.0    40.0\n",
       "2         wolf       0.272727            1.0          7.0    45.0\n",
       "3          dog       0.545455            1.0          8.0    50.0\n",
       "4          dog       0.545455            0.0          5.0    25.0\n",
       "5         wolf       0.454545            0.0          3.0    15.0\n",
       "6          dog       0.909091            0.0          2.0    35.0\n",
       "7          dog       1.000000            0.0          0.0    30.0\n",
       "8         wolf       0.272727            1.0         10.0    40.0\n",
       "9         wolf       0.272727            1.0          7.0    45.0\n",
       "10         dog       0.545455            1.0          8.0    50.0\n",
       "11         dog       0.636364            0.0          5.0    25.0\n",
       "12        wolf       0.818182            0.0          3.0    15.0\n",
       "13         dog       0.818182            0.0          2.0    35.0"
      ]
     },
     "execution_count": 116,
     "metadata": {},
     "output_type": "execute_result"
    }
   ],
   "source": [
    "print np.mean(accuracy_for_each_fold)\n",
    "Xcopy[['animal_type','pct_voted_dog'] + [x for x in Xcopy.columns if x not in ['animal_type','pct_voted_dog']]]"
   ]
  },
  {
   "cell_type": "code",
   "execution_count": 117,
   "metadata": {
    "collapsed": false
   },
   "outputs": [
    {
     "name": "stdout",
     "output_type": "stream",
     "text": [
      "[ 0.8  0.6  0.5]\n",
      "0.633333333333\n"
     ]
    },
    {
     "name": "stderr",
     "output_type": "stream",
     "text": [
      "[Parallel(n_jobs=1)]: Done   3 out of   3 | elapsed:    0.1s finished\n"
     ]
    }
   ],
   "source": [
    "# all that above would be the same as this:\n",
    "\n",
    "# NOTE: due to random sampling, this is not guaranteed to get the same CV accuracy\n",
    "# as my implementation above.\n",
    "dtc = DecisionTreeClassifier(max_depth=None)\n",
    "bag = BaggingClassifier(dtc, n_estimators=11, max_samples=0.5, max_features=0.66)\n",
    "scores = cross_val_score(bag, X.values, Y, verbose=1)\n",
    "print scores\n",
    "print np.mean(scores)"
   ]
  },
  {
   "cell_type": "code",
   "execution_count": null,
   "metadata": {
    "collapsed": true
   },
   "outputs": [],
   "source": []
  },
  {
   "cell_type": "code",
   "execution_count": null,
   "metadata": {
    "collapsed": true
   },
   "outputs": [],
   "source": []
  },
  {
   "cell_type": "code",
   "execution_count": null,
   "metadata": {
    "collapsed": true
   },
   "outputs": [],
   "source": []
  }
 ],
 "metadata": {
  "kernelspec": {
   "display_name": "Python 2",
   "language": "python",
   "name": "python2"
  },
  "language_info": {
   "codemirror_mode": {
    "name": "ipython",
    "version": 2
   },
   "file_extension": ".py",
   "mimetype": "text/x-python",
   "name": "python",
   "nbconvert_exporter": "python",
   "pygments_lexer": "ipython2",
   "version": "2.7.11"
  }
 },
 "nbformat": 4,
 "nbformat_minor": 0
}
