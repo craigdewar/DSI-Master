{
 "cells": [
  {
   "cell_type": "markdown",
   "metadata": {},
   "source": [
    "# Bagging codealong\n",
    "\n",
    "We will be looking at a dataset of San Francisco crime rates. Specifically, we will be predicting the **type of crime based on other information about the crime**.\n",
    "\n",
    "I munged/cleaned this [from the full kaggle dataset](https://www.kaggle.com/c/sf-crime).\n",
    "\n",
    "---"
   ]
  },
  {
   "cell_type": "markdown",
   "metadata": {},
   "source": [
    "### Crime dataset\n",
    "\n",
    "There are 4 datasets in the data folder. The `*_mini_*` csv files are reduced to be small, for speed. We will be using these in the codealong. However, if you're interested, the `*_subset_*` csvs are a larger sample you could use to test your models.\n",
    "\n",
    "The `*_cats.csv` files contain 36 various predictors.\n",
    "\n",
    "    ../assets/datasets/sf_crime_mini_cats.csv\n",
    "    ../assets/datasets/sf_crime_subset_cats.csv\n",
    "    \n",
    "The `*_adds.csv` files contain many more predictors. CountVectorizer was used to create columns based on the reported address of the crime, providing more granular, categorical location information.\n",
    "    \n",
    "    ../assets/datasets/sf_crime_mini_adds.csv\n",
    "    ../assets/datasets/sf_crime_subset_adds.csv\n",
    "    \n",
    "---\n",
    "\n",
    "The columns (not including the NLP street columns in the `adds` csvs) are:\n",
    "\n",
    "    crime_category\n",
    "    crime\n",
    "    DayOfWeek[Friday]\n",
    "    DayOfWeek[Monday]\n",
    "    DayOfWeek[Saturday]\n",
    "    DayOfWeek[Sunday]\n",
    "    DayOfWeek[Thursday]\n",
    "    DayOfWeek[Tuesday]\n",
    "    DayOfWeek[Wednesday]\n",
    "    PdDistrict[T.CENTRAL]\n",
    "    PdDistrict[T.INGLESIDE]\n",
    "    PdDistrict[T.MISSION]\n",
    "    PdDistrict[T.NORTHERN]\n",
    "    PdDistrict[T.PARK]\n",
    "    PdDistrict[T.RICHMOND]\n",
    "    PdDistrict[T.SOUTHERN]\n",
    "    PdDistrict[T.TARAVAL]\n",
    "    PdDistrict[T.TENDERLOIN]\n",
    "    month[T.August]\n",
    "    month[T.December]\n",
    "    month[T.February]\n",
    "    month[T.January]\n",
    "    month[T.July]\n",
    "    month[T.June]\n",
    "    month[T.March]\n",
    "    month[T.May]\n",
    "    month[T.November]\n",
    "    month[T.October]\n",
    "    month[T.September]\n",
    "    time_of_day[T.early_morning]\n",
    "    time_of_day[T.evening]\n",
    "    time_of_day[T.late_morning]\n",
    "    time_of_day[T.mid_day]\n",
    "    time_of_day[T.mid_night]\n",
    "    time_of_day[T.morning]\n",
    "    time_of_day[T.night]\n",
    "    longitude_centered\n",
    "    latitude_centered\n",
    "    \n",
    "**NOTES**:\n",
    "- **crime** is the string label of the crime committed\n",
    "- **crime_label** is the numeric code associated with the crime category (target classification variable)\n",
    "- **time_of_day** categories are defined as:\n",
    "\n",
    "```\n",
    "    early_morning --> 2am to 5am\n",
    "    morning       --> 5am to 8am\n",
    "    late_morning  --> 8am to 11am\n",
    "    mid_day       --> 11am to 2pm\n",
    "    afternoon     --> 2pm to 5pm [reference category: part of the intercept]\n",
    "    evening       --> 5pm to 8pm\n",
    "    night         --> 8pm to 11pm\n",
    "    mid_night     --> 11pm to 2am\n",
    "```"
   ]
  },
  {
   "cell_type": "markdown",
   "metadata": {},
   "source": [
    "---\n",
    "\n",
    "### 1. Load and examine data"
   ]
  },
  {
   "cell_type": "code",
   "execution_count": 1,
   "metadata": {
    "collapsed": false
   },
   "outputs": [
    {
     "name": "stdout",
     "output_type": "stream",
     "text": [
      "stolen_property                250\n",
      "weapon_laws                    250\n",
      "burglary                       250\n",
      "suspicious_occ                 250\n",
      "larceny_theft                  250\n",
      "drug_narcotic                  250\n",
      "sex_offenses_forcible          250\n",
      "vandalism                      250\n",
      "kidnapping                     250\n",
      "missing_person                 250\n",
      "forgery_counterfeiting         250\n",
      "robbery                        250\n",
      "arson                          250\n",
      "vehicle_theft                  250\n",
      "driving_under_the_influence    250\n",
      "disorderly_conduct             250\n",
      "warrants                       250\n",
      "drunkenness                    250\n",
      "fraud                          250\n",
      "loitering                      250\n",
      "prostitution                   250\n",
      "assault                        250\n",
      "trespass                       250\n",
      "Name: crime, dtype: int64\n"
     ]
    }
   ],
   "source": [
    "datapath = '../assets/datasets/sf_crime_mini_cats.csv'\n",
    "\n",
    "import pandas as pd\n",
    "import numpy as np\n",
    "\n",
    "sf = pd.read_csv(datapath)\n",
    "\n",
    "print sf.crime.value_counts()"
   ]
  },
  {
   "cell_type": "code",
   "execution_count": 3,
   "metadata": {
    "collapsed": false
   },
   "outputs": [
    {
     "name": "stdout",
     "output_type": "stream",
     "text": [
      "0.0434782608696\n"
     ]
    }
   ],
   "source": [
    "baseline_acc = 1./len(sf.crime.unique())\n",
    "print baseline_acc"
   ]
  },
  {
   "cell_type": "code",
   "execution_count": 4,
   "metadata": {
    "collapsed": false
   },
   "outputs": [
    {
     "data": {
      "text/html": [
       "<div>\n",
       "<table border=\"1\" class=\"dataframe\">\n",
       "  <thead>\n",
       "    <tr style=\"text-align: right;\">\n",
       "      <th></th>\n",
       "      <th>crime_category</th>\n",
       "      <th>crime</th>\n",
       "      <th>DayOfWeek[Friday]</th>\n",
       "      <th>DayOfWeek[Monday]</th>\n",
       "      <th>DayOfWeek[Saturday]</th>\n",
       "      <th>DayOfWeek[Sunday]</th>\n",
       "      <th>DayOfWeek[Thursday]</th>\n",
       "      <th>DayOfWeek[Tuesday]</th>\n",
       "      <th>DayOfWeek[Wednesday]</th>\n",
       "      <th>PdDistrict[T.CENTRAL]</th>\n",
       "      <th>...</th>\n",
       "      <th>month[T.September]</th>\n",
       "      <th>time_of_day[T.early_morning]</th>\n",
       "      <th>time_of_day[T.evening]</th>\n",
       "      <th>time_of_day[T.late_morning]</th>\n",
       "      <th>time_of_day[T.mid_day]</th>\n",
       "      <th>time_of_day[T.mid_night]</th>\n",
       "      <th>time_of_day[T.morning]</th>\n",
       "      <th>time_of_day[T.night]</th>\n",
       "      <th>longitude_centered</th>\n",
       "      <th>latitude_centered</th>\n",
       "    </tr>\n",
       "  </thead>\n",
       "  <tbody>\n",
       "    <tr>\n",
       "      <th>0</th>\n",
       "      <td>0</td>\n",
       "      <td>arson</td>\n",
       "      <td>0.0</td>\n",
       "      <td>0.0</td>\n",
       "      <td>0.0</td>\n",
       "      <td>1.0</td>\n",
       "      <td>0.0</td>\n",
       "      <td>0.0</td>\n",
       "      <td>0.0</td>\n",
       "      <td>0.0</td>\n",
       "      <td>...</td>\n",
       "      <td>0.0</td>\n",
       "      <td>1.0</td>\n",
       "      <td>0.0</td>\n",
       "      <td>0.0</td>\n",
       "      <td>0.0</td>\n",
       "      <td>0.0</td>\n",
       "      <td>0.0</td>\n",
       "      <td>0.0</td>\n",
       "      <td>0.011674</td>\n",
       "      <td>-0.052062</td>\n",
       "    </tr>\n",
       "    <tr>\n",
       "      <th>1</th>\n",
       "      <td>0</td>\n",
       "      <td>arson</td>\n",
       "      <td>0.0</td>\n",
       "      <td>0.0</td>\n",
       "      <td>0.0</td>\n",
       "      <td>0.0</td>\n",
       "      <td>0.0</td>\n",
       "      <td>1.0</td>\n",
       "      <td>0.0</td>\n",
       "      <td>0.0</td>\n",
       "      <td>...</td>\n",
       "      <td>0.0</td>\n",
       "      <td>0.0</td>\n",
       "      <td>0.0</td>\n",
       "      <td>0.0</td>\n",
       "      <td>0.0</td>\n",
       "      <td>0.0</td>\n",
       "      <td>0.0</td>\n",
       "      <td>1.0</td>\n",
       "      <td>0.010874</td>\n",
       "      <td>0.014868</td>\n",
       "    </tr>\n",
       "    <tr>\n",
       "      <th>2</th>\n",
       "      <td>0</td>\n",
       "      <td>arson</td>\n",
       "      <td>0.0</td>\n",
       "      <td>0.0</td>\n",
       "      <td>1.0</td>\n",
       "      <td>0.0</td>\n",
       "      <td>0.0</td>\n",
       "      <td>0.0</td>\n",
       "      <td>0.0</td>\n",
       "      <td>0.0</td>\n",
       "      <td>...</td>\n",
       "      <td>0.0</td>\n",
       "      <td>0.0</td>\n",
       "      <td>0.0</td>\n",
       "      <td>0.0</td>\n",
       "      <td>0.0</td>\n",
       "      <td>1.0</td>\n",
       "      <td>0.0</td>\n",
       "      <td>0.0</td>\n",
       "      <td>0.005531</td>\n",
       "      <td>0.014195</td>\n",
       "    </tr>\n",
       "    <tr>\n",
       "      <th>3</th>\n",
       "      <td>0</td>\n",
       "      <td>arson</td>\n",
       "      <td>0.0</td>\n",
       "      <td>0.0</td>\n",
       "      <td>0.0</td>\n",
       "      <td>0.0</td>\n",
       "      <td>0.0</td>\n",
       "      <td>0.0</td>\n",
       "      <td>1.0</td>\n",
       "      <td>0.0</td>\n",
       "      <td>...</td>\n",
       "      <td>0.0</td>\n",
       "      <td>0.0</td>\n",
       "      <td>1.0</td>\n",
       "      <td>0.0</td>\n",
       "      <td>0.0</td>\n",
       "      <td>0.0</td>\n",
       "      <td>0.0</td>\n",
       "      <td>0.0</td>\n",
       "      <td>0.026991</td>\n",
       "      <td>-0.012642</td>\n",
       "    </tr>\n",
       "    <tr>\n",
       "      <th>4</th>\n",
       "      <td>0</td>\n",
       "      <td>arson</td>\n",
       "      <td>0.0</td>\n",
       "      <td>0.0</td>\n",
       "      <td>0.0</td>\n",
       "      <td>0.0</td>\n",
       "      <td>0.0</td>\n",
       "      <td>1.0</td>\n",
       "      <td>0.0</td>\n",
       "      <td>0.0</td>\n",
       "      <td>...</td>\n",
       "      <td>0.0</td>\n",
       "      <td>0.0</td>\n",
       "      <td>0.0</td>\n",
       "      <td>0.0</td>\n",
       "      <td>0.0</td>\n",
       "      <td>0.0</td>\n",
       "      <td>0.0</td>\n",
       "      <td>1.0</td>\n",
       "      <td>-0.043588</td>\n",
       "      <td>0.001520</td>\n",
       "    </tr>\n",
       "  </tbody>\n",
       "</table>\n",
       "<p>5 rows × 38 columns</p>\n",
       "</div>"
      ],
      "text/plain": [
       "   crime_category  crime  DayOfWeek[Friday]  DayOfWeek[Monday]  \\\n",
       "0               0  arson                0.0                0.0   \n",
       "1               0  arson                0.0                0.0   \n",
       "2               0  arson                0.0                0.0   \n",
       "3               0  arson                0.0                0.0   \n",
       "4               0  arson                0.0                0.0   \n",
       "\n",
       "   DayOfWeek[Saturday]  DayOfWeek[Sunday]  DayOfWeek[Thursday]  \\\n",
       "0                  0.0                1.0                  0.0   \n",
       "1                  0.0                0.0                  0.0   \n",
       "2                  1.0                0.0                  0.0   \n",
       "3                  0.0                0.0                  0.0   \n",
       "4                  0.0                0.0                  0.0   \n",
       "\n",
       "   DayOfWeek[Tuesday]  DayOfWeek[Wednesday]  PdDistrict[T.CENTRAL]  \\\n",
       "0                 0.0                   0.0                    0.0   \n",
       "1                 1.0                   0.0                    0.0   \n",
       "2                 0.0                   0.0                    0.0   \n",
       "3                 0.0                   1.0                    0.0   \n",
       "4                 1.0                   0.0                    0.0   \n",
       "\n",
       "         ...          month[T.September]  time_of_day[T.early_morning]  \\\n",
       "0        ...                         0.0                           1.0   \n",
       "1        ...                         0.0                           0.0   \n",
       "2        ...                         0.0                           0.0   \n",
       "3        ...                         0.0                           0.0   \n",
       "4        ...                         0.0                           0.0   \n",
       "\n",
       "   time_of_day[T.evening]  time_of_day[T.late_morning]  \\\n",
       "0                     0.0                          0.0   \n",
       "1                     0.0                          0.0   \n",
       "2                     0.0                          0.0   \n",
       "3                     1.0                          0.0   \n",
       "4                     0.0                          0.0   \n",
       "\n",
       "   time_of_day[T.mid_day]  time_of_day[T.mid_night]  time_of_day[T.morning]  \\\n",
       "0                     0.0                       0.0                     0.0   \n",
       "1                     0.0                       0.0                     0.0   \n",
       "2                     0.0                       1.0                     0.0   \n",
       "3                     0.0                       0.0                     0.0   \n",
       "4                     0.0                       0.0                     0.0   \n",
       "\n",
       "   time_of_day[T.night]  longitude_centered  latitude_centered  \n",
       "0                   0.0            0.011674          -0.052062  \n",
       "1                   1.0            0.010874           0.014868  \n",
       "2                   0.0            0.005531           0.014195  \n",
       "3                   0.0            0.026991          -0.012642  \n",
       "4                   1.0           -0.043588           0.001520  \n",
       "\n",
       "[5 rows x 38 columns]"
      ]
     },
     "execution_count": 4,
     "metadata": {},
     "output_type": "execute_result"
    }
   ],
   "source": [
    "sf.head()"
   ]
  },
  {
   "cell_type": "markdown",
   "metadata": {},
   "source": [
    "---\n",
    "\n",
    "### 2.1. Predict crime category with (multinomial!) logistic regression"
   ]
  },
  {
   "cell_type": "code",
   "execution_count": 6,
   "metadata": {
    "collapsed": false
   },
   "outputs": [],
   "source": [
    "from sklearn.linear_model import LogisticRegression\n",
    "from sklearn.cross_validation import cross_val_score\n",
    "\n"
   ]
  },
  {
   "cell_type": "code",
   "execution_count": 10,
   "metadata": {
    "collapsed": false
   },
   "outputs": [
    {
     "name": "stdout",
     "output_type": "stream",
     "text": [
      "[ 0.10695652  0.10521739  0.10869565  0.12434783  0.11913043]\n",
      "0.112869565217\n"
     ]
    }
   ],
   "source": [
    "multi_lr = LogisticRegression()\n",
    "\n",
    "X = sf[[x for x in sf.columns if x not in['crime','crime_category']]]\n",
    "X = (X - X.mean()) / X.std()\n",
    "X_col_names = X.columns\n",
    "X = X.values\n",
    "\n",
    "Y = sf['crime_category']\n",
    "\n",
    "scores = cross_val_score(multi_lr, X, Y, cv=5)\n",
    "print scores\n",
    "print np.mean(scores)"
   ]
  },
  {
   "cell_type": "code",
   "execution_count": 11,
   "metadata": {
    "collapsed": false
   },
   "outputs": [
    {
     "name": "stdout",
     "output_type": "stream",
     "text": [
      "23\n",
      "(23, 36)\n"
     ]
    }
   ],
   "source": [
    "multi_lr.fit(X, Y)\n",
    "\n",
    "\n",
    "print len(sf.crime.unique())\n",
    "\n",
    "print multi_lr.coef_.shape\n"
   ]
  },
  {
   "cell_type": "code",
   "execution_count": null,
   "metadata": {
    "collapsed": true
   },
   "outputs": [],
   "source": [
    "#coefs = multi_lr.coef_\n",
    "\n",
    "#mean_abs_val_coef = \n"
   ]
  },
  {
   "cell_type": "markdown",
   "metadata": {},
   "source": [
    "---\n",
    "\n",
    "### 2.2. Look at accuracy precision, and area under precision-recall curve for model\n",
    "\n",
    "Compare accuracy to the chance rate."
   ]
  },
  {
   "cell_type": "code",
   "execution_count": null,
   "metadata": {
    "collapsed": true
   },
   "outputs": [],
   "source": []
  },
  {
   "cell_type": "code",
   "execution_count": null,
   "metadata": {
    "collapsed": true
   },
   "outputs": [],
   "source": []
  },
  {
   "cell_type": "markdown",
   "metadata": {},
   "source": [
    "---\n",
    "\n",
    "### 2.3. Look at area under ROC curve metric\n",
    "\n",
    "[The area measures discrimination, that is, the ability of the test to correctly classify those with and without the disease.](http://gim.unmc.edu/dxtests/roc3.htm)\n",
    "\n",
    "[BONUS] Plot the curve."
   ]
  },
  {
   "cell_type": "code",
   "execution_count": null,
   "metadata": {
    "collapsed": true
   },
   "outputs": [],
   "source": []
  },
  {
   "cell_type": "markdown",
   "metadata": {},
   "source": [
    "---\n",
    "\n",
    "### 2.4. Look at the precision and area under precision-recall curve\n",
    "\n",
    "[High scores for both show that the classifier is returning accurate results (high precision), as well as returning a majority of all positive results (high recall).](http://scikit-learn.org/stable/auto_examples/model_selection/plot_precision_recall.html) "
   ]
  },
  {
   "cell_type": "code",
   "execution_count": null,
   "metadata": {
    "collapsed": true
   },
   "outputs": [],
   "source": []
  },
  {
   "cell_type": "markdown",
   "metadata": {},
   "source": [
    "---\n",
    "\n",
    "### 3.1. Gridsearch best parameters for a logistic regression"
   ]
  },
  {
   "cell_type": "code",
   "execution_count": null,
   "metadata": {
    "collapsed": true
   },
   "outputs": [],
   "source": []
  },
  {
   "cell_type": "markdown",
   "metadata": {},
   "source": [
    "---\n",
    "\n",
    "### 3.2. Examine accuracy, area under ROC, and area under precision-recall curve for \"optimal\" model"
   ]
  },
  {
   "cell_type": "code",
   "execution_count": null,
   "metadata": {
    "collapsed": true
   },
   "outputs": [],
   "source": []
  },
  {
   "cell_type": "markdown",
   "metadata": {},
   "source": [
    "---\n",
    "\n",
    "### 4. Gridsearch and examine metrics for optimal classification trees"
   ]
  },
  {
   "cell_type": "code",
   "execution_count": null,
   "metadata": {
    "collapsed": true
   },
   "outputs": [],
   "source": []
  },
  {
   "cell_type": "markdown",
   "metadata": {},
   "source": [
    "---\n",
    "\n",
    "### 5.1. Build a bagging blassifier with optimal decision trees\n",
    "\n",
    "[BaggingClassifier documentation](http://scikit-learn.org/stable/modules/generated/sklearn.ensemble.BaggingClassifier.html#sklearn.ensemble.BaggingClassifier)\n",
    "\n",
    "[BaggingRegressor documentation](http://scikit-learn.org/stable/modules/generated/sklearn.ensemble.BaggingRegressor.html)"
   ]
  },
  {
   "cell_type": "code",
   "execution_count": 12,
   "metadata": {
    "collapsed": true
   },
   "outputs": [],
   "source": [
    "from sklearn.tree import DecisionTreeClassifier\n",
    "from sklearn.ensemble import BaggingClassifier"
   ]
  },
  {
   "cell_type": "code",
   "execution_count": 16,
   "metadata": {
    "collapsed": false
   },
   "outputs": [
    {
     "data": {
      "text/plain": [
       "(5750, 36)"
      ]
     },
     "execution_count": 16,
     "metadata": {},
     "output_type": "execute_result"
    }
   ],
   "source": [
    "X.shape"
   ]
  },
  {
   "cell_type": "code",
   "execution_count": 17,
   "metadata": {
    "collapsed": true
   },
   "outputs": [],
   "source": [
    "from sklearn.grid_search import GridSearchCV\n",
    "\n",
    "params = {\n",
    "    'n_estimators':[50,100,250,500],\n",
    "    'max_samples':[0.25, 0.5, 0.75, 1.0],\n",
    "    'max_features':[0.25, 0.5, 0.75, 1.0]\n",
    "}\n",
    "\n"
   ]
  },
  {
   "cell_type": "code",
   "execution_count": 19,
   "metadata": {
    "collapsed": false
   },
   "outputs": [
    {
     "name": "stdout",
     "output_type": "stream",
     "text": [
      "Fitting 5 folds for each of 64 candidates, totalling 320 fits\n"
     ]
    },
    {
     "name": "stderr",
     "output_type": "stream",
     "text": [
      "[Parallel(n_jobs=-1)]: Done  42 tasks      | elapsed:   21.3s\n",
      "[Parallel(n_jobs=-1)]: Done 192 tasks      | elapsed:  2.9min\n",
      "[Parallel(n_jobs=-1)]: Done 320 out of 320 | elapsed:  7.3min finished\n"
     ]
    },
    {
     "name": "stdout",
     "output_type": "stream",
     "text": [
      "{'max_features': 0.75, 'max_samples': 0.25, 'n_estimators': 500}\n",
      "0.167130434783\n"
     ]
    }
   ],
   "source": [
    "dtc = DecisionTreeClassifier(max_depth=None)\n",
    "\n",
    "bag = BaggingClassifier(dtc)\n",
    "\n",
    "gs = GridSearchCV(bag, params, cv=5, verbose=1, n_jobs=-1)\n",
    "\n",
    "gs.fit(X, Y)\n",
    "\n",
    "print gs.best_params_\n",
    "print gs.best_score_\n",
    "\n",
    "best_bag = gs.best_estimator_\n",
    "\n",
    "#bag_scores = cross_val_score(bag, X, Y, cv=5)\n",
    "\n",
    "#print bag_scores\n",
    "#print np.mean(bag_scores)"
   ]
  },
  {
   "cell_type": "markdown",
   "metadata": {},
   "source": [
    "---\n",
    "\n",
    "### 5.2. Examine metrics for bagging classifier"
   ]
  },
  {
   "cell_type": "code",
   "execution_count": null,
   "metadata": {
    "collapsed": true
   },
   "outputs": [],
   "source": []
  },
  {
   "cell_type": "markdown",
   "metadata": {},
   "source": [
    "---\n",
    "\n",
    "### 6.1. Do the above with the random forest class\n",
    "\n",
    "[RandomForestClassifier documentation](http://scikit-learn.org/stable/modules/generated/sklearn.ensemble.RandomForestClassifier.html#sklearn.ensemble.RandomForestClassifier)\n",
    "\n",
    "[RandomForestClassifier documentation](http://scikit-learn.org/stable/modules/generated/sklearn.ensemble.RandomForestRegressor.html#sklearn.ensemble.RandomForestRegressor)"
   ]
  },
  {
   "cell_type": "code",
   "execution_count": null,
   "metadata": {
    "collapsed": true
   },
   "outputs": [],
   "source": []
  },
  {
   "cell_type": "markdown",
   "metadata": {},
   "source": [
    "---\n",
    "\n",
    "### 6.2. Examine feature importances from random forest model"
   ]
  },
  {
   "cell_type": "code",
   "execution_count": null,
   "metadata": {
    "collapsed": true
   },
   "outputs": [],
   "source": []
  },
  {
   "cell_type": "markdown",
   "metadata": {},
   "source": [
    "---\n",
    "\n",
    "### 7. [BONUS IF TIME] Do the above for bagging classifier but with logistic regression "
   ]
  },
  {
   "cell_type": "code",
   "execution_count": null,
   "metadata": {
    "collapsed": true
   },
   "outputs": [],
   "source": []
  }
 ],
 "metadata": {
  "kernelspec": {
   "display_name": "Python 2",
   "language": "python",
   "name": "python2"
  },
  "language_info": {
   "codemirror_mode": {
    "name": "ipython",
    "version": 2
   },
   "file_extension": ".py",
   "mimetype": "text/x-python",
   "name": "python",
   "nbconvert_exporter": "python",
   "pygments_lexer": "ipython2",
   "version": "2.7.11"
  }
 },
 "nbformat": 4,
 "nbformat_minor": 0
}
