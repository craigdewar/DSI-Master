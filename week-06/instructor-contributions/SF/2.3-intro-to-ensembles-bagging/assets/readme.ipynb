{
 "cells": [
  {
   "cell_type": "markdown",
   "metadata": {},
   "source": [
    "---\n",
    "title: Ensemble Methods - Decision Trees and Bagging\n",
    "duration: \"1:25\"\n",
    "creator:\n",
    "    name: Francesco Mosconi\n",
    "    city: SF\n",
    "---"
   ]
  },
  {
   "cell_type": "markdown",
   "metadata": {},
   "source": [
    "# ![](https://ga-dash.s3.amazonaws.com/production/assets/logo-9f88ae6c9c3871690e33280fcf557f33.png) Ensemble Methods - Decision Trees and Bagging\n",
    "Week 6| Lesson 2.3"
   ]
  },
  {
   "cell_type": "markdown",
   "metadata": {},
   "source": [
    "### LEARNING OBJECTIVES\n",
    "*After this lesson, you will be able to:*\n",
    "- Explain the power of using ensemble classifiers\n",
    "- Know the difference between a base classifier and an ensemble classifier\n",
    "- Describe how bagging works\n",
    "- Use the bagging classifier in scikit-learn"
   ]
  },
  {
   "cell_type": "markdown",
   "metadata": {},
   "source": [
    "### STUDENT PRE-WORK\n",
    "*Before this lesson, you should already be able to:*\n",
    "- perform a classification\n",
    "- use label encoder\n",
    "- use cross validation to evaluate model performance"
   ]
  },
  {
   "cell_type": "markdown",
   "metadata": {},
   "source": [
    "### INSTRUCTOR PREP\n",
    "*Before this lesson, instructors will need to:*\n",
    "- Read in / Review any dataset(s) & starter/solution code\n",
    "- Generate a brief slide deck\n",
    "- Prepare any specific materials\n",
    "- Provide students with additional resources"
   ]
  },
  {
   "cell_type": "markdown",
   "metadata": {},
   "source": [
    "### LESSON GUIDE\n"
   ]
  },
  {
   "cell_type": "markdown",
   "metadata": {},
   "source": [
    "<a name=\"opening\"></a>\n",
    "## Opening (10 min)\n",
    "In the previous lectures we learned about Decision Trees, APIs and SQL Joins: many different techniques that combined together give us powerful tools to analyze and process data. Today we will learn about ensemble techinques: ways to combine different models in order to obtain a more powerful model.\n",
    "\n",
    "Before we dive into the subject, let's recap a few things learned so far:\n",
    "\n",
    "**Check:** What classifiers have we learned about so far? Which one is your favourite?\n",
    "> KNN, Logistic Regression, Decision Trees, Support Vector Machines\n",
    "\n",
    "**Check:** How did we assess the \"goodness\" of a particular model?\n",
    "> Cross validation, various scores...\n",
    "\n",
    "**Check:** Any idea on how we could improve the performance of a model?\n",
    "> Mixing more models\n"
   ]
  },
  {
   "cell_type": "markdown",
   "metadata": {},
   "source": [
    "<a name=\"introduction\"></a>\n",
    "## Introduction: Ensemble Techniques (30 min)\n",
    "\n",
    "\n",
    "### Ensembles\n",
    "Ensemble techniques are supervised learning methods to improve predictive accuracy by combining several base models in order to enlarge the space of possible hypothesis to represent our data. Ensembles are often much more accurate than the base classifiers that compose them.\n",
    "\n",
    "**Check:** Short discussion:\n",
    "- when this might be useful? \n",
    "- can you think of a business case where we may want to get a very very accurate model (despite it being more complex)\n",
    "> Answer: for example when lives are at stake or the outcome of an error is very costly:\n",
    "    - medical data models\n",
    "    - failure in airplane engines\n",
    "    - etc.\n",
    "\n",
    "Two families of ensemble methods are usually distinguished:\n",
    "\n",
    "- In averaging methods, the driving principle is to build several estimators independently and then to average their predictions. On average, the combined estimator is usually better than any of the single base estimator because its variance is reduced.\n",
    "\n",
    "Examples of this family include Bagging methods and Random Forest.\n",
    "\n",
    "\n",
    "- The other family of ensemble methods are boosting methods, where base estimators are built sequentially and one tries to reduce the bias of the combined estimator. The motivation is to combine several weak models to produce a powerful ensemble. We will discuss these in a future lecture.\n",
    "\n",
    "Examples of this family include AdaBoost and Gradient Tree Boosting.\n",
    "\n",
    "\n",
    "![Ensemble](./assets/images/Ensemble.png)\n",
    "\n",
    "\n",
    "### The Hypotesis space\n",
    "\n",
    "In any supervised learning task, our goal is to make predictions of the true classification function $f$ by learning the classifier $h$. In other words we are searching in a certain hypothesis space for the most appropriate function to describe the relationship between our features and the target.\n",
    "\n",
    "**Check:** Can you give an example of how this search is performed using one of the classifiers you know?\n",
    "> Answer: e.g. in logistic regression we have a space of all possible logistic functions. The best hypothesis is found by choosing the value of the parameters that maximize the accuracy of predictions.\n",
    "\n",
    "**Check:** What reasons could be preventing our hypothesis to reach perfect score?\n",
    "> Answer: the problems below\n",
    "\n",
    "There could be several reasons why a base classifier doesn't perform terribly well in trying to approximate the true classification function. These are of three types:\n",
    "- statistical problem\n",
    "- computational problem\n",
    "- representational problem\n",
    "\n",
    "\n",
    "#### The statistical problem\n",
    "If the amount of training data available is small, the base classifier will have difficulty converging to $h$.\n",
    "\n",
    "An ensemble classifier can mitigate this problem by \"averaging out\" base classifier predictions to improve convergence. This can be pictorially represented as a search in a space where multiple partial perspectives are combined to obtain a better picture of the goal.\n",
    "\n",
    "![Statistical Problem](./assets/images/statistical.png)\n",
    "\n",
    "(source: http://www.cs.iastate.edu/~jtian/cs573/Papers/Dietterich-ensemble-00.pdf)\n",
    "\n",
    "The true function $f$ is best approximated as an average of the base classifiers.\n",
    "\n",
    "**Check:** How would you re-phrase the statistical problem?\n",
    "\n",
    "#### The computational Problem\n",
    "Even with sufficient training data, it may still be computationally difficult to find the best classifier $h$.\n",
    "\n",
    "For example, if our base classifier is a decision tree, an exhaustive search of the hypothesis space of all possible classifiers is extremely complex (NP-complete).\n",
    "\n",
    "In fact this is why we used a heuristic algorithm (greedy search).\n",
    "\n",
    "An ensemble composed of several _Base Classifiers_’s with different starting points can provide a better approximation to $f$ than any individual _Base Classifiers_.\n",
    "\n",
    "![Computational Problem](./assets/images/computational.png)\n",
    "\n",
    "The true function $f$ is often best approximated by using several starting points to explore the hypothesis space.\n",
    "\n",
    "**Check:** How would you re-phrase the computational problem?\n",
    "\n",
    "#### The representational Problem\n",
    "Sometimes $f$ cannot be expressed in terms of our hypothesis at all. To illustrate this, suppose we use a decision tree as our base classifier. A decision tree works by forming a rectilinear partition of the feature space, i.e it always cuts at a fixed value along a feature.\n",
    "\n",
    "![Decision Tree boundary](./assets/images/dtcut.png)\n",
    "\n",
    "But what if $f$ is a diagonal line?\n",
    "\n",
    "Then it cannot be represented by finitely many rectilinear segments, and therefore the true decision boundary cannot be obtained by a decision tree classifier.\n",
    "\n",
    "However, it may be still be possible to approximate $f$ or even to expand the space of representable functions using ensemble methods.\n",
    "\n",
    "![Representational Problem](./assets/images/representational.png)\n",
    "\n",
    "**Check:** How would you re-phrase the representational problem?\n",
    "\n",
    "### Characteristics of Ensemble methods\n",
    "\n",
    "In order for an ensemble classifier to outperform a single base classifier, the following conditions must be met:\n",
    "\n",
    "- **accuracy**: base classifiers outperform random guessing\n",
    "- **diversity**: misclassifications must occur on different training examples\n",
    "\n",
    "**Check:** What base classifiers would you combine to have different perspectives?\n",
    "\n",
    "\n",
    "![Ensemble performance](./assets/images/ensemble_performance.png)\n"
   ]
  },
  {
   "cell_type": "markdown",
   "metadata": {},
   "source": [
    "<a name=\"guided-practice\"></a>\n",
    "## Guided Practice: Find real world uses of ensemble methods (20 min)\n",
    "\n",
    "There are many examples of real-world uses of ensemble methods, the most famous one probably being the Netflix prize.\n",
    "\n",
    "In small groups of 3-4 people look for one or two real world applications of ensemble methods and then choose your favourite one to report to the class.\n",
    "\n",
    "Here are some sources to start your search:\n",
    "\n",
    "- [Kaggle comptetitions](https://www.kaggle.com/competitions)\n",
    "- [Review Paper](http://www.sciencedirect.com/science/article/pii/S1566253507000620)\n",
    "- [KDNuggets article 1](http://www.kdnuggets.com/2016/02/ensemble-methods-techniques-produce-improved-machine-learning.html)\n",
    "- [KDNuggets article 2](http://www.kdnuggets.com/faq/simple-data-mining-case-study.html)\n",
    "- [Ensemble Methods book](http://www.amazon.com/dp/1608452840)\n",
    "\n",
    "> Instructor Note: leave 10 minutes for the search and 10 minutes for sharing in class"
   ]
  },
  {
   "cell_type": "markdown",
   "metadata": {},
   "source": [
    "<a name=\"introduction_2\"></a>\n",
    "## Introduction: Bagging (10 min)\n",
    "\n",
    "_Bagging or bootstrap aggregating_ is a method that involves manipulating the training set by resampling. We learn $k$ base classifiers on $k$ different samples of training data.  These samples are independently created by resampling the training data using uniform weights (eg, a uniform sampling distribution). In other words each model in the ensemble votes with equal weight. In order to promote model variance, bagging trains each model in the ensemble using a randomly drawn subset of the training set. As an example, the random forest algorithm combines random decision trees with bagging to achieve very high classification accuracy.\n",
    "\n",
    "|Original|1|2|3|4|5|6|7|8|\n",
    "|----|----|----|----|----|----|----|----|----|\n",
    "|Training set 1|2|7|8|3|7|6|3|1|\n",
    "|Training set 2|7|8|5|6|4|2|7|1|\n",
    "|Training set 3|3|6|2|7|5|6|2|2|\n",
    "|Training set 4|4|5|1|4|6|4|3|8|\n",
    "\n",
    "Given a standard training set $D$ of size $n$, bagging generates $m$ new training sets $D_i$, each of size $n′$, by sampling from $D$ uniformly and with replacement. By sampling with replacement, some observations may be repeated in each $D_i$. The $m$ models are fitted using the above $m$ samples and combined by averaging the output (for regression) or voting (for classification).\n",
    "\n",
    "Bagging reduces the variance in our generalization error by aggregating multiple base classifiers together (provided they satisfy our earlier requirements).\n",
    "\n",
    "If the base classifier is stable, then the ensemble error is primarily due to bc bias, and bagging may not be effective.\n",
    "\n",
    "Since each sample of training data is equally likely, bagging is not very susceptible to overfitting with noisy data.\n",
    "\n",
    "As they provide a way to reduce overfitting, bagging methods work best with strong and complex models (e.g., fully developed decision trees), in contrast with boosting methods which usually work best with weak models (e.g., shallow decision trees).\n",
    "\n",
    "**Check:** Can you propose another sample to add to those above? Call out the numbers you would include.\n",
    "> Answer: any subsample of 8 numbers with replacement pulled from the set of digits [1,..,8]."
   ]
  },
  {
   "cell_type": "markdown",
   "metadata": {},
   "source": [
    "<a name=\"demo\"></a>\n",
    "## Demo: Bagging Classifier in Scikit Learn(15 min)\n",
    "In scikit-learn, bagging methods are offered as a unified `BaggingClassifier` meta-estimator (resp. BaggingRegressor), taking as input a user-specified base estimator along with parameters specifying the strategy to draw random subsets. In particular, max_samples and max_features control the size of the subsets (in terms of samples and features), while bootstrap and bootstrap_features control whether samples and features are drawn with or without replacement. When using a subset of the available samples the generalization error can be estimated with the out-of-bag samples by setting oob_score=True.\n",
    "\n",
    "As an example, we will compare the performance of a simple KNN classifier versus the Bagging Classifier on the car acceptability dataset.\n",
    "\n",
    "The first step is to load the data into Pandas. Do it on your own:\n",
    "- import pandas\n",
    "- load the data from a csv file\n",
    "\n",
    "> Solution:\n",
    ">\n",
    "    import pandas as pd\n",
    "    df = pd.read_csv('./assets/datasets/car.csv')"
   ]
  },
  {
   "cell_type": "code",
   "execution_count": 6,
   "metadata": {
    "collapsed": false
   },
   "outputs": [
    {
     "data": {
      "text/html": [
       "<div>\n",
       "<table border=\"1\" class=\"dataframe\">\n",
       "  <thead>\n",
       "    <tr style=\"text-align: right;\">\n",
       "      <th></th>\n",
       "      <th>buying</th>\n",
       "      <th>maint</th>\n",
       "      <th>doors</th>\n",
       "      <th>persons</th>\n",
       "      <th>lug_boot</th>\n",
       "      <th>safety</th>\n",
       "      <th>acceptability</th>\n",
       "    </tr>\n",
       "  </thead>\n",
       "  <tbody>\n",
       "    <tr>\n",
       "      <th>0</th>\n",
       "      <td>vhigh</td>\n",
       "      <td>vhigh</td>\n",
       "      <td>2</td>\n",
       "      <td>2</td>\n",
       "      <td>small</td>\n",
       "      <td>low</td>\n",
       "      <td>unacc</td>\n",
       "    </tr>\n",
       "    <tr>\n",
       "      <th>1</th>\n",
       "      <td>vhigh</td>\n",
       "      <td>vhigh</td>\n",
       "      <td>2</td>\n",
       "      <td>2</td>\n",
       "      <td>small</td>\n",
       "      <td>med</td>\n",
       "      <td>unacc</td>\n",
       "    </tr>\n",
       "    <tr>\n",
       "      <th>2</th>\n",
       "      <td>vhigh</td>\n",
       "      <td>vhigh</td>\n",
       "      <td>2</td>\n",
       "      <td>2</td>\n",
       "      <td>small</td>\n",
       "      <td>high</td>\n",
       "      <td>unacc</td>\n",
       "    </tr>\n",
       "    <tr>\n",
       "      <th>3</th>\n",
       "      <td>vhigh</td>\n",
       "      <td>vhigh</td>\n",
       "      <td>2</td>\n",
       "      <td>2</td>\n",
       "      <td>med</td>\n",
       "      <td>low</td>\n",
       "      <td>unacc</td>\n",
       "    </tr>\n",
       "    <tr>\n",
       "      <th>4</th>\n",
       "      <td>vhigh</td>\n",
       "      <td>vhigh</td>\n",
       "      <td>2</td>\n",
       "      <td>2</td>\n",
       "      <td>med</td>\n",
       "      <td>med</td>\n",
       "      <td>unacc</td>\n",
       "    </tr>\n",
       "  </tbody>\n",
       "</table>\n",
       "</div>"
      ],
      "text/plain": [
       "  buying  maint doors persons lug_boot safety acceptability\n",
       "0  vhigh  vhigh     2       2    small    low         unacc\n",
       "1  vhigh  vhigh     2       2    small    med         unacc\n",
       "2  vhigh  vhigh     2       2    small   high         unacc\n",
       "3  vhigh  vhigh     2       2      med    low         unacc\n",
       "4  vhigh  vhigh     2       2      med    med         unacc"
      ]
     },
     "execution_count": 6,
     "metadata": {},
     "output_type": "execute_result"
    }
   ],
   "source": [
    "df.head()"
   ]
  },
  {
   "cell_type": "markdown",
   "metadata": {},
   "source": [
    "Since most of the features are categorical text we will need to encode them as numbers using the `LabelEncoder`:"
   ]
  },
  {
   "cell_type": "code",
   "execution_count": 7,
   "metadata": {
    "collapsed": true
   },
   "outputs": [],
   "source": [
    "from sklearn.preprocessing import LabelEncoder\n",
    "le = LabelEncoder()\n",
    "features = [c for c in df.columns if c != 'acceptability']\n",
    "for c in df.columns:\n",
    "    df[c] = le.fit_transform(df[c])\n",
    "\n",
    "X = df[features]\n",
    "y = df['acceptability']"
   ]
  },
  {
   "cell_type": "markdown",
   "metadata": {},
   "source": [
    "Notice that we overwrote the original features for simplicity, since we are not interested in doing a study on feature importance.\n",
    "\n",
    "**Check:** is it correct to use the label encoder blindly like this?\n",
    "> Answer: no, it's not correct, because the categorical features have a scale. It would be more appropriet to do one of the following:\n",
    "- either use pd.get_dummies to encode them as binaries\n",
    "- use a map that correctly assigns a numerical scale to the values, e.g. where med > small\n",
    "\n",
    "The next step is to calculate the cross_val_score on the two classifier:"
   ]
  },
  {
   "cell_type": "code",
   "execution_count": 18,
   "metadata": {
    "collapsed": false
   },
   "outputs": [
    {
     "name": "stdout",
     "output_type": "stream",
     "text": [
      "KNN Score:\t0.643070305149\n",
      "Bagging Score:\t0.722795402608\n"
     ]
    }
   ],
   "source": [
    "from sklearn.cross_validation import cross_val_score\n",
    "from sklearn.ensemble import BaggingClassifier\n",
    "from sklearn.neighbors import KNeighborsClassifier\n",
    "\n",
    "knn = KNeighborsClassifier()\n",
    "bagging = BaggingClassifier(knn, max_samples=0.5, max_features=0.5)\n",
    "\n",
    "print \"KNN Score:\\t\", cross_val_score(knn, X, y, cv=5, n_jobs=-1).mean()\n",
    "print \"Bagging Score:\\t\", cross_val_score(bagging, X, y, cv=5, n_jobs=-1).mean()"
   ]
  },
  {
   "cell_type": "markdown",
   "metadata": {},
   "source": [
    "**Check:** Does bagging interfere with grid search? Are we leaking data and thus faking the cross val score?\n",
    "> Answer: We are not leaking data. Bagging acts on the training sample for each fold, so it is not aware of the data in the test fold. You can convince yourself of this by doing a simple train test split"
   ]
  },
  {
   "cell_type": "markdown",
   "metadata": {},
   "source": [
    "### Bagging Classifier details\n",
    "\n",
    "The `BaggingClassifier` meta-estimator has several parameters.\n",
    "\n",
    "**Check:** In pairs, look at the [documentation](http://scikit-learn.org/stable/modules/generated/sklearn.ensemble.BaggingClassifier.html) for a detailed description of each and find out what `max_samples` and `max_features` do.\n",
    "\n",
    "> Answer:\n",
    ">\n",
    "- `max_samples` is the number of samples to draw from X to train each base estimator, can be given as absolute number or fraction of the total\n",
    "- `max_features` is the number of features to draw from X to train each base estimator, can also be given as absolute or fraction."
   ]
  },
  {
   "cell_type": "markdown",
   "metadata": {},
   "source": [
    "<a name=\"ind-practice\"></a>\n",
    "## Independent Practice (10 min)\n",
    "\n",
    "Take a dataset of your choice and practice comparing the score of a base classifier with the bagging classifier. Explore also the effect of changing one or more parameters.\n",
    "\n",
    "For example could use one of the dataset of the `week5/5.2-lab` or any other dataset of your choice."
   ]
  },
  {
   "cell_type": "markdown",
   "metadata": {},
   "source": [
    "<a name=\"conclusion\"></a>\n",
    "## Conclusion (5 min)\n",
    "\n",
    "Today we have learned about Ensemble Models and Bagging Classifier. We have learned how they improve the performance of individual base models thanks to their better ability to approximate the real prediction function in a supervised learning problem.\n",
    "\n",
    "**Check:** Which of the 3 problems does a bagging classifier solve?\n",
    "> Answer: all three"
   ]
  },
  {
   "cell_type": "markdown",
   "metadata": {},
   "source": [
    "### ADDITIONAL RESOURCES\n",
    "\n",
    "- [Ensemble models on wikipedia](https://en.wikipedia.org/wiki/Ensemble_learning)\n",
    "- [Bagging on wikipedia](https://en.wikipedia.org/wiki/Bootstrap_aggregating)\n",
    "- [Ensemble methods on Scikit Learn](http://scikit-learn.org/stable/modules/ensemble.html)\n",
    "- [Bagging Classifier documentation](http://scikit-learn.org/stable/modules/generated/sklearn.ensemble.BaggingClassifier.html)\n",
    "- [Bias Varias Decomposition Scikit Learn Example](http://scikit-learn.org/stable/auto_examples/ensemble/plot_bias_variance.html#example-ensemble-plot-bias-variance-py)"
   ]
  }
 ],
 "metadata": {
  "kernelspec": {
   "display_name": "Python 2",
   "language": "python",
   "name": "python2"
  },
  "language_info": {
   "codemirror_mode": {
    "name": "ipython",
    "version": 2
   },
   "file_extension": ".py",
   "mimetype": "text/x-python",
   "name": "python",
   "nbconvert_exporter": "python",
   "pygments_lexer": "ipython2",
   "version": "2.7.11"
  }
 },
 "nbformat": 4,
 "nbformat_minor": 0
}
