{
 "cells": [
  {
   "cell_type": "markdown",
   "metadata": {},
   "source": [
    "# Bagging and Boosting Lab\n",
    "\n",
    "In this lab we will practice using Random Forest Regressor and Boosted Trees Regressor on the SF health code violation data.\n",
    "\n",
    "---"
   ]
  },
  {
   "cell_type": "markdown",
   "metadata": {},
   "source": [
    "## 1. Load and inspect the data\n",
    "\n",
    "In the [asset folder](../../assets/datasets/violations_words.csv) you can find the dataset of SF health code violations and inspections.\n",
    "\n",
    "There are many columns in this dataset, many of which you will not want/need to use!\n",
    "\n",
    "**NOTE: the back 373 columns are word appearances from CountVectorizer derived from the inspection/violation description.**\n",
    "\n",
    "---\n",
    "\n",
    "We will be training several classification and regression models. For classification, you can choose to predict:\n",
    "\n",
    "    neighborhood   :  the neighborhood of the business recieving the inspection/violation\n",
    "    score_code     :  health code score category\n",
    "    zip code       :  zip code the business is in\n",
    "\n",
    "For the regression problem, you will predict either:\n",
    "\n",
    "    score          :  the recieved health code score\n",
    "\n",
    "**OR [BONUS]**: aggregate the total number of violations by `neighborhood` (using groupby). If you choose to use this as your dependent for regression, you must *adjust this count for number of businesses and population in the neighborhood!*\n",
    "\n",
    "---\n",
    "\n",
    "### 1.1 Inspect the data and create your X, Y data for the classification and regression problems\n"
   ]
  },
  {
   "cell_type": "code",
   "execution_count": 1,
   "metadata": {
    "collapsed": false
   },
   "outputs": [],
   "source": [
    "import pandas as pd\n",
    "import numpy as np\n",
    "import patsy\n",
    "\n",
    "import matplotlib.pyplot as plt\n",
    "import seaborn as sns\n",
    "%matplotlib inline"
   ]
  },
  {
   "cell_type": "code",
   "execution_count": null,
   "metadata": {
    "collapsed": false
   },
   "outputs": [],
   "source": []
  },
  {
   "cell_type": "markdown",
   "metadata": {},
   "source": [
    "---\n",
    "\n",
    "### 2. Decision Tree Regressor\n",
    "\n",
    "1. Train a decision tree regressor on the regression problem\n",
    "- Evaluate the score with a 5-fold cross-validation\n",
    "- Make a scatter plot of the predicted vs actual scores for each of the 5 folds, do they match?\n"
   ]
  },
  {
   "cell_type": "code",
   "execution_count": null,
   "metadata": {
    "collapsed": false
   },
   "outputs": [],
   "source": []
  },
  {
   "cell_type": "markdown",
   "metadata": {},
   "source": [
    "---\n",
    "\n",
    "### 3. Random Forest Regressor\n",
    "\n",
    "1. Train a random forest regressor on the regression problem and predict your dependent.\n",
    "- Evaluate the score with a 5-fold cross-validation\n",
    "- Do a scatter plot of the predicted vs actual scores for each of the 5 folds, do they match?\n",
    "- How does this fit compare with the previous one?"
   ]
  },
  {
   "cell_type": "code",
   "execution_count": null,
   "metadata": {
    "collapsed": false
   },
   "outputs": [],
   "source": []
  },
  {
   "cell_type": "markdown",
   "metadata": {},
   "source": [
    "---\n",
    "\n",
    "### 4. Extra Trees Regressor\n",
    "\n",
    "1. Train an extra trees regressor on the regression problem and predict your dependent.\n",
    "- Evaluate the score with a 5-fold cross-validation\n",
    "- Do a scatter plot of the predicted vs actual scores for each of the 5 folds, do they match?\n",
    "- How does this fit compare with the previous models?"
   ]
  },
  {
   "cell_type": "code",
   "execution_count": null,
   "metadata": {
    "collapsed": true
   },
   "outputs": [],
   "source": []
  },
  {
   "cell_type": "markdown",
   "metadata": {},
   "source": [
    "---\n",
    "\n",
    "### 5. AdaBoost Classifier\n",
    "\n",
    "1. Train a AdaBoost classifier on your chosen classification problem.\n",
    "- Evaluate the classifier performance with a 5-fold cross-validation."
   ]
  },
  {
   "cell_type": "code",
   "execution_count": null,
   "metadata": {
    "collapsed": false
   },
   "outputs": [],
   "source": []
  },
  {
   "cell_type": "markdown",
   "metadata": {},
   "source": [
    "---\n",
    "\n",
    "### 6. Gradient Boosted Trees Classifier\n",
    "\n",
    "\n",
    "1. Train a Gradient Boosting Trees classifier on your chosen classification problem.\n",
    "- Evaluate the score with a 5-fold cross-validation.\n",
    "- Compare with the AdaBoost score."
   ]
  },
  {
   "cell_type": "code",
   "execution_count": null,
   "metadata": {
    "collapsed": false
   },
   "outputs": [],
   "source": []
  },
  {
   "cell_type": "markdown",
   "metadata": {},
   "source": [
    "### 7. [BONUS] Use gridsearch to fine-tune a model or models.\n",
    "\n",
    "1. What are the best parameters found with the gridsearch?\n",
    "2. How does the best score compare to the model(s) without cross-validation?"
   ]
  },
  {
   "cell_type": "code",
   "execution_count": null,
   "metadata": {
    "collapsed": true
   },
   "outputs": [],
   "source": []
  }
 ],
 "metadata": {
  "kernelspec": {
   "display_name": "Python 2",
   "language": "python",
   "name": "python2"
  },
  "language_info": {
   "codemirror_mode": {
    "name": "ipython",
    "version": 2
   },
   "file_extension": ".py",
   "mimetype": "text/x-python",
   "name": "python",
   "nbconvert_exporter": "python",
   "pygments_lexer": "ipython2",
   "version": "2.7.11"
  }
 },
 "nbformat": 4,
 "nbformat_minor": 0
}
