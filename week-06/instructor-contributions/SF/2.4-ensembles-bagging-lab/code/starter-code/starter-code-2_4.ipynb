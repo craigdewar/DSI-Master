{
 "cells": [
  {
   "cell_type": "markdown",
   "metadata": {},
   "source": [
    "# Decision Trees and Ensembles Lab\n",
    "\n",
    "In this lab we will compare the performance of a simple Decision Tree classifier with a Bagging classifier. We will do that on few datasets, starting from the ones offered by Scikit Learn."
   ]
  },
  {
   "cell_type": "markdown",
   "metadata": {},
   "source": [
    "## 1. Breast Cancer Dataset\n",
    "We will start our comparison on the breast cancer dataset.\n",
    "You can load it directly from scikit-learn using the `load_breast_cancer` function.\n",
    "\n",
    "### 1.a Simple comparison\n",
    "1. Load the data and create X and Y.\n",
    "- Initialize a Decision Tree Classifier and use cross_val_score to evaluate it's performance. Set crossvalidation to 5-folds.\n",
    "- Wrap a Bagging Classifier around the Decision Tree Classifier and use cross_val_score to evaluate it's performance. Set crossvalidation to 5-folds. \n",
    "- Which score is better? Are the score significantly different? How can you judge that?"
   ]
  },
  {
   "cell_type": "code",
   "execution_count": 1,
   "metadata": {
    "collapsed": true
   },
   "outputs": [],
   "source": [
    "import pandas as pd\n",
    "import numpy as np\n",
    "import matplotlib.pyplot as plt\n",
    "%matplotlib inline"
   ]
  },
  {
   "cell_type": "code",
   "execution_count": null,
   "metadata": {
    "collapsed": true
   },
   "outputs": [],
   "source": []
  },
  {
   "cell_type": "markdown",
   "metadata": {},
   "source": [
    "### 1.b Scale (normalize) data\n",
    "As you may have noticed the features are not normalized. Do the score improve with normalization?\n",
    "\n",
    "1. Normalize the predictors.\n",
    "2. Build a decision tree classifier and bagging decision tree classifier.\n",
    "3. Are scores different from non-scaled data?\n"
   ]
  },
  {
   "cell_type": "code",
   "execution_count": null,
   "metadata": {
    "collapsed": true
   },
   "outputs": [],
   "source": []
  },
  {
   "cell_type": "markdown",
   "metadata": {},
   "source": [
    "### 1.c Grid Search\n",
    "\n",
    "Grid search is a great way to improve the performance of a classifier. Let's explore the parameter space of both models and see if we can improve their performance.\n",
    "\n",
    "1. Initialize a GridSearchCV with 5-fold cross validation for the Decision Tree Classifier.\n",
    "2. Search for few parameter values to try and improve the score of the classifier.\n",
    "4. Check the best\\_score\\_ once you've trained it. Is it better than before?\n",
    "5. How does the score of the Grid-searched DT compare with the score of the Bagging DT?\n",
    "6. Initialize a GridSearchCV with 5-fold cross validation for the Bagging Decision Tree Classifier\n",
    "7. Repeat the search\n",
    "    - Note that you'll have to change parameter names for the base_estimator (see example).\n",
    "    - Note that there are also additional parameters to change (see example).\n",
    "    - Note that you may end up with a grid space to large to search in a short time - choose smaller ranges of parameters!\n",
    "    - Make use of the n_jobs parameter to speed up your grid search (-1 uses all cores).\n",
    "8. Does the score improve for the Grid-searched Bagging Classifier?\n",
    "9. Which score is better? Are the score significantly different? How could/would you judge that?\n",
    "\n",
    "---\n",
    "\n",
    "**EXAMPLE**\n",
    "```python\n",
    "params = {\"base_estimator__max_depth\": [3,5,10,20],\n",
    "          \"base_estimator__max_features\": [None, \"auto\"],\n",
    "          \"base_estimator__min_samples_leaf\": [1, 3, 5, 7, 10],\n",
    "          \"base_estimator__min_samples_split\": [2, 5, 7],\n",
    "          'bootstrap_features': [False, True],\n",
    "          'max_features': [0.5, 0.7, 1.0],\n",
    "          'max_samples': [0.5, 0.7, 1.0],\n",
    "          'n_estimators': [2, 5, 10, 20],\n",
    "         }\n",
    "\n",
    "bagged_decision_trees = BaggingClassifier(DecisionTreeClassifier())\n",
    "\n",
    "gsbdt = GridSearchCV(bagged_decision_trees, params, n_jobs=-1, cv=5)\n",
    "```"
   ]
  },
  {
   "cell_type": "code",
   "execution_count": null,
   "metadata": {
    "collapsed": true
   },
   "outputs": [],
   "source": []
  },
  {
   "cell_type": "markdown",
   "metadata": {},
   "source": [
    "## 2 Diabetes and Regression\n",
    "\n",
    "Scikit Learn has a dataset of diabetic patients obtained from this study:\n",
    "\n",
    "http://www4.stat.ncsu.edu/~boos/var.select/diabetes.html\n",
    "http://web.stanford.edu/~hastie/Papers/LARS/LeastAngle_2002.pdf\n",
    "\n",
    "442 diabetes patients were measured on 10 baseline variables: age, sex, body mass index, average blood pressure, and six blood serum measurements.\n",
    "\n",
    "The target is a quantitative measure of disease progression one year after baseline.\n",
    "\n",
    "Repeat the above comparison between a DecisionTreeRegressor and a Bagging Regressor instead of classifiers."
   ]
  },
  {
   "cell_type": "markdown",
   "metadata": {},
   "source": [
    "### 2.a Simple comparison\n",
    "1. Load the data and create X and Y\n",
    "2. Initialize a Decision Tree Regressor and use cross_val_score to evaluate it's performance. Set crossvalidation to 5-folds. What does the score mean (look at documentation!).\n",
    "3. Wrap a Bagging Regressor around the Decision Tree Regressor and use cross_val_score to evaluate it's performance. Set crossvalidation to 5-folds. \n",
    "4. Which score is better? Are the score significantly different? How could/would you judge that?"
   ]
  },
  {
   "cell_type": "code",
   "execution_count": null,
   "metadata": {
    "collapsed": false
   },
   "outputs": [],
   "source": []
  },
  {
   "cell_type": "markdown",
   "metadata": {},
   "source": [
    "### 2.b Grid Search\n",
    "\n",
    "Repeat Grid search as above:\n",
    "\n",
    "1. Initialize a GridSearchCV with 5-fold cross validation for the Decision Tree Regressor.\n",
    "2. Search for few values of the parameters in order to improve the score of the regressor.\n",
    "3. Check the best\\_score\\_ once you've trained it. Is it better than before?\n",
    "4. How does the score of the Grid-searched DT compare with the score of the Bagging DT?\n",
    "5. Initialize a GridSearchCV with 5-fold cross validation for the Bagging Decision Tree Regressor\n",
    "6. Repeat the search\n",
    "    - Note that you'll have to change parameter names for the base_estimator.\n",
    "    - Note that there are also additional parameters to change.\n",
    "    - Note that you may end up with a grid space to large to search in a short time.\n",
    "    - Make use of the n_jobs parameter to speed up your grid search.\n",
    "7. Does the score improve for the Grid-searched Bagging Regressor?\n",
    "8. Which score is better? Are the score significantly different? How could/would you judge that?\n"
   ]
  },
  {
   "cell_type": "code",
   "execution_count": null,
   "metadata": {
    "collapsed": true
   },
   "outputs": [],
   "source": []
  },
  {
   "cell_type": "markdown",
   "metadata": {},
   "source": [
    "## [BONUS]: Project 5 data\n",
    "\n",
    "Repeat the appropriate analysis (classification/regression) for the Project 5 Dataset."
   ]
  },
  {
   "cell_type": "code",
   "execution_count": null,
   "metadata": {
    "collapsed": true
   },
   "outputs": [],
   "source": []
  }
 ],
 "metadata": {
  "kernelspec": {
   "display_name": "Python 2",
   "language": "python",
   "name": "python2"
  },
  "language_info": {
   "codemirror_mode": {
    "name": "ipython",
    "version": 2
   },
   "file_extension": ".py",
   "mimetype": "text/x-python",
   "name": "python",
   "nbconvert_exporter": "python",
   "pygments_lexer": "ipython2",
   "version": "2.7.11"
  }
 },
 "nbformat": 4,
 "nbformat_minor": 0
}
