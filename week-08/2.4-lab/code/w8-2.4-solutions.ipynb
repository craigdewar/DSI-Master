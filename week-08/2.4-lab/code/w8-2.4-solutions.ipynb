{
 "cells": [
  {
   "cell_type": "markdown",
   "metadata": {},
   "source": [
    "# Introduction"
   ]
  },
  {
   "cell_type": "markdown",
   "metadata": {},
   "source": [
    "For today's lab we will build a basic Bayesian regression using PyMC. We're going to use a data-set procured from a credit card company with basic demographic data, and a limit balance. The later will be the target for our regression, and we will use the categorical column: sex, education, marriage, and the numerical column age, as our features. \n",
    "\n",
    "The point of the lab will be to have greater familiarity with the PyMC environment as well as see how constructing a Bayesian regression is different from a classical multiple variable regression model. You'll note while doing the lab that building a Bayesian regression is often more involved, however, you'll also note that Bayesian regressions will give you, the data scientist more control over assumptions in the analytic model itself. \n",
    "\n",
    "With this added complexity, comes a cost in terms of actually executing/estimating the parameters of your model, and thus you'll have to leverage a powerful procedure (Monte-Carlo Markov Chains) to actually compute the regression. You should be excited, as with a little more work, and learning in this sub-area of data science can quickly lead to topics currently within the frontier such as deep learning. \n",
    "\n",
    "Let's begin!\n"
   ]
  },
  {
   "cell_type": "markdown",
   "metadata": {},
   "source": [
    "# Load the Data"
   ]
  },
  {
   "cell_type": "markdown",
   "metadata": {},
   "source": [
    "We'll be working with our second UCI Machine Learning Repository data set. \n",
    "\n",
    "The description of the data is as follows from the website (https://archive.ics.uci.edu/ml/datasets/default+of+credit+card+clients#):\n",
    "\n",
    "    This research aimed at the case of customersâ€™ default payments in Taiwan and compares the predictive accuracy of probability of default among six data mining methods. From the perspective of risk management, the result of predictive accuracy of the estimated probability of default will be more valuable than the binary result of classification - credible or not credible clients. Because the real probability of default is unknown, this study presented the novel â€œSorting Smoothing Methodâ€ to estimate the real probability of default. With the real probability of default as the response variable (Y), and the predictive probability of default as the independent variable (X), the simple linear regression result (Y = A + BX) shows that the forecasting model produced by artificial neural network has the highest coefficient of determination; its regression intercept (A) is close to zero, and regression coefficient (B) to one. Therefore, among the six data mining techniques, artificial neural network is the only one that can accurately estimate the real probability of default.\n",
    "    \n",
    "In this lab we're going to see what relationship simple demographics like sex, education, marriage status, and sex identifier have to the limit balance columns, but we'll build the regression model via the Bayesian paradigm and with PyMC, so you'll get more practice with this library and the associated methodologies. "
   ]
  },
  {
   "cell_type": "markdown",
   "metadata": {},
   "source": [
    "Load up the default data , we will be doing a MLR on the Balance with simple demographics, sex, education, marriage, and age as features"
   ]
  },
  {
   "cell_type": "code",
   "execution_count": 1,
   "metadata": {
    "collapsed": false
   },
   "outputs": [
    {
     "name": "stdout",
     "output_type": "stream",
     "text": [
      "<class 'pandas.core.frame.DataFrame'>\n"
     ]
    },
    {
     "data": {
      "text/html": [
       "<div>\n",
       "<table border=\"1\" class=\"dataframe\">\n",
       "  <thead>\n",
       "    <tr style=\"text-align: right;\">\n",
       "      <th></th>\n",
       "      <th>Unnamed: 0</th>\n",
       "      <th>X1</th>\n",
       "      <th>X2</th>\n",
       "      <th>X3</th>\n",
       "      <th>X4</th>\n",
       "      <th>X5</th>\n",
       "      <th>X6</th>\n",
       "      <th>X7</th>\n",
       "      <th>X8</th>\n",
       "      <th>X9</th>\n",
       "      <th>...</th>\n",
       "      <th>X15</th>\n",
       "      <th>X16</th>\n",
       "      <th>X17</th>\n",
       "      <th>X18</th>\n",
       "      <th>X19</th>\n",
       "      <th>X20</th>\n",
       "      <th>X21</th>\n",
       "      <th>X22</th>\n",
       "      <th>X23</th>\n",
       "      <th>Y</th>\n",
       "    </tr>\n",
       "  </thead>\n",
       "  <tbody>\n",
       "    <tr>\n",
       "      <th>0</th>\n",
       "      <td>ID</td>\n",
       "      <td>LIMIT_BAL</td>\n",
       "      <td>SEX</td>\n",
       "      <td>EDUCATION</td>\n",
       "      <td>MARRIAGE</td>\n",
       "      <td>AGE</td>\n",
       "      <td>PAY_0</td>\n",
       "      <td>PAY_2</td>\n",
       "      <td>PAY_3</td>\n",
       "      <td>PAY_4</td>\n",
       "      <td>...</td>\n",
       "      <td>BILL_AMT4</td>\n",
       "      <td>BILL_AMT5</td>\n",
       "      <td>BILL_AMT6</td>\n",
       "      <td>PAY_AMT1</td>\n",
       "      <td>PAY_AMT2</td>\n",
       "      <td>PAY_AMT3</td>\n",
       "      <td>PAY_AMT4</td>\n",
       "      <td>PAY_AMT5</td>\n",
       "      <td>PAY_AMT6</td>\n",
       "      <td>default payment next month</td>\n",
       "    </tr>\n",
       "    <tr>\n",
       "      <th>1</th>\n",
       "      <td>1</td>\n",
       "      <td>20000</td>\n",
       "      <td>2</td>\n",
       "      <td>2</td>\n",
       "      <td>1</td>\n",
       "      <td>24</td>\n",
       "      <td>2</td>\n",
       "      <td>2</td>\n",
       "      <td>-1</td>\n",
       "      <td>-1</td>\n",
       "      <td>...</td>\n",
       "      <td>0</td>\n",
       "      <td>0</td>\n",
       "      <td>0</td>\n",
       "      <td>0</td>\n",
       "      <td>689</td>\n",
       "      <td>0</td>\n",
       "      <td>0</td>\n",
       "      <td>0</td>\n",
       "      <td>0</td>\n",
       "      <td>1</td>\n",
       "    </tr>\n",
       "    <tr>\n",
       "      <th>2</th>\n",
       "      <td>2</td>\n",
       "      <td>120000</td>\n",
       "      <td>2</td>\n",
       "      <td>2</td>\n",
       "      <td>2</td>\n",
       "      <td>26</td>\n",
       "      <td>-1</td>\n",
       "      <td>2</td>\n",
       "      <td>0</td>\n",
       "      <td>0</td>\n",
       "      <td>...</td>\n",
       "      <td>3272</td>\n",
       "      <td>3455</td>\n",
       "      <td>3261</td>\n",
       "      <td>0</td>\n",
       "      <td>1000</td>\n",
       "      <td>1000</td>\n",
       "      <td>1000</td>\n",
       "      <td>0</td>\n",
       "      <td>2000</td>\n",
       "      <td>1</td>\n",
       "    </tr>\n",
       "    <tr>\n",
       "      <th>3</th>\n",
       "      <td>3</td>\n",
       "      <td>90000</td>\n",
       "      <td>2</td>\n",
       "      <td>2</td>\n",
       "      <td>2</td>\n",
       "      <td>34</td>\n",
       "      <td>0</td>\n",
       "      <td>0</td>\n",
       "      <td>0</td>\n",
       "      <td>0</td>\n",
       "      <td>...</td>\n",
       "      <td>14331</td>\n",
       "      <td>14948</td>\n",
       "      <td>15549</td>\n",
       "      <td>1518</td>\n",
       "      <td>1500</td>\n",
       "      <td>1000</td>\n",
       "      <td>1000</td>\n",
       "      <td>1000</td>\n",
       "      <td>5000</td>\n",
       "      <td>0</td>\n",
       "    </tr>\n",
       "    <tr>\n",
       "      <th>4</th>\n",
       "      <td>4</td>\n",
       "      <td>50000</td>\n",
       "      <td>2</td>\n",
       "      <td>2</td>\n",
       "      <td>1</td>\n",
       "      <td>37</td>\n",
       "      <td>0</td>\n",
       "      <td>0</td>\n",
       "      <td>0</td>\n",
       "      <td>0</td>\n",
       "      <td>...</td>\n",
       "      <td>28314</td>\n",
       "      <td>28959</td>\n",
       "      <td>29547</td>\n",
       "      <td>2000</td>\n",
       "      <td>2019</td>\n",
       "      <td>1200</td>\n",
       "      <td>1100</td>\n",
       "      <td>1069</td>\n",
       "      <td>1000</td>\n",
       "      <td>0</td>\n",
       "    </tr>\n",
       "    <tr>\n",
       "      <th>5</th>\n",
       "      <td>5</td>\n",
       "      <td>50000</td>\n",
       "      <td>1</td>\n",
       "      <td>2</td>\n",
       "      <td>1</td>\n",
       "      <td>57</td>\n",
       "      <td>-1</td>\n",
       "      <td>0</td>\n",
       "      <td>-1</td>\n",
       "      <td>0</td>\n",
       "      <td>...</td>\n",
       "      <td>20940</td>\n",
       "      <td>19146</td>\n",
       "      <td>19131</td>\n",
       "      <td>2000</td>\n",
       "      <td>36681</td>\n",
       "      <td>10000</td>\n",
       "      <td>9000</td>\n",
       "      <td>689</td>\n",
       "      <td>679</td>\n",
       "      <td>0</td>\n",
       "    </tr>\n",
       "    <tr>\n",
       "      <th>6</th>\n",
       "      <td>6</td>\n",
       "      <td>50000</td>\n",
       "      <td>1</td>\n",
       "      <td>1</td>\n",
       "      <td>2</td>\n",
       "      <td>37</td>\n",
       "      <td>0</td>\n",
       "      <td>0</td>\n",
       "      <td>0</td>\n",
       "      <td>0</td>\n",
       "      <td>...</td>\n",
       "      <td>19394</td>\n",
       "      <td>19619</td>\n",
       "      <td>20024</td>\n",
       "      <td>2500</td>\n",
       "      <td>1815</td>\n",
       "      <td>657</td>\n",
       "      <td>1000</td>\n",
       "      <td>1000</td>\n",
       "      <td>800</td>\n",
       "      <td>0</td>\n",
       "    </tr>\n",
       "    <tr>\n",
       "      <th>7</th>\n",
       "      <td>7</td>\n",
       "      <td>500000</td>\n",
       "      <td>1</td>\n",
       "      <td>1</td>\n",
       "      <td>2</td>\n",
       "      <td>29</td>\n",
       "      <td>0</td>\n",
       "      <td>0</td>\n",
       "      <td>0</td>\n",
       "      <td>0</td>\n",
       "      <td>...</td>\n",
       "      <td>542653</td>\n",
       "      <td>483003</td>\n",
       "      <td>473944</td>\n",
       "      <td>55000</td>\n",
       "      <td>40000</td>\n",
       "      <td>38000</td>\n",
       "      <td>20239</td>\n",
       "      <td>13750</td>\n",
       "      <td>13770</td>\n",
       "      <td>0</td>\n",
       "    </tr>\n",
       "    <tr>\n",
       "      <th>8</th>\n",
       "      <td>8</td>\n",
       "      <td>100000</td>\n",
       "      <td>2</td>\n",
       "      <td>2</td>\n",
       "      <td>2</td>\n",
       "      <td>23</td>\n",
       "      <td>0</td>\n",
       "      <td>-1</td>\n",
       "      <td>-1</td>\n",
       "      <td>0</td>\n",
       "      <td>...</td>\n",
       "      <td>221</td>\n",
       "      <td>-159</td>\n",
       "      <td>567</td>\n",
       "      <td>380</td>\n",
       "      <td>601</td>\n",
       "      <td>0</td>\n",
       "      <td>581</td>\n",
       "      <td>1687</td>\n",
       "      <td>1542</td>\n",
       "      <td>0</td>\n",
       "    </tr>\n",
       "    <tr>\n",
       "      <th>9</th>\n",
       "      <td>9</td>\n",
       "      <td>140000</td>\n",
       "      <td>2</td>\n",
       "      <td>3</td>\n",
       "      <td>1</td>\n",
       "      <td>28</td>\n",
       "      <td>0</td>\n",
       "      <td>0</td>\n",
       "      <td>2</td>\n",
       "      <td>0</td>\n",
       "      <td>...</td>\n",
       "      <td>12211</td>\n",
       "      <td>11793</td>\n",
       "      <td>3719</td>\n",
       "      <td>3329</td>\n",
       "      <td>0</td>\n",
       "      <td>432</td>\n",
       "      <td>1000</td>\n",
       "      <td>1000</td>\n",
       "      <td>1000</td>\n",
       "      <td>0</td>\n",
       "    </tr>\n",
       "  </tbody>\n",
       "</table>\n",
       "<p>10 rows × 25 columns</p>\n",
       "</div>"
      ],
      "text/plain": [
       "  Unnamed: 0         X1   X2         X3        X4   X5     X6     X7     X8  \\\n",
       "0         ID  LIMIT_BAL  SEX  EDUCATION  MARRIAGE  AGE  PAY_0  PAY_2  PAY_3   \n",
       "1          1      20000    2          2         1   24      2      2     -1   \n",
       "2          2     120000    2          2         2   26     -1      2      0   \n",
       "3          3      90000    2          2         2   34      0      0      0   \n",
       "4          4      50000    2          2         1   37      0      0      0   \n",
       "5          5      50000    1          2         1   57     -1      0     -1   \n",
       "6          6      50000    1          1         2   37      0      0      0   \n",
       "7          7     500000    1          1         2   29      0      0      0   \n",
       "8          8     100000    2          2         2   23      0     -1     -1   \n",
       "9          9     140000    2          3         1   28      0      0      2   \n",
       "\n",
       "      X9             ...                    X15        X16        X17  \\\n",
       "0  PAY_4             ...              BILL_AMT4  BILL_AMT5  BILL_AMT6   \n",
       "1     -1             ...                      0          0          0   \n",
       "2      0             ...                   3272       3455       3261   \n",
       "3      0             ...                  14331      14948      15549   \n",
       "4      0             ...                  28314      28959      29547   \n",
       "5      0             ...                  20940      19146      19131   \n",
       "6      0             ...                  19394      19619      20024   \n",
       "7      0             ...                 542653     483003     473944   \n",
       "8      0             ...                    221       -159        567   \n",
       "9      0             ...                  12211      11793       3719   \n",
       "\n",
       "        X18       X19       X20       X21       X22       X23  \\\n",
       "0  PAY_AMT1  PAY_AMT2  PAY_AMT3  PAY_AMT4  PAY_AMT5  PAY_AMT6   \n",
       "1         0       689         0         0         0         0   \n",
       "2         0      1000      1000      1000         0      2000   \n",
       "3      1518      1500      1000      1000      1000      5000   \n",
       "4      2000      2019      1200      1100      1069      1000   \n",
       "5      2000     36681     10000      9000       689       679   \n",
       "6      2500      1815       657      1000      1000       800   \n",
       "7     55000     40000     38000     20239     13750     13770   \n",
       "8       380       601         0       581      1687      1542   \n",
       "9      3329         0       432      1000      1000      1000   \n",
       "\n",
       "                            Y  \n",
       "0  default payment next month  \n",
       "1                           1  \n",
       "2                           1  \n",
       "3                           0  \n",
       "4                           0  \n",
       "5                           0  \n",
       "6                           0  \n",
       "7                           0  \n",
       "8                           0  \n",
       "9                           0  \n",
       "\n",
       "[10 rows x 25 columns]"
      ]
     },
     "execution_count": 1,
     "metadata": {},
     "output_type": "execute_result"
    }
   ],
   "source": [
    "from __future__ import division\n",
    "import os\n",
    "import math\n",
    "import pylab as py\n",
    "import sys\n",
    "import glob\n",
    "import matplotlib.pyplot as plt\n",
    "import numpy as np\n",
    "import pandas as pd\n",
    "\n",
    "\n",
    "default = pd.read_csv('F:/Bayesian lab/defaultcc.csv')\n",
    "print(type(default))\n",
    "default.head(10)\n"
   ]
  },
  {
   "cell_type": "markdown",
   "metadata": {},
   "source": [
    "# Define the features of our simple model"
   ]
  },
  {
   "cell_type": "markdown",
   "metadata": {},
   "source": [
    "Utilize a simple list/array from Python's base language to house the column names for your features, label the list rhs (for \"right-hand side\"). \n",
    "\n",
    "Do the same for your target, and define the list \"target\". "
   ]
  },
  {
   "cell_type": "code",
   "execution_count": 36,
   "metadata": {
    "collapsed": false
   },
   "outputs": [],
   "source": [
    "rhs = ['SEX', 'EDUCATION', 'MARRIAGE', 'AGE']\n",
    "target = ['LIMIT_BAL']\n"
   ]
  },
  {
   "cell_type": "markdown",
   "metadata": {
    "collapsed": true
   },
   "source": [
    "# Assigning the distributions for our error term and constant"
   ]
  },
  {
   "cell_type": "markdown",
   "metadata": {},
   "source": [
    "Define your intercept and error term. Label the error term \"noise\" and the intercept term \"beta0\". Please read the docs to understand how to call both the normal and uniform distirbution:  https://pymc-devs.github.io/pymc/"
   ]
  },
  {
   "cell_type": "code",
   "execution_count": 31,
   "metadata": {
    "collapsed": false
   },
   "outputs": [],
   "source": [
    "import pymc as pm\n",
    "import numpy as np\n",
    "\n",
    "beta0 = pm.Normal(\"beta0\", 0, 0.0001)\n",
    "noise = pm.Uniform(\"noise\", 0, 500)"
   ]
  },
  {
   "cell_type": "markdown",
   "metadata": {},
   "source": [
    "# Assigning the distribution for our parameters"
   ]
  },
  {
   "cell_type": "markdown",
   "metadata": {},
   "source": [
    "Define two arrays b, and x, as an empty numpy array of size 4. 'b' will contain our parameter values, and x will contain our numerical data inputs for the right-hand side. "
   ]
  },
  {
   "cell_type": "code",
   "execution_count": null,
   "metadata": {
    "collapsed": true
   },
   "outputs": [],
   "source": [
    "b = np.empty(5, dtype=object)\n",
    "x = np.empty(5, dtype=object"
   ]
  },
  {
   "cell_type": "markdown",
   "metadata": {},
   "source": [
    "You have 4 features on your right hand side, so you must define each feature (and its distribution). For simplicity-sake, just define each feature as normal distribution. We're more concerned with you building the model through the first time. \n",
    "\n",
    "Quick Challenge Question: What is the only feature in our right-hand side that could appropriately be modeled by a normal distribution? What would be a better distribution for the others (Hint: We've mentioned it previously). \n",
    "\n",
    "You might be asking, why do we want to do this? Well a couple reasons, but one of the more important rationales is because of automation. It would be much easier to call a set of parameters if they were housed in an array/vector via a loop as this is simply just array[index_number], whereas if we just housed each parameter in their own variable, we'd have to explicitly call the variable name to get that particular value from memory. \n",
    "\n",
    "**Note**: As with the previous labs, just define all normal distributions with a mean 0 and a standard deviation of .0001.\n"
   ]
  },
  {
   "cell_type": "code",
   "execution_count": 32,
   "metadata": {
    "collapsed": false
   },
   "outputs": [],
   "source": [
    "b1 = pm.Normal(\"b1\", 0, 0.0001); b[1] = b1\n",
    "b2 = pm.Normal(\"b2\", 0, 0.0001); b[2] = b2\n",
    "b3 = pm.Normal(\"b3\", 0, 0.0001); b[3] = b3\n",
    "b4 = pm.Normal(\"b4\", 0, 0.0001); b[4] = b4\n"
   ]
  },
  {
   "cell_type": "markdown",
   "metadata": {},
   "source": [
    "# Constructing the Functional Form of our Model"
   ]
  },
  {
   "cell_type": "markdown",
   "metadata": {},
   "source": [
    "We've defined our parameters, we must now define our data. Again, for the sake of executing everything on the first run, let's assume the data is normally distributed (like the parameters) above, and put these data variables (there should be 4, one for each parameter variable) in the empty numpy array. |"
   ]
  },
  {
   "cell_type": "code",
   "execution_count": 34,
   "metadata": {
    "collapsed": false
   },
   "outputs": [],
   "source": [
    "x1 = pm.Normal(\"x1\", 0, 1, default['SEX'] , observed = True); x[1] = x1\n",
    "x2 = pm.Normal(\"x2\", 0, 1, default['EDUCATION'] , observed = True); x[2] = x2\n",
    "x3 = pm.Normal(\"x3\", 0, 1, default['MARRIAGE'] , observed = True); x[3] = x3\n",
    "x4 = pm.Normal(\"x4\", 0, 1, default['AGE'] , observed = True); x[4] = x4\n"
   ]
  },
  {
   "cell_type": "markdown",
   "metadata": {},
   "source": [
    "We previouslly said we'd come back to the two main model type classes, **deterministic** and **stochastic**. We're going to talk more about that now. Here is a reference \n",
    "\n",
    "https://pymc-devs.github.io/pymc/modelbuilding.html\n",
    "\n",
    "The docs explain it best: \n",
    "    \n",
    "    A Stochastic object represents a variable whose value is not completely determined by its parents, and a Deterministic object represents a variable that is entirely determined by its parents. In object-oriented programming parlance, Stochastic and Deterministic are subclasses of the Variable class, which only serves as a template for other classes and is never actually implemented in models.\n",
    "    \n",
    "So in plain english a deterministic model is one where all it's dependencies 'completely' define it. Think about a regression equation, what does it consist of? Parameters and data for features, a target, a constant term, and an error term. Have we accounted for all these components above in our specification? (Hint: Yes). So stands to reason we can use the deterministic class specifier."
   ]
  },
  {
   "cell_type": "markdown",
   "metadata": {
    "collapsed": false
   },
   "source": [
    "Define a function, pred to be the assembled Bayesian regression"
   ]
  },
  {
   "cell_type": "code",
   "execution_count": 37,
   "metadata": {
    "collapsed": false
   },
   "outputs": [],
   "source": [
    "@pm.deterministic\n",
    "def pred(beta0 = beta0, b = b, x = x):\n",
    "    return beta0 + b[1]*x[2] + b[2]*x[2] + b[3]*x[3] + b[4]*x[4]\n"
   ]
  },
  {
   "cell_type": "markdown",
   "metadata": {},
   "source": [
    "We're almost done! The last ingredient to our model is the target. Like the features, we must define the distribution for this object. Again, assume normality, and label the target 'y'. "
   ]
  },
  {
   "cell_type": "code",
   "execution_count": null,
   "metadata": {
    "collapsed": true
   },
   "outputs": [],
   "source": [
    "y = pm.Normal(\"y\", pred, noise, value = np.array(default[target]), observed = True)\n",
    "\n",
    "model = pm.Model([beta0, pm.Container(b), noise, pm.Container(x), y, pred])"
   ]
  },
  {
   "cell_type": "markdown",
   "metadata": {},
   "source": [
    "#  Construct a Graphical Representation of Our Bayesian Model"
   ]
  },
  {
   "cell_type": "markdown",
   "metadata": {},
   "source": [
    "So part of the value of building a Bayesian model is we're able to represent the model as a directed graph (See: http://algs4.cs.princeton.edu/42digraph/). Although for these simpler examples the importance of this feature may be less evident, as you mature in data science you may eventually build more complicated Bayesian models, including Bayesian networks, where this representation of a model is more central to understanding the behavior of the algorithm.  \n",
    "\n",
    "We're going to practice building such a graph on our simple Bayesian example. Construct a graphical representation of your Bayesian model - Hint you will need to have PyDot installed with GraphicViz\n"
   ]
  },
  {
   "cell_type": "markdown",
   "metadata": {},
   "source": [
    "First import pydot and pymc's graph method. You'll also need to import display_png from Ipython's display method. Please read the following docs and familiarize yourself with GraphicViz with the following blog post: https://pythonhaven.wordpress.com/2009/12/09/generating_graphs_with_pydot/, you should also look at the docs and the library Git: https://pypi.python.org/pypi/pydot"
   ]
  },
  {
   "cell_type": "code",
   "execution_count": null,
   "metadata": {
    "collapsed": true
   },
   "outputs": [],
   "source": [
    "import pydot\n",
    "import pymc.graph\n",
    "from IPython.display import display_png"
   ]
  },
  {
   "cell_type": "markdown",
   "metadata": {},
   "source": [
    "Now call build a graphical representation of your model using pymc graph. Also, you now know where your \"labels\" show up when you define your model components, like parameters. As you build more complicated models, you'll grow to like these graphical representations, and they will help you organize the structure of the modeling objects. "
   ]
  },
  {
   "cell_type": "code",
   "execution_count": 38,
   "metadata": {
    "collapsed": false
   },
   "outputs": [
    {
     "data": {
      "image/png": "[encoded data removed]"
     },
     "metadata": {},
     "output_type": "display_data"
    }
   ],
   "source": [
    "graph = pm.graph.graph(model)\n",
    "display_png(graph.create_png(), raw = True)"
   ]
  },
  {
   "cell_type": "markdown",
   "metadata": {},
   "source": [
    "# Initialize the Monte-Carlo-Markov Chain Procedure"
   ]
  },
  {
   "cell_type": "markdown",
   "metadata": {},
   "source": [
    "Run the model through a MCMC procedure to get the estimations. For simplicity, use the input values of 10000, and 200 for the MCMC sample call. \n",
    "\n",
    "Obviously leverage the internet to get more background on MCMC (https://en.wikipedia.org/wiki/Markov_chain_Monte_Carlo). For more information on the MCMC method from PyMC, please read the following docs: https://pymc-devs.github.io/pymc/theory.html. The latter is really good reading and explains the apparatus fairly well.\n"
   ]
  },
  {
   "cell_type": "code",
   "execution_count": 39,
   "metadata": {
    "collapsed": false
   },
   "outputs": [
    {
     "name": "stdout",
     "output_type": "stream",
     "text": [
      " [-----------------100%-----------------] 10000 of 10000 complete in 23.9 sec"
     ]
    }
   ],
   "source": [
    "mcmc = pm.MCMC(model)\n",
    "mcmc.sample(10000, 200)"
   ]
  },
  {
   "cell_type": "markdown",
   "metadata": {},
   "source": [
    "# Print the Trace from the MCMC"
   ]
  },
  {
   "cell_type": "markdown",
   "metadata": {},
   "source": [
    "Create trace histogram plots for your parameters"
   ]
  },
  {
   "cell_type": "code",
   "execution_count": 54,
   "metadata": {
    "collapsed": false
   },
   "outputs": [],
   "source": [
    "#multifig, multiax = plt.subplots(2, 1, figsize=(10, 10))\n",
    "b0_val = np.mean(mcmc.trace('beta0')[:])\n",
    "plt.hist(mcmc.trace('b1')[:], bins=100)\n",
    "\n",
    "b1_val = np.mean(mcmc.trace('b1')[:])\n",
    "plt.hist(mcmc.trace('b1')[:], bins=100)\n",
    "\n",
    "b4_val = np.mean(mcmc.trace('b4')[:])\n",
    "plt.hist(mcmc.trace('b4')[:], bins=100)\n",
    "\n",
    "b3_val = np.mean(mcmc.trace('b3')[:])\n",
    "plt.hist(mcmc.trace('b3')[:], bins=100)\n",
    "\n",
    "b2_val = np.mean(mcmc.trace('b2')[:])\n",
    "plt.hist(mcmc.trace('b2')[:], bins=100)\n",
    "\n",
    "plt.show()"
   ]
  },
  {
   "cell_type": "markdown",
   "metadata": {},
   "source": [
    "# Print Parameter Estimates of your Equation"
   ]
  },
  {
   "cell_type": "markdown",
   "metadata": {},
   "source": [
    "Reconstruct the parameter values (like you would see in a traditional regression results table)"
   ]
  },
  {
   "cell_type": "code",
   "execution_count": 55,
   "metadata": {
    "collapsed": false
   },
   "outputs": [
    {
     "name": "stdout",
     "output_type": "stream",
     "text": [
      "B0: 159023.351176\n",
      "B1: -11520.7632977\n",
      "B2: -28173.1265444\n",
      "B3: -10678.7487449\n",
      "B4: 2755.45506409\n"
     ]
    }
   ],
   "source": [
    "print \"B0: \" + str(np.mean(b0_val)) \n",
    "print \"B1: \" + str(np.mean(b1_val)) \n",
    "print \"B2: \" + str(np.mean(b2_val)) \n",
    "print \"B3: \" + str(np.mean(b3_val)) \n",
    "print \"B4: \" + str(np.mean(b4_val)) \n"
   ]
  },
  {
   "cell_type": "markdown",
   "metadata": {},
   "source": [
    "Run the model through a MCMC procedure to get the estimations. For simplicity, use the input values of 10000, and 200 for the MCMC sample call. \n",
    "\n",
    "Obviously leverage the internet to get more background on MCMC (https://en.wikipedia.org/wiki/Markov_chain_Monte_Carlo). For more information on the MCMC method from PyMC, please read the following docs: https://pymc-devs.github.io/pymc/theory.html. The latter is really good reading and explains the apparatus fairly well.\n"
   ]
  },
  {
   "cell_type": "code",
   "execution_count": null,
   "metadata": {
    "collapsed": true
   },
   "outputs": [],
   "source": []
  }
 ],
 "metadata": {
  "kernelspec": {
   "display_name": "Python 2",
   "language": "python",
   "name": "python2"
  },
  "language_info": {
   "codemirror_mode": {
    "name": "ipython",
    "version": 2
   },
   "file_extension": ".py",
   "mimetype": "text/x-python",
   "name": "python",
   "nbconvert_exporter": "python",
   "pygments_lexer": "ipython2",
   "version": "2.7.11"
  }
 },
 "nbformat": 4,
 "nbformat_minor": 0
}
