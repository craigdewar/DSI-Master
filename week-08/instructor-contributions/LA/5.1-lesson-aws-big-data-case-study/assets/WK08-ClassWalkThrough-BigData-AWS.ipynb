{
 "cells": [
  {
   "cell_type": "markdown",
   "metadata": {},
   "source": [
    "---\n",
    "title: Cloud Computing Case Study - AWS Big Data Project\n",
    "duration: \"1:25\"\n",
    "creator:\n",
    "    name: Francesco Mosconi & Pauline Chow\n",
    "    city: SF & LA\n",
    "---"
   ]
  },
  {
   "cell_type": "markdown",
   "metadata": {},
   "source": [
    "# ![](https://ga-dash.s3.amazonaws.com/production/assets/logo-9f88ae6c9c3871690e33280fcf557f33.png) Cloud Computing: AWS Data Sets\n",
    "Week 8 | Lesson 5.1"
   ]
  },
  {
   "cell_type": "markdown",
   "metadata": {},
   "source": [
    "### LEARNING OBJECTIVES\n",
    "*After this lesson, you will be able to:*\n",
    "- explain how different big data tools are used to interact with large public datasets\n",
    "- explain the advantages of big data tools to a non-technical audience\n",
    "- use aws command line tools"
   ]
  },
  {
   "cell_type": "markdown",
   "metadata": {},
   "source": [
    "### STUDENT PRE-WORK\n",
    "*Before this lesson, you should already be able to:*\n",
    "- Understand the context for big data and cloud computing\n",
    "- Reinforce you understanding of AWS products through case study review\n",
    "- Prepare examples for more big data techniques for the next 2 weeks, including Hadoop / Hive, SQL, Spark"
   ]
  },
  {
   "cell_type": "markdown",
   "metadata": {},
   "source": [
    "### INSTRUCTOR PREP\n",
    "*Before this lesson, instructors will need to:*\n",
    "- Read in / Review any dataset(s) & starter/solution code\n",
    "- Generate a brief slide deck\n",
    "- Prepare any specific materials\n",
    "- Provide students with additional resources"
   ]
  },
  {
   "cell_type": "markdown",
   "metadata": {},
   "source": [
    "### LESSON GUIDE\n",
    "| TIMING  | TYPE  | TOPIC  |\n",
    "|:-:|---|---|\n",
    "| 5 min | [Opening](#opening) | Opening |\n",
    "| 20 min | [Guided-practice](#guided-practice_1) | Phase 1: Research |\n",
    "| 20 min | [Guided](#guided_practice_2) | Phase 2: Discussion |\n",
    "| 20 min | [Demo](#demo) | Phase 3:  Mashup |\n",
    "| 20 min | [Demo](#demo) | Phase 4:  Presentation |"
   ]
  },
  {
   "cell_type": "markdown",
   "metadata": {},
   "source": [
    "<a name=\"opening\"></a>\n",
    "## Opening (10 min)\n",
    "\n",
    "In this class we will analyze a case study of analysis of Real-Time and Archived NEXRAD Weather Data on AWS.\n",
    "\n",
    "Our starting point is this article: https://aws.amazon.com/blogs/publicsector/nexrad/ with the following [tutorial](https://eng.climate.com/2015/10/27/how-to-read-and-display-nexrad-on-aws-using-python/)\n",
    "\n",
    "Also see other [Big Data AWS Public datasets](https://aws.amazon.com/public-data-sets/)\n",
    "We will work in groups once more and each person in your group should focus on a particular technical aspect of the project.\n",
    "\n",
    "- Group 1 will focus on database backend\n",
    "- Group 2 will focus on real-time\n",
    "- Group 3 will focus on visualization"
   ]
  },
  {
   "cell_type": "markdown",
   "metadata": {},
   "source": [
    "<a name=\"guided-practice_1\"></a>\n",
    "## Phase 1: Research & Brainstorming (20 min)\n",
    "\n",
    "In this phase each group should read the article and then look for more information in particular concerning its specific focus.\n",
    "\n",
    "**Question: How are each of these datasets provided for the public to access?** \n",
    "\n",
    "**Choose one dataset to explore and have each person in your group answer the following questions:**\n",
    "\n",
    "- Person 1 should look into the data storage tools proposed in the article and understand deeply the data format, size and types.\n",
    "\n",
    "- Person 2 should look into the tools for real-time analysis that are mentioned in the article and clearly understand what each one does. Also you should investigate what requirements there are.\n",
    "\n",
    "- Person 3 should look into the requirements for visualization. What is necessary? how big is the data to be visualized? What's the frequency? If we are assuming a nontechnical audience, how should you present the key findings?\n",
    "\n",
    "Each group can choose how to perform this phase, either each on their own or in smaller subgroups."
   ]
  },
  {
   "cell_type": "markdown",
   "metadata": {},
   "source": [
    "<a name=\"guided_practice_2\"></a>\n",
    "## Phase 2: Discussion (20 min)\n",
    "\n",
    "Within your group you should discuss the results of the research phase and draft a document that details:\n",
    "- issues involved\n",
    "- solution proposed\n",
    "- intended audience\n",
    "- risks\n",
    "- limitations\n",
    "- benefits (in relation to audience)"
   ]
  },
  {
   "cell_type": "markdown",
   "metadata": {},
   "source": [
    "<a name=\"demo\"></a>\n",
    "## Phase 4:  Class Discussion (20 min)\n",
    "\n",
    "A pipeline solution for NexRad is discussed here [AWS Blog](http://reinvent.kinvey.com/h/i/157791033-new-aws-public-data-set-real-time-and-archived-nexrad-weather-data)\n",
    "\n",
    "Each of the 2 groups gets 5 minutes to present their solution and their findings to the class.\n",
    "\n",
    "The group playing the audience role should look for similarities and differences with their own implementation and ask clarifying questions when a difference is found."
   ]
  },
  {
   "cell_type": "markdown",
   "metadata": {},
   "source": [
    "### ADDITIONAL RESOURCES\n",
    "\n",
    "- [NEXRAD](https://en.wikipedia.org/wiki/NEXRAD)\n",
    "- [Weatherpipe](https://github.com/stephenlienharrell/WeatherPipe)\n"
   ]
  },
  {
   "cell_type": "code",
   "execution_count": null,
   "metadata": {
    "collapsed": true
   },
   "outputs": [],
   "source": [
    "#Run in the command line, aws cli tools\n",
    "# you must aws configure with your access key and secret to access these commands\n",
    "\n",
    "#careful since this can be a large dataset\n",
    "#!aws s3 ls s3://irs-form-990/2012 --human-readable --summarize\n",
    "\n",
    "#land satelite\n",
    "#!aws s3 ls landsat-pds"
   ]
  }
 ],
 "metadata": {
  "kernelspec": {
   "display_name": "Python 2",
   "language": "python",
   "name": "python2"
  },
  "language_info": {
   "codemirror_mode": {
    "name": "ipython",
    "version": 2
   },
   "file_extension": ".py",
   "mimetype": "text/x-python",
   "name": "python",
   "nbconvert_exporter": "python",
   "pygments_lexer": "ipython2",
   "version": "2.7.12"
  }
 },
 "nbformat": 4,
 "nbformat_minor": 0
}
