{
 "cells": [
  {
   "cell_type": "markdown",
   "metadata": {},
   "source": [
    "# Markov Chain Monte Carlo - In Class Code Along"
   ]
  },
  {
   "cell_type": "markdown",
   "metadata": {},
   "source": [
    "In class, we were introduced to Markov Chain Monte Carlo, a technique that creates samples from the posterior distribution by reversing a standard Markov Chain that has its *equilibrium distribution* as its *target posterior distribution*.\n",
    "\n",
    "If we think back to Bayes Formula - it's difficult to calculate the posterior in a closed form manner. Therefore, when we want to calculate the posterior, we can utilize a Markov Chain and it's model of the probability of states, along with the random sampling Monte Carlo Method to estimate the posterior. Typically, to sample from the posterior, we could have to solve an inverted Bayes formula - however with Markov Chain Monte Carlo, we can construct a Markov Chain whose equilibrium distribution matches our posteriors distribution and then apply the Monte Carlo Method to construct a distribution very similar to that of our posterior's. "
   ]
  },
  {
   "cell_type": "code",
   "execution_count": 1,
   "metadata": {
    "collapsed": true
   },
   "outputs": [],
   "source": [
    "import numpy as np\n",
    "import scipy.stats as stats\n",
    "import pandas as pd\n",
    "\n",
    "import seaborn as sns\n",
    "import matplotlib.pyplot as plt\n",
    "import matplotlib.mlab as mlab\n",
    "\n",
    "sns.set_style('white')\n",
    "%matplotlib inline "
   ]
  },
  {
   "cell_type": "markdown",
   "metadata": {},
   "source": [
    "We're going to be working with the airport operations data, so let's set up our data. We're going to use ```c.replace``` to replace spaces and dashes with underscores for ease of use. "
   ]
  },
  {
   "cell_type": "code",
   "execution_count": 5,
   "metadata": {
    "collapsed": false
   },
   "outputs": [
    {
     "data": {
      "text/html": [
       "<div>\n",
       "<table border=\"1\" class=\"dataframe\">\n",
       "  <thead>\n",
       "    <tr style=\"text-align: right;\">\n",
       "      <th></th>\n",
       "      <th>airport</th>\n",
       "      <th>year</th>\n",
       "      <th>departures_for_metric_computation</th>\n",
       "      <th>arrivals_for_metric_computation</th>\n",
       "      <th>percent_on_time_gate_departures</th>\n",
       "      <th>percent_on_time_airport_departures</th>\n",
       "      <th>percent_on_time_gate_arrivals</th>\n",
       "      <th>average_gate_departure_delay</th>\n",
       "      <th>average_taxi_out_time</th>\n",
       "      <th>average_taxi_out_delay</th>\n",
       "      <th>average_airport_departure_delay</th>\n",
       "      <th>average_airborne_delay</th>\n",
       "      <th>average_taxi_in_delay</th>\n",
       "      <th>average_block_delay</th>\n",
       "      <th>average_gate_arrival_delay</th>\n",
       "    </tr>\n",
       "  </thead>\n",
       "  <tbody>\n",
       "    <tr>\n",
       "      <th>0</th>\n",
       "      <td>ABQ</td>\n",
       "      <td>2004</td>\n",
       "      <td>53971</td>\n",
       "      <td>53818</td>\n",
       "      <td>0.803</td>\n",
       "      <td>0.7809</td>\n",
       "      <td>0.7921</td>\n",
       "      <td>10.38</td>\n",
       "      <td>9.89</td>\n",
       "      <td>2.43</td>\n",
       "      <td>12.1</td>\n",
       "      <td>2.46</td>\n",
       "      <td>0.83</td>\n",
       "      <td>2.55</td>\n",
       "      <td>10.87</td>\n",
       "    </tr>\n",
       "    <tr>\n",
       "      <th>1</th>\n",
       "      <td>ABQ</td>\n",
       "      <td>2005</td>\n",
       "      <td>51829</td>\n",
       "      <td>51877</td>\n",
       "      <td>0.814</td>\n",
       "      <td>0.7922</td>\n",
       "      <td>0.8001</td>\n",
       "      <td>9.60</td>\n",
       "      <td>9.79</td>\n",
       "      <td>2.29</td>\n",
       "      <td>11.2</td>\n",
       "      <td>2.26</td>\n",
       "      <td>0.89</td>\n",
       "      <td>2.34</td>\n",
       "      <td>10.24</td>\n",
       "    </tr>\n",
       "  </tbody>\n",
       "</table>\n",
       "</div>"
      ],
      "text/plain": [
       "  airport  year  departures_for_metric_computation  \\\n",
       "0     ABQ  2004                              53971   \n",
       "1     ABQ  2005                              51829   \n",
       "\n",
       "   arrivals_for_metric_computation  percent_on_time_gate_departures  \\\n",
       "0                            53818                            0.803   \n",
       "1                            51877                            0.814   \n",
       "\n",
       "   percent_on_time_airport_departures  percent_on_time_gate_arrivals  \\\n",
       "0                              0.7809                         0.7921   \n",
       "1                              0.7922                         0.8001   \n",
       "\n",
       "   average_gate_departure_delay  average_taxi_out_time  \\\n",
       "0                         10.38                   9.89   \n",
       "1                          9.60                   9.79   \n",
       "\n",
       "   average_taxi_out_delay  average_airport_departure_delay  \\\n",
       "0                    2.43                             12.1   \n",
       "1                    2.29                             11.2   \n",
       "\n",
       "   average_airborne_delay  average_taxi_in_delay  average_block_delay  \\\n",
       "0                    2.46                   0.83                 2.55   \n",
       "1                    2.26                   0.89                 2.34   \n",
       "\n",
       "   average_gate_arrival_delay  \n",
       "0                       10.87  \n",
       "1                       10.24  "
      ]
     },
     "execution_count": 5,
     "metadata": {},
     "output_type": "execute_result"
    }
   ],
   "source": [
    "air = pd.read_csv('/Users/patricksmith/Desktop/airport_operations.csv')\n",
    "air.columns = [c.replace(' ', '_').replace('-',\"_\") for c in air.columns]\n",
    "air.head(2)"
   ]
  },
  {
   "cell_type": "markdown",
   "metadata": {},
   "source": [
    "Here, we're going to define delay are the average airport departure delay. "
   ]
  },
  {
   "cell_type": "code",
   "execution_count": 6,
   "metadata": {
    "collapsed": true
   },
   "outputs": [],
   "source": [
    "delay = air.average_airport_departure_delay.values"
   ]
  },
  {
   "cell_type": "markdown",
   "metadata": {},
   "source": [
    "Check our mean delay:"
   ]
  },
  {
   "cell_type": "code",
   "execution_count": 7,
   "metadata": {
    "collapsed": true
   },
   "outputs": [],
   "source": [
    "mean_delay = np.mean(delay)"
   ]
  },
  {
   "cell_type": "code",
   "execution_count": 8,
   "metadata": {
    "collapsed": false
   },
   "outputs": [
    {
     "name": "stdout",
     "output_type": "stream",
     "text": [
      "16.2499643282\n"
     ]
    }
   ],
   "source": [
    "print mean_delay"
   ]
  },
  {
   "cell_type": "markdown",
   "metadata": {},
   "source": [
    "We can graph delay and mean delay utilizing seaborn. In the graph below, the dotted line represents our mean delay. "
   ]
  },
  {
   "cell_type": "code",
   "execution_count": 9,
   "metadata": {
    "collapsed": false
   },
   "outputs": [
    {
     "data": {
      "image/png": "[encoded data removed]",
      "text/plain": [
       "<matplotlib.figure.Figure at 0x117254d10>"
      ]
     },
     "metadata": {},
     "output_type": "display_data"
    }
   ],
   "source": [
    "fig = plt.figure(figsize=(9,7))\n",
    "ax = fig.gca()\n",
    "\n",
    "ax = sns.distplot(delay, bins=40, ax=ax)\n",
    "ax.axvline(mean_delay, lw=5, ls='dashed', color='black')\n",
    "\n",
    "plt.show()"
   ]
  },
  {
   "cell_type": "markdown",
   "metadata": {},
   "source": [
    "Why are we examing our mean delay? With MCMC, we want to inform the posterior for *m* our mean. "
   ]
  },
  {
   "cell_type": "code",
   "execution_count": 10,
   "metadata": {
    "collapsed": true
   },
   "outputs": [],
   "source": [
    "number_obs = len(delay)"
   ]
  },
  {
   "cell_type": "code",
   "execution_count": 11,
   "metadata": {
    "collapsed": false
   },
   "outputs": [
    {
     "name": "stdout",
     "output_type": "stream",
     "text": [
      "841\n"
     ]
    }
   ],
   "source": [
    "print number_obs"
   ]
  },
  {
   "cell_type": "markdown",
   "metadata": {},
   "source": [
    "Let's go ahead and take a subset out our data to examine it as well: "
   ]
  },
  {
   "cell_type": "code",
   "execution_count": 12,
   "metadata": {
    "collapsed": true
   },
   "outputs": [],
   "source": [
    "delay_subset = np.random.choice(delay, replace=False, size=50)"
   ]
  },
  {
   "cell_type": "code",
   "execution_count": 14,
   "metadata": {
    "collapsed": false
   },
   "outputs": [
    {
     "data": {
      "text/plain": [
       "<matplotlib.axes._subplots.AxesSubplot at 0x11720bfd0>"
      ]
     },
     "execution_count": 14,
     "metadata": {},
     "output_type": "execute_result"
    },
    {
     "data": {
      "image/png": "[encoded data removed]",
      "text/plain": [
       "<matplotlib.figure.Figure at 0x116c69190>"
      ]
     },
     "metadata": {},
     "output_type": "display_data"
    }
   ],
   "source": [
    "sns.distplot(delay_subset, bins=25, norm_hist=False, kde=False)"
   ]
  },
  {
   "cell_type": "markdown",
   "metadata": {},
   "source": [
    "Here, we're defining our prior. Recall that for every paramter we want to infer, in this case *m*, we must have a prior. Since we have a normal distribution with a known standard deviation, the prior for *m* is a **conjugate** and therefore also normal. "
   ]
  },
  {
   "cell_type": "code",
   "execution_count": 16,
   "metadata": {
    "collapsed": false
   },
   "outputs": [],
   "source": [
    "weak_prior = stats.norm(20, 10)\n",
    "strong_prior = stats.norm(20, 1)"
   ]
  },
  {
   "cell_type": "markdown",
   "metadata": {},
   "source": [
    "Here, we're simply graphing our strong prior and weak prior"
   ]
  },
  {
   "cell_type": "code",
   "execution_count": 17,
   "metadata": {
    "collapsed": false,
    "scrolled": true
   },
   "outputs": [
    {
     "data": {
      "image/png": "[encoded data removed]",
      "text/plain": [
       "<matplotlib.figure.Figure at 0x1177c9c50>"
      ]
     },
     "metadata": {},
     "output_type": "display_data"
    }
   ],
   "source": [
    "fig = plt.figure(figsize=(9,7))\n",
    "ax = fig.gca()\n",
    "\n",
    "minute_range = np.linspace(5, 35, 30*200)\n",
    "\n",
    "weak_pdf = weak_prior.pdf(minute_range)\n",
    "strong_pdf = strong_prior.pdf(minute_range)\n",
    "\n",
    "ax.plot(minute_range, weak_pdf, color='steelblue', lw=4)\n",
    "ax.plot(minute_range, strong_pdf, color='darkred', lw=4)\n",
    "\n",
    "plt.show()"
   ]
  },
  {
   "cell_type": "markdown",
   "metadata": {},
   "source": [
    "Below, we define out parameters for our MCMC. We're defining the mean and standard deviation of our original prior, and setting it's distribution as normal given the logic we fleshed our above. You'll see some new terminology here, however, and that is the **initial statistic** and **proposal**.\n",
    "\n",
    "The ```initial_statistic``` is simply our starting position for the **random walk** like process the the Monte Carlo algorithm utilizes. The proposal is the process by which the Markov Chain models all potential states - you *propose* the alogorithm to move from one state position to the next.\n",
    "\n"
   ]
  },
  {
   "cell_type": "code",
   "execution_count": 27,
   "metadata": {
    "collapsed": true
   },
   "outputs": [],
   "source": [
    "original_prior_mean = 20 \n",
    "original_prior_std = 7\n",
    "\n",
    "prior_distribution = stats.norm\n",
    "proposal_distribution = stats.norm\n",
    "\n",
    "proposal_avg_step = 1\n",
    "initial_statistic = 20 \n",
    "iterations = 500"
   ]
  },
  {
   "cell_type": "markdown",
   "metadata": {},
   "source": [
    "Now, we're defining all of the aspects of our MCMC. Let's run through them: \n",
    "\n",
    "- The **likelihood**: We measure fit by deriving the probability of the data, given the likelihood with the proposed parameter values. Here, the statistic is just going to be the mean delay, the statistic we are measuring *P* is our prior belief about what the distribution of mean delays are data is our observed flight delays. The log likehood is typically used in MCMC, so I've included both standard likelihood and log-liklihood. \n",
    "\n",
    "- ```prior_logpdf```: Gets the log pdf for single means, given a prior statistic (mean) and standard deviation.\n",
    "\n",
    "- The calculation of the **proposal**, which we just discussed above.\n",
    "\n",
    "With these functions, we have a climing algorithm that proposes random jumps and will accept those jumps with the value of *m* has a higher liklihood than the previous value of *m*. Our algorithm will continue to repeat these steps. We introduce the metropolis sampler to create random draws from a “jump” distribution centered on the current parameter value defined by an acceptance criteria. This is essentially the iterative method that our algorithm uses. \n",
    "\n",
    "Lastly, we put the whole process together in a wrapped up MCMC that utilizes everything that we've discussed above."
   ]
  },
  {
   "cell_type": "code",
   "execution_count": 25,
   "metadata": {
    "collapsed": true
   },
   "outputs": [],
   "source": [
    "def log_likelihood(data, statistic, prior_distribution, prior_std):    \n",
    "    prior = prior_distribution(statistic, prior_std)\n",
    "    loglike = prior.logpdf(data)\n",
    "    return np.sum(loglike)\n",
    "\n",
    "def likelihood(data, statistic, prior_distribution, prior_std):\n",
    "    prior = prior_distribution(statistic, prior_std)\n",
    "    like = prior.pdf(data)\n",
    "    return like\n",
    "\n",
    "def prior_logpdf(statistic, prior_distribution, prior_statistic, prior_std):\n",
    "    prior = prior_distribution(prior_statistic, prior_std)\n",
    "    statistic_logpdf = prior.logpdf(statistic)\n",
    "    return statistic_logpdf\n",
    "\n",
    "def proposal(statistic, proposal_distribution, step_size):\n",
    "    dist = proposal_distribution(statistic, step_size)\n",
    "    new_proposed_statistic = dist.rvs()\n",
    "    return new_proposed_statistic\n",
    "\n",
    "def metropolis_sampler(data, statistic, prior_distribution, prior_statistic, prior_std,\n",
    "                       proposal_distribution, proposal_avg_step):\n",
    "    \n",
    "    current_loglike = log_likelihood(data, statistic, prior_distribution, prior_std)\n",
    "    current_prior_loglike = prior_logpdf(statistic, prior_distribution, prior_statistic, prior_std)\n",
    "    \n",
    "    proposed_shift = proposal(statistic, proposal_distribution, proposal_avg_step)\n",
    "    proposed_loglike = log_likelihood(data, proposed_shift, prior_distribution, prior_std)\n",
    "    proposed_prior_loglike = prior_logpdf(proposed_shift, prior_distribution, prior_statistic, prior_std)\n",
    "    \n",
    "    current_posterior_numerator_loglike = current_loglike + current_prior_loglike\n",
    "    proposed_posterior_numerator_loglike = proposed_loglike + proposed_prior_loglike\n",
    "    \n",
    "    acceptance_criterion = np.exp(proposed_posterior_numerator_loglike - current_posterior_numerator_loglike)\n",
    "    \n",
    "    accept = acceptance_criterion > np.random.rand()\n",
    "    \n",
    "    if accept:\n",
    "        return proposed_shift\n",
    "    else:\n",
    "        return statistic\n",
    "    \n",
    "def markov_chain_monte_carlo(data, initial_statistic,\n",
    "                             prior_distribution, prior_statistic, prior_std,\n",
    "                             proposal_distribution, proposal_avg_step,\n",
    "                             iterations=1000):\n",
    "    \n",
    "    statistic_posterior = [initial_statistic]\n",
    "    \n",
    "    current_statistic = initial_statistic\n",
    "    \n",
    "    for i in range(iterations):\n",
    "        \n",
    "        current_statistic = metropolis_sampler(data, current_statistic, prior_distribution, \n",
    "                                               prior_statistic, prior_std,\n",
    "                                               proposal_distribution, proposal_avg_step)\n",
    "        \n",
    "        statistic_posterior.append(current_statistic)\n",
    "        \n",
    "    return statistic_posterior\n",
    "    "
   ]
  },
  {
   "cell_type": "code",
   "execution_count": 22,
   "metadata": {
    "collapsed": false
   },
   "outputs": [
    {
     "name": "stdout",
     "output_type": "stream",
     "text": [
      "1.66714414815e-74\n"
     ]
    }
   ],
   "source": [
    "delay_loglikes = log_likelihood(delay_subset, 20, stats.norm, 10)\n",
    "delay_likes = likelihood(delay_subset, 20, stats.norm, 10)\n",
    "\n",
    "weak_likelihood = np.prod(np.exp(delay_loglikes))\n",
    "print weak_likelihood"
   ]
  },
  {
   "cell_type": "markdown",
   "metadata": {},
   "source": [
    "With that, we want want to calculate our posterior *m* by wrapping everying up into our MCMC. "
   ]
  },
  {
   "cell_type": "code",
   "execution_count": 28,
   "metadata": {
    "collapsed": false
   },
   "outputs": [],
   "source": [
    "posterior_mean_delay = markov_chain_monte_carlo(delay, initial_statistic, prior_distribution, original_prior_mean, original_prior_std, proposal_distribution, proposal_avg_step, iterations=iterations)"
   ]
  },
  {
   "cell_type": "markdown",
   "metadata": {},
   "source": [
    "Lastly, we can visualize our results:"
   ]
  },
  {
   "cell_type": "code",
   "execution_count": 31,
   "metadata": {
    "collapsed": false
   },
   "outputs": [
    {
     "data": {
      "image/png": "[encoded data removed]",
      "text/plain": [
       "<matplotlib.figure.Figure at 0x11741a790>"
      ]
     },
     "metadata": {},
     "output_type": "display_data"
    }
   ],
   "source": [
    "plt.figure(figsize=(7, 7))\n",
    "\n",
    "plt.hist(delay, color='steelblue', alpha=0.4, bins=30, normed=False)\n",
    "plt.hist(posterior_mean_delay, color='darkred', alpha=0.4, bins=10, normed=True)\n",
    "\n",
    "plt.show()"
   ]
  },
  {
   "cell_type": "code",
   "execution_count": 32,
   "metadata": {
    "collapsed": false
   },
   "outputs": [
    {
     "name": "stdout",
     "output_type": "stream",
     "text": [
      "16.2822488292 15.7786\n"
     ]
    }
   ],
   "source": [
    "print np.mean(posterior_mean_delay), np.mean(delay_subset)"
   ]
  },
  {
   "cell_type": "code",
   "execution_count": 33,
   "metadata": {
    "collapsed": false
   },
   "outputs": [
    {
     "data": {
      "image/png": "[encoded data removed]",
      "text/plain": [
       "<matplotlib.figure.Figure at 0x1173d3ed0>"
      ]
     },
     "metadata": {},
     "output_type": "display_data"
    }
   ],
   "source": [
    "plt.figure(figsize=(7, 7))\n",
    "\n",
    "plt.hist(posterior_mean_delay, color='darkred', alpha=0.4, bins=100, normed=False)\n",
    "\n",
    "plt.show()"
   ]
  },
  {
   "cell_type": "markdown",
   "metadata": {
    "collapsed": true
   },
   "source": [
    "## Wrapping it all up"
   ]
  },
  {
   "cell_type": "markdown",
   "metadata": {},
   "source": [
    "Now that we've learned about MCMC - how exactly is it useful and when will we ever be utilizing it in a practical sense? MCMC methods are some of the **most frequently used algorithms in computer science**. Let's look at some examples: \n",
    "\n",
    "- MCMC's are frequently used in Cryptology to decipher coded messages. If we look at the cypher code as the posterior, we can translate the cypher into human alphabet using an MCMC. \n",
    "- Hotels, airlines, and the like use MCMC's to analyze the rewards programs by deriving information from the simulated distribution that MCMC creates. \n",
    "- Governments utilizing MCMC to model the deterioration of public infrastructure (Maybe Metro should have used an MCMC!) "
   ]
  },
  {
   "cell_type": "code",
   "execution_count": null,
   "metadata": {
    "collapsed": true
   },
   "outputs": [],
   "source": []
  }
 ],
 "metadata": {
  "kernelspec": {
   "display_name": "Python 2",
   "language": "python",
   "name": "python2"
  },
  "language_info": {
   "codemirror_mode": {
    "name": "ipython",
    "version": 2
   },
   "file_extension": ".py",
   "mimetype": "text/x-python",
   "name": "python",
   "nbconvert_exporter": "python",
   "pygments_lexer": "ipython2",
   "version": "2.7.11"
  }
 },
 "nbformat": 4,
 "nbformat_minor": 0
}
