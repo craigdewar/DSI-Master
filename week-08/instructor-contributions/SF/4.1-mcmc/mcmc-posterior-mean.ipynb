{
 "cells": [
  {
   "cell_type": "code",
   "execution_count": 60,
   "metadata": {
    "collapsed": true
   },
   "outputs": [],
   "source": [
    "import numpy as np\n",
    "import scipy.stats as stats\n",
    "import pandas as pd\n",
    "from sklearn.neighbors import KernelDensity\n",
    "\n",
    "import seaborn as sns\n",
    "import matplotlib.pyplot as plt\n",
    "import matplotlib.mlab as mlab\n",
    "\n",
    "sns.set_style('white')\n",
    "\n",
    "%matplotlib inline"
   ]
  },
  {
   "cell_type": "code",
   "execution_count": 2,
   "metadata": {
    "collapsed": false
   },
   "outputs": [
    {
     "data": {
      "text/html": [
       "<div>\n",
       "<table border=\"1\" class=\"dataframe\">\n",
       "  <thead>\n",
       "    <tr style=\"text-align: right;\">\n",
       "      <th></th>\n",
       "      <th>airport</th>\n",
       "      <th>year</th>\n",
       "      <th>departures_for_metric_computation</th>\n",
       "      <th>arrivals_for_metric_computation</th>\n",
       "      <th>percent_on_time_gate_departures</th>\n",
       "      <th>percent_on_time_airport_departures</th>\n",
       "      <th>percent_on_time_gate_arrivals</th>\n",
       "      <th>average_gate_departure_delay</th>\n",
       "      <th>average_taxi_out_time</th>\n",
       "      <th>average_taxi_out_delay</th>\n",
       "      <th>average_airport_departure_delay</th>\n",
       "      <th>average_airborne_delay</th>\n",
       "      <th>average_taxi_in_delay</th>\n",
       "      <th>average_block_delay</th>\n",
       "      <th>average_gate_arrival_delay</th>\n",
       "    </tr>\n",
       "  </thead>\n",
       "  <tbody>\n",
       "    <tr>\n",
       "      <th>0</th>\n",
       "      <td>ABQ</td>\n",
       "      <td>2004</td>\n",
       "      <td>53971</td>\n",
       "      <td>53818</td>\n",
       "      <td>0.803</td>\n",
       "      <td>0.7809</td>\n",
       "      <td>0.7921</td>\n",
       "      <td>10.38</td>\n",
       "      <td>9.89</td>\n",
       "      <td>2.43</td>\n",
       "      <td>12.1</td>\n",
       "      <td>2.46</td>\n",
       "      <td>0.83</td>\n",
       "      <td>2.55</td>\n",
       "      <td>10.87</td>\n",
       "    </tr>\n",
       "    <tr>\n",
       "      <th>1</th>\n",
       "      <td>ABQ</td>\n",
       "      <td>2005</td>\n",
       "      <td>51829</td>\n",
       "      <td>51877</td>\n",
       "      <td>0.814</td>\n",
       "      <td>0.7922</td>\n",
       "      <td>0.8001</td>\n",
       "      <td>9.60</td>\n",
       "      <td>9.79</td>\n",
       "      <td>2.29</td>\n",
       "      <td>11.2</td>\n",
       "      <td>2.26</td>\n",
       "      <td>0.89</td>\n",
       "      <td>2.34</td>\n",
       "      <td>10.24</td>\n",
       "    </tr>\n",
       "  </tbody>\n",
       "</table>\n",
       "</div>"
      ],
      "text/plain": [
       "  airport  year  departures_for_metric_computation  \\\n",
       "0     ABQ  2004                              53971   \n",
       "1     ABQ  2005                              51829   \n",
       "\n",
       "   arrivals_for_metric_computation  percent_on_time_gate_departures  \\\n",
       "0                            53818                            0.803   \n",
       "1                            51877                            0.814   \n",
       "\n",
       "   percent_on_time_airport_departures  percent_on_time_gate_arrivals  \\\n",
       "0                              0.7809                         0.7921   \n",
       "1                              0.7922                         0.8001   \n",
       "\n",
       "   average_gate_departure_delay  average_taxi_out_time  \\\n",
       "0                         10.38                   9.89   \n",
       "1                          9.60                   9.79   \n",
       "\n",
       "   average_taxi_out_delay  average_airport_departure_delay  \\\n",
       "0                    2.43                             12.1   \n",
       "1                    2.29                             11.2   \n",
       "\n",
       "   average_airborne_delay  average_taxi_in_delay  average_block_delay  \\\n",
       "0                    2.46                   0.83                 2.55   \n",
       "1                    2.26                   0.89                 2.34   \n",
       "\n",
       "   average_gate_arrival_delay  \n",
       "0                       10.87  \n",
       "1                       10.24  "
      ]
     },
     "execution_count": 2,
     "metadata": {},
     "output_type": "execute_result"
    }
   ],
   "source": [
    "air = pd.read_csv('assets/datasets/airport_operations.csv')\n",
    "air.columns = [c.replace(' ','_').replace('-','_') for c in air.columns]\n",
    "air.head(2)"
   ]
  },
  {
   "cell_type": "code",
   "execution_count": 3,
   "metadata": {
    "collapsed": false
   },
   "outputs": [],
   "source": [
    "def proposal(statistic, proposal_distribution, step_size):\n",
    "    proposed = proposal_distribution(statistic, step_size).rvs()\n",
    "    return proposed\n",
    "\n",
    "def log_likelihood(data, statistic, prior_distribution, prior_scale):\n",
    "    loglike = prior_distribution(statistic, 1).logpdf(data)\n",
    "    return np.sum(loglike)\n",
    "\n",
    "def prior_logpdf(statistic, prior_distribution, prior_loc, prior_scale):\n",
    "    prior_logpdf = prior_distribution(prior_loc, prior_scale).logpdf(statistic)\n",
    "    return prior_logpdf"
   ]
  },
  {
   "cell_type": "code",
   "execution_count": 4,
   "metadata": {
    "collapsed": true
   },
   "outputs": [],
   "source": [
    "def metropolis_sampler(data, statistic, prior_distribution, prior_loc, prior_scale,\n",
    "                       proposal_distribution, step_size=1):\n",
    "    \n",
    "    current_loglike = log_likelihood(data, statistic, prior_distribution, prior_scale)\n",
    "    current_prior = prior_logpdf(statistic, prior_distribution, prior_loc, prior_scale)\n",
    "   \n",
    "    proposed = proposal(statistic, proposal_distribution, step_size)\n",
    "    proposed_loglike = log_likelihood(data, proposed, prior_distribution, prior_scale)\n",
    "    proposed_prior = prior_logpdf(proposed, prior_distribution, prior_loc, prior_scale)\n",
    "    \n",
    "    current_loglike_posterior = current_loglike + current_prior\n",
    "    proposed_loglike_posterior = proposed_loglike + proposed_prior\n",
    "    \n",
    "    acceptance_criterion = np.exp(proposed_loglike_posterior - current_loglike_posterior)\n",
    "    \n",
    "    accept = acceptance_criterion > np.random.rand()\n",
    "    \n",
    "    if accept:\n",
    "        return proposed\n",
    "    else:\n",
    "        return statistic\n",
    "    \n",
    "    "
   ]
  },
  {
   "cell_type": "code",
   "execution_count": 5,
   "metadata": {
    "collapsed": true
   },
   "outputs": [],
   "source": [
    "def markov_chain_monte_carlo(data, prior_distribution, prior_loc, prior_scale,\n",
    "                             proposal_distribution, step_size=1, initial_statistic=0,\n",
    "                             iterations=1000):\n",
    "    \n",
    "    statistic_posterior = [initial_statistic]\n",
    "    current_statistic = initial_statistic\n",
    "    \n",
    "    for i in range(iterations):\n",
    "        \n",
    "        current_statistic = metropolis_sampler(data, current_statistic,\n",
    "                                               prior_distribution,\n",
    "                                               prior_loc, prior_scale,\n",
    "                                               proposal_distribution,\n",
    "                                               step_size=step_size)\n",
    "        \n",
    "        statistic_posterior.append(current_statistic)\n",
    "\n",
    "        \n",
    "    return statistic_posterior\n",
    "    \n",
    "    "
   ]
  },
  {
   "cell_type": "code",
   "execution_count": 106,
   "metadata": {
    "collapsed": false
   },
   "outputs": [
    {
     "name": "stdout",
     "output_type": "stream",
     "text": [
      "13.7033888228\n"
     ]
    }
   ],
   "source": [
    "data = air.average_taxi_out_time.values\n",
    "\n",
    "prior_loc = np.mean(data)\n",
    "prior_scale = 1.\n",
    "prior_distribution = stats.norm\n",
    "proposal_distribution = stats.norm\n",
    "\n",
    "step_size=1.\n",
    "initial_statistic = np.mean(data)\n",
    "iterations = 10000\n",
    "print prior_loc"
   ]
  },
  {
   "cell_type": "code",
   "execution_count": 108,
   "metadata": {
    "collapsed": false,
    "scrolled": false
   },
   "outputs": [],
   "source": [
    "statistic_posterior = markov_chain_monte_carlo(data, prior_distribution,\n",
    "                                               prior_loc, prior_scale,\n",
    "                                               proposal_distribution,\n",
    "                                               step_size=step_size, \n",
    "                                               initial_statistic=prior_loc,\n",
    "                                               iterations=iterations)"
   ]
  },
  {
   "cell_type": "code",
   "execution_count": 109,
   "metadata": {
    "collapsed": true
   },
   "outputs": [],
   "source": [
    "def kde(x, data, bandwidth=0.5):\n",
    "    # gaussian kde density\n",
    "    data = np.array(data).reshape(-1, 1)\n",
    "    kde_estimator = KernelDensity(bandwidth=bandwidth)\n",
    "    density = np.exp(kde_estimator.fit(data).score_samples(data))\n",
    "    return density\n"
   ]
  },
  {
   "cell_type": "code",
   "execution_count": 120,
   "metadata": {
    "collapsed": false
   },
   "outputs": [],
   "source": [
    "def plot_posterior_charts(data, statistic_posterior, prior_distribution,\n",
    "                          prior_loc, prior_scale,\n",
    "                          burn_buffer=30, burn_stop=100,\n",
    "                          kde_detail=1.):\n",
    "    \n",
    "    # set up figure and axes\n",
    "    f, (ax1, ax2) = plt.subplots(1, 2, sharey=False, sharex=False, figsize=(18,6))\n",
    "    \n",
    "    # get posterior with burn\n",
    "    if len(statistic_posterior) > burn_buffer:\n",
    "        burn = min(burn_stop, len(statistic_posterior)-burn_buffer)\n",
    "    else:\n",
    "        burn = 0\n",
    "    \n",
    "    posterior = statistic_posterior[burn:]\n",
    "\n",
    "    ax1 = sns.distplot(data, color='grey', \n",
    "                       kde_kws={'lw':1.5, 'alpha':0.85},\n",
    "                       hist_kws={'alpha':0.6}, ax=ax1,\n",
    "                       norm_hist=False, bins=min(50, len(data)))\n",
    "    \n",
    "    #data_buffer = np.ptp(data)/10.\n",
    "    #ax1.set_xlim([min(data)-data_buffer, max(data)+data_buffer])\n",
    "    \n",
    "    #x1_limits = ax1.get_xlim()\n",
    "    #x1_granular = np.linspace(x1_limits[0], x1_limits[1], len(data))\n",
    "    #print len(x1_granular)\n",
    "    \n",
    "    #prior = prior_distribution(prior_loc, prior_scale)\n",
    "    #prior_density1 = prior.rvs(size=len(x1_granular))#np.exp(prior.logpdf(data))\n",
    "    #ax1.plot(x1_granular, prior_density1, color='darkred', lw=1.5, alpha=0.85, normed=True)\n",
    "    \n",
    "    #prior_density1 = mlab.normpdf(x1_granular, prior_loc, prior_scale)\n",
    "    #ax1.plot(x1_granular, prior.pdf(x1_granular),\n",
    "    #        color='darkred', lw=2, alpha=0.3)\n",
    "    \n",
    "    #posterior_density1 = mlab.GaussianKDE(posterior).evaluate(x1_granular)\n",
    "    #print posterior_density1\n",
    "    #posterior_density1 = kde(x1_granular, posterior, bandwidth=kde_detail)\n",
    "    #ax1.hist(posterior, color='steelblue', lw=1.5, alpha=0.85, normed=True)\n",
    "\n",
    "    ax2 = sns.distplot(posterior, color='steelblue', \n",
    "                       kde_kws={'lw':1.5, 'alpha':0.85},\n",
    "                       hist_kws={'alpha':0.6}, ax=ax2,\n",
    "                       norm_hist=False, bins=min(25, len(posterior)))\n",
    "    \n",
    "    #ax2.set_ylim([0., max(posterior/np.sum(posterior))])\n",
    "    \n",
    "    #post_buffer = np.ptp(posterior)/10.\n",
    "    #ax2.set_xlim([min(posterior)-post_buffer, max(posterior)+post_buffer])\n",
    "    \n",
    "    #x2_limits = ax2.get_xlim()\n",
    "    #x2_granular = np.linspace(x2_limits[0], x2_limits[1], 1000)\n",
    "    \n",
    "    #prior_density2 = mlab.normpdf(x2_granular, prior_loc, prior_scale)\n",
    "    #ax1.plot(x2_granular, prior_density2, color='darkred', lw=1.5, alpha=0.85)\n",
    "    \n",
    "    #prior_density2 = np.exp(prior.logpdf(x2_granular))\n",
    "    #ax2.plot(prior_density2, color='darkred', lw=1.5, alpha=0.85)\n",
    "    \n",
    "    #print ax2.get_xlim()\n",
    "\n",
    "    plt.show()"
   ]
  },
  {
   "cell_type": "code",
   "execution_count": 121,
   "metadata": {
    "collapsed": false
   },
   "outputs": [
    {
     "data": {
      "image/png": "[encoded data removed]",
      "text/plain": [
       "<matplotlib.figure.Figure at 0x11cc64290>"
      ]
     },
     "metadata": {},
     "output_type": "display_data"
    }
   ],
   "source": [
    "plot_posterior_charts(data, statistic_posterior, prior_distribution,\n",
    "                      prior_loc, prior_scale,\n",
    "                      burn_buffer=30, burn_stop=100, kde_detail=1.)"
   ]
  },
  {
   "cell_type": "code",
   "execution_count": null,
   "metadata": {
    "collapsed": true
   },
   "outputs": [],
   "source": []
  }
 ],
 "metadata": {
  "kernelspec": {
   "display_name": "Python 2",
   "language": "python",
   "name": "python2"
  },
  "language_info": {
   "codemirror_mode": {
    "name": "ipython",
    "version": 2
   },
   "file_extension": ".py",
   "mimetype": "text/x-python",
   "name": "python",
   "nbconvert_exporter": "python",
   "pygments_lexer": "ipython2",
   "version": "2.7.11"
  }
 },
 "nbformat": 4,
 "nbformat_minor": 0
}
