{
 "cells": [
  {
   "cell_type": "markdown",
   "metadata": {},
   "source": [
    "# Beta distributions on election data \n",
    "\n",
    "In this lab you will be looking at [election data taken from Andrew Gelman's book on Bayesian statistics](http://www.stat.columbia.edu/~gelman/arm/examples/election88/) (highly recommended!).\n",
    "\n",
    "---\n",
    "\n",
    "## Dataset\n",
    "\n",
    "The initial parsing code for the data has been completed to save you time so you can get to the Bayesian stuff. You are still required to perform some feature engineering though.\n",
    "\n",
    "The data contains polling information for George H.W. Bush as well as election information. \n",
    "\n",
    "The polling information indicates samples by state of who intends to vote for Bush or not. The voting information is a sample after the election asking who actually voted for bush or not.\n",
    "\n",
    "---"
   ]
  },
  {
   "cell_type": "markdown",
   "metadata": {},
   "source": [
    "## 1. Import and parse the data\n",
    "\n",
    "This portion is done for you. There are two datasets:\n",
    "\n",
    "    election88  :  this contains the election voting poll information\n",
    "    pre_poll    :  this contains the pre-election voting poll information"
   ]
  },
  {
   "cell_type": "code",
   "execution_count": 1,
   "metadata": {
    "collapsed": false,
    "scrolled": true
   },
   "outputs": [
    {
     "name": "stdout",
     "output_type": "stream",
     "text": [
      "   state_id  st  electionresult  vote_total    raking  _merge\n",
      "0         1  AL            0.59         203  0.673067       3\n",
      "2         3  AZ            0.60         194  0.568980       3\n",
      "3         4  AR            0.56         121  0.563672       3\n"
     ]
    }
   ],
   "source": [
    "import pandas as pd\n",
    "import numpy as np\n",
    "\n",
    "election88 = pd.read_csv('./datasets/election88.csv')\n",
    "\n",
    "election88.rename(columns={'stnum':'state_id','samplesize':'vote_total'}, inplace=True)\n",
    "\n",
    "election88 = election88[~election88.st.isin(['DC','AK','HI'])]\n",
    "\n",
    "print election88.head(3)"
   ]
  },
  {
   "cell_type": "code",
   "execution_count": 2,
   "metadata": {
    "collapsed": false
   },
   "outputs": [
    {
     "name": "stdout",
     "output_type": "stream",
     "text": [
      "   year survey  bush  state_id  edu  age  female  black  weight  st\n",
      "0     1   9152   1.0         7    2    2       1      0    1403  CT\n",
      "1     1   9152   1.0         7    4    3       1      0     701  CT\n",
      "2     1   9152   0.0         7    2    1       0      0    4341  CT\n",
      "(13525, 10)\n"
     ]
    }
   ],
   "source": [
    "# Reading in the poll csv file\n",
    "pre_poll = pd.read_csv('./datasets/polls.csv')\n",
    "\n",
    "# remove unneccessary columns:\n",
    "del pre_poll['org']\n",
    "\n",
    "pre_poll.rename(columns={'state':'state_id'}, inplace=True)\n",
    "\n",
    "pre_poll = pre_poll.merge(election88[['state_id','st']], on='state_id')\n",
    "\n",
    "print pre_poll.head(3)\n",
    "print pre_poll.shape"
   ]
  },
  {
   "cell_type": "code",
   "execution_count": 3,
   "metadata": {
    "collapsed": false
   },
   "outputs": [
    {
     "name": "stdout",
     "output_type": "stream",
     "text": [
      "CA    1493\n",
      "NY     894\n",
      "TX     788\n",
      "FL     750\n",
      "PA     616\n",
      "OH     605\n",
      "IL     567\n",
      "MI     530\n",
      "NJ     428\n",
      "WA     393\n",
      "WI     389\n",
      "MA     373\n",
      "VA     354\n",
      "NC     346\n",
      "TN     329\n",
      "GA     316\n",
      "MO     309\n",
      "IN     291\n",
      "MN     289\n",
      "MD     284\n",
      "SC     223\n",
      "MS     220\n",
      "KY     210\n",
      "AL     203\n",
      "LA     196\n",
      "AZ     194\n",
      "CO     181\n",
      "CT     171\n",
      "OR     149\n",
      "IA     143\n",
      "KS     141\n",
      "OK     130\n",
      "NE     125\n",
      "AR     121\n",
      "WV     117\n",
      "NM     109\n",
      "RI      91\n",
      "UT      79\n",
      "SD      60\n",
      "ND      60\n",
      "ME      51\n",
      "ID      42\n",
      "MT      40\n",
      "DE      39\n",
      "NV      32\n",
      "NH      27\n",
      "WY      15\n",
      "VT      12\n",
      "Name: st, dtype: int64\n"
     ]
    }
   ],
   "source": [
    "# print state category counts\n",
    "print pre_poll['st'].value_counts()"
   ]
  },
  {
   "cell_type": "markdown",
   "metadata": {},
   "source": [
    "--- \n",
    "\n",
    "## 2. In the poll data, compute the number of people who did and didn't intend to vote for Bush by state."
   ]
  },
  {
   "cell_type": "code",
   "execution_count": null,
   "metadata": {
    "collapsed": false
   },
   "outputs": [],
   "source": []
  },
  {
   "cell_type": "markdown",
   "metadata": {},
   "source": [
    "--- \n",
    "\n",
    "## 3. In the vote data, compute the number of people who did and didn't vote for Bush by state."
   ]
  },
  {
   "cell_type": "code",
   "execution_count": null,
   "metadata": {
    "collapsed": true
   },
   "outputs": [],
   "source": []
  },
  {
   "cell_type": "markdown",
   "metadata": {},
   "source": [
    "---\n",
    "\n",
    "## 4. Merge the poll and vote data together by state"
   ]
  },
  {
   "cell_type": "code",
   "execution_count": null,
   "metadata": {
    "collapsed": false
   },
   "outputs": [],
   "source": []
  },
  {
   "cell_type": "markdown",
   "metadata": {},
   "source": [
    "---\n",
    "\n",
    "## 5. Construct a function to plot beta probability distributions based on poll and vote counts\n",
    "\n",
    "The distributions should be on the same chart."
   ]
  },
  {
   "cell_type": "code",
   "execution_count": 4,
   "metadata": {
    "collapsed": false
   },
   "outputs": [],
   "source": [
    "from scipy.stats import beta\n",
    "import matplotlib.pyplot as plt\n",
    "import seaborn as sns\n",
    "\n",
    "sns.set_style('white')\n",
    "%matplotlib inline"
   ]
  },
  {
   "cell_type": "code",
   "execution_count": null,
   "metadata": {
    "collapsed": true
   },
   "outputs": [],
   "source": []
  },
  {
   "cell_type": "markdown",
   "metadata": {},
   "source": [
    "---\n",
    "\n",
    "## 6. Select 4 states of your choice and plot the beta distributions\n"
   ]
  },
  {
   "cell_type": "code",
   "execution_count": null,
   "metadata": {
    "collapsed": false
   },
   "outputs": [],
   "source": []
  },
  {
   "cell_type": "markdown",
   "metadata": {},
   "source": [
    "---\n",
    "\n",
    "## 7. [BONUS] Use bootstrapping to estimate the percent of the voting distribution greater than the polling distribution\n",
    "\n",
    "Selecting random samples from a beta distribution can be done with:\n",
    "\n",
    "```python\n",
    "from numpy.random import beta as random_beta\n",
    "```\n",
    "\n",
    "HINT: You will want to calculate the percentage of random draws from the voting distribution that are greater than all of the draws from the poll distribution."
   ]
  },
  {
   "cell_type": "code",
   "execution_count": 5,
   "metadata": {
    "collapsed": false
   },
   "outputs": [],
   "source": [
    "from numpy.random import beta as random_beta"
   ]
  },
  {
   "cell_type": "code",
   "execution_count": null,
   "metadata": {
    "collapsed": true
   },
   "outputs": [],
   "source": []
  }
 ],
 "metadata": {
  "kernelspec": {
   "display_name": "Python 2",
   "language": "python",
   "name": "python2"
  },
  "language_info": {
   "codemirror_mode": {
    "name": "ipython",
    "version": 2
   },
   "file_extension": ".py",
   "mimetype": "text/x-python",
   "name": "python",
   "nbconvert_exporter": "python",
   "pygments_lexer": "ipython2",
   "version": "2.7.11"
  }
 },
 "nbformat": 4,
 "nbformat_minor": 0
}
