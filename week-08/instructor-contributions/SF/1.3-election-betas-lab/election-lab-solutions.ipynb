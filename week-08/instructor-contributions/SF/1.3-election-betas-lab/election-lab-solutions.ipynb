{
 "cells": [
  {
   "cell_type": "markdown",
   "metadata": {},
   "source": [
    "# Beta distributions on election data \n",
    "\n",
    "In this lab you will be looking at [election data taken from Andrew Gelman's book on Bayesian statistics](http://www.stat.columbia.edu/~gelman/arm/examples/election88/) (highly recommended!).\n",
    "\n",
    "---\n",
    "\n",
    "## Dataset\n",
    "\n",
    "The initial parsing code for the data has been completed to save you time so you can get to the Bayesian stuff. You are still required to perform some feature engineering though.\n",
    "\n",
    "The data contains polling information for George H.W. Bush as well as election information. \n",
    "\n",
    "The polling information indicates samples by state of who intends to vote for Bush or not. The voting information is a sample after the election asking who actually voted for bush or not.\n",
    "\n",
    "---"
   ]
  },
  {
   "cell_type": "markdown",
   "metadata": {},
   "source": [
    "## 1. Import and parse the data\n",
    "\n",
    "This portion is done for you. There are two datasets:\n",
    "\n",
    "    election88  :  this contains the election voting poll information\n",
    "    pre_poll    :  this contains the pre-election voting poll information"
   ]
  },
  {
   "cell_type": "code",
   "execution_count": 1,
   "metadata": {
    "collapsed": false,
    "scrolled": true
   },
   "outputs": [
    {
     "name": "stdout",
     "output_type": "stream",
     "text": [
      "    state_id  st  electionresult  vote_total    raking  _merge  vote_bush\n",
      "0          1  AL            0.59         203  0.673067       3      120.0\n",
      "2          3  AZ            0.60         194  0.568980       3      116.0\n",
      "3          4  AR            0.56         121  0.563672       3       68.0\n",
      "4          5  CA            0.51        1493  0.531725       3      761.0\n",
      "5          6  CO            0.53         181  0.599325       3       96.0\n",
      "6          7  CT            0.52         171  0.519580       3       89.0\n",
      "7          8  DE            0.56          39  0.444178       3       22.0\n",
      "9         10  FL            0.61         750  0.623274       3      458.0\n",
      "10        11  GA            0.60         316  0.537512       3      190.0\n",
      "12        13  ID            0.62          42  0.438164       3       26.0\n",
      "13        14  IL            0.51         567  0.496166       3      289.0\n",
      "14        15  IN            0.60         291  0.682633       3      175.0\n",
      "15        16  IA            0.45         143  0.387524       3       64.0\n",
      "16        17  KS            0.56         141  0.658353       3       79.0\n",
      "17        18  KY            0.56         210  0.650197       3      118.0\n",
      "18        19  LA            0.54         196  0.574370       3      106.0\n",
      "19        20  ME            0.55          51  0.553497       3       28.0\n",
      "20        21  MD            0.51         284  0.451037       3      145.0\n",
      "21        22  MA            0.45         373  0.459859       3      168.0\n",
      "22        23  MI            0.54         530  0.523901       3      286.0\n",
      "23        24  MN            0.46         289  0.468303       3      133.0\n",
      "24        25  MS            0.60         220  0.608176       3      132.0\n",
      "25        26  MO            0.52         309  0.448425       3      161.0\n",
      "26        27  MT            0.52          40  0.371521       3       21.0\n",
      "27        28  NE            0.60         125  0.595187       3       75.0\n",
      "28        29  NV            0.59          32  0.512611       3       19.0\n",
      "29        30  NH            0.62          27  0.688476       3       17.0\n",
      "30        31  NJ            0.56         428  0.571948       3      240.0\n",
      "31        32  NM            0.52         109  0.532814       3       57.0\n",
      "32        33  NY            0.48         894  0.456643       3      429.0\n",
      "33        34  NC            0.58         346  0.617115       3      201.0\n",
      "34        35  ND            0.56          60  0.640970       3       34.0\n",
      "35        36  OH            0.55         605  0.626706       3      333.0\n",
      "36        37  OK            0.58         130  0.507765       3       75.0\n",
      "37        38  OR            0.47         149  0.499180       3       70.0\n",
      "38        39  PA            0.51         616  0.497529       3      314.0\n",
      "39        40  RI            0.44          91  0.424055       3       40.0\n",
      "40        41  SC            0.62         223  0.616524       3      138.0\n",
      "41        42  SD            0.53          60  0.505656       3       32.0\n",
      "42        43  TN            0.58         329  0.668285       3      191.0\n",
      "43        44  TX            0.56         788  0.531733       3      441.0\n",
      "44        45  UT            0.66          79  0.812587       3       52.0\n",
      "45        46  VT            0.51          12  0.802644       3        6.0\n",
      "46        47  VA            0.60         354  0.624666       3      212.0\n",
      "47        48  WA            0.49         393  0.473773       3      193.0\n",
      "48        49  WV            0.48         117  0.534503       3       56.0\n",
      "49        50  WI            0.48         389  0.527082       3      187.0\n",
      "50        51  WY            0.61          15  0.568052       3        9.0\n"
     ]
    }
   ],
   "source": [
    "import pandas as pd\n",
    "import numpy as np\n",
    "\n",
    "election88 = pd.read_csv('./datasets/election88.csv')\n",
    "\n",
    "election88.rename(columns={'stnum':'state_id','samplesize':'vote_total'}, inplace=True)\n",
    "\n",
    "election88 = election88[~election88.st.isin(['DC','AK','HI'])]\n",
    "\n",
    "print election88.head(3)"
   ]
  },
  {
   "cell_type": "code",
   "execution_count": 3,
   "metadata": {
    "collapsed": false
   },
   "outputs": [
    {
     "name": "stdout",
     "output_type": "stream",
     "text": [
      "   year survey  bush  state_id  edu  age  female  black  weight  st\n",
      "0     1   9152   1.0         7    2    2       1      0    1403  CT\n",
      "1     1   9152   1.0         7    4    3       1      0     701  CT\n",
      "2     1   9152   0.0         7    2    1       0      0    4341  CT\n",
      "(13525, 10)\n"
     ]
    }
   ],
   "source": [
    "# Reading in the poll csv file\n",
    "pre_poll = pd.read_csv('./datasets/polls.csv')\n",
    "\n",
    "# remove unneccessary columns:\n",
    "del pre_poll['org']\n",
    "\n",
    "pre_poll.rename(columns={'state':'state_id'}, inplace=True)\n",
    "\n",
    "pre_poll = pre_poll.merge(election88[['state_id','st']], on='state_id')\n",
    "\n",
    "print pre_poll.head(3)\n",
    "print pre_poll.shape"
   ]
  },
  {
   "cell_type": "code",
   "execution_count": 7,
   "metadata": {
    "collapsed": false
   },
   "outputs": [
    {
     "name": "stdout",
     "output_type": "stream",
     "text": [
      "CA    1493\n",
      "NY     894\n",
      "TX     788\n",
      "FL     750\n",
      "PA     616\n",
      "OH     605\n",
      "IL     567\n",
      "MI     530\n",
      "NJ     428\n",
      "WA     393\n",
      "WI     389\n",
      "MA     373\n",
      "VA     354\n",
      "NC     346\n",
      "TN     329\n",
      "GA     316\n",
      "MO     309\n",
      "IN     291\n",
      "MN     289\n",
      "MD     284\n",
      "SC     223\n",
      "MS     220\n",
      "KY     210\n",
      "AL     203\n",
      "LA     196\n",
      "AZ     194\n",
      "CO     181\n",
      "CT     171\n",
      "OR     149\n",
      "IA     143\n",
      "KS     141\n",
      "OK     130\n",
      "NE     125\n",
      "AR     121\n",
      "WV     117\n",
      "NM     109\n",
      "RI      91\n",
      "UT      79\n",
      "SD      60\n",
      "ND      60\n",
      "ME      51\n",
      "ID      42\n",
      "MT      40\n",
      "DE      39\n",
      "NV      32\n",
      "NH      27\n",
      "WY      15\n",
      "VT      12\n",
      "Name: st, dtype: int64\n"
     ]
    }
   ],
   "source": [
    "# print state category counts\n",
    "print pre_poll['st'].value_counts()"
   ]
  },
  {
   "cell_type": "markdown",
   "metadata": {},
   "source": [
    "--- \n",
    "\n",
    "## 2. In the poll data, compute the number of people who did and didn't intend to vote for Bush by state."
   ]
  },
  {
   "cell_type": "code",
   "execution_count": 9,
   "metadata": {
    "collapsed": false
   },
   "outputs": [
    {
     "data": {
      "text/html": [
       "<div>\n",
       "<table border=\"1\" class=\"dataframe\">\n",
       "  <thead>\n",
       "    <tr style=\"text-align: right;\">\n",
       "      <th></th>\n",
       "      <th>poll_vote_bush</th>\n",
       "      <th>poll_vote_total</th>\n",
       "      <th>st</th>\n",
       "    </tr>\n",
       "  </thead>\n",
       "  <tbody>\n",
       "    <tr>\n",
       "      <th>0</th>\n",
       "      <td>113.0</td>\n",
       "      <td>159</td>\n",
       "      <td>AL</td>\n",
       "    </tr>\n",
       "    <tr>\n",
       "      <th>1</th>\n",
       "      <td>59.0</td>\n",
       "      <td>101</td>\n",
       "      <td>AR</td>\n",
       "    </tr>\n",
       "    <tr>\n",
       "      <th>2</th>\n",
       "      <td>99.0</td>\n",
       "      <td>168</td>\n",
       "      <td>AZ</td>\n",
       "    </tr>\n",
       "  </tbody>\n",
       "</table>\n",
       "</div>"
      ],
      "text/plain": [
       "   poll_vote_bush  poll_vote_total  st\n",
       "0           113.0              159  AL\n",
       "1            59.0              101  AR\n",
       "2            99.0              168  AZ"
      ]
     },
     "execution_count": 9,
     "metadata": {},
     "output_type": "execute_result"
    }
   ],
   "source": [
    "def percent_bush_state(df):\n",
    "    df = df[~df.bush.isnull()]\n",
    "    df['poll_vote_bush'] = np.sum(df.bush)\n",
    "    df['poll_vote_total'] = df.shape[0]\n",
    "    df = df[['poll_vote_bush','poll_vote_total','st']]\n",
    "    df.drop_duplicates(inplace=True)\n",
    "    return df\n",
    "\n",
    "state_bushpct_poll = pre_poll.groupby(['st']).apply(percent_bush_state).reset_index(drop=True)\n",
    "state_bushpct_poll.head(3)"
   ]
  },
  {
   "cell_type": "markdown",
   "metadata": {},
   "source": [
    "--- \n",
    "\n",
    "## 3. In the vote data, compute the number of people who did and didn't vote for Bush by state."
   ]
  },
  {
   "cell_type": "code",
   "execution_count": null,
   "metadata": {
    "collapsed": true
   },
   "outputs": [],
   "source": [
    "election88['vote_bush'] = np.around((election88.electionresult*election88.vote_total).values)\n"
   ]
  },
  {
   "cell_type": "markdown",
   "metadata": {},
   "source": [
    "---\n",
    "\n",
    "## 4. Merge the poll and vote data together by state"
   ]
  },
  {
   "cell_type": "code",
   "execution_count": 10,
   "metadata": {
    "collapsed": false
   },
   "outputs": [
    {
     "data": {
      "text/html": [
       "<div>\n",
       "<table border=\"1\" class=\"dataframe\">\n",
       "  <thead>\n",
       "    <tr style=\"text-align: right;\">\n",
       "      <th></th>\n",
       "      <th>poll_vote_bush</th>\n",
       "      <th>poll_vote_total</th>\n",
       "      <th>st</th>\n",
       "      <th>vote_bush</th>\n",
       "      <th>vote_total</th>\n",
       "    </tr>\n",
       "  </thead>\n",
       "  <tbody>\n",
       "    <tr>\n",
       "      <th>0</th>\n",
       "      <td>113.0</td>\n",
       "      <td>159</td>\n",
       "      <td>AL</td>\n",
       "      <td>120.0</td>\n",
       "      <td>203</td>\n",
       "    </tr>\n",
       "    <tr>\n",
       "      <th>1</th>\n",
       "      <td>59.0</td>\n",
       "      <td>101</td>\n",
       "      <td>AR</td>\n",
       "      <td>68.0</td>\n",
       "      <td>121</td>\n",
       "    </tr>\n",
       "    <tr>\n",
       "      <th>2</th>\n",
       "      <td>99.0</td>\n",
       "      <td>168</td>\n",
       "      <td>AZ</td>\n",
       "      <td>116.0</td>\n",
       "      <td>194</td>\n",
       "    </tr>\n",
       "  </tbody>\n",
       "</table>\n",
       "</div>"
      ],
      "text/plain": [
       "   poll_vote_bush  poll_vote_total  st  vote_bush  vote_total\n",
       "0           113.0              159  AL      120.0         203\n",
       "1            59.0              101  AR       68.0         121\n",
       "2            99.0              168  AZ      116.0         194"
      ]
     },
     "execution_count": 10,
     "metadata": {},
     "output_type": "execute_result"
    }
   ],
   "source": [
    "state_poll_vs_result = state_bushpct_poll.merge(election88[['st','vote_bush','vote_total']], on='st')\n",
    "state_poll_vs_result.head(3)"
   ]
  },
  {
   "cell_type": "markdown",
   "metadata": {},
   "source": [
    "---\n",
    "\n",
    "## 5. Construct a function to plot beta probability distributions based on poll and vote counts\n",
    "\n",
    "The distributions should be on the same chart."
   ]
  },
  {
   "cell_type": "code",
   "execution_count": 14,
   "metadata": {
    "collapsed": false
   },
   "outputs": [],
   "source": [
    "from scipy.stats import beta\n",
    "import matplotlib.pyplot as plt\n",
    "import seaborn as sns\n",
    "\n",
    "sns.set_style('white')\n",
    "%matplotlib inline"
   ]
  },
  {
   "cell_type": "code",
   "execution_count": 23,
   "metadata": {
    "collapsed": true
   },
   "outputs": [],
   "source": [
    "def poll_vote_betas(vote_a, vote_b, poll_a, poll_b, state):\n",
    "\n",
    "    plt.figure(figsize=(7,6))\n",
    "    pr = np.linspace(0.001, 0.999, 1000)\n",
    "    \n",
    "    # vote beta:\n",
    "    plt.plot(pr, beta.pdf(pr, vote_a, vote_b), lw=3, c='darkred', label='vote')\n",
    "    \n",
    "    # poll beta:\n",
    "    plt.plot(pr, beta.pdf(pr, poll_a, poll_b), lw=3, c='steelblue', label='poll')\n",
    "    \n",
    "    # poll beta:\n",
    "    plt.title(state+' poll vs. vote beta distributions', fontsize=20)\n",
    "    plt.xlabel('probability density', fontsize=16)\n",
    "    plt.ylabel('P(bush)', fontsize=16)\n",
    "    \n",
    "    plt.legend(loc='upper left', fontsize=14)\n",
    "\n",
    "    plt.show()"
   ]
  },
  {
   "cell_type": "markdown",
   "metadata": {},
   "source": [
    "---\n",
    "\n",
    "## 6. Select 4 states of your choice and plot the beta distributions\n"
   ]
  },
  {
   "cell_type": "code",
   "execution_count": 24,
   "metadata": {
    "collapsed": false
   },
   "outputs": [
    {
     "data": {
      "image/png": "[encoded data removed]",
      "text/plain": [
       "<matplotlib.figure.Figure at 0x11b5254d0>"
      ]
     },
     "metadata": {},
     "output_type": "display_data"
    }
   ],
   "source": [
    "poll_vote_betas(113, 159-113, 120, 203-120, 'AL')"
   ]
  },
  {
   "cell_type": "markdown",
   "metadata": {},
   "source": [
    "---\n",
    "\n",
    "## 7. [BONUS] Use bootstrapping to estimate the percent of the voting distribution greater than the polling distribution\n",
    "\n",
    "Selecting random samples from a beta distribution can be done with:\n",
    "\n",
    "```python\n",
    "from numpy.random import beta as random_beta\n",
    "```\n",
    "\n",
    "HINT: You will want to calculate the percentage of random draws from the voting distribution that are greater than all of the draws from the poll distribution."
   ]
  },
  {
   "cell_type": "code",
   "execution_count": 32,
   "metadata": {
    "collapsed": false
   },
   "outputs": [],
   "source": [
    "from numpy.random import beta as random_beta"
   ]
  },
  {
   "cell_type": "code",
   "execution_count": 63,
   "metadata": {
    "collapsed": true
   },
   "outputs": [],
   "source": [
    "def bootstrap_beta_stats(vote_a, vote_b, poll_a, poll_b, boot_iterations=10000):\n",
    "    a_draws = []\n",
    "    b_draws = []\n",
    "    \n",
    "    for i in range(boot_iterations):\n",
    "        bootstrap_a = random_beta(vote_a, vote_b)\n",
    "        bootstrap_b = random_beta(poll_a, poll_b)\n",
    "        \n",
    "        a_draws.append(bootstrap_a)\n",
    "        b_draws.append(bootstrap_b)\n",
    "    \n",
    "    a_draws = np.array(a_draws)\n",
    "    b_draws = np.array(b_draws)\n",
    "    \n",
    "    a_ascending = np.sort(a_draws)\n",
    "    \n",
    "    # syntax for reverse sorting a numpy array\n",
    "    b_descending = np.sort(b_draws)[::-1]\n",
    "    \n",
    "    print(a_ascending[0:10])\n",
    "    print(b_descending[0:10])\n",
    "    \n",
    "    return np.sum(a_ascending > b_descending)/float(boot_iterations)"
   ]
  },
  {
   "cell_type": "code",
   "execution_count": 64,
   "metadata": {
    "collapsed": false
   },
   "outputs": [
    {
     "name": "stdout",
     "output_type": "stream",
     "text": [
      "[ 0.56601288  0.56841895  0.57360481  0.57977624  0.5814523   0.58280681\n",
      "  0.58406072  0.58772118  0.5883333   0.58883489]\n",
      "[ 0.72366488  0.71934125  0.71521888  0.71358031  0.71286535  0.71080577\n",
      "  0.70991479  0.70287244  0.6987315   0.69817518]\n"
     ]
    },
    {
     "data": {
      "text/plain": [
       "0.9546"
      ]
     },
     "execution_count": 64,
     "metadata": {},
     "output_type": "execute_result"
    }
   ],
   "source": [
    "bootstrap_beta_stats(113, 159-113, 120, 203-120)"
   ]
  },
  {
   "cell_type": "code",
   "execution_count": null,
   "metadata": {
    "collapsed": true
   },
   "outputs": [],
   "source": []
  }
 ],
 "metadata": {
  "kernelspec": {
   "display_name": "Python 2",
   "language": "python",
   "name": "python2"
  },
  "language_info": {
   "codemirror_mode": {
    "name": "ipython",
    "version": 2
   },
   "file_extension": ".py",
   "mimetype": "text/x-python",
   "name": "python",
   "nbconvert_exporter": "python",
   "pygments_lexer": "ipython2",
   "version": "2.7.11"
  }
 },
 "nbformat": 4,
 "nbformat_minor": 0
}
