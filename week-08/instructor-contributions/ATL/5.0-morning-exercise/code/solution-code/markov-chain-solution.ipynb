{
 "cells": [
  {
   "cell_type": "markdown",
   "metadata": {},
   "source": [
    "Translate this [image](https://upload.wikimedia.org/wikipedia/commons/9/95/Finance_Markov_chain_example_state_space.svg) of a Markov process into a transition matrix.  If the initial state of the system (time=0) is \"bear,\" what will be the probability distribution at time=3?  What about time=infinity (the steady state probability distribution)."
   ]
  },
  {
   "cell_type": "markdown",
   "metadata": {
    "collapsed": true
   },
   "source": [
    "If we say that bull=1, bear=2, stagnant=3, then the transition matrix looks like:\n",
    "\n",
    "```\n",
    "(1,1) (1,2) (1,3)\n",
    "(2,1) (2,2) (2,3)\n",
    "(3,1) (3,2) (3,3)\n",
    "```\n",
    "\n",
    "=\n",
    "\n",
    "```\n",
    "0.900 0.075 0.025\n",
    "0.150 0.800 0.050\n",
    "0.250 0.250 0.050\n",
    "```"
   ]
  },
  {
   "cell_type": "code",
   "execution_count": null,
   "metadata": {
    "collapsed": false
   },
   "outputs": [],
   "source": [
    "import numpy as np\n",
    "from matplotlib import pyplot\n",
    "%matplotlib inline\n",
    "\n",
    "#create the transition matrix\n",
    "P = np.matrix([[0.9, 0.075, 0.025],\n",
    "               [0.15, 0.8, 0.05],\n",
    "               [0.25, 0.25, 0.5],\n",
    "               ])\n",
    "\n",
    "#create the matrix point on where you are starting\n",
    "v = np.matrix([[0, 1, 0]])\n",
    "\n",
    "\n",
    "plot_data = []\n",
    "\n",
    "for step in range(20):\n",
    "    result = v * P**step\n",
    "    plot_data.append(np.array(result).flatten())\n",
    "\n",
    "# Convert the data format\n",
    "plot_data = np.array(plot_data)\n",
    "\n",
    "# Create the plot\n",
    "pyplot.figure(1)\n",
    "pyplot.xlabel('Steps')\n",
    "pyplot.ylabel('Probability')\n",
    "lines = []\n",
    "for i, shape in zip(range(3), ['x', 'h', 'r+']):\n",
    "    line = pyplot.plot(plot_data[:, i], shape,label=\"S%i\" % (i+1))\n",
    "    lines.append(line)\n",
    "\n",
    "pyplot.show()"
   ]
  },
  {
   "cell_type": "code",
   "execution_count": null,
   "metadata": {
    "collapsed": true
   },
   "outputs": [],
   "source": []
  }
 ],
 "metadata": {
  "kernelspec": {
   "display_name": "Python 2",
   "language": "python",
   "name": "python2"
  },
  "language_info": {
   "codemirror_mode": {
    "name": "ipython",
    "version": 2
   },
   "file_extension": ".py",
   "mimetype": "text/x-python",
   "name": "python",
   "nbconvert_exporter": "python",
   "pygments_lexer": "ipython2",
   "version": "2.7.12"
  }
 },
 "nbformat": 4,
 "nbformat_minor": 0
}
