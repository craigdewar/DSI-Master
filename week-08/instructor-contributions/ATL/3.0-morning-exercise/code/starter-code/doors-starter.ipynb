{
 "cells": [
  {
   "cell_type": "markdown",
   "metadata": {},
   "source": [
    "# Let's make a deal!\n",
    "So, we saw yesterday an interesting paradox delivered in the context of a game show.  Now, let's write code to confirm our paradox.\n",
    "\n",
    "Write code to simulate the game show (with three doors).\n",
    "\n",
    "You will need to use the Python function `raw_input` to get input from the user (the player of the game) and `random.randint` to initialize the door with the car behind it.  Print the results to the user like:\n",
    "\n",
    "Unopened doors:\n",
    "```\n",
    "***\n",
    "123\n",
    "```\n",
    "\n",
    "Door number two opened:\n",
    "```\n",
    "*G*\n",
    "123\n",
    "```"
   ]
  },
  {
   "cell_type": "code",
   "execution_count": 55,
   "metadata": {
    "collapsed": false
   },
   "outputs": [],
   "source": [
    "from random import randint"
   ]
  }
 ],
 "metadata": {
  "kernelspec": {
   "display_name": "Python 2",
   "language": "python",
   "name": "python2"
  },
  "language_info": {
   "codemirror_mode": {
    "name": "ipython",
    "version": 2
   },
   "file_extension": ".py",
   "mimetype": "text/x-python",
   "name": "python",
   "nbconvert_exporter": "python",
   "pygments_lexer": "ipython2",
   "version": "2.7.12"
  }
 },
 "nbformat": 4,
 "nbformat_minor": 0
}
