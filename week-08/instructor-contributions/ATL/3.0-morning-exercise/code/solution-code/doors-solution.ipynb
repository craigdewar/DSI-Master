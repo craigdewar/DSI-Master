{
 "cells": [
  {
   "cell_type": "markdown",
   "metadata": {},
   "source": [
    "# Let's make a deal!\n",
    "So, we saw yesterday an interesting paradox delivered in the context of a game show.  Now, let's write code to confirm our paradox.\n",
    "\n",
    "Write code to simulate the game show (with three doors).\n",
    "\n",
    "You will need to use the Python function `raw_input` and `random.randint` to initialize the door with the car behind it.  Print the results to the user like:\n",
    "\n",
    "Unopened doors:\n",
    "```\n",
    "***\n",
    "123\n",
    "```\n",
    "\n",
    "Door number two opened:\n",
    "```\n",
    "*G*\n",
    "123\n",
    "```"
   ]
  },
  {
   "cell_type": "code",
   "execution_count": 55,
   "metadata": {
    "collapsed": false
   },
   "outputs": [],
   "source": [
    "from random import randint"
   ]
  },
  {
   "cell_type": "code",
   "execution_count": 59,
   "metadata": {
    "collapsed": false
   },
   "outputs": [],
   "source": [
    "numDoors = 3\n",
    "\n",
    "def printDoors(numDoors,underTheDoors,uncovered):    \n",
    "    for i in range(numDoors):\n",
    "        if (uncovered[i]):\n",
    "            print underTheDoors[i],\n",
    "        else:\n",
    "            print \"*\",\n",
    "    print\n",
    "    for i in range(numDoors):\n",
    "        print i+1,\n",
    "    print"
   ]
  },
  {
   "cell_type": "code",
   "execution_count": 60,
   "metadata": {
    "collapsed": false
   },
   "outputs": [
    {
     "name": "stdout",
     "output_type": "stream",
     "text": [
      "* * *\n",
      "1 2 3\n",
      "Behind one of these doors (asterisks), is a car (actually, it's just the letter 'C', but 'C's have really been appreciating in value lately).  Behind the other two doors, a goat (a cute one).\n"
     ]
    }
   ],
   "source": [
    "selection = -1\n",
    "door = randint(0,numDoors-1)\n",
    "underTheDoors = [\"G\" for x in range(numDoors)]\n",
    "underTheDoors[door] = \"C\"\n",
    "uncovered = [False for x in range(numDoors)]\n",
    "printDoors(numDoors,underTheDoors,uncovered)\n",
    "print \"Behind one of these doors (asterisks), is a car (actually, it's\",\n",
    "print \"just the letter 'C', but 'C's have really been appreciating in\",\n",
    "print \"value lately).  Behind the other two doors, a goat (a cute one).\""
   ]
  },
  {
   "cell_type": "code",
   "execution_count": 61,
   "metadata": {
    "collapsed": false
   },
   "outputs": [
    {
     "name": "stdout",
     "output_type": "stream",
     "text": [
      "Which door do you want to pick? 1\n",
      "* G *\n",
      "1 2 3\n",
      "Now, you've selected door number 1\n",
      "I won't tell you if this is the door with the car, but I will tell you that the car is not behind door number 2\n",
      "G: \"bahhhhhhh.\"\n",
      "Now, do you want to switch doors? (y/n) y\n",
      "* G G\n",
      "1 2 3\n",
      "Congrats!  You got a brand new goat! (Well, it's better than an asterisk anyways.)\n"
     ]
    }
   ],
   "source": [
    "printDoors\n",
    "selection = int(raw_input(\"Which door do you want to pick? \")) - 1\n",
    "selectionString = underTheDoors[selection]\n",
    "reveal = randint(0,numDoors-1)\n",
    "while (reveal == selection or underTheDoors[reveal] == 'C'):\n",
    "    reveal = randint(0,numDoors-1)\n",
    "uncovered[reveal] = True\n",
    "printDoors(numDoors,underTheDoors,uncovered)\n",
    "print \"Now, you've selected door number\", selection+1\n",
    "print \"I won't tell you if this is the door with the car, but I will\",\n",
    "print \"tell you that the car is not behind door number\", reveal+1\n",
    "print 'G: \"bahhhhhhh.\"'\n",
    "switch = raw_input(\"Now, do you want to switch doors? (y/n) \")\n",
    "if (switch == 'y'):\n",
    "    newSelection = randint(0,numDoors-1)\n",
    "    while (newSelection == selection or newSelection == reveal):\n",
    "        newSelection = randint(0,numDoors-1)\n",
    "    uncovered[newSelection] = True\n",
    "else:\n",
    "    newSelection = selection\n",
    "    uncovered[newSelection] = True\n",
    "printDoors(numDoors,underTheDoors,uncovered)\n",
    "if (underTheDoors[newSelection] == 'C'):\n",
    "    print \"Congrats!  You got a brand new car!\"\n",
    "else:\n",
    "    print \"Congrats!  You got a brand new goat! (Well, it's better than an asterisk anyways.)\""
   ]
  },
  {
   "cell_type": "code",
   "execution_count": null,
   "metadata": {
    "collapsed": true
   },
   "outputs": [],
   "source": []
  }
 ],
 "metadata": {
  "kernelspec": {
   "display_name": "Python 2",
   "language": "python",
   "name": "python2"
  },
  "language_info": {
   "codemirror_mode": {
    "name": "ipython",
    "version": 2
   },
   "file_extension": ".py",
   "mimetype": "text/x-python",
   "name": "python",
   "nbconvert_exporter": "python",
   "pygments_lexer": "ipython2",
   "version": "2.7.12"
  }
 },
 "nbformat": 4,
 "nbformat_minor": 0
}
