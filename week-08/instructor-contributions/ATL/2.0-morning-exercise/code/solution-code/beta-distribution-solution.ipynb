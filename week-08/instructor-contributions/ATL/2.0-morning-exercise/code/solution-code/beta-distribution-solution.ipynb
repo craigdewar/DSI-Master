{
 "cells": [
  {
   "cell_type": "markdown",
   "metadata": {},
   "source": [
    "First, read this [post explaining the beta distribution in terms of batting averages](http://stats.stackexchange.com/questions/47771/what-is-the-intuition-behind-beta-distribution \"stats.stackexchange.com\").  Please read the whole answer (just the first answer).\n",
    "\n",
    "Now, recreate the plots that the answerer made.  He did them in R, but you will do them in Python.  He gives all the parameters for the beta distributions, so that's all you need!  (Plot them in different colors, on the same plot, so you can see how they move over time.)"
   ]
  },
  {
   "cell_type": "code",
   "execution_count": 12,
   "metadata": {
    "collapsed": false
   },
   "outputs": [
    {
     "data": {
      "image/png": "[encoded data removed]",
      "text/plain": [
       "<matplotlib.figure.Figure at 0x111f09850>"
      ]
     },
     "metadata": {},
     "output_type": "display_data"
    }
   ],
   "source": [
    "from scipy.stats import beta\n",
    "import matplotlib.pyplot as plt\n",
    "%matplotlib inline\n",
    "import numpy as np\n",
    "a = 81\n",
    "b = 219\n",
    "x = np.arange (0.01, 1, 0.01)\n",
    "y = beta.pdf(x,a,b)\n",
    "plt.plot(x,y,color='r')\n",
    "a += 1\n",
    "y = beta.pdf(x,a,b)\n",
    "plt.plot(x,y,color='g')\n",
    "a += 100\n",
    "b += 200\n",
    "y = beta.pdf(x,a,b)\n",
    "plt.plot(x,y,color='b')\n",
    "plt.show()"
   ]
  },
  {
   "cell_type": "markdown",
   "metadata": {},
   "source": [
    "Now try out some different values for $\\alpha$ and $\\beta$ (a and b).  Try (2,2), (2,4), (4,2), (2,8), (20,80).  Just play with it and see how the pdf changes."
   ]
  },
  {
   "cell_type": "code",
   "execution_count": null,
   "metadata": {
    "collapsed": true
   },
   "outputs": [],
   "source": []
  }
 ],
 "metadata": {
  "kernelspec": {
   "display_name": "Python 2",
   "language": "python",
   "name": "python2"
  },
  "language_info": {
   "codemirror_mode": {
    "name": "ipython",
    "version": 2
   },
   "file_extension": ".py",
   "mimetype": "text/x-python",
   "name": "python",
   "nbconvert_exporter": "python",
   "pygments_lexer": "ipython2",
   "version": "2.7.12"
  }
 },
 "nbformat": 4,
 "nbformat_minor": 0
}
