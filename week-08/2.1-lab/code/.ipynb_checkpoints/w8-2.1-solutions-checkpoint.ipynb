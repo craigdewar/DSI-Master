{
 "cells": [
  {
   "cell_type": "markdown",
   "metadata": {},
   "source": [
    "# Introduction - Let me tell you about a guy named Stan..."
   ]
  },
  {
   "cell_type": "code",
   "execution_count": 54,
   "metadata": {
    "collapsed": false
   },
   "outputs": [
    {
     "data": {
      "text/html": [
       "<img src=\"https://upload.wikimedia.org/wikipedia/commons/8/8a/STAN_ULAM_HOLDING_THE_FERMIAC.jpg\"/>"
      ],
      "text/plain": [
       "<IPython.core.display.Image object>"
      ]
     },
     "execution_count": 54,
     "metadata": {},
     "output_type": "execute_result"
    }
   ],
   "source": [
    "from IPython.display import Image\n",
    "Image(url='https://upload.wikimedia.org/wikipedia/commons/8/8a/STAN_ULAM_HOLDING_THE_FERMIAC.jpg')"
   ]
  },
  {
   "cell_type": "markdown",
   "metadata": {},
   "source": [
    "Picture of Stan Ulam - One of the pioneers of Bayesian analysis - he built Bayesian models to understand particle interactions that led to the successful implementation of the atomic bomb"
   ]
  },
  {
   "cell_type": "markdown",
   "metadata": {},
   "source": [
    "# The Bayesian Approach to the Simple Linear Model (SLR) and Multi-Linear Regression (MLR)"
   ]
  },
  {
   "cell_type": "markdown",
   "metadata": {
    "collapsed": true
   },
   "source": [
    "So although the basic idea of Bayesian regressions is not much different from what you saw when doing linear regressions. There will be a major difference in how they are implemented in code. Whereas one simply pushed in columns of data and a target into a regression to get output, the actual \"specification\" of the model is a bit more involved in the Bayesian variety. In particular, you will have to specify priors, likelihoods etc. However, fear not, we are not going to write any of these posterior distributions and their associated ingredients manually. We're going to introduce a dedicated software packages this week, PyStan, that not only gives you leverage in the specification side, but includes a whole lot of really efficient C++ code to do the parameter estimation. Unlike what you did earlier in the week, we won't use MLE to estimate the parameters utilizing the Monte-Carlo Markov Chain (MCMC). \n",
    "\n",
    "Although this topic is in itself not the point of our lecture, it will be a tool we leverage over-and-over again to estimate our models. For those of you who are interested in reading more, check out the following link: \n",
    "\n",
    "- Hardcore primer (requires Calculus, and strong mathematical maturity: http://www4.stat.ncsu.edu/~sghosh/TEACHING/st790/lectures/GillMCMC.pdf\n",
    "- Not as Hardcore: http://statwww.epfl.ch/teaching/3eCycleRomand/printemps-2005/EG.lectures.villars05.pdf\n",
    "\n",
    "Sorry, there's just no way around a lot of mathematics when dealing with MCMC. \n"
   ]
  },
  {
   "cell_type": "markdown",
   "metadata": {},
   "source": [
    "# Bayesian Regression vs Classical Regressions"
   ]
  },
  {
   "cell_type": "markdown",
   "metadata": {},
   "source": [
    "\n",
    "Getting back to our previous discussion, the difference between classical and Bayesian regression can be thought of as thus: \n",
    "-   Classical regression is a special case of the Bayesian perspective whereby we have a non-informative prior. \n",
    "\n",
    "I'm sure you recall what 'non-informative' refers to uniform priors (i.e. no prior information assumed to bias things one way or another). \n",
    "\n",
    "The Bayesian approach also relaxes a few assumptions, we no longer have to assume homoscedasticity etc. \n",
    "\n",
    "(Just in case you need to review this homoskedasticity: https://www.youtube.com/watch?v=zRklTsY9w9c).\n",
    "\n",
    "You can remember what it means by just breaking the word down to it's component parts - homo : same, skedastic : variation, the later word can be thought of as being related to \"skew\" i.e. how much your line \"skews\" from the \"true\" trend-line.\n",
    "\n",
    "However, as previously stated, the Bayesian approach is fundamentally the \"inverse\" trick (i.e f(X|$\\theta$) to f($\\theta$|X)), and is primarily concerned with estimating parameters. In the case of Regressions, estimating $\\beta$'s and estimating $\\sigma$'s (and thus $\\sigma^2$'s).\n",
    "\n",
    "Why does this matter? Bayesian regressions give you, the modeler/data scientist a lot more control over your model. You can specify priors for each of the parameters in your regression (the $\\beta$'s), the error term, and even the constant (as well as the target). Therefore, it's worth to learn, and will give you more latitude to fit your model to the data you \n",
    "\n",
    "So we know that the joint of $\\beta$ and $\\sigma^2$ is proportional to the precision, defined as $\\frac{1}{\\sigma^2}$. Further, $$p(\\beta, \\sigma^2|{y}) = p(\\beta|{y}, \\sigma^2)p(\\sigma^2|{y})$$\n",
    "\n",
    "As we mentioned previously, we have check that this is not a pathological probability (proper) blah blah, but this ins't a mathematics course, so we'll again be blissfully ignorant of these complexities. \n",
    "\n",
    "If we had a procedural step-wise perspective of the procedure, here's what it would be: \n",
    "\n",
    "1. Determine $\\beta$, $\\sigma$ using posterior distributions\n",
    "2. Construct $y_{i+1}, y_{i+2}, ... y_{i+n}$ from a distribution using the parameters from step 1"
   ]
  },
  {
   "cell_type": "markdown",
   "metadata": {},
   "source": [
    "# Introduction to PyStan"
   ]
  },
  {
   "cell_type": "markdown",
   "metadata": {},
   "source": [
    "The most critical element of the PyStan interface is the model specification module. This is also possibly the most tricky, since it's going to be passed in as a bulk-string from Python's perspective, any snytax issues won't immediately be caught by an error-checking feature from your IDE.\n",
    "\n",
    "So what's going on? Basically to get PyStan to work, you need to pass a string (from Python's perspective, into the PyStan library, which than \"hits\" the C++ compiler, which then interprets yours string as actual code in C++. The computation is executed (within C++), and then the results are passed back to you. It's sort of like working with an API, but everything is internal to your machine. I've created a simple diagram to explain what's going on below.\n",
    "\n",
    "\n"
   ]
  },
  {
   "cell_type": "code",
   "execution_count": 55,
   "metadata": {
    "collapsed": false
   },
   "outputs": [
    {
     "data": {
      "image/png": "[encoded data removed]",
      "text/plain": [
       "<IPython.core.display.Image object>"
      ]
     },
     "execution_count": 55,
     "metadata": {},
     "output_type": "execute_result"
    }
   ],
   "source": [
    "Image('../assets/images/PyStan Diagram.PNG')"
   ]
  },
  {
   "cell_type": "markdown",
   "metadata": {},
   "source": [
    "\n",
    "But, the we all got to remove the training wheels at some point! (at some point in your career you'll end up mareling your co-workers by writing script directly to notepad or wordpad(+) )"
   ]
  },
  {
   "cell_type": "markdown",
   "metadata": {},
   "source": [
    "I've provided a template of how PyStan model code should be pushed into the PyStan library. Note, that "
   ]
  },
  {
   "cell_type": "code",
   "execution_count": 56,
   "metadata": {
    "collapsed": false
   },
   "outputs": [
    {
     "data": {
      "text/plain": [
       "\"\\ndata {\\n// Defining your data \\n}\\ntransformed data{}\\n\\nparameters {\\n// Defining the name of your parameter and it's numerical parameters\\n// Explicitly required \\n}\\n\\ntransformed parameters{}\\n\\nmodel {\\n// Specifying your model parameters\\n// Explicitly required\\n}\\n\\ngenerated quantities{}\\n\""
      ]
     },
     "execution_count": 56,
     "metadata": {},
     "output_type": "execute_result"
    }
   ],
   "source": [
    "# This is a critical string that we need to pass from our main interface (Python) to the Stan interpretor \n",
    "\n",
    "'''\n",
    "data {\n",
    "// Defining your data \n",
    "}\n",
    "transformed data{}\n",
    "\n",
    "parameters {\n",
    "// Defining the name of your parameter and it's numerical parameters\n",
    "// Explicitly required \n",
    "}\n",
    "\n",
    "transformed parameters{}\n",
    "\n",
    "model {\n",
    "// Specifying your model parameters\n",
    "// Explicitly required\n",
    "}\n",
    "\n",
    "generated quantities{}\n",
    "'''"
   ]
  },
  {
   "cell_type": "markdown",
   "metadata": {},
   "source": [
    "# Description of components "
   ]
  },
  {
   "cell_type": "markdown",
   "metadata": {},
   "source": [
    "#### Data component (Optional)"
   ]
  },
  {
   "cell_type": "markdown",
   "metadata": {},
   "source": [
    "This is where you will define your major parameters and targets (variables or columns in data-speak), so if you have a regression equation, you need to define the target/dependent variable ('y') and the feature/independent/predictor variables (why are there so many different words that describe the same thing?) \n",
    "\n",
    "In the process of defining the variables, you will need also define where the variable ranges and it's type (for those of you who have coded before in C++ or Java, this will be familiar to you). Lastly, each line needs to end with a semi-colon. If you haven't guessed it, you're basically sending small snippets of C-code into the Stan interface from Python!"
   ]
  },
  {
   "cell_type": "markdown",
   "metadata": {},
   "source": [
    "#### Transformed Data Component (Optional)"
   ]
  },
  {
   "cell_type": "markdown",
   "metadata": {},
   "source": [
    "This is as it sounds, it's basically any data that can be derived from other data (think sample means, standard errors etc.) "
   ]
  },
  {
   "cell_type": "markdown",
   "metadata": {},
   "source": [
    "#### Parameters Component "
   ]
  },
  {
   "cell_type": "markdown",
   "metadata": {},
   "source": [
    "This is where you will define any population parameters to do Bayesian inference on, these can include mean, medians, variance etc., like the data  component, you need also specify the range and the type of the listed parameters"
   ]
  },
  {
   "cell_type": "markdown",
   "metadata": {},
   "source": [
    "#### Transformed Parameters Component (Optional)"
   ]
  },
  {
   "cell_type": "markdown",
   "metadata": {},
   "source": [
    "This is where you deposit any transformed parameters, think log-transform. Of course, you won't have to specify the range or type of the variables since you're merely transforming parameters (variables/columns) you've already defined in the data component of the structure"
   ]
  },
  {
   "cell_type": "markdown",
   "metadata": {},
   "source": [
    "#### Model Component "
   ]
  },
  {
   "cell_type": "markdown",
   "metadata": {},
   "source": [
    "This is where you will specify your model, so in the context of Bayesian computation/inference you will have to define your priors, likelihood etc. Unlike the above, you will not specify ranges of these models, you will however use the ~ symbol (tilde) as the assignment symbol."
   ]
  },
  {
   "cell_type": "markdown",
   "metadata": {},
   "source": [
    "#### Generated Quantities Component (Optional)"
   ]
  },
  {
   "cell_type": "markdown",
   "metadata": {},
   "source": [
    "This is the \"everything else\" category, any parameters or data that do not share a direct functional relationship with the estimation process. "
   ]
  },
  {
   "cell_type": "markdown",
   "metadata": {},
   "source": [
    "#### Simple Example of a single paramter Bayesian inference"
   ]
  },
  {
   "cell_type": "markdown",
   "metadata": {},
   "source": [
    "Let's now take a look at a simple C-code snippet for Stan model definition. Notice we're using a bulk string ''' stuff ''' format here to pass multi-line strings into PyStan. Also note the way the PyStan string is written with semi-colons after each line, this is basically C++ syntax. \n",
    "\n",
    "Look above at the description of each component and what's written in the code box below. Once you understand how/why everything is where it is, please move forward. If you need more details (or just curious), check out the PyStan docs. "
   ]
  },
  {
   "cell_type": "code",
   "execution_count": 57,
   "metadata": {
    "collapsed": false,
    "scrolled": true
   },
   "outputs": [
    {
     "data": {
      "text/plain": [
       "'\\ndata {\\nint<lower=0> n; \\nint<lower=0, upper=1> y[n]; \\n}\\nparameters {\\nreal<lower=0, upper=1> theta; \\n}\\nmodel {\\ntheta ~ beta(1, 1); \\ny ~ bernoulli(theta); \\n}\\n'"
      ]
     },
     "execution_count": 57,
     "metadata": {},
     "output_type": "execute_result"
    }
   ],
   "source": [
    "'''\n",
    "data {\n",
    "int<lower=0> n; \n",
    "int<lower=0, upper=1> y[n]; \n",
    "}\n",
    "parameters {\n",
    "real<lower=0, upper=1> theta; \n",
    "}\n",
    "model {\n",
    "theta ~ beta(1, 1); \n",
    "y ~ bernoulli(theta); \n",
    "}\n",
    "'''"
   ]
  },
  {
   "cell_type": "markdown",
   "metadata": {},
   "source": [
    "# Practicing Model Specification in Stan"
   ]
  },
  {
   "cell_type": "markdown",
   "metadata": {
    "collapsed": true
   },
   "source": [
    "#### 1.1 Coin toss with Stan"
   ]
  },
  {
   "cell_type": "markdown",
   "metadata": {},
   "source": [
    "Like previously, we go from the bernoulli scheme to the binomial"
   ]
  },
  {
   "cell_type": "code",
   "execution_count": 58,
   "metadata": {
    "collapsed": false
   },
   "outputs": [
    {
     "data": {
      "text/plain": [
       "'\\ndata {\\n    int<lower=0> n; \\n    int<lower=0> heads; \\n}\\nparameters {\\n    real<lower=0, upper=1> param;\\n}\\nmodel {\\n    param ~ beta(2, 2);\\n    heads ~ binomial(n, param);\\n}\\n\\n'"
      ]
     },
     "execution_count": 58,
     "metadata": {},
     "output_type": "execute_result"
    }
   ],
   "source": [
    "'Note - this is a lab answer'\n",
    "\n",
    "\n",
    "'''\n",
    "data {\n",
    "    int<lower=0> n; \n",
    "    int<lower=0> heads; \n",
    "}\n",
    "parameters {\n",
    "    real<lower=0, upper=1> param;\n",
    "}\n",
    "model {\n",
    "    param ~ beta(2, 2);\n",
    "    heads ~ binomial(n, param);\n",
    "}\n",
    "\n",
    "'''"
   ]
  },
  {
   "cell_type": "markdown",
   "metadata": {},
   "source": [
    "#### Problem 1 :  Bayesian SLR for 1 Parameter with Stan"
   ]
  },
  {
   "cell_type": "markdown",
   "metadata": {},
   "source": [
    "Write a Stan model for a SLR, using the simple example given and the previous exercise as a template "
   ]
  },
  {
   "cell_type": "code",
   "execution_count": 59,
   "metadata": {
    "collapsed": false
   },
   "outputs": [
    {
     "data": {
      "text/plain": [
       "'\\n\\ndata {\\n int<lower = 0> n; // number of observations\\n real y[n]; // response variable\\n real x[n]; // predictor variable\\n}\\n\\nparameters {\\n// Remember from high school y = ax + b\\n real a; real b; \\n real<lower=0> sd; // standard deviation\\n}\\n\\ntransformed parameters {\\n real target[n]; \\n \\nfor(i in 1:n)\\n target[i] <- a*x[i] + b;\\n}\\n\\nmodel {\\n y ~ normal(mu, sd);\\n}\\n\\n'"
      ]
     },
     "execution_count": 59,
     "metadata": {},
     "output_type": "execute_result"
    }
   ],
   "source": [
    "'Note - this is the lab answer '\n",
    "\n",
    "'''\n",
    "\n",
    "data {\n",
    " int<lower = 0> n; // number of observations\n",
    " real y[n]; // response variable\n",
    " real x[n]; // predictor variable\n",
    "}\n",
    "\n",
    "parameters {\n",
    "// Remember from high school y = ax + b\n",
    " real a; real b; \n",
    " real<lower=0> sd; // standard deviation\n",
    "}\n",
    "\n",
    "transformed parameters {\n",
    " real target[n]; \n",
    " \n",
    "for(i in 1:n)\n",
    " target[i] <- a*x[i] + b;\n",
    "}\n",
    "\n",
    "model {\n",
    " y ~ normal(mu, sd);\n",
    "}\n",
    "\n",
    "'''"
   ]
  },
  {
   "cell_type": "markdown",
   "metadata": {},
   "source": [
    "# The Boston Housing Market Data Set"
   ]
  },
  {
   "cell_type": "markdown",
   "metadata": {
    "collapsed": true
   },
   "source": [
    "#### Problem 2 - Loading Data and running a STAN model"
   ]
  },
  {
   "cell_type": "markdown",
   "metadata": {},
   "source": [
    "Today we're going to be studying a standard UCI Machine Learning data (an oldie but a goodie as they say), https://archive.ics.uci.edu/ml/datasets/Housing\n",
    "\n",
    "The data contains information that are possibly related to housing values in the Boston suburb (think Zip Realty -maybe not). Here's a brief summary of the data found on the website: \n",
    "\n",
    "    - CRIM      per capita crime rate by town\n",
    "    - ZN        proportion of residential land zoned for lots over \n",
    "                 25,000 sq.ft.\n",
    "    - INDUS     proportion of non-retail business acres per town\n",
    "    - CHAS      Charles River dummy variable (= 1 if tract bounds \n",
    "                 river; 0 otherwise)\n",
    "    - NOX       nitric oxides concentration (parts per 10 million)\n",
    "    - RM        average number of rooms per dwelling\n",
    "    - AGE       proportion of owner-occupied units built prior to 1940\n",
    "    - DIS       weighted distances to five Boston employment centres\n",
    "    - RAD       index of accessibility to radial highways\n",
    "    - TAX       full-value property-tax rate per 10,000 USD\n",
    "    - PTRATIO   pupil-teacher ratio by town\n",
    "    - B        1000(Bk - 0.63)^2 where Bk is the proportion of blacks \n",
    "                 by town\n",
    "    - LSTAT    % lower status of the population\n",
    "    - MEDV     Median value of owner-occupied homes in 1000 USDs\n",
    "\n",
    "\n",
    "Load the data and list the first 5 observations to get a feel for the data"
   ]
  },
  {
   "cell_type": "code",
   "execution_count": 60,
   "metadata": {
    "collapsed": false
   },
   "outputs": [
    {
     "data": {
      "text/html": [
       "<div>\n",
       "<table border=\"1\" class=\"dataframe\">\n",
       "  <thead>\n",
       "    <tr style=\"text-align: right;\">\n",
       "      <th></th>\n",
       "      <th>Unnamed: 0</th>\n",
       "      <th>CRIM</th>\n",
       "      <th>ZN</th>\n",
       "      <th>INDUS</th>\n",
       "      <th>CHAS</th>\n",
       "      <th>NOX</th>\n",
       "      <th>RM</th>\n",
       "      <th>AGE</th>\n",
       "      <th>DIS</th>\n",
       "      <th>RAD</th>\n",
       "      <th>TAX</th>\n",
       "      <th>PTRATIO</th>\n",
       "      <th>B</th>\n",
       "      <th>LSTAT</th>\n",
       "      <th>MEDV</th>\n",
       "    </tr>\n",
       "  </thead>\n",
       "  <tbody>\n",
       "    <tr>\n",
       "      <th>0</th>\n",
       "      <td>1</td>\n",
       "      <td>0.00632</td>\n",
       "      <td>18.0</td>\n",
       "      <td>2.31</td>\n",
       "      <td>0</td>\n",
       "      <td>0.538</td>\n",
       "      <td>6.575</td>\n",
       "      <td>65.2</td>\n",
       "      <td>4.0900</td>\n",
       "      <td>1</td>\n",
       "      <td>296</td>\n",
       "      <td>15.3</td>\n",
       "      <td>396.90</td>\n",
       "      <td>4.98</td>\n",
       "      <td>24.0</td>\n",
       "    </tr>\n",
       "    <tr>\n",
       "      <th>1</th>\n",
       "      <td>2</td>\n",
       "      <td>0.02731</td>\n",
       "      <td>0.0</td>\n",
       "      <td>7.07</td>\n",
       "      <td>0</td>\n",
       "      <td>0.469</td>\n",
       "      <td>6.421</td>\n",
       "      <td>78.9</td>\n",
       "      <td>4.9671</td>\n",
       "      <td>2</td>\n",
       "      <td>242</td>\n",
       "      <td>17.8</td>\n",
       "      <td>396.90</td>\n",
       "      <td>9.14</td>\n",
       "      <td>21.6</td>\n",
       "    </tr>\n",
       "    <tr>\n",
       "      <th>2</th>\n",
       "      <td>3</td>\n",
       "      <td>0.02729</td>\n",
       "      <td>0.0</td>\n",
       "      <td>7.07</td>\n",
       "      <td>0</td>\n",
       "      <td>0.469</td>\n",
       "      <td>7.185</td>\n",
       "      <td>61.1</td>\n",
       "      <td>4.9671</td>\n",
       "      <td>2</td>\n",
       "      <td>242</td>\n",
       "      <td>17.8</td>\n",
       "      <td>392.83</td>\n",
       "      <td>4.03</td>\n",
       "      <td>34.7</td>\n",
       "    </tr>\n",
       "    <tr>\n",
       "      <th>3</th>\n",
       "      <td>4</td>\n",
       "      <td>0.03237</td>\n",
       "      <td>0.0</td>\n",
       "      <td>2.18</td>\n",
       "      <td>0</td>\n",
       "      <td>0.458</td>\n",
       "      <td>6.998</td>\n",
       "      <td>45.8</td>\n",
       "      <td>6.0622</td>\n",
       "      <td>3</td>\n",
       "      <td>222</td>\n",
       "      <td>18.7</td>\n",
       "      <td>394.63</td>\n",
       "      <td>2.94</td>\n",
       "      <td>33.4</td>\n",
       "    </tr>\n",
       "    <tr>\n",
       "      <th>4</th>\n",
       "      <td>5</td>\n",
       "      <td>0.06905</td>\n",
       "      <td>0.0</td>\n",
       "      <td>2.18</td>\n",
       "      <td>0</td>\n",
       "      <td>0.458</td>\n",
       "      <td>7.147</td>\n",
       "      <td>54.2</td>\n",
       "      <td>6.0622</td>\n",
       "      <td>3</td>\n",
       "      <td>222</td>\n",
       "      <td>18.7</td>\n",
       "      <td>396.90</td>\n",
       "      <td>5.33</td>\n",
       "      <td>36.2</td>\n",
       "    </tr>\n",
       "  </tbody>\n",
       "</table>\n",
       "</div>"
      ],
      "text/plain": [
       "   Unnamed: 0     CRIM    ZN  INDUS  CHAS    NOX     RM   AGE     DIS  RAD  \\\n",
       "0           1  0.00632  18.0   2.31     0  0.538  6.575  65.2  4.0900    1   \n",
       "1           2  0.02731   0.0   7.07     0  0.469  6.421  78.9  4.9671    2   \n",
       "2           3  0.02729   0.0   7.07     0  0.469  7.185  61.1  4.9671    2   \n",
       "3           4  0.03237   0.0   2.18     0  0.458  6.998  45.8  6.0622    3   \n",
       "4           5  0.06905   0.0   2.18     0  0.458  7.147  54.2  6.0622    3   \n",
       "\n",
       "   TAX  PTRATIO       B  LSTAT  MEDV  \n",
       "0  296     15.3  396.90   4.98  24.0  \n",
       "1  242     17.8  396.90   9.14  21.6  \n",
       "2  242     17.8  392.83   4.03  34.7  \n",
       "3  222     18.7  394.63   2.94  33.4  \n",
       "4  222     18.7  396.90   5.33  36.2  "
      ]
     },
     "execution_count": 60,
     "metadata": {},
     "output_type": "execute_result"
    }
   ],
   "source": [
    "from __future__ import division\n",
    "import pystan\n",
    "import os\n",
    "import pylab as py\n",
    "import sys\n",
    "import glob\n",
    "import matplotlib.pyplot as plt\n",
    "import numpy as np\n",
    "import pandas as pd\n",
    "%matplotlib inline\n",
    "%precision 4\n",
    "plt.style.use('ggplot')\n",
    "\n",
    "# Load the data\n",
    "\n",
    "housing = pd.read_csv('../assets/datasets/housing.csv'); housing.head(5)"
   ]
  },
  {
   "cell_type": "markdown",
   "metadata": {},
   "source": [
    "Create a dictionary with the target (dependent variable), the feature, (dependent variable), and the size of data (the row number)"
   ]
  },
  {
   "cell_type": "code",
   "execution_count": 61,
   "metadata": {
    "collapsed": false
   },
   "outputs": [],
   "source": [
    "# Build a dictionary for Stan model processing\n",
    "dat = {'n': len(housing), 'x': housing.CRIM, 'y': housing.MEDV}\n"
   ]
  },
  {
   "cell_type": "markdown",
   "metadata": {},
   "source": [
    "Create a bivariate plot for the target and feature"
   ]
  },
  {
   "cell_type": "code",
   "execution_count": 62,
   "metadata": {
    "collapsed": false
   },
   "outputs": [
    {
     "data": {
      "image/png": "[encoded data removed]",
      "text/plain": [
       "<matplotlib.figure.Figure at 0x124d0df90>"
      ]
     },
     "metadata": {},
     "output_type": "display_data"
    }
   ],
   "source": [
    "# Output the data to get a view of \n",
    "\n",
    "py.plot(housing.CRIM, housing.MEDV, 'o')\n",
    "py.show()"
   ]
  },
  {
   "cell_type": "markdown",
   "metadata": {},
   "source": [
    "Construct the STAN model"
   ]
  },
  {
   "cell_type": "code",
   "execution_count": 63,
   "metadata": {
    "collapsed": false
   },
   "outputs": [],
   "source": [
    "# Load the STAN model \n",
    "\n",
    "reg_model = '''\n",
    "data {\n",
    "    int<lower=0> n;\n",
    "    real x[n];\n",
    "    real y[n];\n",
    "}\n",
    "parameters {\n",
    "    real a;\n",
    "    real b;\n",
    "    real sigma;\n",
    "}\n",
    "transformed parameters {\n",
    "    real mu[n];\n",
    "    for (i in 1:n) {\n",
    "        mu[i] <- a*x[i] + b;\n",
    "        }\n",
    "}\n",
    "model {\n",
    "    sigma ~ uniform(0, 20);  //Remember step 1?\n",
    "    y ~ normal(mu, sigma); // Remember step 2?\n",
    "}\n",
    "\n",
    "'''"
   ]
  },
  {
   "cell_type": "markdown",
   "metadata": {},
   "source": [
    "#### Bonus Exercise "
   ]
  },
  {
   "cell_type": "markdown",
   "metadata": {},
   "source": [
    "A brief detour bonus exercise - Vectorize the regression model in STAN"
   ]
  },
  {
   "cell_type": "code",
   "execution_count": 64,
   "metadata": {
    "collapsed": false
   },
   "outputs": [],
   "source": [
    "# Note - This is a lab answer\n",
    "# Vectorize the reg model in STAN\n",
    "\n",
    "vectorize_reg = '''\n",
    "data {\n",
    "    int<lower=0> n;\n",
    "    int<lower=0> m;\n",
    "    matrix[n, m] x;\n",
    "    vector[n] y;\n",
    "}\n",
    "transformed data {\n",
    "    vector[n] cons;\n",
    "    matrix[n, m+1] x;\n",
    "\n",
    "    cons <- rep_vector(1, n);\n",
    "    x <- append_col(cons, xi);\n",
    "}\n",
    "parameters {\n",
    "    vector[k] beta;\n",
    "    real<lower=0> sigma;\n",
    "}\n",
    "model {\n",
    "    y ~ normal(xi * beta, sigma);\n",
    "}\n",
    "'''"
   ]
  },
  {
   "cell_type": "markdown",
   "metadata": {},
   "source": [
    "Now back to the original exercise, initialize your Stan model in PySTan "
   ]
  },
  {
   "cell_type": "code",
   "execution_count": 65,
   "metadata": {
    "collapsed": false
   },
   "outputs": [],
   "source": [
    "model = pystan.stan(model_code = reg_model, n_jobs = 1, data = dat, iter=1000, chains=1) \n",
    "\n",
    "# Remember n_jobs = 1 is for Windows user \n"
   ]
  },
  {
   "cell_type": "markdown",
   "metadata": {},
   "source": [
    "We're going to build our first trace plot. What's a trace plot? It's a diagnostic tool to understand how well our \"mixing\" is occuring while implementing the MCMC estimation. In general we want our traceplots to be devoid of 'jump' (see picture below - thanks Harvard: http://www.people.fas.harvard.edu/~plam/teaching/methods/convergence/convergence_print.pdf)\n",
    "\n"
   ]
  },
  {
   "cell_type": "code",
   "execution_count": 66,
   "metadata": {
    "collapsed": false
   },
   "outputs": [
    {
     "data": {
      "image/png": "[encoded data removed]",
      "text/plain": [
       "<IPython.core.display.Image object>"
      ]
     },
     "execution_count": 66,
     "metadata": {},
     "output_type": "execute_result"
    }
   ],
   "source": [
    "Image('../assets/images/traceplot examples.PNG')"
   ]
  },
  {
   "cell_type": "markdown",
   "metadata": {
    "collapsed": true
   },
   "source": [
    "Make a trace plot for the estimated parameter, using histogram, and **NOT** the traceplot method in PyStan. Please read through the docs and look up the .extract() method. Remember, do things the hard way first, then we can do it the easy way. "
   ]
  },
  {
   "cell_type": "code",
   "execution_count": 67,
   "metadata": {
    "collapsed": false
   },
   "outputs": [
    {
     "data": {
      "image/png": "[encoded data removed]",
      "text/plain": [
       "<matplotlib.figure.Figure at 0x1243eea90>"
      ]
     },
     "metadata": {},
     "output_type": "display_data"
    }
   ],
   "source": [
    "# Visualize the mean, and variance convergence using matplotlib\n",
    "\n",
    "trace = model.extract()\n",
    "plt.figure(figsize=(10,4))\n",
    "plt.subplot(1,2,1);\n",
    "plt.hist(trace['mu'][:], 25, histtype='step');\n",
    "plt.subplot(1,2,2);\n",
    "\n",
    "plt.hist(trace['sigma'][:], 25, histtype='step');"
   ]
  },
  {
   "cell_type": "markdown",
   "metadata": {},
   "source": [
    "Build a Trace plot of the model and all parameters using the trace plot method, and print the model"
   ]
  },
  {
   "cell_type": "code",
   "execution_count": 68,
   "metadata": {
    "collapsed": false
   },
   "outputs": [
    {
     "data": {
      "image/png": "[encoded data removed]",
      "text/plain": [
       "<matplotlib.figure.Figure at 0x1270bd1d0>"
      ]
     },
     "metadata": {},
     "output_type": "display_data"
    }
   ],
   "source": [
    "# Use the traceplot method from pystan to output the graph ... much easier than constructing from a histogram don't you think? \n",
    "\n",
    "model.traceplot()\n",
    "py.show()"
   ]
  },
  {
   "cell_type": "code",
   "execution_count": 69,
   "metadata": {
    "collapsed": false
   },
   "outputs": [
    {
     "name": "stdout",
     "output_type": "stream",
     "text": [
      "Inference for Stan model: anon_model_6b049365deacf02d599e5c1c3fb14fb9.\n",
      "1 chains, each with iter=1000; warmup=500; thin=1; \n",
      "post-warmup draws per chain=500, total post-warmup draws=500.\n",
      "\n",
      "          mean se_mean     sd   2.5%    25%    50%    75%  97.5%  n_eff   Rhat\n",
      "a        -0.41  3.6e-3   0.05   -0.5  -0.45  -0.41  -0.39  -0.32  167.0    1.0\n",
      "b        24.08    0.03   0.39  23.32  23.82  24.09  24.31  24.82  167.0    1.0\n",
      "sigma      8.5    0.02   0.27   7.99   8.32   8.49   8.67   9.02  160.0    1.0\n",
      "mu[0]    24.08    0.03   0.39  23.32  23.82  24.09  24.31  24.82  167.0    1.0\n",
      "mu[1]    24.07    0.03   0.39  23.31  23.81  24.08   24.3  24.81  167.0    1.0\n",
      "mu[2]    24.07    0.03   0.39  23.31  23.81  24.08   24.3  24.81  167.0    1.0\n",
      "mu[3]    24.07    0.03   0.39  23.31  23.81  24.08   24.3  24.81  167.0    1.0\n",
      "mu[4]    24.05    0.03   0.39   23.3   23.8  24.07  24.29  24.79  167.0    1.0\n",
      "mu[5]    24.07    0.03   0.39  23.31  23.81  24.08   24.3  24.81  167.0    1.0\n",
      "mu[6]    24.05    0.03   0.39  23.29  23.79  24.06  24.28  24.78  167.0    1.0\n",
      "mu[7]    24.02    0.03   0.39  23.27  23.77  24.04  24.25  24.75  167.0    1.0\n",
      "mu[8]     24.0    0.03   0.39  23.25  23.74  24.01  24.23  24.72  167.0    1.0\n",
      "mu[9]    24.01    0.03   0.39  23.27  23.76  24.03  24.24  24.74  167.0    1.0\n",
      "mu[10]   23.99    0.03   0.39  23.24  23.74  24.01  24.23  24.72  167.0    1.0\n",
      "mu[11]   24.03    0.03   0.39  23.28  23.78  24.05  24.27  24.77  167.0    1.0\n",
      "mu[12]   24.04    0.03   0.39  23.29  23.79  24.06  24.28  24.78  167.0    1.0\n",
      "mu[13]   23.82    0.03   0.38  23.08  23.56  23.84  24.07  24.54  167.0    1.0\n",
      "mu[14]   23.82    0.03   0.38  23.07  23.55  23.84  24.07  24.54  167.0    1.0\n",
      "mu[15]   23.82    0.03   0.38  23.08  23.56  23.84  24.07  24.54  167.0    1.0\n",
      "mu[16]   23.65    0.03   0.38  22.91  23.38  23.67  23.89  24.37  167.0    1.0\n",
      "mu[17]   23.76    0.03   0.38  23.01  23.48  23.77   24.0  24.48  167.0    1.0\n",
      "mu[18]   23.75    0.03   0.38  23.01  23.48  23.77   24.0  24.47  167.0    1.0\n",
      "mu[19]   23.78    0.03   0.38  23.04  23.51   23.8  24.03   24.5  167.0    1.0\n",
      "mu[20]   23.56    0.03   0.38  22.83  23.29  23.59  23.81  24.29  167.0    1.0\n",
      "mu[21]   23.73    0.03   0.38  22.99  23.46  23.75  23.98  24.45  167.0    1.0\n",
      "mu[22]   23.57    0.03   0.38  22.83   23.3  23.59  23.82  24.29  167.0    1.0\n",
      "mu[23]   23.67    0.03   0.38  22.93  23.41  23.69  23.91  24.39  167.0    1.0\n",
      "mu[24]   23.77    0.03   0.38  23.03   23.5  23.79  24.02  24.49  167.0    1.0\n",
      "mu[25]   23.73    0.03   0.38  22.99  23.46  23.75  23.98  24.46  167.0    1.0\n",
      "mu[26]    23.8    0.03   0.38  23.06  23.54  23.82  24.05  24.53  167.0    1.0\n",
      "mu[27]   23.69    0.03   0.38  22.95  23.42   23.7  23.93  24.41  167.0    1.0\n",
      "mu[28]   23.76    0.03   0.38  23.02  23.49  23.78  24.01  24.48  167.0    1.0\n",
      "mu[29]   23.67    0.03   0.38  22.93   23.4  23.69  23.91  24.39  167.0    1.0\n",
      "mu[30]   23.61    0.03   0.38  22.88  23.35  23.64  23.86  24.33  167.0    1.0\n",
      "mu[31]   23.52    0.03   0.38  22.78  23.25  23.55  23.76  24.25  167.0    1.0\n",
      "mu[32]   23.51    0.03   0.38  22.77  23.23  23.53  23.75  24.23  167.0    1.0\n",
      "mu[33]   23.61    0.03   0.38  22.87  23.34  23.63  23.85  24.32  167.0    1.0\n",
      "mu[34]   23.41    0.03   0.38  22.68  23.14  23.44  23.66  24.14  167.0    1.0\n",
      "mu[35]   24.06    0.03   0.39   23.3   23.8  24.07  24.29  24.79  167.0    1.0\n",
      "mu[36]   24.04    0.03   0.39  23.29  23.79  24.06  24.27  24.77  167.0    1.0\n",
      "mu[37]   24.05    0.03   0.39   23.3  23.79  24.06  24.28  24.78  167.0    1.0\n",
      "mu[38]   24.01    0.03   0.39  23.26  23.76  24.03  24.24  24.74  167.0    1.0\n",
      "mu[39]   24.07    0.03   0.39  23.31  23.81  24.08   24.3  24.81  167.0    1.0\n",
      "mu[40]   24.07    0.03   0.39  23.31  23.81  24.08   24.3   24.8  167.0    1.0\n",
      "mu[41]   24.03    0.03   0.39  23.28  23.78  24.05  24.26  24.76  167.0    1.0\n",
      "mu[42]   24.02    0.03   0.39  23.28  23.77  24.04  24.26  24.75  167.0    1.0\n",
      "mu[43]   24.02    0.03   0.39  23.27  23.77  24.03  24.25  24.75  167.0    1.0\n",
      "mu[44]   24.03    0.03   0.39  23.28  23.78  24.05  24.26  24.76  167.0    1.0\n",
      "mu[45]   24.01    0.03   0.39  23.27  23.76  24.03  24.24  24.74  167.0    1.0\n",
      "mu[46]   24.01    0.03   0.39  23.26  23.75  24.02  24.24  24.73  167.0    1.0\n",
      "mu[47]   23.99    0.03   0.39  23.24  23.74   24.0  24.22  24.71  167.0    1.0\n",
      "mu[48]   23.98    0.03   0.38  23.23  23.72   24.0  24.22   24.7  167.0    1.0\n",
      "mu[49]   23.99    0.03   0.39  23.25  23.74  24.01  24.23  24.72  167.0    1.0\n",
      "mu[50]   24.05    0.03   0.39  23.29  23.79  24.06  24.28  24.78  167.0    1.0\n",
      "mu[51]   24.07    0.03   0.39  23.31  23.81  24.08   24.3   24.8  167.0    1.0\n",
      "mu[52]   24.06    0.03   0.39   23.3   23.8  24.07  24.29   24.8  167.0    1.0\n",
      "mu[53]   24.06    0.03   0.39  23.31  23.81  24.07  24.29   24.8  167.0    1.0\n",
      "mu[54]   24.08    0.03   0.39  23.32  23.82  24.09  24.31  24.81  167.0    1.0\n",
      "mu[55]   24.08    0.03   0.39  23.32  23.82  24.09  24.31  24.81  167.0    1.0\n",
      "mu[56]   24.07    0.03   0.39  23.32  23.82  24.08   24.3  24.81  167.0    1.0\n",
      "mu[57]   24.08    0.03   0.39  23.32  23.82  24.09  24.31  24.81  167.0    1.0\n",
      "mu[58]   24.02    0.03   0.39  23.27  23.77  24.04  24.25  24.75  167.0    1.0\n",
      "mu[59]   24.04    0.03   0.39  23.29  23.79  24.06  24.27  24.77  167.0    1.0\n",
      "mu[60]   24.02    0.03   0.39  23.27  23.77  24.04  24.25  24.75  167.0    1.0\n",
      "mu[61]   24.01    0.03   0.39  23.27  23.76  24.03  24.24  24.74  167.0    1.0\n",
      "mu[62]   24.04    0.03   0.39  23.29  23.78  24.05  24.27  24.77  167.0    1.0\n",
      "mu[63]   24.03    0.03   0.39  23.28  23.78  24.05  24.26  24.76  167.0    1.0\n",
      "mu[64]   24.08    0.03   0.39  23.32  23.82  24.09  24.31  24.81  167.0    1.0\n",
      "mu[65]   24.07    0.03   0.39  23.31  23.81  24.08   24.3   24.8  167.0    1.0\n",
      "mu[66]   24.07    0.03   0.39  23.31  23.81  24.08   24.3   24.8  167.0    1.0\n",
      "mu[67]   24.06    0.03   0.39   23.3   23.8  24.07  24.29  24.79  167.0    1.0\n",
      "mu[68]   24.03    0.03   0.39  23.28  23.77  24.04  24.26  24.76  167.0    1.0\n",
      "mu[69]   24.03    0.03   0.39  23.28  23.78  24.05  24.26  24.76  167.0    1.0\n",
      "mu[70]   24.05    0.03   0.39  23.29  23.79  24.06  24.28  24.78  167.0    1.0\n",
      "mu[71]   24.02    0.03   0.39  23.27  23.77  24.03  24.25  24.75  167.0    1.0\n",
      "mu[72]   24.05    0.03   0.39  23.29  23.79  24.06  24.28  24.78  167.0    1.0\n",
      "mu[73]    24.0    0.03   0.39  23.26  23.75  24.02  24.24  24.73  167.0    1.0\n",
      "mu[74]   24.05    0.03   0.39   23.3  23.79  24.06  24.28  24.78  167.0    1.0\n",
      "mu[75]   24.04    0.03   0.39  23.29  23.79  24.06  24.28  24.78  167.0    1.0\n",
      "mu[76]   24.04    0.03   0.39  23.29  23.79  24.06  24.27  24.77  167.0    1.0\n",
      "mu[77]   24.05    0.03   0.39  23.29  23.79  24.06  24.28  24.78  167.0    1.0\n",
      "mu[78]   24.06    0.03   0.39   23.3   23.8  24.07  24.29  24.79  167.0    1.0\n",
      "mu[79]   24.05    0.03   0.39  23.29  23.79  24.06  24.28  24.78  167.0    1.0\n",
      "mu[80]   24.07    0.03   0.39  23.31  23.81  24.08   24.3   24.8  167.0    1.0\n",
      "mu[81]   24.06    0.03   0.39  23.31  23.81  24.08   24.3   24.8  167.0    1.0\n",
      "mu[82]   24.07    0.03   0.39  23.31  23.81  24.08   24.3   24.8  167.0    1.0\n",
      "mu[83]   24.07    0.03   0.39  23.31  23.81  24.08   24.3   24.8  167.0    1.0\n",
      "mu[84]   24.06    0.03   0.39  23.31  23.81  24.07  24.29   24.8  167.0    1.0\n",
      "mu[85]   24.06    0.03   0.39   23.3   23.8  24.07  24.29  24.79  167.0    1.0\n",
      "mu[86]   24.06    0.03   0.39   23.3  23.81  24.07  24.29   24.8  167.0    1.0\n",
      "mu[87]   24.05    0.03   0.39   23.3   23.8  24.07  24.29  24.79  167.0    1.0\n",
      "mu[88]   24.06    0.03   0.39   23.3   23.8  24.07  24.29  24.79  167.0    1.0\n",
      "mu[89]   24.06    0.03   0.39   23.3   23.8  24.07  24.29   24.8  167.0    1.0\n",
      "mu[90]   24.06    0.03   0.39  23.31  23.81  24.08  24.29   24.8  167.0    1.0\n",
      "mu[91]   24.07    0.03   0.39  23.31  23.81  24.08   24.3   24.8  167.0    1.0\n",
      "mu[92]   24.07    0.03   0.39  23.31  23.81  24.08   24.3   24.8  167.0    1.0\n",
      "mu[93]   24.07    0.03   0.39  23.31  23.81  24.08   24.3  24.81  167.0    1.0\n",
      "mu[94]   24.07    0.03   0.39  23.31  23.81  24.08   24.3   24.8  167.0    1.0\n",
      "mu[95]   24.03    0.03   0.39  23.28  23.78  24.05  24.26  24.76  167.0    1.0\n",
      "mu[96]   24.04    0.03   0.39  23.28  23.78  24.05  24.27  24.77  167.0    1.0\n",
      "mu[97]   24.03    0.03   0.39  23.28  23.78  24.05  24.26  24.76  167.0    1.0\n",
      "mu[98]   24.05    0.03   0.39  23.29  23.79  24.06  24.28  24.78  167.0    1.0\n",
      "mu[99]   24.05    0.03   0.39   23.3   23.8  24.07  24.29  24.79  167.0    1.0\n",
      "mu[100]  24.02    0.03   0.39  23.27  23.77  24.04  24.25  24.75  167.0    1.0\n",
      "mu[101]  24.04    0.03   0.39  23.28  23.78  24.05  24.27  24.77  167.0    1.0\n",
      "mu[102]  23.99    0.03   0.39  23.24  23.74   24.0  24.22  24.71  167.0    1.0\n",
      "mu[103]   24.0    0.03   0.39  23.25  23.74  24.01  24.23  24.72  167.0    1.0\n",
      "mu[104]  24.03    0.03   0.39  23.28  23.77  24.04  24.26  24.76  167.0    1.0\n",
      "mu[105]  24.03    0.03   0.39  23.28  23.78  24.04  24.26  24.76  167.0    1.0\n",
      "mu[106]  24.01    0.03   0.39  23.27  23.76  24.03  24.24  24.74  167.0    1.0\n",
      "mu[107]  24.03    0.03   0.39  23.28  23.78  24.05  24.26  24.76  167.0    1.0\n",
      "mu[108]  24.03    0.03   0.39  23.28  23.78  24.05  24.26  24.76  167.0    1.0\n",
      "mu[109]  23.97    0.03   0.38  23.23  23.72  23.99  24.21   24.7  167.0    1.0\n",
      "mu[110]  24.04    0.03   0.39  23.29  23.78  24.05  24.27  24.77  167.0    1.0\n",
      "mu[111]  24.04    0.03   0.39  23.29  23.79  24.06  24.27  24.77  167.0    1.0\n",
      "mu[112]  24.03    0.03   0.39  23.28  23.78  24.05  24.26  24.76  167.0    1.0\n",
      "mu[113]  23.99    0.03   0.39  23.25  23.74  24.01  24.23  24.72  167.0    1.0\n",
      "mu[114]  24.02    0.03   0.39  23.28  23.77  24.04  24.26  24.75  167.0    1.0\n",
      "mu[115]  24.01    0.03   0.39  23.27  23.76  24.03  24.24  24.74  167.0    1.0\n",
      "mu[116]  24.03    0.03   0.39  23.28  23.78  24.04  24.26  24.76  167.0    1.0\n",
      "mu[117]  24.02    0.03   0.39  23.27  23.77  24.04  24.25  24.75  167.0    1.0\n",
      "mu[118]  24.03    0.03   0.39  23.28  23.78  24.05  24.26  24.76  167.0    1.0\n",
      "mu[119]  24.02    0.03   0.39  23.27  23.77  24.04  24.25  24.75  167.0    1.0\n",
      "mu[120]  24.05    0.03   0.39   23.3   23.8  24.07  24.29  24.79  167.0    1.0\n",
      "mu[121]  24.05    0.03   0.39   23.3   23.8  24.07  24.29  24.79  167.0    1.0\n",
      "mu[122]  24.04    0.03   0.39  23.29  23.79  24.06  24.28  24.78  167.0    1.0\n",
      "mu[123]  24.02    0.03   0.39  23.27  23.77  24.04  24.25  24.75  167.0    1.0\n",
      "mu[124]  24.04    0.03   0.39  23.29  23.79  24.06  24.27  24.77  167.0    1.0\n",
      "mu[125]  24.01    0.03   0.39  23.27  23.76  24.03  24.24  24.74  167.0    1.0\n",
      "mu[126]  23.92    0.03   0.38  23.18  23.66  23.94  24.17  24.64  167.0    1.0\n",
      "mu[127]  23.98    0.03   0.38  23.23  23.72  23.99  24.21   24.7  167.0    1.0\n",
      "mu[128]  23.95    0.03   0.38   23.2  23.69  23.97  24.19  24.67  167.0    1.0\n",
      "mu[129]  23.72    0.03   0.38  22.97  23.45  23.73  23.96  24.44  167.0    1.0\n",
      "mu[130]  23.94    0.03   0.38   23.2  23.69  23.96  24.19  24.66  167.0    1.0\n",
      "mu[131]  23.59    0.03   0.38  22.85  23.32  23.61  23.83  24.31  167.0    1.0\n",
      "mu[132]  23.84    0.03   0.38  23.09  23.57  23.86  24.09  24.56  167.0    1.0\n",
      "mu[133]  23.95    0.03   0.38   23.2  23.69  23.97  24.19  24.67  167.0    1.0\n",
      "mu[134]  23.68    0.03   0.38  22.94  23.41   23.7  23.92   24.4  167.0    1.0\n",
      "mu[135]  23.85    0.03   0.38  23.11  23.59  23.87   24.1  24.57  167.0    1.0\n",
      "mu[136]  23.95    0.03   0.38   23.2  23.69  23.97  24.19  24.67  167.0    1.0\n",
      "mu[137]  23.94    0.03   0.38  23.19  23.68  23.96  24.18  24.66  167.0    1.0\n",
      "mu[138]  23.98    0.03   0.38  23.23  23.73   24.0  24.22  24.71  167.0    1.0\n",
      "mu[139]  23.86    0.03   0.38  23.11  23.59  23.88  24.11  24.58  167.0    1.0\n",
      "mu[140]  23.96    0.03   0.38  23.22  23.71  23.98   24.2  24.69  167.0    1.0\n",
      "mu[141]  23.41    0.03   0.38  22.68  23.13  23.43  23.66  24.14  167.0    1.0\n",
      "mu[142]  22.71    0.03   0.38  21.95  22.44  22.72  22.97  23.42  167.0    1.0\n",
      "mu[143]  22.38    0.03   0.39  21.61  22.12   22.4  22.66  23.11  167.0    1.0\n",
      "mu[144]  22.93    0.03   0.38  22.19  22.66  22.95  23.19  23.64  167.0    1.0\n",
      "mu[145]   23.1    0.03   0.38  22.36  22.82  23.12  23.34   23.8  167.0    1.0\n",
      "mu[146]  23.19    0.03   0.38  22.47  22.92  23.21  23.44   23.9  167.0    1.0\n",
      "mu[147]   23.1    0.03   0.38  22.37  22.83  23.12  23.35  23.81  167.0    1.0\n",
      "mu[148]  23.12    0.03   0.38  22.39  22.84  23.14  23.37  23.82  167.0    1.0\n",
      "mu[149]  22.95    0.03   0.38  22.21  22.68  22.96   23.2  23.66  167.0    1.0\n",
      "mu[150]   23.4    0.03   0.38  22.67  23.12  23.42  23.64  24.13  167.0    1.0\n",
      "mu[151]  23.46    0.03   0.38  22.73  23.19  23.49  23.71  24.19  167.0    1.0\n",
      "mu[152]  23.62    0.03   0.38  22.88  23.35  23.64  23.86  24.33  167.0    1.0\n",
      "mu[153]  23.19    0.03   0.38  22.47  22.92  23.21  23.44  23.91  167.0    1.0\n",
      "mu[154]   23.5    0.03   0.38  22.76  23.22  23.52  23.74  24.22  167.0    1.0\n",
      "mu[155]  22.62    0.03   0.38  21.85  22.35  22.63  22.88  23.34  167.0    1.0\n",
      "mu[156]  23.07    0.03   0.38  22.34  22.79  23.09  23.31  23.78  167.0    1.0\n",
      "mu[157]  23.58    0.03   0.38  22.84  23.31   23.6  23.82   24.3  167.0    1.0\n",
      "mu[158]  23.53    0.03   0.38  22.79  23.25  23.55  23.77  24.25  167.0    1.0\n",
      "mu[159]  23.49    0.03   0.38  22.76  23.22  23.52  23.74  24.22  167.0    1.0\n",
      "mu[160]  23.56    0.03   0.38  22.82  23.28  23.58   23.8  24.28  167.0    1.0\n",
      "mu[161]  23.48    0.03   0.38  22.74   23.2   23.5  23.72   24.2  167.0    1.0\n",
      "mu[162]  23.32    0.03   0.38   22.6  23.04  23.34  23.56  24.05  167.0    1.0\n",
      "mu[163]  23.45    0.03   0.38  22.72  23.18  23.48   23.7  24.18  167.0    1.0\n",
      "mu[164]  23.15    0.03   0.38  22.43  22.88  23.17   23.4  23.86  167.0    1.0\n",
      "mu[165]  22.87    0.03   0.38  22.13   22.6  22.88  23.13  23.57  167.0    1.0\n",
      "mu[166]  23.25    0.03   0.38  22.53  22.97  23.27  23.49  23.97  167.0    1.0\n",
      "mu[167]  23.34    0.03   0.38  22.61  23.06  23.36  23.58  24.07  167.0    1.0\n",
      "mu[168]  23.13    0.03   0.38   22.4  22.86  23.15  23.38  23.84  167.0    1.0\n",
      "mu[169]  23.07    0.03   0.38  22.33  22.79  23.09  23.31  23.77  167.0    1.0\n",
      "mu[170]  23.58    0.03   0.38  22.84  23.31   23.6  23.83   24.3  167.0    1.0\n",
      "mu[171]  23.12    0.03   0.38  22.39  22.85  23.15  23.37  23.83  167.0    1.0\n",
      "mu[172]  24.03    0.03   0.39  23.28  23.77  24.04  24.26  24.76  167.0    1.0\n",
      "mu[173]  24.05    0.03   0.39  23.29  23.79  24.06  24.28  24.78  167.0    1.0\n",
      "mu[174]  24.05    0.03   0.39  23.29  23.79  24.06  24.28  24.78  167.0    1.0\n",
      "mu[175]  24.06    0.03   0.39   23.3   23.8  24.07  24.29  24.79  167.0    1.0\n",
      "mu[176]  24.05    0.03   0.39   23.3   23.8  24.07  24.29  24.79  167.0    1.0\n",
      "mu[177]  24.06    0.03   0.39   23.3   23.8  24.07  24.29  24.79  167.0    1.0\n",
      "mu[178]  24.06    0.03   0.39   23.3   23.8  24.07  24.29  24.79  167.0    1.0\n",
      "mu[179]  24.06    0.03   0.39   23.3   23.8  24.07  24.29  24.79  167.0    1.0\n",
      "mu[180]  24.06    0.03   0.39   23.3   23.8  24.07  24.29  24.79  167.0    1.0\n",
      "mu[181]  24.05    0.03   0.39   23.3   23.8  24.07  24.29  24.79  167.0    1.0\n",
      "mu[182]  24.05    0.03   0.39  23.29  23.79  24.06  24.28  24.78  167.0    1.0\n",
      "mu[183]  24.04    0.03   0.39  23.29  23.79  24.06  24.27  24.77  167.0    1.0\n",
      "mu[184]  24.05    0.03   0.39  23.29  23.79  24.06  24.28  24.78  167.0    1.0\n",
      "mu[185]  24.06    0.03   0.39   23.3   23.8  24.07  24.29  24.79  167.0    1.0\n",
      "mu[186]  24.06    0.03   0.39   23.3   23.8  24.07  24.29  24.79  167.0    1.0\n",
      "mu[187]  24.05    0.03   0.39   23.3  23.79  24.07  24.28  24.78  167.0    1.0\n",
      "mu[188]  24.03    0.03   0.39  23.28  23.78  24.05  24.26  24.76  167.0    1.0\n",
      "mu[189]  24.05    0.03   0.39  23.29  23.79  24.06  24.28  24.78  167.0    1.0\n",
      "mu[190]  24.05    0.03   0.39  23.29  23.79  24.06  24.28  24.78  167.0    1.0\n",
      "mu[191]  24.05    0.03   0.39   23.3   23.8  24.07  24.29  24.79  167.0    1.0\n",
      "mu[192]  24.05    0.03   0.39  23.29  23.79  24.06  24.28  24.78  167.0    1.0\n",
      "mu[193]  24.07    0.03   0.39  23.31  23.82  24.08   24.3  24.81  167.0    1.0\n",
      "mu[194]  24.08    0.03   0.39  23.32  23.82  24.09  24.31  24.81  167.0    1.0\n",
      "mu[195]  24.08    0.03   0.39  23.32  23.82  24.09  24.31  24.81  167.0    1.0\n",
      "mu[196]  24.07    0.03   0.39  23.31  23.81  24.08   24.3   24.8  167.0    1.0\n",
      "mu[197]  24.06    0.03   0.39  23.31  23.81  24.08  24.29   24.8  167.0    1.0\n",
      "mu[198]  24.07    0.03   0.39  23.31  23.81  24.08   24.3   24.8  167.0    1.0\n",
      "mu[199]  24.07    0.03   0.39  23.31  23.81  24.08   24.3  24.81  167.0    1.0\n",
      "mu[200]  24.08    0.03   0.39  23.32  23.82  24.09  24.31  24.81  167.0    1.0\n",
      "mu[201]  24.07    0.03   0.39  23.31  23.81  24.08   24.3   24.8  167.0    1.0\n",
      "mu[202]  24.07    0.03   0.39  23.31  23.82  24.08   24.3  24.81  167.0    1.0\n",
      "mu[203]  24.07    0.03   0.39  23.31  23.81  24.08   24.3   24.8  167.0    1.0\n",
      "mu[204]  24.08    0.03   0.39  23.32  23.82  24.09   24.3  24.81  167.0    1.0\n",
      "mu[205]  24.03    0.03   0.39  23.28  23.77  24.04  24.26  24.76  167.0    1.0\n",
      "mu[206]  23.99    0.03   0.39  23.24  23.74   24.0  24.22  24.71  167.0    1.0\n",
      "mu[207]  23.98    0.03   0.38  23.23  23.73   24.0  24.22   24.7  167.0    1.0\n",
      "mu[208]  24.03    0.03   0.39  23.28  23.77  24.04  24.26  24.76  167.0    1.0\n",
      "mu[209]   23.9    0.03   0.38  23.16  23.64  23.92  24.15  24.62  167.0    1.0\n",
      "mu[210]  24.01    0.03   0.39  23.26  23.76  24.03  24.24  24.74  167.0    1.0\n",
      "mu[211]  23.93    0.03   0.38  23.18  23.67  23.95  24.17  24.65  167.0    1.0\n",
      "mu[212]  23.99    0.03   0.39  23.25  23.74  24.01  24.23  24.72  167.0    1.0\n",
      "mu[213]  24.03    0.03   0.39  23.28  23.77  24.04  24.26  24.75  167.0    1.0\n",
      "mu[214]  23.96    0.03   0.38  23.22  23.71  23.98   24.2  24.69  167.0    1.0\n",
      "mu[215]   24.0    0.03   0.39  23.26  23.75  24.02  24.23  24.73  167.0    1.0\n",
      "mu[216]  24.06    0.03   0.39  23.31  23.81  24.08   24.3   24.8  167.0    1.0\n",
      "mu[217]  24.05    0.03   0.39   23.3   23.8  24.07  24.29  24.79  167.0    1.0\n",
      "mu[218]  24.04    0.03   0.39  23.29  23.78  24.05  24.27  24.77  167.0    1.0\n",
      "mu[219]  24.04    0.03   0.39  23.28  23.78  24.05  24.27  24.77  167.0    1.0\n",
      "mu[220]  23.93    0.03   0.38  23.19  23.68  23.96  24.18  24.66  167.0    1.0\n",
      "mu[221]  23.91    0.03   0.38  23.17  23.65  23.93  24.16  24.64  167.0    1.0\n",
      "mu[222]  23.82    0.03   0.38  23.08  23.56  23.84  24.07  24.54  167.0    1.0\n",
      "mu[223]  23.83    0.03   0.38  23.08  23.56  23.85  24.08  24.55  167.0    1.0\n",
      "mu[224]  23.95    0.03   0.38  23.21   23.7  23.97  24.19  24.68  167.0    1.0\n",
      "mu[225]  23.86    0.03   0.38  23.12   23.6  23.88  24.11  24.59  167.0    1.0\n",
      "mu[226]  23.92    0.03   0.38  23.18  23.67  23.94  24.17  24.65  167.0    1.0\n",
      "mu[227]  23.91    0.03   0.38  23.17  23.65  23.93  24.16  24.63  167.0    1.0\n",
      "mu[228]  23.96    0.03   0.38  23.21   23.7  23.98   24.2  24.68  167.0    1.0\n",
      "mu[229]   23.9    0.03   0.38  23.16  23.64  23.92  24.15  24.62  167.0    1.0\n",
      "mu[230]  23.86    0.03   0.38  23.12   23.6  23.88  24.11  24.58  167.0    1.0\n",
      "mu[231]  23.89    0.03   0.38  23.15  23.63  23.91  24.14  24.61  167.0    1.0\n",
      "mu[232]  23.84    0.03   0.38   23.1  23.58  23.86  24.09  24.56  167.0    1.0\n",
      "mu[233]  23.95    0.03   0.38   23.2  23.69  23.97  24.19  24.67  167.0    1.0\n",
      "mu[234]   23.9    0.03   0.38  23.16  23.63  23.91  24.14  24.62  167.0    1.0\n",
      "mu[235]  23.95    0.03   0.38   23.2  23.69  23.97  24.19  24.67  167.0    1.0\n",
      "mu[236]  23.87    0.03   0.38  23.13   23.6  23.89  24.12  24.59  167.0    1.0\n",
      "mu[237]  23.87    0.03   0.38  23.13  23.61  23.89  24.12  24.59  167.0    1.0\n",
      "mu[238]  24.05    0.03   0.39  23.29  23.79  24.06  24.28  24.78  167.0    1.0\n",
      "mu[239]  24.05    0.03   0.39  23.29  23.79  24.06  24.28  24.78  167.0    1.0\n",
      "mu[240]  24.04    0.03   0.39  23.28  23.78  24.05  24.27  24.77  167.0    1.0\n",
      "mu[241]  24.04    0.03   0.39  23.29  23.78  24.05  24.27  24.77  167.0    1.0\n",
      "mu[242]  24.04    0.03   0.39  23.29  23.79  24.06  24.27  24.77  167.0    1.0\n",
      "mu[243]  24.03    0.03   0.39  23.28  23.78  24.05  24.26  24.76  167.0    1.0\n",
      "mu[244]   24.0    0.03   0.39  23.25  23.75  24.01  24.23  24.72  167.0    1.0\n",
      "mu[245]   24.0    0.03   0.39  23.26  23.75  24.02  24.24  24.73  167.0    1.0\n",
      "mu[246]  23.94    0.03   0.38   23.2  23.69  23.96  24.19  24.66  167.0    1.0\n",
      "mu[247]   24.0    0.03   0.39  23.26  23.75  24.02  24.23  24.73  167.0    1.0\n",
      "mu[248]  24.02    0.03   0.39  23.27  23.76  24.03  24.25  24.74  167.0    1.0\n",
      "mu[249]   24.0    0.03   0.39  23.26  23.75  24.02  24.24  24.73  167.0    1.0\n",
      "mu[250]  24.03    0.03   0.39  23.28  23.77  24.04  24.26  24.75  167.0    1.0\n",
      "mu[251]  23.99    0.03   0.39  23.25  23.74  24.01  24.23  24.72  167.0    1.0\n",
      "mu[252]  24.05    0.03   0.39  23.29  23.79  24.06  24.28  24.78  167.0    1.0\n",
      "mu[253]  23.93    0.03   0.38  23.19  23.67  23.95  24.17  24.65  167.0    1.0\n",
      "mu[254]  24.06    0.03   0.39  23.31  23.81  24.08  24.29   24.8  167.0    1.0\n",
      "mu[255]  24.07    0.03   0.39  23.31  23.81  24.08   24.3   24.8  167.0    1.0\n",
      "mu[256]  24.08    0.03   0.39  23.32  23.82  24.09  24.31  24.81  167.0    1.0\n",
      "mu[257]  23.83    0.03   0.38  23.08  23.56  23.85  24.08  24.55  167.0    1.0\n",
      "mu[258]  23.81    0.03   0.38  23.06  23.54  23.83  24.05  24.53  167.0    1.0\n",
      "mu[259]  23.81    0.03   0.38  23.06  23.54  23.83  24.06  24.53  167.0    1.0\n",
      "mu[260]  23.86    0.03   0.38  23.12  23.59  23.88  24.11  24.58  167.0    1.0\n",
      "mu[261]  23.86    0.03   0.38  23.12   23.6  23.88  24.11  24.58  167.0    1.0\n",
      "mu[262]  23.87    0.03   0.38  23.13   23.6  23.89  24.12  24.59  167.0    1.0\n",
      "mu[263]  23.74    0.03   0.38   23.0  23.47  23.76  23.99  24.46  167.0    1.0\n",
      "mu[264]  23.86    0.03   0.38  23.11  23.59  23.87   24.1  24.57  167.0    1.0\n",
      "mu[265]  23.77    0.03   0.38  23.02  23.49  23.78  24.01  24.49  167.0    1.0\n",
      "mu[266]  23.76    0.03   0.38  23.01  23.48  23.77   24.0  24.48  167.0    1.0\n",
      "mu[267]  23.84    0.03   0.38   23.1  23.58  23.86  24.09  24.56  167.0    1.0\n",
      "mu[268]  23.86    0.03   0.38  23.12  23.59  23.88  24.11  24.58  167.0    1.0\n",
      "mu[269]  24.05    0.03   0.39  23.29  23.79  24.06  24.28  24.78  167.0    1.0\n",
      "mu[270]  23.96    0.03   0.38  23.21   23.7  23.98   24.2  24.68  167.0    1.0\n",
      "mu[271]  24.02    0.03   0.39  23.27  23.76  24.03  24.25  24.74  167.0    1.0\n",
      "mu[272]  24.04    0.03   0.39  23.28  23.78  24.05  24.27  24.77  167.0    1.0\n",
      "mu[273]  23.99    0.03   0.39  23.25  23.74  24.01  24.23  24.72  167.0    1.0\n",
      "mu[274]  24.06    0.03   0.39   23.3   23.8  24.07  24.29  24.79  167.0    1.0\n",
      "mu[275]  24.04    0.03   0.39  23.29  23.79  24.06  24.28  24.78  167.0    1.0\n",
      "mu[276]  24.04    0.03   0.39  23.29  23.78  24.06  24.27  24.77  167.0    1.0\n",
      "mu[277]  24.06    0.03   0.39   23.3   23.8  24.07  24.29  24.79  167.0    1.0\n",
      "mu[278]  24.05    0.03   0.39   23.3  23.79  24.06  24.28  24.78  167.0    1.0\n",
      "mu[279]   24.0    0.03   0.39  23.25  23.74  24.01  24.23  24.72  167.0    1.0\n",
      "mu[280]  24.07    0.03   0.39  23.31  23.81  24.08   24.3   24.8  167.0    1.0\n",
      "mu[281]  24.07    0.03   0.39  23.31  23.81  24.08   24.3   24.8  167.0    1.0\n",
      "mu[282]  24.06    0.03   0.39   23.3   23.8  24.07  24.29  24.79  167.0    1.0\n",
      "mu[283]  24.08    0.03   0.39  23.32  23.82  24.09  24.31  24.81  167.0    1.0\n",
      "mu[284]  24.08    0.03   0.39  23.32  23.82  24.09  24.31  24.82  167.0    1.0\n",
      "mu[285]  24.08    0.03   0.39  23.32  23.82  24.09  24.31  24.81  167.0    1.0\n",
      "mu[286]  24.08    0.03   0.39  23.32  23.82  24.09  24.31  24.81  167.0    1.0\n",
      "mu[287]  24.07    0.03   0.39  23.31  23.81  24.08   24.3   24.8  167.0    1.0\n",
      "mu[288]  24.06    0.03   0.39  23.31  23.81  24.08   24.3   24.8  167.0    1.0\n",
      "mu[289]  24.07    0.03   0.39  23.31  23.81  24.08   24.3   24.8  167.0    1.0\n",
      "mu[290]  24.07    0.03   0.39  23.31  23.81  24.08   24.3   24.8  167.0    1.0\n",
      "mu[291]  24.05    0.03   0.39   23.3  23.79  24.07  24.28  24.78  167.0    1.0\n",
      "mu[292]  24.07    0.03   0.39  23.31  23.81  24.08   24.3   24.8  167.0    1.0\n",
      "mu[293]  24.05    0.03   0.39  23.29  23.79  24.06  24.28  24.78  167.0    1.0\n",
      "mu[294]  24.05    0.03   0.39  23.29  23.79  24.06  24.28  24.78  167.0    1.0\n",
      "mu[295]  24.03    0.03   0.39  23.28  23.78  24.05  24.26  24.76  167.0    1.0\n",
      "mu[296]  24.06    0.03   0.39   23.3   23.8  24.07  24.29   24.8  167.0    1.0\n",
      "mu[297]  24.02    0.03   0.39  23.28  23.77  24.04  24.26  24.75  167.0    1.0\n",
      "mu[298]  24.06    0.03   0.39   23.3   23.8  24.07  24.29  24.79  167.0    1.0\n",
      "mu[299]  24.06    0.03   0.39   23.3   23.8  24.07  24.29  24.79  167.0    1.0\n",
      "mu[300]  24.07    0.03   0.39  23.31  23.81  24.08   24.3   24.8  167.0    1.0\n",
      "mu[301]  24.07    0.03   0.39  23.31  23.81  24.08   24.3   24.8  167.0    1.0\n",
      "mu[302]  24.05    0.03   0.39  23.29  23.79  24.06  24.28  24.78  167.0    1.0\n",
      "mu[303]  24.04    0.03   0.39  23.29  23.79  24.06  24.27  24.77  167.0    1.0\n",
      "mu[304]  24.06    0.03   0.39   23.3   23.8  24.07  24.29  24.79  167.0    1.0\n",
      "mu[305]  24.06    0.03   0.39   23.3   23.8  24.07  24.29  24.79  167.0    1.0\n",
      "mu[306]  24.05    0.03   0.39   23.3   23.8  24.07  24.28  24.79  167.0    1.0\n",
      "mu[307]  24.06    0.03   0.39  23.31  23.81  24.08  24.29   24.8  167.0    1.0\n",
      "mu[308]  23.88    0.03   0.38  23.14  23.61   23.9  24.13   24.6  167.0    1.0\n",
      "mu[309]  23.94    0.03   0.38  23.19  23.68  23.96  24.18  24.66  167.0    1.0\n",
      "mu[310]  22.99    0.03   0.38  22.26  22.72  23.01  23.24   23.7  167.0    1.0\n",
      "mu[311]  23.76    0.03   0.38  23.01  23.48  23.77   24.0  24.48  167.0    1.0\n",
      "mu[312]  23.97    0.03   0.38  23.23  23.72  23.99  24.21   24.7  167.0    1.0\n",
      "mu[313]  23.97    0.03   0.38  23.22  23.72  23.99  24.21   24.7  167.0    1.0\n",
      "mu[314]  23.93    0.03   0.38  23.19  23.67  23.95  24.17  24.65  167.0    1.0\n",
      "mu[315]  23.98    0.03   0.38  23.23  23.73   24.0  24.22   24.7  167.0    1.0\n",
      "mu[316]  23.95    0.03   0.38  23.21  23.69  23.97  24.19  24.67  167.0    1.0\n",
      "mu[317]  23.98    0.03   0.38  23.24  23.73   24.0  24.22  24.71  167.0    1.0\n",
      "mu[318]  23.92    0.03   0.38  23.17  23.66  23.93  24.16  24.64  167.0    1.0\n",
      "mu[319]  23.89    0.03   0.38  23.15  23.62   23.9  24.13  24.61  167.0    1.0\n",
      "mu[320]  24.01    0.03   0.39  23.27  23.76  24.03  24.25  24.74  167.0    1.0\n",
      "mu[321]  24.01    0.03   0.39  23.26  23.76  24.02  24.24  24.74  167.0    1.0\n",
      "mu[322]  23.94    0.03   0.38  23.19  23.68  23.96  24.18  24.66  167.0    1.0\n",
      "mu[323]  23.97    0.03   0.38  23.22  23.71  23.98  24.21  24.69  167.0    1.0\n",
      "mu[324]  23.94    0.03   0.38   23.2  23.68  23.96  24.18  24.66  167.0    1.0\n",
      "mu[325]   24.0    0.03   0.39  23.26  23.75  24.02  24.24  24.73  167.0    1.0\n",
      "mu[326]  23.96    0.03   0.38  23.21   23.7  23.98   24.2  24.68  167.0    1.0\n",
      "mu[327]  23.98    0.03   0.39  23.24  23.73   24.0  24.22  24.71  167.0    1.0\n",
      "mu[328]  24.06    0.03   0.39   23.3   23.8  24.07  24.29  24.79  167.0    1.0\n",
      "mu[329]  24.06    0.03   0.39   23.3   23.8  24.07  24.29  24.79  167.0    1.0\n",
      "mu[330]  24.06    0.03   0.39  23.31  23.81  24.08   24.3   24.8  167.0    1.0\n",
      "mu[331]  24.06    0.03   0.39  23.31  23.81  24.07  24.29   24.8  167.0    1.0\n",
      "mu[332]  24.07    0.03   0.39  23.31  23.81  24.08   24.3   24.8  167.0    1.0\n",
      "mu[333]  24.06    0.03   0.39  23.31  23.81  24.07  24.29   24.8  167.0    1.0\n",
      "mu[334]  24.07    0.03   0.39  23.31  23.81  24.08   24.3   24.8  167.0    1.0\n",
      "mu[335]  24.07    0.03   0.39  23.31  23.81  24.08   24.3   24.8  167.0    1.0\n",
      "mu[336]  24.07    0.03   0.39  23.31  23.81  24.08   24.3   24.8  167.0    1.0\n",
      "mu[337]  24.07    0.03   0.39  23.31  23.81  24.08   24.3  24.81  167.0    1.0\n",
      "mu[338]  24.07    0.03   0.39  23.31  23.81  24.08   24.3   24.8  167.0    1.0\n",
      "mu[339]  24.06    0.03   0.39   23.3   23.8  24.07  24.29  24.79  167.0    1.0\n",
      "mu[340]  24.06    0.03   0.39   23.3   23.8  24.07  24.29  24.79  167.0    1.0\n",
      "mu[341]  24.08    0.03   0.39  23.32  23.82  24.09  24.31  24.81  167.0    1.0\n",
      "mu[342]  24.07    0.03   0.39  23.31  23.82  24.08   24.3  24.81  167.0    1.0\n",
      "mu[343]  24.07    0.03   0.39  23.31  23.82  24.08   24.3  24.81  167.0    1.0\n",
      "mu[344]  24.07    0.03   0.39  23.31  23.81  24.08   24.3  24.81  167.0    1.0\n",
      "mu[345]  24.07    0.03   0.39  23.31  23.81  24.08   24.3  24.81  167.0    1.0\n",
      "mu[346]  24.06    0.03   0.39   23.3   23.8  24.07  24.29  24.79  167.0    1.0\n",
      "mu[347]  24.08    0.03   0.39  23.32  23.82  24.09  24.31  24.81  167.0    1.0\n",
      "mu[348]  24.08    0.03   0.39  23.32  23.82  24.09  24.31  24.81  167.0    1.0\n",
      "mu[349]  24.07    0.03   0.39  23.31  23.81  24.08   24.3  24.81  167.0    1.0\n",
      "mu[350]  24.06    0.03   0.39   23.3   23.8  24.07  24.29  24.79  167.0    1.0\n",
      "mu[351]  24.05    0.03   0.39   23.3  23.79  24.06  24.28  24.78  167.0    1.0\n",
      "mu[352]  24.05    0.03   0.39   23.3   23.8  24.07  24.28  24.79  167.0    1.0\n",
      "mu[353]  24.08    0.03   0.39  23.32  23.82  24.09  24.31  24.81  167.0    1.0\n",
      "mu[354]  24.07    0.03   0.39  23.31  23.81  24.08   24.3   24.8  167.0    1.0\n",
      "mu[355]  24.04    0.03   0.39  23.29  23.78  24.05  24.27  24.77  167.0    1.0\n",
      "mu[356]  20.36    0.04    0.5  19.36  20.04  20.39  20.69  21.32  167.0    1.0\n",
      "mu[357]  22.49    0.03   0.39  21.71  22.22   22.5  22.75  23.21  167.0    1.0\n",
      "mu[358]  21.93    0.03    0.4  21.09  21.65  21.94   22.2  22.71  167.0    1.0\n",
      "mu[359]  22.32    0.03   0.39  21.53  22.05  22.34  22.59  23.05  167.0    1.0\n",
      "mu[360]   22.2    0.03   0.39   21.4  21.94  22.22  22.47  22.96  167.0    1.0\n",
      "mu[361]  22.49    0.03   0.39  21.72  22.23   22.5  22.76  23.21  167.0    1.0\n",
      "mu[362]  22.56    0.03   0.38  21.79  22.29  22.57  22.82  23.28  167.0    1.0\n",
      "mu[363]  22.33    0.03   0.39  21.55  22.07  22.35   22.6  23.07  167.0    1.0\n",
      "mu[364]  22.64    0.03   0.38  21.88  22.37  22.66  22.91  23.36  167.0    1.0\n",
      "mu[365]  22.19    0.03    0.4  21.39  21.93  22.21  22.46  22.95  167.0    1.0\n",
      "mu[366]  22.55    0.03   0.38  21.78  22.28  22.56  22.82  23.27  167.0    1.0\n",
      "mu[367]  18.48    0.05   0.65  17.22  18.04  18.49  18.91  19.68  167.0    1.0\n",
      "mu[368]  22.05    0.03    0.4  21.24  21.78  22.06  22.32  22.82  167.0    1.0\n",
      "mu[369]  21.73    0.03   0.41  20.88  21.46  21.74  22.01  22.54  167.0    1.0\n",
      "mu[370]  21.37    0.03   0.43  20.48  21.09   21.4  21.66  22.23  167.0    1.0\n",
      "mu[371]  20.25    0.04    0.5  19.23  19.93  20.28  20.58  21.22  167.0    1.0\n",
      "mu[372]  20.66    0.04   0.48  19.69  20.35  20.68  20.96  21.59  167.0    1.0\n",
      "mu[373]  19.48    0.04   0.56  18.34  19.09  19.51  19.86   20.5  167.0    1.0\n",
      "mu[374]  16.41    0.07   0.85  14.76  15.84   16.4  16.99  18.01  167.0    1.0\n",
      "mu[375]  15.95    0.07    0.9   14.2  15.37  15.94  16.56  17.64  167.0    1.0\n",
      "mu[376]  17.74    0.06   0.72  16.36  17.26  17.75  18.21  19.09  167.0    1.0\n",
      "mu[377]  20.01    0.04   0.52  18.94  19.67  20.03  20.36  20.99  167.0    1.0\n",
      "mu[378]  14.28    0.08   1.07  12.21   13.6  14.26  15.01  16.34  167.0    1.0\n",
      "mu[379]  16.67    0.06   0.82  15.07  16.12  16.67  17.23  18.21  167.0    1.0\n",
      "mu[380] -12.81    0.31   4.03 -20.54 -15.62 -12.72 -10.25   -5.0  167.0    1.0\n",
      "mu[381]   17.5    0.06   0.74  16.07   17.0  17.51  17.99  18.89  167.0    1.0\n",
      "mu[382]  20.27    0.04    0.5  19.25  19.95   20.3   20.6  21.24  167.0    1.0\n",
      "mu[383]  20.77    0.04   0.47  19.81  20.47  20.79  21.08   21.7  167.0    1.0\n",
      "mu[384]  15.75    0.07   0.92  13.97  15.16  15.74  16.38  17.47  167.0    1.0\n",
      "mu[385]  17.11    0.06   0.78   15.6  16.57  17.11  17.63  18.56  167.0    1.0\n",
      "mu[386]  13.97    0.09    1.1  11.85  13.28  13.96  14.72   16.1  167.0    1.0\n",
      "mu[387]  14.71    0.08   1.02  12.72  14.08   14.7  15.42  16.68  167.0    1.0\n",
      "mu[388]  18.14    0.05   0.68  16.84  17.68  18.15  18.59  19.39  167.0    1.0\n",
      "mu[389]   20.7    0.04   0.47  19.74   20.4  20.73  21.01  21.63  167.0    1.0\n",
      "mu[390]   21.2    0.03   0.44  20.29  20.91  21.22  21.49  22.07  167.0    1.0\n",
      "mu[391]  21.89    0.03   0.41  21.05  21.61   21.9  22.16  22.68  167.0    1.0\n",
      "mu[392]  19.28    0.04   0.58  18.12  18.88  19.31  19.67  20.33  167.0    1.0\n",
      "mu[393]   20.5    0.04   0.49  19.53   20.2  20.53  20.82  21.45  167.0    1.0\n",
      "mu[394]  18.54    0.05   0.65   17.3  18.11  18.56  18.97  19.74  167.0    1.0\n",
      "mu[395]  20.47    0.04   0.49   19.5  20.16   20.5  20.79  21.43  167.0    1.0\n",
      "mu[396]  21.65    0.03   0.42  20.78  21.38  21.66  21.92  22.47  167.0    1.0\n",
      "mu[397]   20.9    0.04   0.46  19.97  20.61  20.92   21.2  21.81  167.0    1.0\n",
      "mu[398]   8.18    0.13   1.72   4.81   7.02   8.16   9.31  11.58  167.0    1.0\n",
      "mu[399]  19.97    0.04   0.53   18.9  19.63   20.0  20.32  20.96  167.0    1.0\n",
      "mu[400]   13.7    0.09   1.13  11.52  12.98  13.68  14.47  15.89  167.0    1.0\n",
      "mu[401]  18.18    0.05   0.68  16.89  17.73  18.19  18.63  19.42  167.0    1.0\n",
      "mu[402]   20.1    0.04   0.52  19.04  19.77  20.13  20.44  21.08  167.0    1.0\n",
      "mu[403]   13.8    0.09   1.12  11.65  13.09  13.79  14.56  15.97  167.0    1.0\n",
      "mu[404]   6.86    0.14   1.86   3.23   5.62   6.84   8.09  10.55  167.0    1.0\n",
      "mu[405]  -4.08    0.24   3.06 -10.04  -6.18  -3.99  -2.13   1.84  167.0    1.0\n",
      "mu[406]  15.49    0.07   0.94  13.67  14.89  15.49  16.13  17.29  167.0    1.0\n",
      "mu[407]  19.13    0.05   0.59  17.95  18.72  19.15  19.52  20.21  167.0    1.0\n",
      "mu[408]  21.01    0.03   0.45  20.09  20.72  21.04  21.31   21.9  167.0    1.0\n",
      "mu[409]   18.1    0.05   0.69  16.79  17.63   18.1  18.54  19.35  167.0    1.0\n",
      "mu[410]   2.88    0.18    2.3  -1.68   1.33    2.9   4.34   7.33  167.0    1.0\n",
      "mu[411]  18.26    0.05   0.67  16.97  17.81  18.27   18.7  19.48  167.0    1.0\n",
      "mu[412]  16.28    0.07   0.86   14.6  15.71  16.27  16.87   17.9  167.0    1.0\n",
      "mu[413]   12.2     0.1   1.29   9.68  11.37   12.2  13.07  14.72  167.0    1.0\n",
      "mu[414]   5.11    0.16   2.05   1.05   3.73   5.12   6.46   9.13  167.0    1.0\n",
      "mu[415]  16.58    0.06   0.83  14.96  16.02  16.58  17.15  18.14  167.0    1.0\n",
      "mu[416]  19.59    0.04   0.56  18.47  19.21  19.62  19.97  20.61  167.0    1.0\n",
      "mu[417]  13.33    0.09   1.17  11.05  12.59  13.31  14.12   15.6  167.0    1.0\n",
      "mu[418]  -6.41    0.26   3.32 -12.84  -8.69  -6.31  -4.31   0.02  167.0    1.0\n",
      "mu[419]  19.19    0.05   0.59  18.02  18.78  19.21  19.58  20.26  167.0    1.0\n",
      "mu[420]  19.49    0.04   0.56  18.35   19.1  19.51  19.87  20.51  167.0    1.0\n",
      "mu[421]  21.17    0.03   0.44  20.27  20.88  21.19  21.46  22.05  167.0    1.0\n",
      "mu[422]  19.09    0.05    0.6  17.91  18.68  19.11  19.48  20.18  167.0    1.0\n",
      "mu[423]  21.16    0.03   0.44  20.25  20.87  21.18  21.45  22.04  167.0    1.0\n",
      "mu[424]  20.44    0.04   0.49  19.46  20.13  20.46  20.76  21.39  167.0    1.0\n",
      "mu[425]  17.51    0.06   0.74  16.07   17.0  17.52   18.0  18.89  167.0    1.0\n",
      "mu[426]   19.0    0.05   0.61  17.81   18.6  19.03   19.4  20.11  167.0    1.0\n",
      "mu[427]   8.47    0.13   1.69   5.15   7.33   8.44   9.58  11.81  167.0    1.0\n",
      "mu[428]  21.03    0.03   0.45  20.11  20.73  21.06  21.32  21.91  167.0    1.0\n",
      "mu[429]  20.21    0.04   0.51  19.17  19.88  20.23  20.54  21.18  167.0    1.0\n",
      "mu[430]  20.56    0.04   0.48   19.6  20.26  20.59  20.88  21.51  167.0    1.0\n",
      "mu[431]  19.91    0.04   0.53  18.83  19.56  19.94  20.26   20.9  167.0    1.0\n",
      "mu[432]  21.41    0.03   0.43  20.52  21.13  21.43   21.7  22.27  167.0    1.0\n",
      "mu[433]  21.77    0.03   0.41  20.92   21.5  21.78  22.04  22.58  167.0    1.0\n",
      "mu[434]  18.31    0.05   0.67  17.03  17.87  18.33  18.75  19.53  167.0    1.0\n",
      "mu[435]  19.46    0.04   0.57  18.32  19.06  19.48  19.84  20.48  167.0    1.0\n",
      "mu[436]   18.1    0.05   0.69   16.8  17.64  18.11  18.55  19.36  167.0    1.0\n",
      "mu[437]  17.79    0.06   0.72  16.42   17.3   17.8  18.26  19.13  167.0    1.0\n",
      "mu[438]  18.41    0.05   0.66  17.14  17.97  18.43  18.85  19.62  167.0    1.0\n",
      "mu[439]  20.19    0.04   0.51  19.14  19.86  20.21  20.52  21.16  167.0    1.0\n",
      "mu[440]  14.94    0.08    1.0   13.0  14.31  14.92  15.63  16.86  167.0    1.0\n",
      "mu[441]  20.05    0.04   0.52  18.99  19.71  20.07   20.4  21.03  167.0    1.0\n",
      "mu[442]  21.73    0.03   0.41  20.88  21.46  21.74  22.01  22.55  167.0    1.0\n",
      "mu[443]  19.95    0.04   0.53  18.88   19.6  19.98   20.3  20.94  167.0    1.0\n",
      "mu[444]  18.77    0.05   0.63  17.56  18.36  18.79  19.18  19.93  167.0    1.0\n",
      "mu[445]  19.66    0.04   0.55  18.55  19.28  19.69  20.03  20.67  167.0    1.0\n",
      "mu[446]  21.48    0.03   0.43  20.59   21.2   21.5  21.76  22.33  167.0    1.0\n",
      "mu[447]  19.97    0.04   0.53   18.9  19.62  19.99  20.32  20.96  167.0    1.0\n",
      "mu[448]  20.21    0.04   0.51  19.18  19.89  20.24  20.54  21.18  167.0    1.0\n",
      "mu[449]  20.96    0.04   0.46  20.04  20.67  20.99  21.25  21.85  167.0    1.0\n",
      "mu[450]   21.3    0.03   0.44   20.4  21.01  21.32  21.59  22.16  167.0    1.0\n",
      "mu[451]  21.83    0.03   0.41  20.98  21.55  21.84   22.1  22.63  167.0    1.0\n",
      "mu[452]  21.97    0.03    0.4  21.14   21.7  21.98  22.24  22.75  167.0    1.0\n",
      "mu[453]  20.66    0.04   0.47   19.7  20.36  20.69  20.97   21.6  167.0    1.0\n",
      "mu[454]  20.14    0.04   0.51  19.08  19.81  20.16  20.47  21.11  167.0    1.0\n",
      "mu[455]  22.11    0.03    0.4  21.31  21.85  22.13  22.38  22.87  167.0    1.0\n",
      "mu[456]  22.15    0.03    0.4  21.34  21.88  22.16  22.42  22.91  167.0    1.0\n",
      "mu[457]  20.68    0.04   0.47  19.72  20.38  20.71  20.99  21.62  167.0    1.0\n",
      "mu[458]  20.87    0.04   0.46  19.93  20.57  20.89  21.17  21.78  167.0    1.0\n",
      "mu[459]  21.26    0.03   0.44  20.36  20.98  21.29  21.56  22.12  167.0    1.0\n",
      "mu[460]  22.09    0.03    0.4  21.28  21.82   22.1  22.36  22.85  167.0    1.0\n",
      "mu[461]  22.55    0.03   0.38  21.78  22.28  22.56  22.82  23.27  167.0    1.0\n",
      "mu[462]  21.32    0.03   0.43  20.43  21.04  21.35  21.61  22.18  167.0    1.0\n",
      "mu[463]  21.67    0.03   0.42  20.81   21.4  21.68  21.94  22.49  167.0    1.0\n",
      "mu[464]  20.83    0.04   0.46  19.89  20.54  20.86  21.13  21.75  167.0    1.0\n",
      "mu[465]  22.77    0.03   0.38  22.02   22.5  22.78  23.03  23.48  167.0    1.0\n",
      "mu[466]  22.52    0.03   0.39  21.74  22.25  22.53  22.79  23.24  167.0    1.0\n",
      "mu[467]  22.25    0.03   0.39  21.45  21.99  22.27  22.52   23.0  167.0    1.0\n",
      "mu[468]  17.62    0.06   0.73  16.21  17.13  17.64  18.11  18.99  167.0    1.0\n",
      "mu[469]  18.66    0.05   0.64  17.43  18.24  18.68  19.08  19.84  167.0    1.0\n",
      "mu[470]  22.28    0.03   0.39  21.49  22.02   22.3  22.55  23.02  167.0    1.0\n",
      "mu[471]  22.41    0.03   0.39  21.63  22.14  22.43  22.68  23.13  167.0    1.0\n",
      "mu[472]   22.6    0.03   0.38  21.84  22.34  22.62  22.87  23.32  167.0    1.0\n",
      "mu[473]  22.16    0.03    0.4  21.35  21.89  22.17  22.43  22.92  167.0    1.0\n",
      "mu[474]  20.74    0.04   0.47  19.79  20.44  20.77  21.05  21.67  167.0    1.0\n",
      "mu[475]  21.43    0.03   0.43  20.54  21.15  21.45  21.72  22.29  167.0    1.0\n",
      "mu[476]  22.06    0.03    0.4  21.25   21.8  22.07  22.33  22.83  167.0    1.0\n",
      "mu[477]  17.85    0.05   0.71  16.49  17.37  17.86  18.32  19.18  167.0    1.0\n",
      "mu[478]  19.84    0.04   0.54  18.76  19.48  19.87   20.2  20.84  167.0    1.0\n",
      "mu[479]  18.14    0.05   0.68  16.84  17.68  18.15  18.59  19.39  167.0    1.0\n",
      "mu[480]  21.67    0.03   0.42   20.8   21.4  21.68  21.94  22.49  167.0    1.0\n",
      "mu[481]  21.72    0.03   0.41  20.86  21.45  21.73  21.99  22.53  167.0    1.0\n",
      "mu[482]  21.71    0.03   0.41  20.85  21.44  21.72  21.98  22.52  167.0    1.0\n",
      "mu[483]  22.91    0.03   0.38  22.17  22.64  22.93  23.17  23.62  167.0    1.0\n",
      "mu[484]   23.1    0.03   0.38  22.36  22.82  23.12  23.34   23.8  167.0    1.0\n",
      "mu[485]  22.56    0.03   0.38  21.79  22.29  22.57  22.83  23.28  167.0    1.0\n",
      "mu[486]  21.72    0.03   0.41  20.87  21.45  21.73   22.0  22.54  167.0    1.0\n",
      "mu[487]  22.08    0.03    0.4  21.27  21.81  22.09  22.35  22.84  167.0    1.0\n",
      "mu[488]  24.02    0.03   0.39  23.27  23.77  24.04  24.25  24.75  167.0    1.0\n",
      "mu[489]  24.01    0.03   0.39  23.26  23.76  24.02  24.24  24.74  167.0    1.0\n",
      "mu[490]   24.0    0.03   0.39  23.25  23.75  24.01  24.23  24.72  167.0    1.0\n",
      "mu[491]  24.04    0.03   0.39  23.29  23.78  24.05  24.27  24.77  167.0    1.0\n",
      "mu[492]  24.04    0.03   0.39  23.29  23.78  24.05  24.27  24.77  167.0    1.0\n",
      "mu[493]  24.01    0.03   0.39  23.26  23.76  24.03  24.24  24.74  167.0    1.0\n",
      "mu[494]  23.97    0.03   0.38  23.22  23.71  23.99  24.21  24.69  167.0    1.0\n",
      "mu[495]  24.01    0.03   0.39  23.26  23.76  24.03  24.24  24.74  167.0    1.0\n",
      "mu[496]  23.96    0.03   0.38  23.22  23.71  23.98   24.2  24.69  167.0    1.0\n",
      "mu[497]  23.97    0.03   0.38  23.23  23.72  23.99  24.21   24.7  167.0    1.0\n",
      "mu[498]  23.98    0.03   0.39  23.24  23.73   24.0  24.22  24.71  167.0    1.0\n",
      "mu[499]  24.01    0.03   0.39  23.26  23.76  24.03  24.24  24.74  167.0    1.0\n",
      "mu[500]  23.99    0.03   0.39  23.24  23.74  24.01  24.23  24.72  167.0    1.0\n",
      "mu[501]  24.06    0.03   0.39   23.3   23.8  24.07  24.29  24.79  167.0    1.0\n",
      "mu[502]  24.06    0.03   0.39  23.31  23.81  24.08   24.3   24.8  167.0    1.0\n",
      "mu[503]  24.06    0.03   0.39   23.3   23.8  24.07  24.29  24.79  167.0    1.0\n",
      "mu[504]  24.04    0.03   0.39  23.29  23.78  24.05  24.27  24.77  167.0    1.0\n",
      "mu[505]  24.06    0.03   0.39  23.31  23.81  24.08  24.29   24.8  167.0    1.0\n",
      "lp__     -1335    0.12    1.3  -1338  -1336  -1335  -1334  -1334  122.0    1.0\n",
      "\n",
      "Samples were drawn using NUTS at Tue Jul 26 16:14:21 2016.\n",
      "For each parameter, n_eff is a crude measure of effective sample size,\n",
      "and Rhat is the potential scale reduction factor on split chains (at \n",
      "convergence, Rhat=1).\n"
     ]
    }
   ],
   "source": [
    "#Print your model here\n",
    "\n",
    "print(model)\n"
   ]
  },
  {
   "cell_type": "code",
   "execution_count": null,
   "metadata": {
    "collapsed": true
   },
   "outputs": [],
   "source": []
  }
 ],
 "metadata": {
  "kernelspec": {
   "display_name": "Python 2",
   "language": "python",
   "name": "python2"
  },
  "language_info": {
   "codemirror_mode": {
    "name": "ipython",
    "version": 2
   },
   "file_extension": ".py",
   "mimetype": "text/x-python",
   "name": "python",
   "nbconvert_exporter": "python",
   "pygments_lexer": "ipython2",
   "version": "2.7.12"
  }
 },
 "nbformat": 4,
 "nbformat_minor": 0
}
